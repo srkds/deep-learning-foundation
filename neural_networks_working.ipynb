{
  "nbformat": 4,
  "nbformat_minor": 0,
  "metadata": {
    "colab": {
      "provenance": []
    },
    "kernelspec": {
      "name": "python3",
      "display_name": "Python 3"
    },
    "language_info": {
      "name": "python"
    }
  },
  "cells": [
    {
      "cell_type": "code",
      "source": [
        "from math import log, e"
      ],
      "metadata": {
        "id": "tBRyNZystCtr"
      },
      "execution_count": null,
      "outputs": []
    },
    {
      "cell_type": "code",
      "source": [
        "\n",
        "class Node:\n",
        "  def __init__(self, input):\n",
        "    self.input = input\n",
        "    self.value = None\n",
        "    self.weight = None\n",
        "    self.bias = None\n",
        "\n",
        "  def getValue(self):\n",
        "    self.value = self.activation()\n",
        "    return self.value\n",
        "\n",
        "  def activation(self):\n",
        "    return log(1+e**self.connection())\n",
        "\n",
        "  def connection(self):\n",
        "    return (self.input*self.weight)+self.bias\n"
      ],
      "metadata": {
        "id": "YT5z9GsIrtD4"
      },
      "execution_count": null,
      "outputs": []
    },
    {
      "cell_type": "code",
      "source": [],
      "metadata": {
        "id": "OW4oal9Iup9b"
      },
      "execution_count": null,
      "outputs": []
    },
    {
      "cell_type": "code",
      "source": [
        "ipNode = Node(0)\n",
        "ipNode.input\n",
        "ipNode.value = 0"
      ],
      "metadata": {
        "id": "h8TLnmHltSTN"
      },
      "execution_count": null,
      "outputs": []
    },
    {
      "cell_type": "code",
      "source": [
        "top_1_h1 = Node(ipNode.value)\n",
        "\n",
        "top_1_h1.input\n",
        "\n",
        "top_1_h1.weight = -34.4\n",
        "top_1_h1.bias = 2.14\n",
        "\n",
        "top_1_h1.connection()"
      ],
      "metadata": {
        "colab": {
          "base_uri": "https://localhost:8080/"
        },
        "id": "gq6CSQiNurEx",
        "outputId": "39ffa7e4-f03f-4a44-fb8b-613584792217"
      },
      "execution_count": null,
      "outputs": [
        {
          "output_type": "execute_result",
          "data": {
            "text/plain": [
              "2.14"
            ]
          },
          "metadata": {},
          "execution_count": 17
        }
      ]
    },
    {
      "cell_type": "code",
      "source": [
        "bottom_1_h = Node()"
      ],
      "metadata": {
        "id": "ZqqaFODOuqxD"
      },
      "execution_count": null,
      "outputs": []
    },
    {
      "cell_type": "code",
      "execution_count": null,
      "metadata": {
        "colab": {
          "base_uri": "https://localhost:8080/"
        },
        "id": "M4s3iw8qnjMu",
        "outputId": "306180ec-9fa5-4880-8f64-32dc2466fc77"
      },
      "outputs": [
        {
          "output_type": "execute_result",
          "data": {
            "text/plain": [
              "2.14"
            ]
          },
          "metadata": {},
          "execution_count": 1
        }
      ],
      "source": [
        "(0*-34.4)+2.14  # x axis cordinates for activation function"
      ]
    },
    {
      "cell_type": "markdown",
      "source": [],
      "metadata": {
        "id": "IruKTqdVrset"
      }
    },
    {
      "cell_type": "code",
      "source": [
        "##\n",
        "from math import log, e\n",
        "\n",
        "log(1+e**2.14) # soft plus for activation function\n",
        "\n",
        "# gives y axis cordinates\n"
      ],
      "metadata": {
        "colab": {
          "base_uri": "https://localhost:8080/"
        },
        "id": "c70F1X-mCnlY",
        "outputId": "98437d4c-8f95-4efa-ea90-aef55f1a6681"
      },
      "execution_count": null,
      "outputs": [
        {
          "output_type": "execute_result",
          "data": {
            "text/plain": [
              "2.2512325998949305"
            ]
          },
          "metadata": {},
          "execution_count": 4
        }
      ]
    },
    {
      "cell_type": "code",
      "source": [
        "import matplotlib.pyplot as plt"
      ],
      "metadata": {
        "id": "HN5ns8I_FQKe"
      },
      "execution_count": null,
      "outputs": []
    },
    {
      "cell_type": "code",
      "source": [
        "(0.1*-34.4)+2.14"
      ],
      "metadata": {
        "colab": {
          "base_uri": "https://localhost:8080/"
        },
        "id": "s1VN2n-2DDol",
        "outputId": "bcc93f4b-f22d-470b-e445-b890b284b7ac"
      },
      "execution_count": null,
      "outputs": [
        {
          "output_type": "execute_result",
          "data": {
            "text/plain": [
              "-1.2999999999999998"
            ]
          },
          "metadata": {},
          "execution_count": 5
        }
      ]
    },
    {
      "cell_type": "code",
      "source": [
        "def connection(input):\n",
        "  return (input*-34.4)+2.14\n",
        "\n",
        "def sfActiv(x):\n",
        "  return log(1+e**x) ## soft plus function"
      ],
      "metadata": {
        "id": "Zjs9c6hVERAV"
      },
      "execution_count": null,
      "outputs": []
    },
    {
      "cell_type": "code",
      "source": [
        "sfActiv(connection(0))"
      ],
      "metadata": {
        "colab": {
          "base_uri": "https://localhost:8080/"
        },
        "id": "HRuI_SZgEobu",
        "outputId": "d226f86c-6034-4b8d-b4bb-9973c894463f"
      },
      "execution_count": null,
      "outputs": [
        {
          "output_type": "execute_result",
          "data": {
            "text/plain": [
              "2.2512325998949305"
            ]
          },
          "metadata": {},
          "execution_count": 8
        }
      ]
    },
    {
      "cell_type": "code",
      "source": [
        "plt.plot([0,0.1,0.4,0.6,1], [1,1,1,1,1])\n",
        "plt.scatter([0],[2.2512325998949305])"
      ],
      "metadata": {
        "colab": {
          "base_uri": "https://localhost:8080/",
          "height": 447
        },
        "id": "wR_SuUonFbI5",
        "outputId": "9408656a-5c3f-4285-ac22-a19937fd313a"
      },
      "execution_count": null,
      "outputs": [
        {
          "output_type": "execute_result",
          "data": {
            "text/plain": [
              "<matplotlib.collections.PathCollection at 0x781ff0a52950>"
            ]
          },
          "metadata": {},
          "execution_count": 8
        },
        {
          "output_type": "display_data",
          "data": {
            "text/plain": [
              "<Figure size 640x480 with 1 Axes>"
            ],
            "image/png": "[encoded data removed]"
          },
          "metadata": {}
        }
      ]
    },
    {
      "cell_type": "code",
      "source": [
        "esfActiv(connection(0.1))"
      ],
      "metadata": {
        "colab": {
          "base_uri": "https://localhost:8080/"
        },
        "id": "lW7P1e7FFF6u",
        "outputId": "9bd88340-d2ee-4bb5-d7c7-6d1e11774ff5"
      },
      "execution_count": null,
      "outputs": [
        {
          "output_type": "execute_result",
          "data": {
            "text/plain": [
              "0.24100845383299216"
            ]
          },
          "metadata": {},
          "execution_count": 9
        }
      ]
    },
    {
      "cell_type": "code",
      "source": [
        "plt.plot([0,0.1,0.4,0.6,1], [1,1,1,1,1])\n",
        "plt.scatter([0],[2.2512325998949305])\n",
        "plt.scatter([0.1],[0.24100845383299216])"
      ],
      "metadata": {
        "colab": {
          "base_uri": "https://localhost:8080/",
          "height": 447
        },
        "id": "35_v1rVpGLLh",
        "outputId": "be3291bd-979a-4a9e-af96-778dc9df0c0b"
      },
      "execution_count": null,
      "outputs": [
        {
          "output_type": "execute_result",
          "data": {
            "text/plain": [
              "<matplotlib.collections.PathCollection at 0x781ff09483d0>"
            ]
          },
          "metadata": {},
          "execution_count": 10
        },
        {
          "output_type": "display_data",
          "data": {
            "text/plain": [
              "<Figure size 640x480 with 1 Axes>"
            ],
            "image/png": "[encoded data removed]"
          },
          "metadata": {}
        }
      ]
    },
    {
      "cell_type": "code",
      "source": [
        "sfActiv(connection(0.4))"
      ],
      "metadata": {
        "colab": {
          "base_uri": "https://localhost:8080/"
        },
        "id": "E5aOR1rSFIq9",
        "outputId": "cc4ed642-c9ce-47a0-eb53-d12e744d355f"
      },
      "execution_count": null,
      "outputs": [
        {
          "output_type": "execute_result",
          "data": {
            "text/plain": [
              "8.984546677413703e-06"
            ]
          },
          "metadata": {},
          "execution_count": 10
        }
      ]
    },
    {
      "cell_type": "code",
      "source": [
        "plt.plot([0,0.1,0.4,0.6,1], [1,1,1,1,1])\n",
        "plt.scatter([0],[2.2512325998949305])\n",
        "plt.scatter([0.1],[0.24100845383299216])\n",
        "plt.scatter([0.4],[8.984546677413703e-06])"
      ],
      "metadata": {
        "colab": {
          "base_uri": "https://localhost:8080/",
          "height": 447
        },
        "id": "UYSc2QypGbim",
        "outputId": "01b996f4-3463-4b96-85ab-f2235fe2b8de"
      },
      "execution_count": null,
      "outputs": [
        {
          "output_type": "execute_result",
          "data": {
            "text/plain": [
              "<matplotlib.collections.PathCollection at 0x781ff0845210>"
            ]
          },
          "metadata": {},
          "execution_count": 12
        },
        {
          "output_type": "display_data",
          "data": {
            "text/plain": [
              "<Figure size 640x480 with 1 Axes>"
            ],
            "image/png": "[encoded data removed]"
          },
          "metadata": {}
        }
      ]
    },
    {
      "cell_type": "code",
      "source": [
        "sfActiv(connection(0.6))"
      ],
      "metadata": {
        "colab": {
          "base_uri": "https://localhost:8080/"
        },
        "id": "kRD3_3h3FQjF",
        "outputId": "8bbece1a-977a-47fb-9fd7-ab7bec5344f0"
      },
      "execution_count": null,
      "outputs": [
        {
          "output_type": "execute_result",
          "data": {
            "text/plain": [
              "9.237449651389806e-09"
            ]
          },
          "metadata": {},
          "execution_count": 11
        }
      ]
    },
    {
      "cell_type": "code",
      "source": [
        "sfActiv(connection(1))"
      ],
      "metadata": {
        "colab": {
          "base_uri": "https://localhost:8080/"
        },
        "id": "NQoLHi6SFim1",
        "outputId": "6c88f584-2571-4b18-9e44-e7d056f4d643"
      },
      "execution_count": null,
      "outputs": [
        {
          "output_type": "execute_result",
          "data": {
            "text/plain": [
              "9.76996261670133e-15"
            ]
          },
          "metadata": {},
          "execution_count": 12
        }
      ]
    },
    {
      "cell_type": "code",
      "source": [
        "import matplotlib.pyplot as plt\n"
      ],
      "metadata": {
        "id": "iH5_W_QdFshG"
      },
      "execution_count": null,
      "outputs": []
    },
    {
      "cell_type": "code",
      "source": [
        "plt.plot([0,0.1,0.4,0.6,1], [2.25,0.24, 8.984546677413703e-06,9.237449651389806e-09,9.76996261670133e-15])\n",
        "plt.plot([0,0.1,0.4,0.6,1], [-2.9250000000000003, -0.312, -1.1679910680637815e-05, -1.2008684546806748e-08, -1.270095140171173e-14])\n",
        "plt.plot([0,0.1,0.4,0.6,1], [1.533158534955108, 1.3411830334097958, 0.8440549162893263, 0.5882950713831167, 0.25641783303708743])\n",
        "plt.plot([0,0.1,0.4,0.6,1], [3.495601459697646, 3.0578973161743344, 1.9244452091396638, 1.3413127627535057, 0.5846326593245593])\n",
        "plt.plot([0,0.1,0.4,0.6,1], [-0.009398540302354319, 2.1658973161743345, 1.3444335292289833, 0.7613127507448213, 0.004632659324546706])\n",
        "plt.scatter([0.5], [1.0348316875442132])\n",
        "\n",
        "\n"
      ],
      "metadata": {
        "colab": {
          "base_uri": "https://localhost:8080/",
          "height": 447
        },
        "id": "pvWLy080GSBF",
        "outputId": "7935e243-24d2-4472-bb30-ebdbe7af5a65"
      },
      "execution_count": null,
      "outputs": [
        {
          "output_type": "execute_result",
          "data": {
            "text/plain": [
              "<matplotlib.collections.PathCollection at 0x7957865728c0>"
            ]
          },
          "metadata": {},
          "execution_count": 41
        },
        {
          "output_type": "display_data",
          "data": {
            "text/plain": [
              "<Figure size 640x480 with 1 Axes>"
            ],
            "image/png": "[encoded data removed]"
          },
          "metadata": {}
        }
      ]
    },
    {
      "cell_type": "code",
      "source": [
        "[2.25,0.24, 8.984546677413703e-06,9.237449651389806e-09,9.76996261670133e-15]*(-1.30)"
      ],
      "metadata": {
        "colab": {
          "base_uri": "https://localhost:8080/",
          "height": 176
        },
        "id": "gGlxsR8cIzX3",
        "outputId": "0e694471-cf6e-49e0-fbe2-a9547a3cfa9a"
      },
      "execution_count": null,
      "outputs": [
        {
          "output_type": "error",
          "ename": "TypeError",
          "evalue": "ignored",
          "traceback": [
            "\u001b[0;31m---------------------------------------------------------------------------\u001b[0m",
            "\u001b[0;31mTypeError\u001b[0m                                 Traceback (most recent call last)",
            "\u001b[0;32m<ipython-input-17-231d42a26065>\u001b[0m in \u001b[0;36m<cell line: 1>\u001b[0;34m()\u001b[0m\n\u001b[0;32m----> 1\u001b[0;31m \u001b[0mfloat\u001b[0m\u001b[0;34m(\u001b[0m\u001b[0;34m[\u001b[0m\u001b[0;36m2.25\u001b[0m\u001b[0;34m,\u001b[0m\u001b[0;36m0.24\u001b[0m\u001b[0;34m,\u001b[0m \u001b[0;36m8.984546677413703e-06\u001b[0m\u001b[0;34m,\u001b[0m\u001b[0;36m9.237449651389806e-09\u001b[0m\u001b[0;34m,\u001b[0m\u001b[0;36m9.76996261670133e-15\u001b[0m\u001b[0;34m]\u001b[0m\u001b[0;34m)\u001b[0m\u001b[0;34m*\u001b[0m\u001b[0;34m(\u001b[0m\u001b[0;34m-\u001b[0m\u001b[0;36m1.30\u001b[0m\u001b[0;34m)\u001b[0m\u001b[0;34m\u001b[0m\u001b[0;34m\u001b[0m\u001b[0m\n\u001b[0m",
            "\u001b[0;31mTypeError\u001b[0m: float() argument must be a string or a real number, not 'list'"
          ]
        }
      ]
    },
    {
      "cell_type": "code",
      "source": [
        "# top Node curve scaling\n",
        " [float(i)*-1.30 for i in [2.25,0.24, 8.984546677413703e-06,9.237449651389806e-09,9.76996261670133e-15]]"
      ],
      "metadata": {
        "colab": {
          "base_uri": "https://localhost:8080/"
        },
        "id": "owAyOmfWJRuV",
        "outputId": "f449aac8-54b2-4338-b520-c5881fddfc35"
      },
      "execution_count": null,
      "outputs": [
        {
          "output_type": "execute_result",
          "data": {
            "text/plain": [
              "[-2.9250000000000003,\n",
              " -0.312,\n",
              " -1.1679910680637815e-05,\n",
              " -1.2008684546806748e-08,\n",
              " -1.270095140171173e-14]"
            ]
          },
          "metadata": {},
          "execution_count": 18
        }
      ]
    },
    {
      "cell_type": "code",
      "source": [
        "# Node 2\n",
        "\n",
        "def connection2(input):\n",
        "  return (input*-2.52)+1.29\n",
        "\n",
        "def sfActiv2(x):\n",
        "  return log(1+e**x) ## soft plus function"
      ],
      "metadata": {
        "id": "oa5m3U9NKIbW"
      },
      "execution_count": null,
      "outputs": []
    },
    {
      "cell_type": "code",
      "source": [
        "sfActiv2(connection2(0))"
      ],
      "metadata": {
        "colab": {
          "base_uri": "https://localhost:8080/"
        },
        "id": "NMbS9_F3K2IO",
        "outputId": "de2be7cf-c9a9-4af5-99b7-81ed14ace112"
      },
      "execution_count": null,
      "outputs": [
        {
          "output_type": "execute_result",
          "data": {
            "text/plain": [
              "1.533158534955108"
            ]
          },
          "metadata": {},
          "execution_count": 21
        }
      ]
    },
    {
      "cell_type": "code",
      "source": [
        "[sfActiv2(connection2(i)) for i in [0,0.1,0.4,0.6,1]]"
      ],
      "metadata": {
        "colab": {
          "base_uri": "https://localhost:8080/"
        },
        "id": "ZQHBRDsIK7bl",
        "outputId": "eca1918a-85a2-4baa-eb3e-8928108bfe7f"
      },
      "execution_count": null,
      "outputs": [
        {
          "output_type": "execute_result",
          "data": {
            "text/plain": [
              "[1.533158534955108,\n",
              " 1.3411830334097958,\n",
              " 0.8440549162893263,\n",
              " 0.5882950713831167,\n",
              " 0.25641783303708743]"
            ]
          },
          "metadata": {},
          "execution_count": 22
        }
      ]
    },
    {
      "cell_type": "code",
      "source": [
        " [(i*2.28) for i in [1.533158534955108, 1.3411830334097958, 0.8440549162893263, 0.5882950713831167, 0.25641783303708743]]"
      ],
      "metadata": {
        "colab": {
          "base_uri": "https://localhost:8080/"
        },
        "id": "v5ikY7hJLYPo",
        "outputId": "6362eef4-bc36-4d5a-880a-3c7fcaf1ca1e"
      },
      "execution_count": null,
      "outputs": [
        {
          "output_type": "execute_result",
          "data": {
            "text/plain": [
              "[3.495601459697646,\n",
              " 3.0578973161743344,\n",
              " 1.9244452091396638,\n",
              " 1.3413127627535057,\n",
              " 0.5846326593245593]"
            ]
          },
          "metadata": {},
          "execution_count": 24
        }
      ]
    },
    {
      "cell_type": "code",
      "source": [
        "yb = [-2.9250000000000003, -0.312, -1.1679910680637815e-05, -1.2008684546806748e-08, -1.270095140171173e-14]\n",
        "\n",
        "yo = [3.495601459697646, 3.0578973161743344, 1.9244452091396638, 1.3413127627535057, 0.5846326593245593]\n",
        "\n",
        "[(yb[i]+yo[i])-0.58 for i in range(0,5)]\n"
      ],
      "metadata": {
        "colab": {
          "base_uri": "https://localhost:8080/"
        },
        "id": "II6hVkNIMGBu",
        "outputId": "c5899121-d08e-4a03-e20a-eead2a431ad1"
      },
      "execution_count": null,
      "outputs": [
        {
          "output_type": "execute_result",
          "data": {
            "text/plain": [
              "[-0.009398540302354319,\n",
              " 2.1658973161743345,\n",
              " 1.3444335292289833,\n",
              " 0.7613127507448213,\n",
              " 0.004632659324546706]"
            ]
          },
          "metadata": {},
          "execution_count": 30
        }
      ]
    },
    {
      "cell_type": "code",
      "source": [
        "def node1(ip):\n",
        "  return sfActiv(connection(ip))\n",
        "\n",
        "def node2(ip):\n",
        "  return sfActiv2(connection2(ip))\n",
        "\n",
        "def finalNode(ip1, ip2):\n",
        "  return ((ip1*-1.30) + (ip2*2.28))+(-0.58)"
      ],
      "metadata": {
        "id": "eN8-j-rIM2sv"
      },
      "execution_count": null,
      "outputs": []
    },
    {
      "cell_type": "code",
      "source": [
        "o1 = node1(0.5)\n",
        "o2 = node2(0.5)\n",
        "print(finalNode(o1,o2))"
      ],
      "metadata": {
        "colab": {
          "base_uri": "https://localhost:8080/"
        },
        "id": "-VmjPZWPQAeX",
        "outputId": "b19148ee-bad3-4f4d-fc7c-cbc7c8d4b49c"
      },
      "execution_count": null,
      "outputs": [
        {
          "output_type": "stream",
          "name": "stdout",
          "text": [
            "1.0348316875442132\n"
          ]
        }
      ]
    },
    {
      "cell_type": "code",
      "source": [],
      "metadata": {
        "id": "X9gmYsnTQNZf"
      },
      "execution_count": null,
      "outputs": []
    }
  ]
}