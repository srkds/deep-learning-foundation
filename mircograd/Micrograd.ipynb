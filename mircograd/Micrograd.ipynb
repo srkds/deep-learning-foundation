{
  "cells": [
    {
      "cell_type": "markdown",
      "metadata": {
        "id": "K6TykwVbWCbn"
      },
      "source": [
        "# Neural Networks\n",
        "----\n",
        "Micrograd: Autograd: automatic engine, implements backpropagation.\n",
        "\n",
        "Backpropagation: is an algorithm that allows you to efficiently evaluate the gradient of a loss function with respect to weights of the NN.\n",
        "\n",
        "That allows us to we can iteratively tune the weight of network to minimize the loss function and therefore improve the accuracy of the network.\n",
        "\n",
        "Backpropagation could be at the mathematical core of any modern deep neural libraries. like Pytorch or jax.\n",
        "\n",
        "**NN:** just a mathematical expressions, they take the input data as input and weights of a neural networks as a input and mathematical expression. And output is your predictions of your NN or loss function"
      ]
    },
    {
      "cell_type": "markdown",
      "metadata": {
        "id": "10NG5ut8staB"
      },
      "source": [
        "# 1st Good understanding is what derivative is and what information it gives you .\n"
      ]
    },
    {
      "cell_type": "code",
      "execution_count": 1,
      "metadata": {
        "id": "aJe4j4Bz0XXv"
      },
      "outputs": [],
      "source": [
        "import math\n",
        "import numpy as np\n",
        "import matplotlib.pyplot as plt\n",
        "%matplotlib inline"
      ]
    },
    {
      "cell_type": "code",
      "execution_count": 2,
      "metadata": {
        "id": "SQwSjJr2WBm4"
      },
      "outputs": [],
      "source": [
        "## defining a scaler valued function f(x)\n",
        "\n",
        "def f(x):\n",
        "  ## takes single scaler x and returns single scaler y\n",
        "  return 3*x**2 - 4*x + 5"
      ]
    },
    {
      "cell_type": "code",
      "execution_count": 3,
      "metadata": {
        "colab": {
          "base_uri": "https://localhost:8080/"
        },
        "id": "AoWYbA7NtfMa",
        "outputId": "9ee1d9cf-2473-4b78-8426-81d9b9062002"
      },
      "outputs": [
        {
          "output_type": "execute_result",
          "data": {
            "text/plain": [
              "20.0"
            ]
          },
          "metadata": {},
          "execution_count": 3
        }
      ],
      "source": [
        "f(3.0)"
      ]
    },
    {
      "cell_type": "markdown",
      "metadata": {
        "id": "-vQj_fPbuM2D"
      },
      "source": [
        "Thats for only one value x.\n",
        "\n",
        "we can draw a parabola with multiple valuees.\n",
        "\n",
        "let say get value from -5 to 5\n",
        "and get its y values and plot."
      ]
    },
    {
      "cell_type": "code",
      "execution_count": 4,
      "metadata": {
        "colab": {
          "base_uri": "https://localhost:8080/",
          "height": 517
        },
        "id": "dFnlnuDBtggO",
        "outputId": "4803645d-247f-44b8-d7ed-c4f7e1220416"
      },
      "outputs": [
        {
          "output_type": "stream",
          "name": "stdout",
          "text": [
            "[-5.   -4.75 -4.5  -4.25 -4.   -3.75 -3.5  -3.25 -3.   -2.75 -2.5  -2.25\n",
            " -2.   -1.75 -1.5  -1.25 -1.   -0.75 -0.5  -0.25  0.    0.25  0.5   0.75\n",
            "  1.    1.25  1.5   1.75  2.    2.25  2.5   2.75  3.    3.25  3.5   3.75\n",
            "  4.    4.25  4.5   4.75]\n"
          ]
        },
        {
          "output_type": "execute_result",
          "data": {
            "text/plain": [
              "[<matplotlib.lines.Line2D at 0x7d7ca86a2890>]"
            ]
          },
          "metadata": {},
          "execution_count": 4
        },
        {
          "output_type": "display_data",
          "data": {
            "text/plain": [
              "<Figure size 640x480 with 1 Axes>"
            ],
            "image/png": "[encoded data removed]"
          },
          "metadata": {}
        }
      ],
      "source": [
        "xs = np.arange(-5,5,0.25)\n",
        "print(xs)\n",
        "ys = f(xs)\n",
        "plt.plot(xs,ys)"
      ]
    },
    {
      "cell_type": "markdown",
      "metadata": {
        "id": "C9Ncjx0fuqQP"
      },
      "source": [
        "As we can see if we give 3.0 as x and it will give us y as 20, can be seen on graph\n",
        "\n",
        "Now Think what is the derivative of function `f(x)` at any single input `x`. derivative of function at different point of `x`.\n",
        "\n",
        "In school we would do all the calculations on the paper and derive the equation and then pass all the x values to get derivatives.\n",
        "\n",
        "But here we are not going to do that because no one in neural networks writes out expressions for the NN. It would be tens of thousands of terms that derives the derivative.\n",
        "\n",
        "Instead of symbolic aproach we have to understand what derivative(defination of derivative) is and understand what derivative is measuring, what it is telling you about the function\n",
        "\n",
        "---\n",
        "\n",
        "## Derivative of a function f(x)\n",
        "\n",
        "$$ L = \\lim_{h \\to 0} \\frac{f(x+h)-f(x)}{h} $$\n",
        "\n",
        "What it is saying is that if you slightly bump up the, you are at some point `x` you are intrested in, and if you slightly bumpup `x` by small number `h`, how does the function respond, what is the slope at that point, does the function go up or down and by how much. the slope of that function or responce at that point.\n",
        "\n",
        "\n",
        "So we can evaluate derivative here numerically by taking the a very small `h`\n",
        "\n",
        "\n"
      ]
    },
    {
      "cell_type": "markdown",
      "metadata": {
        "id": "_1couXgx1XvM"
      },
      "source": [
        "Take\n",
        "\n",
        "refere graph with x its corresponding y values\n",
        "```py\n",
        "h = 0.0001\n",
        "x = 3.0\n",
        "\n",
        "f(x) # output will be 20\n",
        "\n",
        "# so doing f(x + h) will it be greater than 20 or will be down?\n",
        "\n",
        "f(x + h) # 20.001400030\n",
        "\n",
        "## the value is slightly up\n",
        "\n",
        "## how much function responded?\n",
        "f(x+h) - f(x) # 0.0014000300000063248 function responded in a positive direction\n",
        "\n",
        "\n",
        "# then normalize by the run, so rize over run to get slope\n",
        "(f(x + h) - f(x))/h # 14.000300000063248\n",
        "```\n",
        "\n",
        "Here we have to take `h`'s value very very small amount to get the exsect value.\n",
        "\n",
        "so at `x = 3` the slope is `14`\n",
        "\n",
        "### slope at `x = -3`?\n",
        "\n",
        "telling exact value is hard but what will be the sign of the value?\n",
        "\n",
        "from the graph try to ans.\n",
        "\n",
        "so for -3 if we go slightly in a positive direction then function will go down.\n",
        "\n",
        "we will get slightly below 20.\n",
        "\n",
        "```py\n",
        "h = 0.0001\n",
        "x = -3.0\n",
        "\n",
        "f(x) # output will be 44.0\n",
        "\n",
        "# so doing f(x + h) will it be greater than 40.0 or will be down?\n",
        "\n",
        "f(x + h) # 43.99780002999999, value decreased\n",
        "\n",
        "## the value is slightly down\n",
        "\n",
        "## how much function responded?\n",
        "f(x+h) - f(x) # -0.0021999700000066014 function responded in a negative direction\n",
        "\n",
        "\n",
        "# then normalize by the run, so rize over run to get slope\n",
        "(f(x + h) - f(x))/h # -21.999700000066014\n",
        "```\n",
        "\n",
        "> 💡 and some point at graph the **slope will be `0`** like at x = 2/3"
      ]
    },
    {
      "cell_type": "code",
      "execution_count": 5,
      "metadata": {
        "colab": {
          "base_uri": "https://localhost:8080/"
        },
        "id": "qozekY_2t_ZZ",
        "outputId": "e35c539c-7687-4f23-8e68-c2a1083880ee"
      },
      "outputs": [
        {
          "output_type": "execute_result",
          "data": {
            "text/plain": [
              "-21.999700000066014"
            ]
          },
          "metadata": {},
          "execution_count": 5
        }
      ],
      "source": [
        "h = 0.0001\n",
        "x = -3.0\n",
        "# f(x)\n",
        "(f(x + h) - f(x))/h"
      ]
    },
    {
      "cell_type": "markdown",
      "metadata": {
        "id": "fSHvjhQo77gS"
      },
      "source": [
        "## Explaination of below code\n",
        "\n",
        "function of 3 scaler input a, b, and c as ouput as d\n",
        "`d = a*b+c`\n",
        "\n",
        "a = 2.0\n",
        "\n",
        "b = -3.0\n",
        "\n",
        "c = 10.0\n",
        "\n",
        "3 inputs to our expression graph and single o/p `d`\n",
        "\n",
        "printing `d` we get `4.0` as o/p\n",
        "\n",
        "⛳️ we want to take derivative of `d` with respect to `a`, `b`, and `c`. and thinking what derivative is telling"
      ]
    },
    {
      "cell_type": "code",
      "execution_count": 6,
      "metadata": {
        "colab": {
          "base_uri": "https://localhost:8080/"
        },
        "id": "kEpcJzoTLgdZ",
        "outputId": "e38a66ab-d61c-4f8f-a4a7-11d9b7090b47"
      },
      "outputs": [
        {
          "output_type": "stream",
          "name": "stdout",
          "text": [
            "4.0\n"
          ]
        }
      ],
      "source": [
        "# more complex example\n",
        "a = 2.0\n",
        "b = -3.0\n",
        "c = 10.0\n",
        "\n",
        "d = a*b+c # function of three scaler inputs a,b, and c with output as d\n",
        "print(d)"
      ]
    },
    {
      "cell_type": "markdown",
      "metadata": {
        "id": "xv05Cf4NGNbR"
      },
      "source": [
        "1st taking derivative of `d1` wrt `a`"
      ]
    },
    {
      "cell_type": "code",
      "execution_count": 7,
      "metadata": {
        "colab": {
          "base_uri": "https://localhost:8080/"
        },
        "id": "1ajnWoMt8YqS",
        "outputId": "16a7c6f3-82f8-4725-8443-3c7fdc9e125d"
      },
      "outputs": [
        {
          "output_type": "stream",
          "name": "stdout",
          "text": [
            "d1 4.0\n",
            "d2 4.0001\n",
            "slope 0.9999999999976694\n"
          ]
        }
      ],
      "source": [
        "h = 0.0001 # taking small h\n",
        "\n",
        "# inputs\n",
        "a = 2.0\n",
        "b = -3.0\n",
        "c = 10.0\n",
        "\n",
        "d1 = a*b+c\n",
        "\n",
        "c += h\n",
        "\n",
        "d2 = a*b+c\n",
        "\n",
        "print('d1', d1)\n",
        "print('d2', d2)\n",
        "print('slope', (d2-d1)/h)"
      ]
    },
    {
      "cell_type": "markdown",
      "metadata": {
        "id": "B2nXRrk4ROeT"
      },
      "source": []
    },
    {
      "cell_type": "code",
      "execution_count": 7,
      "metadata": {
        "id": "666beAzxINtI"
      },
      "outputs": [],
      "source": []
    },
    {
      "cell_type": "markdown",
      "metadata": {
        "id": "RK1331KIWu0a"
      },
      "source": [
        "NNs are prety massive math expressions so we need some data structures that maintain these expressions.\n",
        "\n",
        "Let's start to build out"
      ]
    },
    {
      "cell_type": "code",
      "execution_count": 68,
      "metadata": {
        "id": "q3f-dWZKIWZh"
      },
      "outputs": [],
      "source": [
        "class Value():\n",
        "\n",
        "  def __init__(self, data, _children=(), _op='', label=''):\n",
        "    \"\"\"\n",
        "    @params:\n",
        "    data: actual value\n",
        "    _children: default empty tuple,\n",
        "    \"\"\"\n",
        "    self.data = data\n",
        "    self.grad = 0.0 # initially it will be zero\n",
        "    self._backward = lambda: None\n",
        "    self._prev = set(_children)\n",
        "    self._op = _op\n",
        "    self.label = label\n",
        "\n",
        "  def __repr__(self):\n",
        "    return f\"Value(data={self.data})\"\n",
        "\n",
        "  def __add__(self, other):\n",
        "    other = other if isinstance(other, Value) else Value(other) # for ValueObject + constant eg. a + 1\n",
        "    out = Value(self.data + other.data, (self, other), '+')\n",
        "\n",
        "    def _backward():\n",
        "      self.grad += 1.0 * out.grad # += to accumulate gradient in all backward\n",
        "      other.grad += 1.0 * out.grad\n",
        "    out._backward = _backward\n",
        "    return out\n",
        "\n",
        "  def __mul__(self, other):\n",
        "    other = other if isinstance(other, Value) else Value(other)\n",
        "    out = Value(self.data * other.data, (self, other), '*')\n",
        "\n",
        "    def _backward():\n",
        "      self.grad += other.data * out.grad\n",
        "      other.grad += self.data * out.grad\n",
        "    out._backward = _backward\n",
        "    return out\n",
        "\n",
        "  def __pow__(self, other):\n",
        "    assert isinstance(other, (int, float)), \"allowing int or float as of now\"\n",
        "    out = Value(self.data**other, (self,), f'**{other}')\n",
        "\n",
        "    def _backward():\n",
        "      self.grad +=  other * (self.data**(other-1)) * out.grad # der of the power\n",
        "    out._backward = _backward\n",
        "    return out\n",
        "\n",
        "  def __rmul__(self, other): # other * self\n",
        "    return self * other\n",
        "\n",
        "  def __truediv__(self, other): # self / other\n",
        "    return self * other**-1\n",
        "\n",
        "  def __neg__(self):\n",
        "    return self * -1\n",
        "\n",
        "  def __sub__(self, other):\n",
        "    return self + (-other)\n",
        "\n",
        "  def tanh(self):\n",
        "    x = self.data\n",
        "    t = (math.exp(2*x) - 1) / (math.exp(2*x) + 1)\n",
        "    out = Value(t, (self, ), 'tanh')\n",
        "\n",
        "    def _backward():\n",
        "      self.grad += (1 - t**2) * out.grad # tanh's local derivative * out.grad\n",
        "    out._backward = _backward\n",
        "    return out\n",
        "\n",
        "  def exp(self):\n",
        "    x = self.data\n",
        "    out = Value(math.exp(x), (self,),'exp')\n",
        "\n",
        "    def _backward():\n",
        "      self.grad += out.data * out.grad\n",
        "    out._backward = _backward\n",
        "    return out\n",
        "\n",
        "  def backward(self):\n",
        "    topo = []\n",
        "    visited = set()\n",
        "    def build_topo(v):\n",
        "      if v not in visited:\n",
        "        visited.add(v)\n",
        "        for child in v._prev:\n",
        "          build_topo(child)\n",
        "        topo.append(v)\n",
        "\n",
        "    build_topo(self)\n",
        "\n",
        "    self.grad = 1.0\n",
        "    for node in reversed(topo):\n",
        "      node._backward()\n"
      ]
    },
    {
      "cell_type": "code",
      "source": [
        "a = Value(2.0)\n",
        "b = Value(2.0)"
      ],
      "metadata": {
        "id": "wmLlkLbJPGbe"
      },
      "execution_count": 72,
      "outputs": []
    },
    {
      "cell_type": "code",
      "source": [
        "a - b"
      ],
      "metadata": {
        "colab": {
          "base_uri": "https://localhost:8080/"
        },
        "id": "oQaCCh3EWAZy",
        "outputId": "c8579a23-3c69-4074-8d8f-566e7dd52248"
      },
      "execution_count": 73,
      "outputs": [
        {
          "output_type": "execute_result",
          "data": {
            "text/plain": [
              "Value(data=0.0)"
            ]
          },
          "metadata": {},
          "execution_count": 73
        }
      ]
    },
    {
      "cell_type": "code",
      "source": [
        "a / b"
      ],
      "metadata": {
        "colab": {
          "base_uri": "https://localhost:8080/"
        },
        "id": "dNS9FyCcPK7L",
        "outputId": "ced4b5e3-8120-460e-99a8-2cfec239ca5f"
      },
      "execution_count": 61,
      "outputs": [
        {
          "output_type": "execute_result",
          "data": {
            "text/plain": [
              "Value(data=0.5)"
            ]
          },
          "metadata": {},
          "execution_count": 61
        }
      ]
    },
    {
      "cell_type": "code",
      "execution_count": 9,
      "metadata": {
        "colab": {
          "base_uri": "https://localhost:8080/"
        },
        "id": "ol7I7-txXb3Y",
        "outputId": "99df2e8f-582b-4e6b-a303-961c590e9cd4"
      },
      "outputs": [
        {
          "output_type": "execute_result",
          "data": {
            "text/plain": [
              "Value(data=40.0)"
            ]
          },
          "metadata": {},
          "execution_count": 9
        }
      ],
      "source": [
        "a = Value(10, label='a')\n",
        "b = Value(-3.0, label='b')\n",
        "c = Value(10.0, label='c')\n",
        "# a*b+c\n",
        "\n",
        "e = a*b; e.label='e'\n",
        "d = e + c; d.label='d'\n",
        "d\n",
        "# (a.__mul__(b)).__add__(c)\n",
        "\n",
        "# making this one layer deeper\n",
        "f = Value(-2.0, label='f')\n",
        "\n",
        "L = d * f; L.label = 'L' #output of d*f\n",
        "L"
      ]
    },
    {
      "cell_type": "markdown",
      "metadata": {
        "id": "taMuzhhSiTyd"
      },
      "source": [
        "Now the missing thing is connectin of this expression. we need to keep expression graph.\n",
        "\n",
        "we need to know and keep pointers about what values produces what other values.\n",
        "\n",
        "for that we introduce new variable `children` in `Value` class\n",
        "\n",
        "by default `_children` will be `empty set`.\n",
        "\n",
        "and creating a `_prev` variable which is `set of _children`\n",
        "\n",
        "and when doing `multiplication` and `addition` operations pass `self and other` as child.\n",
        "\n",
        "```py\n",
        "a = Value(10)\n",
        "b = Value(-3.0)\n",
        "c = Value(10.0)\n",
        "d = a*b+c\n",
        "# now we can see d's childs\n",
        "d._prev\n",
        "```\n",
        "\n",
        "now we can get a child of d using `d._prev`\n",
        "\n",
        "Now we can get child but we don't know which operation did it performed. For that add onethore param `_op` by default empty."
      ]
    },
    {
      "cell_type": "code",
      "execution_count": 10,
      "metadata": {
        "id": "42BQ9WEMXebJ"
      },
      "outputs": [],
      "source": [
        "# a = Value(10)\n",
        "# b = Value(-3.0)\n",
        "# c = Value(10.0)\n",
        "# d = a*b+c\n",
        "# # now we can see d's childs\n",
        "# d._prev"
      ]
    },
    {
      "cell_type": "code",
      "execution_count": 11,
      "metadata": {
        "colab": {
          "base_uri": "https://localhost:8080/",
          "height": 35
        },
        "id": "3VPgypbtllTo",
        "outputId": "78cf6185-3937-409d-c5e7-d5288947c9cf"
      },
      "outputs": [
        {
          "output_type": "execute_result",
          "data": {
            "text/plain": [
              "'+'"
            ],
            "application/vnd.google.colaboratory.intrinsic+json": {
              "type": "string"
            }
          },
          "metadata": {},
          "execution_count": 11
        }
      ],
      "source": [
        "d._op # now we have d._op for operation\n",
        "# this tells d was produced by addition of those two values"
      ]
    },
    {
      "cell_type": "code",
      "execution_count": 12,
      "metadata": {
        "id": "6HxAUaApm-IY"
      },
      "outputs": [],
      "source": [
        "from graphviz import Digraph\n",
        "\n",
        "def trace(root):\n",
        "  # build a set of  all nodes and edges in a graph\n",
        "  nodes, edges = set(), set()\n",
        "  def build(v):\n",
        "    if v not in nodes:\n",
        "      nodes.add(v)\n",
        "      for child in v._prev:\n",
        "        edges.add((child, v))\n",
        "        build(child)\n",
        "  build(root)\n",
        "  return nodes, edges\n",
        "\n",
        "\n",
        "def draw_dot(root):\n",
        "  dot = Digraph(format='svg', graph_attr={'rankdir':'LR'}) # LR = left to right\n",
        "\n",
        "  nodes, edges = trace(root)\n",
        "  for n in nodes:\n",
        "    uid = str(id(n))\n",
        "    # for any value in the graph, create a rectengular (\"record\") node for it\n",
        "    dot.node(name=uid, label=\"{ %s | data %.4f | grad %.4f}\" % (n.label,n.data, n.grad,), shape='record')\n",
        "    if n._op:\n",
        "      # if this value is result of some operation, create an op node for it\n",
        "      dot.node(name=uid+n._op, label = n._op)\n",
        "      # and connect this node to it\n",
        "      dot.edge(uid + n._op, uid)\n",
        "\n",
        "  for n1, n2 in edges:\n",
        "    # connect n1 to output node n2\n",
        "    dot.edge(str(id(n1)), str(id(n2)) + n2._op)\n",
        "\n",
        "  return dot"
      ]
    },
    {
      "cell_type": "code",
      "execution_count": 13,
      "metadata": {
        "colab": {
          "base_uri": "https://localhost:8080/",
          "height": 212
        },
        "id": "IYuliMfLnOua",
        "outputId": "899eb98e-a8c4-42e5-c4f0-79505e3b4cf9"
      },
      "outputs": [
        {
          "output_type": "execute_result",
          "data": {
            "image/svg+xml": "<?xml version=\"1.0\" encoding=\"UTF-8\" standalone=\"no\"?>\n<!DOCTYPE svg PUBLIC \"-//W3C//DTD SVG 1.1//EN\"\n \"http://www.w3.org/Graphics/SVG/1.1/DTD/svg11.dtd\">\n<!-- Generated by graphviz version 2.43.0 (0)\n -->\n<!-- Title: %3 Pages: 1 -->\n<svg width=\"1166pt\" height=\"128pt\"\n viewBox=\"0.00 0.00 1166.00 128.00\" xmlns=\"http://www.w3.org/2000/svg\" xmlns:xlink=\"http://www.w3.org/1999/xlink\">\n<g id=\"graph0\" class=\"graph\" transform=\"scale(1 1) rotate(0) translate(4 124)\">\n<title>%3</title>\n<polygon fill=\"white\" stroke=\"transparent\" points=\"-4,4 -4,-124 1162,-124 1162,4 -4,4\"/>\n<!-- 137974354012208 -->\n<g id=\"node1\" class=\"node\">\n<title>137974354012208</title>\n<polygon fill=\"none\" stroke=\"black\" points=\"964,-27.5 964,-63.5 1158,-63.5 1158,-27.5 964,-27.5\"/>\n<text text-anchor=\"middle\" x=\"976.5\" y=\"-41.8\" font-family=\"Times,serif\" font-size=\"14.00\">L</text>\n<polyline fill=\"none\" stroke=\"black\" points=\"989,-27.5 989,-63.5 \"/>\n<text text-anchor=\"middle\" x=\"1032.5\" y=\"-41.8\" font-family=\"Times,serif\" font-size=\"14.00\">data 40.0000</text>\n<polyline fill=\"none\" stroke=\"black\" points=\"1076,-27.5 1076,-63.5 \"/>\n<text text-anchor=\"middle\" x=\"1117\" y=\"-41.8\" font-family=\"Times,serif\" font-size=\"14.00\">grad 0.0000</text>\n</g>\n<!-- 137974354012208* -->\n<g id=\"node2\" class=\"node\">\n<title>137974354012208*</title>\n<ellipse fill=\"none\" stroke=\"black\" cx=\"901\" cy=\"-45.5\" rx=\"27\" ry=\"18\"/>\n<text text-anchor=\"middle\" x=\"901\" y=\"-41.8\" font-family=\"Times,serif\" font-size=\"14.00\">*</text>\n</g>\n<!-- 137974354012208*&#45;&gt;137974354012208 -->\n<g id=\"edge1\" class=\"edge\">\n<title>137974354012208*&#45;&gt;137974354012208</title>\n<path fill=\"none\" stroke=\"black\" d=\"M928.09,-45.5C935.62,-45.5 944.34,-45.5 953.63,-45.5\"/>\n<polygon fill=\"black\" stroke=\"black\" points=\"953.92,-49 963.92,-45.5 953.92,-42 953.92,-49\"/>\n</g>\n<!-- 137974354017200 -->\n<g id=\"node3\" class=\"node\">\n<title>137974354017200</title>\n<polygon fill=\"none\" stroke=\"black\" points=\"641,-55.5 641,-91.5 838,-91.5 838,-55.5 641,-55.5\"/>\n<text text-anchor=\"middle\" x=\"652.5\" y=\"-69.8\" font-family=\"Times,serif\" font-size=\"14.00\">d</text>\n<polyline fill=\"none\" stroke=\"black\" points=\"664,-55.5 664,-91.5 \"/>\n<text text-anchor=\"middle\" x=\"710\" y=\"-69.8\" font-family=\"Times,serif\" font-size=\"14.00\">data &#45;20.0000</text>\n<polyline fill=\"none\" stroke=\"black\" points=\"756,-55.5 756,-91.5 \"/>\n<text text-anchor=\"middle\" x=\"797\" y=\"-69.8\" font-family=\"Times,serif\" font-size=\"14.00\">grad 0.0000</text>\n</g>\n<!-- 137974354017200&#45;&gt;137974354012208* -->\n<g id=\"edge5\" class=\"edge\">\n<title>137974354017200&#45;&gt;137974354012208*</title>\n<path fill=\"none\" stroke=\"black\" d=\"M838.33,-56.33C847.66,-54.69 856.64,-53.11 864.72,-51.69\"/>\n<polygon fill=\"black\" stroke=\"black\" points=\"865.54,-55.1 874.78,-49.93 864.33,-48.21 865.54,-55.1\"/>\n</g>\n<!-- 137974354017200+ -->\n<g id=\"node4\" class=\"node\">\n<title>137974354017200+</title>\n<ellipse fill=\"none\" stroke=\"black\" cx=\"578\" cy=\"-73.5\" rx=\"27\" ry=\"18\"/>\n<text text-anchor=\"middle\" x=\"578\" y=\"-69.8\" font-family=\"Times,serif\" font-size=\"14.00\">+</text>\n</g>\n<!-- 137974354017200+&#45;&gt;137974354017200 -->\n<g id=\"edge2\" class=\"edge\">\n<title>137974354017200+&#45;&gt;137974354017200</title>\n<path fill=\"none\" stroke=\"black\" d=\"M605.34,-73.5C612.81,-73.5 621.44,-73.5 630.64,-73.5\"/>\n<polygon fill=\"black\" stroke=\"black\" points=\"630.83,-77 640.83,-73.5 630.83,-70 630.83,-77\"/>\n</g>\n<!-- 137974354007648 -->\n<g id=\"node5\" class=\"node\">\n<title>137974354007648</title>\n<polygon fill=\"none\" stroke=\"black\" points=\"320.5,-83.5 320.5,-119.5 512.5,-119.5 512.5,-83.5 320.5,-83.5\"/>\n<text text-anchor=\"middle\" x=\"332\" y=\"-97.8\" font-family=\"Times,serif\" font-size=\"14.00\">c</text>\n<polyline fill=\"none\" stroke=\"black\" points=\"343.5,-83.5 343.5,-119.5 \"/>\n<text text-anchor=\"middle\" x=\"387\" y=\"-97.8\" font-family=\"Times,serif\" font-size=\"14.00\">data 10.0000</text>\n<polyline fill=\"none\" stroke=\"black\" points=\"430.5,-83.5 430.5,-119.5 \"/>\n<text text-anchor=\"middle\" x=\"471.5\" y=\"-97.8\" font-family=\"Times,serif\" font-size=\"14.00\">grad 0.0000</text>\n</g>\n<!-- 137974354007648&#45;&gt;137974354017200+ -->\n<g id=\"edge6\" class=\"edge\">\n<title>137974354007648&#45;&gt;137974354017200+</title>\n<path fill=\"none\" stroke=\"black\" d=\"M512.58,-84.81C522.94,-82.99 532.94,-81.23 541.85,-79.67\"/>\n<polygon fill=\"black\" stroke=\"black\" points=\"542.51,-83.11 551.75,-77.93 541.3,-76.21 542.51,-83.11\"/>\n</g>\n<!-- 137974354006256 -->\n<g id=\"node6\" class=\"node\">\n<title>137974354006256</title>\n<polygon fill=\"none\" stroke=\"black\" points=\"645.5,-0.5 645.5,-36.5 833.5,-36.5 833.5,-0.5 645.5,-0.5\"/>\n<text text-anchor=\"middle\" x=\"656\" y=\"-14.8\" font-family=\"Times,serif\" font-size=\"14.00\">f</text>\n<polyline fill=\"none\" stroke=\"black\" points=\"666.5,-0.5 666.5,-36.5 \"/>\n<text text-anchor=\"middle\" x=\"709\" y=\"-14.8\" font-family=\"Times,serif\" font-size=\"14.00\">data &#45;2.0000</text>\n<polyline fill=\"none\" stroke=\"black\" points=\"751.5,-0.5 751.5,-36.5 \"/>\n<text text-anchor=\"middle\" x=\"792.5\" y=\"-14.8\" font-family=\"Times,serif\" font-size=\"14.00\">grad 0.0000</text>\n</g>\n<!-- 137974354006256&#45;&gt;137974354012208* -->\n<g id=\"edge7\" class=\"edge\">\n<title>137974354006256&#45;&gt;137974354012208*</title>\n<path fill=\"none\" stroke=\"black\" d=\"M833.74,-34.28C844.64,-36.13 855.19,-37.91 864.55,-39.5\"/>\n<polygon fill=\"black\" stroke=\"black\" points=\"864.12,-42.98 874.56,-41.19 865.29,-36.07 864.12,-42.98\"/>\n</g>\n<!-- 137974354017536 -->\n<g id=\"node7\" class=\"node\">\n<title>137974354017536</title>\n<polygon fill=\"none\" stroke=\"black\" points=\"318,-28.5 318,-64.5 515,-64.5 515,-28.5 318,-28.5\"/>\n<text text-anchor=\"middle\" x=\"329.5\" y=\"-42.8\" font-family=\"Times,serif\" font-size=\"14.00\">e</text>\n<polyline fill=\"none\" stroke=\"black\" points=\"341,-28.5 341,-64.5 \"/>\n<text text-anchor=\"middle\" x=\"387\" y=\"-42.8\" font-family=\"Times,serif\" font-size=\"14.00\">data &#45;30.0000</text>\n<polyline fill=\"none\" stroke=\"black\" points=\"433,-28.5 433,-64.5 \"/>\n<text text-anchor=\"middle\" x=\"474\" y=\"-42.8\" font-family=\"Times,serif\" font-size=\"14.00\">grad 0.0000</text>\n</g>\n<!-- 137974354017536&#45;&gt;137974354017200+ -->\n<g id=\"edge4\" class=\"edge\">\n<title>137974354017536&#45;&gt;137974354017200+</title>\n<path fill=\"none\" stroke=\"black\" d=\"M515.33,-63.06C524.57,-64.62 533.46,-66.13 541.49,-67.49\"/>\n<polygon fill=\"black\" stroke=\"black\" points=\"541.04,-70.96 551.48,-69.18 542.21,-64.06 541.04,-70.96\"/>\n</g>\n<!-- 137974354017536* -->\n<g id=\"node8\" class=\"node\">\n<title>137974354017536*</title>\n<ellipse fill=\"none\" stroke=\"black\" cx=\"255\" cy=\"-46.5\" rx=\"27\" ry=\"18\"/>\n<text text-anchor=\"middle\" x=\"255\" y=\"-42.8\" font-family=\"Times,serif\" font-size=\"14.00\">*</text>\n</g>\n<!-- 137974354017536*&#45;&gt;137974354017536 -->\n<g id=\"edge3\" class=\"edge\">\n<title>137974354017536*&#45;&gt;137974354017536</title>\n<path fill=\"none\" stroke=\"black\" d=\"M282.34,-46.5C289.81,-46.5 298.44,-46.5 307.64,-46.5\"/>\n<polygon fill=\"black\" stroke=\"black\" points=\"307.83,-50 317.83,-46.5 307.83,-43 307.83,-50\"/>\n</g>\n<!-- 137974354017152 -->\n<g id=\"node9\" class=\"node\">\n<title>137974354017152</title>\n<polygon fill=\"none\" stroke=\"black\" points=\"1,-56.5 1,-92.5 191,-92.5 191,-56.5 1,-56.5\"/>\n<text text-anchor=\"middle\" x=\"12.5\" y=\"-70.8\" font-family=\"Times,serif\" font-size=\"14.00\">b</text>\n<polyline fill=\"none\" stroke=\"black\" points=\"24,-56.5 24,-92.5 \"/>\n<text text-anchor=\"middle\" x=\"66.5\" y=\"-70.8\" font-family=\"Times,serif\" font-size=\"14.00\">data &#45;3.0000</text>\n<polyline fill=\"none\" stroke=\"black\" points=\"109,-56.5 109,-92.5 \"/>\n<text text-anchor=\"middle\" x=\"150\" y=\"-70.8\" font-family=\"Times,serif\" font-size=\"14.00\">grad 0.0000</text>\n</g>\n<!-- 137974354017152&#45;&gt;137974354017536* -->\n<g id=\"edge8\" class=\"edge\">\n<title>137974354017152&#45;&gt;137974354017536*</title>\n<path fill=\"none\" stroke=\"black\" d=\"M191.05,-57.73C200.89,-55.97 210.39,-54.28 218.9,-52.76\"/>\n<polygon fill=\"black\" stroke=\"black\" points=\"219.52,-56.2 228.75,-51 218.29,-49.31 219.52,-56.2\"/>\n</g>\n<!-- 137974354006448 -->\n<g id=\"node10\" class=\"node\">\n<title>137974354006448</title>\n<polygon fill=\"none\" stroke=\"black\" points=\"0,-1.5 0,-37.5 192,-37.5 192,-1.5 0,-1.5\"/>\n<text text-anchor=\"middle\" x=\"11.5\" y=\"-15.8\" font-family=\"Times,serif\" font-size=\"14.00\">a</text>\n<polyline fill=\"none\" stroke=\"black\" points=\"23,-1.5 23,-37.5 \"/>\n<text text-anchor=\"middle\" x=\"66.5\" y=\"-15.8\" font-family=\"Times,serif\" font-size=\"14.00\">data 10.0000</text>\n<polyline fill=\"none\" stroke=\"black\" points=\"110,-1.5 110,-37.5 \"/>\n<text text-anchor=\"middle\" x=\"151\" y=\"-15.8\" font-family=\"Times,serif\" font-size=\"14.00\">grad 0.0000</text>\n</g>\n<!-- 137974354006448&#45;&gt;137974354017536* -->\n<g id=\"edge9\" class=\"edge\">\n<title>137974354006448&#45;&gt;137974354017536*</title>\n<path fill=\"none\" stroke=\"black\" d=\"M192.4,-35.91C201.69,-37.5 210.64,-39.04 218.71,-40.43\"/>\n<polygon fill=\"black\" stroke=\"black\" points=\"218.32,-43.91 228.76,-42.16 219.5,-37.02 218.32,-43.91\"/>\n</g>\n</g>\n</svg>\n",
            "text/plain": [
              "<graphviz.graphs.Digraph at 0x7d7ca85bc520>"
            ]
          },
          "metadata": {},
          "execution_count": 13
        }
      ],
      "source": [
        "draw_dot(L)"
      ]
    },
    {
      "cell_type": "markdown",
      "metadata": {
        "id": "pT0qC-U1IaGI"
      },
      "source": [
        "## 📍 Important notes, Read again and rewrite clearly\n",
        "\n",
        "Above image or process shows forward pass\n",
        "\n",
        "givving multiple inputs and getting single output L\n",
        "\n",
        "and output of the forward pass is L = 40.0\n",
        "\n",
        "Now, next we would like to run backpropagation\n",
        "\n",
        "In back P, we start from the end L and reverse and calculate the gradient along all these intermediate values.\n",
        "\n",
        "and we have to derive a derivative of L with respect to all the parameters\n",
        "\n",
        "calculating derivative of L wrt f, d , c, e, b, and a\n",
        "\n",
        "> ✅ We would be very intrested in the derivative of loss function L with respect to weights of a neural networs\n",
        "\n",
        "Some of these labes represents the weights of the NN\n",
        "\n",
        "So, we will need to know how those weights are impacting the loss function\n",
        "\n",
        "so we are interesting in. dereivative of output wrt some of its leaf nodes, and those leaf nodes will be the weights of the neural nets.\n",
        "\n",
        "other leaf nodes are the data itself, But we will not use the derivative of loss function wrt data beacause the data is fixed, but the weights will be iterating on using gradient information"
      ]
    },
    {
      "cell_type": "markdown",
      "metadata": {
        "id": "uSvjXNQnPx6S"
      },
      "source": [
        "# 📍Important -> creating a variable inside a Value class\n",
        "\n",
        "that maintains the derivative of L WRT that value, call this variable `grad`"
      ]
    },
    {
      "cell_type": "markdown",
      "metadata": {
        "id": "s3R8IuytghlU"
      },
      "source": [
        "# Manual Back propagation\n",
        "\n",
        "- `grad` variable representing gradient of L WRT each label\n",
        "\n",
        "so for `L` how much does `L` change? it changes by `h`. so derivative or `L` WRT `L` would be `1`.\n",
        "\n",
        "We can measure this with numerics as well."
      ]
    },
    {
      "cell_type": "markdown",
      "metadata": {
        "id": "p77WxxmKPdYV"
      },
      "source": [
        "L.grad = 1.0"
      ]
    },
    {
      "cell_type": "code",
      "execution_count": 14,
      "metadata": {
        "colab": {
          "base_uri": "https://localhost:8080/",
          "height": 212
        },
        "id": "OlUpQqgvPorM",
        "outputId": "9f7ea863-8f40-45bc-94d7-d7524ac6f828"
      },
      "outputs": [
        {
          "output_type": "execute_result",
          "data": {
            "image/svg+xml": "<?xml version=\"1.0\" encoding=\"UTF-8\" standalone=\"no\"?>\n<!DOCTYPE svg PUBLIC \"-//W3C//DTD SVG 1.1//EN\"\n \"http://www.w3.org/Graphics/SVG/1.1/DTD/svg11.dtd\">\n<!-- Generated by graphviz version 2.43.0 (0)\n -->\n<!-- Title: %3 Pages: 1 -->\n<svg width=\"1166pt\" height=\"128pt\"\n viewBox=\"0.00 0.00 1166.00 128.00\" xmlns=\"http://www.w3.org/2000/svg\" xmlns:xlink=\"http://www.w3.org/1999/xlink\">\n<g id=\"graph0\" class=\"graph\" transform=\"scale(1 1) rotate(0) translate(4 124)\">\n<title>%3</title>\n<polygon fill=\"white\" stroke=\"transparent\" points=\"-4,4 -4,-124 1162,-124 1162,4 -4,4\"/>\n<!-- 137974354012208 -->\n<g id=\"node1\" class=\"node\">\n<title>137974354012208</title>\n<polygon fill=\"none\" stroke=\"black\" points=\"964,-27.5 964,-63.5 1158,-63.5 1158,-27.5 964,-27.5\"/>\n<text text-anchor=\"middle\" x=\"976.5\" y=\"-41.8\" font-family=\"Times,serif\" font-size=\"14.00\">L</text>\n<polyline fill=\"none\" stroke=\"black\" points=\"989,-27.5 989,-63.5 \"/>\n<text text-anchor=\"middle\" x=\"1032.5\" y=\"-41.8\" font-family=\"Times,serif\" font-size=\"14.00\">data 40.0000</text>\n<polyline fill=\"none\" stroke=\"black\" points=\"1076,-27.5 1076,-63.5 \"/>\n<text text-anchor=\"middle\" x=\"1117\" y=\"-41.8\" font-family=\"Times,serif\" font-size=\"14.00\">grad 0.0000</text>\n</g>\n<!-- 137974354012208* -->\n<g id=\"node2\" class=\"node\">\n<title>137974354012208*</title>\n<ellipse fill=\"none\" stroke=\"black\" cx=\"901\" cy=\"-45.5\" rx=\"27\" ry=\"18\"/>\n<text text-anchor=\"middle\" x=\"901\" y=\"-41.8\" font-family=\"Times,serif\" font-size=\"14.00\">*</text>\n</g>\n<!-- 137974354012208*&#45;&gt;137974354012208 -->\n<g id=\"edge1\" class=\"edge\">\n<title>137974354012208*&#45;&gt;137974354012208</title>\n<path fill=\"none\" stroke=\"black\" d=\"M928.09,-45.5C935.62,-45.5 944.34,-45.5 953.63,-45.5\"/>\n<polygon fill=\"black\" stroke=\"black\" points=\"953.92,-49 963.92,-45.5 953.92,-42 953.92,-49\"/>\n</g>\n<!-- 137974354017200 -->\n<g id=\"node3\" class=\"node\">\n<title>137974354017200</title>\n<polygon fill=\"none\" stroke=\"black\" points=\"641,-55.5 641,-91.5 838,-91.5 838,-55.5 641,-55.5\"/>\n<text text-anchor=\"middle\" x=\"652.5\" y=\"-69.8\" font-family=\"Times,serif\" font-size=\"14.00\">d</text>\n<polyline fill=\"none\" stroke=\"black\" points=\"664,-55.5 664,-91.5 \"/>\n<text text-anchor=\"middle\" x=\"710\" y=\"-69.8\" font-family=\"Times,serif\" font-size=\"14.00\">data &#45;20.0000</text>\n<polyline fill=\"none\" stroke=\"black\" points=\"756,-55.5 756,-91.5 \"/>\n<text text-anchor=\"middle\" x=\"797\" y=\"-69.8\" font-family=\"Times,serif\" font-size=\"14.00\">grad 0.0000</text>\n</g>\n<!-- 137974354017200&#45;&gt;137974354012208* -->\n<g id=\"edge5\" class=\"edge\">\n<title>137974354017200&#45;&gt;137974354012208*</title>\n<path fill=\"none\" stroke=\"black\" d=\"M838.33,-56.33C847.66,-54.69 856.64,-53.11 864.72,-51.69\"/>\n<polygon fill=\"black\" stroke=\"black\" points=\"865.54,-55.1 874.78,-49.93 864.33,-48.21 865.54,-55.1\"/>\n</g>\n<!-- 137974354017200+ -->\n<g id=\"node4\" class=\"node\">\n<title>137974354017200+</title>\n<ellipse fill=\"none\" stroke=\"black\" cx=\"578\" cy=\"-73.5\" rx=\"27\" ry=\"18\"/>\n<text text-anchor=\"middle\" x=\"578\" y=\"-69.8\" font-family=\"Times,serif\" font-size=\"14.00\">+</text>\n</g>\n<!-- 137974354017200+&#45;&gt;137974354017200 -->\n<g id=\"edge2\" class=\"edge\">\n<title>137974354017200+&#45;&gt;137974354017200</title>\n<path fill=\"none\" stroke=\"black\" d=\"M605.34,-73.5C612.81,-73.5 621.44,-73.5 630.64,-73.5\"/>\n<polygon fill=\"black\" stroke=\"black\" points=\"630.83,-77 640.83,-73.5 630.83,-70 630.83,-77\"/>\n</g>\n<!-- 137974354007648 -->\n<g id=\"node5\" class=\"node\">\n<title>137974354007648</title>\n<polygon fill=\"none\" stroke=\"black\" points=\"320.5,-83.5 320.5,-119.5 512.5,-119.5 512.5,-83.5 320.5,-83.5\"/>\n<text text-anchor=\"middle\" x=\"332\" y=\"-97.8\" font-family=\"Times,serif\" font-size=\"14.00\">c</text>\n<polyline fill=\"none\" stroke=\"black\" points=\"343.5,-83.5 343.5,-119.5 \"/>\n<text text-anchor=\"middle\" x=\"387\" y=\"-97.8\" font-family=\"Times,serif\" font-size=\"14.00\">data 10.0000</text>\n<polyline fill=\"none\" stroke=\"black\" points=\"430.5,-83.5 430.5,-119.5 \"/>\n<text text-anchor=\"middle\" x=\"471.5\" y=\"-97.8\" font-family=\"Times,serif\" font-size=\"14.00\">grad 0.0000</text>\n</g>\n<!-- 137974354007648&#45;&gt;137974354017200+ -->\n<g id=\"edge6\" class=\"edge\">\n<title>137974354007648&#45;&gt;137974354017200+</title>\n<path fill=\"none\" stroke=\"black\" d=\"M512.58,-84.81C522.94,-82.99 532.94,-81.23 541.85,-79.67\"/>\n<polygon fill=\"black\" stroke=\"black\" points=\"542.51,-83.11 551.75,-77.93 541.3,-76.21 542.51,-83.11\"/>\n</g>\n<!-- 137974354006256 -->\n<g id=\"node6\" class=\"node\">\n<title>137974354006256</title>\n<polygon fill=\"none\" stroke=\"black\" points=\"645.5,-0.5 645.5,-36.5 833.5,-36.5 833.5,-0.5 645.5,-0.5\"/>\n<text text-anchor=\"middle\" x=\"656\" y=\"-14.8\" font-family=\"Times,serif\" font-size=\"14.00\">f</text>\n<polyline fill=\"none\" stroke=\"black\" points=\"666.5,-0.5 666.5,-36.5 \"/>\n<text text-anchor=\"middle\" x=\"709\" y=\"-14.8\" font-family=\"Times,serif\" font-size=\"14.00\">data &#45;2.0000</text>\n<polyline fill=\"none\" stroke=\"black\" points=\"751.5,-0.5 751.5,-36.5 \"/>\n<text text-anchor=\"middle\" x=\"792.5\" y=\"-14.8\" font-family=\"Times,serif\" font-size=\"14.00\">grad 0.0000</text>\n</g>\n<!-- 137974354006256&#45;&gt;137974354012208* -->\n<g id=\"edge7\" class=\"edge\">\n<title>137974354006256&#45;&gt;137974354012208*</title>\n<path fill=\"none\" stroke=\"black\" d=\"M833.74,-34.28C844.64,-36.13 855.19,-37.91 864.55,-39.5\"/>\n<polygon fill=\"black\" stroke=\"black\" points=\"864.12,-42.98 874.56,-41.19 865.29,-36.07 864.12,-42.98\"/>\n</g>\n<!-- 137974354017536 -->\n<g id=\"node7\" class=\"node\">\n<title>137974354017536</title>\n<polygon fill=\"none\" stroke=\"black\" points=\"318,-28.5 318,-64.5 515,-64.5 515,-28.5 318,-28.5\"/>\n<text text-anchor=\"middle\" x=\"329.5\" y=\"-42.8\" font-family=\"Times,serif\" font-size=\"14.00\">e</text>\n<polyline fill=\"none\" stroke=\"black\" points=\"341,-28.5 341,-64.5 \"/>\n<text text-anchor=\"middle\" x=\"387\" y=\"-42.8\" font-family=\"Times,serif\" font-size=\"14.00\">data &#45;30.0000</text>\n<polyline fill=\"none\" stroke=\"black\" points=\"433,-28.5 433,-64.5 \"/>\n<text text-anchor=\"middle\" x=\"474\" y=\"-42.8\" font-family=\"Times,serif\" font-size=\"14.00\">grad 0.0000</text>\n</g>\n<!-- 137974354017536&#45;&gt;137974354017200+ -->\n<g id=\"edge4\" class=\"edge\">\n<title>137974354017536&#45;&gt;137974354017200+</title>\n<path fill=\"none\" stroke=\"black\" d=\"M515.33,-63.06C524.57,-64.62 533.46,-66.13 541.49,-67.49\"/>\n<polygon fill=\"black\" stroke=\"black\" points=\"541.04,-70.96 551.48,-69.18 542.21,-64.06 541.04,-70.96\"/>\n</g>\n<!-- 137974354017536* -->\n<g id=\"node8\" class=\"node\">\n<title>137974354017536*</title>\n<ellipse fill=\"none\" stroke=\"black\" cx=\"255\" cy=\"-46.5\" rx=\"27\" ry=\"18\"/>\n<text text-anchor=\"middle\" x=\"255\" y=\"-42.8\" font-family=\"Times,serif\" font-size=\"14.00\">*</text>\n</g>\n<!-- 137974354017536*&#45;&gt;137974354017536 -->\n<g id=\"edge3\" class=\"edge\">\n<title>137974354017536*&#45;&gt;137974354017536</title>\n<path fill=\"none\" stroke=\"black\" d=\"M282.34,-46.5C289.81,-46.5 298.44,-46.5 307.64,-46.5\"/>\n<polygon fill=\"black\" stroke=\"black\" points=\"307.83,-50 317.83,-46.5 307.83,-43 307.83,-50\"/>\n</g>\n<!-- 137974354017152 -->\n<g id=\"node9\" class=\"node\">\n<title>137974354017152</title>\n<polygon fill=\"none\" stroke=\"black\" points=\"1,-56.5 1,-92.5 191,-92.5 191,-56.5 1,-56.5\"/>\n<text text-anchor=\"middle\" x=\"12.5\" y=\"-70.8\" font-family=\"Times,serif\" font-size=\"14.00\">b</text>\n<polyline fill=\"none\" stroke=\"black\" points=\"24,-56.5 24,-92.5 \"/>\n<text text-anchor=\"middle\" x=\"66.5\" y=\"-70.8\" font-family=\"Times,serif\" font-size=\"14.00\">data &#45;3.0000</text>\n<polyline fill=\"none\" stroke=\"black\" points=\"109,-56.5 109,-92.5 \"/>\n<text text-anchor=\"middle\" x=\"150\" y=\"-70.8\" font-family=\"Times,serif\" font-size=\"14.00\">grad 0.0000</text>\n</g>\n<!-- 137974354017152&#45;&gt;137974354017536* -->\n<g id=\"edge8\" class=\"edge\">\n<title>137974354017152&#45;&gt;137974354017536*</title>\n<path fill=\"none\" stroke=\"black\" d=\"M191.05,-57.73C200.89,-55.97 210.39,-54.28 218.9,-52.76\"/>\n<polygon fill=\"black\" stroke=\"black\" points=\"219.52,-56.2 228.75,-51 218.29,-49.31 219.52,-56.2\"/>\n</g>\n<!-- 137974354006448 -->\n<g id=\"node10\" class=\"node\">\n<title>137974354006448</title>\n<polygon fill=\"none\" stroke=\"black\" points=\"0,-1.5 0,-37.5 192,-37.5 192,-1.5 0,-1.5\"/>\n<text text-anchor=\"middle\" x=\"11.5\" y=\"-15.8\" font-family=\"Times,serif\" font-size=\"14.00\">a</text>\n<polyline fill=\"none\" stroke=\"black\" points=\"23,-1.5 23,-37.5 \"/>\n<text text-anchor=\"middle\" x=\"66.5\" y=\"-15.8\" font-family=\"Times,serif\" font-size=\"14.00\">data 10.0000</text>\n<polyline fill=\"none\" stroke=\"black\" points=\"110,-1.5 110,-37.5 \"/>\n<text text-anchor=\"middle\" x=\"151\" y=\"-15.8\" font-family=\"Times,serif\" font-size=\"14.00\">grad 0.0000</text>\n</g>\n<!-- 137974354006448&#45;&gt;137974354017536* -->\n<g id=\"edge9\" class=\"edge\">\n<title>137974354006448&#45;&gt;137974354017536*</title>\n<path fill=\"none\" stroke=\"black\" d=\"M192.4,-35.91C201.69,-37.5 210.64,-39.04 218.71,-40.43\"/>\n<polygon fill=\"black\" stroke=\"black\" points=\"218.32,-43.91 228.76,-42.16 219.5,-37.02 218.32,-43.91\"/>\n</g>\n</g>\n</svg>\n",
            "text/plain": [
              "<graphviz.graphs.Digraph at 0x7d7ca85bf940>"
            ]
          },
          "metadata": {},
          "execution_count": 14
        }
      ],
      "source": [
        "# to draw ndoes\n",
        "draw_dot(L)"
      ]
    },
    {
      "cell_type": "code",
      "execution_count": 15,
      "metadata": {
        "id": "eM9P3TbeP3JO"
      },
      "outputs": [],
      "source": [
        "# L = d * f\n",
        "\n",
        "# dL/dd = ? f\n",
        "\n",
        "# (f(x + h)-f(x))/h\n",
        "\n",
        "# ((d+h)*f - d*f) / h\n",
        "# (d*f + f*h - d*f) / h\n",
        "# (f*h) / h\n",
        "# f"
      ]
    },
    {
      "cell_type": "markdown",
      "metadata": {
        "id": "zsIAwF1AKouu"
      },
      "source": [
        "## (*) node\n",
        "\n",
        "dL/dd = f and dL/df = d\n",
        "\n",
        "double chack by bumping up that variable by h in below method"
      ]
    },
    {
      "cell_type": "markdown",
      "metadata": {
        "id": "unC44uOaRE-M"
      },
      "source": [
        "so dL/dd = value of `f`\n",
        "and dL/df = value of `d`\n",
        "\n",
        "\n",
        "1. dL/dd\n",
        "2. dL/df\n",
        "3. dL/de\n",
        "4. dL/dc\n",
        "5. dL/da\n",
        "6. dL/db"
      ]
    },
    {
      "cell_type": "code",
      "execution_count": 16,
      "metadata": {
        "id": "ZJk61aeJPitO"
      },
      "outputs": [],
      "source": [
        "L.grad = 1.0"
      ]
    },
    {
      "cell_type": "code",
      "execution_count": 17,
      "metadata": {
        "id": "V8v-5AnoRQXC"
      },
      "outputs": [],
      "source": [
        "d.grad = -2.0\n",
        "f.grad = -20.0"
      ]
    },
    {
      "cell_type": "markdown",
      "metadata": {
        "id": "qym61xqDLKY6"
      },
      "source": [
        "Doing kind of inline gradient check.\n",
        "\n",
        "## Gradient check\n",
        "when we deriveing backpropagation and getting derivative WRT all the intermediate results. and numerical gradient is just estimating using small step size `h`\n",
        "\n",
        "## 📍 Now understand **CRUX** of the backpropagation, The most important node to understand (+) node\n",
        "\n",
        "> 💡  If you understand gradient for this node then you understand all backpropagation and all training of neural nets.\n",
        "\n",
        "**Need to derive dL/dc (derivative of L wrt c)**\n",
        "\n",
        "we have already computed gradient for other d and f params. and continuing the backpropagation manually\n",
        "\n",
        "so we want dL/dc and also dL/de\n",
        "\n",
        "**✍️NOTE: For intuision look at the diagra**\n",
        "\n",
        "**problem:** How do we derive dL/dc?\n",
        "- we know dL/dd, we know how `L` is sensitive to `d`\n",
        "- but how is `L` sensitive to `c` ?\n",
        "- so, we know dL/dd, and we also know how `c` impacts `d`.\n",
        "- intuatively if you know the impact that `c` is having on `d` and impact that `d` is having on `L`.\n",
        "- Then we should be shomehow able to putting them together to figure out how `c` impacts `L`.\n",
        "\n",
        "so let's look at **what is dd/dc?**\n",
        "\n",
        "dd/dc = ?\n",
        "\n",
        "we know function(equation of) of d\n",
        "\n",
        "d = c + e\n",
        "\n",
        "if you know calculas and remember, diferentiating `c + e` WRT `c`, that gives `1.0`.\n",
        "\n",
        "and we can go to basics and derive it by bumping it up by value h\n",
        "\n",
        "(f(x+h)-f(x))/h\n",
        "\n",
        "((c+h+e)-(c+e))/h    here c+e c+e got cancel out and left with h. and h/h = 1\n",
        "\n",
        "(c + h + e - c - e))/h\n",
        "\n",
        "h/h = 1\n",
        "\n",
        "so,\n",
        "\n",
        "dd/dc = 1.0 and by this\n",
        "\n",
        "dd/de = 1.0\n",
        "\n",
        "- so derivative of (+)sum expression is very simple.\n",
        "- and this is the local derivative.\n",
        "- calling it local derivative because we have the final o/p value at all the way at the end of the graph.\n",
        "- and now we are like a small node(+) here. and (+) node doesn't know anything about the rest of the graph that's embedded in.\n",
        "- all it knows is that it did plus(+). it took `c` and `e` and added them and created `d`. and (+) node also knows the local influence of c on d or rathare dd/dc and also knows dd/de.\n",
        "- But that's not just that we want. That's just a local derivative.\n",
        "- What we actualy want is dL/dc.\n",
        "- L is just one step away here. but in general case this plus node could be embedded in like a massive graph.\n",
        "\n",
        "\n",
        "- so we know how d impacts l, and how c and e impacts d how do we put that information together to write dL/dc and the **ans is THE CHAIN RULE.** in calculas\n",
        "\n",
        "# The Chain Rule\n",
        "\n",
        "Refere: [link](https://youtu.be/H-ybCx8gt-8?si=boPU0WpoXRmFdtl7)\n",
        "\n",
        "$$ \\frac{dz}{dx} = \\frac{dz}{dy} . \\frac{dy}{dx}, $$\n",
        "\n",
        "Fundamentally it's telling you how we chain these derivatives together correctly.\n",
        "\n",
        "to differentiate through a function composition we have to apply multiplication of those derivatives\n",
        "\n",
        "> Intuitively, the chain rule states that knowing the instantaneous rate of change of z relative to y and that of y relative to x allows one to calculate the instantaneous rate of change of z relative to x as the product of the two rates of change. [Wikipedia].\n",
        "\n",
        "\n",
        "so to do this we multiply derivatives\n",
        "\n",
        "WANT:\n",
        "\n",
        "dL/dc = ( dL/dd) * (dd/dc). # chain rule\n",
        "\n",
        "KNOW:\n",
        "\n",
        "dL/dd\n",
        "\n",
        "dd/dc\n",
        "\n",
        "- because local derivative dd/dc is 1 we just copy over the dL/dc * 1\n",
        "\n",
        "- because dL/dd is -2.000 what is dL/dc? its local gradient(1.0) times dL/dd.\n",
        "  which is -2.0\n",
        "\n",
        "So what a + node does is litrely just routes the gradient beacause the pluse node's local derivative is just 1 . so in chain rule 1 times dL/dd is just dL/dd.\n",
        "\n",
        "so derivative just gets routed to both c and e"
      ]
    },
    {
      "cell_type": "code",
      "execution_count": 18,
      "metadata": {
        "id": "a0ZXEs0gifzs"
      },
      "outputs": [],
      "source": [
        "e.grad = -2.0\n",
        "c.grad = -2.0"
      ]
    },
    {
      "cell_type": "markdown",
      "metadata": {
        "id": "OHUS-7DKlrBy"
      },
      "source": [
        "Now finally we left with last two parameters a and b which is multiplication node.\n",
        "\n",
        "and we have already discussed about so apply chain rule and get output.\n",
        "\n",
        "e = a * b\n",
        "\n",
        "loca derivative de/da = b and de/db = a\n",
        "\n",
        "so\n",
        "\n",
        "dL/da = dL/de (we already know)* de/da\n",
        "\n",
        "dL/da = -2.0 * -3.0  = 6\n",
        "\n",
        "and\n",
        "\n",
        "dL/db = -2.0 * 10.0 = -20.0\n"
      ]
    },
    {
      "cell_type": "code",
      "execution_count": 19,
      "metadata": {
        "id": "sQfeFtL8niSn"
      },
      "outputs": [],
      "source": [
        "a.grad = 6.0\n",
        "b.grad = -20.0"
      ]
    },
    {
      "cell_type": "code",
      "execution_count": 20,
      "metadata": {
        "colab": {
          "base_uri": "https://localhost:8080/",
          "height": 212
        },
        "id": "mZLNeCofI_Fo",
        "outputId": "b62c6dd6-72b6-4759-edbc-60b387d58951"
      },
      "outputs": [
        {
          "output_type": "execute_result",
          "data": {
            "image/svg+xml": "<?xml version=\"1.0\" encoding=\"UTF-8\" standalone=\"no\"?>\n<!DOCTYPE svg PUBLIC \"-//W3C//DTD SVG 1.1//EN\"\n \"http://www.w3.org/Graphics/SVG/1.1/DTD/svg11.dtd\">\n<!-- Generated by graphviz version 2.43.0 (0)\n -->\n<!-- Title: %3 Pages: 1 -->\n<svg width=\"1183pt\" height=\"128pt\"\n viewBox=\"0.00 0.00 1183.00 128.00\" xmlns=\"http://www.w3.org/2000/svg\" xmlns:xlink=\"http://www.w3.org/1999/xlink\">\n<g id=\"graph0\" class=\"graph\" transform=\"scale(1 1) rotate(0) translate(4 124)\">\n<title>%3</title>\n<polygon fill=\"white\" stroke=\"transparent\" points=\"-4,4 -4,-124 1179,-124 1179,4 -4,4\"/>\n<!-- 137974354012208 -->\n<g id=\"node1\" class=\"node\">\n<title>137974354012208</title>\n<polygon fill=\"none\" stroke=\"black\" points=\"981,-27.5 981,-63.5 1175,-63.5 1175,-27.5 981,-27.5\"/>\n<text text-anchor=\"middle\" x=\"993.5\" y=\"-41.8\" font-family=\"Times,serif\" font-size=\"14.00\">L</text>\n<polyline fill=\"none\" stroke=\"black\" points=\"1006,-27.5 1006,-63.5 \"/>\n<text text-anchor=\"middle\" x=\"1049.5\" y=\"-41.8\" font-family=\"Times,serif\" font-size=\"14.00\">data 40.0000</text>\n<polyline fill=\"none\" stroke=\"black\" points=\"1093,-27.5 1093,-63.5 \"/>\n<text text-anchor=\"middle\" x=\"1134\" y=\"-41.8\" font-family=\"Times,serif\" font-size=\"14.00\">grad 1.0000</text>\n</g>\n<!-- 137974354012208* -->\n<g id=\"node2\" class=\"node\">\n<title>137974354012208*</title>\n<ellipse fill=\"none\" stroke=\"black\" cx=\"918\" cy=\"-45.5\" rx=\"27\" ry=\"18\"/>\n<text text-anchor=\"middle\" x=\"918\" y=\"-41.8\" font-family=\"Times,serif\" font-size=\"14.00\">*</text>\n</g>\n<!-- 137974354012208*&#45;&gt;137974354012208 -->\n<g id=\"edge1\" class=\"edge\">\n<title>137974354012208*&#45;&gt;137974354012208</title>\n<path fill=\"none\" stroke=\"black\" d=\"M945.09,-45.5C952.62,-45.5 961.34,-45.5 970.63,-45.5\"/>\n<polygon fill=\"black\" stroke=\"black\" points=\"970.92,-49 980.92,-45.5 970.92,-42 970.92,-49\"/>\n</g>\n<!-- 137974354017200 -->\n<g id=\"node3\" class=\"node\">\n<title>137974354017200</title>\n<polygon fill=\"none\" stroke=\"black\" points=\"654,-55.5 654,-91.5 855,-91.5 855,-55.5 654,-55.5\"/>\n<text text-anchor=\"middle\" x=\"665.5\" y=\"-69.8\" font-family=\"Times,serif\" font-size=\"14.00\">d</text>\n<polyline fill=\"none\" stroke=\"black\" points=\"677,-55.5 677,-91.5 \"/>\n<text text-anchor=\"middle\" x=\"723\" y=\"-69.8\" font-family=\"Times,serif\" font-size=\"14.00\">data &#45;20.0000</text>\n<polyline fill=\"none\" stroke=\"black\" points=\"769,-55.5 769,-91.5 \"/>\n<text text-anchor=\"middle\" x=\"812\" y=\"-69.8\" font-family=\"Times,serif\" font-size=\"14.00\">grad &#45;2.0000</text>\n</g>\n<!-- 137974354017200&#45;&gt;137974354012208* -->\n<g id=\"edge5\" class=\"edge\">\n<title>137974354017200&#45;&gt;137974354012208*</title>\n<path fill=\"none\" stroke=\"black\" d=\"M855.02,-56.25C864.41,-54.62 873.44,-53.05 881.56,-51.64\"/>\n<polygon fill=\"black\" stroke=\"black\" points=\"882.42,-55.05 891.68,-49.89 881.23,-48.15 882.42,-55.05\"/>\n</g>\n<!-- 137974354017200+ -->\n<g id=\"node4\" class=\"node\">\n<title>137974354017200+</title>\n<ellipse fill=\"none\" stroke=\"black\" cx=\"591\" cy=\"-73.5\" rx=\"27\" ry=\"18\"/>\n<text text-anchor=\"middle\" x=\"591\" y=\"-69.8\" font-family=\"Times,serif\" font-size=\"14.00\">+</text>\n</g>\n<!-- 137974354017200+&#45;&gt;137974354017200 -->\n<g id=\"edge2\" class=\"edge\">\n<title>137974354017200+&#45;&gt;137974354017200</title>\n<path fill=\"none\" stroke=\"black\" d=\"M618.31,-73.5C625.79,-73.5 634.44,-73.5 643.68,-73.5\"/>\n<polygon fill=\"black\" stroke=\"black\" points=\"643.9,-77 653.9,-73.5 643.9,-70 643.9,-77\"/>\n</g>\n<!-- 137974354007648 -->\n<g id=\"node5\" class=\"node\">\n<title>137974354007648</title>\n<polygon fill=\"none\" stroke=\"black\" points=\"329.5,-83.5 329.5,-119.5 525.5,-119.5 525.5,-83.5 329.5,-83.5\"/>\n<text text-anchor=\"middle\" x=\"341\" y=\"-97.8\" font-family=\"Times,serif\" font-size=\"14.00\">c</text>\n<polyline fill=\"none\" stroke=\"black\" points=\"352.5,-83.5 352.5,-119.5 \"/>\n<text text-anchor=\"middle\" x=\"396\" y=\"-97.8\" font-family=\"Times,serif\" font-size=\"14.00\">data 10.0000</text>\n<polyline fill=\"none\" stroke=\"black\" points=\"439.5,-83.5 439.5,-119.5 \"/>\n<text text-anchor=\"middle\" x=\"482.5\" y=\"-97.8\" font-family=\"Times,serif\" font-size=\"14.00\">grad &#45;2.0000</text>\n</g>\n<!-- 137974354007648&#45;&gt;137974354017200+ -->\n<g id=\"edge6\" class=\"edge\">\n<title>137974354007648&#45;&gt;137974354017200+</title>\n<path fill=\"none\" stroke=\"black\" d=\"M525.71,-84.65C535.87,-82.88 545.67,-81.19 554.43,-79.67\"/>\n<polygon fill=\"black\" stroke=\"black\" points=\"555.29,-83.07 564.54,-77.91 554.09,-76.17 555.29,-83.07\"/>\n</g>\n<!-- 137974354006256 -->\n<g id=\"node6\" class=\"node\">\n<title>137974354006256</title>\n<polygon fill=\"none\" stroke=\"black\" points=\"655,-0.5 655,-36.5 854,-36.5 854,-0.5 655,-0.5\"/>\n<text text-anchor=\"middle\" x=\"665.5\" y=\"-14.8\" font-family=\"Times,serif\" font-size=\"14.00\">f</text>\n<polyline fill=\"none\" stroke=\"black\" points=\"676,-0.5 676,-36.5 \"/>\n<text text-anchor=\"middle\" x=\"718.5\" y=\"-14.8\" font-family=\"Times,serif\" font-size=\"14.00\">data &#45;2.0000</text>\n<polyline fill=\"none\" stroke=\"black\" points=\"761,-0.5 761,-36.5 \"/>\n<text text-anchor=\"middle\" x=\"807.5\" y=\"-14.8\" font-family=\"Times,serif\" font-size=\"14.00\">grad &#45;20.0000</text>\n</g>\n<!-- 137974354006256&#45;&gt;137974354012208* -->\n<g id=\"edge7\" class=\"edge\">\n<title>137974354006256&#45;&gt;137974354012208*</title>\n<path fill=\"none\" stroke=\"black\" d=\"M854.1,-34.98C863.79,-36.6 873.13,-38.17 881.51,-39.57\"/>\n<polygon fill=\"black\" stroke=\"black\" points=\"881.12,-43.05 891.56,-41.25 882.27,-36.15 881.12,-43.05\"/>\n</g>\n<!-- 137974354017536 -->\n<g id=\"node7\" class=\"node\">\n<title>137974354017536</title>\n<polygon fill=\"none\" stroke=\"black\" points=\"327,-28.5 327,-64.5 528,-64.5 528,-28.5 327,-28.5\"/>\n<text text-anchor=\"middle\" x=\"338.5\" y=\"-42.8\" font-family=\"Times,serif\" font-size=\"14.00\">e</text>\n<polyline fill=\"none\" stroke=\"black\" points=\"350,-28.5 350,-64.5 \"/>\n<text text-anchor=\"middle\" x=\"396\" y=\"-42.8\" font-family=\"Times,serif\" font-size=\"14.00\">data &#45;30.0000</text>\n<polyline fill=\"none\" stroke=\"black\" points=\"442,-28.5 442,-64.5 \"/>\n<text text-anchor=\"middle\" x=\"485\" y=\"-42.8\" font-family=\"Times,serif\" font-size=\"14.00\">grad &#45;2.0000</text>\n</g>\n<!-- 137974354017536&#45;&gt;137974354017200+ -->\n<g id=\"edge4\" class=\"edge\">\n<title>137974354017536&#45;&gt;137974354017200+</title>\n<path fill=\"none\" stroke=\"black\" d=\"M528.02,-63.14C537.41,-64.71 546.44,-66.22 554.56,-67.58\"/>\n<polygon fill=\"black\" stroke=\"black\" points=\"554.24,-71.07 564.68,-69.27 555.39,-64.17 554.24,-71.07\"/>\n</g>\n<!-- 137974354017536* -->\n<g id=\"node8\" class=\"node\">\n<title>137974354017536*</title>\n<ellipse fill=\"none\" stroke=\"black\" cx=\"264\" cy=\"-46.5\" rx=\"27\" ry=\"18\"/>\n<text text-anchor=\"middle\" x=\"264\" y=\"-42.8\" font-family=\"Times,serif\" font-size=\"14.00\">*</text>\n</g>\n<!-- 137974354017536*&#45;&gt;137974354017536 -->\n<g id=\"edge3\" class=\"edge\">\n<title>137974354017536*&#45;&gt;137974354017536</title>\n<path fill=\"none\" stroke=\"black\" d=\"M291.31,-46.5C298.79,-46.5 307.44,-46.5 316.68,-46.5\"/>\n<polygon fill=\"black\" stroke=\"black\" points=\"316.9,-50 326.9,-46.5 316.9,-43 316.9,-50\"/>\n</g>\n<!-- 137974354017152 -->\n<g id=\"node9\" class=\"node\">\n<title>137974354017152</title>\n<polygon fill=\"none\" stroke=\"black\" points=\"0,-56.5 0,-92.5 201,-92.5 201,-56.5 0,-56.5\"/>\n<text text-anchor=\"middle\" x=\"11.5\" y=\"-70.8\" font-family=\"Times,serif\" font-size=\"14.00\">b</text>\n<polyline fill=\"none\" stroke=\"black\" points=\"23,-56.5 23,-92.5 \"/>\n<text text-anchor=\"middle\" x=\"65.5\" y=\"-70.8\" font-family=\"Times,serif\" font-size=\"14.00\">data &#45;3.0000</text>\n<polyline fill=\"none\" stroke=\"black\" points=\"108,-56.5 108,-92.5 \"/>\n<text text-anchor=\"middle\" x=\"154.5\" y=\"-70.8\" font-family=\"Times,serif\" font-size=\"14.00\">grad &#45;20.0000</text>\n</g>\n<!-- 137974354017152&#45;&gt;137974354017536* -->\n<g id=\"edge8\" class=\"edge\">\n<title>137974354017152&#45;&gt;137974354017536*</title>\n<path fill=\"none\" stroke=\"black\" d=\"M201.02,-57.25C210.41,-55.62 219.44,-54.05 227.56,-52.64\"/>\n<polygon fill=\"black\" stroke=\"black\" points=\"228.42,-56.05 237.68,-50.89 227.23,-49.15 228.42,-56.05\"/>\n</g>\n<!-- 137974354006448 -->\n<g id=\"node10\" class=\"node\">\n<title>137974354006448</title>\n<polygon fill=\"none\" stroke=\"black\" points=\"4.5,-1.5 4.5,-37.5 196.5,-37.5 196.5,-1.5 4.5,-1.5\"/>\n<text text-anchor=\"middle\" x=\"16\" y=\"-15.8\" font-family=\"Times,serif\" font-size=\"14.00\">a</text>\n<polyline fill=\"none\" stroke=\"black\" points=\"27.5,-1.5 27.5,-37.5 \"/>\n<text text-anchor=\"middle\" x=\"71\" y=\"-15.8\" font-family=\"Times,serif\" font-size=\"14.00\">data 10.0000</text>\n<polyline fill=\"none\" stroke=\"black\" points=\"114.5,-1.5 114.5,-37.5 \"/>\n<text text-anchor=\"middle\" x=\"155.5\" y=\"-15.8\" font-family=\"Times,serif\" font-size=\"14.00\">grad 6.0000</text>\n</g>\n<!-- 137974354006448&#45;&gt;137974354017536* -->\n<g id=\"edge9\" class=\"edge\">\n<title>137974354006448&#45;&gt;137974354017536*</title>\n<path fill=\"none\" stroke=\"black\" d=\"M196.85,-35.44C207.76,-37.27 218.31,-39.03 227.66,-40.59\"/>\n<polygon fill=\"black\" stroke=\"black\" points=\"227.21,-44.07 237.65,-42.26 228.37,-37.16 227.21,-44.07\"/>\n</g>\n</g>\n</svg>\n",
            "text/plain": [
              "<graphviz.graphs.Digraph at 0x7d7ca85bd600>"
            ]
          },
          "metadata": {},
          "execution_count": 20
        }
      ],
      "source": [
        "draw_dot(L)"
      ]
    },
    {
      "cell_type": "code",
      "execution_count": 21,
      "metadata": {
        "colab": {
          "base_uri": "https://localhost:8080/"
        },
        "id": "oN3LcdN1lqtN",
        "outputId": "3b33ada0-a664-4f89-9edf-593635e530d1"
      },
      "outputs": [
        {
          "output_type": "execute_result",
          "data": {
            "text/plain": [
              "-20.0"
            ]
          },
          "metadata": {},
          "execution_count": 21
        }
      ],
      "source": [
        "-2.0 * 10.0"
      ]
    },
    {
      "cell_type": "code",
      "execution_count": 22,
      "metadata": {
        "colab": {
          "base_uri": "https://localhost:8080/"
        },
        "id": "UkOht-4HrBpT",
        "outputId": "078a76f4-e119-45d9-ef35-42047a87188b"
      },
      "outputs": [
        {
          "output_type": "stream",
          "name": "stdout",
          "text": [
            "0.0\n"
          ]
        }
      ],
      "source": [
        "def lol():\n",
        "  h = 0.0001 # increasing any parameter by the small amount of h\n",
        "  # whatever parameter we will add h(bump up by h) then it prints output as dL WRT that parameter.\n",
        "\n",
        "  a = Value(10, label='a')\n",
        "  b = Value(-3.0, label='b')\n",
        "  c = Value(10.0, label='c')\n",
        "  e = a*b; e.label='e'\n",
        "  d = e + c; d.label='d'\n",
        "  f = Value(-2.0, label='f')\n",
        "  L = d * f; L.label = 'L'\n",
        "  L1 = L.data\n",
        "\n",
        "  a = Value(10, label='a')\n",
        "  b = Value(-3.0, label='b')\n",
        "  c = Value(10.0, label='c')\n",
        "  e = a*b; e.label='e'\n",
        "  d = e + c; d.label='d'\n",
        "  f = Value(-2.0, label='f')\n",
        "  L = d * f; L.label = 'L'\n",
        "  L2 = L.data\n",
        "\n",
        "  print((L2 - L1)/h) # rise over run\n",
        "\n",
        "lol()"
      ]
    },
    {
      "cell_type": "markdown",
      "metadata": {
        "id": "d8PKInKRBuIE"
      },
      "source": [
        "So, That is the manual backpropagation, all the way from L(loss/output node) to leaf node. and done it peice by pice.\n",
        "\n",
        "All we done is we iterated from all the node one by one and locally apply the chain rule. we always know the derivative of L WRT this little output and we look at how this output is produced, this output is produced through some operation and we have some pointers to the children node of this operation. and in this little operation we know what the local derivatives are and we just multiply them on to the derivative always. so we go through recursively multiply on the local derivatives and that's what backpropagation is.\n",
        "\n",
        "its just a recursive application of chain rule through computaion graph.\n",
        "\n",
        "Let;s see the power in action\n",
        "\n",
        "a.data change it, if you want L to go up that means we just have to goto the direction of the gradient.\n",
        "\n",
        "change all the leaf node only not the expression one.\n",
        "\n",
        "if we nudge in direction of gradient we expact positive influence on L\n",
        "\n",
        "so we expact L to go UP positively, so it should become less negative. it should go up to say -6 or something like that"
      ]
    },
    {
      "cell_type": "markdown",
      "metadata": {
        "id": "AM6Uu4jlCVRo"
      },
      "source": [
        "> 💡 These gradients give us some power, because know how to influence the final outcome. And this is usefull to train neural nets"
      ]
    },
    {
      "cell_type": "code",
      "execution_count": 23,
      "metadata": {
        "colab": {
          "base_uri": "https://localhost:8080/"
        },
        "id": "2QaSyNwmPG29",
        "outputId": "8cd2f7e0-fadf-47d4-9a1a-12023586fcb7"
      },
      "outputs": [
        {
          "output_type": "stream",
          "name": "stdout",
          "text": [
            "48.866400000000006\n"
          ]
        }
      ],
      "source": [
        "a.data += 0.01 * a.grad\n",
        "b.data += 0.01 * b.grad\n",
        "c.data += 0.01 * c.grad\n",
        "f.data += 0.01 * f.grad\n",
        "\n",
        "#rewrite the forward pass\n",
        "\n",
        "e = a*b\n",
        "d = e + c\n",
        "# f will remain unchanged\n",
        "L = d * f;\n",
        "\n",
        "print(L.data)"
      ]
    },
    {
      "cell_type": "markdown",
      "metadata": {
        "id": "djVi_YnsVybz"
      },
      "source": [
        "# One more example of backpropagation using bit more complex and useful example\n",
        "\n",
        "## Goal\n",
        "Backpropagate through a single neuron.\n",
        "\n",
        "## Notes\n",
        "\n",
        "We evantually want to build out neural networs. and in simpler case it is multilayer perceptrons\n",
        "\n",
        "![](https://cs231n.github.io/assets/nn1/neural_net2.jpeg)\n",
        "\n",
        "That's the image of two layer Neural Nets. It has got two hidden layers made up of neurons. And these neurons are fully connected to each other.\n",
        "\n",
        "\n",
        "![](https://cs231n.github.io/assets/nn1/neuron.png)\n",
        "Above image of the biological neuron. And its very complicated devices.\n",
        "\n",
        "But we have very simple mathemetical models of them.\n",
        "\n",
        "Below 👇 is the image of simple mathemetical model of the neuron.\n",
        "\n",
        "![](https://cs231n.github.io/assets/nn1/neuron_model.jpeg)\n",
        "\n",
        "- it hase some input `x`'s (x).\n",
        "- and synapsis that have weights on them. `w`s are weights.\n",
        "- And these synaps interect multiplicatively with input.\n",
        "- So, what flows to the cell body of this neuron is `w*x` (w times x).\n",
        "- There's multiple inputs. so, there's many time `w * x`'s flowing to the cell body.\n",
        "- the cell body also has some bias `b`. This is sortof triggers happiness of neuron. so this bias can make it a bit more trigger happy or bit less trigger happy regardless of the input.\n",
        "\n",
        "Broadly we are taking all the `w * x` of all the inputs adding the bias `b` and then we take it through an activation function.\n",
        "\n",
        "**Activation Function** : is like somekind of squashing function like sigmoid, or tanh or something like that.\n",
        "\n",
        "In this example we are using `tanh`\n"
      ]
    },
    {
      "cell_type": "markdown",
      "metadata": {
        "id": "LrDUkWAwnBJ-"
      },
      "source": [
        "### Tanh Activation Function\n",
        "\n",
        "As you can see the inputs as they come in gets squashed on the `y` cordinate.\n",
        "\n",
        "converting all range of inputs to -1 to 1\n",
        "\n",
        " - right at `0` we will exactly get `0`.\n",
        " - And then you go more positive in the input then you will see that function will only go up to `1` and then plateau out  ?.\n",
        " - meaning if you pass very positive input we are gonna cap it smoothly at positive one 1.\n",
        " - And on negative side we will cap it smoothly to -1 negative one\n",
        " - So, that's the squashing/ activation function applied to the dot product of the weights and the inputs."
      ]
    },
    {
      "cell_type": "code",
      "execution_count": 24,
      "metadata": {
        "colab": {
          "base_uri": "https://localhost:8080/",
          "height": 430
        },
        "id": "mLlIN7GdIQAC",
        "outputId": "a1cdce05-5885-49f4-88e3-666922cd1a58"
      },
      "outputs": [
        {
          "output_type": "display_data",
          "data": {
            "text/plain": [
              "<Figure size 640x480 with 1 Axes>"
            ],
            "image/png": "[encoded data removed]"
          },
          "metadata": {}
        }
      ],
      "source": [
        "plt.plot(np.arange(-5,5,0.2), np.tanh(np.arange(-5,5,0.2))); plt.grid();"
      ]
    },
    {
      "cell_type": "code",
      "execution_count": 25,
      "metadata": {
        "id": "6Un1TRMRmxgZ"
      },
      "outputs": [],
      "source": [
        "# inputs x1, x2   2D neuron, so two inputs are gonna comin\n",
        "x1 = Value(2.0, label=\"x1\")\n",
        "x2 = Value(0.0, label=\"x2\")\n",
        "\n",
        "# weights of neuron w1, w2\n",
        "w1 = Value(-3.0, label=\"w1\")\n",
        "w2 = Value(1.0, label=\"w2\")\n",
        "\n",
        "# bias of the neuron\n",
        "b = Value(6.8813, label=\"b\")\n",
        "\n",
        "# (x1*w1) + (x2*w2) + b\n",
        "x1w1 = x1 * w1; x1w1.label = \"x1w1\";\n",
        "x2w2 = x2 * w2; x2w2.label = \"x2w2\";\n",
        "\n",
        "x1w1x2w2 = x1w1 + x2w2; x1w1x2w2.label = \"x1w1x2w2\";\n",
        "\n",
        "n = x1w1x2w2 + b; n.label=\"n\"; # its row body of cell without activation function. this is the part of sum+bias in the neuron\n",
        "\n",
        "# draw_dot(n) # draw the diagram before tanh\n",
        "\n",
        "# Now let's use tanh so that we can produce the final output\n",
        "\n",
        "# o here is output, want output from tanh\n",
        "o = n.tanh(); o.label = 'o' # now we can do these and thats going to return tanhd output of n\n",
        "# draw_dot(o)\n",
        "# 1. we haven;t yet written tanh\n",
        "# now should be able to draww o not n"
      ]
    },
    {
      "cell_type": "markdown",
      "metadata": {
        "id": "T6vBLZz5NN9v"
      },
      "source": [
        "Reason to build a `tanh` function in our Value Class.\n",
        " Its hyperbolic function, and we have only inmplemented so far plus and multiplication. and it can't make it tanh out of + and *. we also need exponentials.\n",
        "\n",
        " From the figure we can see that tanh involves exponentials and we havent yet implemented it yet.\n",
        "\n",
        " $$ tanh \\; x = \\frac{sinh \\; x}{cosh \\; x} = \\frac{e^x - e^{-x}}{e^x + e^{-x}} = \\frac{e^{2x} - 1}{e^{2x} + 1}. $$\n",
        "\n",
        " We can make use of either one of these equeations. So as we not gonna be able to produce tanh because we havent implemented it. so go backup and implement it in a `Value` node.\n",
        "\n",
        " 1 option:\n",
        "\n",
        " - implement exp function and can return exp of tanh value\n",
        " - bcs if we have exp function then we have implemented everything else that we need like add, mul, etc.\n",
        "\n",
        " Purpose:\n",
        " we just dont necceessarly need  to have the most atomic piceses in the `Value` object. we can create a functions at arbitrary point of abstractions. they can be complicated functions or they can be very simple functions like a plus. Its totally up to us.\n",
        "\n",
        " The only thing that matters is that we know how to differenciate through any one function. so we take some input and make some output. the only thing that matters is it can be arbitarily complex function as long as you know how to create a local derivative. If you know the local derivative of how the inputs impact the output then that's all you need.\n",
        "\n",
        " So instead of making `exp()` atomic function, we will cluster up all of the above shown expression and not gonna breack it down to its atomic pieces. just directly implementing the `tanh()`\n",
        "\n",
        "\n",
        " #### After implementation of tanh\n",
        " now tanh is a micrograd supported node.\n",
        " as long as we know derivative of `tanh` then we will be able to backpropagate through it.\n",
        "\n",
        " currently its not quashing too much of bias input as 6.7.\n",
        "\n",
        "\n",
        " if bias increase to 8. we can see the input to the tanh is now 2 and tanh is quashing it to 0.96. so already hiting the tail of the tanh and it will smoothly go upto 1 and plateau out over there.\n",
        "\n",
        " changing this bias from 8 to 6.88 for specific reasons like from backpropagation numbers comeout nice so that we can understand\n",
        "\n",
        " ## Back P\n",
        " - now goint to do backpropagation and filling all the gradients.\n",
        " - so whats is the derivative of `o` wrt all the inputs here.\n",
        " - in tipical nn setting we only care about the most is the derivative on the weights specifically w2, and w1.\n",
        " - bcs those are the weights that we are goint to optimize as part of backpropagation.\n",
        " - Other thing to keep in mind is that we have here is only single neuron. But in the neural net, they have many neurons and they are connected.\n",
        " - so this is like a small neuron a piece of a much bigger puzzle.\n",
        " - and evantually there's a loss function that measures the accuracy of neural net and we're backpropagating wrt that accuracy and trying to increase that.\n",
        "\n",
        "\n"
      ]
    },
    {
      "cell_type": "code",
      "execution_count": 26,
      "metadata": {
        "colab": {
          "base_uri": "https://localhost:8080/",
          "height": 321
        },
        "id": "Lx12x9hiCM1m",
        "outputId": "9493e62f-9fc0-4baf-c8b7-8a0f871de909"
      },
      "outputs": [
        {
          "output_type": "execute_result",
          "data": {
            "image/svg+xml": "<?xml version=\"1.0\" encoding=\"UTF-8\" standalone=\"no\"?>\n<!DOCTYPE svg PUBLIC \"-//W3C//DTD SVG 1.1//EN\"\n \"http://www.w3.org/Graphics/SVG/1.1/DTD/svg11.dtd\">\n<!-- Generated by graphviz version 2.43.0 (0)\n -->\n<!-- Title: %3 Pages: 1 -->\n<svg width=\"1540pt\" height=\"210pt\"\n viewBox=\"0.00 0.00 1540.00 210.00\" xmlns=\"http://www.w3.org/2000/svg\" xmlns:xlink=\"http://www.w3.org/1999/xlink\">\n<g id=\"graph0\" class=\"graph\" transform=\"scale(1 1) rotate(0) translate(4 206)\">\n<title>%3</title>\n<polygon fill=\"white\" stroke=\"transparent\" points=\"-4,4 -4,-206 1536,-206 1536,4 -4,4\"/>\n<!-- 137974349674000 -->\n<g id=\"node1\" class=\"node\">\n<title>137974349674000</title>\n<polygon fill=\"none\" stroke=\"black\" points=\"4,-165.5 4,-201.5 196,-201.5 196,-165.5 4,-165.5\"/>\n<text text-anchor=\"middle\" x=\"19\" y=\"-179.8\" font-family=\"Times,serif\" font-size=\"14.00\">x1</text>\n<polyline fill=\"none\" stroke=\"black\" points=\"34,-165.5 34,-201.5 \"/>\n<text text-anchor=\"middle\" x=\"74\" y=\"-179.8\" font-family=\"Times,serif\" font-size=\"14.00\">data 2.0000</text>\n<polyline fill=\"none\" stroke=\"black\" points=\"114,-165.5 114,-201.5 \"/>\n<text text-anchor=\"middle\" x=\"155\" y=\"-179.8\" font-family=\"Times,serif\" font-size=\"14.00\">grad 0.0000</text>\n</g>\n<!-- 137974349750208* -->\n<g id=\"node15\" class=\"node\">\n<title>137974349750208*</title>\n<ellipse fill=\"none\" stroke=\"black\" cx=\"263\" cy=\"-128.5\" rx=\"27\" ry=\"18\"/>\n<text text-anchor=\"middle\" x=\"263\" y=\"-124.8\" font-family=\"Times,serif\" font-size=\"14.00\">*</text>\n</g>\n<!-- 137974349674000&#45;&gt;137974349750208* -->\n<g id=\"edge7\" class=\"edge\">\n<title>137974349674000&#45;&gt;137974349750208*</title>\n<path fill=\"none\" stroke=\"black\" d=\"M172.53,-165.44C181.84,-162.67 191.2,-159.67 200,-156.5 210.53,-152.71 221.75,-147.9 231.72,-143.33\"/>\n<polygon fill=\"black\" stroke=\"black\" points=\"233.25,-146.48 240.82,-139.07 230.28,-140.14 233.25,-146.48\"/>\n</g>\n<!-- 137974349675056 -->\n<g id=\"node2\" class=\"node\">\n<title>137974349675056</title>\n<polygon fill=\"none\" stroke=\"black\" points=\"0,-110.5 0,-146.5 200,-146.5 200,-110.5 0,-110.5\"/>\n<text text-anchor=\"middle\" x=\"16.5\" y=\"-124.8\" font-family=\"Times,serif\" font-size=\"14.00\">w1</text>\n<polyline fill=\"none\" stroke=\"black\" points=\"33,-110.5 33,-146.5 \"/>\n<text text-anchor=\"middle\" x=\"75.5\" y=\"-124.8\" font-family=\"Times,serif\" font-size=\"14.00\">data &#45;3.0000</text>\n<polyline fill=\"none\" stroke=\"black\" points=\"118,-110.5 118,-146.5 \"/>\n<text text-anchor=\"middle\" x=\"159\" y=\"-124.8\" font-family=\"Times,serif\" font-size=\"14.00\">grad 0.0000</text>\n</g>\n<!-- 137974349675056&#45;&gt;137974349750208* -->\n<g id=\"edge12\" class=\"edge\">\n<title>137974349675056&#45;&gt;137974349750208*</title>\n<path fill=\"none\" stroke=\"black\" d=\"M200.21,-128.5C209.2,-128.5 217.86,-128.5 225.7,-128.5\"/>\n<polygon fill=\"black\" stroke=\"black\" points=\"225.85,-132 235.85,-128.5 225.85,-125 225.85,-132\"/>\n</g>\n<!-- 137974349749824 -->\n<g id=\"node3\" class=\"node\">\n<title>137974349749824</title>\n<polygon fill=\"none\" stroke=\"black\" points=\"666,-82.5 666,-118.5 910,-118.5 910,-82.5 666,-82.5\"/>\n<text text-anchor=\"middle\" x=\"704.5\" y=\"-96.8\" font-family=\"Times,serif\" font-size=\"14.00\">x1w1x2w2</text>\n<polyline fill=\"none\" stroke=\"black\" points=\"743,-82.5 743,-118.5 \"/>\n<text text-anchor=\"middle\" x=\"785.5\" y=\"-96.8\" font-family=\"Times,serif\" font-size=\"14.00\">data &#45;6.0000</text>\n<polyline fill=\"none\" stroke=\"black\" points=\"828,-82.5 828,-118.5 \"/>\n<text text-anchor=\"middle\" x=\"869\" y=\"-96.8\" font-family=\"Times,serif\" font-size=\"14.00\">grad 0.0000</text>\n</g>\n<!-- 137974349749392+ -->\n<g id=\"node7\" class=\"node\">\n<title>137974349749392+</title>\n<ellipse fill=\"none\" stroke=\"black\" cx=\"973\" cy=\"-72.5\" rx=\"27\" ry=\"18\"/>\n<text text-anchor=\"middle\" x=\"973\" y=\"-68.8\" font-family=\"Times,serif\" font-size=\"14.00\">+</text>\n</g>\n<!-- 137974349749824&#45;&gt;137974349749392+ -->\n<g id=\"edge13\" class=\"edge\">\n<title>137974349749824&#45;&gt;137974349749392+</title>\n<path fill=\"none\" stroke=\"black\" d=\"M906.71,-82.49C917.38,-80.86 927.53,-79.3 936.51,-77.93\"/>\n<polygon fill=\"black\" stroke=\"black\" points=\"937.13,-81.38 946.48,-76.4 936.07,-74.46 937.13,-81.38\"/>\n</g>\n<!-- 137974349749824+ -->\n<g id=\"node4\" class=\"node\">\n<title>137974349749824+</title>\n<ellipse fill=\"none\" stroke=\"black\" cx=\"603\" cy=\"-100.5\" rx=\"27\" ry=\"18\"/>\n<text text-anchor=\"middle\" x=\"603\" y=\"-96.8\" font-family=\"Times,serif\" font-size=\"14.00\">+</text>\n</g>\n<!-- 137974349749824+&#45;&gt;137974349749824 -->\n<g id=\"edge1\" class=\"edge\">\n<title>137974349749824+&#45;&gt;137974349749824</title>\n<path fill=\"none\" stroke=\"black\" d=\"M630.22,-100.5C637.7,-100.5 646.4,-100.5 655.79,-100.5\"/>\n<polygon fill=\"black\" stroke=\"black\" points=\"655.8,-104 665.8,-100.5 655.8,-97 655.8,-104\"/>\n</g>\n<!-- 137974349674576 -->\n<g id=\"node5\" class=\"node\">\n<title>137974349674576</title>\n<polygon fill=\"none\" stroke=\"black\" points=\"2.5,-55.5 2.5,-91.5 197.5,-91.5 197.5,-55.5 2.5,-55.5\"/>\n<text text-anchor=\"middle\" x=\"19\" y=\"-69.8\" font-family=\"Times,serif\" font-size=\"14.00\">w2</text>\n<polyline fill=\"none\" stroke=\"black\" points=\"35.5,-55.5 35.5,-91.5 \"/>\n<text text-anchor=\"middle\" x=\"75.5\" y=\"-69.8\" font-family=\"Times,serif\" font-size=\"14.00\">data 1.0000</text>\n<polyline fill=\"none\" stroke=\"black\" points=\"115.5,-55.5 115.5,-91.5 \"/>\n<text text-anchor=\"middle\" x=\"156.5\" y=\"-69.8\" font-family=\"Times,serif\" font-size=\"14.00\">grad 0.0000</text>\n</g>\n<!-- 137974349749680* -->\n<g id=\"node13\" class=\"node\">\n<title>137974349749680*</title>\n<ellipse fill=\"none\" stroke=\"black\" cx=\"263\" cy=\"-73.5\" rx=\"27\" ry=\"18\"/>\n<text text-anchor=\"middle\" x=\"263\" y=\"-69.8\" font-family=\"Times,serif\" font-size=\"14.00\">*</text>\n</g>\n<!-- 137974349674576&#45;&gt;137974349749680* -->\n<g id=\"edge6\" class=\"edge\">\n<title>137974349674576&#45;&gt;137974349749680*</title>\n<path fill=\"none\" stroke=\"black\" d=\"M197.91,-73.5C207.65,-73.5 217.05,-73.5 225.52,-73.5\"/>\n<polygon fill=\"black\" stroke=\"black\" points=\"225.7,-77 235.7,-73.5 225.7,-70 225.7,-77\"/>\n</g>\n<!-- 137974349749392 -->\n<g id=\"node6\" class=\"node\">\n<title>137974349749392</title>\n<polygon fill=\"none\" stroke=\"black\" points=\"1036,-54.5 1036,-90.5 1221,-90.5 1221,-54.5 1036,-54.5\"/>\n<text text-anchor=\"middle\" x=\"1047.5\" y=\"-68.8\" font-family=\"Times,serif\" font-size=\"14.00\">n</text>\n<polyline fill=\"none\" stroke=\"black\" points=\"1059,-54.5 1059,-90.5 \"/>\n<text text-anchor=\"middle\" x=\"1099\" y=\"-68.8\" font-family=\"Times,serif\" font-size=\"14.00\">data 0.8813</text>\n<polyline fill=\"none\" stroke=\"black\" points=\"1139,-54.5 1139,-90.5 \"/>\n<text text-anchor=\"middle\" x=\"1180\" y=\"-68.8\" font-family=\"Times,serif\" font-size=\"14.00\">grad 0.0000</text>\n</g>\n<!-- 137974349754240tanh -->\n<g id=\"node11\" class=\"node\">\n<title>137974349754240tanh</title>\n<ellipse fill=\"none\" stroke=\"black\" cx=\"1284\" cy=\"-72.5\" rx=\"27\" ry=\"18\"/>\n<text text-anchor=\"middle\" x=\"1284\" y=\"-68.8\" font-family=\"Times,serif\" font-size=\"14.00\">tanh</text>\n</g>\n<!-- 137974349749392&#45;&gt;137974349754240tanh -->\n<g id=\"edge9\" class=\"edge\">\n<title>137974349749392&#45;&gt;137974349754240tanh</title>\n<path fill=\"none\" stroke=\"black\" d=\"M1221.01,-72.5C1230.01,-72.5 1238.74,-72.5 1246.66,-72.5\"/>\n<polygon fill=\"black\" stroke=\"black\" points=\"1246.91,-76 1256.91,-72.5 1246.91,-69 1246.91,-76\"/>\n</g>\n<!-- 137974349749392+&#45;&gt;137974349749392 -->\n<g id=\"edge2\" class=\"edge\">\n<title>137974349749392+&#45;&gt;137974349749392</title>\n<path fill=\"none\" stroke=\"black\" d=\"M1000.04,-72.5C1007.58,-72.5 1016.3,-72.5 1025.57,-72.5\"/>\n<polygon fill=\"black\" stroke=\"black\" points=\"1025.81,-76 1035.81,-72.5 1025.81,-69 1025.81,-76\"/>\n</g>\n<!-- 137974354004912 -->\n<g id=\"node8\" class=\"node\">\n<title>137974354004912</title>\n<polygon fill=\"none\" stroke=\"black\" points=\"4,-0.5 4,-36.5 196,-36.5 196,-0.5 4,-0.5\"/>\n<text text-anchor=\"middle\" x=\"19\" y=\"-14.8\" font-family=\"Times,serif\" font-size=\"14.00\">x2</text>\n<polyline fill=\"none\" stroke=\"black\" points=\"34,-0.5 34,-36.5 \"/>\n<text text-anchor=\"middle\" x=\"74\" y=\"-14.8\" font-family=\"Times,serif\" font-size=\"14.00\">data 0.0000</text>\n<polyline fill=\"none\" stroke=\"black\" points=\"114,-0.5 114,-36.5 \"/>\n<text text-anchor=\"middle\" x=\"155\" y=\"-14.8\" font-family=\"Times,serif\" font-size=\"14.00\">grad 0.0000</text>\n</g>\n<!-- 137974354004912&#45;&gt;137974349749680* -->\n<g id=\"edge8\" class=\"edge\">\n<title>137974354004912&#45;&gt;137974349749680*</title>\n<path fill=\"none\" stroke=\"black\" d=\"M169.28,-36.5C179.65,-39.61 190.16,-42.98 200,-46.5 210.28,-50.17 221.28,-54.74 231.11,-59.07\"/>\n<polygon fill=\"black\" stroke=\"black\" points=\"229.93,-62.37 240.48,-63.27 232.79,-55.99 229.93,-62.37\"/>\n</g>\n<!-- 137974354013024 -->\n<g id=\"node9\" class=\"node\">\n<title>137974354013024</title>\n<polygon fill=\"none\" stroke=\"black\" points=\"695.5,-27.5 695.5,-63.5 880.5,-63.5 880.5,-27.5 695.5,-27.5\"/>\n<text text-anchor=\"middle\" x=\"707\" y=\"-41.8\" font-family=\"Times,serif\" font-size=\"14.00\">b</text>\n<polyline fill=\"none\" stroke=\"black\" points=\"718.5,-27.5 718.5,-63.5 \"/>\n<text text-anchor=\"middle\" x=\"758.5\" y=\"-41.8\" font-family=\"Times,serif\" font-size=\"14.00\">data 6.8813</text>\n<polyline fill=\"none\" stroke=\"black\" points=\"798.5,-27.5 798.5,-63.5 \"/>\n<text text-anchor=\"middle\" x=\"839.5\" y=\"-41.8\" font-family=\"Times,serif\" font-size=\"14.00\">grad 0.0000</text>\n</g>\n<!-- 137974354013024&#45;&gt;137974349749392+ -->\n<g id=\"edge14\" class=\"edge\">\n<title>137974354013024&#45;&gt;137974349749392+</title>\n<path fill=\"none\" stroke=\"black\" d=\"M880.77,-59.04C900.52,-61.95 920.26,-64.87 936.29,-67.23\"/>\n<polygon fill=\"black\" stroke=\"black\" points=\"935.86,-70.71 946.26,-68.7 936.88,-63.78 935.86,-70.71\"/>\n</g>\n<!-- 137974349754240 -->\n<g id=\"node10\" class=\"node\">\n<title>137974349754240</title>\n<polygon fill=\"none\" stroke=\"black\" points=\"1347,-54.5 1347,-90.5 1532,-90.5 1532,-54.5 1347,-54.5\"/>\n<text text-anchor=\"middle\" x=\"1358.5\" y=\"-68.8\" font-family=\"Times,serif\" font-size=\"14.00\">o</text>\n<polyline fill=\"none\" stroke=\"black\" points=\"1370,-54.5 1370,-90.5 \"/>\n<text text-anchor=\"middle\" x=\"1410\" y=\"-68.8\" font-family=\"Times,serif\" font-size=\"14.00\">data 0.7071</text>\n<polyline fill=\"none\" stroke=\"black\" points=\"1450,-54.5 1450,-90.5 \"/>\n<text text-anchor=\"middle\" x=\"1491\" y=\"-68.8\" font-family=\"Times,serif\" font-size=\"14.00\">grad 0.0000</text>\n</g>\n<!-- 137974349754240tanh&#45;&gt;137974349754240 -->\n<g id=\"edge3\" class=\"edge\">\n<title>137974349754240tanh&#45;&gt;137974349754240</title>\n<path fill=\"none\" stroke=\"black\" d=\"M1311.04,-72.5C1318.58,-72.5 1327.3,-72.5 1336.57,-72.5\"/>\n<polygon fill=\"black\" stroke=\"black\" points=\"1336.81,-76 1346.81,-72.5 1336.81,-69 1336.81,-76\"/>\n</g>\n<!-- 137974349749680 -->\n<g id=\"node12\" class=\"node\">\n<title>137974349749680</title>\n<polygon fill=\"none\" stroke=\"black\" points=\"328.5,-55.5 328.5,-91.5 537.5,-91.5 537.5,-55.5 328.5,-55.5\"/>\n<text text-anchor=\"middle\" x=\"352\" y=\"-69.8\" font-family=\"Times,serif\" font-size=\"14.00\">x2w2</text>\n<polyline fill=\"none\" stroke=\"black\" points=\"375.5,-55.5 375.5,-91.5 \"/>\n<text text-anchor=\"middle\" x=\"415.5\" y=\"-69.8\" font-family=\"Times,serif\" font-size=\"14.00\">data 0.0000</text>\n<polyline fill=\"none\" stroke=\"black\" points=\"455.5,-55.5 455.5,-91.5 \"/>\n<text text-anchor=\"middle\" x=\"496.5\" y=\"-69.8\" font-family=\"Times,serif\" font-size=\"14.00\">grad 0.0000</text>\n</g>\n<!-- 137974349749680&#45;&gt;137974349749824+ -->\n<g id=\"edge10\" class=\"edge\">\n<title>137974349749680&#45;&gt;137974349749824+</title>\n<path fill=\"none\" stroke=\"black\" d=\"M537.53,-90.14C547.8,-91.79 557.66,-93.37 566.45,-94.79\"/>\n<polygon fill=\"black\" stroke=\"black\" points=\"566.16,-98.28 576.59,-96.42 567.27,-91.37 566.16,-98.28\"/>\n</g>\n<!-- 137974349749680*&#45;&gt;137974349749680 -->\n<g id=\"edge4\" class=\"edge\">\n<title>137974349749680*&#45;&gt;137974349749680</title>\n<path fill=\"none\" stroke=\"black\" d=\"M290.25,-73.5C298.43,-73.5 308.03,-73.5 318.31,-73.5\"/>\n<polygon fill=\"black\" stroke=\"black\" points=\"318.35,-77 328.35,-73.5 318.35,-70 318.35,-77\"/>\n</g>\n<!-- 137974349750208 -->\n<g id=\"node14\" class=\"node\">\n<title>137974349750208</title>\n<polygon fill=\"none\" stroke=\"black\" points=\"326,-110.5 326,-146.5 540,-146.5 540,-110.5 326,-110.5\"/>\n<text text-anchor=\"middle\" x=\"349.5\" y=\"-124.8\" font-family=\"Times,serif\" font-size=\"14.00\">x1w1</text>\n<polyline fill=\"none\" stroke=\"black\" points=\"373,-110.5 373,-146.5 \"/>\n<text text-anchor=\"middle\" x=\"415.5\" y=\"-124.8\" font-family=\"Times,serif\" font-size=\"14.00\">data &#45;6.0000</text>\n<polyline fill=\"none\" stroke=\"black\" points=\"458,-110.5 458,-146.5 \"/>\n<text text-anchor=\"middle\" x=\"499\" y=\"-124.8\" font-family=\"Times,serif\" font-size=\"14.00\">grad 0.0000</text>\n</g>\n<!-- 137974349750208&#45;&gt;137974349749824+ -->\n<g id=\"edge11\" class=\"edge\">\n<title>137974349750208&#45;&gt;137974349749824+</title>\n<path fill=\"none\" stroke=\"black\" d=\"M540.4,-110.77C549.72,-109.21 558.65,-107.72 566.68,-106.39\"/>\n<polygon fill=\"black\" stroke=\"black\" points=\"567.38,-109.82 576.66,-104.72 566.22,-102.91 567.38,-109.82\"/>\n</g>\n<!-- 137974349750208*&#45;&gt;137974349750208 -->\n<g id=\"edge5\" class=\"edge\">\n<title>137974349750208*&#45;&gt;137974349750208</title>\n<path fill=\"none\" stroke=\"black\" d=\"M290.25,-128.5C297.7,-128.5 306.34,-128.5 315.59,-128.5\"/>\n<polygon fill=\"black\" stroke=\"black\" points=\"315.84,-132 325.84,-128.5 315.84,-125 315.84,-132\"/>\n</g>\n</g>\n</svg>\n",
            "text/plain": [
              "<graphviz.graphs.Digraph at 0x7d7ca817f010>"
            ]
          },
          "metadata": {},
          "execution_count": 26
        }
      ],
      "source": [
        "draw_dot(o)"
      ]
    },
    {
      "cell_type": "markdown",
      "metadata": {
        "id": "9lbvyy6OHV0z"
      },
      "source": [
        "What is the der of `o` wrt `o`, the base case the gradient is just 1.0\n",
        "\n",
        " now backpropagate through tanh\n",
        "\n",
        " to backpropagate through tanh we need to know local derivative of tanh\n",
        "\n",
        " o = tanh(n)\n",
        "\n",
        " do/dn = ??\n",
        "\n",
        " we can calculate derivative manualy of the above given equation of `tanh`. or just use the below given equation for getting derivative of `tanh` from wikipidia.\n",
        "\n",
        " $$ \\frac{d}{dx} tanh \\; x = 1 - tanh^2x $$\n",
        "\n",
        " this is just 1 minus tanh(x)^2\n",
        "\n",
        " do/dn = 1 - tanh(n)**2\n",
        "\n",
        " so fill n's gradient\n",
        "\n",
        " then comes `+` node. and from previous we know it just distributes the gradients bcs local derivative of every node is 1\n",
        "\n",
        " and again we have + node so continueing distributing the gradient.\n"
      ]
    },
    {
      "cell_type": "code",
      "execution_count": 27,
      "metadata": {
        "id": "JPTo3j8gKEnV"
      },
      "outputs": [],
      "source": [
        "n.grad = 0.5"
      ]
    },
    {
      "cell_type": "code",
      "execution_count": 28,
      "metadata": {
        "id": "iLuD-oXLHT-5"
      },
      "outputs": [],
      "source": [
        "o.grad = 1.0\n",
        "# now backpropagate through tanh\n",
        "# to backpropagate through tanh we need to know local derivative of tanh\n",
        "\n",
        "# o = tanh(n)\n",
        "# do/dn = ??\n",
        "\n"
      ]
    },
    {
      "cell_type": "code",
      "execution_count": 29,
      "metadata": {
        "colab": {
          "base_uri": "https://localhost:8080/"
        },
        "id": "kyBqY6MeJtTK",
        "outputId": "f3c6ed43-fbd1-490a-cf42-c7221c2b37b4"
      },
      "outputs": [
        {
          "output_type": "execute_result",
          "data": {
            "text/plain": [
              "0.5000520352341944"
            ]
          },
          "metadata": {},
          "execution_count": 29
        }
      ],
      "source": [
        "# o = tanh(n)\n",
        "# do/dn = 1 - tanh(n)**2   or 1 - o**2\n",
        "1 - o.data**2 # 0.5"
      ]
    },
    {
      "cell_type": "code",
      "execution_count": 30,
      "metadata": {
        "id": "sLGX70eNHNYF"
      },
      "outputs": [],
      "source": [
        "x1w1x2w2.grad = 0.5\n",
        "b.grad = 0.5"
      ]
    },
    {
      "cell_type": "code",
      "execution_count": 31,
      "metadata": {
        "id": "h6bICrgvK1Qj"
      },
      "outputs": [],
      "source": [
        "x1w1.grad = 0.5\n",
        "x2w2.grad = 0.5"
      ]
    },
    {
      "cell_type": "code",
      "execution_count": 32,
      "metadata": {
        "id": "zTxEYNIbLg8-"
      },
      "outputs": [],
      "source": [
        "x2.grad = w2.data * x2w2.grad # that's the global pice of chain rule\n",
        "w2.grad = x2.data * x2w2.grad"
      ]
    },
    {
      "cell_type": "markdown",
      "metadata": {
        "id": "ueRT3HcjwJpt"
      },
      "source": [
        "As you can see the gradient on our weight `w2` is `0.0` because `x2`'s data was `0.0`. and `x2` will have gradient `0.5` as `w2.data` is `1.0`.\n",
        "\n",
        "derivative always tells us the influence of weight on the final output. If I wiggle `w2` how is the output changing? its not changing because we are multiplying it with `0` and because its not changing there is no derivative. and `0` is the correct answer.\n",
        "\n",
        "same way do it for x1 and w1"
      ]
    },
    {
      "cell_type": "code",
      "execution_count": 33,
      "metadata": {
        "id": "zIGTEl9OMgRP"
      },
      "outputs": [],
      "source": [
        "x1.grad = w1.data * x1w1.grad\n",
        "w1.grad = x1.data * x1w1.grad"
      ]
    },
    {
      "cell_type": "markdown",
      "metadata": {
        "id": "vLRvqZ5DzLUR"
      },
      "source": [
        "So `x1`'s grad will be `-1.5` and `w1` will be `1.0`.\n",
        "\n",
        "so if we want these neurons output to increase.\n",
        "`w2` doesnt matter as of now as its gradient is `0`. so `w1` weight should go up then these neuron output will go up and proportionally because the gradient is `1.0`\n",
        "\n",
        "\n",
        "Doing the backpropagation manually is obvausly ridiculas.\n",
        "\n",
        "Now implementing backward pass automaticaly and not going to do it manually."
      ]
    },
    {
      "cell_type": "markdown",
      "metadata": {
        "id": "XYw_HgEW1Uq7"
      },
      "source": [
        "### Implementing automatic backward pass\n",
        "\n",
        "- starting it by doing self._backward.\n",
        "- this will be a function which is going to do a little pice of chain rule.\n",
        "- at each little node that compute that took input and produced output.\n",
        "- we are going to store how we are going to chain outputs gradients into the input gradients.\n",
        "- so by default this will be a function that doesn't do anything. and that would be the case for the leaf node. there's nothing to do with leaf node."
      ]
    },
    {
      "cell_type": "markdown",
      "metadata": {
        "id": "zrL1lm9Pzwyn"
      },
      "source": [
        "## backward() in add\n",
        "\n",
        "- `out` values are an addition of `self` and `other`.\n",
        "- `out._backward = _backward` is the function that propagates the gradient.\n",
        "- now define the function what it should do.\n",
        "- its job is to take `out's` grad and propagate it to `self` and `other's` grad.\n",
        "- as we shaw how the chain rule works. take the local derivative times the global derivative (which is the derivative of the final output of the expression wrt out's data).\n",
        "- so local derivative of self is 1.0 in addition operatino times `out.grad`.\n",
        "- and `others.grad = 1.0 * out.grad`.\n",
        "- later will call this function to propagate the gradient\n",
        "\n",
        "\n",
        "## backaward for mul(*)\n",
        "- same way for multiplication\n",
        "- in backward function.\n",
        "- `self.grad = other.data * out.grad` and `other.grad = self.data * out.grad`\n",
        "\n",
        "and same way for `tanh`\n",
        "- in tanh's backward function there's local derivative of tanh and out.grad\n",
        "\n",
        "That's it, now test time.\n",
        "\n"
      ]
    },
    {
      "cell_type": "code",
      "execution_count": 34,
      "metadata": {
        "colab": {
          "base_uri": "https://localhost:8080/",
          "height": 321
        },
        "id": "kJjukoDG1USf",
        "outputId": "5c83844e-bcd6-4500-e379-409abe4305bb"
      },
      "outputs": [
        {
          "output_type": "execute_result",
          "data": {
            "image/svg+xml": "<?xml version=\"1.0\" encoding=\"UTF-8\" standalone=\"no\"?>\n<!DOCTYPE svg PUBLIC \"-//W3C//DTD SVG 1.1//EN\"\n \"http://www.w3.org/Graphics/SVG/1.1/DTD/svg11.dtd\">\n<!-- Generated by graphviz version 2.43.0 (0)\n -->\n<!-- Title: %3 Pages: 1 -->\n<svg width=\"1540pt\" height=\"210pt\"\n viewBox=\"0.00 0.00 1540.00 210.00\" xmlns=\"http://www.w3.org/2000/svg\" xmlns:xlink=\"http://www.w3.org/1999/xlink\">\n<g id=\"graph0\" class=\"graph\" transform=\"scale(1 1) rotate(0) translate(4 206)\">\n<title>%3</title>\n<polygon fill=\"white\" stroke=\"transparent\" points=\"-4,4 -4,-206 1536,-206 1536,4 -4,4\"/>\n<!-- 137974349674000 -->\n<g id=\"node1\" class=\"node\">\n<title>137974349674000</title>\n<polygon fill=\"none\" stroke=\"black\" points=\"2,-165.5 2,-201.5 198,-201.5 198,-165.5 2,-165.5\"/>\n<text text-anchor=\"middle\" x=\"17\" y=\"-179.8\" font-family=\"Times,serif\" font-size=\"14.00\">x1</text>\n<polyline fill=\"none\" stroke=\"black\" points=\"32,-165.5 32,-201.5 \"/>\n<text text-anchor=\"middle\" x=\"72\" y=\"-179.8\" font-family=\"Times,serif\" font-size=\"14.00\">data 2.0000</text>\n<polyline fill=\"none\" stroke=\"black\" points=\"112,-165.5 112,-201.5 \"/>\n<text text-anchor=\"middle\" x=\"155\" y=\"-179.8\" font-family=\"Times,serif\" font-size=\"14.00\">grad &#45;1.5000</text>\n</g>\n<!-- 137974349750208* -->\n<g id=\"node15\" class=\"node\">\n<title>137974349750208*</title>\n<ellipse fill=\"none\" stroke=\"black\" cx=\"263\" cy=\"-128.5\" rx=\"27\" ry=\"18\"/>\n<text text-anchor=\"middle\" x=\"263\" y=\"-124.8\" font-family=\"Times,serif\" font-size=\"14.00\">*</text>\n</g>\n<!-- 137974349674000&#45;&gt;137974349750208* -->\n<g id=\"edge7\" class=\"edge\">\n<title>137974349674000&#45;&gt;137974349750208*</title>\n<path fill=\"none\" stroke=\"black\" d=\"M172.53,-165.44C181.84,-162.67 191.2,-159.67 200,-156.5 210.53,-152.71 221.75,-147.9 231.72,-143.33\"/>\n<polygon fill=\"black\" stroke=\"black\" points=\"233.25,-146.48 240.82,-139.07 230.28,-140.14 233.25,-146.48\"/>\n</g>\n<!-- 137974349675056 -->\n<g id=\"node2\" class=\"node\">\n<title>137974349675056</title>\n<polygon fill=\"none\" stroke=\"black\" points=\"0,-110.5 0,-146.5 200,-146.5 200,-110.5 0,-110.5\"/>\n<text text-anchor=\"middle\" x=\"16.5\" y=\"-124.8\" font-family=\"Times,serif\" font-size=\"14.00\">w1</text>\n<polyline fill=\"none\" stroke=\"black\" points=\"33,-110.5 33,-146.5 \"/>\n<text text-anchor=\"middle\" x=\"75.5\" y=\"-124.8\" font-family=\"Times,serif\" font-size=\"14.00\">data &#45;3.0000</text>\n<polyline fill=\"none\" stroke=\"black\" points=\"118,-110.5 118,-146.5 \"/>\n<text text-anchor=\"middle\" x=\"159\" y=\"-124.8\" font-family=\"Times,serif\" font-size=\"14.00\">grad 1.0000</text>\n</g>\n<!-- 137974349675056&#45;&gt;137974349750208* -->\n<g id=\"edge12\" class=\"edge\">\n<title>137974349675056&#45;&gt;137974349750208*</title>\n<path fill=\"none\" stroke=\"black\" d=\"M200.21,-128.5C209.2,-128.5 217.86,-128.5 225.7,-128.5\"/>\n<polygon fill=\"black\" stroke=\"black\" points=\"225.85,-132 235.85,-128.5 225.85,-125 225.85,-132\"/>\n</g>\n<!-- 137974349749824 -->\n<g id=\"node3\" class=\"node\">\n<title>137974349749824</title>\n<polygon fill=\"none\" stroke=\"black\" points=\"666,-82.5 666,-118.5 910,-118.5 910,-82.5 666,-82.5\"/>\n<text text-anchor=\"middle\" x=\"704.5\" y=\"-96.8\" font-family=\"Times,serif\" font-size=\"14.00\">x1w1x2w2</text>\n<polyline fill=\"none\" stroke=\"black\" points=\"743,-82.5 743,-118.5 \"/>\n<text text-anchor=\"middle\" x=\"785.5\" y=\"-96.8\" font-family=\"Times,serif\" font-size=\"14.00\">data &#45;6.0000</text>\n<polyline fill=\"none\" stroke=\"black\" points=\"828,-82.5 828,-118.5 \"/>\n<text text-anchor=\"middle\" x=\"869\" y=\"-96.8\" font-family=\"Times,serif\" font-size=\"14.00\">grad 0.5000</text>\n</g>\n<!-- 137974349749392+ -->\n<g id=\"node7\" class=\"node\">\n<title>137974349749392+</title>\n<ellipse fill=\"none\" stroke=\"black\" cx=\"973\" cy=\"-72.5\" rx=\"27\" ry=\"18\"/>\n<text text-anchor=\"middle\" x=\"973\" y=\"-68.8\" font-family=\"Times,serif\" font-size=\"14.00\">+</text>\n</g>\n<!-- 137974349749824&#45;&gt;137974349749392+ -->\n<g id=\"edge13\" class=\"edge\">\n<title>137974349749824&#45;&gt;137974349749392+</title>\n<path fill=\"none\" stroke=\"black\" d=\"M906.71,-82.49C917.38,-80.86 927.53,-79.3 936.51,-77.93\"/>\n<polygon fill=\"black\" stroke=\"black\" points=\"937.13,-81.38 946.48,-76.4 936.07,-74.46 937.13,-81.38\"/>\n</g>\n<!-- 137974349749824+ -->\n<g id=\"node4\" class=\"node\">\n<title>137974349749824+</title>\n<ellipse fill=\"none\" stroke=\"black\" cx=\"603\" cy=\"-100.5\" rx=\"27\" ry=\"18\"/>\n<text text-anchor=\"middle\" x=\"603\" y=\"-96.8\" font-family=\"Times,serif\" font-size=\"14.00\">+</text>\n</g>\n<!-- 137974349749824+&#45;&gt;137974349749824 -->\n<g id=\"edge1\" class=\"edge\">\n<title>137974349749824+&#45;&gt;137974349749824</title>\n<path fill=\"none\" stroke=\"black\" d=\"M630.22,-100.5C637.7,-100.5 646.4,-100.5 655.79,-100.5\"/>\n<polygon fill=\"black\" stroke=\"black\" points=\"655.8,-104 665.8,-100.5 655.8,-97 655.8,-104\"/>\n</g>\n<!-- 137974349674576 -->\n<g id=\"node5\" class=\"node\">\n<title>137974349674576</title>\n<polygon fill=\"none\" stroke=\"black\" points=\"2.5,-55.5 2.5,-91.5 197.5,-91.5 197.5,-55.5 2.5,-55.5\"/>\n<text text-anchor=\"middle\" x=\"19\" y=\"-69.8\" font-family=\"Times,serif\" font-size=\"14.00\">w2</text>\n<polyline fill=\"none\" stroke=\"black\" points=\"35.5,-55.5 35.5,-91.5 \"/>\n<text text-anchor=\"middle\" x=\"75.5\" y=\"-69.8\" font-family=\"Times,serif\" font-size=\"14.00\">data 1.0000</text>\n<polyline fill=\"none\" stroke=\"black\" points=\"115.5,-55.5 115.5,-91.5 \"/>\n<text text-anchor=\"middle\" x=\"156.5\" y=\"-69.8\" font-family=\"Times,serif\" font-size=\"14.00\">grad 0.0000</text>\n</g>\n<!-- 137974349749680* -->\n<g id=\"node13\" class=\"node\">\n<title>137974349749680*</title>\n<ellipse fill=\"none\" stroke=\"black\" cx=\"263\" cy=\"-73.5\" rx=\"27\" ry=\"18\"/>\n<text text-anchor=\"middle\" x=\"263\" y=\"-69.8\" font-family=\"Times,serif\" font-size=\"14.00\">*</text>\n</g>\n<!-- 137974349674576&#45;&gt;137974349749680* -->\n<g id=\"edge6\" class=\"edge\">\n<title>137974349674576&#45;&gt;137974349749680*</title>\n<path fill=\"none\" stroke=\"black\" d=\"M197.91,-73.5C207.65,-73.5 217.05,-73.5 225.52,-73.5\"/>\n<polygon fill=\"black\" stroke=\"black\" points=\"225.7,-77 235.7,-73.5 225.7,-70 225.7,-77\"/>\n</g>\n<!-- 137974349749392 -->\n<g id=\"node6\" class=\"node\">\n<title>137974349749392</title>\n<polygon fill=\"none\" stroke=\"black\" points=\"1036,-54.5 1036,-90.5 1221,-90.5 1221,-54.5 1036,-54.5\"/>\n<text text-anchor=\"middle\" x=\"1047.5\" y=\"-68.8\" font-family=\"Times,serif\" font-size=\"14.00\">n</text>\n<polyline fill=\"none\" stroke=\"black\" points=\"1059,-54.5 1059,-90.5 \"/>\n<text text-anchor=\"middle\" x=\"1099\" y=\"-68.8\" font-family=\"Times,serif\" font-size=\"14.00\">data 0.8813</text>\n<polyline fill=\"none\" stroke=\"black\" points=\"1139,-54.5 1139,-90.5 \"/>\n<text text-anchor=\"middle\" x=\"1180\" y=\"-68.8\" font-family=\"Times,serif\" font-size=\"14.00\">grad 0.5000</text>\n</g>\n<!-- 137974349754240tanh -->\n<g id=\"node11\" class=\"node\">\n<title>137974349754240tanh</title>\n<ellipse fill=\"none\" stroke=\"black\" cx=\"1284\" cy=\"-72.5\" rx=\"27\" ry=\"18\"/>\n<text text-anchor=\"middle\" x=\"1284\" y=\"-68.8\" font-family=\"Times,serif\" font-size=\"14.00\">tanh</text>\n</g>\n<!-- 137974349749392&#45;&gt;137974349754240tanh -->\n<g id=\"edge9\" class=\"edge\">\n<title>137974349749392&#45;&gt;137974349754240tanh</title>\n<path fill=\"none\" stroke=\"black\" d=\"M1221.01,-72.5C1230.01,-72.5 1238.74,-72.5 1246.66,-72.5\"/>\n<polygon fill=\"black\" stroke=\"black\" points=\"1246.91,-76 1256.91,-72.5 1246.91,-69 1246.91,-76\"/>\n</g>\n<!-- 137974349749392+&#45;&gt;137974349749392 -->\n<g id=\"edge2\" class=\"edge\">\n<title>137974349749392+&#45;&gt;137974349749392</title>\n<path fill=\"none\" stroke=\"black\" d=\"M1000.04,-72.5C1007.58,-72.5 1016.3,-72.5 1025.57,-72.5\"/>\n<polygon fill=\"black\" stroke=\"black\" points=\"1025.81,-76 1035.81,-72.5 1025.81,-69 1025.81,-76\"/>\n</g>\n<!-- 137974354004912 -->\n<g id=\"node8\" class=\"node\">\n<title>137974354004912</title>\n<polygon fill=\"none\" stroke=\"black\" points=\"4,-0.5 4,-36.5 196,-36.5 196,-0.5 4,-0.5\"/>\n<text text-anchor=\"middle\" x=\"19\" y=\"-14.8\" font-family=\"Times,serif\" font-size=\"14.00\">x2</text>\n<polyline fill=\"none\" stroke=\"black\" points=\"34,-0.5 34,-36.5 \"/>\n<text text-anchor=\"middle\" x=\"74\" y=\"-14.8\" font-family=\"Times,serif\" font-size=\"14.00\">data 0.0000</text>\n<polyline fill=\"none\" stroke=\"black\" points=\"114,-0.5 114,-36.5 \"/>\n<text text-anchor=\"middle\" x=\"155\" y=\"-14.8\" font-family=\"Times,serif\" font-size=\"14.00\">grad 0.5000</text>\n</g>\n<!-- 137974354004912&#45;&gt;137974349749680* -->\n<g id=\"edge8\" class=\"edge\">\n<title>137974354004912&#45;&gt;137974349749680*</title>\n<path fill=\"none\" stroke=\"black\" d=\"M169.28,-36.5C179.65,-39.61 190.16,-42.98 200,-46.5 210.28,-50.17 221.28,-54.74 231.11,-59.07\"/>\n<polygon fill=\"black\" stroke=\"black\" points=\"229.93,-62.37 240.48,-63.27 232.79,-55.99 229.93,-62.37\"/>\n</g>\n<!-- 137974354013024 -->\n<g id=\"node9\" class=\"node\">\n<title>137974354013024</title>\n<polygon fill=\"none\" stroke=\"black\" points=\"695.5,-27.5 695.5,-63.5 880.5,-63.5 880.5,-27.5 695.5,-27.5\"/>\n<text text-anchor=\"middle\" x=\"707\" y=\"-41.8\" font-family=\"Times,serif\" font-size=\"14.00\">b</text>\n<polyline fill=\"none\" stroke=\"black\" points=\"718.5,-27.5 718.5,-63.5 \"/>\n<text text-anchor=\"middle\" x=\"758.5\" y=\"-41.8\" font-family=\"Times,serif\" font-size=\"14.00\">data 6.8813</text>\n<polyline fill=\"none\" stroke=\"black\" points=\"798.5,-27.5 798.5,-63.5 \"/>\n<text text-anchor=\"middle\" x=\"839.5\" y=\"-41.8\" font-family=\"Times,serif\" font-size=\"14.00\">grad 0.5000</text>\n</g>\n<!-- 137974354013024&#45;&gt;137974349749392+ -->\n<g id=\"edge14\" class=\"edge\">\n<title>137974354013024&#45;&gt;137974349749392+</title>\n<path fill=\"none\" stroke=\"black\" d=\"M880.77,-59.04C900.52,-61.95 920.26,-64.87 936.29,-67.23\"/>\n<polygon fill=\"black\" stroke=\"black\" points=\"935.86,-70.71 946.26,-68.7 936.88,-63.78 935.86,-70.71\"/>\n</g>\n<!-- 137974349754240 -->\n<g id=\"node10\" class=\"node\">\n<title>137974349754240</title>\n<polygon fill=\"none\" stroke=\"black\" points=\"1347,-54.5 1347,-90.5 1532,-90.5 1532,-54.5 1347,-54.5\"/>\n<text text-anchor=\"middle\" x=\"1358.5\" y=\"-68.8\" font-family=\"Times,serif\" font-size=\"14.00\">o</text>\n<polyline fill=\"none\" stroke=\"black\" points=\"1370,-54.5 1370,-90.5 \"/>\n<text text-anchor=\"middle\" x=\"1410\" y=\"-68.8\" font-family=\"Times,serif\" font-size=\"14.00\">data 0.7071</text>\n<polyline fill=\"none\" stroke=\"black\" points=\"1450,-54.5 1450,-90.5 \"/>\n<text text-anchor=\"middle\" x=\"1491\" y=\"-68.8\" font-family=\"Times,serif\" font-size=\"14.00\">grad 1.0000</text>\n</g>\n<!-- 137974349754240tanh&#45;&gt;137974349754240 -->\n<g id=\"edge3\" class=\"edge\">\n<title>137974349754240tanh&#45;&gt;137974349754240</title>\n<path fill=\"none\" stroke=\"black\" d=\"M1311.04,-72.5C1318.58,-72.5 1327.3,-72.5 1336.57,-72.5\"/>\n<polygon fill=\"black\" stroke=\"black\" points=\"1336.81,-76 1346.81,-72.5 1336.81,-69 1336.81,-76\"/>\n</g>\n<!-- 137974349749680 -->\n<g id=\"node12\" class=\"node\">\n<title>137974349749680</title>\n<polygon fill=\"none\" stroke=\"black\" points=\"328.5,-55.5 328.5,-91.5 537.5,-91.5 537.5,-55.5 328.5,-55.5\"/>\n<text text-anchor=\"middle\" x=\"352\" y=\"-69.8\" font-family=\"Times,serif\" font-size=\"14.00\">x2w2</text>\n<polyline fill=\"none\" stroke=\"black\" points=\"375.5,-55.5 375.5,-91.5 \"/>\n<text text-anchor=\"middle\" x=\"415.5\" y=\"-69.8\" font-family=\"Times,serif\" font-size=\"14.00\">data 0.0000</text>\n<polyline fill=\"none\" stroke=\"black\" points=\"455.5,-55.5 455.5,-91.5 \"/>\n<text text-anchor=\"middle\" x=\"496.5\" y=\"-69.8\" font-family=\"Times,serif\" font-size=\"14.00\">grad 0.5000</text>\n</g>\n<!-- 137974349749680&#45;&gt;137974349749824+ -->\n<g id=\"edge10\" class=\"edge\">\n<title>137974349749680&#45;&gt;137974349749824+</title>\n<path fill=\"none\" stroke=\"black\" d=\"M537.53,-90.14C547.8,-91.79 557.66,-93.37 566.45,-94.79\"/>\n<polygon fill=\"black\" stroke=\"black\" points=\"566.16,-98.28 576.59,-96.42 567.27,-91.37 566.16,-98.28\"/>\n</g>\n<!-- 137974349749680*&#45;&gt;137974349749680 -->\n<g id=\"edge4\" class=\"edge\">\n<title>137974349749680*&#45;&gt;137974349749680</title>\n<path fill=\"none\" stroke=\"black\" d=\"M290.25,-73.5C298.43,-73.5 308.03,-73.5 318.31,-73.5\"/>\n<polygon fill=\"black\" stroke=\"black\" points=\"318.35,-77 328.35,-73.5 318.35,-70 318.35,-77\"/>\n</g>\n<!-- 137974349750208 -->\n<g id=\"node14\" class=\"node\">\n<title>137974349750208</title>\n<polygon fill=\"none\" stroke=\"black\" points=\"326,-110.5 326,-146.5 540,-146.5 540,-110.5 326,-110.5\"/>\n<text text-anchor=\"middle\" x=\"349.5\" y=\"-124.8\" font-family=\"Times,serif\" font-size=\"14.00\">x1w1</text>\n<polyline fill=\"none\" stroke=\"black\" points=\"373,-110.5 373,-146.5 \"/>\n<text text-anchor=\"middle\" x=\"415.5\" y=\"-124.8\" font-family=\"Times,serif\" font-size=\"14.00\">data &#45;6.0000</text>\n<polyline fill=\"none\" stroke=\"black\" points=\"458,-110.5 458,-146.5 \"/>\n<text text-anchor=\"middle\" x=\"499\" y=\"-124.8\" font-family=\"Times,serif\" font-size=\"14.00\">grad 0.5000</text>\n</g>\n<!-- 137974349750208&#45;&gt;137974349749824+ -->\n<g id=\"edge11\" class=\"edge\">\n<title>137974349750208&#45;&gt;137974349749824+</title>\n<path fill=\"none\" stroke=\"black\" d=\"M540.4,-110.77C549.72,-109.21 558.65,-107.72 566.68,-106.39\"/>\n<polygon fill=\"black\" stroke=\"black\" points=\"567.38,-109.82 576.66,-104.72 566.22,-102.91 567.38,-109.82\"/>\n</g>\n<!-- 137974349750208*&#45;&gt;137974349750208 -->\n<g id=\"edge5\" class=\"edge\">\n<title>137974349750208*&#45;&gt;137974349750208</title>\n<path fill=\"none\" stroke=\"black\" d=\"M290.25,-128.5C297.7,-128.5 306.34,-128.5 315.59,-128.5\"/>\n<polygon fill=\"black\" stroke=\"black\" points=\"315.84,-132 325.84,-128.5 315.84,-125 315.84,-132\"/>\n</g>\n</g>\n</svg>\n",
            "text/plain": [
              "<graphviz.graphs.Digraph at 0x7d7ca81ad7e0>"
            ]
          },
          "metadata": {},
          "execution_count": 34
        }
      ],
      "source": [
        "# redefine the parameters values first\n",
        "# then do draw_dot(o) to see that all grads are set to 0\n",
        "draw_dot(o)"
      ]
    },
    {
      "cell_type": "code",
      "execution_count": 35,
      "metadata": {
        "id": "6R5-ZuGbyleI"
      },
      "outputs": [],
      "source": [
        "# now we dont have to do backpropagation manually anymore\n",
        "# we are basicaly be calling .backward in the right order\n",
        "# 1st call the o.backward\n",
        "\n",
        "# so o was the outcome of the tanh\n",
        "# calling o._backward() be _backward() function inside tanh() function\n",
        "\n",
        "# 📍 IMPORTANT\n",
        "# THINGS TO NOTE: bcs local derivative times(*) out.grad. and out.grad is initialized to 0.0\n",
        "# so as a base case we need to set o.grad to 1.0. To initialize it with 1\n",
        "\n",
        "o.grad = 1.0\n",
        "# once this is 1 we can call o._backward\n"
      ]
    },
    {
      "cell_type": "code",
      "execution_count": 36,
      "metadata": {
        "id": "ZY_fq33KOlbe"
      },
      "outputs": [],
      "source": [
        "o._backward()\n",
        "# so waht it shoud do is propagate the o's grad thruogh the tanh\n",
        "# local * global derivative\n",
        "# n's grad should be now 0.5 🔥"
      ]
    },
    {
      "cell_type": "code",
      "execution_count": 37,
      "metadata": {
        "id": "LRMwwiyXOwur"
      },
      "outputs": [],
      "source": [
        "# now call n._backward()\n",
        "n._backward()"
      ]
    },
    {
      "cell_type": "code",
      "execution_count": 38,
      "metadata": {
        "id": "SdzCBKv-PjgB"
      },
      "outputs": [],
      "source": [
        "b._backward()\n",
        "# NOTE ✏️ 📍\n",
        "# b is a leaf node and b's backward is by initialization the empty function, so nothing will be called."
      ]
    },
    {
      "cell_type": "code",
      "execution_count": 39,
      "metadata": {
        "id": "OPxzaa1HPxJI"
      },
      "outputs": [],
      "source": [
        "x1w1x2w2._backward()"
      ]
    },
    {
      "cell_type": "code",
      "execution_count": 40,
      "metadata": {
        "id": "UaphTwZTR2sQ"
      },
      "outputs": [],
      "source": [
        "x2w2._backward()"
      ]
    },
    {
      "cell_type": "code",
      "execution_count": 41,
      "metadata": {
        "id": "fV4EhI25R9U4"
      },
      "outputs": [],
      "source": [
        "x1w1._backward()"
      ]
    },
    {
      "cell_type": "markdown",
      "metadata": {
        "id": "-RM-06PoSn2H"
      },
      "source": [
        "so we get values as exactly as before. But now we done it through the backward function.\n",
        "\n",
        "Now one last pice to get read off which is calling _backward function manually.\n",
        "\n",
        "## why topological sort?\n",
        "\n",
        "Think what we did actually.\n",
        "1st we layedown the mathematical expression and trying to go backward through that expression.\n",
        "\n",
        "going backward through expression means we never want to call ._backward for any node before anything we have done everything after it.\n",
        "\n",
        "we have to get all its full dependencies, like from graph its right to left.\n",
        "\n",
        "so this ordering of graph can be achieved through something called topological sort.\n",
        "\n",
        "Topological sort: arrengement of a graph such that all the edges go only from left to right. given DAG we get ordering such that all the edges go only one way left to right.\n",
        "\n",
        "implementation of topological sort"
      ]
    },
    {
      "cell_type": "markdown",
      "metadata": {
        "id": "NS3bWNNfkU5W"
      },
      "source": [
        "### Explaination of topological sort code\n",
        "- It builds the topological graph\n",
        "- maintain visited nodes\n",
        "- then going through starting at some root node, in our case its `o`.\n",
        "- and starting with `o` it goes through all of its children and lay them out from left to right.\n",
        "\n",
        "- starts with `o`, if its not visited, mark as visited, then it iterates through all its children and calls topological sort on them, and after visiting all its children it adds itself"
      ]
    },
    {
      "cell_type": "code",
      "execution_count": 42,
      "metadata": {
        "colab": {
          "base_uri": "https://localhost:8080/"
        },
        "id": "UKbXRp0mSFZM",
        "outputId": "ff26020a-e565-4ccf-b29c-916d3bc8d30a"
      },
      "outputs": [
        {
          "output_type": "execute_result",
          "data": {
            "text/plain": [
              "[Value(data=0.0),\n",
              " Value(data=1.0),\n",
              " Value(data=0.0),\n",
              " Value(data=2.0),\n",
              " Value(data=-3.0),\n",
              " Value(data=-6.0),\n",
              " Value(data=-6.0),\n",
              " Value(data=6.8813),\n",
              " Value(data=0.8813000000000004),\n",
              " Value(data=0.7070699857622339)]"
            ]
          },
          "metadata": {},
          "execution_count": 42
        }
      ],
      "source": [
        "# this builds the topological graph\n",
        "topo = []\n",
        "visited = set() # maintaining set of visited nodes\n",
        "def build_topo(v):\n",
        "  if v not in visited:\n",
        "    visited.add(v)\n",
        "    for child in v._prev:\n",
        "      build_topo(child)\n",
        "    topo.append(v) # add after all of its child is added/procesed\n",
        "\n",
        "build_topo(o) # build topo on o\n",
        "topo # see the list"
      ]
    },
    {
      "cell_type": "markdown",
      "metadata": {
        "id": "rEgmXxaitljs"
      },
      "source": [
        "in above result the last elemet is `o`, and second last is `n` and so on.\n",
        "\n",
        "so what we are doing is calling ._backward in all of nodes in topological order.\n",
        "\n",
        "reset the gradients to set 0.\n",
        "\n",
        "then start by setting o.grad = 1.0, thats base case.\n",
        "then build the topological order, and then for node in reversed of topo. reverse order because the topo list goes from leaf to root but here we want to calculate from root which is `o` so thats why in reverse order.\n",
        "\n"
      ]
    },
    {
      "cell_type": "code",
      "execution_count": 43,
      "metadata": {
        "id": "UGFn0RwmvVtY"
      },
      "outputs": [],
      "source": [
        "o.grad = 1.0\n",
        "\n",
        "topo = []\n",
        "visited = set() # maintaining set of visited nodes\n",
        "def build_topo(v):\n",
        "  if v not in visited:\n",
        "    visited.add(v)\n",
        "    for child in v._prev:\n",
        "      build_topo(child)\n",
        "    topo.append(v) # add after all of its child is added/procesed\n",
        "\n",
        "build_topo(o) # build topo on o\n",
        "topo #\n",
        "\n",
        "for node in reversed(topo):\n",
        "  node._backward()"
      ]
    },
    {
      "cell_type": "markdown",
      "metadata": {
        "id": "11eZDNnWwKLX"
      },
      "source": [
        "Finally hide this functionality inside the Value class. So instead of _backward defining actual backward function\n",
        "\n",
        "\n",
        "# Explaination of backward function\n",
        "- this is the actual backward function without the underscore(_)\n",
        "- first build a topological graph starting at self.\n",
        "- so build_topo(self) will populate topological order into the `topo` list which is local variable.\n",
        "- then set self.grad to 1.0\n",
        "- and then each node in reversed list, starting at last and all the children.\n",
        "thats it.\n",
        "\n",
        "now reset parameters and set grad to 0.\n",
        "\n",
        "and now `o.backward()` without the underscore and see the results 🔥🔥🔥😃✨\n"
      ]
    },
    {
      "cell_type": "code",
      "execution_count": 44,
      "metadata": {
        "id": "ZLHP1qVcvVqp"
      },
      "outputs": [],
      "source": [
        "o.backward()"
      ]
    },
    {
      "cell_type": "markdown",
      "source": [
        "So that's a backpropagation of a single neuron."
      ],
      "metadata": {
        "id": "noGfKD37hLLL"
      }
    },
    {
      "cell_type": "markdown",
      "source": [
        "## Bug in Value class\n",
        "\n",
        "**Description**: There's some specific conditions where we have to think about.\n",
        "\n",
        "Here's simpel case of a bug.\n",
        "\n",
        "create a single node `a`. then create a `b` that's `a+a`. then called `backward()`\n",
        "\n",
        "```py\n",
        "a = Value(3.0, label='a')\n",
        "b = a + a; b.label='b'\n",
        "b.backward()\n",
        "draw_dot(b)\n",
        "\n",
        "```"
      ],
      "metadata": {
        "id": "0KjHd5qadO1j"
      }
    },
    {
      "cell_type": "code",
      "execution_count": 45,
      "metadata": {
        "id": "nrAwK9M_sDiN",
        "colab": {
          "base_uri": "https://localhost:8080/",
          "height": 81
        },
        "outputId": "03c56f89-51cb-4471-cab4-456128eac35b"
      },
      "outputs": [
        {
          "output_type": "execute_result",
          "data": {
            "image/svg+xml": "<?xml version=\"1.0\" encoding=\"UTF-8\" standalone=\"no\"?>\n<!DOCTYPE svg PUBLIC \"-//W3C//DTD SVG 1.1//EN\"\n \"http://www.w3.org/Graphics/SVG/1.1/DTD/svg11.dtd\">\n<!-- Generated by graphviz version 2.43.0 (0)\n -->\n<!-- Title: %3 Pages: 1 -->\n<svg width=\"504pt\" height=\"45pt\"\n viewBox=\"0.00 0.00 504.00 45.00\" xmlns=\"http://www.w3.org/2000/svg\" xmlns:xlink=\"http://www.w3.org/1999/xlink\">\n<g id=\"graph0\" class=\"graph\" transform=\"scale(1 1) rotate(0) translate(4 41)\">\n<title>%3</title>\n<polygon fill=\"white\" stroke=\"transparent\" points=\"-4,4 -4,-41 500,-41 500,4 -4,4\"/>\n<!-- 137974349755920 -->\n<g id=\"node1\" class=\"node\">\n<title>137974349755920</title>\n<polygon fill=\"none\" stroke=\"black\" points=\"0,-0.5 0,-36.5 185,-36.5 185,-0.5 0,-0.5\"/>\n<text text-anchor=\"middle\" x=\"11.5\" y=\"-14.8\" font-family=\"Times,serif\" font-size=\"14.00\">a</text>\n<polyline fill=\"none\" stroke=\"black\" points=\"23,-0.5 23,-36.5 \"/>\n<text text-anchor=\"middle\" x=\"63\" y=\"-14.8\" font-family=\"Times,serif\" font-size=\"14.00\">data 3.0000</text>\n<polyline fill=\"none\" stroke=\"black\" points=\"103,-0.5 103,-36.5 \"/>\n<text text-anchor=\"middle\" x=\"144\" y=\"-14.8\" font-family=\"Times,serif\" font-size=\"14.00\">grad 2.0000</text>\n</g>\n<!-- 137974349758320+ -->\n<g id=\"node3\" class=\"node\">\n<title>137974349758320+</title>\n<ellipse fill=\"none\" stroke=\"black\" cx=\"248\" cy=\"-18.5\" rx=\"27\" ry=\"18\"/>\n<text text-anchor=\"middle\" x=\"248\" y=\"-14.8\" font-family=\"Times,serif\" font-size=\"14.00\">+</text>\n</g>\n<!-- 137974349755920&#45;&gt;137974349758320+ -->\n<g id=\"edge2\" class=\"edge\">\n<title>137974349755920&#45;&gt;137974349758320+</title>\n<path fill=\"none\" stroke=\"black\" d=\"M185.01,-18.5C194.01,-18.5 202.74,-18.5 210.66,-18.5\"/>\n<polygon fill=\"black\" stroke=\"black\" points=\"210.91,-22 220.91,-18.5 210.91,-15 210.91,-22\"/>\n</g>\n<!-- 137974349758320 -->\n<g id=\"node2\" class=\"node\">\n<title>137974349758320</title>\n<polygon fill=\"none\" stroke=\"black\" points=\"311,-0.5 311,-36.5 496,-36.5 496,-0.5 311,-0.5\"/>\n<text text-anchor=\"middle\" x=\"322.5\" y=\"-14.8\" font-family=\"Times,serif\" font-size=\"14.00\">b</text>\n<polyline fill=\"none\" stroke=\"black\" points=\"334,-0.5 334,-36.5 \"/>\n<text text-anchor=\"middle\" x=\"374\" y=\"-14.8\" font-family=\"Times,serif\" font-size=\"14.00\">data 6.0000</text>\n<polyline fill=\"none\" stroke=\"black\" points=\"414,-0.5 414,-36.5 \"/>\n<text text-anchor=\"middle\" x=\"455\" y=\"-14.8\" font-family=\"Times,serif\" font-size=\"14.00\">grad 1.0000</text>\n</g>\n<!-- 137974349758320+&#45;&gt;137974349758320 -->\n<g id=\"edge1\" class=\"edge\">\n<title>137974349758320+&#45;&gt;137974349758320</title>\n<path fill=\"none\" stroke=\"black\" d=\"M275.04,-18.5C282.58,-18.5 291.3,-18.5 300.57,-18.5\"/>\n<polygon fill=\"black\" stroke=\"black\" points=\"300.81,-22 310.81,-18.5 300.81,-15 300.81,-22\"/>\n</g>\n</g>\n</svg>\n",
            "text/plain": [
              "<graphviz.graphs.Digraph at 0x7d7ca81aebf0>"
            ]
          },
          "metadata": {},
          "execution_count": 45
        }
      ],
      "source": [
        "a = Value(3.0, label='a')\n",
        "b = a + a; b.label='b'\n",
        "b.backward()\n",
        "draw_dot(b)"
      ]
    },
    {
      "cell_type": "markdown",
      "source": [
        "**Description of above graph**\n",
        "\n",
        "So `a` is `3` and `b` is `a+a`. so there's two arrows on top of each other. `b` is `a+a` which is `6` so forward pass works but the problem is the gradient is not correct that we calculated automatically by calling backward() function.\n",
        "\n",
        "So by calculating the derivative of `b` wrt `a` which is `2`. but its showing `1`.\n",
        "\n",
        "See what backward() dose.\n",
        "\n",
        "`b` is the result of addition and its `a+a` that is `self + other` and both are same object `a`.\n",
        "\n",
        "and then we called backward(), so it sets self.grad to 1 and then other.grad to 1.\n",
        "\n",
        "but because we are doing `a+a` self and other are the same object and its just overriding the gradient value. setting it to 1 again and again that's why it stays at 1. So that's problem. we will get into issue everytime we use the variable more than once. in earlier example every variable used exactly once so, we didn't see the issue.\n",
        "\n",
        "**Solution**\n",
        "\n",
        "look at multivariate chain rule. Its just that we accumulate these gradients. these gradients add.\n",
        "\n",
        "so, instead of setting those gradients(`=`) we can do `+=`. need to acumulate those gradients. and it will work because we are initializing them with 0.\n",
        "\n",
        "so it starts with 0 and then any contribution that flows backwards will simply add.\n",
        "\n",
        "see by redefining the above equations a's gradients should be 2 now.\n",
        "\n",
        "## Takeaway\n",
        "\n",
        "If the variable are used multiple time in network then it must add gradient of each operation or accumulate but our Value class was overriting the previous values instead of adding gradient with its previous value. so changed it with `+=`"
      ],
      "metadata": {
        "id": "4knrq8PifWr4"
      }
    },
    {
      "cell_type": "code",
      "source": [
        "a = Value(3.0, label='a')\n",
        "b = a + a; b.label='b'\n",
        "b.backward()\n",
        "draw_dot(b)"
      ],
      "metadata": {
        "colab": {
          "base_uri": "https://localhost:8080/",
          "height": 81
        },
        "id": "-TvnIqkLfUJW",
        "outputId": "42a44037-7fbe-457a-b0e6-8b866a79c9e2"
      },
      "execution_count": 46,
      "outputs": [
        {
          "output_type": "execute_result",
          "data": {
            "image/svg+xml": "<?xml version=\"1.0\" encoding=\"UTF-8\" standalone=\"no\"?>\n<!DOCTYPE svg PUBLIC \"-//W3C//DTD SVG 1.1//EN\"\n \"http://www.w3.org/Graphics/SVG/1.1/DTD/svg11.dtd\">\n<!-- Generated by graphviz version 2.43.0 (0)\n -->\n<!-- Title: %3 Pages: 1 -->\n<svg width=\"504pt\" height=\"45pt\"\n viewBox=\"0.00 0.00 504.00 45.00\" xmlns=\"http://www.w3.org/2000/svg\" xmlns:xlink=\"http://www.w3.org/1999/xlink\">\n<g id=\"graph0\" class=\"graph\" transform=\"scale(1 1) rotate(0) translate(4 41)\">\n<title>%3</title>\n<polygon fill=\"white\" stroke=\"transparent\" points=\"-4,4 -4,-41 500,-41 500,4 -4,4\"/>\n<!-- 137974349753520 -->\n<g id=\"node1\" class=\"node\">\n<title>137974349753520</title>\n<polygon fill=\"none\" stroke=\"black\" points=\"311,-0.5 311,-36.5 496,-36.5 496,-0.5 311,-0.5\"/>\n<text text-anchor=\"middle\" x=\"322.5\" y=\"-14.8\" font-family=\"Times,serif\" font-size=\"14.00\">b</text>\n<polyline fill=\"none\" stroke=\"black\" points=\"334,-0.5 334,-36.5 \"/>\n<text text-anchor=\"middle\" x=\"374\" y=\"-14.8\" font-family=\"Times,serif\" font-size=\"14.00\">data 6.0000</text>\n<polyline fill=\"none\" stroke=\"black\" points=\"414,-0.5 414,-36.5 \"/>\n<text text-anchor=\"middle\" x=\"455\" y=\"-14.8\" font-family=\"Times,serif\" font-size=\"14.00\">grad 1.0000</text>\n</g>\n<!-- 137974349753520+ -->\n<g id=\"node2\" class=\"node\">\n<title>137974349753520+</title>\n<ellipse fill=\"none\" stroke=\"black\" cx=\"248\" cy=\"-18.5\" rx=\"27\" ry=\"18\"/>\n<text text-anchor=\"middle\" x=\"248\" y=\"-14.8\" font-family=\"Times,serif\" font-size=\"14.00\">+</text>\n</g>\n<!-- 137974349753520+&#45;&gt;137974349753520 -->\n<g id=\"edge1\" class=\"edge\">\n<title>137974349753520+&#45;&gt;137974349753520</title>\n<path fill=\"none\" stroke=\"black\" d=\"M275.04,-18.5C282.58,-18.5 291.3,-18.5 300.57,-18.5\"/>\n<polygon fill=\"black\" stroke=\"black\" points=\"300.81,-22 310.81,-18.5 300.81,-15 300.81,-22\"/>\n</g>\n<!-- 137974349752416 -->\n<g id=\"node3\" class=\"node\">\n<title>137974349752416</title>\n<polygon fill=\"none\" stroke=\"black\" points=\"0,-0.5 0,-36.5 185,-36.5 185,-0.5 0,-0.5\"/>\n<text text-anchor=\"middle\" x=\"11.5\" y=\"-14.8\" font-family=\"Times,serif\" font-size=\"14.00\">a</text>\n<polyline fill=\"none\" stroke=\"black\" points=\"23,-0.5 23,-36.5 \"/>\n<text text-anchor=\"middle\" x=\"63\" y=\"-14.8\" font-family=\"Times,serif\" font-size=\"14.00\">data 3.0000</text>\n<polyline fill=\"none\" stroke=\"black\" points=\"103,-0.5 103,-36.5 \"/>\n<text text-anchor=\"middle\" x=\"144\" y=\"-14.8\" font-family=\"Times,serif\" font-size=\"14.00\">grad 2.0000</text>\n</g>\n<!-- 137974349752416&#45;&gt;137974349753520+ -->\n<g id=\"edge2\" class=\"edge\">\n<title>137974349752416&#45;&gt;137974349753520+</title>\n<path fill=\"none\" stroke=\"black\" d=\"M185.01,-18.5C194.01,-18.5 202.74,-18.5 210.66,-18.5\"/>\n<polygon fill=\"black\" stroke=\"black\" points=\"210.91,-22 220.91,-18.5 210.91,-15 210.91,-22\"/>\n</g>\n</g>\n</svg>\n",
            "text/plain": [
              "<graphviz.graphs.Digraph at 0x7d7ca81aff10>"
            ]
          },
          "metadata": {},
          "execution_count": 46
        }
      ]
    },
    {
      "cell_type": "markdown",
      "source": [
        "## Breaking Down tanh function into explicite atom\n",
        "\n",
        "- we can break down the tanh function similar to other add and mul operation and have their derivatives and get the same result.\n",
        "\n",
        "As this is the tanh\n",
        "\n",
        " $$ tanh \\; x = \\frac{sinh \\; x}{cosh \\; x} = \\frac{e^x - e^{-x}}{e^x + e^{-x}} = \\frac{e^{2x} - 1}{e^{2x} + 1}. $$.\n",
        "\n",
        " - and I did implemented tanh as a single function in the Value class. and we can do that because we know it's derivative and can backpropagate thorough it.\n",
        " - But we can also break down tanh into and express it as function of x. and we can get the same result and gradients.\n",
        " - It forces us to implement a few more expressions like exponentiation, addition, subtraction, division, etc. And its good excercise to implement few more of these.\n",
        "\n",
        "\n",
        " **1. can't do Value(a) + 1**\n",
        "\n",
        " - we can do addition of value object with constant like\n",
        " ```py\n",
        " a = Value(2.0)\n",
        " a+1 # will rais error\n",
        " ```\n",
        " - as in tanh we add and substract with constant 1 so we need this feature.\n",
        " - can't add constant 1 with object a. bcs as of now it only allows addition of two objects.\n",
        " - values will go into self and others. self is a object and other is a 1. and there's no `1.data`. `1` is not a value object.\n",
        " - for convinence we can create expressions like this.\n",
        "\n",
        " Solution: check if other is instance of value class if not create other to value object.\n",
        "\n",
        " ```py\n",
        " other = other if isinstance(other, Value) else Value(other)\n",
        " ```\n",
        "\n",
        " - Now do the same thing for multiply."
      ],
      "metadata": {
        "id": "yT4IiL8cA1do"
      }
    },
    {
      "cell_type": "code",
      "source": [
        "a = Value(2.0)\n",
        "a+1 # will rais error. can't add constant 1 with object a. bcs as of now it only allows addition of two objects."
      ],
      "metadata": {
        "colab": {
          "base_uri": "https://localhost:8080/"
        },
        "id": "p_hUMHAgrFwx",
        "outputId": "a66db680-bea3-4273-e610-6e8f1398a1ab"
      },
      "execution_count": 47,
      "outputs": [
        {
          "output_type": "execute_result",
          "data": {
            "text/plain": [
              "Value(data=3.0)"
            ]
          },
          "metadata": {},
          "execution_count": 47
        }
      ]
    },
    {
      "cell_type": "code",
      "source": [
        "a = Value(2.0)\n",
        "a+1 # now this will work"
      ],
      "metadata": {
        "id": "d0ssQBYGGKLJ",
        "colab": {
          "base_uri": "https://localhost:8080/"
        },
        "outputId": "ffac9ace-c2c8-4ec4-cfa5-6f5b0fe3027d"
      },
      "execution_count": 48,
      "outputs": [
        {
          "output_type": "execute_result",
          "data": {
            "text/plain": [
              "Value(data=3.0)"
            ]
          },
          "metadata": {},
          "execution_count": 48
        }
      ]
    },
    {
      "cell_type": "code",
      "source": [
        "a*2"
      ],
      "metadata": {
        "colab": {
          "base_uri": "https://localhost:8080/"
        },
        "id": "MPPrvio_AR58",
        "outputId": "0c6a9a00-96c7-46f0-c607-812cf189d20b"
      },
      "execution_count": 49,
      "outputs": [
        {
          "output_type": "execute_result",
          "data": {
            "text/plain": [
              "Value(data=4.0)"
            ]
          },
          "metadata": {},
          "execution_count": 49
        }
      ]
    },
    {
      "cell_type": "markdown",
      "source": [
        "\n",
        " **2. can't do 1 * Value(2.0)**\n",
        " - we can do `a + 1 or a * 1`. assume `a` is a Value object.\n",
        " - but we can't do `1 + a or 1 * a`.\n",
        "\n",
        " for `a+1` it calls `a.__add__(1)`\n",
        "\n",
        " but for `1+a` it can't `1.__add__(a)` there no such thing.\n",
        "\n",
        "\n",
        " **Solution**\n",
        "\n",
        " - in python we're free to define something called `__rmul__`.\n",
        " - and rmul is kind of like fallback.\n",
        " - if pyhton can'd do `2*a` it will check if by chance `a` knows how to multiply `2`.\n",
        " - and that will be called into `rmul`\n",
        " - and rmul will call `a * 2` and that will work\n",
        " - so `2*a` will redirect to `rmul` and `rmul` will call `a*2`. redefining with `rmul`\n"
      ],
      "metadata": {
        "id": "yVWSYFTDBPRp"
      }
    },
    {
      "cell_type": "code",
      "source": [
        "2*a"
      ],
      "metadata": {
        "colab": {
          "base_uri": "https://localhost:8080/"
        },
        "id": "lYoKeFaBAw1N",
        "outputId": "4bd77c51-f305-4e3b-b48b-6ed362f445f8"
      },
      "execution_count": 50,
      "outputs": [
        {
          "output_type": "execute_result",
          "data": {
            "text/plain": [
              "Value(data=4.0)"
            ]
          },
          "metadata": {},
          "execution_count": 50
        }
      ]
    },
    {
      "cell_type": "markdown",
      "source": [
        "- Now look at the other expressions that we need.\n",
        "- we need to know how to exponentiate and how to divide.\n",
        "\n",
        "### 1st Exponentiation\n",
        "\n",
        "- defining single function `exp`\n",
        "- mirroring tanh function its a simple function that transform a single scaler value and output a single scaler value.\n",
        "- poppign out the number from value object and then applying math.exp and creating its value object.\n",
        "\n",
        "- Triky part: how to backpropagate through e^x.\n",
        "- Its derivation is the function itself. so output data * out.grad goes into _backward function.\n"
      ],
      "metadata": {
        "id": "tQ5G5LxZUmJC"
      }
    },
    {
      "cell_type": "code",
      "source": [
        "a = Value(2.0)\n",
        "a.exp()"
      ],
      "metadata": {
        "id": "UZC8WxXwTINT",
        "colab": {
          "base_uri": "https://localhost:8080/"
        },
        "outputId": "694cf500-b229-496d-c1cb-f565ff251d75"
      },
      "execution_count": 51,
      "outputs": [
        {
          "output_type": "execute_result",
          "data": {
            "text/plain": [
              "Value(data=7.38905609893065)"
            ]
          },
          "metadata": {},
          "execution_count": 51
        }
      ]
    },
    {
      "cell_type": "markdown",
      "source": [
        "So forward pass works! in exp and hopefuly backward as well.\n",
        "\n",
        "## Lastly Divide operation.\n",
        "- People implement something more powerful than a division.\n",
        "- bcs division is the speacial case of something a bit more powerful.\n",
        "\n",
        "Here we would like to do following operation.\n",
        "```py\n",
        "\n",
        "a = Value(10.0)\n",
        "b = Value(2.0)\n",
        "a / b # will give error as we haven't implemented yet\n",
        "```"
      ],
      "metadata": {
        "id": "pDS5C_pQboJm"
      }
    },
    {
      "cell_type": "code",
      "source": [
        "a = Value(10.0)\n",
        "b = Value(2.0)\n",
        "a / b"
      ],
      "metadata": {
        "colab": {
          "base_uri": "https://localhost:8080/"
        },
        "id": "XKp-vS8tbmvK",
        "outputId": "450ced41-25dd-4208-9f0d-faf94d7be4ce"
      },
      "execution_count": 62,
      "outputs": [
        {
          "output_type": "execute_result",
          "data": {
            "text/plain": [
              "Value(data=5.0)"
            ]
          },
          "metadata": {},
          "execution_count": 62
        }
      ]
    },
    {
      "cell_type": "code",
      "source": [],
      "metadata": {
        "colab": {
          "base_uri": "https://localhost:8080/"
        },
        "id": "3jlU4yHfPe6W",
        "outputId": "225d8219-0940-4cb4-e756-fe3077c22273"
      },
      "execution_count": 63,
      "outputs": [
        {
          "output_type": "execute_result",
          "data": {
            "text/plain": [
              "Value(data=0.3333333333333333)"
            ]
          },
          "metadata": {},
          "execution_count": 63
        }
      ]
    },
    {
      "cell_type": "markdown",
      "source": [
        " following 3 instructions will work sameway division.\n",
        "\n",
        " a / b\n",
        "\n",
        " a * (1/b)\n",
        "\n",
        " a * (b**-1)\n",
        "\n",
        " these three expressions will give the same result\n",
        "\n",
        " x ** k\n",
        "\n",
        " here we want to implement x to the k for some constant int or float\n",
        " and would like to differentiate this\n",
        " and -1 is the special case for the division.\n",
        " reason to do this is that its more general.\n",
        "\n",
        " so redefining division operation\n",
        " we can redefine the division using following\n",
        "\n",
        "```py\n",
        "  def _truediv__(self, other): # self / other\n",
        "    return self * other**-1\n",
        "```\n",
        "\n",
        "## Pow\n",
        "- so in division we used `other**-1` power operation so here we also need to redefine that and its derivation _backward stub.\n",
        "\n",
        "- so we need to implement `__pow__` function\n",
        "- So now forward pass works\n",
        "- but still have to check for backward pass\n",
        "\n",
        "## Subtract\n",
        "\n",
        "We also have to implement subtract\n",
        "\n",
        "withowt that `a-b` wont work.\n",
        "- implemented by addition of negation.\n",
        "- and for negetion, multiply by -1\n",
        "- and using the stuff that we already build"
      ],
      "metadata": {
        "id": "w3cJg7Xzfopu"
      }
    },
    {
      "cell_type": "code",
      "source": [
        "a-b\n"
      ],
      "metadata": {
        "colab": {
          "base_uri": "https://localhost:8080/"
        },
        "id": "Jy_f2knvcbxT",
        "outputId": "2d1f4210-908d-4581-e960-954daa874658"
      },
      "execution_count": 74,
      "outputs": [
        {
          "output_type": "execute_result",
          "data": {
            "text/plain": [
              "Value(data=0.0)"
            ]
          },
          "metadata": {},
          "execution_count": 74
        }
      ]
    },
    {
      "cell_type": "code",
      "source": [
        "# inputs x1, x2   2D neuron, so two inputs are gonna comin\n",
        "x1 = Value(2.0, label=\"x1\")\n",
        "x2 = Value(0.0, label=\"x2\")\n",
        "\n",
        "# weights of neuron w1, w2\n",
        "w1 = Value(-3.0, label=\"w1\")\n",
        "w2 = Value(1.0, label=\"w2\")\n",
        "\n",
        "# bias of the neuron\n",
        "b = Value(6.8813, label=\"b\")\n",
        "\n",
        "# (x1*w1) + (x2*w2) + b\n",
        "x1w1 = x1 * w1; x1w1.label = \"x1w1\";\n",
        "x2w2 = x2 * w2; x2w2.label = \"x2w2\";\n",
        "\n",
        "x1w1x2w2 = x1w1 + x2w2; x1w1x2w2.label = \"x1w1x2w2\";\n",
        "\n",
        "n = x1w1x2w2 + b; n.label=\"n\";\n",
        "o = n.tanh(); o.label = 'o' # now we can do these and thats going to return tanhd output of n\n",
        "# draw_dot(o)\n",
        "o.backward()"
      ],
      "metadata": {
        "id": "qgyxbLJSQUCD"
      },
      "execution_count": 76,
      "outputs": []
    },
    {
      "cell_type": "code",
      "source": [
        "draw_dot(o)"
      ],
      "metadata": {
        "colab": {
          "base_uri": "https://localhost:8080/",
          "height": 321
        },
        "id": "DrOULbxsWjJJ",
        "outputId": "7abfe332-98f1-48a7-9617-9cfe8a387961"
      },
      "execution_count": 77,
      "outputs": [
        {
          "output_type": "execute_result",
          "data": {
            "image/svg+xml": "<?xml version=\"1.0\" encoding=\"UTF-8\" standalone=\"no\"?>\n<!DOCTYPE svg PUBLIC \"-//W3C//DTD SVG 1.1//EN\"\n \"http://www.w3.org/Graphics/SVG/1.1/DTD/svg11.dtd\">\n<!-- Generated by graphviz version 2.43.0 (0)\n -->\n<!-- Title: %3 Pages: 1 -->\n<svg width=\"1540pt\" height=\"210pt\"\n viewBox=\"0.00 0.00 1540.00 210.00\" xmlns=\"http://www.w3.org/2000/svg\" xmlns:xlink=\"http://www.w3.org/1999/xlink\">\n<g id=\"graph0\" class=\"graph\" transform=\"scale(1 1) rotate(0) translate(4 206)\">\n<title>%3</title>\n<polygon fill=\"white\" stroke=\"transparent\" points=\"-4,4 -4,-206 1536,-206 1536,4 -4,4\"/>\n<!-- 137973546258480 -->\n<g id=\"node1\" class=\"node\">\n<title>137973546258480</title>\n<polygon fill=\"none\" stroke=\"black\" points=\"326,-55.5 326,-91.5 540,-91.5 540,-55.5 326,-55.5\"/>\n<text text-anchor=\"middle\" x=\"349.5\" y=\"-69.8\" font-family=\"Times,serif\" font-size=\"14.00\">x1w1</text>\n<polyline fill=\"none\" stroke=\"black\" points=\"373,-55.5 373,-91.5 \"/>\n<text text-anchor=\"middle\" x=\"415.5\" y=\"-69.8\" font-family=\"Times,serif\" font-size=\"14.00\">data &#45;6.0000</text>\n<polyline fill=\"none\" stroke=\"black\" points=\"458,-55.5 458,-91.5 \"/>\n<text text-anchor=\"middle\" x=\"499\" y=\"-69.8\" font-family=\"Times,serif\" font-size=\"14.00\">grad 0.5001</text>\n</g>\n<!-- 137973546268128+ -->\n<g id=\"node14\" class=\"node\">\n<title>137973546268128+</title>\n<ellipse fill=\"none\" stroke=\"black\" cx=\"603\" cy=\"-100.5\" rx=\"27\" ry=\"18\"/>\n<text text-anchor=\"middle\" x=\"603\" y=\"-96.8\" font-family=\"Times,serif\" font-size=\"14.00\">+</text>\n</g>\n<!-- 137973546258480&#45;&gt;137973546268128+ -->\n<g id=\"edge13\" class=\"edge\">\n<title>137973546258480&#45;&gt;137973546268128+</title>\n<path fill=\"none\" stroke=\"black\" d=\"M540.4,-90.6C549.72,-92.1 558.65,-93.53 566.68,-94.82\"/>\n<polygon fill=\"black\" stroke=\"black\" points=\"566.24,-98.3 576.66,-96.43 567.35,-91.39 566.24,-98.3\"/>\n</g>\n<!-- 137973546258480* -->\n<g id=\"node2\" class=\"node\">\n<title>137973546258480*</title>\n<ellipse fill=\"none\" stroke=\"black\" cx=\"263\" cy=\"-73.5\" rx=\"27\" ry=\"18\"/>\n<text text-anchor=\"middle\" x=\"263\" y=\"-69.8\" font-family=\"Times,serif\" font-size=\"14.00\">*</text>\n</g>\n<!-- 137973546258480*&#45;&gt;137973546258480 -->\n<g id=\"edge1\" class=\"edge\">\n<title>137973546258480*&#45;&gt;137973546258480</title>\n<path fill=\"none\" stroke=\"black\" d=\"M290.25,-73.5C297.7,-73.5 306.34,-73.5 315.59,-73.5\"/>\n<polygon fill=\"black\" stroke=\"black\" points=\"315.84,-77 325.84,-73.5 315.84,-70 315.84,-77\"/>\n</g>\n<!-- 137973546266256 -->\n<g id=\"node3\" class=\"node\">\n<title>137973546266256</title>\n<polygon fill=\"none\" stroke=\"black\" points=\"2.5,-165.5 2.5,-201.5 197.5,-201.5 197.5,-165.5 2.5,-165.5\"/>\n<text text-anchor=\"middle\" x=\"19\" y=\"-179.8\" font-family=\"Times,serif\" font-size=\"14.00\">w2</text>\n<polyline fill=\"none\" stroke=\"black\" points=\"35.5,-165.5 35.5,-201.5 \"/>\n<text text-anchor=\"middle\" x=\"75.5\" y=\"-179.8\" font-family=\"Times,serif\" font-size=\"14.00\">data 1.0000</text>\n<polyline fill=\"none\" stroke=\"black\" points=\"115.5,-165.5 115.5,-201.5 \"/>\n<text text-anchor=\"middle\" x=\"156.5\" y=\"-179.8\" font-family=\"Times,serif\" font-size=\"14.00\">grad 0.0000</text>\n</g>\n<!-- 137973546257760* -->\n<g id=\"node7\" class=\"node\">\n<title>137973546257760*</title>\n<ellipse fill=\"none\" stroke=\"black\" cx=\"263\" cy=\"-128.5\" rx=\"27\" ry=\"18\"/>\n<text text-anchor=\"middle\" x=\"263\" y=\"-124.8\" font-family=\"Times,serif\" font-size=\"14.00\">*</text>\n</g>\n<!-- 137973546266256&#45;&gt;137973546257760* -->\n<g id=\"edge6\" class=\"edge\">\n<title>137973546266256&#45;&gt;137973546257760*</title>\n<path fill=\"none\" stroke=\"black\" d=\"M172.53,-165.44C181.84,-162.67 191.2,-159.67 200,-156.5 210.53,-152.71 221.75,-147.9 231.72,-143.33\"/>\n<polygon fill=\"black\" stroke=\"black\" points=\"233.25,-146.48 240.82,-139.07 230.28,-140.14 233.25,-146.48\"/>\n</g>\n<!-- 137973546264960 -->\n<g id=\"node4\" class=\"node\">\n<title>137973546264960</title>\n<polygon fill=\"none\" stroke=\"black\" points=\"0,-55.5 0,-91.5 200,-91.5 200,-55.5 0,-55.5\"/>\n<text text-anchor=\"middle\" x=\"16.5\" y=\"-69.8\" font-family=\"Times,serif\" font-size=\"14.00\">w1</text>\n<polyline fill=\"none\" stroke=\"black\" points=\"33,-55.5 33,-91.5 \"/>\n<text text-anchor=\"middle\" x=\"75.5\" y=\"-69.8\" font-family=\"Times,serif\" font-size=\"14.00\">data &#45;3.0000</text>\n<polyline fill=\"none\" stroke=\"black\" points=\"118,-55.5 118,-91.5 \"/>\n<text text-anchor=\"middle\" x=\"159\" y=\"-69.8\" font-family=\"Times,serif\" font-size=\"14.00\">grad 1.0001</text>\n</g>\n<!-- 137973546264960&#45;&gt;137973546258480* -->\n<g id=\"edge7\" class=\"edge\">\n<title>137973546264960&#45;&gt;137973546258480*</title>\n<path fill=\"none\" stroke=\"black\" d=\"M200.21,-73.5C209.2,-73.5 217.86,-73.5 225.7,-73.5\"/>\n<polygon fill=\"black\" stroke=\"black\" points=\"225.85,-77 235.85,-73.5 225.85,-70 225.85,-77\"/>\n</g>\n<!-- 137973546254544 -->\n<g id=\"node5\" class=\"node\">\n<title>137973546254544</title>\n<polygon fill=\"none\" stroke=\"black\" points=\"2,-0.5 2,-36.5 198,-36.5 198,-0.5 2,-0.5\"/>\n<text text-anchor=\"middle\" x=\"17\" y=\"-14.8\" font-family=\"Times,serif\" font-size=\"14.00\">x1</text>\n<polyline fill=\"none\" stroke=\"black\" points=\"32,-0.5 32,-36.5 \"/>\n<text text-anchor=\"middle\" x=\"72\" y=\"-14.8\" font-family=\"Times,serif\" font-size=\"14.00\">data 2.0000</text>\n<polyline fill=\"none\" stroke=\"black\" points=\"112,-0.5 112,-36.5 \"/>\n<text text-anchor=\"middle\" x=\"155\" y=\"-14.8\" font-family=\"Times,serif\" font-size=\"14.00\">grad &#45;1.5002</text>\n</g>\n<!-- 137973546254544&#45;&gt;137973546258480* -->\n<g id=\"edge9\" class=\"edge\">\n<title>137973546254544&#45;&gt;137973546258480*</title>\n<path fill=\"none\" stroke=\"black\" d=\"M169.28,-36.5C179.65,-39.61 190.16,-42.98 200,-46.5 210.28,-50.17 221.28,-54.74 231.11,-59.07\"/>\n<polygon fill=\"black\" stroke=\"black\" points=\"229.93,-62.37 240.48,-63.27 232.79,-55.99 229.93,-62.37\"/>\n</g>\n<!-- 137973546257760 -->\n<g id=\"node6\" class=\"node\">\n<title>137973546257760</title>\n<polygon fill=\"none\" stroke=\"black\" points=\"328.5,-110.5 328.5,-146.5 537.5,-146.5 537.5,-110.5 328.5,-110.5\"/>\n<text text-anchor=\"middle\" x=\"352\" y=\"-124.8\" font-family=\"Times,serif\" font-size=\"14.00\">x2w2</text>\n<polyline fill=\"none\" stroke=\"black\" points=\"375.5,-110.5 375.5,-146.5 \"/>\n<text text-anchor=\"middle\" x=\"415.5\" y=\"-124.8\" font-family=\"Times,serif\" font-size=\"14.00\">data 0.0000</text>\n<polyline fill=\"none\" stroke=\"black\" points=\"455.5,-110.5 455.5,-146.5 \"/>\n<text text-anchor=\"middle\" x=\"496.5\" y=\"-124.8\" font-family=\"Times,serif\" font-size=\"14.00\">grad 0.5001</text>\n</g>\n<!-- 137973546257760&#45;&gt;137973546268128+ -->\n<g id=\"edge10\" class=\"edge\">\n<title>137973546257760&#45;&gt;137973546268128+</title>\n<path fill=\"none\" stroke=\"black\" d=\"M537.53,-111.25C547.8,-109.53 557.66,-107.89 566.45,-106.43\"/>\n<polygon fill=\"black\" stroke=\"black\" points=\"567.3,-109.83 576.59,-104.74 566.15,-102.93 567.3,-109.83\"/>\n</g>\n<!-- 137973546257760*&#45;&gt;137973546257760 -->\n<g id=\"edge2\" class=\"edge\">\n<title>137973546257760*&#45;&gt;137973546257760</title>\n<path fill=\"none\" stroke=\"black\" d=\"M290.25,-128.5C298.43,-128.5 308.03,-128.5 318.31,-128.5\"/>\n<polygon fill=\"black\" stroke=\"black\" points=\"318.35,-132 328.35,-128.5 318.35,-125 318.35,-132\"/>\n</g>\n<!-- 137973546257280 -->\n<g id=\"node8\" class=\"node\">\n<title>137973546257280</title>\n<polygon fill=\"none\" stroke=\"black\" points=\"1347,-109.5 1347,-145.5 1532,-145.5 1532,-109.5 1347,-109.5\"/>\n<text text-anchor=\"middle\" x=\"1358.5\" y=\"-123.8\" font-family=\"Times,serif\" font-size=\"14.00\">o</text>\n<polyline fill=\"none\" stroke=\"black\" points=\"1370,-109.5 1370,-145.5 \"/>\n<text text-anchor=\"middle\" x=\"1410\" y=\"-123.8\" font-family=\"Times,serif\" font-size=\"14.00\">data 0.7071</text>\n<polyline fill=\"none\" stroke=\"black\" points=\"1450,-109.5 1450,-145.5 \"/>\n<text text-anchor=\"middle\" x=\"1491\" y=\"-123.8\" font-family=\"Times,serif\" font-size=\"14.00\">grad 1.0000</text>\n</g>\n<!-- 137973546257280tanh -->\n<g id=\"node9\" class=\"node\">\n<title>137973546257280tanh</title>\n<ellipse fill=\"none\" stroke=\"black\" cx=\"1284\" cy=\"-127.5\" rx=\"27\" ry=\"18\"/>\n<text text-anchor=\"middle\" x=\"1284\" y=\"-123.8\" font-family=\"Times,serif\" font-size=\"14.00\">tanh</text>\n</g>\n<!-- 137973546257280tanh&#45;&gt;137973546257280 -->\n<g id=\"edge3\" class=\"edge\">\n<title>137973546257280tanh&#45;&gt;137973546257280</title>\n<path fill=\"none\" stroke=\"black\" d=\"M1311.04,-127.5C1318.58,-127.5 1327.3,-127.5 1336.57,-127.5\"/>\n<polygon fill=\"black\" stroke=\"black\" points=\"1336.81,-131 1346.81,-127.5 1336.81,-124 1336.81,-131\"/>\n</g>\n<!-- 137973546265488 -->\n<g id=\"node10\" class=\"node\">\n<title>137973546265488</title>\n<polygon fill=\"none\" stroke=\"black\" points=\"1036,-109.5 1036,-145.5 1221,-145.5 1221,-109.5 1036,-109.5\"/>\n<text text-anchor=\"middle\" x=\"1047.5\" y=\"-123.8\" font-family=\"Times,serif\" font-size=\"14.00\">n</text>\n<polyline fill=\"none\" stroke=\"black\" points=\"1059,-109.5 1059,-145.5 \"/>\n<text text-anchor=\"middle\" x=\"1099\" y=\"-123.8\" font-family=\"Times,serif\" font-size=\"14.00\">data 0.8813</text>\n<polyline fill=\"none\" stroke=\"black\" points=\"1139,-109.5 1139,-145.5 \"/>\n<text text-anchor=\"middle\" x=\"1180\" y=\"-123.8\" font-family=\"Times,serif\" font-size=\"14.00\">grad 0.5001</text>\n</g>\n<!-- 137973546265488&#45;&gt;137973546257280tanh -->\n<g id=\"edge11\" class=\"edge\">\n<title>137973546265488&#45;&gt;137973546257280tanh</title>\n<path fill=\"none\" stroke=\"black\" d=\"M1221.01,-127.5C1230.01,-127.5 1238.74,-127.5 1246.66,-127.5\"/>\n<polygon fill=\"black\" stroke=\"black\" points=\"1246.91,-131 1256.91,-127.5 1246.91,-124 1246.91,-131\"/>\n</g>\n<!-- 137973546265488+ -->\n<g id=\"node11\" class=\"node\">\n<title>137973546265488+</title>\n<ellipse fill=\"none\" stroke=\"black\" cx=\"973\" cy=\"-127.5\" rx=\"27\" ry=\"18\"/>\n<text text-anchor=\"middle\" x=\"973\" y=\"-123.8\" font-family=\"Times,serif\" font-size=\"14.00\">+</text>\n</g>\n<!-- 137973546265488+&#45;&gt;137973546265488 -->\n<g id=\"edge4\" class=\"edge\">\n<title>137973546265488+&#45;&gt;137973546265488</title>\n<path fill=\"none\" stroke=\"black\" d=\"M1000.04,-127.5C1007.58,-127.5 1016.3,-127.5 1025.57,-127.5\"/>\n<polygon fill=\"black\" stroke=\"black\" points=\"1025.81,-131 1035.81,-127.5 1025.81,-124 1025.81,-131\"/>\n</g>\n<!-- 137973546259392 -->\n<g id=\"node12\" class=\"node\">\n<title>137973546259392</title>\n<polygon fill=\"none\" stroke=\"black\" points=\"695.5,-137.5 695.5,-173.5 880.5,-173.5 880.5,-137.5 695.5,-137.5\"/>\n<text text-anchor=\"middle\" x=\"707\" y=\"-151.8\" font-family=\"Times,serif\" font-size=\"14.00\">b</text>\n<polyline fill=\"none\" stroke=\"black\" points=\"718.5,-137.5 718.5,-173.5 \"/>\n<text text-anchor=\"middle\" x=\"758.5\" y=\"-151.8\" font-family=\"Times,serif\" font-size=\"14.00\">data 6.8813</text>\n<polyline fill=\"none\" stroke=\"black\" points=\"798.5,-137.5 798.5,-173.5 \"/>\n<text text-anchor=\"middle\" x=\"839.5\" y=\"-151.8\" font-family=\"Times,serif\" font-size=\"14.00\">grad 0.5001</text>\n</g>\n<!-- 137973546259392&#45;&gt;137973546265488+ -->\n<g id=\"edge14\" class=\"edge\">\n<title>137973546259392&#45;&gt;137973546265488+</title>\n<path fill=\"none\" stroke=\"black\" d=\"M880.77,-141.46C900.52,-138.44 920.26,-135.42 936.29,-132.96\"/>\n<polygon fill=\"black\" stroke=\"black\" points=\"936.9,-136.41 946.26,-131.44 935.85,-129.49 936.9,-136.41\"/>\n</g>\n<!-- 137973546268128 -->\n<g id=\"node13\" class=\"node\">\n<title>137973546268128</title>\n<polygon fill=\"none\" stroke=\"black\" points=\"666,-82.5 666,-118.5 910,-118.5 910,-82.5 666,-82.5\"/>\n<text text-anchor=\"middle\" x=\"704.5\" y=\"-96.8\" font-family=\"Times,serif\" font-size=\"14.00\">x1w1x2w2</text>\n<polyline fill=\"none\" stroke=\"black\" points=\"743,-82.5 743,-118.5 \"/>\n<text text-anchor=\"middle\" x=\"785.5\" y=\"-96.8\" font-family=\"Times,serif\" font-size=\"14.00\">data &#45;6.0000</text>\n<polyline fill=\"none\" stroke=\"black\" points=\"828,-82.5 828,-118.5 \"/>\n<text text-anchor=\"middle\" x=\"869\" y=\"-96.8\" font-family=\"Times,serif\" font-size=\"14.00\">grad 0.5001</text>\n</g>\n<!-- 137973546268128&#45;&gt;137973546265488+ -->\n<g id=\"edge12\" class=\"edge\">\n<title>137973546268128&#45;&gt;137973546265488+</title>\n<path fill=\"none\" stroke=\"black\" d=\"M910.04,-118.36C919.47,-119.75 928.43,-121.07 936.46,-122.26\"/>\n<polygon fill=\"black\" stroke=\"black\" points=\"936.03,-125.73 946.43,-123.73 937.05,-118.81 936.03,-125.73\"/>\n</g>\n<!-- 137973546268128+&#45;&gt;137973546268128 -->\n<g id=\"edge5\" class=\"edge\">\n<title>137973546268128+&#45;&gt;137973546268128</title>\n<path fill=\"none\" stroke=\"black\" d=\"M630.22,-100.5C637.7,-100.5 646.4,-100.5 655.79,-100.5\"/>\n<polygon fill=\"black\" stroke=\"black\" points=\"655.8,-104 665.8,-100.5 655.8,-97 655.8,-104\"/>\n</g>\n<!-- 137973546259440 -->\n<g id=\"node15\" class=\"node\">\n<title>137973546259440</title>\n<polygon fill=\"none\" stroke=\"black\" points=\"4,-110.5 4,-146.5 196,-146.5 196,-110.5 4,-110.5\"/>\n<text text-anchor=\"middle\" x=\"19\" y=\"-124.8\" font-family=\"Times,serif\" font-size=\"14.00\">x2</text>\n<polyline fill=\"none\" stroke=\"black\" points=\"34,-110.5 34,-146.5 \"/>\n<text text-anchor=\"middle\" x=\"74\" y=\"-124.8\" font-family=\"Times,serif\" font-size=\"14.00\">data 0.0000</text>\n<polyline fill=\"none\" stroke=\"black\" points=\"114,-110.5 114,-146.5 \"/>\n<text text-anchor=\"middle\" x=\"155\" y=\"-124.8\" font-family=\"Times,serif\" font-size=\"14.00\">grad 0.5001</text>\n</g>\n<!-- 137973546259440&#45;&gt;137973546257760* -->\n<g id=\"edge8\" class=\"edge\">\n<title>137973546259440&#45;&gt;137973546257760*</title>\n<path fill=\"none\" stroke=\"black\" d=\"M196.05,-128.5C206.52,-128.5 216.65,-128.5 225.71,-128.5\"/>\n<polygon fill=\"black\" stroke=\"black\" points=\"225.79,-132 235.79,-128.5 225.79,-125 225.79,-132\"/>\n</g>\n</g>\n</svg>\n",
            "text/plain": [
              "<graphviz.graphs.Digraph at 0x7d7c7836a920>"
            ]
          },
          "metadata": {},
          "execution_count": 77
        }
      ]
    },
    {
      "cell_type": "code",
      "source": [
        "# inputs x1, x2   2D neuron, so two inputs are gonna comin\n",
        "x1 = Value(2.0, label=\"x1\")\n",
        "x2 = Value(0.0, label=\"x2\")\n",
        "\n",
        "# weights of neuron w1, w2\n",
        "w1 = Value(-3.0, label=\"w1\")\n",
        "w2 = Value(1.0, label=\"w2\")\n",
        "\n",
        "# bias of the neuron\n",
        "b = Value(6.8813, label=\"b\")\n",
        "\n",
        "# (x1*w1) + (x2*w2) + b\n",
        "x1w1 = x1 * w1; x1w1.label = \"x1w1\";\n",
        "x2w2 = x2 * w2; x2w2.label = \"x2w2\";\n",
        "\n",
        "x1w1x2w2 = x1w1 + x2w2; x1w1x2w2.label = \"x1w1x2w2\";\n",
        "\n",
        "n = x1w1x2w2 + b; n.label=\"n\";\n",
        "# ----\n",
        "e = (2*n).exp()\n",
        "o = (e - 1) / (e + 1)\n",
        "# ----\n",
        "# draw_dot(o)\n",
        "o.backward()\n",
        "draw_dot(o)"
      ],
      "metadata": {
        "colab": {
          "base_uri": "https://localhost:8080/",
          "height": 356
        },
        "id": "mn9am285WoFm",
        "outputId": "99f1fce7-fd18-4b67-b1cd-54d0f359e518"
      },
      "execution_count": 78,
      "outputs": [
        {
          "output_type": "execute_result",
          "data": {
            "image/svg+xml": "<?xml version=\"1.0\" encoding=\"UTF-8\" standalone=\"no\"?>\n<!DOCTYPE svg PUBLIC \"-//W3C//DTD SVG 1.1//EN\"\n \"http://www.w3.org/Graphics/SVG/1.1/DTD/svg11.dtd\">\n<!-- Generated by graphviz version 2.43.0 (0)\n -->\n<!-- Title: %3 Pages: 1 -->\n<svg width=\"2906pt\" height=\"236pt\"\n viewBox=\"0.00 0.00 2906.00 236.00\" xmlns=\"http://www.w3.org/2000/svg\" xmlns:xlink=\"http://www.w3.org/1999/xlink\">\n<g id=\"graph0\" class=\"graph\" transform=\"scale(1 1) rotate(0) translate(4 232)\">\n<title>%3</title>\n<polygon fill=\"white\" stroke=\"transparent\" points=\"-4,4 -4,-232 2902,-232 2902,4 -4,4\"/>\n<!-- 137973546255360 -->\n<g id=\"node1\" class=\"node\">\n<title>137973546255360</title>\n<polygon fill=\"none\" stroke=\"black\" points=\"1036,-109.5 1036,-145.5 1221,-145.5 1221,-109.5 1036,-109.5\"/>\n<text text-anchor=\"middle\" x=\"1047.5\" y=\"-123.8\" font-family=\"Times,serif\" font-size=\"14.00\">n</text>\n<polyline fill=\"none\" stroke=\"black\" points=\"1059,-109.5 1059,-145.5 \"/>\n<text text-anchor=\"middle\" x=\"1099\" y=\"-123.8\" font-family=\"Times,serif\" font-size=\"14.00\">data 0.8813</text>\n<polyline fill=\"none\" stroke=\"black\" points=\"1139,-109.5 1139,-145.5 \"/>\n<text text-anchor=\"middle\" x=\"1180\" y=\"-123.8\" font-family=\"Times,serif\" font-size=\"14.00\">grad 0.5001</text>\n</g>\n<!-- 137973544481696* -->\n<g id=\"node24\" class=\"node\">\n<title>137973544481696*</title>\n<ellipse fill=\"none\" stroke=\"black\" cx=\"1284\" cy=\"-154.5\" rx=\"27\" ry=\"18\"/>\n<text text-anchor=\"middle\" x=\"1284\" y=\"-150.8\" font-family=\"Times,serif\" font-size=\"14.00\">*</text>\n</g>\n<!-- 137973546255360&#45;&gt;137973544481696* -->\n<g id=\"edge13\" class=\"edge\">\n<title>137973546255360&#45;&gt;137973544481696*</title>\n<path fill=\"none\" stroke=\"black\" d=\"M1221.01,-143.6C1230.49,-145.26 1239.66,-146.88 1247.9,-148.33\"/>\n<polygon fill=\"black\" stroke=\"black\" points=\"1247.36,-151.78 1257.81,-150.07 1248.57,-144.89 1247.36,-151.78\"/>\n</g>\n<!-- 137973546255360+ -->\n<g id=\"node2\" class=\"node\">\n<title>137973546255360+</title>\n<ellipse fill=\"none\" stroke=\"black\" cx=\"973\" cy=\"-127.5\" rx=\"27\" ry=\"18\"/>\n<text text-anchor=\"middle\" x=\"973\" y=\"-123.8\" font-family=\"Times,serif\" font-size=\"14.00\">+</text>\n</g>\n<!-- 137973546255360+&#45;&gt;137973546255360 -->\n<g id=\"edge1\" class=\"edge\">\n<title>137973546255360+&#45;&gt;137973546255360</title>\n<path fill=\"none\" stroke=\"black\" d=\"M1000.04,-127.5C1007.58,-127.5 1016.3,-127.5 1025.57,-127.5\"/>\n<polygon fill=\"black\" stroke=\"black\" points=\"1025.81,-131 1035.81,-127.5 1025.81,-124 1025.81,-131\"/>\n</g>\n<!-- 137973544470080 -->\n<g id=\"node3\" class=\"node\">\n<title>137973544470080</title>\n<polygon fill=\"none\" stroke=\"black\" points=\"1968,-108.5 1968,-144.5 2154,-144.5 2154,-108.5 1968,-108.5\"/>\n<text text-anchor=\"middle\" x=\"1978\" y=\"-122.8\" font-family=\"Times,serif\" font-size=\"14.00\"> </text>\n<polyline fill=\"none\" stroke=\"black\" points=\"1988,-108.5 1988,-144.5 \"/>\n<text text-anchor=\"middle\" x=\"2028\" y=\"-122.8\" font-family=\"Times,serif\" font-size=\"14.00\">data 6.8276</text>\n<polyline fill=\"none\" stroke=\"black\" points=\"2068,-108.5 2068,-144.5 \"/>\n<text text-anchor=\"middle\" x=\"2111\" y=\"-122.8\" font-family=\"Times,serif\" font-size=\"14.00\">grad &#45;0.1036</text>\n</g>\n<!-- 137973544480592**&#45;1 -->\n<g id=\"node26\" class=\"node\">\n<title>137973544480592**&#45;1</title>\n<ellipse fill=\"none\" stroke=\"black\" cx=\"2281\" cy=\"-126.5\" rx=\"27\" ry=\"18\"/>\n<text text-anchor=\"middle\" x=\"2281\" y=\"-122.8\" font-family=\"Times,serif\" font-size=\"14.00\">**&#45;1</text>\n</g>\n<!-- 137973544470080&#45;&gt;137973544480592**&#45;1 -->\n<g id=\"edge25\" class=\"edge\">\n<title>137973544470080&#45;&gt;137973544480592**&#45;1</title>\n<path fill=\"none\" stroke=\"black\" d=\"M2154.14,-126.5C2185.72,-126.5 2219.24,-126.5 2243.74,-126.5\"/>\n<polygon fill=\"black\" stroke=\"black\" points=\"2243.98,-130 2253.98,-126.5 2243.98,-123 2243.98,-130\"/>\n</g>\n<!-- 137973544470080+ -->\n<g id=\"node4\" class=\"node\">\n<title>137973544470080+</title>\n<ellipse fill=\"none\" stroke=\"black\" cx=\"1905\" cy=\"-126.5\" rx=\"27\" ry=\"18\"/>\n<text text-anchor=\"middle\" x=\"1905\" y=\"-122.8\" font-family=\"Times,serif\" font-size=\"14.00\">+</text>\n</g>\n<!-- 137973544470080+&#45;&gt;137973544470080 -->\n<g id=\"edge2\" class=\"edge\">\n<title>137973544470080+&#45;&gt;137973544470080</title>\n<path fill=\"none\" stroke=\"black\" d=\"M1932.12,-126.5C1939.62,-126.5 1948.29,-126.5 1957.5,-126.5\"/>\n<polygon fill=\"black\" stroke=\"black\" points=\"1957.69,-130 1967.69,-126.5 1957.69,-123 1957.69,-130\"/>\n</g>\n<!-- 137973546263136 -->\n<g id=\"node5\" class=\"node\">\n<title>137973546263136</title>\n<polygon fill=\"none\" stroke=\"black\" points=\"328.5,-110.5 328.5,-146.5 537.5,-146.5 537.5,-110.5 328.5,-110.5\"/>\n<text text-anchor=\"middle\" x=\"352\" y=\"-124.8\" font-family=\"Times,serif\" font-size=\"14.00\">x2w2</text>\n<polyline fill=\"none\" stroke=\"black\" points=\"375.5,-110.5 375.5,-146.5 \"/>\n<text text-anchor=\"middle\" x=\"415.5\" y=\"-124.8\" font-family=\"Times,serif\" font-size=\"14.00\">data 0.0000</text>\n<polyline fill=\"none\" stroke=\"black\" points=\"455.5,-110.5 455.5,-146.5 \"/>\n<text text-anchor=\"middle\" x=\"496.5\" y=\"-124.8\" font-family=\"Times,serif\" font-size=\"14.00\">grad 0.5001</text>\n</g>\n<!-- 137973546270000+ -->\n<g id=\"node16\" class=\"node\">\n<title>137973546270000+</title>\n<ellipse fill=\"none\" stroke=\"black\" cx=\"603\" cy=\"-100.5\" rx=\"27\" ry=\"18\"/>\n<text text-anchor=\"middle\" x=\"603\" y=\"-96.8\" font-family=\"Times,serif\" font-size=\"14.00\">+</text>\n</g>\n<!-- 137973546263136&#45;&gt;137973546270000+ -->\n<g id=\"edge20\" class=\"edge\">\n<title>137973546263136&#45;&gt;137973546270000+</title>\n<path fill=\"none\" stroke=\"black\" d=\"M537.53,-111.25C547.8,-109.53 557.66,-107.89 566.45,-106.43\"/>\n<polygon fill=\"black\" stroke=\"black\" points=\"567.3,-109.83 576.59,-104.74 566.15,-102.93 567.3,-109.83\"/>\n</g>\n<!-- 137973546263136* -->\n<g id=\"node6\" class=\"node\">\n<title>137973546263136*</title>\n<ellipse fill=\"none\" stroke=\"black\" cx=\"263\" cy=\"-128.5\" rx=\"27\" ry=\"18\"/>\n<text text-anchor=\"middle\" x=\"263\" y=\"-124.8\" font-family=\"Times,serif\" font-size=\"14.00\">*</text>\n</g>\n<!-- 137973546263136*&#45;&gt;137973546263136 -->\n<g id=\"edge3\" class=\"edge\">\n<title>137973546263136*&#45;&gt;137973546263136</title>\n<path fill=\"none\" stroke=\"black\" d=\"M290.25,-128.5C298.43,-128.5 308.03,-128.5 318.31,-128.5\"/>\n<polygon fill=\"black\" stroke=\"black\" points=\"318.35,-132 328.35,-128.5 318.35,-125 318.35,-132\"/>\n</g>\n<!-- 137973546266736 -->\n<g id=\"node7\" class=\"node\">\n<title>137973546266736</title>\n<polygon fill=\"none\" stroke=\"black\" points=\"0,-55.5 0,-91.5 200,-91.5 200,-55.5 0,-55.5\"/>\n<text text-anchor=\"middle\" x=\"16.5\" y=\"-69.8\" font-family=\"Times,serif\" font-size=\"14.00\">w1</text>\n<polyline fill=\"none\" stroke=\"black\" points=\"33,-55.5 33,-91.5 \"/>\n<text text-anchor=\"middle\" x=\"75.5\" y=\"-69.8\" font-family=\"Times,serif\" font-size=\"14.00\">data &#45;3.0000</text>\n<polyline fill=\"none\" stroke=\"black\" points=\"118,-55.5 118,-91.5 \"/>\n<text text-anchor=\"middle\" x=\"159\" y=\"-69.8\" font-family=\"Times,serif\" font-size=\"14.00\">grad 1.0001</text>\n</g>\n<!-- 137973546260928* -->\n<g id=\"node28\" class=\"node\">\n<title>137973546260928*</title>\n<ellipse fill=\"none\" stroke=\"black\" cx=\"263\" cy=\"-73.5\" rx=\"27\" ry=\"18\"/>\n<text text-anchor=\"middle\" x=\"263\" y=\"-69.8\" font-family=\"Times,serif\" font-size=\"14.00\">*</text>\n</g>\n<!-- 137973546266736&#45;&gt;137973546260928* -->\n<g id=\"edge17\" class=\"edge\">\n<title>137973546266736&#45;&gt;137973546260928*</title>\n<path fill=\"none\" stroke=\"black\" d=\"M200.21,-73.5C209.2,-73.5 217.86,-73.5 225.7,-73.5\"/>\n<polygon fill=\"black\" stroke=\"black\" points=\"225.85,-77 235.85,-73.5 225.85,-70 225.85,-77\"/>\n</g>\n<!-- 137973546259872 -->\n<g id=\"node8\" class=\"node\">\n<title>137973546259872</title>\n<polygon fill=\"none\" stroke=\"black\" points=\"695.5,-137.5 695.5,-173.5 880.5,-173.5 880.5,-137.5 695.5,-137.5\"/>\n<text text-anchor=\"middle\" x=\"707\" y=\"-151.8\" font-family=\"Times,serif\" font-size=\"14.00\">b</text>\n<polyline fill=\"none\" stroke=\"black\" points=\"718.5,-137.5 718.5,-173.5 \"/>\n<text text-anchor=\"middle\" x=\"758.5\" y=\"-151.8\" font-family=\"Times,serif\" font-size=\"14.00\">data 6.8813</text>\n<polyline fill=\"none\" stroke=\"black\" points=\"798.5,-137.5 798.5,-173.5 \"/>\n<text text-anchor=\"middle\" x=\"839.5\" y=\"-151.8\" font-family=\"Times,serif\" font-size=\"14.00\">grad 0.5001</text>\n</g>\n<!-- 137973546259872&#45;&gt;137973546255360+ -->\n<g id=\"edge27\" class=\"edge\">\n<title>137973546259872&#45;&gt;137973546255360+</title>\n<path fill=\"none\" stroke=\"black\" d=\"M880.77,-141.46C900.52,-138.44 920.26,-135.42 936.29,-132.96\"/>\n<polygon fill=\"black\" stroke=\"black\" points=\"936.9,-136.41 946.26,-131.44 935.85,-129.49 936.9,-136.41\"/>\n</g>\n<!-- 137973544472288 -->\n<g id=\"node9\" class=\"node\">\n<title>137973544472288</title>\n<polygon fill=\"none\" stroke=\"black\" points=\"1655.5,-81.5 1655.5,-117.5 1841.5,-117.5 1841.5,-81.5 1655.5,-81.5\"/>\n<text text-anchor=\"middle\" x=\"1665.5\" y=\"-95.8\" font-family=\"Times,serif\" font-size=\"14.00\"> </text>\n<polyline fill=\"none\" stroke=\"black\" points=\"1675.5,-81.5 1675.5,-117.5 \"/>\n<text text-anchor=\"middle\" x=\"1715.5\" y=\"-95.8\" font-family=\"Times,serif\" font-size=\"14.00\">data 1.0000</text>\n<polyline fill=\"none\" stroke=\"black\" points=\"1755.5,-81.5 1755.5,-117.5 \"/>\n<text text-anchor=\"middle\" x=\"1798.5\" y=\"-95.8\" font-family=\"Times,serif\" font-size=\"14.00\">grad &#45;0.1036</text>\n</g>\n<!-- 137973544472288&#45;&gt;137973544470080+ -->\n<g id=\"edge26\" class=\"edge\">\n<title>137973544472288&#45;&gt;137973544470080+</title>\n<path fill=\"none\" stroke=\"black\" d=\"M1841.6,-115.6C1851.15,-117.26 1860.37,-118.88 1868.68,-120.33\"/>\n<polygon fill=\"black\" stroke=\"black\" points=\"1868.2,-123.8 1878.65,-122.07 1869.4,-116.9 1868.2,-123.8\"/>\n</g>\n<!-- 137973544484624 -->\n<g id=\"node10\" class=\"node\">\n<title>137973544484624</title>\n<polygon fill=\"none\" stroke=\"black\" points=\"2190,-163.5 2190,-199.5 2372,-199.5 2372,-163.5 2190,-163.5\"/>\n<text text-anchor=\"middle\" x=\"2200\" y=\"-177.8\" font-family=\"Times,serif\" font-size=\"14.00\"> </text>\n<polyline fill=\"none\" stroke=\"black\" points=\"2210,-163.5 2210,-199.5 \"/>\n<text text-anchor=\"middle\" x=\"2250\" y=\"-177.8\" font-family=\"Times,serif\" font-size=\"14.00\">data 4.8276</text>\n<polyline fill=\"none\" stroke=\"black\" points=\"2290,-163.5 2290,-199.5 \"/>\n<text text-anchor=\"middle\" x=\"2331\" y=\"-177.8\" font-family=\"Times,serif\" font-size=\"14.00\">grad 0.1465</text>\n</g>\n<!-- 137973544483664* -->\n<g id=\"node18\" class=\"node\">\n<title>137973544483664*</title>\n<ellipse fill=\"none\" stroke=\"black\" cx=\"2653\" cy=\"-153.5\" rx=\"27\" ry=\"18\"/>\n<text text-anchor=\"middle\" x=\"2653\" y=\"-149.8\" font-family=\"Times,serif\" font-size=\"14.00\">*</text>\n</g>\n<!-- 137973544484624&#45;&gt;137973544483664* -->\n<g id=\"edge11\" class=\"edge\">\n<title>137973544484624&#45;&gt;137973544483664*</title>\n<path fill=\"none\" stroke=\"black\" d=\"M2372.31,-174.9C2433.7,-170.37 2516.76,-164.19 2590,-158.5 2598.42,-157.85 2607.48,-157.13 2616.01,-156.44\"/>\n<polygon fill=\"black\" stroke=\"black\" points=\"2616.37,-159.92 2626.06,-155.63 2615.81,-152.94 2616.37,-159.92\"/>\n</g>\n<!-- 137973544484624+ -->\n<g id=\"node11\" class=\"node\">\n<title>137973544484624+</title>\n<ellipse fill=\"none\" stroke=\"black\" cx=\"1905\" cy=\"-181.5\" rx=\"27\" ry=\"18\"/>\n<text text-anchor=\"middle\" x=\"1905\" y=\"-177.8\" font-family=\"Times,serif\" font-size=\"14.00\">+</text>\n</g>\n<!-- 137973544484624+&#45;&gt;137973544484624 -->\n<g id=\"edge4\" class=\"edge\">\n<title>137973544484624+&#45;&gt;137973544484624</title>\n<path fill=\"none\" stroke=\"black\" d=\"M1932,-181.5C1982.46,-181.5 2096.06,-181.5 2179.81,-181.5\"/>\n<polygon fill=\"black\" stroke=\"black\" points=\"2179.87,-185 2189.87,-181.5 2179.87,-178 2179.87,-185\"/>\n</g>\n<!-- 137973546268944 -->\n<g id=\"node12\" class=\"node\">\n<title>137973546268944</title>\n<polygon fill=\"none\" stroke=\"black\" points=\"2.5,-165.5 2.5,-201.5 197.5,-201.5 197.5,-165.5 2.5,-165.5\"/>\n<text text-anchor=\"middle\" x=\"19\" y=\"-179.8\" font-family=\"Times,serif\" font-size=\"14.00\">w2</text>\n<polyline fill=\"none\" stroke=\"black\" points=\"35.5,-165.5 35.5,-201.5 \"/>\n<text text-anchor=\"middle\" x=\"75.5\" y=\"-179.8\" font-family=\"Times,serif\" font-size=\"14.00\">data 1.0000</text>\n<polyline fill=\"none\" stroke=\"black\" points=\"115.5,-165.5 115.5,-201.5 \"/>\n<text text-anchor=\"middle\" x=\"156.5\" y=\"-179.8\" font-family=\"Times,serif\" font-size=\"14.00\">grad 0.0000</text>\n</g>\n<!-- 137973546268944&#45;&gt;137973546263136* -->\n<g id=\"edge21\" class=\"edge\">\n<title>137973546268944&#45;&gt;137973546263136*</title>\n<path fill=\"none\" stroke=\"black\" d=\"M172.53,-165.44C181.84,-162.67 191.2,-159.67 200,-156.5 210.53,-152.71 221.75,-147.9 231.72,-143.33\"/>\n<polygon fill=\"black\" stroke=\"black\" points=\"233.25,-146.48 240.82,-139.07 230.28,-140.14 233.25,-146.48\"/>\n</g>\n<!-- 137973544484144 -->\n<g id=\"node13\" class=\"node\">\n<title>137973544484144</title>\n<polygon fill=\"none\" stroke=\"black\" points=\"1657.5,-136.5 1657.5,-172.5 1839.5,-172.5 1839.5,-136.5 1657.5,-136.5\"/>\n<text text-anchor=\"middle\" x=\"1667.5\" y=\"-150.8\" font-family=\"Times,serif\" font-size=\"14.00\"> </text>\n<polyline fill=\"none\" stroke=\"black\" points=\"1677.5,-136.5 1677.5,-172.5 \"/>\n<text text-anchor=\"middle\" x=\"1717.5\" y=\"-150.8\" font-family=\"Times,serif\" font-size=\"14.00\">data 5.8276</text>\n<polyline fill=\"none\" stroke=\"black\" points=\"1757.5,-136.5 1757.5,-172.5 \"/>\n<text text-anchor=\"middle\" x=\"1798.5\" y=\"-150.8\" font-family=\"Times,serif\" font-size=\"14.00\">grad 0.0429</text>\n</g>\n<!-- 137973544484144&#45;&gt;137973544470080+ -->\n<g id=\"edge15\" class=\"edge\">\n<title>137973544484144&#45;&gt;137973544470080+</title>\n<path fill=\"none\" stroke=\"black\" d=\"M1839.82,-138.13C1850.07,-136.27 1860.01,-134.47 1868.88,-132.87\"/>\n<polygon fill=\"black\" stroke=\"black\" points=\"1869.54,-136.3 1878.75,-131.08 1868.29,-129.42 1869.54,-136.3\"/>\n</g>\n<!-- 137973544484144&#45;&gt;137973544484624+ -->\n<g id=\"edge16\" class=\"edge\">\n<title>137973544484144&#45;&gt;137973544484624+</title>\n<path fill=\"none\" stroke=\"black\" d=\"M1839.82,-170.28C1850.07,-172.08 1860.01,-173.81 1868.88,-175.36\"/>\n<polygon fill=\"black\" stroke=\"black\" points=\"1868.3,-178.81 1878.75,-177.09 1869.5,-171.92 1868.3,-178.81\"/>\n</g>\n<!-- 137973544484144exp -->\n<g id=\"node14\" class=\"node\">\n<title>137973544484144exp</title>\n<ellipse fill=\"none\" stroke=\"black\" cx=\"1592\" cy=\"-154.5\" rx=\"27\" ry=\"18\"/>\n<text text-anchor=\"middle\" x=\"1592\" y=\"-150.8\" font-family=\"Times,serif\" font-size=\"14.00\">exp</text>\n</g>\n<!-- 137973544484144exp&#45;&gt;137973544484144 -->\n<g id=\"edge5\" class=\"edge\">\n<title>137973544484144exp&#45;&gt;137973544484144</title>\n<path fill=\"none\" stroke=\"black\" d=\"M1619.21,-154.5C1627.34,-154.5 1636.85,-154.5 1646.94,-154.5\"/>\n<polygon fill=\"black\" stroke=\"black\" points=\"1647.19,-158 1657.19,-154.5 1647.19,-151 1647.19,-158\"/>\n</g>\n<!-- 137973546270000 -->\n<g id=\"node15\" class=\"node\">\n<title>137973546270000</title>\n<polygon fill=\"none\" stroke=\"black\" points=\"666,-82.5 666,-118.5 910,-118.5 910,-82.5 666,-82.5\"/>\n<text text-anchor=\"middle\" x=\"704.5\" y=\"-96.8\" font-family=\"Times,serif\" font-size=\"14.00\">x1w1x2w2</text>\n<polyline fill=\"none\" stroke=\"black\" points=\"743,-82.5 743,-118.5 \"/>\n<text text-anchor=\"middle\" x=\"785.5\" y=\"-96.8\" font-family=\"Times,serif\" font-size=\"14.00\">data &#45;6.0000</text>\n<polyline fill=\"none\" stroke=\"black\" points=\"828,-82.5 828,-118.5 \"/>\n<text text-anchor=\"middle\" x=\"869\" y=\"-96.8\" font-family=\"Times,serif\" font-size=\"14.00\">grad 0.5001</text>\n</g>\n<!-- 137973546270000&#45;&gt;137973546255360+ -->\n<g id=\"edge23\" class=\"edge\">\n<title>137973546270000&#45;&gt;137973546255360+</title>\n<path fill=\"none\" stroke=\"black\" d=\"M910.04,-118.36C919.47,-119.75 928.43,-121.07 936.46,-122.26\"/>\n<polygon fill=\"black\" stroke=\"black\" points=\"936.03,-125.73 946.43,-123.73 937.05,-118.81 936.03,-125.73\"/>\n</g>\n<!-- 137973546270000+&#45;&gt;137973546270000 -->\n<g id=\"edge6\" class=\"edge\">\n<title>137973546270000+&#45;&gt;137973546270000</title>\n<path fill=\"none\" stroke=\"black\" d=\"M630.22,-100.5C637.7,-100.5 646.4,-100.5 655.79,-100.5\"/>\n<polygon fill=\"black\" stroke=\"black\" points=\"655.8,-104 665.8,-100.5 655.8,-97 655.8,-104\"/>\n</g>\n<!-- 137973544483664 -->\n<g id=\"node17\" class=\"node\">\n<title>137973544483664</title>\n<polygon fill=\"none\" stroke=\"black\" points=\"2716,-135.5 2716,-171.5 2898,-171.5 2898,-135.5 2716,-135.5\"/>\n<text text-anchor=\"middle\" x=\"2726\" y=\"-149.8\" font-family=\"Times,serif\" font-size=\"14.00\"> </text>\n<polyline fill=\"none\" stroke=\"black\" points=\"2736,-135.5 2736,-171.5 \"/>\n<text text-anchor=\"middle\" x=\"2776\" y=\"-149.8\" font-family=\"Times,serif\" font-size=\"14.00\">data 0.7071</text>\n<polyline fill=\"none\" stroke=\"black\" points=\"2816,-135.5 2816,-171.5 \"/>\n<text text-anchor=\"middle\" x=\"2857\" y=\"-149.8\" font-family=\"Times,serif\" font-size=\"14.00\">grad 1.0000</text>\n</g>\n<!-- 137973544483664*&#45;&gt;137973544483664 -->\n<g id=\"edge7\" class=\"edge\">\n<title>137973544483664*&#45;&gt;137973544483664</title>\n<path fill=\"none\" stroke=\"black\" d=\"M2680.13,-153.5C2687.67,-153.5 2696.39,-153.5 2705.64,-153.5\"/>\n<polygon fill=\"black\" stroke=\"black\" points=\"2705.87,-157 2715.87,-153.5 2705.87,-150 2705.87,-157\"/>\n</g>\n<!-- 137973546260304 -->\n<g id=\"node19\" class=\"node\">\n<title>137973546260304</title>\n<polygon fill=\"none\" stroke=\"black\" points=\"4,-110.5 4,-146.5 196,-146.5 196,-110.5 4,-110.5\"/>\n<text text-anchor=\"middle\" x=\"19\" y=\"-124.8\" font-family=\"Times,serif\" font-size=\"14.00\">x2</text>\n<polyline fill=\"none\" stroke=\"black\" points=\"34,-110.5 34,-146.5 \"/>\n<text text-anchor=\"middle\" x=\"74\" y=\"-124.8\" font-family=\"Times,serif\" font-size=\"14.00\">data 0.0000</text>\n<polyline fill=\"none\" stroke=\"black\" points=\"114,-110.5 114,-146.5 \"/>\n<text text-anchor=\"middle\" x=\"155\" y=\"-124.8\" font-family=\"Times,serif\" font-size=\"14.00\">grad 0.5001</text>\n</g>\n<!-- 137973546260304&#45;&gt;137973546263136* -->\n<g id=\"edge24\" class=\"edge\">\n<title>137973546260304&#45;&gt;137973546263136*</title>\n<path fill=\"none\" stroke=\"black\" d=\"M196.05,-128.5C206.52,-128.5 216.65,-128.5 225.71,-128.5\"/>\n<polygon fill=\"black\" stroke=\"black\" points=\"225.79,-132 235.79,-128.5 225.79,-125 225.79,-132\"/>\n</g>\n<!-- 137973546265968 -->\n<g id=\"node20\" class=\"node\">\n<title>137973546265968</title>\n<polygon fill=\"none\" stroke=\"black\" points=\"2,-0.5 2,-36.5 198,-36.5 198,-0.5 2,-0.5\"/>\n<text text-anchor=\"middle\" x=\"17\" y=\"-14.8\" font-family=\"Times,serif\" font-size=\"14.00\">x1</text>\n<polyline fill=\"none\" stroke=\"black\" points=\"32,-0.5 32,-36.5 \"/>\n<text text-anchor=\"middle\" x=\"72\" y=\"-14.8\" font-family=\"Times,serif\" font-size=\"14.00\">data 2.0000</text>\n<polyline fill=\"none\" stroke=\"black\" points=\"112,-0.5 112,-36.5 \"/>\n<text text-anchor=\"middle\" x=\"155\" y=\"-14.8\" font-family=\"Times,serif\" font-size=\"14.00\">grad &#45;1.5002</text>\n</g>\n<!-- 137973546265968&#45;&gt;137973546260928* -->\n<g id=\"edge18\" class=\"edge\">\n<title>137973546265968&#45;&gt;137973546260928*</title>\n<path fill=\"none\" stroke=\"black\" d=\"M172.53,-36.56C181.84,-39.33 191.2,-42.33 200,-45.5 210.53,-49.29 221.75,-54.1 231.72,-58.67\"/>\n<polygon fill=\"black\" stroke=\"black\" points=\"230.28,-61.86 240.82,-62.93 233.25,-55.52 230.28,-61.86\"/>\n</g>\n<!-- 137973544481552 -->\n<g id=\"node21\" class=\"node\">\n<title>137973544481552</title>\n<polygon fill=\"none\" stroke=\"black\" points=\"1037.5,-164.5 1037.5,-200.5 1219.5,-200.5 1219.5,-164.5 1037.5,-164.5\"/>\n<text text-anchor=\"middle\" x=\"1047.5\" y=\"-178.8\" font-family=\"Times,serif\" font-size=\"14.00\"> </text>\n<polyline fill=\"none\" stroke=\"black\" points=\"1057.5,-164.5 1057.5,-200.5 \"/>\n<text text-anchor=\"middle\" x=\"1097.5\" y=\"-178.8\" font-family=\"Times,serif\" font-size=\"14.00\">data 2.0000</text>\n<polyline fill=\"none\" stroke=\"black\" points=\"1137.5,-164.5 1137.5,-200.5 \"/>\n<text text-anchor=\"middle\" x=\"1178.5\" y=\"-178.8\" font-family=\"Times,serif\" font-size=\"14.00\">grad 0.2203</text>\n</g>\n<!-- 137973544481552&#45;&gt;137973544481696* -->\n<g id=\"edge12\" class=\"edge\">\n<title>137973544481552&#45;&gt;137973544481696*</title>\n<path fill=\"none\" stroke=\"black\" d=\"M1219.68,-166.05C1229.61,-164.24 1239.23,-162.48 1247.84,-160.91\"/>\n<polygon fill=\"black\" stroke=\"black\" points=\"1248.6,-164.33 1257.81,-159.09 1247.35,-157.45 1248.6,-164.33\"/>\n</g>\n<!-- 137973544484240 -->\n<g id=\"node22\" class=\"node\">\n<title>137973544484240</title>\n<polygon fill=\"none\" stroke=\"black\" points=\"1655,-191.5 1655,-227.5 1842,-227.5 1842,-191.5 1655,-191.5\"/>\n<text text-anchor=\"middle\" x=\"1665\" y=\"-205.8\" font-family=\"Times,serif\" font-size=\"14.00\"> </text>\n<polyline fill=\"none\" stroke=\"black\" points=\"1675,-191.5 1675,-227.5 \"/>\n<text text-anchor=\"middle\" x=\"1717.5\" y=\"-205.8\" font-family=\"Times,serif\" font-size=\"14.00\">data &#45;1.0000</text>\n<polyline fill=\"none\" stroke=\"black\" points=\"1760,-191.5 1760,-227.5 \"/>\n<text text-anchor=\"middle\" x=\"1801\" y=\"-205.8\" font-family=\"Times,serif\" font-size=\"14.00\">grad 0.1465</text>\n</g>\n<!-- 137973544484240&#45;&gt;137973544484624+ -->\n<g id=\"edge14\" class=\"edge\">\n<title>137973544484240&#45;&gt;137973544484624+</title>\n<path fill=\"none\" stroke=\"black\" d=\"M1842.05,-192.73C1851.54,-191.01 1860.71,-189.35 1868.95,-187.85\"/>\n<polygon fill=\"black\" stroke=\"black\" points=\"1869.64,-191.28 1878.85,-186.06 1868.39,-184.4 1869.64,-191.28\"/>\n</g>\n<!-- 137973544481696 -->\n<g id=\"node23\" class=\"node\">\n<title>137973544481696</title>\n<polygon fill=\"none\" stroke=\"black\" points=\"1347,-136.5 1347,-172.5 1529,-172.5 1529,-136.5 1347,-136.5\"/>\n<text text-anchor=\"middle\" x=\"1357\" y=\"-150.8\" font-family=\"Times,serif\" font-size=\"14.00\"> </text>\n<polyline fill=\"none\" stroke=\"black\" points=\"1367,-136.5 1367,-172.5 \"/>\n<text text-anchor=\"middle\" x=\"1407\" y=\"-150.8\" font-family=\"Times,serif\" font-size=\"14.00\">data 1.7626</text>\n<polyline fill=\"none\" stroke=\"black\" points=\"1447,-136.5 1447,-172.5 \"/>\n<text text-anchor=\"middle\" x=\"1488\" y=\"-150.8\" font-family=\"Times,serif\" font-size=\"14.00\">grad 0.2500</text>\n</g>\n<!-- 137973544481696&#45;&gt;137973544484144exp -->\n<g id=\"edge19\" class=\"edge\">\n<title>137973544481696&#45;&gt;137973544484144exp</title>\n<path fill=\"none\" stroke=\"black\" d=\"M1529.18,-154.5C1538.14,-154.5 1546.83,-154.5 1554.73,-154.5\"/>\n<polygon fill=\"black\" stroke=\"black\" points=\"1554.96,-158 1564.96,-154.5 1554.96,-151 1554.96,-158\"/>\n</g>\n<!-- 137973544481696*&#45;&gt;137973544481696 -->\n<g id=\"edge8\" class=\"edge\">\n<title>137973544481696*&#45;&gt;137973544481696</title>\n<path fill=\"none\" stroke=\"black\" d=\"M1311.13,-154.5C1318.67,-154.5 1327.39,-154.5 1336.64,-154.5\"/>\n<polygon fill=\"black\" stroke=\"black\" points=\"1336.87,-158 1346.87,-154.5 1336.87,-151 1336.87,-158\"/>\n</g>\n<!-- 137973544480592 -->\n<g id=\"node25\" class=\"node\">\n<title>137973544480592</title>\n<polygon fill=\"none\" stroke=\"black\" points=\"2408,-112.5 2408,-148.5 2590,-148.5 2590,-112.5 2408,-112.5\"/>\n<text text-anchor=\"middle\" x=\"2418\" y=\"-126.8\" font-family=\"Times,serif\" font-size=\"14.00\"> </text>\n<polyline fill=\"none\" stroke=\"black\" points=\"2428,-112.5 2428,-148.5 \"/>\n<text text-anchor=\"middle\" x=\"2468\" y=\"-126.8\" font-family=\"Times,serif\" font-size=\"14.00\">data 0.1465</text>\n<polyline fill=\"none\" stroke=\"black\" points=\"2508,-112.5 2508,-148.5 \"/>\n<text text-anchor=\"middle\" x=\"2549\" y=\"-126.8\" font-family=\"Times,serif\" font-size=\"14.00\">grad 4.8276</text>\n</g>\n<!-- 137973544480592&#45;&gt;137973544483664* -->\n<g id=\"edge22\" class=\"edge\">\n<title>137973544480592&#45;&gt;137973544483664*</title>\n<path fill=\"none\" stroke=\"black\" d=\"M2590.18,-144.15C2599.42,-145.54 2608.38,-146.9 2616.47,-148.12\"/>\n<polygon fill=\"black\" stroke=\"black\" points=\"2616.15,-151.61 2626.56,-149.65 2617.19,-144.69 2616.15,-151.61\"/>\n</g>\n<!-- 137973544480592**&#45;1&#45;&gt;137973544480592 -->\n<g id=\"edge9\" class=\"edge\">\n<title>137973544480592**&#45;1&#45;&gt;137973544480592</title>\n<path fill=\"none\" stroke=\"black\" d=\"M2308.05,-126.98C2330.53,-127.4 2364.48,-128.03 2397.5,-128.64\"/>\n<polygon fill=\"black\" stroke=\"black\" points=\"2397.64,-132.14 2407.7,-128.83 2397.77,-125.14 2397.64,-132.14\"/>\n</g>\n<!-- 137973546260928 -->\n<g id=\"node27\" class=\"node\">\n<title>137973546260928</title>\n<polygon fill=\"none\" stroke=\"black\" points=\"326,-55.5 326,-91.5 540,-91.5 540,-55.5 326,-55.5\"/>\n<text text-anchor=\"middle\" x=\"349.5\" y=\"-69.8\" font-family=\"Times,serif\" font-size=\"14.00\">x1w1</text>\n<polyline fill=\"none\" stroke=\"black\" points=\"373,-55.5 373,-91.5 \"/>\n<text text-anchor=\"middle\" x=\"415.5\" y=\"-69.8\" font-family=\"Times,serif\" font-size=\"14.00\">data &#45;6.0000</text>\n<polyline fill=\"none\" stroke=\"black\" points=\"458,-55.5 458,-91.5 \"/>\n<text text-anchor=\"middle\" x=\"499\" y=\"-69.8\" font-family=\"Times,serif\" font-size=\"14.00\">grad 0.5001</text>\n</g>\n<!-- 137973546260928&#45;&gt;137973546270000+ -->\n<g id=\"edge28\" class=\"edge\">\n<title>137973546260928&#45;&gt;137973546270000+</title>\n<path fill=\"none\" stroke=\"black\" d=\"M540.4,-90.6C549.72,-92.1 558.65,-93.53 566.68,-94.82\"/>\n<polygon fill=\"black\" stroke=\"black\" points=\"566.24,-98.3 576.66,-96.43 567.35,-91.39 566.24,-98.3\"/>\n</g>\n<!-- 137973546260928*&#45;&gt;137973546260928 -->\n<g id=\"edge10\" class=\"edge\">\n<title>137973546260928*&#45;&gt;137973546260928</title>\n<path fill=\"none\" stroke=\"black\" d=\"M290.25,-73.5C297.7,-73.5 306.34,-73.5 315.59,-73.5\"/>\n<polygon fill=\"black\" stroke=\"black\" points=\"315.84,-77 325.84,-73.5 315.84,-70 315.84,-77\"/>\n</g>\n</g>\n</svg>\n",
            "text/plain": [
              "<graphviz.graphs.Digraph at 0x7d7c781b79d0>"
            ]
          },
          "metadata": {},
          "execution_count": 78
        }
      ]
    },
    {
      "cell_type": "markdown",
      "source": [
        "Compare and see difference\n",
        "1. the same result forward pass works. 0.7071\n",
        "2. same gradients backward pass\n",
        "\n",
        "in second, its much more longer graph than tanh one.\n",
        "\n",
        "Both forward and backward pass works correctly\n",
        "\n",
        "## takeaway/conclusion of divinding tanh\n",
        "- got practice of few more expressions and backward passes.\n",
        "- level of implementation is up to us.\n",
        "- we can implement backward pass like tiny single/individual + or -, or we can implement tanh which is composite operation bcs its made up of atomic operations like minus, exp, etc.\n",
        "\n",
        "- all that matters is some kind of input and some kind of an output and output is a function of a input in someway.\n",
        "- as long as we can do forward pass and backward pass of that operation, it doesnt matter what that operation is and how composite it is.\n",
        "- If you can write a local gradient, and chain the global gradient and continue backpropagation.\n",
        "- So design of that function is up to us.\n"
      ],
      "metadata": {
        "id": "ZtFrpSsuXbRX"
      }
    },
    {
      "cell_type": "code",
      "source": [],
      "metadata": {
        "id": "MgGn_41TXOqt"
      },
      "execution_count": null,
      "outputs": []
    }
  ],
  "metadata": {
    "colab": {
      "provenance": []
    },
    "kernelspec": {
      "display_name": "Python 3",
      "name": "python3"
    },
    "language_info": {
      "name": "python"
    }
  },
  "nbformat": 4,
  "nbformat_minor": 0
}