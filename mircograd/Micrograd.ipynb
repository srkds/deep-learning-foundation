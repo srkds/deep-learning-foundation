{
  "nbformat": 4,
  "nbformat_minor": 0,
  "metadata": {
    "colab": {
      "provenance": []
    },
    "kernelspec": {
      "name": "python3",
      "display_name": "Python 3"
    },
    "language_info": {
      "name": "python"
    }
  },
  "cells": [
    {
      "cell_type": "markdown",
      "source": [
        "# Neural Networks\n",
        "----\n",
        "Micrograd: Autograd: automatic engine, implements backpropagation.\n",
        "\n",
        "Backpropagation: is an algorithm that allows you to efficiently evaluate the gradient of a loss function with respect to weights of the NN.\n",
        "\n",
        "That allows us to we can iteratively tune the weight of network to minimize the loss function and therefore improve the accuracy of the network.\n",
        "\n",
        "Backpropagation could be at the mathematical core of any modern deep neural libraries. like Pytorch or jax.\n",
        "\n",
        "**NN:** just a mathematical expressions, they take the input data as input and weights of a neural networks as a input and mathematical expression. And output is your predictions of your NN or loss function"
      ],
      "metadata": {
        "id": "K6TykwVbWCbn"
      }
    },
    {
      "cell_type": "markdown",
      "source": [
        "# 1st Good understanding is what derivative is and what information it gives you .\n"
      ],
      "metadata": {
        "id": "10NG5ut8staB"
      }
    },
    {
      "cell_type": "code",
      "execution_count": null,
      "metadata": {
        "id": "aJe4j4Bz0XXv"
      },
      "outputs": [],
      "source": [
        "import math\n",
        "import numpy as np\n",
        "import matplotlib.pyplot as plt\n",
        "%matplotlib inline"
      ]
    },
    {
      "cell_type": "code",
      "source": [
        "## defining a scaler valued function f(x)\n",
        "\n",
        "def f(x):\n",
        "  ## takes single scaler x and returns single scaler y\n",
        "  return 3*x**2 - 4*x + 5"
      ],
      "metadata": {
        "id": "SQwSjJr2WBm4"
      },
      "execution_count": null,
      "outputs": []
    },
    {
      "cell_type": "code",
      "source": [
        "f(3.0)"
      ],
      "metadata": {
        "colab": {
          "base_uri": "https://localhost:8080/"
        },
        "id": "AoWYbA7NtfMa",
        "outputId": "cee660ea-6649-438f-b31e-8133ce7644d3"
      },
      "execution_count": null,
      "outputs": [
        {
          "output_type": "execute_result",
          "data": {
            "text/plain": [
              "20.0"
            ]
          },
          "metadata": {},
          "execution_count": 49
        }
      ]
    },
    {
      "cell_type": "markdown",
      "source": [
        "Thats for only one value x.\n",
        "\n",
        "we can draw a parabola with multiple valuees.\n",
        "\n",
        "let say get value from -5 to 5\n",
        "and get its y values and plot."
      ],
      "metadata": {
        "id": "-vQj_fPbuM2D"
      }
    },
    {
      "cell_type": "code",
      "source": [
        "xs = np.arange(-5,5,0.25)\n",
        "print(xs)\n",
        "ys = f(xs)\n",
        "plt.plot(xs,ys)"
      ],
      "metadata": {
        "colab": {
          "base_uri": "https://localhost:8080/",
          "height": 517
        },
        "id": "dFnlnuDBtggO",
        "outputId": "465b2c10-7628-479a-c87b-392ed8b040d7"
      },
      "execution_count": null,
      "outputs": [
        {
          "output_type": "stream",
          "name": "stdout",
          "text": [
            "[-5.   -4.75 -4.5  -4.25 -4.   -3.75 -3.5  -3.25 -3.   -2.75 -2.5  -2.25\n",
            " -2.   -1.75 -1.5  -1.25 -1.   -0.75 -0.5  -0.25  0.    0.25  0.5   0.75\n",
            "  1.    1.25  1.5   1.75  2.    2.25  2.5   2.75  3.    3.25  3.5   3.75\n",
            "  4.    4.25  4.5   4.75]\n"
          ]
        },
        {
          "output_type": "execute_result",
          "data": {
            "text/plain": [
              "[<matplotlib.lines.Line2D at 0x7ae558c6bac0>]"
            ]
          },
          "metadata": {},
          "execution_count": 50
        },
        {
          "output_type": "display_data",
          "data": {
            "text/plain": [
              "<Figure size 640x480 with 1 Axes>"
            ],
            "image/png": "[encoded data removed]"
          },
          "metadata": {}
        }
      ]
    },
    {
      "cell_type": "markdown",
      "source": [
        "As we can see if we give 3.0 as x and it will give us y as 20, can be seen on graph\n",
        "\n",
        "Now Think what is the derivative of function `f(x)` at any single input `x`. derivative of function at different point of `x`.\n",
        "\n",
        "In school we would do all the calculations on the paper and derive the equation and then pass all the x values to get derivatives.\n",
        "\n",
        "But here we are not going to do that because no one in neural networks writes out expressions for the NN. It would be tens of thousands of terms that derives the derivative.\n",
        "\n",
        "Instead of symbolic aproach we have to understand what derivative(defination of derivative) is and understand what derivative is measuring, what it is telling you about the function\n",
        "\n",
        "---\n",
        "\n",
        "## Derivative of a function f(x)\n",
        "\n",
        "$$ L = \\lim_{h \\to 0} \\frac{f(x+h)-f(x)}{h} $$\n",
        "\n",
        "What it is saying is that if you slightly bump up the, you are at some point `x` you are intrested in, and if you slightly bumpup `x` by small number `h`, how does the function respond, what is the slope at that point, does the function go up or down and by how much. the slope of that function or responce at that point.\n",
        "\n",
        "\n",
        "So we can evaluate derivative here numerically by taking the a very small `h`\n",
        "\n",
        "\n"
      ],
      "metadata": {
        "id": "C9Ncjx0fuqQP"
      }
    },
    {
      "cell_type": "markdown",
      "source": [
        "Take\n",
        "\n",
        "refere graph with x its corresponding y values\n",
        "```py\n",
        "h = 0.0001\n",
        "x = 3.0\n",
        "\n",
        "f(x) # output will be 20\n",
        "\n",
        "# so doing f(x + h) will it be greater than 20 or will be down?\n",
        "\n",
        "f(x + h) # 20.001400030\n",
        "\n",
        "## the value is slightly up\n",
        "\n",
        "## how much function responded?\n",
        "f(x+h) - f(x) # 0.0014000300000063248 function responded in a positive direction\n",
        "\n",
        "\n",
        "# then normalize by the run, so rize over run to get slope\n",
        "(f(x + h) - f(x))/h # 14.000300000063248\n",
        "```\n",
        "\n",
        "Here we have to take `h`'s value very very small amount to get the exsect value.\n",
        "\n",
        "so at `x = 3` the slope is `14`\n",
        "\n",
        "### slope at `x = -3`?\n",
        "\n",
        "telling exact value is hard but what will be the sign of the value?\n",
        "\n",
        "from the graph try to ans.\n",
        "\n",
        "so for -3 if we go slightly in a positive direction then function will go down.\n",
        "\n",
        "we will get slightly below 20.\n",
        "\n",
        "```py\n",
        "h = 0.0001\n",
        "x = -3.0\n",
        "\n",
        "f(x) # output will be 44.0\n",
        "\n",
        "# so doing f(x + h) will it be greater than 40.0 or will be down?\n",
        "\n",
        "f(x + h) # 43.99780002999999, value decreased\n",
        "\n",
        "## the value is slightly down\n",
        "\n",
        "## how much function responded?\n",
        "f(x+h) - f(x) # -0.0021999700000066014 function responded in a negative direction\n",
        "\n",
        "\n",
        "# then normalize by the run, so rize over run to get slope\n",
        "(f(x + h) - f(x))/h # -21.999700000066014\n",
        "```\n",
        "\n",
        "> 💡 and some point at graph the **slope will be `0`** like at x = 2/3"
      ],
      "metadata": {
        "id": "_1couXgx1XvM"
      }
    },
    {
      "cell_type": "code",
      "source": [
        "h = 0.0001\n",
        "x = -3.0\n",
        "# f(x)\n",
        "(f(x + h) - f(x))/h"
      ],
      "metadata": {
        "colab": {
          "base_uri": "https://localhost:8080/"
        },
        "id": "qozekY_2t_ZZ",
        "outputId": "5e3d094d-841d-4a6b-dc45-2adcecd469cb"
      },
      "execution_count": null,
      "outputs": [
        {
          "output_type": "execute_result",
          "data": {
            "text/plain": [
              "-21.999700000066014"
            ]
          },
          "metadata": {},
          "execution_count": 51
        }
      ]
    },
    {
      "cell_type": "markdown",
      "source": [
        "## Explaination of below code\n",
        "\n",
        "function of 3 scaler input a, b, and c as ouput as d\n",
        "`d = a*b+c`\n",
        "\n",
        "a = 2.0\n",
        "\n",
        "b = -3.0\n",
        "\n",
        "c = 10.0\n",
        "\n",
        "3 inputs to our expression graph and single o/p `d`\n",
        "\n",
        "printing `d` we get `4.0` as o/p\n",
        "\n",
        "⛳️ we want to take derivative of `d` with respect to `a`, `b`, and `c`. and thinking what derivative is telling"
      ],
      "metadata": {
        "id": "fSHvjhQo77gS"
      }
    },
    {
      "cell_type": "code",
      "source": [
        "# more complex example\n",
        "a = 2.0\n",
        "b = -3.0\n",
        "c = 10.0\n",
        "\n",
        "d = a*b+c # function of three scaler inputs a,b, and c with output as d\n",
        "print(d)"
      ],
      "metadata": {
        "colab": {
          "base_uri": "https://localhost:8080/"
        },
        "id": "kEpcJzoTLgdZ",
        "outputId": "d7d2675b-7b7f-4127-a16d-9586857476be"
      },
      "execution_count": null,
      "outputs": [
        {
          "output_type": "stream",
          "name": "stdout",
          "text": [
            "4.0\n"
          ]
        }
      ]
    },
    {
      "cell_type": "markdown",
      "source": [
        "1st taking derivative of `d1` wrt `a`"
      ],
      "metadata": {
        "id": "xv05Cf4NGNbR"
      }
    },
    {
      "cell_type": "code",
      "source": [
        "h = 0.0001 # taking small h\n",
        "\n",
        "# inputs\n",
        "a = 2.0\n",
        "b = -3.0\n",
        "c = 10.0\n",
        "\n",
        "d1 = a*b+c\n",
        "\n",
        "c += h\n",
        "\n",
        "d2 = a*b+c\n",
        "\n",
        "print('d1', d1)\n",
        "print('d2', d2)\n",
        "print('slope', (d2-d1)/h)"
      ],
      "metadata": {
        "colab": {
          "base_uri": "https://localhost:8080/"
        },
        "id": "1ajnWoMt8YqS",
        "outputId": "0b52be89-293d-4d49-e7af-71e586a134c7"
      },
      "execution_count": null,
      "outputs": [
        {
          "output_type": "stream",
          "name": "stdout",
          "text": [
            "d1 4.0\n",
            "d2 4.0001\n",
            "slope 0.9999999999976694\n"
          ]
        }
      ]
    },
    {
      "cell_type": "markdown",
      "source": [],
      "metadata": {
        "id": "B2nXRrk4ROeT"
      }
    },
    {
      "cell_type": "code",
      "source": [],
      "metadata": {
        "id": "666beAzxINtI"
      },
      "execution_count": null,
      "outputs": []
    },
    {
      "cell_type": "markdown",
      "source": [
        "NNs are prety massive math expressions so we need some data structures that maintain these expressions.\n",
        "\n",
        "Let's start to build out"
      ],
      "metadata": {
        "id": "RK1331KIWu0a"
      }
    },
    {
      "cell_type": "code",
      "source": [
        "class Value():\n",
        "\n",
        "  def __init__(self, data, _children=(), _op='', label=''):\n",
        "    \"\"\"\n",
        "    @params:\n",
        "    data: actual value\n",
        "    _children: default empty tuple,\n",
        "    \"\"\"\n",
        "    self.data = data\n",
        "    self.grad = 0.0 # initially it will be zero\n",
        "    self._prev = set(_children)\n",
        "    self._op = _op\n",
        "    self.label = label\n",
        "\n",
        "  def __repr__(self):\n",
        "    return f\"Value(data={self.data})\"\n",
        "\n",
        "  def __add__(self, other):\n",
        "    out = Value(self.data + other.data, (self, other), '+')\n",
        "    return out\n",
        "\n",
        "  def __mul__(self, other):\n",
        "    out = Value(self.data * other.data, (self, other), '*')\n",
        "    return out"
      ],
      "metadata": {
        "id": "q3f-dWZKIWZh"
      },
      "execution_count": null,
      "outputs": []
    },
    {
      "cell_type": "code",
      "source": [
        "a = Value(10, label='a')\n",
        "b = Value(-3.0, label='b')\n",
        "c = Value(10.0, label='c')\n",
        "# a*b+c\n",
        "\n",
        "e = a*b; e.label='e'\n",
        "d = e + c; d.label='d'\n",
        "d\n",
        "# (a.__mul__(b)).__add__(c)\n",
        "\n",
        "# making this one layer deeper\n",
        "f = Value(-2.0, label='f')\n",
        "\n",
        "L = d * f; L.label = 'L' #output of d*f\n",
        "L"
      ],
      "metadata": {
        "colab": {
          "base_uri": "https://localhost:8080/"
        },
        "id": "ol7I7-txXb3Y",
        "outputId": "c79965b8-ca13-42f3-9537-221e95a5ef6d"
      },
      "execution_count": null,
      "outputs": [
        {
          "output_type": "execute_result",
          "data": {
            "text/plain": [
              "Value(data=40.0)"
            ]
          },
          "metadata": {},
          "execution_count": 55
        }
      ]
    },
    {
      "cell_type": "markdown",
      "source": [
        "Now the missing thing is connectin of this expression. we need to keep expression graph.\n",
        "\n",
        "we need to know and keep pointers about what values produces what other values.\n",
        "\n",
        "for that we introduce new variable `children` in `Value` class\n",
        "\n",
        "by default `_children` will be `empty set`.\n",
        "\n",
        "and creating a `_prev` variable which is `set of _children`\n",
        "\n",
        "and when doing `multiplication` and `addition` operations pass `self and other` as child.\n",
        "\n",
        "```py\n",
        "a = Value(10)\n",
        "b = Value(-3.0)\n",
        "c = Value(10.0)\n",
        "d = a*b+c\n",
        "# now we can see d's childs\n",
        "d._prev\n",
        "```\n",
        "\n",
        "now we can get a child of d using `d._prev`\n",
        "\n",
        "Now we can get child but we don't know which operation did it performed. For that add onethore param `_op` by default empty."
      ],
      "metadata": {
        "id": "taMuzhhSiTyd"
      }
    },
    {
      "cell_type": "code",
      "source": [
        "# a = Value(10)\n",
        "# b = Value(-3.0)\n",
        "# c = Value(10.0)\n",
        "# d = a*b+c\n",
        "# # now we can see d's childs\n",
        "# d._prev"
      ],
      "metadata": {
        "id": "42BQ9WEMXebJ"
      },
      "execution_count": null,
      "outputs": []
    },
    {
      "cell_type": "code",
      "source": [
        "d._op # now we have d._op for operation\n",
        "# this tells d was produced by addition of those two values"
      ],
      "metadata": {
        "colab": {
          "base_uri": "https://localhost:8080/",
          "height": 35
        },
        "id": "3VPgypbtllTo",
        "outputId": "f13a9a42-dda6-4906-9493-6657f7e3f8ed"
      },
      "execution_count": null,
      "outputs": [
        {
          "output_type": "execute_result",
          "data": {
            "text/plain": [
              "'+'"
            ],
            "application/vnd.google.colaboratory.intrinsic+json": {
              "type": "string"
            }
          },
          "metadata": {},
          "execution_count": 57
        }
      ]
    },
    {
      "cell_type": "code",
      "source": [
        "from graphviz import Digraph\n",
        "\n",
        "def trace(root):\n",
        "  # build a set of  all nodes and edges in a graph\n",
        "  nodes, edges = set(), set()\n",
        "  def build(v):\n",
        "    if v not in nodes:\n",
        "      nodes.add(v)\n",
        "      for child in v._prev:\n",
        "        edges.add((child, v))\n",
        "        build(child)\n",
        "  build(root)\n",
        "  return nodes, edges\n",
        "\n",
        "\n",
        "def draw_dot(root):\n",
        "  dot = Digraph(format='svg', graph_attr={'rankdir':'LR'}) # LR = left to right\n",
        "\n",
        "  nodes, edges = trace(root)\n",
        "  for n in nodes:\n",
        "    uid = str(id(n))\n",
        "    # for any value in the graph, create a rectengular (\"record\") node for it\n",
        "    dot.node(name=uid, label=\"{ %s | data %.4f | grad %.4f}\" % (n.label,n.data, n.grad,), shape='record')\n",
        "    if n._op:\n",
        "      # if this value is result of some operation, create an op node for it\n",
        "      dot.node(name=uid+n._op, label = n._op)\n",
        "      # and connect this node to it\n",
        "      dot.edge(uid + n._op, uid)\n",
        "\n",
        "  for n1, n2 in edges:\n",
        "    # connect n1 to output node n2\n",
        "    dot.edge(str(id(n1)), str(id(n2)) + n2._op)\n",
        "\n",
        "  return dot"
      ],
      "metadata": {
        "id": "6HxAUaApm-IY"
      },
      "execution_count": null,
      "outputs": []
    },
    {
      "cell_type": "code",
      "source": [
        "draw_dot(L)"
      ],
      "metadata": {
        "colab": {
          "base_uri": "https://localhost:8080/",
          "height": 247
        },
        "id": "IYuliMfLnOua",
        "outputId": "8c6cd41f-e1ff-4e30-f0ec-45400337cb1f"
      },
      "execution_count": null,
      "outputs": [
        {
          "output_type": "execute_result",
          "data": {
            "image/svg+xml": "<?xml version=\"1.0\" encoding=\"UTF-8\" standalone=\"no\"?>\n<!DOCTYPE svg PUBLIC \"-//W3C//DTD SVG 1.1//EN\"\n \"http://www.w3.org/Graphics/SVG/1.1/DTD/svg11.dtd\">\n<!-- Generated by graphviz version 2.43.0 (0)\n -->\n<!-- Title: %3 Pages: 1 -->\n<svg width=\"1166pt\" height=\"154pt\"\n viewBox=\"0.00 0.00 1166.00 154.00\" xmlns=\"http://www.w3.org/2000/svg\" xmlns:xlink=\"http://www.w3.org/1999/xlink\">\n<g id=\"graph0\" class=\"graph\" transform=\"scale(1 1) rotate(0) translate(4 150)\">\n<title>%3</title>\n<polygon fill=\"white\" stroke=\"transparent\" points=\"-4,4 -4,-150 1162,-150 1162,4 -4,4\"/>\n<!-- 135125455828496 -->\n<g id=\"node1\" class=\"node\">\n<title>135125455828496</title>\n<polygon fill=\"none\" stroke=\"black\" points=\"318,-27.5 318,-63.5 515,-63.5 515,-27.5 318,-27.5\"/>\n<text text-anchor=\"middle\" x=\"329.5\" y=\"-41.8\" font-family=\"Times,serif\" font-size=\"14.00\">e</text>\n<polyline fill=\"none\" stroke=\"black\" points=\"341,-27.5 341,-63.5 \"/>\n<text text-anchor=\"middle\" x=\"387\" y=\"-41.8\" font-family=\"Times,serif\" font-size=\"14.00\">data &#45;30.0000</text>\n<polyline fill=\"none\" stroke=\"black\" points=\"433,-27.5 433,-63.5 \"/>\n<text text-anchor=\"middle\" x=\"474\" y=\"-41.8\" font-family=\"Times,serif\" font-size=\"14.00\">grad 0.0000</text>\n</g>\n<!-- 135125455826288+ -->\n<g id=\"node8\" class=\"node\">\n<title>135125455826288+</title>\n<ellipse fill=\"none\" stroke=\"black\" cx=\"578\" cy=\"-72.5\" rx=\"27\" ry=\"18\"/>\n<text text-anchor=\"middle\" x=\"578\" y=\"-68.8\" font-family=\"Times,serif\" font-size=\"14.00\">+</text>\n</g>\n<!-- 135125455828496&#45;&gt;135125455826288+ -->\n<g id=\"edge6\" class=\"edge\">\n<title>135125455828496&#45;&gt;135125455826288+</title>\n<path fill=\"none\" stroke=\"black\" d=\"M515.33,-62.06C524.57,-63.62 533.46,-65.13 541.49,-66.49\"/>\n<polygon fill=\"black\" stroke=\"black\" points=\"541.04,-69.96 551.48,-68.18 542.21,-63.06 541.04,-69.96\"/>\n</g>\n<!-- 135125455828496* -->\n<g id=\"node2\" class=\"node\">\n<title>135125455828496*</title>\n<ellipse fill=\"none\" stroke=\"black\" cx=\"255\" cy=\"-45.5\" rx=\"27\" ry=\"18\"/>\n<text text-anchor=\"middle\" x=\"255\" y=\"-41.8\" font-family=\"Times,serif\" font-size=\"14.00\">*</text>\n</g>\n<!-- 135125455828496*&#45;&gt;135125455828496 -->\n<g id=\"edge1\" class=\"edge\">\n<title>135125455828496*&#45;&gt;135125455828496</title>\n<path fill=\"none\" stroke=\"black\" d=\"M282.34,-45.5C289.81,-45.5 298.44,-45.5 307.64,-45.5\"/>\n<polygon fill=\"black\" stroke=\"black\" points=\"307.83,-49 317.83,-45.5 307.83,-42 307.83,-49\"/>\n</g>\n<!-- 135125455826000 -->\n<g id=\"node3\" class=\"node\">\n<title>135125455826000</title>\n<polygon fill=\"none\" stroke=\"black\" points=\"0,-55.5 0,-91.5 192,-91.5 192,-55.5 0,-55.5\"/>\n<text text-anchor=\"middle\" x=\"11.5\" y=\"-69.8\" font-family=\"Times,serif\" font-size=\"14.00\">a</text>\n<polyline fill=\"none\" stroke=\"black\" points=\"23,-55.5 23,-91.5 \"/>\n<text text-anchor=\"middle\" x=\"66.5\" y=\"-69.8\" font-family=\"Times,serif\" font-size=\"14.00\">data 10.0000</text>\n<polyline fill=\"none\" stroke=\"black\" points=\"110,-55.5 110,-91.5 \"/>\n<text text-anchor=\"middle\" x=\"151\" y=\"-69.8\" font-family=\"Times,serif\" font-size=\"14.00\">grad 0.0000</text>\n</g>\n<!-- 135125455826000&#45;&gt;135125455828496* -->\n<g id=\"edge8\" class=\"edge\">\n<title>135125455826000&#45;&gt;135125455828496*</title>\n<path fill=\"none\" stroke=\"black\" d=\"M192.4,-56.49C201.69,-54.83 210.64,-53.23 218.71,-51.79\"/>\n<polygon fill=\"black\" stroke=\"black\" points=\"219.53,-55.2 228.76,-50 218.31,-48.31 219.53,-55.2\"/>\n</g>\n<!-- 135125455816832 -->\n<g id=\"node4\" class=\"node\">\n<title>135125455816832</title>\n<polygon fill=\"none\" stroke=\"black\" points=\"964,-81.5 964,-117.5 1158,-117.5 1158,-81.5 964,-81.5\"/>\n<text text-anchor=\"middle\" x=\"976.5\" y=\"-95.8\" font-family=\"Times,serif\" font-size=\"14.00\">L</text>\n<polyline fill=\"none\" stroke=\"black\" points=\"989,-81.5 989,-117.5 \"/>\n<text text-anchor=\"middle\" x=\"1032.5\" y=\"-95.8\" font-family=\"Times,serif\" font-size=\"14.00\">data 40.0000</text>\n<polyline fill=\"none\" stroke=\"black\" points=\"1076,-81.5 1076,-117.5 \"/>\n<text text-anchor=\"middle\" x=\"1117\" y=\"-95.8\" font-family=\"Times,serif\" font-size=\"14.00\">grad 0.0000</text>\n</g>\n<!-- 135125455816832* -->\n<g id=\"node5\" class=\"node\">\n<title>135125455816832*</title>\n<ellipse fill=\"none\" stroke=\"black\" cx=\"901\" cy=\"-99.5\" rx=\"27\" ry=\"18\"/>\n<text text-anchor=\"middle\" x=\"901\" y=\"-95.8\" font-family=\"Times,serif\" font-size=\"14.00\">*</text>\n</g>\n<!-- 135125455816832*&#45;&gt;135125455816832 -->\n<g id=\"edge2\" class=\"edge\">\n<title>135125455816832*&#45;&gt;135125455816832</title>\n<path fill=\"none\" stroke=\"black\" d=\"M928.09,-99.5C935.62,-99.5 944.34,-99.5 953.63,-99.5\"/>\n<polygon fill=\"black\" stroke=\"black\" points=\"953.92,-103 963.92,-99.5 953.92,-96 953.92,-103\"/>\n</g>\n<!-- 135125455829792 -->\n<g id=\"node6\" class=\"node\">\n<title>135125455829792</title>\n<polygon fill=\"none\" stroke=\"black\" points=\"320.5,-82.5 320.5,-118.5 512.5,-118.5 512.5,-82.5 320.5,-82.5\"/>\n<text text-anchor=\"middle\" x=\"332\" y=\"-96.8\" font-family=\"Times,serif\" font-size=\"14.00\">c</text>\n<polyline fill=\"none\" stroke=\"black\" points=\"343.5,-82.5 343.5,-118.5 \"/>\n<text text-anchor=\"middle\" x=\"387\" y=\"-96.8\" font-family=\"Times,serif\" font-size=\"14.00\">data 10.0000</text>\n<polyline fill=\"none\" stroke=\"black\" points=\"430.5,-82.5 430.5,-118.5 \"/>\n<text text-anchor=\"middle\" x=\"471.5\" y=\"-96.8\" font-family=\"Times,serif\" font-size=\"14.00\">grad 0.0000</text>\n</g>\n<!-- 135125455829792&#45;&gt;135125455826288+ -->\n<g id=\"edge5\" class=\"edge\">\n<title>135125455829792&#45;&gt;135125455826288+</title>\n<path fill=\"none\" stroke=\"black\" d=\"M512.58,-83.81C522.94,-81.99 532.94,-80.23 541.85,-78.67\"/>\n<polygon fill=\"black\" stroke=\"black\" points=\"542.51,-82.11 551.75,-76.93 541.3,-75.21 542.51,-82.11\"/>\n</g>\n<!-- 135125455826288 -->\n<g id=\"node7\" class=\"node\">\n<title>135125455826288</title>\n<polygon fill=\"none\" stroke=\"black\" points=\"641,-54.5 641,-90.5 838,-90.5 838,-54.5 641,-54.5\"/>\n<text text-anchor=\"middle\" x=\"652.5\" y=\"-68.8\" font-family=\"Times,serif\" font-size=\"14.00\">d</text>\n<polyline fill=\"none\" stroke=\"black\" points=\"664,-54.5 664,-90.5 \"/>\n<text text-anchor=\"middle\" x=\"710\" y=\"-68.8\" font-family=\"Times,serif\" font-size=\"14.00\">data &#45;20.0000</text>\n<polyline fill=\"none\" stroke=\"black\" points=\"756,-54.5 756,-90.5 \"/>\n<text text-anchor=\"middle\" x=\"797\" y=\"-68.8\" font-family=\"Times,serif\" font-size=\"14.00\">grad 0.0000</text>\n</g>\n<!-- 135125455826288&#45;&gt;135125455816832* -->\n<g id=\"edge9\" class=\"edge\">\n<title>135125455826288&#45;&gt;135125455816832*</title>\n<path fill=\"none\" stroke=\"black\" d=\"M838.33,-89.06C847.57,-90.62 856.46,-92.13 864.49,-93.49\"/>\n<polygon fill=\"black\" stroke=\"black\" points=\"864.04,-96.96 874.48,-95.18 865.21,-90.06 864.04,-96.96\"/>\n</g>\n<!-- 135125455826288+&#45;&gt;135125455826288 -->\n<g id=\"edge3\" class=\"edge\">\n<title>135125455826288+&#45;&gt;135125455826288</title>\n<path fill=\"none\" stroke=\"black\" d=\"M605.34,-72.5C612.81,-72.5 621.44,-72.5 630.64,-72.5\"/>\n<polygon fill=\"black\" stroke=\"black\" points=\"630.83,-76 640.83,-72.5 630.83,-69 630.83,-76\"/>\n</g>\n<!-- 135125455828400 -->\n<g id=\"node9\" class=\"node\">\n<title>135125455828400</title>\n<polygon fill=\"none\" stroke=\"black\" points=\"645.5,-109.5 645.5,-145.5 833.5,-145.5 833.5,-109.5 645.5,-109.5\"/>\n<text text-anchor=\"middle\" x=\"656\" y=\"-123.8\" font-family=\"Times,serif\" font-size=\"14.00\">f</text>\n<polyline fill=\"none\" stroke=\"black\" points=\"666.5,-109.5 666.5,-145.5 \"/>\n<text text-anchor=\"middle\" x=\"709\" y=\"-123.8\" font-family=\"Times,serif\" font-size=\"14.00\">data &#45;2.0000</text>\n<polyline fill=\"none\" stroke=\"black\" points=\"751.5,-109.5 751.5,-145.5 \"/>\n<text text-anchor=\"middle\" x=\"792.5\" y=\"-123.8\" font-family=\"Times,serif\" font-size=\"14.00\">grad 0.0000</text>\n</g>\n<!-- 135125455828400&#45;&gt;135125455816832* -->\n<g id=\"edge4\" class=\"edge\">\n<title>135125455828400&#45;&gt;135125455816832*</title>\n<path fill=\"none\" stroke=\"black\" d=\"M833.74,-111.13C844.64,-109.22 855.19,-107.37 864.55,-105.72\"/>\n<polygon fill=\"black\" stroke=\"black\" points=\"865.32,-109.14 874.56,-103.97 864.11,-102.25 865.32,-109.14\"/>\n</g>\n<!-- 135125455827920 -->\n<g id=\"node10\" class=\"node\">\n<title>135125455827920</title>\n<polygon fill=\"none\" stroke=\"black\" points=\"1,-0.5 1,-36.5 191,-36.5 191,-0.5 1,-0.5\"/>\n<text text-anchor=\"middle\" x=\"12.5\" y=\"-14.8\" font-family=\"Times,serif\" font-size=\"14.00\">b</text>\n<polyline fill=\"none\" stroke=\"black\" points=\"24,-0.5 24,-36.5 \"/>\n<text text-anchor=\"middle\" x=\"66.5\" y=\"-14.8\" font-family=\"Times,serif\" font-size=\"14.00\">data &#45;3.0000</text>\n<polyline fill=\"none\" stroke=\"black\" points=\"109,-0.5 109,-36.5 \"/>\n<text text-anchor=\"middle\" x=\"150\" y=\"-14.8\" font-family=\"Times,serif\" font-size=\"14.00\">grad 0.0000</text>\n</g>\n<!-- 135125455827920&#45;&gt;135125455828496* -->\n<g id=\"edge7\" class=\"edge\">\n<title>135125455827920&#45;&gt;135125455828496*</title>\n<path fill=\"none\" stroke=\"black\" d=\"M191.05,-34.67C200.78,-36.35 210.18,-37.96 218.62,-39.42\"/>\n<polygon fill=\"black\" stroke=\"black\" points=\"218.3,-42.91 228.75,-41.16 219.49,-36.01 218.3,-42.91\"/>\n</g>\n</g>\n</svg>\n",
            "text/plain": [
              "<graphviz.graphs.Digraph at 0x7ae558cb72b0>"
            ]
          },
          "metadata": {},
          "execution_count": 59
        }
      ]
    },
    {
      "cell_type": "markdown",
      "source": [
        "## 📍 Important notes, Read again and rewrite clearly\n",
        "\n",
        "Above image or process shows forward pass\n",
        "\n",
        "givving multiple inputs and getting single output L\n",
        "\n",
        "and output of the forward pass is L = 40.0\n",
        "\n",
        "Now, next we would like to run backpropagation\n",
        "\n",
        "In back P, we start from the end L and reverse and calculate the gradient along all these intermediate values.\n",
        "\n",
        "and we have to derive a derivative of L with respect to all the parameters\n",
        "\n",
        "calculating derivative of L wrt f, d , c, e, b, and a\n",
        "\n",
        "> ✅ We would be very intrested in the derivative of loss function L with respect to weights of a neural networs\n",
        "\n",
        "Some of these labes represents the weights of the NN\n",
        "\n",
        "So, we will need to know how those weights are impacting the loss function\n",
        "\n",
        "so we are interesting in. dereivative of output wrt some of its leaf nodes, and those leaf nodes will be the weights of the neural nets.\n",
        "\n",
        "other leaf nodes are the data itself, But we will not use the derivative of loss function wrt data beacause the data is fixed, but the weights will be iterating on using gradient information"
      ],
      "metadata": {
        "id": "pT0qC-U1IaGI"
      }
    },
    {
      "cell_type": "markdown",
      "source": [
        "# 📍Important -> creating a variable inside a Value class\n",
        "\n",
        "that maintains the derivative of L WRT that value, call this variable `grad`"
      ],
      "metadata": {
        "id": "uSvjXNQnPx6S"
      }
    },
    {
      "cell_type": "markdown",
      "source": [
        "# Manual Back propagation\n",
        "\n",
        "- `grad` variable representing gradient of L WRT each label\n",
        "\n",
        "so for `L` how much does `L` change? it changes by `h`. so derivative or `L` WRT `L` would be `1`.\n",
        "\n",
        "We can measure this with numerics as well."
      ],
      "metadata": {
        "id": "s3R8IuytghlU"
      }
    },
    {
      "cell_type": "markdown",
      "source": [
        "L.grad = 1.0"
      ],
      "metadata": {
        "id": "p77WxxmKPdYV"
      }
    },
    {
      "cell_type": "code",
      "source": [
        "# to draw ndoes\n",
        "draw_dot(L)"
      ],
      "metadata": {
        "colab": {
          "base_uri": "https://localhost:8080/",
          "height": 247
        },
        "id": "OlUpQqgvPorM",
        "outputId": "6277498c-50a5-42d8-ea56-bc6d202d7e84"
      },
      "execution_count": null,
      "outputs": [
        {
          "output_type": "execute_result",
          "data": {
            "image/svg+xml": "<?xml version=\"1.0\" encoding=\"UTF-8\" standalone=\"no\"?>\n<!DOCTYPE svg PUBLIC \"-//W3C//DTD SVG 1.1//EN\"\n \"http://www.w3.org/Graphics/SVG/1.1/DTD/svg11.dtd\">\n<!-- Generated by graphviz version 2.43.0 (0)\n -->\n<!-- Title: %3 Pages: 1 -->\n<svg width=\"1166pt\" height=\"154pt\"\n viewBox=\"0.00 0.00 1166.00 154.00\" xmlns=\"http://www.w3.org/2000/svg\" xmlns:xlink=\"http://www.w3.org/1999/xlink\">\n<g id=\"graph0\" class=\"graph\" transform=\"scale(1 1) rotate(0) translate(4 150)\">\n<title>%3</title>\n<polygon fill=\"white\" stroke=\"transparent\" points=\"-4,4 -4,-150 1162,-150 1162,4 -4,4\"/>\n<!-- 135125455828496 -->\n<g id=\"node1\" class=\"node\">\n<title>135125455828496</title>\n<polygon fill=\"none\" stroke=\"black\" points=\"318,-27.5 318,-63.5 515,-63.5 515,-27.5 318,-27.5\"/>\n<text text-anchor=\"middle\" x=\"329.5\" y=\"-41.8\" font-family=\"Times,serif\" font-size=\"14.00\">e</text>\n<polyline fill=\"none\" stroke=\"black\" points=\"341,-27.5 341,-63.5 \"/>\n<text text-anchor=\"middle\" x=\"387\" y=\"-41.8\" font-family=\"Times,serif\" font-size=\"14.00\">data &#45;30.0000</text>\n<polyline fill=\"none\" stroke=\"black\" points=\"433,-27.5 433,-63.5 \"/>\n<text text-anchor=\"middle\" x=\"474\" y=\"-41.8\" font-family=\"Times,serif\" font-size=\"14.00\">grad 0.0000</text>\n</g>\n<!-- 135125455826288+ -->\n<g id=\"node8\" class=\"node\">\n<title>135125455826288+</title>\n<ellipse fill=\"none\" stroke=\"black\" cx=\"578\" cy=\"-72.5\" rx=\"27\" ry=\"18\"/>\n<text text-anchor=\"middle\" x=\"578\" y=\"-68.8\" font-family=\"Times,serif\" font-size=\"14.00\">+</text>\n</g>\n<!-- 135125455828496&#45;&gt;135125455826288+ -->\n<g id=\"edge6\" class=\"edge\">\n<title>135125455828496&#45;&gt;135125455826288+</title>\n<path fill=\"none\" stroke=\"black\" d=\"M515.33,-62.06C524.57,-63.62 533.46,-65.13 541.49,-66.49\"/>\n<polygon fill=\"black\" stroke=\"black\" points=\"541.04,-69.96 551.48,-68.18 542.21,-63.06 541.04,-69.96\"/>\n</g>\n<!-- 135125455828496* -->\n<g id=\"node2\" class=\"node\">\n<title>135125455828496*</title>\n<ellipse fill=\"none\" stroke=\"black\" cx=\"255\" cy=\"-45.5\" rx=\"27\" ry=\"18\"/>\n<text text-anchor=\"middle\" x=\"255\" y=\"-41.8\" font-family=\"Times,serif\" font-size=\"14.00\">*</text>\n</g>\n<!-- 135125455828496*&#45;&gt;135125455828496 -->\n<g id=\"edge1\" class=\"edge\">\n<title>135125455828496*&#45;&gt;135125455828496</title>\n<path fill=\"none\" stroke=\"black\" d=\"M282.34,-45.5C289.81,-45.5 298.44,-45.5 307.64,-45.5\"/>\n<polygon fill=\"black\" stroke=\"black\" points=\"307.83,-49 317.83,-45.5 307.83,-42 307.83,-49\"/>\n</g>\n<!-- 135125455826000 -->\n<g id=\"node3\" class=\"node\">\n<title>135125455826000</title>\n<polygon fill=\"none\" stroke=\"black\" points=\"0,-55.5 0,-91.5 192,-91.5 192,-55.5 0,-55.5\"/>\n<text text-anchor=\"middle\" x=\"11.5\" y=\"-69.8\" font-family=\"Times,serif\" font-size=\"14.00\">a</text>\n<polyline fill=\"none\" stroke=\"black\" points=\"23,-55.5 23,-91.5 \"/>\n<text text-anchor=\"middle\" x=\"66.5\" y=\"-69.8\" font-family=\"Times,serif\" font-size=\"14.00\">data 10.0000</text>\n<polyline fill=\"none\" stroke=\"black\" points=\"110,-55.5 110,-91.5 \"/>\n<text text-anchor=\"middle\" x=\"151\" y=\"-69.8\" font-family=\"Times,serif\" font-size=\"14.00\">grad 0.0000</text>\n</g>\n<!-- 135125455826000&#45;&gt;135125455828496* -->\n<g id=\"edge8\" class=\"edge\">\n<title>135125455826000&#45;&gt;135125455828496*</title>\n<path fill=\"none\" stroke=\"black\" d=\"M192.4,-56.49C201.69,-54.83 210.64,-53.23 218.71,-51.79\"/>\n<polygon fill=\"black\" stroke=\"black\" points=\"219.53,-55.2 228.76,-50 218.31,-48.31 219.53,-55.2\"/>\n</g>\n<!-- 135125455816832 -->\n<g id=\"node4\" class=\"node\">\n<title>135125455816832</title>\n<polygon fill=\"none\" stroke=\"black\" points=\"964,-81.5 964,-117.5 1158,-117.5 1158,-81.5 964,-81.5\"/>\n<text text-anchor=\"middle\" x=\"976.5\" y=\"-95.8\" font-family=\"Times,serif\" font-size=\"14.00\">L</text>\n<polyline fill=\"none\" stroke=\"black\" points=\"989,-81.5 989,-117.5 \"/>\n<text text-anchor=\"middle\" x=\"1032.5\" y=\"-95.8\" font-family=\"Times,serif\" font-size=\"14.00\">data 40.0000</text>\n<polyline fill=\"none\" stroke=\"black\" points=\"1076,-81.5 1076,-117.5 \"/>\n<text text-anchor=\"middle\" x=\"1117\" y=\"-95.8\" font-family=\"Times,serif\" font-size=\"14.00\">grad 0.0000</text>\n</g>\n<!-- 135125455816832* -->\n<g id=\"node5\" class=\"node\">\n<title>135125455816832*</title>\n<ellipse fill=\"none\" stroke=\"black\" cx=\"901\" cy=\"-99.5\" rx=\"27\" ry=\"18\"/>\n<text text-anchor=\"middle\" x=\"901\" y=\"-95.8\" font-family=\"Times,serif\" font-size=\"14.00\">*</text>\n</g>\n<!-- 135125455816832*&#45;&gt;135125455816832 -->\n<g id=\"edge2\" class=\"edge\">\n<title>135125455816832*&#45;&gt;135125455816832</title>\n<path fill=\"none\" stroke=\"black\" d=\"M928.09,-99.5C935.62,-99.5 944.34,-99.5 953.63,-99.5\"/>\n<polygon fill=\"black\" stroke=\"black\" points=\"953.92,-103 963.92,-99.5 953.92,-96 953.92,-103\"/>\n</g>\n<!-- 135125455829792 -->\n<g id=\"node6\" class=\"node\">\n<title>135125455829792</title>\n<polygon fill=\"none\" stroke=\"black\" points=\"320.5,-82.5 320.5,-118.5 512.5,-118.5 512.5,-82.5 320.5,-82.5\"/>\n<text text-anchor=\"middle\" x=\"332\" y=\"-96.8\" font-family=\"Times,serif\" font-size=\"14.00\">c</text>\n<polyline fill=\"none\" stroke=\"black\" points=\"343.5,-82.5 343.5,-118.5 \"/>\n<text text-anchor=\"middle\" x=\"387\" y=\"-96.8\" font-family=\"Times,serif\" font-size=\"14.00\">data 10.0000</text>\n<polyline fill=\"none\" stroke=\"black\" points=\"430.5,-82.5 430.5,-118.5 \"/>\n<text text-anchor=\"middle\" x=\"471.5\" y=\"-96.8\" font-family=\"Times,serif\" font-size=\"14.00\">grad 0.0000</text>\n</g>\n<!-- 135125455829792&#45;&gt;135125455826288+ -->\n<g id=\"edge5\" class=\"edge\">\n<title>135125455829792&#45;&gt;135125455826288+</title>\n<path fill=\"none\" stroke=\"black\" d=\"M512.58,-83.81C522.94,-81.99 532.94,-80.23 541.85,-78.67\"/>\n<polygon fill=\"black\" stroke=\"black\" points=\"542.51,-82.11 551.75,-76.93 541.3,-75.21 542.51,-82.11\"/>\n</g>\n<!-- 135125455826288 -->\n<g id=\"node7\" class=\"node\">\n<title>135125455826288</title>\n<polygon fill=\"none\" stroke=\"black\" points=\"641,-54.5 641,-90.5 838,-90.5 838,-54.5 641,-54.5\"/>\n<text text-anchor=\"middle\" x=\"652.5\" y=\"-68.8\" font-family=\"Times,serif\" font-size=\"14.00\">d</text>\n<polyline fill=\"none\" stroke=\"black\" points=\"664,-54.5 664,-90.5 \"/>\n<text text-anchor=\"middle\" x=\"710\" y=\"-68.8\" font-family=\"Times,serif\" font-size=\"14.00\">data &#45;20.0000</text>\n<polyline fill=\"none\" stroke=\"black\" points=\"756,-54.5 756,-90.5 \"/>\n<text text-anchor=\"middle\" x=\"797\" y=\"-68.8\" font-family=\"Times,serif\" font-size=\"14.00\">grad 0.0000</text>\n</g>\n<!-- 135125455826288&#45;&gt;135125455816832* -->\n<g id=\"edge9\" class=\"edge\">\n<title>135125455826288&#45;&gt;135125455816832*</title>\n<path fill=\"none\" stroke=\"black\" d=\"M838.33,-89.06C847.57,-90.62 856.46,-92.13 864.49,-93.49\"/>\n<polygon fill=\"black\" stroke=\"black\" points=\"864.04,-96.96 874.48,-95.18 865.21,-90.06 864.04,-96.96\"/>\n</g>\n<!-- 135125455826288+&#45;&gt;135125455826288 -->\n<g id=\"edge3\" class=\"edge\">\n<title>135125455826288+&#45;&gt;135125455826288</title>\n<path fill=\"none\" stroke=\"black\" d=\"M605.34,-72.5C612.81,-72.5 621.44,-72.5 630.64,-72.5\"/>\n<polygon fill=\"black\" stroke=\"black\" points=\"630.83,-76 640.83,-72.5 630.83,-69 630.83,-76\"/>\n</g>\n<!-- 135125455828400 -->\n<g id=\"node9\" class=\"node\">\n<title>135125455828400</title>\n<polygon fill=\"none\" stroke=\"black\" points=\"645.5,-109.5 645.5,-145.5 833.5,-145.5 833.5,-109.5 645.5,-109.5\"/>\n<text text-anchor=\"middle\" x=\"656\" y=\"-123.8\" font-family=\"Times,serif\" font-size=\"14.00\">f</text>\n<polyline fill=\"none\" stroke=\"black\" points=\"666.5,-109.5 666.5,-145.5 \"/>\n<text text-anchor=\"middle\" x=\"709\" y=\"-123.8\" font-family=\"Times,serif\" font-size=\"14.00\">data &#45;2.0000</text>\n<polyline fill=\"none\" stroke=\"black\" points=\"751.5,-109.5 751.5,-145.5 \"/>\n<text text-anchor=\"middle\" x=\"792.5\" y=\"-123.8\" font-family=\"Times,serif\" font-size=\"14.00\">grad 0.0000</text>\n</g>\n<!-- 135125455828400&#45;&gt;135125455816832* -->\n<g id=\"edge4\" class=\"edge\">\n<title>135125455828400&#45;&gt;135125455816832*</title>\n<path fill=\"none\" stroke=\"black\" d=\"M833.74,-111.13C844.64,-109.22 855.19,-107.37 864.55,-105.72\"/>\n<polygon fill=\"black\" stroke=\"black\" points=\"865.32,-109.14 874.56,-103.97 864.11,-102.25 865.32,-109.14\"/>\n</g>\n<!-- 135125455827920 -->\n<g id=\"node10\" class=\"node\">\n<title>135125455827920</title>\n<polygon fill=\"none\" stroke=\"black\" points=\"1,-0.5 1,-36.5 191,-36.5 191,-0.5 1,-0.5\"/>\n<text text-anchor=\"middle\" x=\"12.5\" y=\"-14.8\" font-family=\"Times,serif\" font-size=\"14.00\">b</text>\n<polyline fill=\"none\" stroke=\"black\" points=\"24,-0.5 24,-36.5 \"/>\n<text text-anchor=\"middle\" x=\"66.5\" y=\"-14.8\" font-family=\"Times,serif\" font-size=\"14.00\">data &#45;3.0000</text>\n<polyline fill=\"none\" stroke=\"black\" points=\"109,-0.5 109,-36.5 \"/>\n<text text-anchor=\"middle\" x=\"150\" y=\"-14.8\" font-family=\"Times,serif\" font-size=\"14.00\">grad 0.0000</text>\n</g>\n<!-- 135125455827920&#45;&gt;135125455828496* -->\n<g id=\"edge7\" class=\"edge\">\n<title>135125455827920&#45;&gt;135125455828496*</title>\n<path fill=\"none\" stroke=\"black\" d=\"M191.05,-34.67C200.78,-36.35 210.18,-37.96 218.62,-39.42\"/>\n<polygon fill=\"black\" stroke=\"black\" points=\"218.3,-42.91 228.75,-41.16 219.49,-36.01 218.3,-42.91\"/>\n</g>\n</g>\n</svg>\n",
            "text/plain": [
              "<graphviz.graphs.Digraph at 0x7ae558cb7250>"
            ]
          },
          "metadata": {},
          "execution_count": 60
        }
      ]
    },
    {
      "cell_type": "code",
      "source": [
        "# L = d * f\n",
        "\n",
        "# dL/dd = ? f\n",
        "\n",
        "# (f(x + h)-f(x))/h\n",
        "\n",
        "# ((d+h)*f - d*f) / h\n",
        "# (d*f + f*h - d*f) / h\n",
        "# (f*h) / h\n",
        "# f"
      ],
      "metadata": {
        "id": "eM9P3TbeP3JO"
      },
      "execution_count": null,
      "outputs": []
    },
    {
      "cell_type": "markdown",
      "source": [
        "## (*) node\n",
        "\n",
        "dL/dd = f and dL/df = d\n",
        "\n",
        "double chack by bumping up that variable by h in below method"
      ],
      "metadata": {
        "id": "zsIAwF1AKouu"
      }
    },
    {
      "cell_type": "markdown",
      "source": [
        "so dL/dd = value of `f`\n",
        "and dL/df = value of `d`\n",
        "\n",
        "\n",
        "1. dL/dd\n",
        "2. dL/df\n",
        "3. dL/de\n",
        "4. dL/dc\n",
        "5. dL/da\n",
        "6. dL/db"
      ],
      "metadata": {
        "id": "unC44uOaRE-M"
      }
    },
    {
      "cell_type": "code",
      "source": [
        "L.grad = 1.0"
      ],
      "metadata": {
        "id": "ZJk61aeJPitO"
      },
      "execution_count": null,
      "outputs": []
    },
    {
      "cell_type": "code",
      "source": [
        "d.grad = -2.0\n",
        "f.grad = -20.0"
      ],
      "metadata": {
        "id": "V8v-5AnoRQXC"
      },
      "execution_count": null,
      "outputs": []
    },
    {
      "cell_type": "markdown",
      "source": [
        "Doing kind of inline gradient check.\n",
        "\n",
        "## Gradient check\n",
        "when we deriveing backpropagation and getting derivative WRT all the intermediate results. and numerical gradient is just estimating using small step size `h`\n",
        "\n",
        "## 📍 Now understand **CRUX** of the backpropagation, The most important node to understand (+) node\n",
        "\n",
        "> 💡  If you understand gradient for this node then you understand all backpropagation and all training of neural nets.\n",
        "\n",
        "**Need to derive dL/dc (derivative of L wrt c)**\n",
        "\n",
        "we have already computed gradient for other d and f params. and continuing the backpropagation manually\n",
        "\n",
        "so we want dL/dc and also dL/de\n",
        "\n",
        "**✍️NOTE: For intuision look at the diagra**\n",
        "\n",
        "**problem:** How do we derive dL/dc?\n",
        "- we know dL/dd, we know how `L` is sensitive to `d`\n",
        "- but how is `L` sensitive to `c` ?\n",
        "- so, we know dL/dd, and we also know how `c` impacts `d`.\n",
        "- intuatively if you know the impact that `c` is having on `d` and impact that `d` is having on `L`.\n",
        "- Then we should be shomehow able to putting them together to figure out how `c` impacts `L`.\n",
        "\n",
        "so let's look at **what is dd/dc?**\n",
        "\n",
        "dd/dc = ?\n",
        "\n",
        "we know function(equation of) of d\n",
        "\n",
        "d = c + e\n",
        "\n",
        "if you know calculas and remember, diferentiating `c + e` WRT `c`, that gives `1.0`.\n",
        "\n",
        "and we can go to basics and derive it by bumping it up by value h\n",
        "\n",
        "(f(x+h)-f(x))/h\n",
        "\n",
        "((c+h+e)-(c+e))/h    here c+e c+e got cancel out and left with h. and h/h = 1\n",
        "\n",
        "(c + h + e - c - e))/h\n",
        "\n",
        "h/h = 1\n",
        "\n",
        "so,\n",
        "\n",
        "dd/dc = 1.0 and by this\n",
        "\n",
        "dd/de = 1.0\n",
        "\n",
        "- so derivative of (+)sum expression is very simple.\n",
        "- and this is the local derivative.\n",
        "- calling it local derivative because we have the final o/p value at all the way at the end of the graph.\n",
        "- and now we are like a small node(+) here. and (+) node doesn't know anything about the rest of the graph that's embedded in.\n",
        "- all it knows is that it did plus(+). it took `c` and `e` and added them and created `d`. and (+) node also knows the local influence of c on d or rathare dd/dc and also knows dd/de.\n",
        "- But that's not just that we want. That's just a local derivative.\n",
        "- What we actualy want is dL/dc.\n",
        "- L is just one step away here. but in general case this plus node could be embedded in like a massive graph.\n",
        "\n",
        "\n",
        "- so we know how d impacts l, and how c and e impacts d how do we put that information together to write dL/dc and the **ans is THE CHAIN RULE.** in calculas\n",
        "\n",
        "# The Chain Rule\n",
        "\n",
        "Refere: [link](https://youtu.be/H-ybCx8gt-8?si=boPU0WpoXRmFdtl7)\n",
        "\n",
        "$$ \\frac{dz}{dx} = \\frac{dz}{dy} . \\frac{dy}{dx}, $$\n",
        "\n",
        "Fundamentally it's telling you how we chain these derivatives together correctly.\n",
        "\n",
        "to differentiate through a function composition we have to apply multiplication of those derivatives\n",
        "\n",
        "> Intuitively, the chain rule states that knowing the instantaneous rate of change of z relative to y and that of y relative to x allows one to calculate the instantaneous rate of change of z relative to x as the product of the two rates of change. [Wikipedia].\n",
        "\n",
        "\n",
        "so to do this we multiply derivatives\n",
        "\n",
        "WANT:\n",
        "\n",
        "dL/dc = ( dL/dd) * (dd/dc). # chain rule\n",
        "\n",
        "KNOW:\n",
        "\n",
        "dL/dd\n",
        "\n",
        "dd/dc\n",
        "\n",
        "- because local derivative dd/dc is 1 we just copy over the dL/dc * 1\n",
        "\n",
        "- because dL/dd is -2.000 what is dL/dc? its local gradient(1.0) times dL/dd.\n",
        "  which is -2.0\n",
        "\n",
        "So what a + node does is litrely just routes the gradient beacause the pluse node's local derivative is just 1 . so in chain rule 1 times dL/dd is just dL/dd.\n",
        "\n",
        "so derivative just gets routed to both c and e"
      ],
      "metadata": {
        "id": "qym61xqDLKY6"
      }
    },
    {
      "cell_type": "code",
      "source": [
        "e.grad = -2.0\n",
        "c.grad = -2.0"
      ],
      "metadata": {
        "id": "a0ZXEs0gifzs"
      },
      "execution_count": null,
      "outputs": []
    },
    {
      "cell_type": "markdown",
      "source": [
        "Now finally we left with last two parameters a and b which is multiplication node.\n",
        "\n",
        "and we have already discussed about so apply chain rule and get output.\n",
        "\n",
        "e = a * b\n",
        "\n",
        "loca derivative de/da = b and de/db = a\n",
        "\n",
        "so\n",
        "\n",
        "dL/da = dL/de (we already know)* de/da\n",
        "\n",
        "dL/da = -2.0 * -3.0  = 6\n",
        "\n",
        "and\n",
        "\n",
        "dL/db = -2.0 * 10.0 = -20.0\n"
      ],
      "metadata": {
        "id": "OHUS-7DKlrBy"
      }
    },
    {
      "cell_type": "code",
      "source": [
        "a.grad = 6.0\n",
        "b.grad = -20.0"
      ],
      "metadata": {
        "id": "sQfeFtL8niSn"
      },
      "execution_count": null,
      "outputs": []
    },
    {
      "cell_type": "code",
      "source": [
        "draw_dot(L)"
      ],
      "metadata": {
        "colab": {
          "base_uri": "https://localhost:8080/",
          "height": 247
        },
        "id": "mZLNeCofI_Fo",
        "outputId": "f607cff1-6204-4597-fc74-eae2d619dc3e"
      },
      "execution_count": null,
      "outputs": [
        {
          "output_type": "execute_result",
          "data": {
            "image/svg+xml": "<?xml version=\"1.0\" encoding=\"UTF-8\" standalone=\"no\"?>\n<!DOCTYPE svg PUBLIC \"-//W3C//DTD SVG 1.1//EN\"\n \"http://www.w3.org/Graphics/SVG/1.1/DTD/svg11.dtd\">\n<!-- Generated by graphviz version 2.43.0 (0)\n -->\n<!-- Title: %3 Pages: 1 -->\n<svg width=\"1183pt\" height=\"154pt\"\n viewBox=\"0.00 0.00 1183.00 154.00\" xmlns=\"http://www.w3.org/2000/svg\" xmlns:xlink=\"http://www.w3.org/1999/xlink\">\n<g id=\"graph0\" class=\"graph\" transform=\"scale(1 1) rotate(0) translate(4 150)\">\n<title>%3</title>\n<polygon fill=\"white\" stroke=\"transparent\" points=\"-4,4 -4,-150 1179,-150 1179,4 -4,4\"/>\n<!-- 135125455828496 -->\n<g id=\"node1\" class=\"node\">\n<title>135125455828496</title>\n<polygon fill=\"none\" stroke=\"black\" points=\"327,-27.5 327,-63.5 528,-63.5 528,-27.5 327,-27.5\"/>\n<text text-anchor=\"middle\" x=\"338.5\" y=\"-41.8\" font-family=\"Times,serif\" font-size=\"14.00\">e</text>\n<polyline fill=\"none\" stroke=\"black\" points=\"350,-27.5 350,-63.5 \"/>\n<text text-anchor=\"middle\" x=\"396\" y=\"-41.8\" font-family=\"Times,serif\" font-size=\"14.00\">data &#45;30.0000</text>\n<polyline fill=\"none\" stroke=\"black\" points=\"442,-27.5 442,-63.5 \"/>\n<text text-anchor=\"middle\" x=\"485\" y=\"-41.8\" font-family=\"Times,serif\" font-size=\"14.00\">grad &#45;2.0000</text>\n</g>\n<!-- 135125455826288+ -->\n<g id=\"node8\" class=\"node\">\n<title>135125455826288+</title>\n<ellipse fill=\"none\" stroke=\"black\" cx=\"591\" cy=\"-72.5\" rx=\"27\" ry=\"18\"/>\n<text text-anchor=\"middle\" x=\"591\" y=\"-68.8\" font-family=\"Times,serif\" font-size=\"14.00\">+</text>\n</g>\n<!-- 135125455828496&#45;&gt;135125455826288+ -->\n<g id=\"edge6\" class=\"edge\">\n<title>135125455828496&#45;&gt;135125455826288+</title>\n<path fill=\"none\" stroke=\"black\" d=\"M528.02,-62.14C537.41,-63.71 546.44,-65.22 554.56,-66.58\"/>\n<polygon fill=\"black\" stroke=\"black\" points=\"554.24,-70.07 564.68,-68.27 555.39,-63.17 554.24,-70.07\"/>\n</g>\n<!-- 135125455828496* -->\n<g id=\"node2\" class=\"node\">\n<title>135125455828496*</title>\n<ellipse fill=\"none\" stroke=\"black\" cx=\"264\" cy=\"-45.5\" rx=\"27\" ry=\"18\"/>\n<text text-anchor=\"middle\" x=\"264\" y=\"-41.8\" font-family=\"Times,serif\" font-size=\"14.00\">*</text>\n</g>\n<!-- 135125455828496*&#45;&gt;135125455828496 -->\n<g id=\"edge1\" class=\"edge\">\n<title>135125455828496*&#45;&gt;135125455828496</title>\n<path fill=\"none\" stroke=\"black\" d=\"M291.31,-45.5C298.79,-45.5 307.44,-45.5 316.68,-45.5\"/>\n<polygon fill=\"black\" stroke=\"black\" points=\"316.9,-49 326.9,-45.5 316.9,-42 316.9,-49\"/>\n</g>\n<!-- 135125455826000 -->\n<g id=\"node3\" class=\"node\">\n<title>135125455826000</title>\n<polygon fill=\"none\" stroke=\"black\" points=\"4.5,-55.5 4.5,-91.5 196.5,-91.5 196.5,-55.5 4.5,-55.5\"/>\n<text text-anchor=\"middle\" x=\"16\" y=\"-69.8\" font-family=\"Times,serif\" font-size=\"14.00\">a</text>\n<polyline fill=\"none\" stroke=\"black\" points=\"27.5,-55.5 27.5,-91.5 \"/>\n<text text-anchor=\"middle\" x=\"71\" y=\"-69.8\" font-family=\"Times,serif\" font-size=\"14.00\">data 10.0000</text>\n<polyline fill=\"none\" stroke=\"black\" points=\"114.5,-55.5 114.5,-91.5 \"/>\n<text text-anchor=\"middle\" x=\"155.5\" y=\"-69.8\" font-family=\"Times,serif\" font-size=\"14.00\">grad 6.0000</text>\n</g>\n<!-- 135125455826000&#45;&gt;135125455828496* -->\n<g id=\"edge8\" class=\"edge\">\n<title>135125455826000&#45;&gt;135125455828496*</title>\n<path fill=\"none\" stroke=\"black\" d=\"M196.85,-56.97C207.76,-55.08 218.31,-53.25 227.66,-51.63\"/>\n<polygon fill=\"black\" stroke=\"black\" points=\"228.4,-55.05 237.65,-49.89 227.2,-48.15 228.4,-55.05\"/>\n</g>\n<!-- 135125455816832 -->\n<g id=\"node4\" class=\"node\">\n<title>135125455816832</title>\n<polygon fill=\"none\" stroke=\"black\" points=\"981,-81.5 981,-117.5 1175,-117.5 1175,-81.5 981,-81.5\"/>\n<text text-anchor=\"middle\" x=\"993.5\" y=\"-95.8\" font-family=\"Times,serif\" font-size=\"14.00\">L</text>\n<polyline fill=\"none\" stroke=\"black\" points=\"1006,-81.5 1006,-117.5 \"/>\n<text text-anchor=\"middle\" x=\"1049.5\" y=\"-95.8\" font-family=\"Times,serif\" font-size=\"14.00\">data 40.0000</text>\n<polyline fill=\"none\" stroke=\"black\" points=\"1093,-81.5 1093,-117.5 \"/>\n<text text-anchor=\"middle\" x=\"1134\" y=\"-95.8\" font-family=\"Times,serif\" font-size=\"14.00\">grad 1.0000</text>\n</g>\n<!-- 135125455816832* -->\n<g id=\"node5\" class=\"node\">\n<title>135125455816832*</title>\n<ellipse fill=\"none\" stroke=\"black\" cx=\"918\" cy=\"-99.5\" rx=\"27\" ry=\"18\"/>\n<text text-anchor=\"middle\" x=\"918\" y=\"-95.8\" font-family=\"Times,serif\" font-size=\"14.00\">*</text>\n</g>\n<!-- 135125455816832*&#45;&gt;135125455816832 -->\n<g id=\"edge2\" class=\"edge\">\n<title>135125455816832*&#45;&gt;135125455816832</title>\n<path fill=\"none\" stroke=\"black\" d=\"M945.09,-99.5C952.62,-99.5 961.34,-99.5 970.63,-99.5\"/>\n<polygon fill=\"black\" stroke=\"black\" points=\"970.92,-103 980.92,-99.5 970.92,-96 970.92,-103\"/>\n</g>\n<!-- 135125455829792 -->\n<g id=\"node6\" class=\"node\">\n<title>135125455829792</title>\n<polygon fill=\"none\" stroke=\"black\" points=\"329.5,-82.5 329.5,-118.5 525.5,-118.5 525.5,-82.5 329.5,-82.5\"/>\n<text text-anchor=\"middle\" x=\"341\" y=\"-96.8\" font-family=\"Times,serif\" font-size=\"14.00\">c</text>\n<polyline fill=\"none\" stroke=\"black\" points=\"352.5,-82.5 352.5,-118.5 \"/>\n<text text-anchor=\"middle\" x=\"396\" y=\"-96.8\" font-family=\"Times,serif\" font-size=\"14.00\">data 10.0000</text>\n<polyline fill=\"none\" stroke=\"black\" points=\"439.5,-82.5 439.5,-118.5 \"/>\n<text text-anchor=\"middle\" x=\"482.5\" y=\"-96.8\" font-family=\"Times,serif\" font-size=\"14.00\">grad &#45;2.0000</text>\n</g>\n<!-- 135125455829792&#45;&gt;135125455826288+ -->\n<g id=\"edge5\" class=\"edge\">\n<title>135125455829792&#45;&gt;135125455826288+</title>\n<path fill=\"none\" stroke=\"black\" d=\"M525.71,-83.65C535.87,-81.88 545.67,-80.19 554.43,-78.67\"/>\n<polygon fill=\"black\" stroke=\"black\" points=\"555.29,-82.07 564.54,-76.91 554.09,-75.17 555.29,-82.07\"/>\n</g>\n<!-- 135125455826288 -->\n<g id=\"node7\" class=\"node\">\n<title>135125455826288</title>\n<polygon fill=\"none\" stroke=\"black\" points=\"654,-54.5 654,-90.5 855,-90.5 855,-54.5 654,-54.5\"/>\n<text text-anchor=\"middle\" x=\"665.5\" y=\"-68.8\" font-family=\"Times,serif\" font-size=\"14.00\">d</text>\n<polyline fill=\"none\" stroke=\"black\" points=\"677,-54.5 677,-90.5 \"/>\n<text text-anchor=\"middle\" x=\"723\" y=\"-68.8\" font-family=\"Times,serif\" font-size=\"14.00\">data &#45;20.0000</text>\n<polyline fill=\"none\" stroke=\"black\" points=\"769,-54.5 769,-90.5 \"/>\n<text text-anchor=\"middle\" x=\"812\" y=\"-68.8\" font-family=\"Times,serif\" font-size=\"14.00\">grad &#45;2.0000</text>\n</g>\n<!-- 135125455826288&#45;&gt;135125455816832* -->\n<g id=\"edge9\" class=\"edge\">\n<title>135125455826288&#45;&gt;135125455816832*</title>\n<path fill=\"none\" stroke=\"black\" d=\"M855.02,-89.14C864.41,-90.71 873.44,-92.22 881.56,-93.58\"/>\n<polygon fill=\"black\" stroke=\"black\" points=\"881.24,-97.07 891.68,-95.27 882.39,-90.17 881.24,-97.07\"/>\n</g>\n<!-- 135125455826288+&#45;&gt;135125455826288 -->\n<g id=\"edge3\" class=\"edge\">\n<title>135125455826288+&#45;&gt;135125455826288</title>\n<path fill=\"none\" stroke=\"black\" d=\"M618.31,-72.5C625.79,-72.5 634.44,-72.5 643.68,-72.5\"/>\n<polygon fill=\"black\" stroke=\"black\" points=\"643.9,-76 653.9,-72.5 643.9,-69 643.9,-76\"/>\n</g>\n<!-- 135125455828400 -->\n<g id=\"node9\" class=\"node\">\n<title>135125455828400</title>\n<polygon fill=\"none\" stroke=\"black\" points=\"655,-109.5 655,-145.5 854,-145.5 854,-109.5 655,-109.5\"/>\n<text text-anchor=\"middle\" x=\"665.5\" y=\"-123.8\" font-family=\"Times,serif\" font-size=\"14.00\">f</text>\n<polyline fill=\"none\" stroke=\"black\" points=\"676,-109.5 676,-145.5 \"/>\n<text text-anchor=\"middle\" x=\"718.5\" y=\"-123.8\" font-family=\"Times,serif\" font-size=\"14.00\">data &#45;2.0000</text>\n<polyline fill=\"none\" stroke=\"black\" points=\"761,-109.5 761,-145.5 \"/>\n<text text-anchor=\"middle\" x=\"807.5\" y=\"-123.8\" font-family=\"Times,serif\" font-size=\"14.00\">grad &#45;20.0000</text>\n</g>\n<!-- 135125455828400&#45;&gt;135125455816832* -->\n<g id=\"edge4\" class=\"edge\">\n<title>135125455828400&#45;&gt;135125455816832*</title>\n<path fill=\"none\" stroke=\"black\" d=\"M854.1,-110.41C863.79,-108.72 873.13,-107.11 881.51,-105.65\"/>\n<polygon fill=\"black\" stroke=\"black\" points=\"882.3,-109.07 891.56,-103.91 881.11,-102.17 882.3,-109.07\"/>\n</g>\n<!-- 135125455827920 -->\n<g id=\"node10\" class=\"node\">\n<title>135125455827920</title>\n<polygon fill=\"none\" stroke=\"black\" points=\"0,-0.5 0,-36.5 201,-36.5 201,-0.5 0,-0.5\"/>\n<text text-anchor=\"middle\" x=\"11.5\" y=\"-14.8\" font-family=\"Times,serif\" font-size=\"14.00\">b</text>\n<polyline fill=\"none\" stroke=\"black\" points=\"23,-0.5 23,-36.5 \"/>\n<text text-anchor=\"middle\" x=\"65.5\" y=\"-14.8\" font-family=\"Times,serif\" font-size=\"14.00\">data &#45;3.0000</text>\n<polyline fill=\"none\" stroke=\"black\" points=\"108,-0.5 108,-36.5 \"/>\n<text text-anchor=\"middle\" x=\"154.5\" y=\"-14.8\" font-family=\"Times,serif\" font-size=\"14.00\">grad &#45;20.0000</text>\n</g>\n<!-- 135125455827920&#45;&gt;135125455828496* -->\n<g id=\"edge7\" class=\"edge\">\n<title>135125455827920&#45;&gt;135125455828496*</title>\n<path fill=\"none\" stroke=\"black\" d=\"M201.02,-35.14C210.41,-36.71 219.44,-38.22 227.56,-39.58\"/>\n<polygon fill=\"black\" stroke=\"black\" points=\"227.24,-43.07 237.68,-41.27 228.39,-36.17 227.24,-43.07\"/>\n</g>\n</g>\n</svg>\n",
            "text/plain": [
              "<graphviz.graphs.Digraph at 0x7ae558cb7a90>"
            ]
          },
          "metadata": {},
          "execution_count": 66
        }
      ]
    },
    {
      "cell_type": "code",
      "source": [
        "-2.0 * 10.0"
      ],
      "metadata": {
        "colab": {
          "base_uri": "https://localhost:8080/"
        },
        "id": "oN3LcdN1lqtN",
        "outputId": "53e11a5d-b2ec-4a0a-b627-126cfce74074"
      },
      "execution_count": null,
      "outputs": [
        {
          "output_type": "execute_result",
          "data": {
            "text/plain": [
              "-20.0"
            ]
          },
          "metadata": {},
          "execution_count": 67
        }
      ]
    },
    {
      "cell_type": "code",
      "source": [
        "def lol():\n",
        "  h = 0.0001 # increasing any parameter by the small amount of h\n",
        "  # whatever parameter we will add h(bump up by h) then it prints output as dL WRT that parameter.\n",
        "\n",
        "  a = Value(10, label='a')\n",
        "  b = Value(-3.0, label='b')\n",
        "  c = Value(10.0, label='c')\n",
        "  e = a*b; e.label='e'\n",
        "  d = e + c; d.label='d'\n",
        "  f = Value(-2.0, label='f')\n",
        "  L = d * f; L.label = 'L'\n",
        "  L1 = L.data\n",
        "\n",
        "  a = Value(10, label='a')\n",
        "  b = Value(-3.0, label='b')\n",
        "  c = Value(10.0, label='c')\n",
        "  e = a*b; e.label='e'\n",
        "  d = e + c; d.label='d'\n",
        "  f = Value(-2.0, label='f')\n",
        "  L = d * f; L.label = 'L'\n",
        "  L2 = L.data\n",
        "\n",
        "  print((L2 - L1)/h) # rise over run\n",
        "\n",
        "lol()"
      ],
      "metadata": {
        "id": "UkOht-4HrBpT",
        "colab": {
          "base_uri": "https://localhost:8080/"
        },
        "outputId": "675939ce-efb7-437b-c8d8-2d696987de00"
      },
      "execution_count": null,
      "outputs": [
        {
          "output_type": "stream",
          "name": "stdout",
          "text": [
            "0.0\n"
          ]
        }
      ]
    },
    {
      "cell_type": "markdown",
      "source": [
        "So, That is the manual backpropagation, all the way from L(loss/output node) to leaf node. and done it peice by pice.\n",
        "\n",
        "All we done is we iterated from all the node one by one and locally apply the chain rule. we always know the derivative of L WRT this little output and we look at how this output is produced, this output is produced through some operation and we have some pointers to the children node of this operation. and in this little operation we know what the local derivatives are and we just multiply them on to the derivative always. so we go through recursively multiply on the local derivatives and that's what backpropagation is.\n",
        "\n",
        "its just a recursive application of chain rule through computaion graph.\n",
        "\n",
        "Let;s see the power in action\n",
        "\n",
        "a.data change it, if you want L to go up that means we just have to goto the direction of the gradient.\n",
        "\n",
        "change all the leaf node only not the expression one.\n",
        "\n",
        "if we nudge in direction of gradient we expact positive influence on L\n",
        "\n",
        "so we expact L to go UP positively, so it should become less negative. it should go up to say -6 or something like that"
      ],
      "metadata": {
        "id": "d8PKInKRBuIE"
      }
    },
    {
      "cell_type": "code",
      "source": [
        "a.data += 0.01 * a.grad\n",
        "b.data += 0.01 * b.grad\n",
        "c.data += 0.01 * c.grad\n",
        "f.data += 0.01 * f.grad\n",
        "\n",
        "#rewrite the forward pass\n",
        "\n",
        "e = a*b\n",
        "d = e + c\n",
        "# f will remain unchanged\n",
        "L = d * f;\n",
        "\n",
        "print(L.data)"
      ],
      "metadata": {
        "colab": {
          "base_uri": "https://localhost:8080/"
        },
        "id": "2QaSyNwmPG29",
        "outputId": "493fac02-8ca2-4025-aa18-cc33ef02d4f6"
      },
      "execution_count": null,
      "outputs": [
        {
          "output_type": "stream",
          "name": "stdout",
          "text": [
            "48.866400000000006\n"
          ]
        }
      ]
    },
    {
      "cell_type": "markdown",
      "source": [
        "# one more example of backpropagation using bit more complex and useful example"
      ],
      "metadata": {
        "id": "djVi_YnsVybz"
      }
    },
    {
      "cell_type": "code",
      "source": [],
      "metadata": {
        "id": "mLlIN7GdIQAC"
      },
      "execution_count": null,
      "outputs": []
    }
  ]
}