{
  "cells": [
    {
      "cell_type": "markdown",
      "metadata": {
        "id": "K6TykwVbWCbn"
      },
      "source": [
        "# Neural Networks\n",
        "----\n",
        "Micrograd: Autograd: automatic engine, implements backpropagation.\n",
        "\n",
        "Backpropagation: is an algorithm that allows you to efficiently evaluate the gradient of a loss function with respect to weights of the NN.\n",
        "\n",
        "That allows us to we can iteratively tune the weight of network to minimize the loss function and therefore improve the accuracy of the network.\n",
        "\n",
        "Backpropagation could be at the mathematical core of any modern deep neural libraries. like Pytorch or jax.\n",
        "\n",
        "**NN:** just a mathematical expressions, they take the input data as input and weights of a neural networks as a input and mathematical expression. And output is your predictions of your NN or loss function"
      ]
    },
    {
      "cell_type": "markdown",
      "metadata": {
        "id": "10NG5ut8staB"
      },
      "source": [
        "# 1st Good understanding is what derivative is and what information it gives you .\n"
      ]
    },
    {
      "cell_type": "code",
      "execution_count": 1,
      "metadata": {
        "id": "aJe4j4Bz0XXv"
      },
      "outputs": [],
      "source": [
        "import math\n",
        "import numpy as np\n",
        "import matplotlib.pyplot as plt\n",
        "%matplotlib inline"
      ]
    },
    {
      "cell_type": "code",
      "execution_count": 2,
      "metadata": {
        "id": "SQwSjJr2WBm4"
      },
      "outputs": [],
      "source": [
        "## defining a scaler valued function f(x)\n",
        "\n",
        "def f(x):\n",
        "  ## takes single scaler x and returns single scaler y\n",
        "  return 3*x**2 - 4*x + 5"
      ]
    },
    {
      "cell_type": "code",
      "execution_count": 3,
      "metadata": {
        "colab": {
          "base_uri": "https://localhost:8080/"
        },
        "id": "AoWYbA7NtfMa",
        "outputId": "a8595ea6-ae04-4c6a-bbd7-3bd3fdf73fa8"
      },
      "outputs": [
        {
          "output_type": "execute_result",
          "data": {
            "text/plain": [
              "20.0"
            ]
          },
          "metadata": {},
          "execution_count": 3
        }
      ],
      "source": [
        "f(3.0)"
      ]
    },
    {
      "cell_type": "markdown",
      "metadata": {
        "id": "-vQj_fPbuM2D"
      },
      "source": [
        "Thats for only one value x.\n",
        "\n",
        "we can draw a parabola with multiple valuees.\n",
        "\n",
        "let say get value from -5 to 5\n",
        "and get its y values and plot."
      ]
    },
    {
      "cell_type": "code",
      "execution_count": 4,
      "metadata": {
        "colab": {
          "base_uri": "https://localhost:8080/",
          "height": 517
        },
        "id": "dFnlnuDBtggO",
        "outputId": "a7001c72-cdba-40fa-e345-2819d0a09011"
      },
      "outputs": [
        {
          "output_type": "stream",
          "name": "stdout",
          "text": [
            "[-5.   -4.75 -4.5  -4.25 -4.   -3.75 -3.5  -3.25 -3.   -2.75 -2.5  -2.25\n",
            " -2.   -1.75 -1.5  -1.25 -1.   -0.75 -0.5  -0.25  0.    0.25  0.5   0.75\n",
            "  1.    1.25  1.5   1.75  2.    2.25  2.5   2.75  3.    3.25  3.5   3.75\n",
            "  4.    4.25  4.5   4.75]\n"
          ]
        },
        {
          "output_type": "execute_result",
          "data": {
            "text/plain": [
              "[<matplotlib.lines.Line2D at 0x7be4a9a5abf0>]"
            ]
          },
          "metadata": {},
          "execution_count": 4
        },
        {
          "output_type": "display_data",
          "data": {
            "text/plain": [
              "<Figure size 640x480 with 1 Axes>"
            ],
            "image/png": "[encoded data removed]"
          },
          "metadata": {}
        }
      ],
      "source": [
        "xs = np.arange(-5,5,0.25)\n",
        "print(xs)\n",
        "ys = f(xs)\n",
        "plt.plot(xs,ys)"
      ]
    },
    {
      "cell_type": "markdown",
      "metadata": {
        "id": "C9Ncjx0fuqQP"
      },
      "source": [
        "As we can see if we give 3.0 as x and it will give us y as 20, can be seen on graph\n",
        "\n",
        "Now Think what is the derivative of function `f(x)` at any single input `x`. derivative of function at different point of `x`.\n",
        "\n",
        "In school we would do all the calculations on the paper and derive the equation and then pass all the x values to get derivatives.\n",
        "\n",
        "But here we are not going to do that because no one in neural networks writes out expressions for the NN. It would be tens of thousands of terms that derives the derivative.\n",
        "\n",
        "Instead of symbolic aproach we have to understand what derivative(defination of derivative) is and understand what derivative is measuring, what it is telling you about the function\n",
        "\n",
        "---\n",
        "\n",
        "## Derivative of a function f(x)\n",
        "\n",
        "$$ L = \\lim_{h \\to 0} \\frac{f(x+h)-f(x)}{h} $$\n",
        "\n",
        "What it is saying is that if you slightly bump up the, you are at some point `x` you are intrested in, and if you slightly bumpup `x` by small number `h`, how does the function respond, what is the slope at that point, does the function go up or down and by how much. the slope of that function or responce at that point.\n",
        "\n",
        "\n",
        "So we can evaluate derivative here numerically by taking the a very small `h`\n",
        "\n",
        "\n"
      ]
    },
    {
      "cell_type": "markdown",
      "metadata": {
        "id": "_1couXgx1XvM"
      },
      "source": [
        "Take\n",
        "\n",
        "refere graph with x its corresponding y values\n",
        "```py\n",
        "h = 0.0001\n",
        "x = 3.0\n",
        "\n",
        "f(x) # output will be 20\n",
        "\n",
        "# so doing f(x + h) will it be greater than 20 or will be down?\n",
        "\n",
        "f(x + h) # 20.001400030\n",
        "\n",
        "## the value is slightly up\n",
        "\n",
        "## how much function responded?\n",
        "f(x+h) - f(x) # 0.0014000300000063248 function responded in a positive direction\n",
        "\n",
        "\n",
        "# then normalize by the run, so rize over run to get slope\n",
        "(f(x + h) - f(x))/h # 14.000300000063248\n",
        "```\n",
        "\n",
        "Here we have to take `h`'s value very very small amount to get the exsect value.\n",
        "\n",
        "so at `x = 3` the slope is `14`\n",
        "\n",
        "### slope at `x = -3`?\n",
        "\n",
        "telling exact value is hard but what will be the sign of the value?\n",
        "\n",
        "from the graph try to ans.\n",
        "\n",
        "so for -3 if we go slightly in a positive direction then function will go down.\n",
        "\n",
        "we will get slightly below 20.\n",
        "\n",
        "```py\n",
        "h = 0.0001\n",
        "x = -3.0\n",
        "\n",
        "f(x) # output will be 44.0\n",
        "\n",
        "# so doing f(x + h) will it be greater than 40.0 or will be down?\n",
        "\n",
        "f(x + h) # 43.99780002999999, value decreased\n",
        "\n",
        "## the value is slightly down\n",
        "\n",
        "## how much function responded?\n",
        "f(x+h) - f(x) # -0.0021999700000066014 function responded in a negative direction\n",
        "\n",
        "\n",
        "# then normalize by the run, so rize over run to get slope\n",
        "(f(x + h) - f(x))/h # -21.999700000066014\n",
        "```\n",
        "\n",
        "> 💡 and some point at graph the **slope will be `0`** like at x = 2/3"
      ]
    },
    {
      "cell_type": "code",
      "execution_count": 5,
      "metadata": {
        "colab": {
          "base_uri": "https://localhost:8080/"
        },
        "id": "qozekY_2t_ZZ",
        "outputId": "3dde175a-6caa-493c-afaf-73f11285915d"
      },
      "outputs": [
        {
          "output_type": "execute_result",
          "data": {
            "text/plain": [
              "-21.999700000066014"
            ]
          },
          "metadata": {},
          "execution_count": 5
        }
      ],
      "source": [
        "h = 0.0001\n",
        "x = -3.0\n",
        "# f(x)\n",
        "(f(x + h) - f(x))/h"
      ]
    },
    {
      "cell_type": "markdown",
      "metadata": {
        "id": "fSHvjhQo77gS"
      },
      "source": [
        "## Explaination of below code\n",
        "\n",
        "function of 3 scaler input a, b, and c as ouput as d\n",
        "`d = a*b+c`\n",
        "\n",
        "a = 2.0\n",
        "\n",
        "b = -3.0\n",
        "\n",
        "c = 10.0\n",
        "\n",
        "3 inputs to our expression graph and single o/p `d`\n",
        "\n",
        "printing `d` we get `4.0` as o/p\n",
        "\n",
        "⛳️ we want to take derivative of `d` with respect to `a`, `b`, and `c`. and thinking what derivative is telling"
      ]
    },
    {
      "cell_type": "code",
      "execution_count": 6,
      "metadata": {
        "colab": {
          "base_uri": "https://localhost:8080/"
        },
        "id": "kEpcJzoTLgdZ",
        "outputId": "97e893d3-d276-49ef-cd9d-fc923bd40420"
      },
      "outputs": [
        {
          "output_type": "stream",
          "name": "stdout",
          "text": [
            "4.0\n"
          ]
        }
      ],
      "source": [
        "# more complex example\n",
        "a = 2.0\n",
        "b = -3.0\n",
        "c = 10.0\n",
        "\n",
        "d = a*b+c # function of three scaler inputs a,b, and c with output as d\n",
        "print(d)"
      ]
    },
    {
      "cell_type": "markdown",
      "metadata": {
        "id": "xv05Cf4NGNbR"
      },
      "source": [
        "1st taking derivative of `d1` wrt `a`"
      ]
    },
    {
      "cell_type": "code",
      "execution_count": 7,
      "metadata": {
        "colab": {
          "base_uri": "https://localhost:8080/"
        },
        "id": "1ajnWoMt8YqS",
        "outputId": "59358886-6898-4abf-b849-0988e5eee566"
      },
      "outputs": [
        {
          "output_type": "stream",
          "name": "stdout",
          "text": [
            "d1 4.0\n",
            "d2 4.0001\n",
            "slope 0.9999999999976694\n"
          ]
        }
      ],
      "source": [
        "h = 0.0001 # taking small h\n",
        "\n",
        "# inputs\n",
        "a = 2.0\n",
        "b = -3.0\n",
        "c = 10.0\n",
        "\n",
        "d1 = a*b+c\n",
        "\n",
        "c += h\n",
        "\n",
        "d2 = a*b+c\n",
        "\n",
        "print('d1', d1)\n",
        "print('d2', d2)\n",
        "print('slope', (d2-d1)/h)"
      ]
    },
    {
      "cell_type": "markdown",
      "metadata": {
        "id": "B2nXRrk4ROeT"
      },
      "source": []
    },
    {
      "cell_type": "code",
      "execution_count": 7,
      "metadata": {
        "id": "666beAzxINtI"
      },
      "outputs": [],
      "source": []
    },
    {
      "cell_type": "markdown",
      "metadata": {
        "id": "RK1331KIWu0a"
      },
      "source": [
        "NNs are prety massive math expressions so we need some data structures that maintain these expressions.\n",
        "\n",
        "Let's start to build out"
      ]
    },
    {
      "cell_type": "code",
      "execution_count": 79,
      "metadata": {
        "id": "q3f-dWZKIWZh"
      },
      "outputs": [],
      "source": [
        "class Value():\n",
        "\n",
        "  def __init__(self, data, _children=(), _op='', label=''):\n",
        "    \"\"\"\n",
        "    @params:\n",
        "    data: actual value\n",
        "    _children: default empty tuple,\n",
        "    \"\"\"\n",
        "    self.data = data\n",
        "    self.grad = 0.0 # initially it will be zero\n",
        "    self._backward = lambda: None\n",
        "    self._prev = set(_children)\n",
        "    self._op = _op\n",
        "    self.label = label\n",
        "\n",
        "  def __repr__(self):\n",
        "    return f\"Value(data={self.data})\"\n",
        "\n",
        "  def __add__(self, other):\n",
        "    other = other if isinstance(other, Value) else Value(other) # for ValueObject + constant eg. a + 1\n",
        "    out = Value(self.data + other.data, (self, other), '+')\n",
        "\n",
        "    def _backward():\n",
        "      self.grad += 1.0 * out.grad # += to accumulate gradient in all backward\n",
        "      other.grad += 1.0 * out.grad\n",
        "    out._backward = _backward\n",
        "    return out\n",
        "\n",
        "  def __mul__(self, other):\n",
        "    other = other if isinstance(other, Value) else Value(other)\n",
        "    out = Value(self.data * other.data, (self, other), '*')\n",
        "\n",
        "    def _backward():\n",
        "      self.grad += other.data * out.grad\n",
        "      other.grad += self.data * out.grad\n",
        "    out._backward = _backward\n",
        "    return out\n",
        "\n",
        "  def __pow__(self, other):\n",
        "    assert isinstance(other, (int, float)), \"allowing int or float as of now\"\n",
        "    out = Value(self.data**other, (self,), f'**{other}')\n",
        "\n",
        "    def _backward():\n",
        "      self.grad +=  other * (self.data**(other-1)) * out.grad # der of the power\n",
        "    out._backward = _backward\n",
        "    return out\n",
        "\n",
        "  def __rmul__(self, other): # other * self\n",
        "    return self * other\n",
        "\n",
        "  def __radd__(self, other):\n",
        "    return self + other\n",
        "\n",
        "  def __truediv__(self, other): # self / other\n",
        "    return self * other**-1\n",
        "\n",
        "  def __neg__(self):\n",
        "    return self * -1\n",
        "\n",
        "  def __sub__(self, other):\n",
        "    return self + (-other)\n",
        "\n",
        "  def tanh(self):\n",
        "    x = self.data\n",
        "    t = (math.exp(2*x) - 1) / (math.exp(2*x) + 1)\n",
        "    out = Value(t, (self, ), 'tanh')\n",
        "\n",
        "    def _backward():\n",
        "      self.grad += (1 - t**2) * out.grad # tanh's local derivative * out.grad\n",
        "    out._backward = _backward\n",
        "    return out\n",
        "\n",
        "  def exp(self):\n",
        "    x = self.data\n",
        "    out = Value(math.exp(x), (self,),'exp')\n",
        "\n",
        "    def _backward():\n",
        "      self.grad += out.data * out.grad\n",
        "    out._backward = _backward\n",
        "    return out\n",
        "\n",
        "  def backward(self):\n",
        "    topo = []\n",
        "    visited = set()\n",
        "    def build_topo(v):\n",
        "      if v not in visited:\n",
        "        visited.add(v)\n",
        "        for child in v._prev:\n",
        "          build_topo(child)\n",
        "        topo.append(v)\n",
        "\n",
        "    build_topo(self)\n",
        "\n",
        "    self.grad = 1.0\n",
        "    for node in reversed(topo):\n",
        "      node._backward()\n"
      ]
    },
    {
      "cell_type": "code",
      "source": [
        "a = Value(2.0)\n",
        "b = Value(2.0)"
      ],
      "metadata": {
        "id": "wmLlkLbJPGbe"
      },
      "execution_count": 9,
      "outputs": []
    },
    {
      "cell_type": "code",
      "source": [
        "a - b"
      ],
      "metadata": {
        "colab": {
          "base_uri": "https://localhost:8080/"
        },
        "id": "oQaCCh3EWAZy",
        "outputId": "8dd64077-c9c3-4892-f51b-505ddb4b8f6a"
      },
      "execution_count": 10,
      "outputs": [
        {
          "output_type": "execute_result",
          "data": {
            "text/plain": [
              "Value(data=0.0)"
            ]
          },
          "metadata": {},
          "execution_count": 10
        }
      ]
    },
    {
      "cell_type": "code",
      "source": [
        "a / b"
      ],
      "metadata": {
        "colab": {
          "base_uri": "https://localhost:8080/"
        },
        "id": "dNS9FyCcPK7L",
        "outputId": "254a561f-0f0d-407c-d809-5aac4a95f4cb"
      },
      "execution_count": 11,
      "outputs": [
        {
          "output_type": "execute_result",
          "data": {
            "text/plain": [
              "Value(data=1.0)"
            ]
          },
          "metadata": {},
          "execution_count": 11
        }
      ]
    },
    {
      "cell_type": "code",
      "execution_count": 12,
      "metadata": {
        "colab": {
          "base_uri": "https://localhost:8080/"
        },
        "id": "ol7I7-txXb3Y",
        "outputId": "6b5a1f86-c21b-4baf-bd9d-5faf418f4b20"
      },
      "outputs": [
        {
          "output_type": "execute_result",
          "data": {
            "text/plain": [
              "Value(data=40.0)"
            ]
          },
          "metadata": {},
          "execution_count": 12
        }
      ],
      "source": [
        "a = Value(10, label='a')\n",
        "b = Value(-3.0, label='b')\n",
        "c = Value(10.0, label='c')\n",
        "# a*b+c\n",
        "\n",
        "e = a*b; e.label='e'\n",
        "d = e + c; d.label='d'\n",
        "d\n",
        "# (a.__mul__(b)).__add__(c)\n",
        "\n",
        "# making this one layer deeper\n",
        "f = Value(-2.0, label='f')\n",
        "\n",
        "L = d * f; L.label = 'L' #output of d*f\n",
        "L"
      ]
    },
    {
      "cell_type": "markdown",
      "metadata": {
        "id": "taMuzhhSiTyd"
      },
      "source": [
        "Now the missing thing is connectin of this expression. we need to keep expression graph.\n",
        "\n",
        "we need to know and keep pointers about what values produces what other values.\n",
        "\n",
        "for that we introduce new variable `children` in `Value` class\n",
        "\n",
        "by default `_children` will be `empty set`.\n",
        "\n",
        "and creating a `_prev` variable which is `set of _children`\n",
        "\n",
        "and when doing `multiplication` and `addition` operations pass `self and other` as child.\n",
        "\n",
        "```py\n",
        "a = Value(10)\n",
        "b = Value(-3.0)\n",
        "c = Value(10.0)\n",
        "d = a*b+c\n",
        "# now we can see d's childs\n",
        "d._prev\n",
        "```\n",
        "\n",
        "now we can get a child of d using `d._prev`\n",
        "\n",
        "Now we can get child but we don't know which operation did it performed. For that add onethore param `_op` by default empty."
      ]
    },
    {
      "cell_type": "code",
      "execution_count": 13,
      "metadata": {
        "id": "42BQ9WEMXebJ"
      },
      "outputs": [],
      "source": [
        "# a = Value(10)\n",
        "# b = Value(-3.0)\n",
        "# c = Value(10.0)\n",
        "# d = a*b+c\n",
        "# # now we can see d's childs\n",
        "# d._prev"
      ]
    },
    {
      "cell_type": "code",
      "execution_count": 14,
      "metadata": {
        "colab": {
          "base_uri": "https://localhost:8080/",
          "height": 35
        },
        "id": "3VPgypbtllTo",
        "outputId": "a6f6eb41-e9a3-438a-bd13-8b3d3bf97d6f"
      },
      "outputs": [
        {
          "output_type": "execute_result",
          "data": {
            "text/plain": [
              "'+'"
            ],
            "application/vnd.google.colaboratory.intrinsic+json": {
              "type": "string"
            }
          },
          "metadata": {},
          "execution_count": 14
        }
      ],
      "source": [
        "d._op # now we have d._op for operation\n",
        "# this tells d was produced by addition of those two values"
      ]
    },
    {
      "cell_type": "code",
      "execution_count": 126,
      "metadata": {
        "id": "6HxAUaApm-IY"
      },
      "outputs": [],
      "source": [
        "from graphviz import Digraph\n",
        "\n",
        "def trace(root):\n",
        "  # build a set of  all nodes and edges in a graph\n",
        "  nodes, edges = set(), set()\n",
        "  def build(v):\n",
        "    if v not in nodes:\n",
        "      nodes.add(v)\n",
        "      for child in v._prev:\n",
        "        edges.add((child, v))\n",
        "        build(child)\n",
        "  build(root)\n",
        "  return nodes, edges\n",
        "\n",
        "\n",
        "def draw_dot(root):\n",
        "  dot = Digraph(format='png', graph_attr={'rankdir':'LR'}) # LR = left to right # changed to png\n",
        "\n",
        "  nodes, edges = trace(root)\n",
        "  for n in nodes:\n",
        "    uid = str(id(n))\n",
        "    # for any value in the graph, create a rectengular (\"record\") node for it\n",
        "    dot.node(name=uid, label=\"{ %s | data %.4f | grad %.4f}\" % (n.label,n.data, n.grad,), shape='record')\n",
        "    if n._op:\n",
        "      # if this value is result of some operation, create an op node for it\n",
        "      dot.node(name=uid+n._op, label = n._op)\n",
        "      # and connect this node to it\n",
        "      dot.edge(uid + n._op, uid)\n",
        "\n",
        "  for n1, n2 in edges:\n",
        "    # connect n1 to output node n2\n",
        "    dot.edge(str(id(n1)), str(id(n2)) + n2._op)\n",
        "\n",
        "  # dot.render(filename='img/i1') # use this for saving image\n",
        "  return dot"
      ]
    },
    {
      "cell_type": "code",
      "execution_count": 127,
      "metadata": {
        "colab": {
          "base_uri": "https://localhost:8080/",
          "height": 247
        },
        "id": "IYuliMfLnOua",
        "outputId": "f2eadfac-1305-4f45-9700-d07c83204fb4"
      },
      "outputs": [
        {
          "output_type": "execute_result",
          "data": {
            "image/svg+xml": "<?xml version=\"1.0\" encoding=\"UTF-8\" standalone=\"no\"?>\n<!DOCTYPE svg PUBLIC \"-//W3C//DTD SVG 1.1//EN\"\n \"http://www.w3.org/Graphics/SVG/1.1/DTD/svg11.dtd\">\n<!-- Generated by graphviz version 2.43.0 (0)\n -->\n<!-- Title: %3 Pages: 1 -->\n<svg width=\"1169pt\" height=\"154pt\"\n viewBox=\"0.00 0.00 1169.00 154.00\" xmlns=\"http://www.w3.org/2000/svg\" xmlns:xlink=\"http://www.w3.org/1999/xlink\">\n<g id=\"graph0\" class=\"graph\" transform=\"scale(1 1) rotate(0) translate(4 150)\">\n<title>%3</title>\n<polygon fill=\"white\" stroke=\"transparent\" points=\"-4,4 -4,-150 1165,-150 1165,4 -4,4\"/>\n<!-- 136221639978592 -->\n<g id=\"node1\" class=\"node\">\n<title>136221639978592</title>\n<polygon fill=\"none\" stroke=\"black\" points=\"649.5,-54.5 649.5,-90.5 843.5,-90.5 843.5,-54.5 649.5,-54.5\"/>\n<text text-anchor=\"middle\" x=\"659.5\" y=\"-68.8\" font-family=\"Times,serif\" font-size=\"14.00\"> </text>\n<polyline fill=\"none\" stroke=\"black\" points=\"669.5,-54.5 669.5,-90.5 \"/>\n<text text-anchor=\"middle\" x=\"715.5\" y=\"-68.8\" font-family=\"Times,serif\" font-size=\"14.00\">data &#45;22.2120</text>\n<polyline fill=\"none\" stroke=\"black\" points=\"761.5,-54.5 761.5,-90.5 \"/>\n<text text-anchor=\"middle\" x=\"802.5\" y=\"-68.8\" font-family=\"Times,serif\" font-size=\"14.00\">grad 0.0000</text>\n</g>\n<!-- 136221639977584* -->\n<g id=\"node4\" class=\"node\">\n<title>136221639977584*</title>\n<ellipse fill=\"none\" stroke=\"black\" cx=\"909\" cy=\"-99.5\" rx=\"27\" ry=\"18\"/>\n<text text-anchor=\"middle\" x=\"909\" y=\"-95.8\" font-family=\"Times,serif\" font-size=\"14.00\">*</text>\n</g>\n<!-- 136221639978592&#45;&gt;136221639977584* -->\n<g id=\"edge5\" class=\"edge\">\n<title>136221639978592&#45;&gt;136221639977584*</title>\n<path fill=\"none\" stroke=\"black\" d=\"M843.64,-88.67C853.8,-90.38 863.6,-92.03 872.37,-93.51\"/>\n<polygon fill=\"black\" stroke=\"black\" points=\"872.05,-97 882.49,-95.21 873.21,-90.1 872.05,-97\"/>\n</g>\n<!-- 136221639978592+ -->\n<g id=\"node2\" class=\"node\">\n<title>136221639978592+</title>\n<ellipse fill=\"none\" stroke=\"black\" cx=\"584\" cy=\"-72.5\" rx=\"27\" ry=\"18\"/>\n<text text-anchor=\"middle\" x=\"584\" y=\"-68.8\" font-family=\"Times,serif\" font-size=\"14.00\">+</text>\n</g>\n<!-- 136221639978592+&#45;&gt;136221639978592 -->\n<g id=\"edge1\" class=\"edge\">\n<title>136221639978592+&#45;&gt;136221639978592</title>\n<path fill=\"none\" stroke=\"black\" d=\"M611.14,-72.5C619.36,-72.5 628.98,-72.5 639.25,-72.5\"/>\n<polygon fill=\"black\" stroke=\"black\" points=\"639.26,-76 649.26,-72.5 639.26,-69 639.26,-76\"/>\n</g>\n<!-- 136221639977584 -->\n<g id=\"node3\" class=\"node\">\n<title>136221639977584</title>\n<polygon fill=\"none\" stroke=\"black\" points=\"972,-81.5 972,-117.5 1161,-117.5 1161,-81.5 972,-81.5\"/>\n<text text-anchor=\"middle\" x=\"982\" y=\"-95.8\" font-family=\"Times,serif\" font-size=\"14.00\"> </text>\n<polyline fill=\"none\" stroke=\"black\" points=\"992,-81.5 992,-117.5 \"/>\n<text text-anchor=\"middle\" x=\"1035.5\" y=\"-95.8\" font-family=\"Times,serif\" font-size=\"14.00\">data 48.8664</text>\n<polyline fill=\"none\" stroke=\"black\" points=\"1079,-81.5 1079,-117.5 \"/>\n<text text-anchor=\"middle\" x=\"1120\" y=\"-95.8\" font-family=\"Times,serif\" font-size=\"14.00\">grad 0.0000</text>\n</g>\n<!-- 136221639977584*&#45;&gt;136221639977584 -->\n<g id=\"edge2\" class=\"edge\">\n<title>136221639977584*&#45;&gt;136221639977584</title>\n<path fill=\"none\" stroke=\"black\" d=\"M936.03,-99.5C943.66,-99.5 952.52,-99.5 961.94,-99.5\"/>\n<polygon fill=\"black\" stroke=\"black\" points=\"961.94,-103 971.94,-99.5 961.94,-96 961.94,-103\"/>\n</g>\n<!-- 136222002624640 -->\n<g id=\"node5\" class=\"node\">\n<title>136222002624640</title>\n<polygon fill=\"none\" stroke=\"black\" points=\"4.5,-55.5 4.5,-91.5 196.5,-91.5 196.5,-55.5 4.5,-55.5\"/>\n<text text-anchor=\"middle\" x=\"16\" y=\"-69.8\" font-family=\"Times,serif\" font-size=\"14.00\">a</text>\n<polyline fill=\"none\" stroke=\"black\" points=\"27.5,-55.5 27.5,-91.5 \"/>\n<text text-anchor=\"middle\" x=\"71\" y=\"-69.8\" font-family=\"Times,serif\" font-size=\"14.00\">data 10.0600</text>\n<polyline fill=\"none\" stroke=\"black\" points=\"114.5,-55.5 114.5,-91.5 \"/>\n<text text-anchor=\"middle\" x=\"155.5\" y=\"-69.8\" font-family=\"Times,serif\" font-size=\"14.00\">grad 6.0000</text>\n</g>\n<!-- 136221639981520* -->\n<g id=\"node9\" class=\"node\">\n<title>136221639981520*</title>\n<ellipse fill=\"none\" stroke=\"black\" cx=\"264\" cy=\"-45.5\" rx=\"27\" ry=\"18\"/>\n<text text-anchor=\"middle\" x=\"264\" y=\"-41.8\" font-family=\"Times,serif\" font-size=\"14.00\">*</text>\n</g>\n<!-- 136222002624640&#45;&gt;136221639981520* -->\n<g id=\"edge4\" class=\"edge\">\n<title>136222002624640&#45;&gt;136221639981520*</title>\n<path fill=\"none\" stroke=\"black\" d=\"M196.85,-56.97C207.76,-55.08 218.31,-53.25 227.66,-51.63\"/>\n<polygon fill=\"black\" stroke=\"black\" points=\"228.4,-55.05 237.65,-49.89 227.2,-48.15 228.4,-55.05\"/>\n</g>\n<!-- 136222002620704 -->\n<g id=\"node6\" class=\"node\">\n<title>136222002620704</title>\n<polygon fill=\"none\" stroke=\"black\" points=\"0,-0.5 0,-36.5 201,-36.5 201,-0.5 0,-0.5\"/>\n<text text-anchor=\"middle\" x=\"11.5\" y=\"-14.8\" font-family=\"Times,serif\" font-size=\"14.00\">b</text>\n<polyline fill=\"none\" stroke=\"black\" points=\"23,-0.5 23,-36.5 \"/>\n<text text-anchor=\"middle\" x=\"65.5\" y=\"-14.8\" font-family=\"Times,serif\" font-size=\"14.00\">data &#45;3.2000</text>\n<polyline fill=\"none\" stroke=\"black\" points=\"108,-0.5 108,-36.5 \"/>\n<text text-anchor=\"middle\" x=\"154.5\" y=\"-14.8\" font-family=\"Times,serif\" font-size=\"14.00\">grad &#45;20.0000</text>\n</g>\n<!-- 136222002620704&#45;&gt;136221639981520* -->\n<g id=\"edge6\" class=\"edge\">\n<title>136222002620704&#45;&gt;136221639981520*</title>\n<path fill=\"none\" stroke=\"black\" d=\"M201.02,-35.14C210.41,-36.71 219.44,-38.22 227.56,-39.58\"/>\n<polygon fill=\"black\" stroke=\"black\" points=\"227.24,-43.07 237.68,-41.27 228.39,-36.17 227.24,-43.07\"/>\n</g>\n<!-- 136222002623344 -->\n<g id=\"node7\" class=\"node\">\n<title>136222002623344</title>\n<polygon fill=\"none\" stroke=\"black\" points=\"329.5,-82.5 329.5,-118.5 518.5,-118.5 518.5,-82.5 329.5,-82.5\"/>\n<text text-anchor=\"middle\" x=\"341\" y=\"-96.8\" font-family=\"Times,serif\" font-size=\"14.00\">c</text>\n<polyline fill=\"none\" stroke=\"black\" points=\"352.5,-82.5 352.5,-118.5 \"/>\n<text text-anchor=\"middle\" x=\"392.5\" y=\"-96.8\" font-family=\"Times,serif\" font-size=\"14.00\">data 9.9800</text>\n<polyline fill=\"none\" stroke=\"black\" points=\"432.5,-82.5 432.5,-118.5 \"/>\n<text text-anchor=\"middle\" x=\"475.5\" y=\"-96.8\" font-family=\"Times,serif\" font-size=\"14.00\">grad &#45;2.0000</text>\n</g>\n<!-- 136222002623344&#45;&gt;136221639978592+ -->\n<g id=\"edge7\" class=\"edge\">\n<title>136222002623344&#45;&gt;136221639978592+</title>\n<path fill=\"none\" stroke=\"black\" d=\"M518.74,-83.89C529.05,-82.06 539.02,-80.29 547.9,-78.72\"/>\n<polygon fill=\"black\" stroke=\"black\" points=\"548.55,-82.16 557.79,-76.97 547.33,-75.27 548.55,-82.16\"/>\n</g>\n<!-- 136221639981520 -->\n<g id=\"node8\" class=\"node\">\n<title>136221639981520</title>\n<polygon fill=\"none\" stroke=\"black\" points=\"327,-27.5 327,-63.5 521,-63.5 521,-27.5 327,-27.5\"/>\n<text text-anchor=\"middle\" x=\"337\" y=\"-41.8\" font-family=\"Times,serif\" font-size=\"14.00\"> </text>\n<polyline fill=\"none\" stroke=\"black\" points=\"347,-27.5 347,-63.5 \"/>\n<text text-anchor=\"middle\" x=\"393\" y=\"-41.8\" font-family=\"Times,serif\" font-size=\"14.00\">data &#45;32.1920</text>\n<polyline fill=\"none\" stroke=\"black\" points=\"439,-27.5 439,-63.5 \"/>\n<text text-anchor=\"middle\" x=\"480\" y=\"-41.8\" font-family=\"Times,serif\" font-size=\"14.00\">grad 0.0000</text>\n</g>\n<!-- 136221639981520&#45;&gt;136221639978592+ -->\n<g id=\"edge8\" class=\"edge\">\n<title>136221639981520&#45;&gt;136221639978592+</title>\n<path fill=\"none\" stroke=\"black\" d=\"M521.01,-61.91C530.35,-63.5 539.37,-65.04 547.49,-66.43\"/>\n<polygon fill=\"black\" stroke=\"black\" points=\"547.16,-69.93 557.6,-68.16 548.34,-63.03 547.16,-69.93\"/>\n</g>\n<!-- 136221639981520*&#45;&gt;136221639981520 -->\n<g id=\"edge3\" class=\"edge\">\n<title>136221639981520*&#45;&gt;136221639981520</title>\n<path fill=\"none\" stroke=\"black\" d=\"M291.09,-45.5C298.62,-45.5 307.34,-45.5 316.63,-45.5\"/>\n<polygon fill=\"black\" stroke=\"black\" points=\"316.92,-49 326.92,-45.5 316.92,-42 316.92,-49\"/>\n</g>\n<!-- 136222002626032 -->\n<g id=\"node10\" class=\"node\">\n<title>136222002626032</title>\n<polygon fill=\"none\" stroke=\"black\" points=\"647,-109.5 647,-145.5 846,-145.5 846,-109.5 647,-109.5\"/>\n<text text-anchor=\"middle\" x=\"657.5\" y=\"-123.8\" font-family=\"Times,serif\" font-size=\"14.00\">f</text>\n<polyline fill=\"none\" stroke=\"black\" points=\"668,-109.5 668,-145.5 \"/>\n<text text-anchor=\"middle\" x=\"710.5\" y=\"-123.8\" font-family=\"Times,serif\" font-size=\"14.00\">data &#45;2.2000</text>\n<polyline fill=\"none\" stroke=\"black\" points=\"753,-109.5 753,-145.5 \"/>\n<text text-anchor=\"middle\" x=\"799.5\" y=\"-123.8\" font-family=\"Times,serif\" font-size=\"14.00\">grad &#45;20.0000</text>\n</g>\n<!-- 136222002626032&#45;&gt;136221639977584* -->\n<g id=\"edge9\" class=\"edge\">\n<title>136222002626032&#45;&gt;136221639977584*</title>\n<path fill=\"none\" stroke=\"black\" d=\"M846.41,-110.25C855.65,-108.63 864.54,-107.08 872.55,-105.68\"/>\n<polygon fill=\"black\" stroke=\"black\" points=\"873.29,-109.11 882.54,-103.94 872.08,-102.21 873.29,-109.11\"/>\n</g>\n</g>\n</svg>\n",
            "text/plain": [
              "<graphviz.graphs.Digraph at 0x7be3e147b1f0>"
            ]
          },
          "metadata": {},
          "execution_count": 127
        }
      ],
      "source": [
        "\n",
        "draw_dot(L)"
      ]
    },
    {
      "cell_type": "markdown",
      "metadata": {
        "id": "pT0qC-U1IaGI"
      },
      "source": [
        "## 📍 Important notes, Read again and rewrite clearly\n",
        "\n",
        "Above image or process shows forward pass\n",
        "\n",
        "givving multiple inputs and getting single output L\n",
        "\n",
        "and output of the forward pass is L = 40.0\n",
        "\n",
        "Now, next we would like to run backpropagation\n",
        "\n",
        "In back P, we start from the end L and reverse and calculate the gradient along all these intermediate values.\n",
        "\n",
        "and we have to derive a derivative of L with respect to all the parameters\n",
        "\n",
        "calculating derivative of L wrt f, d , c, e, b, and a\n",
        "\n",
        "> ✅ We would be very intrested in the derivative of loss function L with respect to weights of a neural networs\n",
        "\n",
        "Some of these labes represents the weights of the NN\n",
        "\n",
        "So, we will need to know how those weights are impacting the loss function\n",
        "\n",
        "so we are interesting in. dereivative of output wrt some of its leaf nodes, and those leaf nodes will be the weights of the neural nets.\n",
        "\n",
        "other leaf nodes are the data itself, But we will not use the derivative of loss function wrt data beacause the data is fixed, but the weights will be iterating on using gradient information"
      ]
    },
    {
      "cell_type": "markdown",
      "metadata": {
        "id": "uSvjXNQnPx6S"
      },
      "source": [
        "# 📍Important -> creating a variable inside a Value class\n",
        "\n",
        "that maintains the derivative of L WRT that value, call this variable `grad`"
      ]
    },
    {
      "cell_type": "markdown",
      "metadata": {
        "id": "s3R8IuytghlU"
      },
      "source": [
        "# Manual Back propagation\n",
        "\n",
        "- `grad` variable representing gradient of L WRT each label\n",
        "\n",
        "so for `L` how much does `L` change? it changes by `h`. so derivative or `L` WRT `L` would be `1`.\n",
        "\n",
        "We can measure this with numerics as well."
      ]
    },
    {
      "cell_type": "markdown",
      "metadata": {
        "id": "p77WxxmKPdYV"
      },
      "source": [
        "L.grad = 1.0"
      ]
    },
    {
      "cell_type": "code",
      "execution_count": 17,
      "metadata": {
        "colab": {
          "base_uri": "https://localhost:8080/",
          "height": 249
        },
        "id": "OlUpQqgvPorM",
        "outputId": "f2f9be2a-69ff-47de-90ff-8a19aa6c202a"
      },
      "outputs": [
        {
          "output_type": "execute_result",
          "data": {
            "image/svg+xml": "<?xml version=\"1.0\" encoding=\"UTF-8\" standalone=\"no\"?>\n<!DOCTYPE svg PUBLIC \"-//W3C//DTD SVG 1.1//EN\"\n \"http://www.w3.org/Graphics/SVG/1.1/DTD/svg11.dtd\">\n<!-- Generated by graphviz version 2.43.0 (0)\n -->\n<!-- Title: %3 Pages: 1 -->\n<svg width=\"1166pt\" height=\"156pt\"\n viewBox=\"0.00 0.00 1166.00 156.00\" xmlns=\"http://www.w3.org/2000/svg\" xmlns:xlink=\"http://www.w3.org/1999/xlink\">\n<g id=\"graph0\" class=\"graph\" transform=\"scale(1 1) rotate(0) translate(4 152)\">\n<title>%3</title>\n<polygon fill=\"white\" stroke=\"transparent\" points=\"-4,4 -4,-152 1162,-152 1162,4 -4,4\"/>\n<!-- 136222002624640 -->\n<g id=\"node1\" class=\"node\">\n<title>136222002624640</title>\n<polygon fill=\"none\" stroke=\"black\" points=\"0,-111.5 0,-147.5 192,-147.5 192,-111.5 0,-111.5\"/>\n<text text-anchor=\"middle\" x=\"11.5\" y=\"-125.8\" font-family=\"Times,serif\" font-size=\"14.00\">a</text>\n<polyline fill=\"none\" stroke=\"black\" points=\"23,-111.5 23,-147.5 \"/>\n<text text-anchor=\"middle\" x=\"66.5\" y=\"-125.8\" font-family=\"Times,serif\" font-size=\"14.00\">data 10.0000</text>\n<polyline fill=\"none\" stroke=\"black\" points=\"110,-111.5 110,-147.5 \"/>\n<text text-anchor=\"middle\" x=\"151\" y=\"-125.8\" font-family=\"Times,serif\" font-size=\"14.00\">grad 0.0000</text>\n</g>\n<!-- 136222002617296* -->\n<g id=\"node9\" class=\"node\">\n<title>136222002617296*</title>\n<ellipse fill=\"none\" stroke=\"black\" cx=\"255\" cy=\"-101.5\" rx=\"27\" ry=\"18\"/>\n<text text-anchor=\"middle\" x=\"255\" y=\"-97.8\" font-family=\"Times,serif\" font-size=\"14.00\">*</text>\n</g>\n<!-- 136222002624640&#45;&gt;136222002617296* -->\n<g id=\"edge7\" class=\"edge\">\n<title>136222002624640&#45;&gt;136222002617296*</title>\n<path fill=\"none\" stroke=\"black\" d=\"M192.4,-112.49C201.69,-110.83 210.64,-109.23 218.71,-107.79\"/>\n<polygon fill=\"black\" stroke=\"black\" points=\"219.53,-111.2 228.76,-106 218.31,-104.31 219.53,-111.2\"/>\n</g>\n<!-- 136222028597424 -->\n<g id=\"node2\" class=\"node\">\n<title>136222028597424</title>\n<polygon fill=\"none\" stroke=\"black\" points=\"641,-55.5 641,-91.5 838,-91.5 838,-55.5 641,-55.5\"/>\n<text text-anchor=\"middle\" x=\"652.5\" y=\"-69.8\" font-family=\"Times,serif\" font-size=\"14.00\">d</text>\n<polyline fill=\"none\" stroke=\"black\" points=\"664,-55.5 664,-91.5 \"/>\n<text text-anchor=\"middle\" x=\"710\" y=\"-69.8\" font-family=\"Times,serif\" font-size=\"14.00\">data &#45;20.0000</text>\n<polyline fill=\"none\" stroke=\"black\" points=\"756,-55.5 756,-91.5 \"/>\n<text text-anchor=\"middle\" x=\"797\" y=\"-69.8\" font-family=\"Times,serif\" font-size=\"14.00\">grad 0.0000</text>\n</g>\n<!-- 136222002624880* -->\n<g id=\"node7\" class=\"node\">\n<title>136222002624880*</title>\n<ellipse fill=\"none\" stroke=\"black\" cx=\"901\" cy=\"-45.5\" rx=\"27\" ry=\"18\"/>\n<text text-anchor=\"middle\" x=\"901\" y=\"-41.8\" font-family=\"Times,serif\" font-size=\"14.00\">*</text>\n</g>\n<!-- 136222028597424&#45;&gt;136222002624880* -->\n<g id=\"edge9\" class=\"edge\">\n<title>136222028597424&#45;&gt;136222002624880*</title>\n<path fill=\"none\" stroke=\"black\" d=\"M838.33,-56.33C847.66,-54.69 856.64,-53.11 864.72,-51.69\"/>\n<polygon fill=\"black\" stroke=\"black\" points=\"865.54,-55.1 874.78,-49.93 864.33,-48.21 865.54,-55.1\"/>\n</g>\n<!-- 136222028597424+ -->\n<g id=\"node3\" class=\"node\">\n<title>136222028597424+</title>\n<ellipse fill=\"none\" stroke=\"black\" cx=\"578\" cy=\"-73.5\" rx=\"27\" ry=\"18\"/>\n<text text-anchor=\"middle\" x=\"578\" y=\"-69.8\" font-family=\"Times,serif\" font-size=\"14.00\">+</text>\n</g>\n<!-- 136222028597424+&#45;&gt;136222028597424 -->\n<g id=\"edge1\" class=\"edge\">\n<title>136222028597424+&#45;&gt;136222028597424</title>\n<path fill=\"none\" stroke=\"black\" d=\"M605.34,-73.5C612.81,-73.5 621.44,-73.5 630.64,-73.5\"/>\n<polygon fill=\"black\" stroke=\"black\" points=\"630.83,-77 640.83,-73.5 630.83,-70 630.83,-77\"/>\n</g>\n<!-- 136222002623344 -->\n<g id=\"node4\" class=\"node\">\n<title>136222002623344</title>\n<polygon fill=\"none\" stroke=\"black\" points=\"320.5,-28.5 320.5,-64.5 512.5,-64.5 512.5,-28.5 320.5,-28.5\"/>\n<text text-anchor=\"middle\" x=\"332\" y=\"-42.8\" font-family=\"Times,serif\" font-size=\"14.00\">c</text>\n<polyline fill=\"none\" stroke=\"black\" points=\"343.5,-28.5 343.5,-64.5 \"/>\n<text text-anchor=\"middle\" x=\"387\" y=\"-42.8\" font-family=\"Times,serif\" font-size=\"14.00\">data 10.0000</text>\n<polyline fill=\"none\" stroke=\"black\" points=\"430.5,-28.5 430.5,-64.5 \"/>\n<text text-anchor=\"middle\" x=\"471.5\" y=\"-42.8\" font-family=\"Times,serif\" font-size=\"14.00\">grad 0.0000</text>\n</g>\n<!-- 136222002623344&#45;&gt;136222028597424+ -->\n<g id=\"edge5\" class=\"edge\">\n<title>136222002623344&#45;&gt;136222028597424+</title>\n<path fill=\"none\" stroke=\"black\" d=\"M512.58,-62.6C522.94,-64.35 532.94,-66.04 541.85,-67.55\"/>\n<polygon fill=\"black\" stroke=\"black\" points=\"541.31,-71.01 551.75,-69.23 542.48,-64.11 541.31,-71.01\"/>\n</g>\n<!-- 136222002620704 -->\n<g id=\"node5\" class=\"node\">\n<title>136222002620704</title>\n<polygon fill=\"none\" stroke=\"black\" points=\"1,-56.5 1,-92.5 191,-92.5 191,-56.5 1,-56.5\"/>\n<text text-anchor=\"middle\" x=\"12.5\" y=\"-70.8\" font-family=\"Times,serif\" font-size=\"14.00\">b</text>\n<polyline fill=\"none\" stroke=\"black\" points=\"24,-56.5 24,-92.5 \"/>\n<text text-anchor=\"middle\" x=\"66.5\" y=\"-70.8\" font-family=\"Times,serif\" font-size=\"14.00\">data &#45;3.0000</text>\n<polyline fill=\"none\" stroke=\"black\" points=\"109,-56.5 109,-92.5 \"/>\n<text text-anchor=\"middle\" x=\"150\" y=\"-70.8\" font-family=\"Times,serif\" font-size=\"14.00\">grad 0.0000</text>\n</g>\n<!-- 136222002620704&#45;&gt;136222002617296* -->\n<g id=\"edge8\" class=\"edge\">\n<title>136222002620704&#45;&gt;136222002617296*</title>\n<path fill=\"none\" stroke=\"black\" d=\"M191.05,-90.67C200.78,-92.35 210.18,-93.96 218.62,-95.42\"/>\n<polygon fill=\"black\" stroke=\"black\" points=\"218.3,-98.91 228.75,-97.16 219.49,-92.01 218.3,-98.91\"/>\n</g>\n<!-- 136222002624880 -->\n<g id=\"node6\" class=\"node\">\n<title>136222002624880</title>\n<polygon fill=\"none\" stroke=\"black\" points=\"964,-27.5 964,-63.5 1158,-63.5 1158,-27.5 964,-27.5\"/>\n<text text-anchor=\"middle\" x=\"976.5\" y=\"-41.8\" font-family=\"Times,serif\" font-size=\"14.00\">L</text>\n<polyline fill=\"none\" stroke=\"black\" points=\"989,-27.5 989,-63.5 \"/>\n<text text-anchor=\"middle\" x=\"1032.5\" y=\"-41.8\" font-family=\"Times,serif\" font-size=\"14.00\">data 40.0000</text>\n<polyline fill=\"none\" stroke=\"black\" points=\"1076,-27.5 1076,-63.5 \"/>\n<text text-anchor=\"middle\" x=\"1117\" y=\"-41.8\" font-family=\"Times,serif\" font-size=\"14.00\">grad 0.0000</text>\n</g>\n<!-- 136222002624880*&#45;&gt;136222002624880 -->\n<g id=\"edge2\" class=\"edge\">\n<title>136222002624880*&#45;&gt;136222002624880</title>\n<path fill=\"none\" stroke=\"black\" d=\"M928.09,-45.5C935.62,-45.5 944.34,-45.5 953.63,-45.5\"/>\n<polygon fill=\"black\" stroke=\"black\" points=\"953.92,-49 963.92,-45.5 953.92,-42 953.92,-49\"/>\n</g>\n<!-- 136222002617296 -->\n<g id=\"node8\" class=\"node\">\n<title>136222002617296</title>\n<polygon fill=\"none\" stroke=\"black\" points=\"318,-83.5 318,-119.5 515,-119.5 515,-83.5 318,-83.5\"/>\n<text text-anchor=\"middle\" x=\"329.5\" y=\"-97.8\" font-family=\"Times,serif\" font-size=\"14.00\">e</text>\n<polyline fill=\"none\" stroke=\"black\" points=\"341,-83.5 341,-119.5 \"/>\n<text text-anchor=\"middle\" x=\"387\" y=\"-97.8\" font-family=\"Times,serif\" font-size=\"14.00\">data &#45;30.0000</text>\n<polyline fill=\"none\" stroke=\"black\" points=\"433,-83.5 433,-119.5 \"/>\n<text text-anchor=\"middle\" x=\"474\" y=\"-97.8\" font-family=\"Times,serif\" font-size=\"14.00\">grad 0.0000</text>\n</g>\n<!-- 136222002617296&#45;&gt;136222028597424+ -->\n<g id=\"edge4\" class=\"edge\">\n<title>136222002617296&#45;&gt;136222028597424+</title>\n<path fill=\"none\" stroke=\"black\" d=\"M515.33,-84.33C524.66,-82.69 533.64,-81.11 541.72,-79.69\"/>\n<polygon fill=\"black\" stroke=\"black\" points=\"542.54,-83.1 551.78,-77.93 541.33,-76.21 542.54,-83.1\"/>\n</g>\n<!-- 136222002617296*&#45;&gt;136222002617296 -->\n<g id=\"edge3\" class=\"edge\">\n<title>136222002617296*&#45;&gt;136222002617296</title>\n<path fill=\"none\" stroke=\"black\" d=\"M282.34,-101.5C289.81,-101.5 298.44,-101.5 307.64,-101.5\"/>\n<polygon fill=\"black\" stroke=\"black\" points=\"307.83,-105 317.83,-101.5 307.83,-98 307.83,-105\"/>\n</g>\n<!-- 136222002626032 -->\n<g id=\"node10\" class=\"node\">\n<title>136222002626032</title>\n<polygon fill=\"none\" stroke=\"black\" points=\"645.5,-0.5 645.5,-36.5 833.5,-36.5 833.5,-0.5 645.5,-0.5\"/>\n<text text-anchor=\"middle\" x=\"656\" y=\"-14.8\" font-family=\"Times,serif\" font-size=\"14.00\">f</text>\n<polyline fill=\"none\" stroke=\"black\" points=\"666.5,-0.5 666.5,-36.5 \"/>\n<text text-anchor=\"middle\" x=\"709\" y=\"-14.8\" font-family=\"Times,serif\" font-size=\"14.00\">data &#45;2.0000</text>\n<polyline fill=\"none\" stroke=\"black\" points=\"751.5,-0.5 751.5,-36.5 \"/>\n<text text-anchor=\"middle\" x=\"792.5\" y=\"-14.8\" font-family=\"Times,serif\" font-size=\"14.00\">grad 0.0000</text>\n</g>\n<!-- 136222002626032&#45;&gt;136222002624880* -->\n<g id=\"edge6\" class=\"edge\">\n<title>136222002626032&#45;&gt;136222002624880*</title>\n<path fill=\"none\" stroke=\"black\" d=\"M833.74,-34.28C844.64,-36.13 855.19,-37.91 864.55,-39.5\"/>\n<polygon fill=\"black\" stroke=\"black\" points=\"864.12,-42.98 874.56,-41.19 865.29,-36.07 864.12,-42.98\"/>\n</g>\n</g>\n</svg>\n",
            "text/plain": [
              "<graphviz.graphs.Digraph at 0x7be4a8170250>"
            ]
          },
          "metadata": {},
          "execution_count": 17
        }
      ],
      "source": [
        "# to draw ndoes\n",
        "draw_dot(L)"
      ]
    },
    {
      "cell_type": "code",
      "execution_count": 18,
      "metadata": {
        "id": "eM9P3TbeP3JO"
      },
      "outputs": [],
      "source": [
        "# L = d * f\n",
        "\n",
        "# dL/dd = ? f\n",
        "\n",
        "# (f(x + h)-f(x))/h\n",
        "\n",
        "# ((d+h)*f - d*f) / h\n",
        "# (d*f + f*h - d*f) / h\n",
        "# (f*h) / h\n",
        "# f"
      ]
    },
    {
      "cell_type": "markdown",
      "metadata": {
        "id": "zsIAwF1AKouu"
      },
      "source": [
        "## (*) node\n",
        "\n",
        "dL/dd = f and dL/df = d\n",
        "\n",
        "double chack by bumping up that variable by h in below method"
      ]
    },
    {
      "cell_type": "markdown",
      "metadata": {
        "id": "unC44uOaRE-M"
      },
      "source": [
        "so dL/dd = value of `f`\n",
        "and dL/df = value of `d`\n",
        "\n",
        "\n",
        "1. dL/dd\n",
        "2. dL/df\n",
        "3. dL/de\n",
        "4. dL/dc\n",
        "5. dL/da\n",
        "6. dL/db"
      ]
    },
    {
      "cell_type": "code",
      "execution_count": 19,
      "metadata": {
        "id": "ZJk61aeJPitO"
      },
      "outputs": [],
      "source": [
        "L.grad = 1.0"
      ]
    },
    {
      "cell_type": "code",
      "execution_count": 20,
      "metadata": {
        "id": "V8v-5AnoRQXC"
      },
      "outputs": [],
      "source": [
        "d.grad = -2.0\n",
        "f.grad = -20.0"
      ]
    },
    {
      "cell_type": "markdown",
      "metadata": {
        "id": "qym61xqDLKY6"
      },
      "source": [
        "Doing kind of inline gradient check.\n",
        "\n",
        "## Gradient check\n",
        "when we deriveing backpropagation and getting derivative WRT all the intermediate results. and numerical gradient is just estimating using small step size `h`\n",
        "\n",
        "## 📍 Now understand **CRUX** of the backpropagation, The most important node to understand (+) node\n",
        "\n",
        "> 💡  If you understand gradient for this node then you understand all backpropagation and all training of neural nets.\n",
        "\n",
        "**Need to derive dL/dc (derivative of L wrt c)**\n",
        "\n",
        "we have already computed gradient for other d and f params. and continuing the backpropagation manually\n",
        "\n",
        "so we want dL/dc and also dL/de\n",
        "\n",
        "**✍️NOTE: For intuision look at the diagra**\n",
        "\n",
        "**problem:** How do we derive dL/dc?\n",
        "- we know dL/dd, we know how `L` is sensitive to `d`\n",
        "- but how is `L` sensitive to `c` ?\n",
        "- so, we know dL/dd, and we also know how `c` impacts `d`.\n",
        "- intuatively if you know the impact that `c` is having on `d` and impact that `d` is having on `L`.\n",
        "- Then we should be shomehow able to putting them together to figure out how `c` impacts `L`.\n",
        "\n",
        "so let's look at **what is dd/dc?**\n",
        "\n",
        "dd/dc = ?\n",
        "\n",
        "we know function(equation of) of d\n",
        "\n",
        "d = c + e\n",
        "\n",
        "if you know calculas and remember, diferentiating `c + e` WRT `c`, that gives `1.0`.\n",
        "\n",
        "and we can go to basics and derive it by bumping it up by value h\n",
        "\n",
        "(f(x+h)-f(x))/h\n",
        "\n",
        "((c+h+e)-(c+e))/h    here c+e c+e got cancel out and left with h. and h/h = 1\n",
        "\n",
        "(c + h + e - c - e))/h\n",
        "\n",
        "h/h = 1\n",
        "\n",
        "so,\n",
        "\n",
        "dd/dc = 1.0 and by this\n",
        "\n",
        "dd/de = 1.0\n",
        "\n",
        "- so derivative of (+)sum expression is very simple.\n",
        "- and this is the local derivative.\n",
        "- calling it local derivative because we have the final o/p value at all the way at the end of the graph.\n",
        "- and now we are like a small node(+) here. and (+) node doesn't know anything about the rest of the graph that's embedded in.\n",
        "- all it knows is that it did plus(+). it took `c` and `e` and added them and created `d`. and (+) node also knows the local influence of c on d or rathare dd/dc and also knows dd/de.\n",
        "- But that's not just that we want. That's just a local derivative.\n",
        "- What we actualy want is dL/dc.\n",
        "- L is just one step away here. but in general case this plus node could be embedded in like a massive graph.\n",
        "\n",
        "\n",
        "- so we know how d impacts l, and how c and e impacts d how do we put that information together to write dL/dc and the **ans is THE CHAIN RULE.** in calculas\n",
        "\n",
        "# The Chain Rule\n",
        "\n",
        "Refere: [link](https://youtu.be/H-ybCx8gt-8?si=boPU0WpoXRmFdtl7)\n",
        "\n",
        "$$ \\frac{dz}{dx} = \\frac{dz}{dy} . \\frac{dy}{dx}, $$\n",
        "\n",
        "Fundamentally it's telling you how we chain these derivatives together correctly.\n",
        "\n",
        "to differentiate through a function composition we have to apply multiplication of those derivatives\n",
        "\n",
        "> Intuitively, the chain rule states that knowing the instantaneous rate of change of z relative to y and that of y relative to x allows one to calculate the instantaneous rate of change of z relative to x as the product of the two rates of change. [Wikipedia].\n",
        "\n",
        "\n",
        "so to do this we multiply derivatives\n",
        "\n",
        "WANT:\n",
        "\n",
        "dL/dc = ( dL/dd) * (dd/dc). # chain rule\n",
        "\n",
        "KNOW:\n",
        "\n",
        "dL/dd\n",
        "\n",
        "dd/dc\n",
        "\n",
        "- because local derivative dd/dc is 1 we just copy over the dL/dc * 1\n",
        "\n",
        "- because dL/dd is -2.000 what is dL/dc? its local gradient(1.0) times dL/dd.\n",
        "  which is -2.0\n",
        "\n",
        "So what a + node does is litrely just routes the gradient beacause the pluse node's local derivative is just 1 . so in chain rule 1 times dL/dd is just dL/dd.\n",
        "\n",
        "so derivative just gets routed to both c and e"
      ]
    },
    {
      "cell_type": "code",
      "execution_count": 21,
      "metadata": {
        "id": "a0ZXEs0gifzs"
      },
      "outputs": [],
      "source": [
        "e.grad = -2.0\n",
        "c.grad = -2.0"
      ]
    },
    {
      "cell_type": "markdown",
      "metadata": {
        "id": "OHUS-7DKlrBy"
      },
      "source": [
        "Now finally we left with last two parameters a and b which is multiplication node.\n",
        "\n",
        "and we have already discussed about so apply chain rule and get output.\n",
        "\n",
        "e = a * b\n",
        "\n",
        "loca derivative de/da = b and de/db = a\n",
        "\n",
        "so\n",
        "\n",
        "dL/da = dL/de (we already know)* de/da\n",
        "\n",
        "dL/da = -2.0 * -3.0  = 6\n",
        "\n",
        "and\n",
        "\n",
        "dL/db = -2.0 * 10.0 = -20.0\n"
      ]
    },
    {
      "cell_type": "code",
      "execution_count": 22,
      "metadata": {
        "id": "sQfeFtL8niSn"
      },
      "outputs": [],
      "source": [
        "a.grad = 6.0\n",
        "b.grad = -20.0"
      ]
    },
    {
      "cell_type": "code",
      "execution_count": 23,
      "metadata": {
        "colab": {
          "base_uri": "https://localhost:8080/",
          "height": 249
        },
        "id": "mZLNeCofI_Fo",
        "outputId": "e1189ff8-2af8-443c-e903-f3bfc645ac2f"
      },
      "outputs": [
        {
          "output_type": "execute_result",
          "data": {
            "image/svg+xml": "<?xml version=\"1.0\" encoding=\"UTF-8\" standalone=\"no\"?>\n<!DOCTYPE svg PUBLIC \"-//W3C//DTD SVG 1.1//EN\"\n \"http://www.w3.org/Graphics/SVG/1.1/DTD/svg11.dtd\">\n<!-- Generated by graphviz version 2.43.0 (0)\n -->\n<!-- Title: %3 Pages: 1 -->\n<svg width=\"1183pt\" height=\"156pt\"\n viewBox=\"0.00 0.00 1183.00 156.00\" xmlns=\"http://www.w3.org/2000/svg\" xmlns:xlink=\"http://www.w3.org/1999/xlink\">\n<g id=\"graph0\" class=\"graph\" transform=\"scale(1 1) rotate(0) translate(4 152)\">\n<title>%3</title>\n<polygon fill=\"white\" stroke=\"transparent\" points=\"-4,4 -4,-152 1179,-152 1179,4 -4,4\"/>\n<!-- 136222002624640 -->\n<g id=\"node1\" class=\"node\">\n<title>136222002624640</title>\n<polygon fill=\"none\" stroke=\"black\" points=\"4.5,-111.5 4.5,-147.5 196.5,-147.5 196.5,-111.5 4.5,-111.5\"/>\n<text text-anchor=\"middle\" x=\"16\" y=\"-125.8\" font-family=\"Times,serif\" font-size=\"14.00\">a</text>\n<polyline fill=\"none\" stroke=\"black\" points=\"27.5,-111.5 27.5,-147.5 \"/>\n<text text-anchor=\"middle\" x=\"71\" y=\"-125.8\" font-family=\"Times,serif\" font-size=\"14.00\">data 10.0000</text>\n<polyline fill=\"none\" stroke=\"black\" points=\"114.5,-111.5 114.5,-147.5 \"/>\n<text text-anchor=\"middle\" x=\"155.5\" y=\"-125.8\" font-family=\"Times,serif\" font-size=\"14.00\">grad 6.0000</text>\n</g>\n<!-- 136222002617296* -->\n<g id=\"node9\" class=\"node\">\n<title>136222002617296*</title>\n<ellipse fill=\"none\" stroke=\"black\" cx=\"264\" cy=\"-101.5\" rx=\"27\" ry=\"18\"/>\n<text text-anchor=\"middle\" x=\"264\" y=\"-97.8\" font-family=\"Times,serif\" font-size=\"14.00\">*</text>\n</g>\n<!-- 136222002624640&#45;&gt;136222002617296* -->\n<g id=\"edge7\" class=\"edge\">\n<title>136222002624640&#45;&gt;136222002617296*</title>\n<path fill=\"none\" stroke=\"black\" d=\"M196.85,-112.97C207.76,-111.08 218.31,-109.25 227.66,-107.63\"/>\n<polygon fill=\"black\" stroke=\"black\" points=\"228.4,-111.05 237.65,-105.89 227.2,-104.15 228.4,-111.05\"/>\n</g>\n<!-- 136222028597424 -->\n<g id=\"node2\" class=\"node\">\n<title>136222028597424</title>\n<polygon fill=\"none\" stroke=\"black\" points=\"654,-55.5 654,-91.5 855,-91.5 855,-55.5 654,-55.5\"/>\n<text text-anchor=\"middle\" x=\"665.5\" y=\"-69.8\" font-family=\"Times,serif\" font-size=\"14.00\">d</text>\n<polyline fill=\"none\" stroke=\"black\" points=\"677,-55.5 677,-91.5 \"/>\n<text text-anchor=\"middle\" x=\"723\" y=\"-69.8\" font-family=\"Times,serif\" font-size=\"14.00\">data &#45;20.0000</text>\n<polyline fill=\"none\" stroke=\"black\" points=\"769,-55.5 769,-91.5 \"/>\n<text text-anchor=\"middle\" x=\"812\" y=\"-69.8\" font-family=\"Times,serif\" font-size=\"14.00\">grad &#45;2.0000</text>\n</g>\n<!-- 136222002624880* -->\n<g id=\"node7\" class=\"node\">\n<title>136222002624880*</title>\n<ellipse fill=\"none\" stroke=\"black\" cx=\"918\" cy=\"-45.5\" rx=\"27\" ry=\"18\"/>\n<text text-anchor=\"middle\" x=\"918\" y=\"-41.8\" font-family=\"Times,serif\" font-size=\"14.00\">*</text>\n</g>\n<!-- 136222028597424&#45;&gt;136222002624880* -->\n<g id=\"edge9\" class=\"edge\">\n<title>136222028597424&#45;&gt;136222002624880*</title>\n<path fill=\"none\" stroke=\"black\" d=\"M855.02,-56.25C864.41,-54.62 873.44,-53.05 881.56,-51.64\"/>\n<polygon fill=\"black\" stroke=\"black\" points=\"882.42,-55.05 891.68,-49.89 881.23,-48.15 882.42,-55.05\"/>\n</g>\n<!-- 136222028597424+ -->\n<g id=\"node3\" class=\"node\">\n<title>136222028597424+</title>\n<ellipse fill=\"none\" stroke=\"black\" cx=\"591\" cy=\"-73.5\" rx=\"27\" ry=\"18\"/>\n<text text-anchor=\"middle\" x=\"591\" y=\"-69.8\" font-family=\"Times,serif\" font-size=\"14.00\">+</text>\n</g>\n<!-- 136222028597424+&#45;&gt;136222028597424 -->\n<g id=\"edge1\" class=\"edge\">\n<title>136222028597424+&#45;&gt;136222028597424</title>\n<path fill=\"none\" stroke=\"black\" d=\"M618.31,-73.5C625.79,-73.5 634.44,-73.5 643.68,-73.5\"/>\n<polygon fill=\"black\" stroke=\"black\" points=\"643.9,-77 653.9,-73.5 643.9,-70 643.9,-77\"/>\n</g>\n<!-- 136222002623344 -->\n<g id=\"node4\" class=\"node\">\n<title>136222002623344</title>\n<polygon fill=\"none\" stroke=\"black\" points=\"329.5,-28.5 329.5,-64.5 525.5,-64.5 525.5,-28.5 329.5,-28.5\"/>\n<text text-anchor=\"middle\" x=\"341\" y=\"-42.8\" font-family=\"Times,serif\" font-size=\"14.00\">c</text>\n<polyline fill=\"none\" stroke=\"black\" points=\"352.5,-28.5 352.5,-64.5 \"/>\n<text text-anchor=\"middle\" x=\"396\" y=\"-42.8\" font-family=\"Times,serif\" font-size=\"14.00\">data 10.0000</text>\n<polyline fill=\"none\" stroke=\"black\" points=\"439.5,-28.5 439.5,-64.5 \"/>\n<text text-anchor=\"middle\" x=\"482.5\" y=\"-42.8\" font-family=\"Times,serif\" font-size=\"14.00\">grad &#45;2.0000</text>\n</g>\n<!-- 136222002623344&#45;&gt;136222028597424+ -->\n<g id=\"edge5\" class=\"edge\">\n<title>136222002623344&#45;&gt;136222028597424+</title>\n<path fill=\"none\" stroke=\"black\" d=\"M525.71,-62.75C535.87,-64.45 545.67,-66.09 554.43,-67.55\"/>\n<polygon fill=\"black\" stroke=\"black\" points=\"554.1,-71.05 564.54,-69.24 555.26,-64.14 554.1,-71.05\"/>\n</g>\n<!-- 136222002620704 -->\n<g id=\"node5\" class=\"node\">\n<title>136222002620704</title>\n<polygon fill=\"none\" stroke=\"black\" points=\"0,-56.5 0,-92.5 201,-92.5 201,-56.5 0,-56.5\"/>\n<text text-anchor=\"middle\" x=\"11.5\" y=\"-70.8\" font-family=\"Times,serif\" font-size=\"14.00\">b</text>\n<polyline fill=\"none\" stroke=\"black\" points=\"23,-56.5 23,-92.5 \"/>\n<text text-anchor=\"middle\" x=\"65.5\" y=\"-70.8\" font-family=\"Times,serif\" font-size=\"14.00\">data &#45;3.0000</text>\n<polyline fill=\"none\" stroke=\"black\" points=\"108,-56.5 108,-92.5 \"/>\n<text text-anchor=\"middle\" x=\"154.5\" y=\"-70.8\" font-family=\"Times,serif\" font-size=\"14.00\">grad &#45;20.0000</text>\n</g>\n<!-- 136222002620704&#45;&gt;136222002617296* -->\n<g id=\"edge8\" class=\"edge\">\n<title>136222002620704&#45;&gt;136222002617296*</title>\n<path fill=\"none\" stroke=\"black\" d=\"M201.02,-91.14C210.41,-92.71 219.44,-94.22 227.56,-95.58\"/>\n<polygon fill=\"black\" stroke=\"black\" points=\"227.24,-99.07 237.68,-97.27 228.39,-92.17 227.24,-99.07\"/>\n</g>\n<!-- 136222002624880 -->\n<g id=\"node6\" class=\"node\">\n<title>136222002624880</title>\n<polygon fill=\"none\" stroke=\"black\" points=\"981,-27.5 981,-63.5 1175,-63.5 1175,-27.5 981,-27.5\"/>\n<text text-anchor=\"middle\" x=\"993.5\" y=\"-41.8\" font-family=\"Times,serif\" font-size=\"14.00\">L</text>\n<polyline fill=\"none\" stroke=\"black\" points=\"1006,-27.5 1006,-63.5 \"/>\n<text text-anchor=\"middle\" x=\"1049.5\" y=\"-41.8\" font-family=\"Times,serif\" font-size=\"14.00\">data 40.0000</text>\n<polyline fill=\"none\" stroke=\"black\" points=\"1093,-27.5 1093,-63.5 \"/>\n<text text-anchor=\"middle\" x=\"1134\" y=\"-41.8\" font-family=\"Times,serif\" font-size=\"14.00\">grad 1.0000</text>\n</g>\n<!-- 136222002624880*&#45;&gt;136222002624880 -->\n<g id=\"edge2\" class=\"edge\">\n<title>136222002624880*&#45;&gt;136222002624880</title>\n<path fill=\"none\" stroke=\"black\" d=\"M945.09,-45.5C952.62,-45.5 961.34,-45.5 970.63,-45.5\"/>\n<polygon fill=\"black\" stroke=\"black\" points=\"970.92,-49 980.92,-45.5 970.92,-42 970.92,-49\"/>\n</g>\n<!-- 136222002617296 -->\n<g id=\"node8\" class=\"node\">\n<title>136222002617296</title>\n<polygon fill=\"none\" stroke=\"black\" points=\"327,-83.5 327,-119.5 528,-119.5 528,-83.5 327,-83.5\"/>\n<text text-anchor=\"middle\" x=\"338.5\" y=\"-97.8\" font-family=\"Times,serif\" font-size=\"14.00\">e</text>\n<polyline fill=\"none\" stroke=\"black\" points=\"350,-83.5 350,-119.5 \"/>\n<text text-anchor=\"middle\" x=\"396\" y=\"-97.8\" font-family=\"Times,serif\" font-size=\"14.00\">data &#45;30.0000</text>\n<polyline fill=\"none\" stroke=\"black\" points=\"442,-83.5 442,-119.5 \"/>\n<text text-anchor=\"middle\" x=\"485\" y=\"-97.8\" font-family=\"Times,serif\" font-size=\"14.00\">grad &#45;2.0000</text>\n</g>\n<!-- 136222002617296&#45;&gt;136222028597424+ -->\n<g id=\"edge4\" class=\"edge\">\n<title>136222002617296&#45;&gt;136222028597424+</title>\n<path fill=\"none\" stroke=\"black\" d=\"M528.02,-84.25C537.41,-82.62 546.44,-81.05 554.56,-79.64\"/>\n<polygon fill=\"black\" stroke=\"black\" points=\"555.42,-83.05 564.68,-77.89 554.23,-76.15 555.42,-83.05\"/>\n</g>\n<!-- 136222002617296*&#45;&gt;136222002617296 -->\n<g id=\"edge3\" class=\"edge\">\n<title>136222002617296*&#45;&gt;136222002617296</title>\n<path fill=\"none\" stroke=\"black\" d=\"M291.31,-101.5C298.79,-101.5 307.44,-101.5 316.68,-101.5\"/>\n<polygon fill=\"black\" stroke=\"black\" points=\"316.9,-105 326.9,-101.5 316.9,-98 316.9,-105\"/>\n</g>\n<!-- 136222002626032 -->\n<g id=\"node10\" class=\"node\">\n<title>136222002626032</title>\n<polygon fill=\"none\" stroke=\"black\" points=\"655,-0.5 655,-36.5 854,-36.5 854,-0.5 655,-0.5\"/>\n<text text-anchor=\"middle\" x=\"665.5\" y=\"-14.8\" font-family=\"Times,serif\" font-size=\"14.00\">f</text>\n<polyline fill=\"none\" stroke=\"black\" points=\"676,-0.5 676,-36.5 \"/>\n<text text-anchor=\"middle\" x=\"718.5\" y=\"-14.8\" font-family=\"Times,serif\" font-size=\"14.00\">data &#45;2.0000</text>\n<polyline fill=\"none\" stroke=\"black\" points=\"761,-0.5 761,-36.5 \"/>\n<text text-anchor=\"middle\" x=\"807.5\" y=\"-14.8\" font-family=\"Times,serif\" font-size=\"14.00\">grad &#45;20.0000</text>\n</g>\n<!-- 136222002626032&#45;&gt;136222002624880* -->\n<g id=\"edge6\" class=\"edge\">\n<title>136222002626032&#45;&gt;136222002624880*</title>\n<path fill=\"none\" stroke=\"black\" d=\"M854.1,-34.98C863.79,-36.6 873.13,-38.17 881.51,-39.57\"/>\n<polygon fill=\"black\" stroke=\"black\" points=\"881.12,-43.05 891.56,-41.25 882.27,-36.15 881.12,-43.05\"/>\n</g>\n</g>\n</svg>\n",
            "text/plain": [
              "<graphviz.graphs.Digraph at 0x7be4a813b3d0>"
            ]
          },
          "metadata": {},
          "execution_count": 23
        }
      ],
      "source": [
        "draw_dot(L)"
      ]
    },
    {
      "cell_type": "code",
      "execution_count": 24,
      "metadata": {
        "colab": {
          "base_uri": "https://localhost:8080/"
        },
        "id": "oN3LcdN1lqtN",
        "outputId": "28c5e902-c310-4908-8c0d-0449885197be"
      },
      "outputs": [
        {
          "output_type": "execute_result",
          "data": {
            "text/plain": [
              "-20.0"
            ]
          },
          "metadata": {},
          "execution_count": 24
        }
      ],
      "source": [
        "-2.0 * 10.0"
      ]
    },
    {
      "cell_type": "code",
      "execution_count": 25,
      "metadata": {
        "colab": {
          "base_uri": "https://localhost:8080/"
        },
        "id": "UkOht-4HrBpT",
        "outputId": "b92d8596-138d-481e-a9fb-c43f0b490ffa"
      },
      "outputs": [
        {
          "output_type": "stream",
          "name": "stdout",
          "text": [
            "0.0\n"
          ]
        }
      ],
      "source": [
        "def lol():\n",
        "  h = 0.0001 # increasing any parameter by the small amount of h\n",
        "  # whatever parameter we will add h(bump up by h) then it prints output as dL WRT that parameter.\n",
        "\n",
        "  a = Value(10, label='a')\n",
        "  b = Value(-3.0, label='b')\n",
        "  c = Value(10.0, label='c')\n",
        "  e = a*b; e.label='e'\n",
        "  d = e + c; d.label='d'\n",
        "  f = Value(-2.0, label='f')\n",
        "  L = d * f; L.label = 'L'\n",
        "  L1 = L.data\n",
        "\n",
        "  a = Value(10, label='a')\n",
        "  b = Value(-3.0, label='b')\n",
        "  c = Value(10.0, label='c')\n",
        "  e = a*b; e.label='e'\n",
        "  d = e + c; d.label='d'\n",
        "  f = Value(-2.0, label='f')\n",
        "  L = d * f; L.label = 'L'\n",
        "  L2 = L.data\n",
        "\n",
        "  print((L2 - L1)/h) # rise over run\n",
        "\n",
        "lol()"
      ]
    },
    {
      "cell_type": "markdown",
      "metadata": {
        "id": "d8PKInKRBuIE"
      },
      "source": [
        "So, That is the manual backpropagation, all the way from L(loss/output node) to leaf node. and done it peice by pice.\n",
        "\n",
        "All we done is we iterated from all the node one by one and locally apply the chain rule. we always know the derivative of L WRT this little output and we look at how this output is produced, this output is produced through some operation and we have some pointers to the children node of this operation. and in this little operation we know what the local derivatives are and we just multiply them on to the derivative always. so we go through recursively multiply on the local derivatives and that's what backpropagation is.\n",
        "\n",
        "its just a recursive application of chain rule through computaion graph.\n",
        "\n",
        "Let;s see the power in action\n",
        "\n",
        "a.data change it, if you want L to go up that means we just have to goto the direction of the gradient.\n",
        "\n",
        "change all the leaf node only not the expression one.\n",
        "\n",
        "if we nudge in direction of gradient we expact positive influence on L\n",
        "\n",
        "so we expact L to go UP positively, so it should become less negative. it should go up to say -6 or something like that"
      ]
    },
    {
      "cell_type": "markdown",
      "metadata": {
        "id": "AM6Uu4jlCVRo"
      },
      "source": [
        "> 💡 These gradients give us some power, because know how to influence the final outcome. And this is usefull to train neural nets"
      ]
    },
    {
      "cell_type": "code",
      "execution_count": 26,
      "metadata": {
        "colab": {
          "base_uri": "https://localhost:8080/"
        },
        "id": "2QaSyNwmPG29",
        "outputId": "22f1c304-3a93-4740-a717-764bd86cc3f0"
      },
      "outputs": [
        {
          "output_type": "stream",
          "name": "stdout",
          "text": [
            "48.866400000000006\n"
          ]
        }
      ],
      "source": [
        "a.data += 0.01 * a.grad\n",
        "b.data += 0.01 * b.grad\n",
        "c.data += 0.01 * c.grad\n",
        "f.data += 0.01 * f.grad\n",
        "\n",
        "#rewrite the forward pass\n",
        "\n",
        "e = a*b\n",
        "d = e + c\n",
        "# f will remain unchanged\n",
        "L = d * f;\n",
        "\n",
        "print(L.data)"
      ]
    },
    {
      "cell_type": "markdown",
      "metadata": {
        "id": "djVi_YnsVybz"
      },
      "source": [
        "# One more example of backpropagation using bit more complex and useful example\n",
        "\n",
        "## Goal\n",
        "Backpropagate through a single neuron.\n",
        "\n",
        "## Notes\n",
        "\n",
        "We evantually want to build out neural networs. and in simpler case it is multilayer perceptrons\n",
        "\n",
        "![](https://cs231n.github.io/assets/nn1/neural_net2.jpeg)\n",
        "\n",
        "That's the image of two layer Neural Nets. It has got two hidden layers made up of neurons. And these neurons are fully connected to each other.\n",
        "\n",
        "\n",
        "![](https://cs231n.github.io/assets/nn1/neuron.png)\n",
        "Above image of the biological neuron. And its very complicated devices.\n",
        "\n",
        "But we have very simple mathemetical models of them.\n",
        "\n",
        "Below 👇 is the image of simple mathemetical model of the neuron.\n",
        "\n",
        "![](https://cs231n.github.io/assets/nn1/neuron_model.jpeg)\n",
        "\n",
        "- it hase some input `x`'s (x).\n",
        "- and synapsis that have weights on them. `w`s are weights.\n",
        "- And these synaps interect multiplicatively with input.\n",
        "- So, what flows to the cell body of this neuron is `w*x` (w times x).\n",
        "- There's multiple inputs. so, there's many time `w * x`'s flowing to the cell body.\n",
        "- the cell body also has some bias `b`. This is sortof triggers happiness of neuron. so this bias can make it a bit more trigger happy or bit less trigger happy regardless of the input.\n",
        "\n",
        "Broadly we are taking all the `w * x` of all the inputs adding the bias `b` and then we take it through an activation function.\n",
        "\n",
        "**Activation Function** : is like somekind of squashing function like sigmoid, or tanh or something like that.\n",
        "\n",
        "In this example we are using `tanh`\n"
      ]
    },
    {
      "cell_type": "markdown",
      "metadata": {
        "id": "LrDUkWAwnBJ-"
      },
      "source": [
        "### Tanh Activation Function\n",
        "\n",
        "As you can see the inputs as they come in gets squashed on the `y` cordinate.\n",
        "\n",
        "converting all range of inputs to -1 to 1\n",
        "\n",
        " - right at `0` we will exactly get `0`.\n",
        " - And then you go more positive in the input then you will see that function will only go up to `1` and then plateau out  ?.\n",
        " - meaning if you pass very positive input we are gonna cap it smoothly at positive one 1.\n",
        " - And on negative side we will cap it smoothly to -1 negative one\n",
        " - So, that's the squashing/ activation function applied to the dot product of the weights and the inputs."
      ]
    },
    {
      "cell_type": "code",
      "execution_count": 27,
      "metadata": {
        "colab": {
          "base_uri": "https://localhost:8080/",
          "height": 430
        },
        "id": "mLlIN7GdIQAC",
        "outputId": "a1067de0-f56e-415f-e653-c9a91354c17d"
      },
      "outputs": [
        {
          "output_type": "display_data",
          "data": {
            "text/plain": [
              "<Figure size 640x480 with 1 Axes>"
            ],
            "image/png": "[encoded data removed]"
          },
          "metadata": {}
        }
      ],
      "source": [
        "plt.plot(np.arange(-5,5,0.2), np.tanh(np.arange(-5,5,0.2))); plt.grid();"
      ]
    },
    {
      "cell_type": "code",
      "execution_count": 28,
      "metadata": {
        "id": "6Un1TRMRmxgZ"
      },
      "outputs": [],
      "source": [
        "# inputs x1, x2   2D neuron, so two inputs are gonna comin\n",
        "x1 = Value(2.0, label=\"x1\")\n",
        "x2 = Value(0.0, label=\"x2\")\n",
        "\n",
        "# weights of neuron w1, w2\n",
        "w1 = Value(-3.0, label=\"w1\")\n",
        "w2 = Value(1.0, label=\"w2\")\n",
        "\n",
        "# bias of the neuron\n",
        "b = Value(6.8813, label=\"b\")\n",
        "\n",
        "# (x1*w1) + (x2*w2) + b\n",
        "x1w1 = x1 * w1; x1w1.label = \"x1w1\";\n",
        "x2w2 = x2 * w2; x2w2.label = \"x2w2\";\n",
        "\n",
        "x1w1x2w2 = x1w1 + x2w2; x1w1x2w2.label = \"x1w1x2w2\";\n",
        "\n",
        "n = x1w1x2w2 + b; n.label=\"n\"; # its row body of cell without activation function. this is the part of sum+bias in the neuron\n",
        "\n",
        "# draw_dot(n) # draw the diagram before tanh\n",
        "\n",
        "# Now let's use tanh so that we can produce the final output\n",
        "\n",
        "# o here is output, want output from tanh\n",
        "o = n.tanh(); o.label = 'o' # now we can do these and thats going to return tanhd output of n\n",
        "# draw_dot(o)\n",
        "# 1. we haven;t yet written tanh\n",
        "# now should be able to draww o not n"
      ]
    },
    {
      "cell_type": "markdown",
      "metadata": {
        "id": "T6vBLZz5NN9v"
      },
      "source": [
        "Reason to build a `tanh` function in our Value Class.\n",
        " Its hyperbolic function, and we have only inmplemented so far plus and multiplication. and it can't make it tanh out of + and *. we also need exponentials.\n",
        "\n",
        " From the figure we can see that tanh involves exponentials and we havent yet implemented it yet.\n",
        "\n",
        " $$ tanh \\; x = \\frac{sinh \\; x}{cosh \\; x} = \\frac{e^x - e^{-x}}{e^x + e^{-x}} = \\frac{e^{2x} - 1}{e^{2x} + 1}. $$\n",
        "\n",
        " We can make use of either one of these equeations. So as we not gonna be able to produce tanh because we havent implemented it. so go backup and implement it in a `Value` node.\n",
        "\n",
        " 1 option:\n",
        "\n",
        " - implement exp function and can return exp of tanh value\n",
        " - bcs if we have exp function then we have implemented everything else that we need like add, mul, etc.\n",
        "\n",
        " Purpose:\n",
        " we just dont necceessarly need  to have the most atomic piceses in the `Value` object. we can create a functions at arbitrary point of abstractions. they can be complicated functions or they can be very simple functions like a plus. Its totally up to us.\n",
        "\n",
        " The only thing that matters is that we know how to differenciate through any one function. so we take some input and make some output. the only thing that matters is it can be arbitarily complex function as long as you know how to create a local derivative. If you know the local derivative of how the inputs impact the output then that's all you need.\n",
        "\n",
        " So instead of making `exp()` atomic function, we will cluster up all of the above shown expression and not gonna breack it down to its atomic pieces. just directly implementing the `tanh()`\n",
        "\n",
        "\n",
        " #### After implementation of tanh\n",
        " now tanh is a micrograd supported node.\n",
        " as long as we know derivative of `tanh` then we will be able to backpropagate through it.\n",
        "\n",
        " currently its not quashing too much of bias input as 6.7.\n",
        "\n",
        "\n",
        " if bias increase to 8. we can see the input to the tanh is now 2 and tanh is quashing it to 0.96. so already hiting the tail of the tanh and it will smoothly go upto 1 and plateau out over there.\n",
        "\n",
        " changing this bias from 8 to 6.88 for specific reasons like from backpropagation numbers comeout nice so that we can understand\n",
        "\n",
        " ## Back P\n",
        " - now goint to do backpropagation and filling all the gradients.\n",
        " - so whats is the derivative of `o` wrt all the inputs here.\n",
        " - in tipical nn setting we only care about the most is the derivative on the weights specifically w2, and w1.\n",
        " - bcs those are the weights that we are goint to optimize as part of backpropagation.\n",
        " - Other thing to keep in mind is that we have here is only single neuron. But in the neural net, they have many neurons and they are connected.\n",
        " - so this is like a small neuron a piece of a much bigger puzzle.\n",
        " - and evantually there's a loss function that measures the accuracy of neural net and we're backpropagating wrt that accuracy and trying to increase that.\n",
        "\n",
        "\n"
      ]
    },
    {
      "cell_type": "code",
      "execution_count": 29,
      "metadata": {
        "colab": {
          "base_uri": "https://localhost:8080/",
          "height": 321
        },
        "id": "Lx12x9hiCM1m",
        "outputId": "6a1b4732-2f59-481d-9cd8-4706f2fe3177"
      },
      "outputs": [
        {
          "output_type": "execute_result",
          "data": {
            "image/svg+xml": "<?xml version=\"1.0\" encoding=\"UTF-8\" standalone=\"no\"?>\n<!DOCTYPE svg PUBLIC \"-//W3C//DTD SVG 1.1//EN\"\n \"http://www.w3.org/Graphics/SVG/1.1/DTD/svg11.dtd\">\n<!-- Generated by graphviz version 2.43.0 (0)\n -->\n<!-- Title: %3 Pages: 1 -->\n<svg width=\"1540pt\" height=\"210pt\"\n viewBox=\"0.00 0.00 1540.00 210.00\" xmlns=\"http://www.w3.org/2000/svg\" xmlns:xlink=\"http://www.w3.org/1999/xlink\">\n<g id=\"graph0\" class=\"graph\" transform=\"scale(1 1) rotate(0) translate(4 206)\">\n<title>%3</title>\n<polygon fill=\"white\" stroke=\"transparent\" points=\"-4,4 -4,-206 1536,-206 1536,4 -4,4\"/>\n<!-- 136222002841632 -->\n<g id=\"node1\" class=\"node\">\n<title>136222002841632</title>\n<polygon fill=\"none\" stroke=\"black\" points=\"695.5,-137.5 695.5,-173.5 880.5,-173.5 880.5,-137.5 695.5,-137.5\"/>\n<text text-anchor=\"middle\" x=\"707\" y=\"-151.8\" font-family=\"Times,serif\" font-size=\"14.00\">b</text>\n<polyline fill=\"none\" stroke=\"black\" points=\"718.5,-137.5 718.5,-173.5 \"/>\n<text text-anchor=\"middle\" x=\"758.5\" y=\"-151.8\" font-family=\"Times,serif\" font-size=\"14.00\">data 6.8813</text>\n<polyline fill=\"none\" stroke=\"black\" points=\"798.5,-137.5 798.5,-173.5 \"/>\n<text text-anchor=\"middle\" x=\"839.5\" y=\"-151.8\" font-family=\"Times,serif\" font-size=\"14.00\">grad 0.0000</text>\n</g>\n<!-- 136221640492368+ -->\n<g id=\"node10\" class=\"node\">\n<title>136221640492368+</title>\n<ellipse fill=\"none\" stroke=\"black\" cx=\"973\" cy=\"-127.5\" rx=\"27\" ry=\"18\"/>\n<text text-anchor=\"middle\" x=\"973\" y=\"-123.8\" font-family=\"Times,serif\" font-size=\"14.00\">+</text>\n</g>\n<!-- 136222002841632&#45;&gt;136221640492368+ -->\n<g id=\"edge12\" class=\"edge\">\n<title>136222002841632&#45;&gt;136221640492368+</title>\n<path fill=\"none\" stroke=\"black\" d=\"M880.77,-141.46C900.52,-138.44 920.26,-135.42 936.29,-132.96\"/>\n<polygon fill=\"black\" stroke=\"black\" points=\"936.9,-136.41 946.26,-131.44 935.85,-129.49 936.9,-136.41\"/>\n</g>\n<!-- 136221640500288 -->\n<g id=\"node2\" class=\"node\">\n<title>136221640500288</title>\n<polygon fill=\"none\" stroke=\"black\" points=\"328.5,-110.5 328.5,-146.5 537.5,-146.5 537.5,-110.5 328.5,-110.5\"/>\n<text text-anchor=\"middle\" x=\"352\" y=\"-124.8\" font-family=\"Times,serif\" font-size=\"14.00\">x2w2</text>\n<polyline fill=\"none\" stroke=\"black\" points=\"375.5,-110.5 375.5,-146.5 \"/>\n<text text-anchor=\"middle\" x=\"415.5\" y=\"-124.8\" font-family=\"Times,serif\" font-size=\"14.00\">data 0.0000</text>\n<polyline fill=\"none\" stroke=\"black\" points=\"455.5,-110.5 455.5,-146.5 \"/>\n<text text-anchor=\"middle\" x=\"496.5\" y=\"-124.8\" font-family=\"Times,serif\" font-size=\"14.00\">grad 0.0000</text>\n</g>\n<!-- 136221640500672+ -->\n<g id=\"node13\" class=\"node\">\n<title>136221640500672+</title>\n<ellipse fill=\"none\" stroke=\"black\" cx=\"603\" cy=\"-100.5\" rx=\"27\" ry=\"18\"/>\n<text text-anchor=\"middle\" x=\"603\" y=\"-96.8\" font-family=\"Times,serif\" font-size=\"14.00\">+</text>\n</g>\n<!-- 136221640500288&#45;&gt;136221640500672+ -->\n<g id=\"edge14\" class=\"edge\">\n<title>136221640500288&#45;&gt;136221640500672+</title>\n<path fill=\"none\" stroke=\"black\" d=\"M537.53,-111.25C547.8,-109.53 557.66,-107.89 566.45,-106.43\"/>\n<polygon fill=\"black\" stroke=\"black\" points=\"567.3,-109.83 576.59,-104.74 566.15,-102.93 567.3,-109.83\"/>\n</g>\n<!-- 136221640500288* -->\n<g id=\"node3\" class=\"node\">\n<title>136221640500288*</title>\n<ellipse fill=\"none\" stroke=\"black\" cx=\"263\" cy=\"-128.5\" rx=\"27\" ry=\"18\"/>\n<text text-anchor=\"middle\" x=\"263\" y=\"-124.8\" font-family=\"Times,serif\" font-size=\"14.00\">*</text>\n</g>\n<!-- 136221640500288*&#45;&gt;136221640500288 -->\n<g id=\"edge1\" class=\"edge\">\n<title>136221640500288*&#45;&gt;136221640500288</title>\n<path fill=\"none\" stroke=\"black\" d=\"M290.25,-128.5C298.43,-128.5 308.03,-128.5 318.31,-128.5\"/>\n<polygon fill=\"black\" stroke=\"black\" points=\"318.35,-132 328.35,-128.5 318.35,-125 318.35,-132\"/>\n</g>\n<!-- 136222002843264 -->\n<g id=\"node4\" class=\"node\">\n<title>136222002843264</title>\n<polygon fill=\"none\" stroke=\"black\" points=\"4,-165.5 4,-201.5 196,-201.5 196,-165.5 4,-165.5\"/>\n<text text-anchor=\"middle\" x=\"19\" y=\"-179.8\" font-family=\"Times,serif\" font-size=\"14.00\">x2</text>\n<polyline fill=\"none\" stroke=\"black\" points=\"34,-165.5 34,-201.5 \"/>\n<text text-anchor=\"middle\" x=\"74\" y=\"-179.8\" font-family=\"Times,serif\" font-size=\"14.00\">data 0.0000</text>\n<polyline fill=\"none\" stroke=\"black\" points=\"114,-165.5 114,-201.5 \"/>\n<text text-anchor=\"middle\" x=\"155\" y=\"-179.8\" font-family=\"Times,serif\" font-size=\"14.00\">grad 0.0000</text>\n</g>\n<!-- 136222002843264&#45;&gt;136221640500288* -->\n<g id=\"edge13\" class=\"edge\">\n<title>136222002843264&#45;&gt;136221640500288*</title>\n<path fill=\"none\" stroke=\"black\" d=\"M172.53,-165.44C181.84,-162.67 191.2,-159.67 200,-156.5 210.53,-152.71 221.75,-147.9 231.72,-143.33\"/>\n<polygon fill=\"black\" stroke=\"black\" points=\"233.25,-146.48 240.82,-139.07 230.28,-140.14 233.25,-146.48\"/>\n</g>\n<!-- 136222043624096 -->\n<g id=\"node5\" class=\"node\">\n<title>136222043624096</title>\n<polygon fill=\"none\" stroke=\"black\" points=\"0,-55.5 0,-91.5 200,-91.5 200,-55.5 0,-55.5\"/>\n<text text-anchor=\"middle\" x=\"16.5\" y=\"-69.8\" font-family=\"Times,serif\" font-size=\"14.00\">w1</text>\n<polyline fill=\"none\" stroke=\"black\" points=\"33,-55.5 33,-91.5 \"/>\n<text text-anchor=\"middle\" x=\"75.5\" y=\"-69.8\" font-family=\"Times,serif\" font-size=\"14.00\">data &#45;3.0000</text>\n<polyline fill=\"none\" stroke=\"black\" points=\"118,-55.5 118,-91.5 \"/>\n<text text-anchor=\"middle\" x=\"159\" y=\"-69.8\" font-family=\"Times,serif\" font-size=\"14.00\">grad 0.0000</text>\n</g>\n<!-- 136221639967696* -->\n<g id=\"node15\" class=\"node\">\n<title>136221639967696*</title>\n<ellipse fill=\"none\" stroke=\"black\" cx=\"263\" cy=\"-73.5\" rx=\"27\" ry=\"18\"/>\n<text text-anchor=\"middle\" x=\"263\" y=\"-69.8\" font-family=\"Times,serif\" font-size=\"14.00\">*</text>\n</g>\n<!-- 136222043624096&#45;&gt;136221639967696* -->\n<g id=\"edge11\" class=\"edge\">\n<title>136222043624096&#45;&gt;136221639967696*</title>\n<path fill=\"none\" stroke=\"black\" d=\"M200.21,-73.5C209.2,-73.5 217.86,-73.5 225.7,-73.5\"/>\n<polygon fill=\"black\" stroke=\"black\" points=\"225.85,-77 235.85,-73.5 225.85,-70 225.85,-77\"/>\n</g>\n<!-- 136221640506576 -->\n<g id=\"node6\" class=\"node\">\n<title>136221640506576</title>\n<polygon fill=\"none\" stroke=\"black\" points=\"1347,-109.5 1347,-145.5 1532,-145.5 1532,-109.5 1347,-109.5\"/>\n<text text-anchor=\"middle\" x=\"1358.5\" y=\"-123.8\" font-family=\"Times,serif\" font-size=\"14.00\">o</text>\n<polyline fill=\"none\" stroke=\"black\" points=\"1370,-109.5 1370,-145.5 \"/>\n<text text-anchor=\"middle\" x=\"1410\" y=\"-123.8\" font-family=\"Times,serif\" font-size=\"14.00\">data 0.7071</text>\n<polyline fill=\"none\" stroke=\"black\" points=\"1450,-109.5 1450,-145.5 \"/>\n<text text-anchor=\"middle\" x=\"1491\" y=\"-123.8\" font-family=\"Times,serif\" font-size=\"14.00\">grad 0.0000</text>\n</g>\n<!-- 136221640506576tanh -->\n<g id=\"node7\" class=\"node\">\n<title>136221640506576tanh</title>\n<ellipse fill=\"none\" stroke=\"black\" cx=\"1284\" cy=\"-127.5\" rx=\"27\" ry=\"18\"/>\n<text text-anchor=\"middle\" x=\"1284\" y=\"-123.8\" font-family=\"Times,serif\" font-size=\"14.00\">tanh</text>\n</g>\n<!-- 136221640506576tanh&#45;&gt;136221640506576 -->\n<g id=\"edge2\" class=\"edge\">\n<title>136221640506576tanh&#45;&gt;136221640506576</title>\n<path fill=\"none\" stroke=\"black\" d=\"M1311.04,-127.5C1318.58,-127.5 1327.3,-127.5 1336.57,-127.5\"/>\n<polygon fill=\"black\" stroke=\"black\" points=\"1336.81,-131 1346.81,-127.5 1336.81,-124 1336.81,-131\"/>\n</g>\n<!-- 136222043630864 -->\n<g id=\"node8\" class=\"node\">\n<title>136222043630864</title>\n<polygon fill=\"none\" stroke=\"black\" points=\"4,-0.5 4,-36.5 196,-36.5 196,-0.5 4,-0.5\"/>\n<text text-anchor=\"middle\" x=\"19\" y=\"-14.8\" font-family=\"Times,serif\" font-size=\"14.00\">x1</text>\n<polyline fill=\"none\" stroke=\"black\" points=\"34,-0.5 34,-36.5 \"/>\n<text text-anchor=\"middle\" x=\"74\" y=\"-14.8\" font-family=\"Times,serif\" font-size=\"14.00\">data 2.0000</text>\n<polyline fill=\"none\" stroke=\"black\" points=\"114,-0.5 114,-36.5 \"/>\n<text text-anchor=\"middle\" x=\"155\" y=\"-14.8\" font-family=\"Times,serif\" font-size=\"14.00\">grad 0.0000</text>\n</g>\n<!-- 136222043630864&#45;&gt;136221639967696* -->\n<g id=\"edge10\" class=\"edge\">\n<title>136222043630864&#45;&gt;136221639967696*</title>\n<path fill=\"none\" stroke=\"black\" d=\"M169.28,-36.5C179.65,-39.61 190.16,-42.98 200,-46.5 210.28,-50.17 221.28,-54.74 231.11,-59.07\"/>\n<polygon fill=\"black\" stroke=\"black\" points=\"229.93,-62.37 240.48,-63.27 232.79,-55.99 229.93,-62.37\"/>\n</g>\n<!-- 136221640492368 -->\n<g id=\"node9\" class=\"node\">\n<title>136221640492368</title>\n<polygon fill=\"none\" stroke=\"black\" points=\"1036,-109.5 1036,-145.5 1221,-145.5 1221,-109.5 1036,-109.5\"/>\n<text text-anchor=\"middle\" x=\"1047.5\" y=\"-123.8\" font-family=\"Times,serif\" font-size=\"14.00\">n</text>\n<polyline fill=\"none\" stroke=\"black\" points=\"1059,-109.5 1059,-145.5 \"/>\n<text text-anchor=\"middle\" x=\"1099\" y=\"-123.8\" font-family=\"Times,serif\" font-size=\"14.00\">data 0.8813</text>\n<polyline fill=\"none\" stroke=\"black\" points=\"1139,-109.5 1139,-145.5 \"/>\n<text text-anchor=\"middle\" x=\"1180\" y=\"-123.8\" font-family=\"Times,serif\" font-size=\"14.00\">grad 0.0000</text>\n</g>\n<!-- 136221640492368&#45;&gt;136221640506576tanh -->\n<g id=\"edge6\" class=\"edge\">\n<title>136221640492368&#45;&gt;136221640506576tanh</title>\n<path fill=\"none\" stroke=\"black\" d=\"M1221.01,-127.5C1230.01,-127.5 1238.74,-127.5 1246.66,-127.5\"/>\n<polygon fill=\"black\" stroke=\"black\" points=\"1246.91,-131 1256.91,-127.5 1246.91,-124 1246.91,-131\"/>\n</g>\n<!-- 136221640492368+&#45;&gt;136221640492368 -->\n<g id=\"edge3\" class=\"edge\">\n<title>136221640492368+&#45;&gt;136221640492368</title>\n<path fill=\"none\" stroke=\"black\" d=\"M1000.04,-127.5C1007.58,-127.5 1016.3,-127.5 1025.57,-127.5\"/>\n<polygon fill=\"black\" stroke=\"black\" points=\"1025.81,-131 1035.81,-127.5 1025.81,-124 1025.81,-131\"/>\n</g>\n<!-- 136222043632544 -->\n<g id=\"node11\" class=\"node\">\n<title>136222043632544</title>\n<polygon fill=\"none\" stroke=\"black\" points=\"2.5,-110.5 2.5,-146.5 197.5,-146.5 197.5,-110.5 2.5,-110.5\"/>\n<text text-anchor=\"middle\" x=\"19\" y=\"-124.8\" font-family=\"Times,serif\" font-size=\"14.00\">w2</text>\n<polyline fill=\"none\" stroke=\"black\" points=\"35.5,-110.5 35.5,-146.5 \"/>\n<text text-anchor=\"middle\" x=\"75.5\" y=\"-124.8\" font-family=\"Times,serif\" font-size=\"14.00\">data 1.0000</text>\n<polyline fill=\"none\" stroke=\"black\" points=\"115.5,-110.5 115.5,-146.5 \"/>\n<text text-anchor=\"middle\" x=\"156.5\" y=\"-124.8\" font-family=\"Times,serif\" font-size=\"14.00\">grad 0.0000</text>\n</g>\n<!-- 136222043632544&#45;&gt;136221640500288* -->\n<g id=\"edge8\" class=\"edge\">\n<title>136222043632544&#45;&gt;136221640500288*</title>\n<path fill=\"none\" stroke=\"black\" d=\"M197.91,-128.5C207.65,-128.5 217.05,-128.5 225.52,-128.5\"/>\n<polygon fill=\"black\" stroke=\"black\" points=\"225.7,-132 235.7,-128.5 225.7,-125 225.7,-132\"/>\n</g>\n<!-- 136221640500672 -->\n<g id=\"node12\" class=\"node\">\n<title>136221640500672</title>\n<polygon fill=\"none\" stroke=\"black\" points=\"666,-82.5 666,-118.5 910,-118.5 910,-82.5 666,-82.5\"/>\n<text text-anchor=\"middle\" x=\"704.5\" y=\"-96.8\" font-family=\"Times,serif\" font-size=\"14.00\">x1w1x2w2</text>\n<polyline fill=\"none\" stroke=\"black\" points=\"743,-82.5 743,-118.5 \"/>\n<text text-anchor=\"middle\" x=\"785.5\" y=\"-96.8\" font-family=\"Times,serif\" font-size=\"14.00\">data &#45;6.0000</text>\n<polyline fill=\"none\" stroke=\"black\" points=\"828,-82.5 828,-118.5 \"/>\n<text text-anchor=\"middle\" x=\"869\" y=\"-96.8\" font-family=\"Times,serif\" font-size=\"14.00\">grad 0.0000</text>\n</g>\n<!-- 136221640500672&#45;&gt;136221640492368+ -->\n<g id=\"edge7\" class=\"edge\">\n<title>136221640500672&#45;&gt;136221640492368+</title>\n<path fill=\"none\" stroke=\"black\" d=\"M910.04,-118.36C919.47,-119.75 928.43,-121.07 936.46,-122.26\"/>\n<polygon fill=\"black\" stroke=\"black\" points=\"936.03,-125.73 946.43,-123.73 937.05,-118.81 936.03,-125.73\"/>\n</g>\n<!-- 136221640500672+&#45;&gt;136221640500672 -->\n<g id=\"edge4\" class=\"edge\">\n<title>136221640500672+&#45;&gt;136221640500672</title>\n<path fill=\"none\" stroke=\"black\" d=\"M630.22,-100.5C637.7,-100.5 646.4,-100.5 655.79,-100.5\"/>\n<polygon fill=\"black\" stroke=\"black\" points=\"655.8,-104 665.8,-100.5 655.8,-97 655.8,-104\"/>\n</g>\n<!-- 136221639967696 -->\n<g id=\"node14\" class=\"node\">\n<title>136221639967696</title>\n<polygon fill=\"none\" stroke=\"black\" points=\"326,-55.5 326,-91.5 540,-91.5 540,-55.5 326,-55.5\"/>\n<text text-anchor=\"middle\" x=\"349.5\" y=\"-69.8\" font-family=\"Times,serif\" font-size=\"14.00\">x1w1</text>\n<polyline fill=\"none\" stroke=\"black\" points=\"373,-55.5 373,-91.5 \"/>\n<text text-anchor=\"middle\" x=\"415.5\" y=\"-69.8\" font-family=\"Times,serif\" font-size=\"14.00\">data &#45;6.0000</text>\n<polyline fill=\"none\" stroke=\"black\" points=\"458,-55.5 458,-91.5 \"/>\n<text text-anchor=\"middle\" x=\"499\" y=\"-69.8\" font-family=\"Times,serif\" font-size=\"14.00\">grad 0.0000</text>\n</g>\n<!-- 136221639967696&#45;&gt;136221640500672+ -->\n<g id=\"edge9\" class=\"edge\">\n<title>136221639967696&#45;&gt;136221640500672+</title>\n<path fill=\"none\" stroke=\"black\" d=\"M540.4,-90.6C549.72,-92.1 558.65,-93.53 566.68,-94.82\"/>\n<polygon fill=\"black\" stroke=\"black\" points=\"566.24,-98.3 576.66,-96.43 567.35,-91.39 566.24,-98.3\"/>\n</g>\n<!-- 136221639967696*&#45;&gt;136221639967696 -->\n<g id=\"edge5\" class=\"edge\">\n<title>136221639967696*&#45;&gt;136221639967696</title>\n<path fill=\"none\" stroke=\"black\" d=\"M290.25,-73.5C297.7,-73.5 306.34,-73.5 315.59,-73.5\"/>\n<polygon fill=\"black\" stroke=\"black\" points=\"315.84,-77 325.84,-73.5 315.84,-70 315.84,-77\"/>\n</g>\n</g>\n</svg>\n",
            "text/plain": [
              "<graphviz.graphs.Digraph at 0x7be4a813a4d0>"
            ]
          },
          "metadata": {},
          "execution_count": 29
        }
      ],
      "source": [
        "draw_dot(o)"
      ]
    },
    {
      "cell_type": "markdown",
      "metadata": {
        "id": "9lbvyy6OHV0z"
      },
      "source": [
        "What is the der of `o` wrt `o`, the base case the gradient is just 1.0\n",
        "\n",
        " now backpropagate through tanh\n",
        "\n",
        " to backpropagate through tanh we need to know local derivative of tanh\n",
        "\n",
        " o = tanh(n)\n",
        "\n",
        " do/dn = ??\n",
        "\n",
        " we can calculate derivative manualy of the above given equation of `tanh`. or just use the below given equation for getting derivative of `tanh` from wikipidia.\n",
        "\n",
        " $$ \\frac{d}{dx} tanh \\; x = 1 - tanh^2x $$\n",
        "\n",
        " this is just 1 minus tanh(x)^2\n",
        "\n",
        " do/dn = 1 - tanh(n)**2\n",
        "\n",
        " so fill n's gradient\n",
        "\n",
        " then comes `+` node. and from previous we know it just distributes the gradients bcs local derivative of every node is 1\n",
        "\n",
        " and again we have + node so continueing distributing the gradient.\n"
      ]
    },
    {
      "cell_type": "code",
      "execution_count": 30,
      "metadata": {
        "id": "JPTo3j8gKEnV"
      },
      "outputs": [],
      "source": [
        "n.grad = 0.5"
      ]
    },
    {
      "cell_type": "code",
      "execution_count": 31,
      "metadata": {
        "id": "iLuD-oXLHT-5"
      },
      "outputs": [],
      "source": [
        "o.grad = 1.0\n",
        "# now backpropagate through tanh\n",
        "# to backpropagate through tanh we need to know local derivative of tanh\n",
        "\n",
        "# o = tanh(n)\n",
        "# do/dn = ??\n",
        "\n"
      ]
    },
    {
      "cell_type": "code",
      "execution_count": 32,
      "metadata": {
        "colab": {
          "base_uri": "https://localhost:8080/"
        },
        "id": "kyBqY6MeJtTK",
        "outputId": "58b4a199-7cc9-4bef-985d-16810c69c069"
      },
      "outputs": [
        {
          "output_type": "execute_result",
          "data": {
            "text/plain": [
              "0.5000520352341944"
            ]
          },
          "metadata": {},
          "execution_count": 32
        }
      ],
      "source": [
        "# o = tanh(n)\n",
        "# do/dn = 1 - tanh(n)**2   or 1 - o**2\n",
        "1 - o.data**2 # 0.5"
      ]
    },
    {
      "cell_type": "code",
      "execution_count": 33,
      "metadata": {
        "id": "sLGX70eNHNYF"
      },
      "outputs": [],
      "source": [
        "x1w1x2w2.grad = 0.5\n",
        "b.grad = 0.5"
      ]
    },
    {
      "cell_type": "code",
      "execution_count": 34,
      "metadata": {
        "id": "h6bICrgvK1Qj"
      },
      "outputs": [],
      "source": [
        "x1w1.grad = 0.5\n",
        "x2w2.grad = 0.5"
      ]
    },
    {
      "cell_type": "code",
      "execution_count": 35,
      "metadata": {
        "id": "zTxEYNIbLg8-"
      },
      "outputs": [],
      "source": [
        "x2.grad = w2.data * x2w2.grad # that's the global pice of chain rule\n",
        "w2.grad = x2.data * x2w2.grad"
      ]
    },
    {
      "cell_type": "markdown",
      "metadata": {
        "id": "ueRT3HcjwJpt"
      },
      "source": [
        "As you can see the gradient on our weight `w2` is `0.0` because `x2`'s data was `0.0`. and `x2` will have gradient `0.5` as `w2.data` is `1.0`.\n",
        "\n",
        "derivative always tells us the influence of weight on the final output. If I wiggle `w2` how is the output changing? its not changing because we are multiplying it with `0` and because its not changing there is no derivative. and `0` is the correct answer.\n",
        "\n",
        "same way do it for x1 and w1"
      ]
    },
    {
      "cell_type": "code",
      "execution_count": 36,
      "metadata": {
        "id": "zIGTEl9OMgRP"
      },
      "outputs": [],
      "source": [
        "x1.grad = w1.data * x1w1.grad\n",
        "w1.grad = x1.data * x1w1.grad"
      ]
    },
    {
      "cell_type": "markdown",
      "metadata": {
        "id": "vLRvqZ5DzLUR"
      },
      "source": [
        "So `x1`'s grad will be `-1.5` and `w1` will be `1.0`.\n",
        "\n",
        "so if we want these neurons output to increase.\n",
        "`w2` doesnt matter as of now as its gradient is `0`. so `w1` weight should go up then these neuron output will go up and proportionally because the gradient is `1.0`\n",
        "\n",
        "\n",
        "Doing the backpropagation manually is obvausly ridiculas.\n",
        "\n",
        "Now implementing backward pass automaticaly and not going to do it manually."
      ]
    },
    {
      "cell_type": "markdown",
      "metadata": {
        "id": "XYw_HgEW1Uq7"
      },
      "source": [
        "### Implementing automatic backward pass\n",
        "\n",
        "- starting it by doing self._backward.\n",
        "- this will be a function which is going to do a little pice of chain rule.\n",
        "- at each little node that compute that took input and produced output.\n",
        "- we are going to store how we are going to chain outputs gradients into the input gradients.\n",
        "- so by default this will be a function that doesn't do anything. and that would be the case for the leaf node. there's nothing to do with leaf node."
      ]
    },
    {
      "cell_type": "markdown",
      "metadata": {
        "id": "zrL1lm9Pzwyn"
      },
      "source": [
        "## backward() in add\n",
        "\n",
        "- `out` values are an addition of `self` and `other`.\n",
        "- `out._backward = _backward` is the function that propagates the gradient.\n",
        "- now define the function what it should do.\n",
        "- its job is to take `out's` grad and propagate it to `self` and `other's` grad.\n",
        "- as we shaw how the chain rule works. take the local derivative times the global derivative (which is the derivative of the final output of the expression wrt out's data).\n",
        "- so local derivative of self is 1.0 in addition operatino times `out.grad`.\n",
        "- and `others.grad = 1.0 * out.grad`.\n",
        "- later will call this function to propagate the gradient\n",
        "\n",
        "\n",
        "## backaward for mul(*)\n",
        "- same way for multiplication\n",
        "- in backward function.\n",
        "- `self.grad = other.data * out.grad` and `other.grad = self.data * out.grad`\n",
        "\n",
        "and same way for `tanh`\n",
        "- in tanh's backward function there's local derivative of tanh and out.grad\n",
        "\n",
        "That's it, now test time.\n",
        "\n"
      ]
    },
    {
      "cell_type": "code",
      "execution_count": 37,
      "metadata": {
        "colab": {
          "base_uri": "https://localhost:8080/",
          "height": 321
        },
        "id": "kJjukoDG1USf",
        "outputId": "7b66cdbc-3e74-4975-a794-0b99aba9e444"
      },
      "outputs": [
        {
          "output_type": "execute_result",
          "data": {
            "image/svg+xml": "<?xml version=\"1.0\" encoding=\"UTF-8\" standalone=\"no\"?>\n<!DOCTYPE svg PUBLIC \"-//W3C//DTD SVG 1.1//EN\"\n \"http://www.w3.org/Graphics/SVG/1.1/DTD/svg11.dtd\">\n<!-- Generated by graphviz version 2.43.0 (0)\n -->\n<!-- Title: %3 Pages: 1 -->\n<svg width=\"1540pt\" height=\"210pt\"\n viewBox=\"0.00 0.00 1540.00 210.00\" xmlns=\"http://www.w3.org/2000/svg\" xmlns:xlink=\"http://www.w3.org/1999/xlink\">\n<g id=\"graph0\" class=\"graph\" transform=\"scale(1 1) rotate(0) translate(4 206)\">\n<title>%3</title>\n<polygon fill=\"white\" stroke=\"transparent\" points=\"-4,4 -4,-206 1536,-206 1536,4 -4,4\"/>\n<!-- 136222002841632 -->\n<g id=\"node1\" class=\"node\">\n<title>136222002841632</title>\n<polygon fill=\"none\" stroke=\"black\" points=\"695.5,-137.5 695.5,-173.5 880.5,-173.5 880.5,-137.5 695.5,-137.5\"/>\n<text text-anchor=\"middle\" x=\"707\" y=\"-151.8\" font-family=\"Times,serif\" font-size=\"14.00\">b</text>\n<polyline fill=\"none\" stroke=\"black\" points=\"718.5,-137.5 718.5,-173.5 \"/>\n<text text-anchor=\"middle\" x=\"758.5\" y=\"-151.8\" font-family=\"Times,serif\" font-size=\"14.00\">data 6.8813</text>\n<polyline fill=\"none\" stroke=\"black\" points=\"798.5,-137.5 798.5,-173.5 \"/>\n<text text-anchor=\"middle\" x=\"839.5\" y=\"-151.8\" font-family=\"Times,serif\" font-size=\"14.00\">grad 0.5000</text>\n</g>\n<!-- 136221640492368+ -->\n<g id=\"node10\" class=\"node\">\n<title>136221640492368+</title>\n<ellipse fill=\"none\" stroke=\"black\" cx=\"973\" cy=\"-127.5\" rx=\"27\" ry=\"18\"/>\n<text text-anchor=\"middle\" x=\"973\" y=\"-123.8\" font-family=\"Times,serif\" font-size=\"14.00\">+</text>\n</g>\n<!-- 136222002841632&#45;&gt;136221640492368+ -->\n<g id=\"edge12\" class=\"edge\">\n<title>136222002841632&#45;&gt;136221640492368+</title>\n<path fill=\"none\" stroke=\"black\" d=\"M880.77,-141.46C900.52,-138.44 920.26,-135.42 936.29,-132.96\"/>\n<polygon fill=\"black\" stroke=\"black\" points=\"936.9,-136.41 946.26,-131.44 935.85,-129.49 936.9,-136.41\"/>\n</g>\n<!-- 136221640500288 -->\n<g id=\"node2\" class=\"node\">\n<title>136221640500288</title>\n<polygon fill=\"none\" stroke=\"black\" points=\"328.5,-110.5 328.5,-146.5 537.5,-146.5 537.5,-110.5 328.5,-110.5\"/>\n<text text-anchor=\"middle\" x=\"352\" y=\"-124.8\" font-family=\"Times,serif\" font-size=\"14.00\">x2w2</text>\n<polyline fill=\"none\" stroke=\"black\" points=\"375.5,-110.5 375.5,-146.5 \"/>\n<text text-anchor=\"middle\" x=\"415.5\" y=\"-124.8\" font-family=\"Times,serif\" font-size=\"14.00\">data 0.0000</text>\n<polyline fill=\"none\" stroke=\"black\" points=\"455.5,-110.5 455.5,-146.5 \"/>\n<text text-anchor=\"middle\" x=\"496.5\" y=\"-124.8\" font-family=\"Times,serif\" font-size=\"14.00\">grad 0.5000</text>\n</g>\n<!-- 136221640500672+ -->\n<g id=\"node13\" class=\"node\">\n<title>136221640500672+</title>\n<ellipse fill=\"none\" stroke=\"black\" cx=\"603\" cy=\"-100.5\" rx=\"27\" ry=\"18\"/>\n<text text-anchor=\"middle\" x=\"603\" y=\"-96.8\" font-family=\"Times,serif\" font-size=\"14.00\">+</text>\n</g>\n<!-- 136221640500288&#45;&gt;136221640500672+ -->\n<g id=\"edge14\" class=\"edge\">\n<title>136221640500288&#45;&gt;136221640500672+</title>\n<path fill=\"none\" stroke=\"black\" d=\"M537.53,-111.25C547.8,-109.53 557.66,-107.89 566.45,-106.43\"/>\n<polygon fill=\"black\" stroke=\"black\" points=\"567.3,-109.83 576.59,-104.74 566.15,-102.93 567.3,-109.83\"/>\n</g>\n<!-- 136221640500288* -->\n<g id=\"node3\" class=\"node\">\n<title>136221640500288*</title>\n<ellipse fill=\"none\" stroke=\"black\" cx=\"263\" cy=\"-128.5\" rx=\"27\" ry=\"18\"/>\n<text text-anchor=\"middle\" x=\"263\" y=\"-124.8\" font-family=\"Times,serif\" font-size=\"14.00\">*</text>\n</g>\n<!-- 136221640500288*&#45;&gt;136221640500288 -->\n<g id=\"edge1\" class=\"edge\">\n<title>136221640500288*&#45;&gt;136221640500288</title>\n<path fill=\"none\" stroke=\"black\" d=\"M290.25,-128.5C298.43,-128.5 308.03,-128.5 318.31,-128.5\"/>\n<polygon fill=\"black\" stroke=\"black\" points=\"318.35,-132 328.35,-128.5 318.35,-125 318.35,-132\"/>\n</g>\n<!-- 136222002843264 -->\n<g id=\"node4\" class=\"node\">\n<title>136222002843264</title>\n<polygon fill=\"none\" stroke=\"black\" points=\"4,-165.5 4,-201.5 196,-201.5 196,-165.5 4,-165.5\"/>\n<text text-anchor=\"middle\" x=\"19\" y=\"-179.8\" font-family=\"Times,serif\" font-size=\"14.00\">x2</text>\n<polyline fill=\"none\" stroke=\"black\" points=\"34,-165.5 34,-201.5 \"/>\n<text text-anchor=\"middle\" x=\"74\" y=\"-179.8\" font-family=\"Times,serif\" font-size=\"14.00\">data 0.0000</text>\n<polyline fill=\"none\" stroke=\"black\" points=\"114,-165.5 114,-201.5 \"/>\n<text text-anchor=\"middle\" x=\"155\" y=\"-179.8\" font-family=\"Times,serif\" font-size=\"14.00\">grad 0.5000</text>\n</g>\n<!-- 136222002843264&#45;&gt;136221640500288* -->\n<g id=\"edge13\" class=\"edge\">\n<title>136222002843264&#45;&gt;136221640500288*</title>\n<path fill=\"none\" stroke=\"black\" d=\"M172.53,-165.44C181.84,-162.67 191.2,-159.67 200,-156.5 210.53,-152.71 221.75,-147.9 231.72,-143.33\"/>\n<polygon fill=\"black\" stroke=\"black\" points=\"233.25,-146.48 240.82,-139.07 230.28,-140.14 233.25,-146.48\"/>\n</g>\n<!-- 136222043624096 -->\n<g id=\"node5\" class=\"node\">\n<title>136222043624096</title>\n<polygon fill=\"none\" stroke=\"black\" points=\"0,-55.5 0,-91.5 200,-91.5 200,-55.5 0,-55.5\"/>\n<text text-anchor=\"middle\" x=\"16.5\" y=\"-69.8\" font-family=\"Times,serif\" font-size=\"14.00\">w1</text>\n<polyline fill=\"none\" stroke=\"black\" points=\"33,-55.5 33,-91.5 \"/>\n<text text-anchor=\"middle\" x=\"75.5\" y=\"-69.8\" font-family=\"Times,serif\" font-size=\"14.00\">data &#45;3.0000</text>\n<polyline fill=\"none\" stroke=\"black\" points=\"118,-55.5 118,-91.5 \"/>\n<text text-anchor=\"middle\" x=\"159\" y=\"-69.8\" font-family=\"Times,serif\" font-size=\"14.00\">grad 1.0000</text>\n</g>\n<!-- 136221639967696* -->\n<g id=\"node15\" class=\"node\">\n<title>136221639967696*</title>\n<ellipse fill=\"none\" stroke=\"black\" cx=\"263\" cy=\"-73.5\" rx=\"27\" ry=\"18\"/>\n<text text-anchor=\"middle\" x=\"263\" y=\"-69.8\" font-family=\"Times,serif\" font-size=\"14.00\">*</text>\n</g>\n<!-- 136222043624096&#45;&gt;136221639967696* -->\n<g id=\"edge11\" class=\"edge\">\n<title>136222043624096&#45;&gt;136221639967696*</title>\n<path fill=\"none\" stroke=\"black\" d=\"M200.21,-73.5C209.2,-73.5 217.86,-73.5 225.7,-73.5\"/>\n<polygon fill=\"black\" stroke=\"black\" points=\"225.85,-77 235.85,-73.5 225.85,-70 225.85,-77\"/>\n</g>\n<!-- 136221640506576 -->\n<g id=\"node6\" class=\"node\">\n<title>136221640506576</title>\n<polygon fill=\"none\" stroke=\"black\" points=\"1347,-109.5 1347,-145.5 1532,-145.5 1532,-109.5 1347,-109.5\"/>\n<text text-anchor=\"middle\" x=\"1358.5\" y=\"-123.8\" font-family=\"Times,serif\" font-size=\"14.00\">o</text>\n<polyline fill=\"none\" stroke=\"black\" points=\"1370,-109.5 1370,-145.5 \"/>\n<text text-anchor=\"middle\" x=\"1410\" y=\"-123.8\" font-family=\"Times,serif\" font-size=\"14.00\">data 0.7071</text>\n<polyline fill=\"none\" stroke=\"black\" points=\"1450,-109.5 1450,-145.5 \"/>\n<text text-anchor=\"middle\" x=\"1491\" y=\"-123.8\" font-family=\"Times,serif\" font-size=\"14.00\">grad 1.0000</text>\n</g>\n<!-- 136221640506576tanh -->\n<g id=\"node7\" class=\"node\">\n<title>136221640506576tanh</title>\n<ellipse fill=\"none\" stroke=\"black\" cx=\"1284\" cy=\"-127.5\" rx=\"27\" ry=\"18\"/>\n<text text-anchor=\"middle\" x=\"1284\" y=\"-123.8\" font-family=\"Times,serif\" font-size=\"14.00\">tanh</text>\n</g>\n<!-- 136221640506576tanh&#45;&gt;136221640506576 -->\n<g id=\"edge2\" class=\"edge\">\n<title>136221640506576tanh&#45;&gt;136221640506576</title>\n<path fill=\"none\" stroke=\"black\" d=\"M1311.04,-127.5C1318.58,-127.5 1327.3,-127.5 1336.57,-127.5\"/>\n<polygon fill=\"black\" stroke=\"black\" points=\"1336.81,-131 1346.81,-127.5 1336.81,-124 1336.81,-131\"/>\n</g>\n<!-- 136222043630864 -->\n<g id=\"node8\" class=\"node\">\n<title>136222043630864</title>\n<polygon fill=\"none\" stroke=\"black\" points=\"2,-0.5 2,-36.5 198,-36.5 198,-0.5 2,-0.5\"/>\n<text text-anchor=\"middle\" x=\"17\" y=\"-14.8\" font-family=\"Times,serif\" font-size=\"14.00\">x1</text>\n<polyline fill=\"none\" stroke=\"black\" points=\"32,-0.5 32,-36.5 \"/>\n<text text-anchor=\"middle\" x=\"72\" y=\"-14.8\" font-family=\"Times,serif\" font-size=\"14.00\">data 2.0000</text>\n<polyline fill=\"none\" stroke=\"black\" points=\"112,-0.5 112,-36.5 \"/>\n<text text-anchor=\"middle\" x=\"155\" y=\"-14.8\" font-family=\"Times,serif\" font-size=\"14.00\">grad &#45;1.5000</text>\n</g>\n<!-- 136222043630864&#45;&gt;136221639967696* -->\n<g id=\"edge10\" class=\"edge\">\n<title>136222043630864&#45;&gt;136221639967696*</title>\n<path fill=\"none\" stroke=\"black\" d=\"M169.28,-36.5C179.65,-39.61 190.16,-42.98 200,-46.5 210.28,-50.17 221.28,-54.74 231.11,-59.07\"/>\n<polygon fill=\"black\" stroke=\"black\" points=\"229.93,-62.37 240.48,-63.27 232.79,-55.99 229.93,-62.37\"/>\n</g>\n<!-- 136221640492368 -->\n<g id=\"node9\" class=\"node\">\n<title>136221640492368</title>\n<polygon fill=\"none\" stroke=\"black\" points=\"1036,-109.5 1036,-145.5 1221,-145.5 1221,-109.5 1036,-109.5\"/>\n<text text-anchor=\"middle\" x=\"1047.5\" y=\"-123.8\" font-family=\"Times,serif\" font-size=\"14.00\">n</text>\n<polyline fill=\"none\" stroke=\"black\" points=\"1059,-109.5 1059,-145.5 \"/>\n<text text-anchor=\"middle\" x=\"1099\" y=\"-123.8\" font-family=\"Times,serif\" font-size=\"14.00\">data 0.8813</text>\n<polyline fill=\"none\" stroke=\"black\" points=\"1139,-109.5 1139,-145.5 \"/>\n<text text-anchor=\"middle\" x=\"1180\" y=\"-123.8\" font-family=\"Times,serif\" font-size=\"14.00\">grad 0.5000</text>\n</g>\n<!-- 136221640492368&#45;&gt;136221640506576tanh -->\n<g id=\"edge6\" class=\"edge\">\n<title>136221640492368&#45;&gt;136221640506576tanh</title>\n<path fill=\"none\" stroke=\"black\" d=\"M1221.01,-127.5C1230.01,-127.5 1238.74,-127.5 1246.66,-127.5\"/>\n<polygon fill=\"black\" stroke=\"black\" points=\"1246.91,-131 1256.91,-127.5 1246.91,-124 1246.91,-131\"/>\n</g>\n<!-- 136221640492368+&#45;&gt;136221640492368 -->\n<g id=\"edge3\" class=\"edge\">\n<title>136221640492368+&#45;&gt;136221640492368</title>\n<path fill=\"none\" stroke=\"black\" d=\"M1000.04,-127.5C1007.58,-127.5 1016.3,-127.5 1025.57,-127.5\"/>\n<polygon fill=\"black\" stroke=\"black\" points=\"1025.81,-131 1035.81,-127.5 1025.81,-124 1025.81,-131\"/>\n</g>\n<!-- 136222043632544 -->\n<g id=\"node11\" class=\"node\">\n<title>136222043632544</title>\n<polygon fill=\"none\" stroke=\"black\" points=\"2.5,-110.5 2.5,-146.5 197.5,-146.5 197.5,-110.5 2.5,-110.5\"/>\n<text text-anchor=\"middle\" x=\"19\" y=\"-124.8\" font-family=\"Times,serif\" font-size=\"14.00\">w2</text>\n<polyline fill=\"none\" stroke=\"black\" points=\"35.5,-110.5 35.5,-146.5 \"/>\n<text text-anchor=\"middle\" x=\"75.5\" y=\"-124.8\" font-family=\"Times,serif\" font-size=\"14.00\">data 1.0000</text>\n<polyline fill=\"none\" stroke=\"black\" points=\"115.5,-110.5 115.5,-146.5 \"/>\n<text text-anchor=\"middle\" x=\"156.5\" y=\"-124.8\" font-family=\"Times,serif\" font-size=\"14.00\">grad 0.0000</text>\n</g>\n<!-- 136222043632544&#45;&gt;136221640500288* -->\n<g id=\"edge8\" class=\"edge\">\n<title>136222043632544&#45;&gt;136221640500288*</title>\n<path fill=\"none\" stroke=\"black\" d=\"M197.91,-128.5C207.65,-128.5 217.05,-128.5 225.52,-128.5\"/>\n<polygon fill=\"black\" stroke=\"black\" points=\"225.7,-132 235.7,-128.5 225.7,-125 225.7,-132\"/>\n</g>\n<!-- 136221640500672 -->\n<g id=\"node12\" class=\"node\">\n<title>136221640500672</title>\n<polygon fill=\"none\" stroke=\"black\" points=\"666,-82.5 666,-118.5 910,-118.5 910,-82.5 666,-82.5\"/>\n<text text-anchor=\"middle\" x=\"704.5\" y=\"-96.8\" font-family=\"Times,serif\" font-size=\"14.00\">x1w1x2w2</text>\n<polyline fill=\"none\" stroke=\"black\" points=\"743,-82.5 743,-118.5 \"/>\n<text text-anchor=\"middle\" x=\"785.5\" y=\"-96.8\" font-family=\"Times,serif\" font-size=\"14.00\">data &#45;6.0000</text>\n<polyline fill=\"none\" stroke=\"black\" points=\"828,-82.5 828,-118.5 \"/>\n<text text-anchor=\"middle\" x=\"869\" y=\"-96.8\" font-family=\"Times,serif\" font-size=\"14.00\">grad 0.5000</text>\n</g>\n<!-- 136221640500672&#45;&gt;136221640492368+ -->\n<g id=\"edge7\" class=\"edge\">\n<title>136221640500672&#45;&gt;136221640492368+</title>\n<path fill=\"none\" stroke=\"black\" d=\"M910.04,-118.36C919.47,-119.75 928.43,-121.07 936.46,-122.26\"/>\n<polygon fill=\"black\" stroke=\"black\" points=\"936.03,-125.73 946.43,-123.73 937.05,-118.81 936.03,-125.73\"/>\n</g>\n<!-- 136221640500672+&#45;&gt;136221640500672 -->\n<g id=\"edge4\" class=\"edge\">\n<title>136221640500672+&#45;&gt;136221640500672</title>\n<path fill=\"none\" stroke=\"black\" d=\"M630.22,-100.5C637.7,-100.5 646.4,-100.5 655.79,-100.5\"/>\n<polygon fill=\"black\" stroke=\"black\" points=\"655.8,-104 665.8,-100.5 655.8,-97 655.8,-104\"/>\n</g>\n<!-- 136221639967696 -->\n<g id=\"node14\" class=\"node\">\n<title>136221639967696</title>\n<polygon fill=\"none\" stroke=\"black\" points=\"326,-55.5 326,-91.5 540,-91.5 540,-55.5 326,-55.5\"/>\n<text text-anchor=\"middle\" x=\"349.5\" y=\"-69.8\" font-family=\"Times,serif\" font-size=\"14.00\">x1w1</text>\n<polyline fill=\"none\" stroke=\"black\" points=\"373,-55.5 373,-91.5 \"/>\n<text text-anchor=\"middle\" x=\"415.5\" y=\"-69.8\" font-family=\"Times,serif\" font-size=\"14.00\">data &#45;6.0000</text>\n<polyline fill=\"none\" stroke=\"black\" points=\"458,-55.5 458,-91.5 \"/>\n<text text-anchor=\"middle\" x=\"499\" y=\"-69.8\" font-family=\"Times,serif\" font-size=\"14.00\">grad 0.5000</text>\n</g>\n<!-- 136221639967696&#45;&gt;136221640500672+ -->\n<g id=\"edge9\" class=\"edge\">\n<title>136221639967696&#45;&gt;136221640500672+</title>\n<path fill=\"none\" stroke=\"black\" d=\"M540.4,-90.6C549.72,-92.1 558.65,-93.53 566.68,-94.82\"/>\n<polygon fill=\"black\" stroke=\"black\" points=\"566.24,-98.3 576.66,-96.43 567.35,-91.39 566.24,-98.3\"/>\n</g>\n<!-- 136221639967696*&#45;&gt;136221639967696 -->\n<g id=\"edge5\" class=\"edge\">\n<title>136221639967696*&#45;&gt;136221639967696</title>\n<path fill=\"none\" stroke=\"black\" d=\"M290.25,-73.5C297.7,-73.5 306.34,-73.5 315.59,-73.5\"/>\n<polygon fill=\"black\" stroke=\"black\" points=\"315.84,-77 325.84,-73.5 315.84,-70 315.84,-77\"/>\n</g>\n</g>\n</svg>\n",
            "text/plain": [
              "<graphviz.graphs.Digraph at 0x7be4927e3dc0>"
            ]
          },
          "metadata": {},
          "execution_count": 37
        }
      ],
      "source": [
        "# redefine the parameters values first\n",
        "# then do draw_dot(o) to see that all grads are set to 0\n",
        "draw_dot(o)"
      ]
    },
    {
      "cell_type": "code",
      "execution_count": 38,
      "metadata": {
        "id": "6R5-ZuGbyleI"
      },
      "outputs": [],
      "source": [
        "# now we dont have to do backpropagation manually anymore\n",
        "# we are basicaly be calling .backward in the right order\n",
        "# 1st call the o.backward\n",
        "\n",
        "# so o was the outcome of the tanh\n",
        "# calling o._backward() be _backward() function inside tanh() function\n",
        "\n",
        "# 📍 IMPORTANT\n",
        "# THINGS TO NOTE: bcs local derivative times(*) out.grad. and out.grad is initialized to 0.0\n",
        "# so as a base case we need to set o.grad to 1.0. To initialize it with 1\n",
        "\n",
        "o.grad = 1.0\n",
        "# once this is 1 we can call o._backward\n"
      ]
    },
    {
      "cell_type": "code",
      "execution_count": 39,
      "metadata": {
        "id": "ZY_fq33KOlbe"
      },
      "outputs": [],
      "source": [
        "o._backward()\n",
        "# so waht it shoud do is propagate the o's grad thruogh the tanh\n",
        "# local * global derivative\n",
        "# n's grad should be now 0.5 🔥"
      ]
    },
    {
      "cell_type": "code",
      "execution_count": 40,
      "metadata": {
        "id": "LRMwwiyXOwur"
      },
      "outputs": [],
      "source": [
        "# now call n._backward()\n",
        "n._backward()"
      ]
    },
    {
      "cell_type": "code",
      "execution_count": 41,
      "metadata": {
        "id": "SdzCBKv-PjgB"
      },
      "outputs": [],
      "source": [
        "b._backward()\n",
        "# NOTE ✏️ 📍\n",
        "# b is a leaf node and b's backward is by initialization the empty function, so nothing will be called."
      ]
    },
    {
      "cell_type": "code",
      "execution_count": 42,
      "metadata": {
        "id": "OPxzaa1HPxJI"
      },
      "outputs": [],
      "source": [
        "x1w1x2w2._backward()"
      ]
    },
    {
      "cell_type": "code",
      "execution_count": 43,
      "metadata": {
        "id": "UaphTwZTR2sQ"
      },
      "outputs": [],
      "source": [
        "x2w2._backward()"
      ]
    },
    {
      "cell_type": "code",
      "execution_count": 44,
      "metadata": {
        "id": "fV4EhI25R9U4"
      },
      "outputs": [],
      "source": [
        "x1w1._backward()"
      ]
    },
    {
      "cell_type": "markdown",
      "metadata": {
        "id": "-RM-06PoSn2H"
      },
      "source": [
        "so we get values as exactly as before. But now we done it through the backward function.\n",
        "\n",
        "Now one last pice to get read off which is calling _backward function manually.\n",
        "\n",
        "## why topological sort?\n",
        "\n",
        "Think what we did actually.\n",
        "1st we layedown the mathematical expression and trying to go backward through that expression.\n",
        "\n",
        "going backward through expression means we never want to call ._backward for any node before anything we have done everything after it.\n",
        "\n",
        "we have to get all its full dependencies, like from graph its right to left.\n",
        "\n",
        "so this ordering of graph can be achieved through something called topological sort.\n",
        "\n",
        "Topological sort: arrengement of a graph such that all the edges go only from left to right. given DAG we get ordering such that all the edges go only one way left to right.\n",
        "\n",
        "implementation of topological sort"
      ]
    },
    {
      "cell_type": "markdown",
      "metadata": {
        "id": "NS3bWNNfkU5W"
      },
      "source": [
        "### Explaination of topological sort code\n",
        "- It builds the topological graph\n",
        "- maintain visited nodes\n",
        "- then going through starting at some root node, in our case its `o`.\n",
        "- and starting with `o` it goes through all of its children and lay them out from left to right.\n",
        "\n",
        "- starts with `o`, if its not visited, mark as visited, then it iterates through all its children and calls topological sort on them, and after visiting all its children it adds itself"
      ]
    },
    {
      "cell_type": "code",
      "execution_count": 45,
      "metadata": {
        "colab": {
          "base_uri": "https://localhost:8080/"
        },
        "id": "UKbXRp0mSFZM",
        "outputId": "0b361d1c-80ed-4bb8-8679-46717aef44cd"
      },
      "outputs": [
        {
          "output_type": "execute_result",
          "data": {
            "text/plain": [
              "[Value(data=6.8813),\n",
              " Value(data=0.0),\n",
              " Value(data=1.0),\n",
              " Value(data=0.0),\n",
              " Value(data=2.0),\n",
              " Value(data=-3.0),\n",
              " Value(data=-6.0),\n",
              " Value(data=-6.0),\n",
              " Value(data=0.8813000000000004),\n",
              " Value(data=0.7070699857622339)]"
            ]
          },
          "metadata": {},
          "execution_count": 45
        }
      ],
      "source": [
        "# this builds the topological graph\n",
        "topo = []\n",
        "visited = set() # maintaining set of visited nodes\n",
        "def build_topo(v):\n",
        "  if v not in visited:\n",
        "    visited.add(v)\n",
        "    for child in v._prev:\n",
        "      build_topo(child)\n",
        "    topo.append(v) # add after all of its child is added/procesed\n",
        "\n",
        "build_topo(o) # build topo on o\n",
        "topo # see the list"
      ]
    },
    {
      "cell_type": "markdown",
      "metadata": {
        "id": "rEgmXxaitljs"
      },
      "source": [
        "in above result the last elemet is `o`, and second last is `n` and so on.\n",
        "\n",
        "so what we are doing is calling ._backward in all of nodes in topological order.\n",
        "\n",
        "reset the gradients to set 0.\n",
        "\n",
        "then start by setting o.grad = 1.0, thats base case.\n",
        "then build the topological order, and then for node in reversed of topo. reverse order because the topo list goes from leaf to root but here we want to calculate from root which is `o` so thats why in reverse order.\n",
        "\n"
      ]
    },
    {
      "cell_type": "code",
      "execution_count": 46,
      "metadata": {
        "id": "UGFn0RwmvVtY"
      },
      "outputs": [],
      "source": [
        "o.grad = 1.0\n",
        "\n",
        "topo = []\n",
        "visited = set() # maintaining set of visited nodes\n",
        "def build_topo(v):\n",
        "  if v not in visited:\n",
        "    visited.add(v)\n",
        "    for child in v._prev:\n",
        "      build_topo(child)\n",
        "    topo.append(v) # add after all of its child is added/procesed\n",
        "\n",
        "build_topo(o) # build topo on o\n",
        "topo #\n",
        "\n",
        "for node in reversed(topo):\n",
        "  node._backward()"
      ]
    },
    {
      "cell_type": "markdown",
      "metadata": {
        "id": "11eZDNnWwKLX"
      },
      "source": [
        "Finally hide this functionality inside the Value class. So instead of _backward defining actual backward function\n",
        "\n",
        "\n",
        "# Explaination of backward function\n",
        "- this is the actual backward function without the underscore(_)\n",
        "- first build a topological graph starting at self.\n",
        "- so build_topo(self) will populate topological order into the `topo` list which is local variable.\n",
        "- then set self.grad to 1.0\n",
        "- and then each node in reversed list, starting at last and all the children.\n",
        "thats it.\n",
        "\n",
        "now reset parameters and set grad to 0.\n",
        "\n",
        "and now `o.backward()` without the underscore and see the results 🔥🔥🔥😃✨\n"
      ]
    },
    {
      "cell_type": "code",
      "execution_count": 47,
      "metadata": {
        "id": "ZLHP1qVcvVqp"
      },
      "outputs": [],
      "source": [
        "o.backward()"
      ]
    },
    {
      "cell_type": "markdown",
      "source": [
        "So that's a backpropagation of a single neuron."
      ],
      "metadata": {
        "id": "noGfKD37hLLL"
      }
    },
    {
      "cell_type": "markdown",
      "source": [
        "## Bug in Value class\n",
        "\n",
        "**Description**: There's some specific conditions where we have to think about.\n",
        "\n",
        "Here's simpel case of a bug.\n",
        "\n",
        "create a single node `a`. then create a `b` that's `a+a`. then called `backward()`\n",
        "\n",
        "```py\n",
        "a = Value(3.0, label='a')\n",
        "b = a + a; b.label='b'\n",
        "b.backward()\n",
        "draw_dot(b)\n",
        "\n",
        "```"
      ],
      "metadata": {
        "id": "0KjHd5qadO1j"
      }
    },
    {
      "cell_type": "code",
      "execution_count": 48,
      "metadata": {
        "id": "nrAwK9M_sDiN",
        "colab": {
          "base_uri": "https://localhost:8080/",
          "height": 81
        },
        "outputId": "db24c64c-6329-43ac-9367-786c8c597cce"
      },
      "outputs": [
        {
          "output_type": "execute_result",
          "data": {
            "image/svg+xml": "<?xml version=\"1.0\" encoding=\"UTF-8\" standalone=\"no\"?>\n<!DOCTYPE svg PUBLIC \"-//W3C//DTD SVG 1.1//EN\"\n \"http://www.w3.org/Graphics/SVG/1.1/DTD/svg11.dtd\">\n<!-- Generated by graphviz version 2.43.0 (0)\n -->\n<!-- Title: %3 Pages: 1 -->\n<svg width=\"504pt\" height=\"45pt\"\n viewBox=\"0.00 0.00 504.00 45.00\" xmlns=\"http://www.w3.org/2000/svg\" xmlns:xlink=\"http://www.w3.org/1999/xlink\">\n<g id=\"graph0\" class=\"graph\" transform=\"scale(1 1) rotate(0) translate(4 41)\">\n<title>%3</title>\n<polygon fill=\"white\" stroke=\"transparent\" points=\"-4,4 -4,-41 500,-41 500,4 -4,4\"/>\n<!-- 136221618672768 -->\n<g id=\"node1\" class=\"node\">\n<title>136221618672768</title>\n<polygon fill=\"none\" stroke=\"black\" points=\"311,-0.5 311,-36.5 496,-36.5 496,-0.5 311,-0.5\"/>\n<text text-anchor=\"middle\" x=\"322.5\" y=\"-14.8\" font-family=\"Times,serif\" font-size=\"14.00\">b</text>\n<polyline fill=\"none\" stroke=\"black\" points=\"334,-0.5 334,-36.5 \"/>\n<text text-anchor=\"middle\" x=\"374\" y=\"-14.8\" font-family=\"Times,serif\" font-size=\"14.00\">data 6.0000</text>\n<polyline fill=\"none\" stroke=\"black\" points=\"414,-0.5 414,-36.5 \"/>\n<text text-anchor=\"middle\" x=\"455\" y=\"-14.8\" font-family=\"Times,serif\" font-size=\"14.00\">grad 1.0000</text>\n</g>\n<!-- 136221618672768+ -->\n<g id=\"node2\" class=\"node\">\n<title>136221618672768+</title>\n<ellipse fill=\"none\" stroke=\"black\" cx=\"248\" cy=\"-18.5\" rx=\"27\" ry=\"18\"/>\n<text text-anchor=\"middle\" x=\"248\" y=\"-14.8\" font-family=\"Times,serif\" font-size=\"14.00\">+</text>\n</g>\n<!-- 136221618672768+&#45;&gt;136221618672768 -->\n<g id=\"edge1\" class=\"edge\">\n<title>136221618672768+&#45;&gt;136221618672768</title>\n<path fill=\"none\" stroke=\"black\" d=\"M275.04,-18.5C282.58,-18.5 291.3,-18.5 300.57,-18.5\"/>\n<polygon fill=\"black\" stroke=\"black\" points=\"300.81,-22 310.81,-18.5 300.81,-15 300.81,-22\"/>\n</g>\n<!-- 136221618670032 -->\n<g id=\"node3\" class=\"node\">\n<title>136221618670032</title>\n<polygon fill=\"none\" stroke=\"black\" points=\"0,-0.5 0,-36.5 185,-36.5 185,-0.5 0,-0.5\"/>\n<text text-anchor=\"middle\" x=\"11.5\" y=\"-14.8\" font-family=\"Times,serif\" font-size=\"14.00\">a</text>\n<polyline fill=\"none\" stroke=\"black\" points=\"23,-0.5 23,-36.5 \"/>\n<text text-anchor=\"middle\" x=\"63\" y=\"-14.8\" font-family=\"Times,serif\" font-size=\"14.00\">data 3.0000</text>\n<polyline fill=\"none\" stroke=\"black\" points=\"103,-0.5 103,-36.5 \"/>\n<text text-anchor=\"middle\" x=\"144\" y=\"-14.8\" font-family=\"Times,serif\" font-size=\"14.00\">grad 2.0000</text>\n</g>\n<!-- 136221618670032&#45;&gt;136221618672768+ -->\n<g id=\"edge2\" class=\"edge\">\n<title>136221618670032&#45;&gt;136221618672768+</title>\n<path fill=\"none\" stroke=\"black\" d=\"M185.01,-18.5C194.01,-18.5 202.74,-18.5 210.66,-18.5\"/>\n<polygon fill=\"black\" stroke=\"black\" points=\"210.91,-22 220.91,-18.5 210.91,-15 210.91,-22\"/>\n</g>\n</g>\n</svg>\n",
            "text/plain": [
              "<graphviz.graphs.Digraph at 0x7be491311540>"
            ]
          },
          "metadata": {},
          "execution_count": 48
        }
      ],
      "source": [
        "a = Value(3.0, label='a')\n",
        "b = a + a; b.label='b'\n",
        "b.backward()\n",
        "draw_dot(b)"
      ]
    },
    {
      "cell_type": "markdown",
      "source": [
        "**Description of above graph**\n",
        "\n",
        "So `a` is `3` and `b` is `a+a`. so there's two arrows on top of each other. `b` is `a+a` which is `6` so forward pass works but the problem is the gradient is not correct that we calculated automatically by calling backward() function.\n",
        "\n",
        "So by calculating the derivative of `b` wrt `a` which is `2`. but its showing `1`.\n",
        "\n",
        "See what backward() dose.\n",
        "\n",
        "`b` is the result of addition and its `a+a` that is `self + other` and both are same object `a`.\n",
        "\n",
        "and then we called backward(), so it sets self.grad to 1 and then other.grad to 1.\n",
        "\n",
        "but because we are doing `a+a` self and other are the same object and its just overriding the gradient value. setting it to 1 again and again that's why it stays at 1. So that's problem. we will get into issue everytime we use the variable more than once. in earlier example every variable used exactly once so, we didn't see the issue.\n",
        "\n",
        "**Solution**\n",
        "\n",
        "look at multivariate chain rule. Its just that we accumulate these gradients. these gradients add.\n",
        "\n",
        "so, instead of setting those gradients(`=`) we can do `+=`. need to acumulate those gradients. and it will work because we are initializing them with 0.\n",
        "\n",
        "so it starts with 0 and then any contribution that flows backwards will simply add.\n",
        "\n",
        "see by redefining the above equations a's gradients should be 2 now.\n",
        "\n",
        "## Takeaway\n",
        "\n",
        "If the variable are used multiple time in network then it must add gradient of each operation or accumulate but our Value class was overriting the previous values instead of adding gradient with its previous value. so changed it with `+=`"
      ],
      "metadata": {
        "id": "4knrq8PifWr4"
      }
    },
    {
      "cell_type": "code",
      "source": [
        "a = Value(3.0, label='a')\n",
        "b = a + a; b.label='b'\n",
        "b.backward()\n",
        "draw_dot(b)"
      ],
      "metadata": {
        "colab": {
          "base_uri": "https://localhost:8080/",
          "height": 81
        },
        "id": "-TvnIqkLfUJW",
        "outputId": "356b2789-0f92-4044-e7fc-0939185dcfbb"
      },
      "execution_count": 49,
      "outputs": [
        {
          "output_type": "execute_result",
          "data": {
            "image/svg+xml": "<?xml version=\"1.0\" encoding=\"UTF-8\" standalone=\"no\"?>\n<!DOCTYPE svg PUBLIC \"-//W3C//DTD SVG 1.1//EN\"\n \"http://www.w3.org/Graphics/SVG/1.1/DTD/svg11.dtd\">\n<!-- Generated by graphviz version 2.43.0 (0)\n -->\n<!-- Title: %3 Pages: 1 -->\n<svg width=\"504pt\" height=\"45pt\"\n viewBox=\"0.00 0.00 504.00 45.00\" xmlns=\"http://www.w3.org/2000/svg\" xmlns:xlink=\"http://www.w3.org/1999/xlink\">\n<g id=\"graph0\" class=\"graph\" transform=\"scale(1 1) rotate(0) translate(4 41)\">\n<title>%3</title>\n<polygon fill=\"white\" stroke=\"transparent\" points=\"-4,4 -4,-41 500,-41 500,4 -4,4\"/>\n<!-- 136221640507152 -->\n<g id=\"node1\" class=\"node\">\n<title>136221640507152</title>\n<polygon fill=\"none\" stroke=\"black\" points=\"0,-0.5 0,-36.5 185,-36.5 185,-0.5 0,-0.5\"/>\n<text text-anchor=\"middle\" x=\"11.5\" y=\"-14.8\" font-family=\"Times,serif\" font-size=\"14.00\">a</text>\n<polyline fill=\"none\" stroke=\"black\" points=\"23,-0.5 23,-36.5 \"/>\n<text text-anchor=\"middle\" x=\"63\" y=\"-14.8\" font-family=\"Times,serif\" font-size=\"14.00\">data 3.0000</text>\n<polyline fill=\"none\" stroke=\"black\" points=\"103,-0.5 103,-36.5 \"/>\n<text text-anchor=\"middle\" x=\"144\" y=\"-14.8\" font-family=\"Times,serif\" font-size=\"14.00\">grad 2.0000</text>\n</g>\n<!-- 136221618673584+ -->\n<g id=\"node3\" class=\"node\">\n<title>136221618673584+</title>\n<ellipse fill=\"none\" stroke=\"black\" cx=\"248\" cy=\"-18.5\" rx=\"27\" ry=\"18\"/>\n<text text-anchor=\"middle\" x=\"248\" y=\"-14.8\" font-family=\"Times,serif\" font-size=\"14.00\">+</text>\n</g>\n<!-- 136221640507152&#45;&gt;136221618673584+ -->\n<g id=\"edge2\" class=\"edge\">\n<title>136221640507152&#45;&gt;136221618673584+</title>\n<path fill=\"none\" stroke=\"black\" d=\"M185.01,-18.5C194.01,-18.5 202.74,-18.5 210.66,-18.5\"/>\n<polygon fill=\"black\" stroke=\"black\" points=\"210.91,-22 220.91,-18.5 210.91,-15 210.91,-22\"/>\n</g>\n<!-- 136221618673584 -->\n<g id=\"node2\" class=\"node\">\n<title>136221618673584</title>\n<polygon fill=\"none\" stroke=\"black\" points=\"311,-0.5 311,-36.5 496,-36.5 496,-0.5 311,-0.5\"/>\n<text text-anchor=\"middle\" x=\"322.5\" y=\"-14.8\" font-family=\"Times,serif\" font-size=\"14.00\">b</text>\n<polyline fill=\"none\" stroke=\"black\" points=\"334,-0.5 334,-36.5 \"/>\n<text text-anchor=\"middle\" x=\"374\" y=\"-14.8\" font-family=\"Times,serif\" font-size=\"14.00\">data 6.0000</text>\n<polyline fill=\"none\" stroke=\"black\" points=\"414,-0.5 414,-36.5 \"/>\n<text text-anchor=\"middle\" x=\"455\" y=\"-14.8\" font-family=\"Times,serif\" font-size=\"14.00\">grad 1.0000</text>\n</g>\n<!-- 136221618673584+&#45;&gt;136221618673584 -->\n<g id=\"edge1\" class=\"edge\">\n<title>136221618673584+&#45;&gt;136221618673584</title>\n<path fill=\"none\" stroke=\"black\" d=\"M275.04,-18.5C282.58,-18.5 291.3,-18.5 300.57,-18.5\"/>\n<polygon fill=\"black\" stroke=\"black\" points=\"300.81,-22 310.81,-18.5 300.81,-15 300.81,-22\"/>\n</g>\n</g>\n</svg>\n",
            "text/plain": [
              "<graphviz.graphs.Digraph at 0x7be4927e2770>"
            ]
          },
          "metadata": {},
          "execution_count": 49
        }
      ]
    },
    {
      "cell_type": "markdown",
      "source": [
        "## Breaking Down tanh function into explicite atom\n",
        "\n",
        "- we can break down the tanh function similar to other add and mul operation and have their derivatives and get the same result.\n",
        "\n",
        "As this is the tanh\n",
        "\n",
        " $$ tanh \\; x = \\frac{sinh \\; x}{cosh \\; x} = \\frac{e^x - e^{-x}}{e^x + e^{-x}} = \\frac{e^{2x} - 1}{e^{2x} + 1}. $$.\n",
        "\n",
        " - and I did implemented tanh as a single function in the Value class. and we can do that because we know it's derivative and can backpropagate thorough it.\n",
        " - But we can also break down tanh into and express it as function of x. and we can get the same result and gradients.\n",
        " - It forces us to implement a few more expressions like exponentiation, addition, subtraction, division, etc. And its good excercise to implement few more of these.\n",
        "\n",
        "\n",
        " **1. can't do Value(a) + 1**\n",
        "\n",
        " - we can do addition of value object with constant like\n",
        " ```py\n",
        " a = Value(2.0)\n",
        " a+1 # will rais error\n",
        " ```\n",
        " - as in tanh we add and substract with constant 1 so we need this feature.\n",
        " - can't add constant 1 with object a. bcs as of now it only allows addition of two objects.\n",
        " - values will go into self and others. self is a object and other is a 1. and there's no `1.data`. `1` is not a value object.\n",
        " - for convinence we can create expressions like this.\n",
        "\n",
        " Solution: check if other is instance of value class if not create other to value object.\n",
        "\n",
        " ```py\n",
        " other = other if isinstance(other, Value) else Value(other)\n",
        " ```\n",
        "\n",
        " - Now do the same thing for multiply."
      ],
      "metadata": {
        "id": "yT4IiL8cA1do"
      }
    },
    {
      "cell_type": "code",
      "source": [
        "a = Value(2.0)\n",
        "a+1 # will rais error. can't add constant 1 with object a. bcs as of now it only allows addition of two objects."
      ],
      "metadata": {
        "colab": {
          "base_uri": "https://localhost:8080/"
        },
        "id": "p_hUMHAgrFwx",
        "outputId": "a146c539-c395-4bf4-80a1-3e23292e1e37"
      },
      "execution_count": 50,
      "outputs": [
        {
          "output_type": "execute_result",
          "data": {
            "text/plain": [
              "Value(data=3.0)"
            ]
          },
          "metadata": {},
          "execution_count": 50
        }
      ]
    },
    {
      "cell_type": "code",
      "source": [
        "a = Value(2.0)\n",
        "a+1 # now this will work"
      ],
      "metadata": {
        "id": "d0ssQBYGGKLJ",
        "colab": {
          "base_uri": "https://localhost:8080/"
        },
        "outputId": "e889dca4-24d8-4d43-fcb5-3476f304addc"
      },
      "execution_count": 51,
      "outputs": [
        {
          "output_type": "execute_result",
          "data": {
            "text/plain": [
              "Value(data=3.0)"
            ]
          },
          "metadata": {},
          "execution_count": 51
        }
      ]
    },
    {
      "cell_type": "code",
      "source": [
        "a*2"
      ],
      "metadata": {
        "colab": {
          "base_uri": "https://localhost:8080/"
        },
        "id": "MPPrvio_AR58",
        "outputId": "383640a3-90e2-4236-de21-21e60571ec48"
      },
      "execution_count": 52,
      "outputs": [
        {
          "output_type": "execute_result",
          "data": {
            "text/plain": [
              "Value(data=4.0)"
            ]
          },
          "metadata": {},
          "execution_count": 52
        }
      ]
    },
    {
      "cell_type": "markdown",
      "source": [
        "\n",
        " **2. can't do 1 * Value(2.0)**\n",
        " - we can do `a + 1 or a * 1`. assume `a` is a Value object.\n",
        " - but we can't do `1 + a or 1 * a`.\n",
        "\n",
        " for `a+1` it calls `a.__add__(1)`\n",
        "\n",
        " but for `1+a` it can't `1.__add__(a)` there no such thing.\n",
        "\n",
        "\n",
        " **Solution**\n",
        "\n",
        " - in python we're free to define something called `__rmul__`.\n",
        " - and rmul is kind of like fallback.\n",
        " - if pyhton can'd do `2*a` it will check if by chance `a` knows how to multiply `2`.\n",
        " - and that will be called into `rmul`\n",
        " - and rmul will call `a * 2` and that will work\n",
        " - so `2*a` will redirect to `rmul` and `rmul` will call `a*2`. redefining with `rmul`\n"
      ],
      "metadata": {
        "id": "yVWSYFTDBPRp"
      }
    },
    {
      "cell_type": "code",
      "source": [
        "2*a"
      ],
      "metadata": {
        "colab": {
          "base_uri": "https://localhost:8080/"
        },
        "id": "lYoKeFaBAw1N",
        "outputId": "a4ccfed9-42de-4e06-9d86-599661e7d906"
      },
      "execution_count": 53,
      "outputs": [
        {
          "output_type": "execute_result",
          "data": {
            "text/plain": [
              "Value(data=4.0)"
            ]
          },
          "metadata": {},
          "execution_count": 53
        }
      ]
    },
    {
      "cell_type": "markdown",
      "source": [
        "- Now look at the other expressions that we need.\n",
        "- we need to know how to exponentiate and how to divide.\n",
        "\n",
        "### 1st Exponentiation\n",
        "\n",
        "- defining single function `exp`\n",
        "- mirroring tanh function its a simple function that transform a single scaler value and output a single scaler value.\n",
        "- poppign out the number from value object and then applying math.exp and creating its value object.\n",
        "\n",
        "- Triky part: how to backpropagate through e^x.\n",
        "- Its derivation is the function itself. so output data * out.grad goes into _backward function.\n"
      ],
      "metadata": {
        "id": "tQ5G5LxZUmJC"
      }
    },
    {
      "cell_type": "code",
      "source": [
        "a = Value(2.0)\n",
        "a.exp()"
      ],
      "metadata": {
        "id": "UZC8WxXwTINT",
        "colab": {
          "base_uri": "https://localhost:8080/"
        },
        "outputId": "ca237059-8c60-426e-8042-299bfb27cd2e"
      },
      "execution_count": 54,
      "outputs": [
        {
          "output_type": "execute_result",
          "data": {
            "text/plain": [
              "Value(data=7.38905609893065)"
            ]
          },
          "metadata": {},
          "execution_count": 54
        }
      ]
    },
    {
      "cell_type": "markdown",
      "source": [
        "So forward pass works! in exp and hopefuly backward as well.\n",
        "\n",
        "## Lastly Divide operation.\n",
        "- People implement something more powerful than a division.\n",
        "- bcs division is the speacial case of something a bit more powerful.\n",
        "\n",
        "Here we would like to do following operation.\n",
        "```py\n",
        "\n",
        "a = Value(10.0)\n",
        "b = Value(2.0)\n",
        "a / b # will give error as we haven't implemented yet\n",
        "```"
      ],
      "metadata": {
        "id": "pDS5C_pQboJm"
      }
    },
    {
      "cell_type": "code",
      "source": [
        "a = Value(10.0)\n",
        "b = Value(2.0)\n",
        "a / b"
      ],
      "metadata": {
        "colab": {
          "base_uri": "https://localhost:8080/"
        },
        "id": "XKp-vS8tbmvK",
        "outputId": "e87d4e28-81fe-48fb-c183-900ec2ae6779"
      },
      "execution_count": 55,
      "outputs": [
        {
          "output_type": "execute_result",
          "data": {
            "text/plain": [
              "Value(data=5.0)"
            ]
          },
          "metadata": {},
          "execution_count": 55
        }
      ]
    },
    {
      "cell_type": "code",
      "source": [],
      "metadata": {
        "id": "3jlU4yHfPe6W"
      },
      "execution_count": 55,
      "outputs": []
    },
    {
      "cell_type": "markdown",
      "source": [
        " following 3 instructions will work sameway division.\n",
        "\n",
        " a / b\n",
        "\n",
        " a * (1/b)\n",
        "\n",
        " a * (b**-1)\n",
        "\n",
        " these three expressions will give the same result\n",
        "\n",
        " x ** k\n",
        "\n",
        " here we want to implement x to the k for some constant int or float\n",
        " and would like to differentiate this\n",
        " and -1 is the special case for the division.\n",
        " reason to do this is that its more general.\n",
        "\n",
        " so redefining division operation\n",
        " we can redefine the division using following\n",
        "\n",
        "```py\n",
        "  def _truediv__(self, other): # self / other\n",
        "    return self * other**-1\n",
        "```\n",
        "\n",
        "## Pow\n",
        "- so in division we used `other**-1` power operation so here we also need to redefine that and its derivation _backward stub.\n",
        "\n",
        "- so we need to implement `__pow__` function\n",
        "- So now forward pass works\n",
        "- but still have to check for backward pass\n",
        "\n",
        "## Subtract\n",
        "\n",
        "We also have to implement subtract\n",
        "\n",
        "withowt that `a-b` wont work.\n",
        "- implemented by addition of negation.\n",
        "- and for negetion, multiply by -1\n",
        "- and using the stuff that we already build"
      ],
      "metadata": {
        "id": "w3cJg7Xzfopu"
      }
    },
    {
      "cell_type": "code",
      "source": [
        "a-b\n"
      ],
      "metadata": {
        "colab": {
          "base_uri": "https://localhost:8080/"
        },
        "id": "Jy_f2knvcbxT",
        "outputId": "b342780c-2344-442d-829f-66e5db0e86bb"
      },
      "execution_count": 56,
      "outputs": [
        {
          "output_type": "execute_result",
          "data": {
            "text/plain": [
              "Value(data=8.0)"
            ]
          },
          "metadata": {},
          "execution_count": 56
        }
      ]
    },
    {
      "cell_type": "code",
      "source": [
        "# inputs x1, x2   2D neuron, so two inputs are gonna comin\n",
        "x1 = Value(2.0, label=\"x1\")\n",
        "x2 = Value(0.0, label=\"x2\")\n",
        "\n",
        "# weights of neuron w1, w2\n",
        "w1 = Value(-3.0, label=\"w1\")\n",
        "w2 = Value(1.0, label=\"w2\")\n",
        "\n",
        "# bias of the neuron\n",
        "b = Value(6.8813, label=\"b\")\n",
        "\n",
        "# (x1*w1) + (x2*w2) + b\n",
        "x1w1 = x1 * w1; x1w1.label = \"x1w1\";\n",
        "x2w2 = x2 * w2; x2w2.label = \"x2w2\";\n",
        "\n",
        "x1w1x2w2 = x1w1 + x2w2; x1w1x2w2.label = \"x1w1x2w2\";\n",
        "\n",
        "n = x1w1x2w2 + b; n.label=\"n\";\n",
        "o = n.tanh(); o.label = 'o' # now we can do these and thats going to return tanhd output of n\n",
        "# draw_dot(o)\n",
        "o.backward()"
      ],
      "metadata": {
        "id": "qgyxbLJSQUCD"
      },
      "execution_count": 57,
      "outputs": []
    },
    {
      "cell_type": "code",
      "source": [
        "draw_dot(o)"
      ],
      "metadata": {
        "colab": {
          "base_uri": "https://localhost:8080/",
          "height": 321
        },
        "id": "DrOULbxsWjJJ",
        "outputId": "66961379-b0aa-498b-9597-00b851414295"
      },
      "execution_count": 58,
      "outputs": [
        {
          "output_type": "execute_result",
          "data": {
            "image/svg+xml": "<?xml version=\"1.0\" encoding=\"UTF-8\" standalone=\"no\"?>\n<!DOCTYPE svg PUBLIC \"-//W3C//DTD SVG 1.1//EN\"\n \"http://www.w3.org/Graphics/SVG/1.1/DTD/svg11.dtd\">\n<!-- Generated by graphviz version 2.43.0 (0)\n -->\n<!-- Title: %3 Pages: 1 -->\n<svg width=\"1540pt\" height=\"210pt\"\n viewBox=\"0.00 0.00 1540.00 210.00\" xmlns=\"http://www.w3.org/2000/svg\" xmlns:xlink=\"http://www.w3.org/1999/xlink\">\n<g id=\"graph0\" class=\"graph\" transform=\"scale(1 1) rotate(0) translate(4 206)\">\n<title>%3</title>\n<polygon fill=\"white\" stroke=\"transparent\" points=\"-4,4 -4,-206 1536,-206 1536,4 -4,4\"/>\n<!-- 136221618677856 -->\n<g id=\"node1\" class=\"node\">\n<title>136221618677856</title>\n<polygon fill=\"none\" stroke=\"black\" points=\"1036,-54.5 1036,-90.5 1221,-90.5 1221,-54.5 1036,-54.5\"/>\n<text text-anchor=\"middle\" x=\"1047.5\" y=\"-68.8\" font-family=\"Times,serif\" font-size=\"14.00\">n</text>\n<polyline fill=\"none\" stroke=\"black\" points=\"1059,-54.5 1059,-90.5 \"/>\n<text text-anchor=\"middle\" x=\"1099\" y=\"-68.8\" font-family=\"Times,serif\" font-size=\"14.00\">data 0.8813</text>\n<polyline fill=\"none\" stroke=\"black\" points=\"1139,-54.5 1139,-90.5 \"/>\n<text text-anchor=\"middle\" x=\"1180\" y=\"-68.8\" font-family=\"Times,serif\" font-size=\"14.00\">grad 0.5001</text>\n</g>\n<!-- 136221618682752tanh -->\n<g id=\"node11\" class=\"node\">\n<title>136221618682752tanh</title>\n<ellipse fill=\"none\" stroke=\"black\" cx=\"1284\" cy=\"-72.5\" rx=\"27\" ry=\"18\"/>\n<text text-anchor=\"middle\" x=\"1284\" y=\"-68.8\" font-family=\"Times,serif\" font-size=\"14.00\">tanh</text>\n</g>\n<!-- 136221618677856&#45;&gt;136221618682752tanh -->\n<g id=\"edge8\" class=\"edge\">\n<title>136221618677856&#45;&gt;136221618682752tanh</title>\n<path fill=\"none\" stroke=\"black\" d=\"M1221.01,-72.5C1230.01,-72.5 1238.74,-72.5 1246.66,-72.5\"/>\n<polygon fill=\"black\" stroke=\"black\" points=\"1246.91,-76 1256.91,-72.5 1246.91,-69 1246.91,-76\"/>\n</g>\n<!-- 136221618677856+ -->\n<g id=\"node2\" class=\"node\">\n<title>136221618677856+</title>\n<ellipse fill=\"none\" stroke=\"black\" cx=\"973\" cy=\"-72.5\" rx=\"27\" ry=\"18\"/>\n<text text-anchor=\"middle\" x=\"973\" y=\"-68.8\" font-family=\"Times,serif\" font-size=\"14.00\">+</text>\n</g>\n<!-- 136221618677856+&#45;&gt;136221618677856 -->\n<g id=\"edge1\" class=\"edge\">\n<title>136221618677856+&#45;&gt;136221618677856</title>\n<path fill=\"none\" stroke=\"black\" d=\"M1000.04,-72.5C1007.58,-72.5 1016.3,-72.5 1025.57,-72.5\"/>\n<polygon fill=\"black\" stroke=\"black\" points=\"1025.81,-76 1035.81,-72.5 1025.81,-69 1025.81,-76\"/>\n</g>\n<!-- 136221618675840 -->\n<g id=\"node3\" class=\"node\">\n<title>136221618675840</title>\n<polygon fill=\"none\" stroke=\"black\" points=\"328.5,-110.5 328.5,-146.5 537.5,-146.5 537.5,-110.5 328.5,-110.5\"/>\n<text text-anchor=\"middle\" x=\"352\" y=\"-124.8\" font-family=\"Times,serif\" font-size=\"14.00\">x2w2</text>\n<polyline fill=\"none\" stroke=\"black\" points=\"375.5,-110.5 375.5,-146.5 \"/>\n<text text-anchor=\"middle\" x=\"415.5\" y=\"-124.8\" font-family=\"Times,serif\" font-size=\"14.00\">data 0.0000</text>\n<polyline fill=\"none\" stroke=\"black\" points=\"455.5,-110.5 455.5,-146.5 \"/>\n<text text-anchor=\"middle\" x=\"496.5\" y=\"-124.8\" font-family=\"Times,serif\" font-size=\"14.00\">grad 0.5001</text>\n</g>\n<!-- 136221618677040+ -->\n<g id=\"node9\" class=\"node\">\n<title>136221618677040+</title>\n<ellipse fill=\"none\" stroke=\"black\" cx=\"603\" cy=\"-100.5\" rx=\"27\" ry=\"18\"/>\n<text text-anchor=\"middle\" x=\"603\" y=\"-96.8\" font-family=\"Times,serif\" font-size=\"14.00\">+</text>\n</g>\n<!-- 136221618675840&#45;&gt;136221618677040+ -->\n<g id=\"edge12\" class=\"edge\">\n<title>136221618675840&#45;&gt;136221618677040+</title>\n<path fill=\"none\" stroke=\"black\" d=\"M537.53,-111.25C547.8,-109.53 557.66,-107.89 566.45,-106.43\"/>\n<polygon fill=\"black\" stroke=\"black\" points=\"567.3,-109.83 576.59,-104.74 566.15,-102.93 567.3,-109.83\"/>\n</g>\n<!-- 136221618675840* -->\n<g id=\"node4\" class=\"node\">\n<title>136221618675840*</title>\n<ellipse fill=\"none\" stroke=\"black\" cx=\"263\" cy=\"-128.5\" rx=\"27\" ry=\"18\"/>\n<text text-anchor=\"middle\" x=\"263\" y=\"-124.8\" font-family=\"Times,serif\" font-size=\"14.00\">*</text>\n</g>\n<!-- 136221618675840*&#45;&gt;136221618675840 -->\n<g id=\"edge2\" class=\"edge\">\n<title>136221618675840*&#45;&gt;136221618675840</title>\n<path fill=\"none\" stroke=\"black\" d=\"M290.25,-128.5C298.43,-128.5 308.03,-128.5 318.31,-128.5\"/>\n<polygon fill=\"black\" stroke=\"black\" points=\"318.35,-132 328.35,-128.5 318.35,-125 318.35,-132\"/>\n</g>\n<!-- 136221618670224 -->\n<g id=\"node5\" class=\"node\">\n<title>136221618670224</title>\n<polygon fill=\"none\" stroke=\"black\" points=\"326,-55.5 326,-91.5 540,-91.5 540,-55.5 326,-55.5\"/>\n<text text-anchor=\"middle\" x=\"349.5\" y=\"-69.8\" font-family=\"Times,serif\" font-size=\"14.00\">x1w1</text>\n<polyline fill=\"none\" stroke=\"black\" points=\"373,-55.5 373,-91.5 \"/>\n<text text-anchor=\"middle\" x=\"415.5\" y=\"-69.8\" font-family=\"Times,serif\" font-size=\"14.00\">data &#45;6.0000</text>\n<polyline fill=\"none\" stroke=\"black\" points=\"458,-55.5 458,-91.5 \"/>\n<text text-anchor=\"middle\" x=\"499\" y=\"-69.8\" font-family=\"Times,serif\" font-size=\"14.00\">grad 0.5001</text>\n</g>\n<!-- 136221618670224&#45;&gt;136221618677040+ -->\n<g id=\"edge9\" class=\"edge\">\n<title>136221618670224&#45;&gt;136221618677040+</title>\n<path fill=\"none\" stroke=\"black\" d=\"M540.4,-90.6C549.72,-92.1 558.65,-93.53 566.68,-94.82\"/>\n<polygon fill=\"black\" stroke=\"black\" points=\"566.24,-98.3 576.66,-96.43 567.35,-91.39 566.24,-98.3\"/>\n</g>\n<!-- 136221618670224* -->\n<g id=\"node6\" class=\"node\">\n<title>136221618670224*</title>\n<ellipse fill=\"none\" stroke=\"black\" cx=\"263\" cy=\"-73.5\" rx=\"27\" ry=\"18\"/>\n<text text-anchor=\"middle\" x=\"263\" y=\"-69.8\" font-family=\"Times,serif\" font-size=\"14.00\">*</text>\n</g>\n<!-- 136221618670224*&#45;&gt;136221618670224 -->\n<g id=\"edge3\" class=\"edge\">\n<title>136221618670224*&#45;&gt;136221618670224</title>\n<path fill=\"none\" stroke=\"black\" d=\"M290.25,-73.5C297.7,-73.5 306.34,-73.5 315.59,-73.5\"/>\n<polygon fill=\"black\" stroke=\"black\" points=\"315.84,-77 325.84,-73.5 315.84,-70 315.84,-77\"/>\n</g>\n<!-- 136221618683856 -->\n<g id=\"node7\" class=\"node\">\n<title>136221618683856</title>\n<polygon fill=\"none\" stroke=\"black\" points=\"4,-165.5 4,-201.5 196,-201.5 196,-165.5 4,-165.5\"/>\n<text text-anchor=\"middle\" x=\"19\" y=\"-179.8\" font-family=\"Times,serif\" font-size=\"14.00\">x2</text>\n<polyline fill=\"none\" stroke=\"black\" points=\"34,-165.5 34,-201.5 \"/>\n<text text-anchor=\"middle\" x=\"74\" y=\"-179.8\" font-family=\"Times,serif\" font-size=\"14.00\">data 0.0000</text>\n<polyline fill=\"none\" stroke=\"black\" points=\"114,-165.5 114,-201.5 \"/>\n<text text-anchor=\"middle\" x=\"155\" y=\"-179.8\" font-family=\"Times,serif\" font-size=\"14.00\">grad 0.5001</text>\n</g>\n<!-- 136221618683856&#45;&gt;136221618675840* -->\n<g id=\"edge14\" class=\"edge\">\n<title>136221618683856&#45;&gt;136221618675840*</title>\n<path fill=\"none\" stroke=\"black\" d=\"M172.53,-165.44C181.84,-162.67 191.2,-159.67 200,-156.5 210.53,-152.71 221.75,-147.9 231.72,-143.33\"/>\n<polygon fill=\"black\" stroke=\"black\" points=\"233.25,-146.48 240.82,-139.07 230.28,-140.14 233.25,-146.48\"/>\n</g>\n<!-- 136221618677040 -->\n<g id=\"node8\" class=\"node\">\n<title>136221618677040</title>\n<polygon fill=\"none\" stroke=\"black\" points=\"666,-82.5 666,-118.5 910,-118.5 910,-82.5 666,-82.5\"/>\n<text text-anchor=\"middle\" x=\"704.5\" y=\"-96.8\" font-family=\"Times,serif\" font-size=\"14.00\">x1w1x2w2</text>\n<polyline fill=\"none\" stroke=\"black\" points=\"743,-82.5 743,-118.5 \"/>\n<text text-anchor=\"middle\" x=\"785.5\" y=\"-96.8\" font-family=\"Times,serif\" font-size=\"14.00\">data &#45;6.0000</text>\n<polyline fill=\"none\" stroke=\"black\" points=\"828,-82.5 828,-118.5 \"/>\n<text text-anchor=\"middle\" x=\"869\" y=\"-96.8\" font-family=\"Times,serif\" font-size=\"14.00\">grad 0.5001</text>\n</g>\n<!-- 136221618677040&#45;&gt;136221618677856+ -->\n<g id=\"edge11\" class=\"edge\">\n<title>136221618677040&#45;&gt;136221618677856+</title>\n<path fill=\"none\" stroke=\"black\" d=\"M906.71,-82.49C917.38,-80.86 927.53,-79.3 936.51,-77.93\"/>\n<polygon fill=\"black\" stroke=\"black\" points=\"937.13,-81.38 946.48,-76.4 936.07,-74.46 937.13,-81.38\"/>\n</g>\n<!-- 136221618677040+&#45;&gt;136221618677040 -->\n<g id=\"edge4\" class=\"edge\">\n<title>136221618677040+&#45;&gt;136221618677040</title>\n<path fill=\"none\" stroke=\"black\" d=\"M630.22,-100.5C637.7,-100.5 646.4,-100.5 655.79,-100.5\"/>\n<polygon fill=\"black\" stroke=\"black\" points=\"655.8,-104 665.8,-100.5 655.8,-97 655.8,-104\"/>\n</g>\n<!-- 136221618682752 -->\n<g id=\"node10\" class=\"node\">\n<title>136221618682752</title>\n<polygon fill=\"none\" stroke=\"black\" points=\"1347,-54.5 1347,-90.5 1532,-90.5 1532,-54.5 1347,-54.5\"/>\n<text text-anchor=\"middle\" x=\"1358.5\" y=\"-68.8\" font-family=\"Times,serif\" font-size=\"14.00\">o</text>\n<polyline fill=\"none\" stroke=\"black\" points=\"1370,-54.5 1370,-90.5 \"/>\n<text text-anchor=\"middle\" x=\"1410\" y=\"-68.8\" font-family=\"Times,serif\" font-size=\"14.00\">data 0.7071</text>\n<polyline fill=\"none\" stroke=\"black\" points=\"1450,-54.5 1450,-90.5 \"/>\n<text text-anchor=\"middle\" x=\"1491\" y=\"-68.8\" font-family=\"Times,serif\" font-size=\"14.00\">grad 1.0000</text>\n</g>\n<!-- 136221618682752tanh&#45;&gt;136221618682752 -->\n<g id=\"edge5\" class=\"edge\">\n<title>136221618682752tanh&#45;&gt;136221618682752</title>\n<path fill=\"none\" stroke=\"black\" d=\"M1311.04,-72.5C1318.58,-72.5 1327.3,-72.5 1336.57,-72.5\"/>\n<polygon fill=\"black\" stroke=\"black\" points=\"1336.81,-76 1346.81,-72.5 1336.81,-69 1336.81,-76\"/>\n</g>\n<!-- 136221618682272 -->\n<g id=\"node12\" class=\"node\">\n<title>136221618682272</title>\n<polygon fill=\"none\" stroke=\"black\" points=\"695.5,-27.5 695.5,-63.5 880.5,-63.5 880.5,-27.5 695.5,-27.5\"/>\n<text text-anchor=\"middle\" x=\"707\" y=\"-41.8\" font-family=\"Times,serif\" font-size=\"14.00\">b</text>\n<polyline fill=\"none\" stroke=\"black\" points=\"718.5,-27.5 718.5,-63.5 \"/>\n<text text-anchor=\"middle\" x=\"758.5\" y=\"-41.8\" font-family=\"Times,serif\" font-size=\"14.00\">data 6.8813</text>\n<polyline fill=\"none\" stroke=\"black\" points=\"798.5,-27.5 798.5,-63.5 \"/>\n<text text-anchor=\"middle\" x=\"839.5\" y=\"-41.8\" font-family=\"Times,serif\" font-size=\"14.00\">grad 0.5001</text>\n</g>\n<!-- 136221618682272&#45;&gt;136221618677856+ -->\n<g id=\"edge10\" class=\"edge\">\n<title>136221618682272&#45;&gt;136221618677856+</title>\n<path fill=\"none\" stroke=\"black\" d=\"M880.77,-59.04C900.52,-61.95 920.26,-64.87 936.29,-67.23\"/>\n<polygon fill=\"black\" stroke=\"black\" points=\"935.86,-70.71 946.26,-68.7 936.88,-63.78 935.86,-70.71\"/>\n</g>\n<!-- 136221618680736 -->\n<g id=\"node13\" class=\"node\">\n<title>136221618680736</title>\n<polygon fill=\"none\" stroke=\"black\" points=\"0,-55.5 0,-91.5 200,-91.5 200,-55.5 0,-55.5\"/>\n<text text-anchor=\"middle\" x=\"16.5\" y=\"-69.8\" font-family=\"Times,serif\" font-size=\"14.00\">w1</text>\n<polyline fill=\"none\" stroke=\"black\" points=\"33,-55.5 33,-91.5 \"/>\n<text text-anchor=\"middle\" x=\"75.5\" y=\"-69.8\" font-family=\"Times,serif\" font-size=\"14.00\">data &#45;3.0000</text>\n<polyline fill=\"none\" stroke=\"black\" points=\"118,-55.5 118,-91.5 \"/>\n<text text-anchor=\"middle\" x=\"159\" y=\"-69.8\" font-family=\"Times,serif\" font-size=\"14.00\">grad 1.0001</text>\n</g>\n<!-- 136221618680736&#45;&gt;136221618670224* -->\n<g id=\"edge13\" class=\"edge\">\n<title>136221618680736&#45;&gt;136221618670224*</title>\n<path fill=\"none\" stroke=\"black\" d=\"M200.21,-73.5C209.2,-73.5 217.86,-73.5 225.7,-73.5\"/>\n<polygon fill=\"black\" stroke=\"black\" points=\"225.85,-77 235.85,-73.5 225.85,-70 225.85,-77\"/>\n</g>\n<!-- 136221618680784 -->\n<g id=\"node14\" class=\"node\">\n<title>136221618680784</title>\n<polygon fill=\"none\" stroke=\"black\" points=\"2.5,-110.5 2.5,-146.5 197.5,-146.5 197.5,-110.5 2.5,-110.5\"/>\n<text text-anchor=\"middle\" x=\"19\" y=\"-124.8\" font-family=\"Times,serif\" font-size=\"14.00\">w2</text>\n<polyline fill=\"none\" stroke=\"black\" points=\"35.5,-110.5 35.5,-146.5 \"/>\n<text text-anchor=\"middle\" x=\"75.5\" y=\"-124.8\" font-family=\"Times,serif\" font-size=\"14.00\">data 1.0000</text>\n<polyline fill=\"none\" stroke=\"black\" points=\"115.5,-110.5 115.5,-146.5 \"/>\n<text text-anchor=\"middle\" x=\"156.5\" y=\"-124.8\" font-family=\"Times,serif\" font-size=\"14.00\">grad 0.0000</text>\n</g>\n<!-- 136221618680784&#45;&gt;136221618675840* -->\n<g id=\"edge6\" class=\"edge\">\n<title>136221618680784&#45;&gt;136221618675840*</title>\n<path fill=\"none\" stroke=\"black\" d=\"M197.91,-128.5C207.65,-128.5 217.05,-128.5 225.52,-128.5\"/>\n<polygon fill=\"black\" stroke=\"black\" points=\"225.7,-132 235.7,-128.5 225.7,-125 225.7,-132\"/>\n</g>\n<!-- 136221618681840 -->\n<g id=\"node15\" class=\"node\">\n<title>136221618681840</title>\n<polygon fill=\"none\" stroke=\"black\" points=\"2,-0.5 2,-36.5 198,-36.5 198,-0.5 2,-0.5\"/>\n<text text-anchor=\"middle\" x=\"17\" y=\"-14.8\" font-family=\"Times,serif\" font-size=\"14.00\">x1</text>\n<polyline fill=\"none\" stroke=\"black\" points=\"32,-0.5 32,-36.5 \"/>\n<text text-anchor=\"middle\" x=\"72\" y=\"-14.8\" font-family=\"Times,serif\" font-size=\"14.00\">data 2.0000</text>\n<polyline fill=\"none\" stroke=\"black\" points=\"112,-0.5 112,-36.5 \"/>\n<text text-anchor=\"middle\" x=\"155\" y=\"-14.8\" font-family=\"Times,serif\" font-size=\"14.00\">grad &#45;1.5002</text>\n</g>\n<!-- 136221618681840&#45;&gt;136221618670224* -->\n<g id=\"edge7\" class=\"edge\">\n<title>136221618681840&#45;&gt;136221618670224*</title>\n<path fill=\"none\" stroke=\"black\" d=\"M172.53,-36.56C181.84,-39.33 191.2,-42.33 200,-45.5 210.53,-49.29 221.75,-54.1 231.72,-58.67\"/>\n<polygon fill=\"black\" stroke=\"black\" points=\"230.28,-61.86 240.82,-62.93 233.25,-55.52 230.28,-61.86\"/>\n</g>\n</g>\n</svg>\n",
            "text/plain": [
              "<graphviz.graphs.Digraph at 0x7be491313430>"
            ]
          },
          "metadata": {},
          "execution_count": 58
        }
      ]
    },
    {
      "cell_type": "code",
      "source": [
        "# inputs x1, x2   2D neuron, so two inputs are gonna comin\n",
        "x1 = Value(2.0, label=\"x1\")\n",
        "x2 = Value(0.0, label=\"x2\")\n",
        "\n",
        "# weights of neuron w1, w2\n",
        "w1 = Value(-3.0, label=\"w1\")\n",
        "w2 = Value(1.0, label=\"w2\")\n",
        "\n",
        "# bias of the neuron\n",
        "b = Value(6.8813, label=\"b\")\n",
        "\n",
        "# (x1*w1) + (x2*w2) + b\n",
        "x1w1 = x1 * w1; x1w1.label = \"x1w1\";\n",
        "x2w2 = x2 * w2; x2w2.label = \"x2w2\";\n",
        "\n",
        "x1w1x2w2 = x1w1 + x2w2; x1w1x2w2.label = \"x1w1x2w2\";\n",
        "\n",
        "n = x1w1x2w2 + b; n.label=\"n\";\n",
        "# ----\n",
        "e = (2*n).exp()\n",
        "o = (e - 1) / (e + 1)\n",
        "# ----\n",
        "# draw_dot(o)\n",
        "o.backward()\n",
        "draw_dot(o)"
      ],
      "metadata": {
        "colab": {
          "base_uri": "https://localhost:8080/",
          "height": 360
        },
        "id": "mn9am285WoFm",
        "outputId": "715b310c-206c-48df-fe0e-6aec71735af5"
      },
      "execution_count": 59,
      "outputs": [
        {
          "output_type": "execute_result",
          "data": {
            "image/svg+xml": "<?xml version=\"1.0\" encoding=\"UTF-8\" standalone=\"no\"?>\n<!DOCTYPE svg PUBLIC \"-//W3C//DTD SVG 1.1//EN\"\n \"http://www.w3.org/Graphics/SVG/1.1/DTD/svg11.dtd\">\n<!-- Generated by graphviz version 2.43.0 (0)\n -->\n<!-- Title: %3 Pages: 1 -->\n<svg width=\"2906pt\" height=\"239pt\"\n viewBox=\"0.00 0.00 2906.00 239.00\" xmlns=\"http://www.w3.org/2000/svg\" xmlns:xlink=\"http://www.w3.org/1999/xlink\">\n<g id=\"graph0\" class=\"graph\" transform=\"scale(1 1) rotate(0) translate(4 235)\">\n<title>%3</title>\n<polygon fill=\"white\" stroke=\"transparent\" points=\"-4,4 -4,-235 2902,-235 2902,4 -4,4\"/>\n<!-- 136221618675216 -->\n<g id=\"node1\" class=\"node\">\n<title>136221618675216</title>\n<polygon fill=\"none\" stroke=\"black\" points=\"2.5,-194.5 2.5,-230.5 197.5,-230.5 197.5,-194.5 2.5,-194.5\"/>\n<text text-anchor=\"middle\" x=\"19\" y=\"-208.8\" font-family=\"Times,serif\" font-size=\"14.00\">w2</text>\n<polyline fill=\"none\" stroke=\"black\" points=\"35.5,-194.5 35.5,-230.5 \"/>\n<text text-anchor=\"middle\" x=\"75.5\" y=\"-208.8\" font-family=\"Times,serif\" font-size=\"14.00\">data 1.0000</text>\n<polyline fill=\"none\" stroke=\"black\" points=\"115.5,-194.5 115.5,-230.5 \"/>\n<text text-anchor=\"middle\" x=\"156.5\" y=\"-208.8\" font-family=\"Times,serif\" font-size=\"14.00\">grad 0.0000</text>\n</g>\n<!-- 136221618679152* -->\n<g id=\"node21\" class=\"node\">\n<title>136221618679152*</title>\n<ellipse fill=\"none\" stroke=\"black\" cx=\"263\" cy=\"-157.5\" rx=\"27\" ry=\"18\"/>\n<text text-anchor=\"middle\" x=\"263\" y=\"-153.8\" font-family=\"Times,serif\" font-size=\"14.00\">*</text>\n</g>\n<!-- 136221618675216&#45;&gt;136221618679152* -->\n<g id=\"edge26\" class=\"edge\">\n<title>136221618675216&#45;&gt;136221618679152*</title>\n<path fill=\"none\" stroke=\"black\" d=\"M172.53,-194.44C181.84,-191.67 191.2,-188.67 200,-185.5 210.53,-181.71 221.75,-176.9 231.72,-172.33\"/>\n<polygon fill=\"black\" stroke=\"black\" points=\"233.25,-175.48 240.82,-168.07 230.28,-169.14 233.25,-175.48\"/>\n</g>\n<!-- 136221618678864 -->\n<g id=\"node2\" class=\"node\">\n<title>136221618678864</title>\n<polygon fill=\"none\" stroke=\"black\" points=\"666,-111.5 666,-147.5 910,-147.5 910,-111.5 666,-111.5\"/>\n<text text-anchor=\"middle\" x=\"704.5\" y=\"-125.8\" font-family=\"Times,serif\" font-size=\"14.00\">x1w1x2w2</text>\n<polyline fill=\"none\" stroke=\"black\" points=\"743,-111.5 743,-147.5 \"/>\n<text text-anchor=\"middle\" x=\"785.5\" y=\"-125.8\" font-family=\"Times,serif\" font-size=\"14.00\">data &#45;6.0000</text>\n<polyline fill=\"none\" stroke=\"black\" points=\"828,-111.5 828,-147.5 \"/>\n<text text-anchor=\"middle\" x=\"869\" y=\"-125.8\" font-family=\"Times,serif\" font-size=\"14.00\">grad 0.5001</text>\n</g>\n<!-- 136221618673824+ -->\n<g id=\"node10\" class=\"node\">\n<title>136221618673824+</title>\n<ellipse fill=\"none\" stroke=\"black\" cx=\"973\" cy=\"-101.5\" rx=\"27\" ry=\"18\"/>\n<text text-anchor=\"middle\" x=\"973\" y=\"-97.8\" font-family=\"Times,serif\" font-size=\"14.00\">+</text>\n</g>\n<!-- 136221618678864&#45;&gt;136221618673824+ -->\n<g id=\"edge12\" class=\"edge\">\n<title>136221618678864&#45;&gt;136221618673824+</title>\n<path fill=\"none\" stroke=\"black\" d=\"M906.71,-111.49C917.38,-109.86 927.53,-108.3 936.51,-106.93\"/>\n<polygon fill=\"black\" stroke=\"black\" points=\"937.13,-110.38 946.48,-105.4 936.07,-103.46 937.13,-110.38\"/>\n</g>\n<!-- 136221618678864+ -->\n<g id=\"node3\" class=\"node\">\n<title>136221618678864+</title>\n<ellipse fill=\"none\" stroke=\"black\" cx=\"603\" cy=\"-129.5\" rx=\"27\" ry=\"18\"/>\n<text text-anchor=\"middle\" x=\"603\" y=\"-125.8\" font-family=\"Times,serif\" font-size=\"14.00\">+</text>\n</g>\n<!-- 136221618678864+&#45;&gt;136221618678864 -->\n<g id=\"edge1\" class=\"edge\">\n<title>136221618678864+&#45;&gt;136221618678864</title>\n<path fill=\"none\" stroke=\"black\" d=\"M630.22,-129.5C637.7,-129.5 646.4,-129.5 655.79,-129.5\"/>\n<polygon fill=\"black\" stroke=\"black\" points=\"655.8,-133 665.8,-129.5 655.8,-126 655.8,-133\"/>\n</g>\n<!-- 136221618668640 -->\n<g id=\"node4\" class=\"node\">\n<title>136221618668640</title>\n<polygon fill=\"none\" stroke=\"black\" points=\"1347,-55.5 1347,-91.5 1529,-91.5 1529,-55.5 1347,-55.5\"/>\n<text text-anchor=\"middle\" x=\"1357\" y=\"-69.8\" font-family=\"Times,serif\" font-size=\"14.00\"> </text>\n<polyline fill=\"none\" stroke=\"black\" points=\"1367,-55.5 1367,-91.5 \"/>\n<text text-anchor=\"middle\" x=\"1407\" y=\"-69.8\" font-family=\"Times,serif\" font-size=\"14.00\">data 1.7626</text>\n<polyline fill=\"none\" stroke=\"black\" points=\"1447,-55.5 1447,-91.5 \"/>\n<text text-anchor=\"middle\" x=\"1488\" y=\"-69.8\" font-family=\"Times,serif\" font-size=\"14.00\">grad 0.2500</text>\n</g>\n<!-- 136221618676656exp -->\n<g id=\"node27\" class=\"node\">\n<title>136221618676656exp</title>\n<ellipse fill=\"none\" stroke=\"black\" cx=\"1592\" cy=\"-73.5\" rx=\"27\" ry=\"18\"/>\n<text text-anchor=\"middle\" x=\"1592\" y=\"-69.8\" font-family=\"Times,serif\" font-size=\"14.00\">exp</text>\n</g>\n<!-- 136221618668640&#45;&gt;136221618676656exp -->\n<g id=\"edge19\" class=\"edge\">\n<title>136221618668640&#45;&gt;136221618676656exp</title>\n<path fill=\"none\" stroke=\"black\" d=\"M1529.18,-73.5C1538.14,-73.5 1546.83,-73.5 1554.73,-73.5\"/>\n<polygon fill=\"black\" stroke=\"black\" points=\"1554.96,-77 1564.96,-73.5 1554.96,-70 1554.96,-77\"/>\n</g>\n<!-- 136221618668640* -->\n<g id=\"node5\" class=\"node\">\n<title>136221618668640*</title>\n<ellipse fill=\"none\" stroke=\"black\" cx=\"1284\" cy=\"-73.5\" rx=\"27\" ry=\"18\"/>\n<text text-anchor=\"middle\" x=\"1284\" y=\"-69.8\" font-family=\"Times,serif\" font-size=\"14.00\">*</text>\n</g>\n<!-- 136221618668640*&#45;&gt;136221618668640 -->\n<g id=\"edge2\" class=\"edge\">\n<title>136221618668640*&#45;&gt;136221618668640</title>\n<path fill=\"none\" stroke=\"black\" d=\"M1311.13,-73.5C1318.67,-73.5 1327.39,-73.5 1336.64,-73.5\"/>\n<polygon fill=\"black\" stroke=\"black\" points=\"1336.87,-77 1346.87,-73.5 1336.87,-70 1336.87,-77\"/>\n</g>\n<!-- 136221618675312 -->\n<g id=\"node6\" class=\"node\">\n<title>136221618675312</title>\n<polygon fill=\"none\" stroke=\"black\" points=\"1037.5,-28.5 1037.5,-64.5 1219.5,-64.5 1219.5,-28.5 1037.5,-28.5\"/>\n<text text-anchor=\"middle\" x=\"1047.5\" y=\"-42.8\" font-family=\"Times,serif\" font-size=\"14.00\"> </text>\n<polyline fill=\"none\" stroke=\"black\" points=\"1057.5,-28.5 1057.5,-64.5 \"/>\n<text text-anchor=\"middle\" x=\"1097.5\" y=\"-42.8\" font-family=\"Times,serif\" font-size=\"14.00\">data 2.0000</text>\n<polyline fill=\"none\" stroke=\"black\" points=\"1137.5,-28.5 1137.5,-64.5 \"/>\n<text text-anchor=\"middle\" x=\"1178.5\" y=\"-42.8\" font-family=\"Times,serif\" font-size=\"14.00\">grad 0.2203</text>\n</g>\n<!-- 136221618675312&#45;&gt;136221618668640* -->\n<g id=\"edge16\" class=\"edge\">\n<title>136221618675312&#45;&gt;136221618668640*</title>\n<path fill=\"none\" stroke=\"black\" d=\"M1219.68,-62.36C1229.61,-64.11 1239.23,-65.8 1247.84,-67.32\"/>\n<polygon fill=\"black\" stroke=\"black\" points=\"1247.36,-70.78 1257.81,-69.07 1248.57,-63.89 1247.36,-70.78\"/>\n</g>\n<!-- 136221618671712 -->\n<g id=\"node7\" class=\"node\">\n<title>136221618671712</title>\n<polygon fill=\"none\" stroke=\"black\" points=\"1968,-82.5 1968,-118.5 2154,-118.5 2154,-82.5 1968,-82.5\"/>\n<text text-anchor=\"middle\" x=\"1978\" y=\"-96.8\" font-family=\"Times,serif\" font-size=\"14.00\"> </text>\n<polyline fill=\"none\" stroke=\"black\" points=\"1988,-82.5 1988,-118.5 \"/>\n<text text-anchor=\"middle\" x=\"2028\" y=\"-96.8\" font-family=\"Times,serif\" font-size=\"14.00\">data 6.8276</text>\n<polyline fill=\"none\" stroke=\"black\" points=\"2068,-82.5 2068,-118.5 \"/>\n<text text-anchor=\"middle\" x=\"2111\" y=\"-96.8\" font-family=\"Times,serif\" font-size=\"14.00\">grad &#45;0.1036</text>\n</g>\n<!-- 136221618680592**&#45;1 -->\n<g id=\"node18\" class=\"node\">\n<title>136221618680592**&#45;1</title>\n<ellipse fill=\"none\" stroke=\"black\" cx=\"2281\" cy=\"-100.5\" rx=\"27\" ry=\"18\"/>\n<text text-anchor=\"middle\" x=\"2281\" y=\"-96.8\" font-family=\"Times,serif\" font-size=\"14.00\">**&#45;1</text>\n</g>\n<!-- 136221618671712&#45;&gt;136221618680592**&#45;1 -->\n<g id=\"edge28\" class=\"edge\">\n<title>136221618671712&#45;&gt;136221618680592**&#45;1</title>\n<path fill=\"none\" stroke=\"black\" d=\"M2154.14,-100.5C2185.72,-100.5 2219.24,-100.5 2243.74,-100.5\"/>\n<polygon fill=\"black\" stroke=\"black\" points=\"2243.98,-104 2253.98,-100.5 2243.98,-97 2243.98,-104\"/>\n</g>\n<!-- 136221618671712+ -->\n<g id=\"node8\" class=\"node\">\n<title>136221618671712+</title>\n<ellipse fill=\"none\" stroke=\"black\" cx=\"1905\" cy=\"-100.5\" rx=\"27\" ry=\"18\"/>\n<text text-anchor=\"middle\" x=\"1905\" y=\"-96.8\" font-family=\"Times,serif\" font-size=\"14.00\">+</text>\n</g>\n<!-- 136221618671712+&#45;&gt;136221618671712 -->\n<g id=\"edge3\" class=\"edge\">\n<title>136221618671712+&#45;&gt;136221618671712</title>\n<path fill=\"none\" stroke=\"black\" d=\"M1932.12,-100.5C1939.62,-100.5 1948.29,-100.5 1957.5,-100.5\"/>\n<polygon fill=\"black\" stroke=\"black\" points=\"1957.69,-104 1967.69,-100.5 1957.69,-97 1957.69,-104\"/>\n</g>\n<!-- 136221618673824 -->\n<g id=\"node9\" class=\"node\">\n<title>136221618673824</title>\n<polygon fill=\"none\" stroke=\"black\" points=\"1036,-83.5 1036,-119.5 1221,-119.5 1221,-83.5 1036,-83.5\"/>\n<text text-anchor=\"middle\" x=\"1047.5\" y=\"-97.8\" font-family=\"Times,serif\" font-size=\"14.00\">n</text>\n<polyline fill=\"none\" stroke=\"black\" points=\"1059,-83.5 1059,-119.5 \"/>\n<text text-anchor=\"middle\" x=\"1099\" y=\"-97.8\" font-family=\"Times,serif\" font-size=\"14.00\">data 0.8813</text>\n<polyline fill=\"none\" stroke=\"black\" points=\"1139,-83.5 1139,-119.5 \"/>\n<text text-anchor=\"middle\" x=\"1180\" y=\"-97.8\" font-family=\"Times,serif\" font-size=\"14.00\">grad 0.5001</text>\n</g>\n<!-- 136221618673824&#45;&gt;136221618668640* -->\n<g id=\"edge14\" class=\"edge\">\n<title>136221618673824&#45;&gt;136221618668640*</title>\n<path fill=\"none\" stroke=\"black\" d=\"M1221.01,-84.81C1230.49,-83.08 1239.66,-81.41 1247.9,-79.9\"/>\n<polygon fill=\"black\" stroke=\"black\" points=\"1248.6,-83.33 1257.81,-78.09 1247.35,-76.45 1248.6,-83.33\"/>\n</g>\n<!-- 136221618673824+&#45;&gt;136221618673824 -->\n<g id=\"edge4\" class=\"edge\">\n<title>136221618673824+&#45;&gt;136221618673824</title>\n<path fill=\"none\" stroke=\"black\" d=\"M1000.04,-101.5C1007.58,-101.5 1016.3,-101.5 1025.57,-101.5\"/>\n<polygon fill=\"black\" stroke=\"black\" points=\"1025.81,-105 1035.81,-101.5 1025.81,-98 1025.81,-105\"/>\n</g>\n<!-- 136221618675984 -->\n<g id=\"node11\" class=\"node\">\n<title>136221618675984</title>\n<polygon fill=\"none\" stroke=\"black\" points=\"2190,-27.5 2190,-63.5 2372,-63.5 2372,-27.5 2190,-27.5\"/>\n<text text-anchor=\"middle\" x=\"2200\" y=\"-41.8\" font-family=\"Times,serif\" font-size=\"14.00\"> </text>\n<polyline fill=\"none\" stroke=\"black\" points=\"2210,-27.5 2210,-63.5 \"/>\n<text text-anchor=\"middle\" x=\"2250\" y=\"-41.8\" font-family=\"Times,serif\" font-size=\"14.00\">data 4.8276</text>\n<polyline fill=\"none\" stroke=\"black\" points=\"2290,-27.5 2290,-63.5 \"/>\n<text text-anchor=\"middle\" x=\"2331\" y=\"-41.8\" font-family=\"Times,serif\" font-size=\"14.00\">grad 0.1465</text>\n</g>\n<!-- 136221618680640* -->\n<g id=\"node16\" class=\"node\">\n<title>136221618680640*</title>\n<ellipse fill=\"none\" stroke=\"black\" cx=\"2653\" cy=\"-72.5\" rx=\"27\" ry=\"18\"/>\n<text text-anchor=\"middle\" x=\"2653\" y=\"-68.8\" font-family=\"Times,serif\" font-size=\"14.00\">*</text>\n</g>\n<!-- 136221618675984&#45;&gt;136221618680640* -->\n<g id=\"edge27\" class=\"edge\">\n<title>136221618675984&#45;&gt;136221618680640*</title>\n<path fill=\"none\" stroke=\"black\" d=\"M2372.04,-52.07C2450.41,-57.79 2559.98,-65.79 2615.96,-69.87\"/>\n<polygon fill=\"black\" stroke=\"black\" points=\"2615.87,-73.37 2626.1,-70.61 2616.38,-66.39 2615.87,-73.37\"/>\n</g>\n<!-- 136221618675984+ -->\n<g id=\"node12\" class=\"node\">\n<title>136221618675984+</title>\n<ellipse fill=\"none\" stroke=\"black\" cx=\"1905\" cy=\"-45.5\" rx=\"27\" ry=\"18\"/>\n<text text-anchor=\"middle\" x=\"1905\" y=\"-41.8\" font-family=\"Times,serif\" font-size=\"14.00\">+</text>\n</g>\n<!-- 136221618675984+&#45;&gt;136221618675984 -->\n<g id=\"edge5\" class=\"edge\">\n<title>136221618675984+&#45;&gt;136221618675984</title>\n<path fill=\"none\" stroke=\"black\" d=\"M1932,-45.5C1982.46,-45.5 2096.06,-45.5 2179.81,-45.5\"/>\n<polygon fill=\"black\" stroke=\"black\" points=\"2179.87,-49 2189.87,-45.5 2179.87,-42 2179.87,-49\"/>\n</g>\n<!-- 136221618676512 -->\n<g id=\"node13\" class=\"node\">\n<title>136221618676512</title>\n<polygon fill=\"none\" stroke=\"black\" points=\"1655,-0.5 1655,-36.5 1842,-36.5 1842,-0.5 1655,-0.5\"/>\n<text text-anchor=\"middle\" x=\"1665\" y=\"-14.8\" font-family=\"Times,serif\" font-size=\"14.00\"> </text>\n<polyline fill=\"none\" stroke=\"black\" points=\"1675,-0.5 1675,-36.5 \"/>\n<text text-anchor=\"middle\" x=\"1717.5\" y=\"-14.8\" font-family=\"Times,serif\" font-size=\"14.00\">data &#45;1.0000</text>\n<polyline fill=\"none\" stroke=\"black\" points=\"1760,-0.5 1760,-36.5 \"/>\n<text text-anchor=\"middle\" x=\"1801\" y=\"-14.8\" font-family=\"Times,serif\" font-size=\"14.00\">grad 0.1465</text>\n</g>\n<!-- 136221618676512&#45;&gt;136221618675984+ -->\n<g id=\"edge17\" class=\"edge\">\n<title>136221618676512&#45;&gt;136221618675984+</title>\n<path fill=\"none\" stroke=\"black\" d=\"M1842.05,-34.67C1851.34,-36.3 1860.33,-37.87 1868.44,-39.29\"/>\n<polygon fill=\"black\" stroke=\"black\" points=\"1868.1,-42.78 1878.55,-41.05 1869.3,-35.88 1868.1,-42.78\"/>\n</g>\n<!-- 136221618677520 -->\n<g id=\"node14\" class=\"node\">\n<title>136221618677520</title>\n<polygon fill=\"none\" stroke=\"black\" points=\"4,-139.5 4,-175.5 196,-175.5 196,-139.5 4,-139.5\"/>\n<text text-anchor=\"middle\" x=\"19\" y=\"-153.8\" font-family=\"Times,serif\" font-size=\"14.00\">x2</text>\n<polyline fill=\"none\" stroke=\"black\" points=\"34,-139.5 34,-175.5 \"/>\n<text text-anchor=\"middle\" x=\"74\" y=\"-153.8\" font-family=\"Times,serif\" font-size=\"14.00\">data 0.0000</text>\n<polyline fill=\"none\" stroke=\"black\" points=\"114,-139.5 114,-175.5 \"/>\n<text text-anchor=\"middle\" x=\"155\" y=\"-153.8\" font-family=\"Times,serif\" font-size=\"14.00\">grad 0.5001</text>\n</g>\n<!-- 136221618677520&#45;&gt;136221618679152* -->\n<g id=\"edge21\" class=\"edge\">\n<title>136221618677520&#45;&gt;136221618679152*</title>\n<path fill=\"none\" stroke=\"black\" d=\"M196.05,-157.5C206.52,-157.5 216.65,-157.5 225.71,-157.5\"/>\n<polygon fill=\"black\" stroke=\"black\" points=\"225.79,-161 235.79,-157.5 225.79,-154 225.79,-161\"/>\n</g>\n<!-- 136221618680640 -->\n<g id=\"node15\" class=\"node\">\n<title>136221618680640</title>\n<polygon fill=\"none\" stroke=\"black\" points=\"2716,-54.5 2716,-90.5 2898,-90.5 2898,-54.5 2716,-54.5\"/>\n<text text-anchor=\"middle\" x=\"2726\" y=\"-68.8\" font-family=\"Times,serif\" font-size=\"14.00\"> </text>\n<polyline fill=\"none\" stroke=\"black\" points=\"2736,-54.5 2736,-90.5 \"/>\n<text text-anchor=\"middle\" x=\"2776\" y=\"-68.8\" font-family=\"Times,serif\" font-size=\"14.00\">data 0.7071</text>\n<polyline fill=\"none\" stroke=\"black\" points=\"2816,-54.5 2816,-90.5 \"/>\n<text text-anchor=\"middle\" x=\"2857\" y=\"-68.8\" font-family=\"Times,serif\" font-size=\"14.00\">grad 1.0000</text>\n</g>\n<!-- 136221618680640*&#45;&gt;136221618680640 -->\n<g id=\"edge6\" class=\"edge\">\n<title>136221618680640*&#45;&gt;136221618680640</title>\n<path fill=\"none\" stroke=\"black\" d=\"M2680.13,-72.5C2687.67,-72.5 2696.39,-72.5 2705.64,-72.5\"/>\n<polygon fill=\"black\" stroke=\"black\" points=\"2705.87,-76 2715.87,-72.5 2705.87,-69 2705.87,-76\"/>\n</g>\n<!-- 136221618680592 -->\n<g id=\"node17\" class=\"node\">\n<title>136221618680592</title>\n<polygon fill=\"none\" stroke=\"black\" points=\"2408,-80.5 2408,-116.5 2590,-116.5 2590,-80.5 2408,-80.5\"/>\n<text text-anchor=\"middle\" x=\"2418\" y=\"-94.8\" font-family=\"Times,serif\" font-size=\"14.00\"> </text>\n<polyline fill=\"none\" stroke=\"black\" points=\"2428,-80.5 2428,-116.5 \"/>\n<text text-anchor=\"middle\" x=\"2468\" y=\"-94.8\" font-family=\"Times,serif\" font-size=\"14.00\">data 0.1465</text>\n<polyline fill=\"none\" stroke=\"black\" points=\"2508,-80.5 2508,-116.5 \"/>\n<text text-anchor=\"middle\" x=\"2549\" y=\"-94.8\" font-family=\"Times,serif\" font-size=\"14.00\">grad 4.8276</text>\n</g>\n<!-- 136221618680592&#45;&gt;136221618680640* -->\n<g id=\"edge23\" class=\"edge\">\n<title>136221618680592&#45;&gt;136221618680640*</title>\n<path fill=\"none\" stroke=\"black\" d=\"M2590.18,-83.08C2599.42,-81.49 2608.38,-79.96 2616.47,-78.58\"/>\n<polygon fill=\"black\" stroke=\"black\" points=\"2617.29,-81.99 2626.56,-76.85 2616.11,-75.09 2617.29,-81.99\"/>\n</g>\n<!-- 136221618680592**&#45;1&#45;&gt;136221618680592 -->\n<g id=\"edge7\" class=\"edge\">\n<title>136221618680592**&#45;1&#45;&gt;136221618680592</title>\n<path fill=\"none\" stroke=\"black\" d=\"M2308.05,-100.26C2330.53,-100.05 2364.48,-99.74 2397.5,-99.43\"/>\n<polygon fill=\"black\" stroke=\"black\" points=\"2397.74,-102.93 2407.7,-99.34 2397.67,-95.93 2397.74,-102.93\"/>\n</g>\n<!-- 136221618675120 -->\n<g id=\"node19\" class=\"node\">\n<title>136221618675120</title>\n<polygon fill=\"none\" stroke=\"black\" points=\"695.5,-56.5 695.5,-92.5 880.5,-92.5 880.5,-56.5 695.5,-56.5\"/>\n<text text-anchor=\"middle\" x=\"707\" y=\"-70.8\" font-family=\"Times,serif\" font-size=\"14.00\">b</text>\n<polyline fill=\"none\" stroke=\"black\" points=\"718.5,-56.5 718.5,-92.5 \"/>\n<text text-anchor=\"middle\" x=\"758.5\" y=\"-70.8\" font-family=\"Times,serif\" font-size=\"14.00\">data 6.8813</text>\n<polyline fill=\"none\" stroke=\"black\" points=\"798.5,-56.5 798.5,-92.5 \"/>\n<text text-anchor=\"middle\" x=\"839.5\" y=\"-70.8\" font-family=\"Times,serif\" font-size=\"14.00\">grad 0.5001</text>\n</g>\n<!-- 136221618675120&#45;&gt;136221618673824+ -->\n<g id=\"edge18\" class=\"edge\">\n<title>136221618675120&#45;&gt;136221618673824+</title>\n<path fill=\"none\" stroke=\"black\" d=\"M880.77,-88.04C900.52,-90.95 920.26,-93.87 936.29,-96.23\"/>\n<polygon fill=\"black\" stroke=\"black\" points=\"935.86,-99.71 946.26,-97.7 936.88,-92.78 935.86,-99.71\"/>\n</g>\n<!-- 136221618679152 -->\n<g id=\"node20\" class=\"node\">\n<title>136221618679152</title>\n<polygon fill=\"none\" stroke=\"black\" points=\"328.5,-139.5 328.5,-175.5 537.5,-175.5 537.5,-139.5 328.5,-139.5\"/>\n<text text-anchor=\"middle\" x=\"352\" y=\"-153.8\" font-family=\"Times,serif\" font-size=\"14.00\">x2w2</text>\n<polyline fill=\"none\" stroke=\"black\" points=\"375.5,-139.5 375.5,-175.5 \"/>\n<text text-anchor=\"middle\" x=\"415.5\" y=\"-153.8\" font-family=\"Times,serif\" font-size=\"14.00\">data 0.0000</text>\n<polyline fill=\"none\" stroke=\"black\" points=\"455.5,-139.5 455.5,-175.5 \"/>\n<text text-anchor=\"middle\" x=\"496.5\" y=\"-153.8\" font-family=\"Times,serif\" font-size=\"14.00\">grad 0.5001</text>\n</g>\n<!-- 136221618679152&#45;&gt;136221618678864+ -->\n<g id=\"edge15\" class=\"edge\">\n<title>136221618679152&#45;&gt;136221618678864+</title>\n<path fill=\"none\" stroke=\"black\" d=\"M537.53,-140.25C547.8,-138.53 557.66,-136.89 566.45,-135.43\"/>\n<polygon fill=\"black\" stroke=\"black\" points=\"567.3,-138.83 576.59,-133.74 566.15,-131.93 567.3,-138.83\"/>\n</g>\n<!-- 136221618679152*&#45;&gt;136221618679152 -->\n<g id=\"edge8\" class=\"edge\">\n<title>136221618679152*&#45;&gt;136221618679152</title>\n<path fill=\"none\" stroke=\"black\" d=\"M290.25,-157.5C298.43,-157.5 308.03,-157.5 318.31,-157.5\"/>\n<polygon fill=\"black\" stroke=\"black\" points=\"318.35,-161 328.35,-157.5 318.35,-154 318.35,-161\"/>\n</g>\n<!-- 136221618669936 -->\n<g id=\"node22\" class=\"node\">\n<title>136221618669936</title>\n<polygon fill=\"none\" stroke=\"black\" points=\"1655.5,-110.5 1655.5,-146.5 1841.5,-146.5 1841.5,-110.5 1655.5,-110.5\"/>\n<text text-anchor=\"middle\" x=\"1665.5\" y=\"-124.8\" font-family=\"Times,serif\" font-size=\"14.00\"> </text>\n<polyline fill=\"none\" stroke=\"black\" points=\"1675.5,-110.5 1675.5,-146.5 \"/>\n<text text-anchor=\"middle\" x=\"1715.5\" y=\"-124.8\" font-family=\"Times,serif\" font-size=\"14.00\">data 1.0000</text>\n<polyline fill=\"none\" stroke=\"black\" points=\"1755.5,-110.5 1755.5,-146.5 \"/>\n<text text-anchor=\"middle\" x=\"1798.5\" y=\"-124.8\" font-family=\"Times,serif\" font-size=\"14.00\">grad &#45;0.1036</text>\n</g>\n<!-- 136221618669936&#45;&gt;136221618671712+ -->\n<g id=\"edge22\" class=\"edge\">\n<title>136221618669936&#45;&gt;136221618671712+</title>\n<path fill=\"none\" stroke=\"black\" d=\"M1841.6,-111.81C1851.15,-110.08 1860.37,-108.41 1868.68,-106.9\"/>\n<polygon fill=\"black\" stroke=\"black\" points=\"1869.43,-110.32 1878.65,-105.09 1868.18,-103.43 1869.43,-110.32\"/>\n</g>\n<!-- 136221618675600 -->\n<g id=\"node23\" class=\"node\">\n<title>136221618675600</title>\n<polygon fill=\"none\" stroke=\"black\" points=\"0,-84.5 0,-120.5 200,-120.5 200,-84.5 0,-84.5\"/>\n<text text-anchor=\"middle\" x=\"16.5\" y=\"-98.8\" font-family=\"Times,serif\" font-size=\"14.00\">w1</text>\n<polyline fill=\"none\" stroke=\"black\" points=\"33,-84.5 33,-120.5 \"/>\n<text text-anchor=\"middle\" x=\"75.5\" y=\"-98.8\" font-family=\"Times,serif\" font-size=\"14.00\">data &#45;3.0000</text>\n<polyline fill=\"none\" stroke=\"black\" points=\"118,-84.5 118,-120.5 \"/>\n<text text-anchor=\"middle\" x=\"159\" y=\"-98.8\" font-family=\"Times,serif\" font-size=\"14.00\">grad 1.0001</text>\n</g>\n<!-- 136221618679200* -->\n<g id=\"node25\" class=\"node\">\n<title>136221618679200*</title>\n<ellipse fill=\"none\" stroke=\"black\" cx=\"263\" cy=\"-102.5\" rx=\"27\" ry=\"18\"/>\n<text text-anchor=\"middle\" x=\"263\" y=\"-98.8\" font-family=\"Times,serif\" font-size=\"14.00\">*</text>\n</g>\n<!-- 136221618675600&#45;&gt;136221618679200* -->\n<g id=\"edge24\" class=\"edge\">\n<title>136221618675600&#45;&gt;136221618679200*</title>\n<path fill=\"none\" stroke=\"black\" d=\"M200.21,-102.5C209.2,-102.5 217.86,-102.5 225.7,-102.5\"/>\n<polygon fill=\"black\" stroke=\"black\" points=\"225.85,-106 235.85,-102.5 225.85,-99 225.85,-106\"/>\n</g>\n<!-- 136221618679200 -->\n<g id=\"node24\" class=\"node\">\n<title>136221618679200</title>\n<polygon fill=\"none\" stroke=\"black\" points=\"326,-84.5 326,-120.5 540,-120.5 540,-84.5 326,-84.5\"/>\n<text text-anchor=\"middle\" x=\"349.5\" y=\"-98.8\" font-family=\"Times,serif\" font-size=\"14.00\">x1w1</text>\n<polyline fill=\"none\" stroke=\"black\" points=\"373,-84.5 373,-120.5 \"/>\n<text text-anchor=\"middle\" x=\"415.5\" y=\"-98.8\" font-family=\"Times,serif\" font-size=\"14.00\">data &#45;6.0000</text>\n<polyline fill=\"none\" stroke=\"black\" points=\"458,-84.5 458,-120.5 \"/>\n<text text-anchor=\"middle\" x=\"499\" y=\"-98.8\" font-family=\"Times,serif\" font-size=\"14.00\">grad 0.5001</text>\n</g>\n<!-- 136221618679200&#45;&gt;136221618678864+ -->\n<g id=\"edge11\" class=\"edge\">\n<title>136221618679200&#45;&gt;136221618678864+</title>\n<path fill=\"none\" stroke=\"black\" d=\"M540.4,-119.6C549.72,-121.1 558.65,-122.53 566.68,-123.82\"/>\n<polygon fill=\"black\" stroke=\"black\" points=\"566.24,-127.3 576.66,-125.43 567.35,-120.39 566.24,-127.3\"/>\n</g>\n<!-- 136221618679200*&#45;&gt;136221618679200 -->\n<g id=\"edge9\" class=\"edge\">\n<title>136221618679200*&#45;&gt;136221618679200</title>\n<path fill=\"none\" stroke=\"black\" d=\"M290.25,-102.5C297.7,-102.5 306.34,-102.5 315.59,-102.5\"/>\n<polygon fill=\"black\" stroke=\"black\" points=\"315.84,-106 325.84,-102.5 315.84,-99 315.84,-106\"/>\n</g>\n<!-- 136221618676656 -->\n<g id=\"node26\" class=\"node\">\n<title>136221618676656</title>\n<polygon fill=\"none\" stroke=\"black\" points=\"1657.5,-55.5 1657.5,-91.5 1839.5,-91.5 1839.5,-55.5 1657.5,-55.5\"/>\n<text text-anchor=\"middle\" x=\"1667.5\" y=\"-69.8\" font-family=\"Times,serif\" font-size=\"14.00\"> </text>\n<polyline fill=\"none\" stroke=\"black\" points=\"1677.5,-55.5 1677.5,-91.5 \"/>\n<text text-anchor=\"middle\" x=\"1717.5\" y=\"-69.8\" font-family=\"Times,serif\" font-size=\"14.00\">data 5.8276</text>\n<polyline fill=\"none\" stroke=\"black\" points=\"1757.5,-55.5 1757.5,-91.5 \"/>\n<text text-anchor=\"middle\" x=\"1798.5\" y=\"-69.8\" font-family=\"Times,serif\" font-size=\"14.00\">grad 0.0429</text>\n</g>\n<!-- 136221618676656&#45;&gt;136221618671712+ -->\n<g id=\"edge20\" class=\"edge\">\n<title>136221618676656&#45;&gt;136221618671712+</title>\n<path fill=\"none\" stroke=\"black\" d=\"M1839.82,-89.28C1850.07,-91.08 1860.01,-92.81 1868.88,-94.36\"/>\n<polygon fill=\"black\" stroke=\"black\" points=\"1868.3,-97.81 1878.75,-96.09 1869.5,-90.92 1868.3,-97.81\"/>\n</g>\n<!-- 136221618676656&#45;&gt;136221618675984+ -->\n<g id=\"edge13\" class=\"edge\">\n<title>136221618676656&#45;&gt;136221618675984+</title>\n<path fill=\"none\" stroke=\"black\" d=\"M1839.82,-57.13C1850.07,-55.27 1860.01,-53.47 1868.88,-51.87\"/>\n<polygon fill=\"black\" stroke=\"black\" points=\"1869.54,-55.3 1878.75,-50.08 1868.29,-48.42 1869.54,-55.3\"/>\n</g>\n<!-- 136221618676656exp&#45;&gt;136221618676656 -->\n<g id=\"edge10\" class=\"edge\">\n<title>136221618676656exp&#45;&gt;136221618676656</title>\n<path fill=\"none\" stroke=\"black\" d=\"M1619.21,-73.5C1627.34,-73.5 1636.85,-73.5 1646.94,-73.5\"/>\n<polygon fill=\"black\" stroke=\"black\" points=\"1647.19,-77 1657.19,-73.5 1647.19,-70 1647.19,-77\"/>\n</g>\n<!-- 136221618675168 -->\n<g id=\"node28\" class=\"node\">\n<title>136221618675168</title>\n<polygon fill=\"none\" stroke=\"black\" points=\"2,-29.5 2,-65.5 198,-65.5 198,-29.5 2,-29.5\"/>\n<text text-anchor=\"middle\" x=\"17\" y=\"-43.8\" font-family=\"Times,serif\" font-size=\"14.00\">x1</text>\n<polyline fill=\"none\" stroke=\"black\" points=\"32,-29.5 32,-65.5 \"/>\n<text text-anchor=\"middle\" x=\"72\" y=\"-43.8\" font-family=\"Times,serif\" font-size=\"14.00\">data 2.0000</text>\n<polyline fill=\"none\" stroke=\"black\" points=\"112,-29.5 112,-65.5 \"/>\n<text text-anchor=\"middle\" x=\"155\" y=\"-43.8\" font-family=\"Times,serif\" font-size=\"14.00\">grad &#45;1.5002</text>\n</g>\n<!-- 136221618675168&#45;&gt;136221618679200* -->\n<g id=\"edge25\" class=\"edge\">\n<title>136221618675168&#45;&gt;136221618679200*</title>\n<path fill=\"none\" stroke=\"black\" d=\"M169.28,-65.5C179.65,-68.61 190.16,-71.98 200,-75.5 210.28,-79.17 221.28,-83.74 231.11,-88.07\"/>\n<polygon fill=\"black\" stroke=\"black\" points=\"229.93,-91.37 240.48,-92.27 232.79,-84.99 229.93,-91.37\"/>\n</g>\n</g>\n</svg>\n",
            "text/plain": [
              "<graphviz.graphs.Digraph at 0x7be491310220>"
            ]
          },
          "metadata": {},
          "execution_count": 59
        }
      ]
    },
    {
      "cell_type": "markdown",
      "source": [
        "Compare and see difference\n",
        "1. the same result forward pass works. 0.7071\n",
        "2. same gradients backward pass\n",
        "\n",
        "in second, its much more longer graph than tanh one.\n",
        "\n",
        "Both forward and backward pass works correctly\n",
        "\n",
        "## takeaway/conclusion of divinding tanh\n",
        "- got practice of few more expressions and backward passes.\n",
        "- level of implementation is up to us.\n",
        "- we can implement backward pass like tiny single/individual + or -, or we can implement tanh which is composite operation bcs its made up of atomic operations like minus, exp, etc.\n",
        "\n",
        "- all that matters is some kind of input and some kind of an output and output is a function of a input in someway.\n",
        "- as long as we can do forward pass and backward pass of that operation, it doesnt matter what that operation is and how composite it is.\n",
        "- If you can write a local gradient, and chain the global gradient and continue backpropagation.\n",
        "- So design of that function is up to us.\n"
      ],
      "metadata": {
        "id": "ZtFrpSsuXbRX"
      }
    },
    {
      "cell_type": "code",
      "source": [],
      "metadata": {
        "id": "MgGn_41TXOqt"
      },
      "execution_count": 59,
      "outputs": []
    },
    {
      "cell_type": "markdown",
      "source": [
        "## Do exact same thing but using modern deep neural network library pytorch\n",
        "- Micrograd is roughly modeled by pytorch.\n",
        "- As pytorch is used in production\n",
        "- And it contains the exact same implementation\n"
      ],
      "metadata": {
        "id": "ad01bJ9x7TWr"
      }
    },
    {
      "cell_type": "markdown",
      "source": [
        "## Notes to perform operation\n",
        "- import pytorch\n",
        "- define value objects.\n",
        "- Micrograd is a scaler valued engine, so we only have scaler values like 3.0.\n",
        "- but in pytorch everything is based arround tensors.\n",
        "- Tensors: are n dimentional arrays of scalers.\n",
        "\n",
        "So here we need scaler valued tensor. a tensor with just a single element.\n",
        "\n",
        "```py\n",
        "torch.Torch([3.0])\n",
        "```\n",
        "\n",
        "But by default when we work pytorch we use more complicated tensors.\n",
        "\n",
        "```py\n",
        "torch.Torch([[1,2,3],[4,5,6]])\n",
        "```"
      ],
      "metadata": {
        "id": "cytDzOTw9PJj"
      }
    },
    {
      "cell_type": "code",
      "source": [],
      "metadata": {
        "id": "ZiLOp8P99OZN"
      },
      "execution_count": 59,
      "outputs": []
    },
    {
      "cell_type": "code",
      "source": [
        "import torch"
      ],
      "metadata": {
        "id": "pFSJ6ODh8Fd8"
      },
      "execution_count": 60,
      "outputs": []
    },
    {
      "cell_type": "code",
      "source": [
        "x1 = torch.Tensor([2.0]).double(); x1.requires_grad = True\n",
        "# notes\n",
        "# here creating single valued tensor and casting it with double bcs python uses double precision for floating point. just for everything to be identical\n",
        "# default datatype of these tensors are float 32, single precision value, so casting it with double float64 justlike in python\n",
        "# and because these are leaf nodes, bydefault pytorch assumes we do not requires gradients, so we need to explisitly say that all of these nodes requires graddients.\n",
        "\n",
        "# so these will construct scaler valued 1 element tensors, and makesure that it requires gradients.\n",
        "# by default it is set to false bcs of the efficiency reasons.\n",
        "# usually we do not want the gradients for the leaf nodes. inputs to the network\n",
        "\n",
        "# define all of the values\n",
        "x1 = torch.Tensor([2.0]).double(); x1.requires_grad = True\n",
        "x2 = torch.Tensor([0.0]).double(); x2.requires_grad = True\n",
        "w1 = torch.Tensor([-3.0]).double(); w1.requires_grad = True\n",
        "w2 = torch.Tensor([1.0]).double(); w2.requires_grad = True\n",
        "\n",
        "b = torch.Tensor([6.8813]).double(); b.requires_grad = True\n",
        "\n",
        "# perform arithmatics\n",
        "n = x1*w1 + x2*w2 + b\n",
        "o = torch.tanh(n) # will get tensor\n",
        "\n",
        "print(o.data.item()) # will print the forward pass 0.7...\n",
        "o.backward()\n",
        "# just like micrograd its got data and grad attribute.\n",
        "# diff is need to call .item()\n",
        "# .item() takes single tensor of one element and returns that element\n",
        "\n",
        "# these are the gradients\n",
        "print('-----')\n",
        "print('x2', x2.grad.item())\n",
        "print('w2', w2.grad.item())\n",
        "print('x1', x1.grad.item())\n",
        "print('w1', w1.grad.item())\n"
      ],
      "metadata": {
        "colab": {
          "base_uri": "https://localhost:8080/"
        },
        "id": "Jpw6Cu-v8My3",
        "outputId": "80a85b44-67d8-4903-8c46-55333c44c268"
      },
      "execution_count": 61,
      "outputs": [
        {
          "output_type": "stream",
          "name": "stdout",
          "text": [
            "0.7070699720278941\n",
            "-----\n",
            "x2 0.5000520546564731\n",
            "w2 0.0\n",
            "x1 -1.5001561639694192\n",
            "w1 1.0001041093129461\n"
          ]
        }
      ]
    },
    {
      "cell_type": "markdown",
      "source": [
        "So both forward and backward pass of pytorch agrees with us."
      ],
      "metadata": {
        "id": "uPKUetzpC0XN"
      }
    },
    {
      "cell_type": "code",
      "source": [
        "torch.Tensor([2.0]).double().dtype"
      ],
      "metadata": {
        "colab": {
          "base_uri": "https://localhost:8080/"
        },
        "id": "m4BlG0vX8P31",
        "outputId": "262bd1d2-9816-42f1-ab76-afc48569e785"
      },
      "execution_count": 62,
      "outputs": [
        {
          "output_type": "execute_result",
          "data": {
            "text/plain": [
              "torch.float64"
            ]
          },
          "metadata": {},
          "execution_count": 62
        }
      ]
    },
    {
      "cell_type": "markdown",
      "source": [
        "o"
      ],
      "metadata": {
        "id": "6buv0QViUB22"
      }
    },
    {
      "cell_type": "code",
      "source": [
        "# o - Single element Tensor, and its double\n",
        "o"
      ],
      "metadata": {
        "colab": {
          "base_uri": "https://localhost:8080/"
        },
        "id": "ijkzuyFQ_J3n",
        "outputId": "18b7b806-0e77-489d-e06e-9762fa5000eb"
      },
      "execution_count": 63,
      "outputs": [
        {
          "output_type": "execute_result",
          "data": {
            "text/plain": [
              "tensor([0.7071], dtype=torch.float64, grad_fn=<TanhBackward0>)"
            ]
          },
          "metadata": {},
          "execution_count": 63
        }
      ]
    },
    {
      "cell_type": "code",
      "source": [
        "# and can call .item on it just to get its value\n",
        "# .item() and data.item() is same\n",
        "o.item()"
      ],
      "metadata": {
        "colab": {
          "base_uri": "https://localhost:8080/"
        },
        "id": "_ZYsk8_oUSDp",
        "outputId": "95fcad89-f148-491a-c06b-06e02934100b"
      },
      "execution_count": 64,
      "outputs": [
        {
          "output_type": "execute_result",
          "data": {
            "text/plain": [
              "0.7070699720278941"
            ]
          },
          "metadata": {},
          "execution_count": 64
        }
      ]
    },
    {
      "cell_type": "markdown",
      "source": [
        "and the tensor object also has backward() function just as we implemented.\n",
        "\n",
        "And all of these also have these .grad, and its a tensor. we can popup number with .item().\n",
        "\n",
        "- So torch can do that we can do with the micrograd as a special case when tensor are all single element tensors.\n",
        "\n",
        "- big deal with pytorch is that every thing is significantly efficient bcs of working with tensor objects.\n",
        "\n",
        "- and we can do lots of operations parallel because of these tensors.\n",
        "- otherwise what we have built is verymuch similar with the pytorch."
      ],
      "metadata": {
        "id": "GNzo1W1ZUoiT"
      }
    },
    {
      "cell_type": "markdown",
      "source": [
        "\n",
        "Now we have some machinary to built out complicated expration, we can start building neural nets. As Neural nets are just specific class of mathematical expressions.\n",
        "\n",
        "So now building neural nets peice by peice and eventually building two layer MLP.\n",
        "\n",
        "# Neuron\n",
        "- starting with single individual neuron.\n",
        "- building it in a way that subscribes to the pytorch api in its neuron implementation.\n",
        "- Just like we compare micrograd implementation with PyTorch's autograd engine, will also compare neural network module.\n",
        "\n",
        "Class `Neuron` Details\n",
        "\n",
        "`__init__`\n",
        "- constructor will take no of inputs as argument. which is how many inputs come to the neuron\n",
        "- weight `w` that is some random number for every one of those inputs.\n",
        "- and a bias `b` that controls overall happyness trigger of this neuron.\n",
        "\n",
        "`__call__`\n",
        "\n",
        "- In this function we would like to do a forward pass of the network\n",
        "- multiply all the elemets of `w` and all the elements of `x` pair wise."
      ],
      "metadata": {
        "id": "sGqWTtbAajDc"
      }
    },
    {
      "cell_type": "code",
      "source": [
        "import random"
      ],
      "metadata": {
        "id": "jGFp8onpdbBP"
      },
      "execution_count": 65,
      "outputs": []
    },
    {
      "cell_type": "code",
      "source": [],
      "metadata": {
        "colab": {
          "base_uri": "https://localhost:8080/"
        },
        "id": "4v6foZyudnZT",
        "outputId": "46c87e25-0b2c-4453-bc91-68bb6e8f561f"
      },
      "execution_count": 74,
      "outputs": [
        {
          "output_type": "execute_result",
          "data": {
            "text/plain": [
              "1.8049889432633388"
            ]
          },
          "metadata": {},
          "execution_count": 74
        }
      ]
    },
    {
      "cell_type": "code",
      "source": [
        "\n",
        "class Neuron():\n",
        "\n",
        "  def __init__(self, nin):\n",
        "    self.w = [Value(random.uniform(-1,2)) for _ in range(nin)]\n",
        "    self.b = Value(random.uniform(-1,1))\n",
        "\n",
        "  def __call__(self, x):\n",
        "    # w * x + b , that is dot product\n",
        "    # print(list(zip(self.w, x)))\n",
        "    act = sum((wi*xi for wi,xi in zip(self.w, x)), self.b)\n",
        "    out = act.tanh() # passing it through non linearity\n",
        "    return out\n",
        "\n",
        "# x = [2.0,1.0]\n",
        "# n = Neuron(2)\n",
        "# n(x) # __call__ function will be called by python while using this notation.\n",
        "# this is how we can forward a single neuron."
      ],
      "metadata": {
        "id": "tKJR3jTdUgxv"
      },
      "execution_count": 118,
      "outputs": []
    },
    {
      "cell_type": "markdown",
      "source": [
        "# Layer\n",
        "- What is layer of Neurons?\n",
        "- Its just a set of Neurons evalueated independently"
      ],
      "metadata": {
        "id": "Mhq4Liusw3bz"
      }
    },
    {
      "cell_type": "code",
      "source": [
        "class Layer():\n",
        "\n",
        "  def __init__(self, nin, nout):\n",
        "    self.neurons = [Neuron(nin) for _ in range(nout)]\n",
        "\n",
        "  def __call__(self, x):\n",
        "    outs = [n(x) for n in self.neurons]\n",
        "    return outs[0] if len(outs) == 1 else outs\n",
        "\n",
        "\n",
        "x = [2.0, 3.0]\n",
        "n = Layer(2,3)\n",
        "n(x)"
      ],
      "metadata": {
        "colab": {
          "base_uri": "https://localhost:8080/"
        },
        "id": "FXgL7du2hM3k",
        "outputId": "298fbc22-a224-4515-d1ee-14891de88766"
      },
      "execution_count": 119,
      "outputs": [
        {
          "output_type": "execute_result",
          "data": {
            "text/plain": [
              "[Value(data=0.9999392664012937),\n",
              " Value(data=0.9993531135677087),\n",
              " Value(data=0.9999508905930149)]"
            ]
          },
          "metadata": {},
          "execution_count": 119
        }
      ]
    },
    {
      "cell_type": "markdown",
      "source": [
        "# MLP\n",
        "- Multi layer perceptron\n"
      ],
      "metadata": {
        "id": "g0mUJ_7A1Ko0"
      }
    },
    {
      "cell_type": "code",
      "source": [
        "class MLP():\n",
        "\n",
        "  def __init__(self, nin, nouts):\n",
        "    sz = [nin] + nouts\n",
        "    self.layers = [Layer(sz[i], sz[i+1]) for i in range(len(nouts))]\n",
        "\n",
        "  def __call__(self, x):\n",
        "    for layer in self.layers:\n",
        "      x = layer(x)\n",
        "    return x\n",
        "\n",
        "x = [2.0, 3.0, -1.0]\n",
        "n = MLP(3, [4,4,1])\n",
        "n(x)"
      ],
      "metadata": {
        "colab": {
          "base_uri": "https://localhost:8080/"
        },
        "id": "Isf2xqzA1J49",
        "outputId": "d3f916b5-7e4a-4829-8ca4-ffc6281edf88"
      },
      "execution_count": 120,
      "outputs": [
        {
          "output_type": "execute_result",
          "data": {
            "text/plain": [
              "Value(data=0.9725939794166923)"
            ]
          },
          "metadata": {},
          "execution_count": 120
        }
      ]
    },
    {
      "cell_type": "code",
      "source": [
        "draw_dot(n(x))"
      ],
      "metadata": {
        "colab": {
          "base_uri": "https://localhost:8080/",
          "height": 1000
        },
        "id": "oxoer6z6vTdW",
        "outputId": "1041edd5-d1c2-450c-cc92-7aef8620bad2"
      },
      "execution_count": 128,
      "outputs": [
        {
          "output_type": "execute_result",
          "data": {
            "image/svg+xml": "<?xml version=\"1.0\" encoding=\"UTF-8\" standalone=\"no\"?>\n<!DOCTYPE svg PUBLIC \"-//W3C//DTD SVG 1.1//EN\"\n \"http://www.w3.org/Graphics/SVG/1.1/DTD/svg11.dtd\">\n<!-- Generated by graphviz version 2.43.0 (0)\n -->\n<!-- Title: %3 Pages: 1 -->\n<svg width=\"5747pt\" height=\"1035pt\"\n viewBox=\"0.00 0.00 5747.00 1035.00\" xmlns=\"http://www.w3.org/2000/svg\" xmlns:xlink=\"http://www.w3.org/1999/xlink\">\n<g id=\"graph0\" class=\"graph\" transform=\"scale(1 1) rotate(0) translate(4 1031)\">\n<title>%3</title>\n<polygon fill=\"white\" stroke=\"transparent\" points=\"-4,4 -4,-1031 5743,-1031 5743,4 -4,4\"/>\n<!-- 136218667294752 -->\n<g id=\"node1\" class=\"node\">\n<title>136218667294752</title>\n<polygon fill=\"none\" stroke=\"black\" points=\"1254.5,-715.5 1254.5,-751.5 1436.5,-751.5 1436.5,-715.5 1254.5,-715.5\"/>\n<text text-anchor=\"middle\" x=\"1264.5\" y=\"-729.8\" font-family=\"Times,serif\" font-size=\"14.00\"> </text>\n<polyline fill=\"none\" stroke=\"black\" points=\"1274.5,-715.5 1274.5,-751.5 \"/>\n<text text-anchor=\"middle\" x=\"1314.5\" y=\"-729.8\" font-family=\"Times,serif\" font-size=\"14.00\">data 0.2130</text>\n<polyline fill=\"none\" stroke=\"black\" points=\"1354.5,-715.5 1354.5,-751.5 \"/>\n<text text-anchor=\"middle\" x=\"1395.5\" y=\"-729.8\" font-family=\"Times,serif\" font-size=\"14.00\">grad 0.0000</text>\n</g>\n<!-- 136218667404688* -->\n<g id=\"node69\" class=\"node\">\n<title>136218667404688*</title>\n<ellipse fill=\"none\" stroke=\"black\" cx=\"1502\" cy=\"-678.5\" rx=\"27\" ry=\"18\"/>\n<text text-anchor=\"middle\" x=\"1502\" y=\"-674.8\" font-family=\"Times,serif\" font-size=\"14.00\">*</text>\n</g>\n<!-- 136218667294752&#45;&gt;136218667404688* -->\n<g id=\"edge148\" class=\"edge\">\n<title>136218667294752&#45;&gt;136218667404688*</title>\n<path fill=\"none\" stroke=\"black\" d=\"M1412.56,-715.45C1421.51,-712.64 1430.53,-709.63 1439,-706.5 1449.49,-702.62 1460.71,-697.78 1470.68,-693.22\"/>\n<polygon fill=\"black\" stroke=\"black\" points=\"1472.2,-696.37 1479.79,-688.97 1469.25,-690.02 1472.2,-696.37\"/>\n</g>\n<!-- 136218667401328 -->\n<g id=\"node2\" class=\"node\">\n<title>136218667401328</title>\n<polygon fill=\"none\" stroke=\"black\" points=\"3979,-471.5 3979,-507.5 4161,-507.5 4161,-471.5 3979,-471.5\"/>\n<text text-anchor=\"middle\" x=\"3989\" y=\"-485.8\" font-family=\"Times,serif\" font-size=\"14.00\"> </text>\n<polyline fill=\"none\" stroke=\"black\" points=\"3999,-471.5 3999,-507.5 \"/>\n<text text-anchor=\"middle\" x=\"4039\" y=\"-485.8\" font-family=\"Times,serif\" font-size=\"14.00\">data 0.4280</text>\n<polyline fill=\"none\" stroke=\"black\" points=\"4079,-471.5 4079,-507.5 \"/>\n<text text-anchor=\"middle\" x=\"4120\" y=\"-485.8\" font-family=\"Times,serif\" font-size=\"14.00\">grad 0.0000</text>\n</g>\n<!-- 136218667403056+ -->\n<g id=\"node42\" class=\"node\">\n<title>136218667403056+</title>\n<ellipse fill=\"none\" stroke=\"black\" cx=\"4506\" cy=\"-496.5\" rx=\"27\" ry=\"18\"/>\n<text text-anchor=\"middle\" x=\"4506\" y=\"-492.8\" font-family=\"Times,serif\" font-size=\"14.00\">+</text>\n</g>\n<!-- 136218667401328&#45;&gt;136218667403056+ -->\n<g id=\"edge177\" class=\"edge\">\n<title>136218667401328&#45;&gt;136218667403056+</title>\n<path fill=\"none\" stroke=\"black\" d=\"M4161.19,-490.95C4256.43,-492.49 4401.88,-494.84 4468.89,-495.92\"/>\n<polygon fill=\"black\" stroke=\"black\" points=\"4468.9,-499.42 4478.95,-496.08 4469.01,-492.42 4468.9,-499.42\"/>\n</g>\n<!-- 136218667401328* -->\n<g id=\"node3\" class=\"node\">\n<title>136218667401328*</title>\n<ellipse fill=\"none\" stroke=\"black\" cx=\"3693\" cy=\"-489.5\" rx=\"27\" ry=\"18\"/>\n<text text-anchor=\"middle\" x=\"3693\" y=\"-485.8\" font-family=\"Times,serif\" font-size=\"14.00\">*</text>\n</g>\n<!-- 136218667401328*&#45;&gt;136218667401328 -->\n<g id=\"edge1\" class=\"edge\">\n<title>136218667401328*&#45;&gt;136218667401328</title>\n<path fill=\"none\" stroke=\"black\" d=\"M3720.07,-489.5C3770.67,-489.5 3884.57,-489.5 3968.54,-489.5\"/>\n<polygon fill=\"black\" stroke=\"black\" points=\"3968.63,-493 3978.63,-489.5 3968.63,-486 3968.63,-493\"/>\n</g>\n<!-- 136218667401376 -->\n<g id=\"node4\" class=\"node\">\n<title>136218667401376</title>\n<polygon fill=\"none\" stroke=\"black\" points=\"2193.5,-413.5 2193.5,-449.5 2375.5,-449.5 2375.5,-413.5 2193.5,-413.5\"/>\n<text text-anchor=\"middle\" x=\"2203.5\" y=\"-427.8\" font-family=\"Times,serif\" font-size=\"14.00\"> </text>\n<polyline fill=\"none\" stroke=\"black\" points=\"2213.5,-413.5 2213.5,-449.5 \"/>\n<text text-anchor=\"middle\" x=\"2253.5\" y=\"-427.8\" font-family=\"Times,serif\" font-size=\"14.00\">data 0.1816</text>\n<polyline fill=\"none\" stroke=\"black\" points=\"2293.5,-413.5 2293.5,-449.5 \"/>\n<text text-anchor=\"middle\" x=\"2334.5\" y=\"-427.8\" font-family=\"Times,serif\" font-size=\"14.00\">grad 0.0000</text>\n</g>\n<!-- 136218667407856+ -->\n<g id=\"node172\" class=\"node\">\n<title>136218667407856+</title>\n<ellipse fill=\"none\" stroke=\"black\" cx=\"2441\" cy=\"-431.5\" rx=\"27\" ry=\"18\"/>\n<text text-anchor=\"middle\" x=\"2441\" y=\"-427.8\" font-family=\"Times,serif\" font-size=\"14.00\">+</text>\n</g>\n<!-- 136218667401376&#45;&gt;136218667407856+ -->\n<g id=\"edge158\" class=\"edge\">\n<title>136218667401376&#45;&gt;136218667407856+</title>\n<path fill=\"none\" stroke=\"black\" d=\"M2375.82,-431.5C2385.57,-431.5 2395.04,-431.5 2403.57,-431.5\"/>\n<polygon fill=\"black\" stroke=\"black\" points=\"2403.83,-435 2413.83,-431.5 2403.83,-428 2403.83,-435\"/>\n</g>\n<!-- 136218667401376* -->\n<g id=\"node5\" class=\"node\">\n<title>136218667401376*</title>\n<ellipse fill=\"none\" stroke=\"black\" cx=\"2128\" cy=\"-431.5\" rx=\"27\" ry=\"18\"/>\n<text text-anchor=\"middle\" x=\"2128\" y=\"-427.8\" font-family=\"Times,serif\" font-size=\"14.00\">*</text>\n</g>\n<!-- 136218667401376*&#45;&gt;136218667401376 -->\n<g id=\"edge2\" class=\"edge\">\n<title>136218667401376*&#45;&gt;136218667401376</title>\n<path fill=\"none\" stroke=\"black\" d=\"M2155.21,-431.5C2163.34,-431.5 2172.85,-431.5 2182.94,-431.5\"/>\n<polygon fill=\"black\" stroke=\"black\" points=\"2183.19,-435 2193.19,-431.5 2183.19,-428 2183.19,-435\"/>\n</g>\n<!-- 136218666901728 -->\n<g id=\"node6\" class=\"node\">\n<title>136218666901728</title>\n<polygon fill=\"none\" stroke=\"black\" points=\"315.5,-362.5 315.5,-398.5 497.5,-398.5 497.5,-362.5 315.5,-362.5\"/>\n<text text-anchor=\"middle\" x=\"325.5\" y=\"-376.8\" font-family=\"Times,serif\" font-size=\"14.00\"> </text>\n<polyline fill=\"none\" stroke=\"black\" points=\"335.5,-362.5 335.5,-398.5 \"/>\n<text text-anchor=\"middle\" x=\"375.5\" y=\"-376.8\" font-family=\"Times,serif\" font-size=\"14.00\">data 0.8575</text>\n<polyline fill=\"none\" stroke=\"black\" points=\"415.5,-362.5 415.5,-398.5 \"/>\n<text text-anchor=\"middle\" x=\"456.5\" y=\"-376.8\" font-family=\"Times,serif\" font-size=\"14.00\">grad 0.0000</text>\n</g>\n<!-- 136218667366336* -->\n<g id=\"node151\" class=\"node\">\n<title>136218667366336*</title>\n<ellipse fill=\"none\" stroke=\"black\" cx=\"563\" cy=\"-325.5\" rx=\"27\" ry=\"18\"/>\n<text text-anchor=\"middle\" x=\"563\" y=\"-321.8\" font-family=\"Times,serif\" font-size=\"14.00\">*</text>\n</g>\n<!-- 136218666901728&#45;&gt;136218667366336* -->\n<g id=\"edge88\" class=\"edge\">\n<title>136218666901728&#45;&gt;136218667366336*</title>\n<path fill=\"none\" stroke=\"black\" d=\"M471.02,-362.35C480.79,-359.24 490.71,-355.92 500,-352.5 510.25,-348.73 521.23,-344.14 531.07,-339.82\"/>\n<polygon fill=\"black\" stroke=\"black\" points=\"532.74,-342.9 540.45,-335.63 529.89,-336.51 532.74,-342.9\"/>\n</g>\n<!-- 136218667409824 -->\n<g id=\"node7\" class=\"node\">\n<title>136218667409824</title>\n<polygon fill=\"none\" stroke=\"black\" points=\"3130,-691.5 3130,-727.5 3317,-727.5 3317,-691.5 3130,-691.5\"/>\n<text text-anchor=\"middle\" x=\"3140\" y=\"-705.8\" font-family=\"Times,serif\" font-size=\"14.00\"> </text>\n<polyline fill=\"none\" stroke=\"black\" points=\"3150,-691.5 3150,-727.5 \"/>\n<text text-anchor=\"middle\" x=\"3192.5\" y=\"-705.8\" font-family=\"Times,serif\" font-size=\"14.00\">data &#45;3.4882</text>\n<polyline fill=\"none\" stroke=\"black\" points=\"3235,-691.5 3235,-727.5 \"/>\n<text text-anchor=\"middle\" x=\"3276\" y=\"-705.8\" font-family=\"Times,serif\" font-size=\"14.00\">grad 0.0000</text>\n</g>\n<!-- 136218667409920tanh -->\n<g id=\"node10\" class=\"node\">\n<title>136218667409920tanh</title>\n<ellipse fill=\"none\" stroke=\"black\" cx=\"3380\" cy=\"-709.5\" rx=\"27\" ry=\"18\"/>\n<text text-anchor=\"middle\" x=\"3380\" y=\"-705.8\" font-family=\"Times,serif\" font-size=\"14.00\">tanh</text>\n</g>\n<!-- 136218667409824&#45;&gt;136218667409920tanh -->\n<g id=\"edge182\" class=\"edge\">\n<title>136218667409824&#45;&gt;136218667409920tanh</title>\n<path fill=\"none\" stroke=\"black\" d=\"M3317.05,-709.5C3326.06,-709.5 3334.79,-709.5 3342.7,-709.5\"/>\n<polygon fill=\"black\" stroke=\"black\" points=\"3342.95,-713 3352.95,-709.5 3342.95,-706 3342.95,-713\"/>\n</g>\n<!-- 136218667409824+ -->\n<g id=\"node8\" class=\"node\">\n<title>136218667409824+</title>\n<ellipse fill=\"none\" stroke=\"black\" cx=\"3067\" cy=\"-709.5\" rx=\"27\" ry=\"18\"/>\n<text text-anchor=\"middle\" x=\"3067\" y=\"-705.8\" font-family=\"Times,serif\" font-size=\"14.00\">+</text>\n</g>\n<!-- 136218667409824+&#45;&gt;136218667409824 -->\n<g id=\"edge3\" class=\"edge\">\n<title>136218667409824+&#45;&gt;136218667409824</title>\n<path fill=\"none\" stroke=\"black\" d=\"M3094.21,-709.5C3101.73,-709.5 3110.43,-709.5 3119.67,-709.5\"/>\n<polygon fill=\"black\" stroke=\"black\" points=\"3119.89,-713 3129.89,-709.5 3119.89,-706 3119.89,-713\"/>\n</g>\n<!-- 136218667409920 -->\n<g id=\"node9\" class=\"node\">\n<title>136218667409920</title>\n<polygon fill=\"none\" stroke=\"black\" points=\"3443,-691.5 3443,-727.5 3630,-727.5 3630,-691.5 3443,-691.5\"/>\n<text text-anchor=\"middle\" x=\"3453\" y=\"-705.8\" font-family=\"Times,serif\" font-size=\"14.00\"> </text>\n<polyline fill=\"none\" stroke=\"black\" points=\"3463,-691.5 3463,-727.5 \"/>\n<text text-anchor=\"middle\" x=\"3505.5\" y=\"-705.8\" font-family=\"Times,serif\" font-size=\"14.00\">data &#45;0.9981</text>\n<polyline fill=\"none\" stroke=\"black\" points=\"3548,-691.5 3548,-727.5 \"/>\n<text text-anchor=\"middle\" x=\"3589\" y=\"-705.8\" font-family=\"Times,serif\" font-size=\"14.00\">grad 0.0000</text>\n</g>\n<!-- 136218667402912* -->\n<g id=\"node37\" class=\"node\">\n<title>136218667402912*</title>\n<ellipse fill=\"none\" stroke=\"black\" cx=\"3693\" cy=\"-654.5\" rx=\"27\" ry=\"18\"/>\n<text text-anchor=\"middle\" x=\"3693\" y=\"-650.8\" font-family=\"Times,serif\" font-size=\"14.00\">*</text>\n</g>\n<!-- 136218667409920&#45;&gt;136218667402912* -->\n<g id=\"edge174\" class=\"edge\">\n<title>136218667409920&#45;&gt;136218667402912*</title>\n<path fill=\"none\" stroke=\"black\" d=\"M3603.56,-691.45C3612.51,-688.64 3621.53,-685.63 3630,-682.5 3640.49,-678.62 3651.71,-673.78 3661.68,-669.22\"/>\n<polygon fill=\"black\" stroke=\"black\" points=\"3663.2,-672.37 3670.79,-664.97 3660.25,-666.02 3663.2,-672.37\"/>\n</g>\n<!-- 136218667409920tanh&#45;&gt;136218667409920 -->\n<g id=\"edge4\" class=\"edge\">\n<title>136218667409920tanh&#45;&gt;136218667409920</title>\n<path fill=\"none\" stroke=\"black\" d=\"M3407.21,-709.5C3414.73,-709.5 3423.43,-709.5 3432.67,-709.5\"/>\n<polygon fill=\"black\" stroke=\"black\" points=\"3432.89,-713 3442.89,-709.5 3432.89,-706 3432.89,-713\"/>\n</g>\n<!-- 136218667360816 -->\n<g id=\"node11\" class=\"node\">\n<title>136218667360816</title>\n<polygon fill=\"none\" stroke=\"black\" points=\"626,-204.5 626,-240.5 813,-240.5 813,-204.5 626,-204.5\"/>\n<text text-anchor=\"middle\" x=\"636\" y=\"-218.8\" font-family=\"Times,serif\" font-size=\"14.00\"> </text>\n<polyline fill=\"none\" stroke=\"black\" points=\"646,-204.5 646,-240.5 \"/>\n<text text-anchor=\"middle\" x=\"688.5\" y=\"-218.8\" font-family=\"Times,serif\" font-size=\"14.00\">data &#45;1.9512</text>\n<polyline fill=\"none\" stroke=\"black\" points=\"731,-204.5 731,-240.5 \"/>\n<text text-anchor=\"middle\" x=\"772\" y=\"-218.8\" font-family=\"Times,serif\" font-size=\"14.00\">grad 0.0000</text>\n</g>\n<!-- 136218667364464+ -->\n<g id=\"node92\" class=\"node\">\n<title>136218667364464+</title>\n<ellipse fill=\"none\" stroke=\"black\" cx=\"876\" cy=\"-210.5\" rx=\"27\" ry=\"18\"/>\n<text text-anchor=\"middle\" x=\"876\" y=\"-206.8\" font-family=\"Times,serif\" font-size=\"14.00\">+</text>\n</g>\n<!-- 136218667360816&#45;&gt;136218667364464+ -->\n<g id=\"edge147\" class=\"edge\">\n<title>136218667360816&#45;&gt;136218667364464+</title>\n<path fill=\"none\" stroke=\"black\" d=\"M813.05,-215.31C822.16,-214.6 830.98,-213.92 838.97,-213.3\"/>\n<polygon fill=\"black\" stroke=\"black\" points=\"839.25,-216.79 848.95,-212.52 838.71,-209.81 839.25,-216.79\"/>\n</g>\n<!-- 136218667360816+ -->\n<g id=\"node12\" class=\"node\">\n<title>136218667360816+</title>\n<ellipse fill=\"none\" stroke=\"black\" cx=\"563\" cy=\"-222.5\" rx=\"27\" ry=\"18\"/>\n<text text-anchor=\"middle\" x=\"563\" y=\"-218.8\" font-family=\"Times,serif\" font-size=\"14.00\">+</text>\n</g>\n<!-- 136218667360816+&#45;&gt;136218667360816 -->\n<g id=\"edge5\" class=\"edge\">\n<title>136218667360816+&#45;&gt;136218667360816</title>\n<path fill=\"none\" stroke=\"black\" d=\"M590.21,-222.5C597.73,-222.5 606.43,-222.5 615.67,-222.5\"/>\n<polygon fill=\"black\" stroke=\"black\" points=\"615.89,-226 625.89,-222.5 615.89,-219 615.89,-226\"/>\n</g>\n<!-- 136218667360912 -->\n<g id=\"node13\" class=\"node\">\n<title>136218667360912</title>\n<polygon fill=\"none\" stroke=\"black\" points=\"626,-94.5 626,-130.5 813,-130.5 813,-94.5 626,-94.5\"/>\n<text text-anchor=\"middle\" x=\"636\" y=\"-108.8\" font-family=\"Times,serif\" font-size=\"14.00\"> </text>\n<polyline fill=\"none\" stroke=\"black\" points=\"646,-94.5 646,-130.5 \"/>\n<text text-anchor=\"middle\" x=\"688.5\" y=\"-108.8\" font-family=\"Times,serif\" font-size=\"14.00\">data &#45;1.0000</text>\n<polyline fill=\"none\" stroke=\"black\" points=\"731,-94.5 731,-130.5 \"/>\n<text text-anchor=\"middle\" x=\"772\" y=\"-108.8\" font-family=\"Times,serif\" font-size=\"14.00\">grad 0.0000</text>\n</g>\n<!-- 136218667366816* -->\n<g id=\"node168\" class=\"node\">\n<title>136218667366816*</title>\n<ellipse fill=\"none\" stroke=\"black\" cx=\"876\" cy=\"-112.5\" rx=\"27\" ry=\"18\"/>\n<text text-anchor=\"middle\" x=\"876\" y=\"-108.8\" font-family=\"Times,serif\" font-size=\"14.00\">*</text>\n</g>\n<!-- 136218667360912&#45;&gt;136218667366816* -->\n<g id=\"edge80\" class=\"edge\">\n<title>136218667360912&#45;&gt;136218667366816*</title>\n<path fill=\"none\" stroke=\"black\" d=\"M813.05,-112.5C822.06,-112.5 830.79,-112.5 838.7,-112.5\"/>\n<polygon fill=\"black\" stroke=\"black\" points=\"838.95,-116 848.95,-112.5 838.95,-109 838.95,-116\"/>\n</g>\n<!-- 136218667360960 -->\n<g id=\"node14\" class=\"node\">\n<title>136218667360960</title>\n<polygon fill=\"none\" stroke=\"black\" points=\"1254.5,-372.5 1254.5,-408.5 1436.5,-408.5 1436.5,-372.5 1254.5,-372.5\"/>\n<text text-anchor=\"middle\" x=\"1264.5\" y=\"-386.8\" font-family=\"Times,serif\" font-size=\"14.00\"> </text>\n<polyline fill=\"none\" stroke=\"black\" points=\"1274.5,-372.5 1274.5,-408.5 \"/>\n<text text-anchor=\"middle\" x=\"1314.5\" y=\"-386.8\" font-family=\"Times,serif\" font-size=\"14.00\">data 0.1851</text>\n<polyline fill=\"none\" stroke=\"black\" points=\"1354.5,-372.5 1354.5,-408.5 \"/>\n<text text-anchor=\"middle\" x=\"1395.5\" y=\"-386.8\" font-family=\"Times,serif\" font-size=\"14.00\">grad 0.0000</text>\n</g>\n<!-- 136218667362112+ -->\n<g id=\"node44\" class=\"node\">\n<title>136218667362112+</title>\n<ellipse fill=\"none\" stroke=\"black\" cx=\"1502\" cy=\"-403.5\" rx=\"27\" ry=\"18\"/>\n<text text-anchor=\"middle\" x=\"1502\" y=\"-399.8\" font-family=\"Times,serif\" font-size=\"14.00\">+</text>\n</g>\n<!-- 136218667360960&#45;&gt;136218667362112+ -->\n<g id=\"edge75\" class=\"edge\">\n<title>136218667360960&#45;&gt;136218667362112+</title>\n<path fill=\"none\" stroke=\"black\" d=\"M1436.82,-398.1C1446.77,-398.94 1456.43,-399.75 1465.1,-400.48\"/>\n<polygon fill=\"black\" stroke=\"black\" points=\"1464.88,-403.97 1475.14,-401.32 1465.47,-397 1464.88,-403.97\"/>\n</g>\n<!-- 136218667360960+ -->\n<g id=\"node15\" class=\"node\">\n<title>136218667360960+</title>\n<ellipse fill=\"none\" stroke=\"black\" cx=\"1189\" cy=\"-390.5\" rx=\"27\" ry=\"18\"/>\n<text text-anchor=\"middle\" x=\"1189\" y=\"-386.8\" font-family=\"Times,serif\" font-size=\"14.00\">+</text>\n</g>\n<!-- 136218667360960+&#45;&gt;136218667360960 -->\n<g id=\"edge6\" class=\"edge\">\n<title>136218667360960+&#45;&gt;136218667360960</title>\n<path fill=\"none\" stroke=\"black\" d=\"M1216.21,-390.5C1224.34,-390.5 1233.85,-390.5 1243.94,-390.5\"/>\n<polygon fill=\"black\" stroke=\"black\" points=\"1244.19,-394 1254.19,-390.5 1244.19,-387 1244.19,-394\"/>\n</g>\n<!-- 136218667401952 -->\n<g id=\"node16\" class=\"node\">\n<title>136218667401952</title>\n<polygon fill=\"none\" stroke=\"black\" points=\"2817,-770.5 2817,-806.5 3004,-806.5 3004,-770.5 2817,-770.5\"/>\n<text text-anchor=\"middle\" x=\"2827\" y=\"-784.8\" font-family=\"Times,serif\" font-size=\"14.00\"> </text>\n<polyline fill=\"none\" stroke=\"black\" points=\"2837,-770.5 2837,-806.5 \"/>\n<text text-anchor=\"middle\" x=\"2879.5\" y=\"-784.8\" font-family=\"Times,serif\" font-size=\"14.00\">data &#45;0.3229</text>\n<polyline fill=\"none\" stroke=\"black\" points=\"2922,-770.5 2922,-806.5 \"/>\n<text text-anchor=\"middle\" x=\"2963\" y=\"-784.8\" font-family=\"Times,serif\" font-size=\"14.00\">grad 0.0000</text>\n</g>\n<!-- 136218667401952&#45;&gt;136218667409824+ -->\n<g id=\"edge199\" class=\"edge\">\n<title>136218667401952&#45;&gt;136218667409824+</title>\n<path fill=\"none\" stroke=\"black\" d=\"M2946.95,-770.38C2973.8,-756.64 3010.31,-737.97 3035.79,-724.95\"/>\n<polygon fill=\"black\" stroke=\"black\" points=\"3037.66,-727.92 3044.97,-720.25 3034.48,-721.69 3037.66,-727.92\"/>\n</g>\n<!-- 136218667401952* -->\n<g id=\"node17\" class=\"node\">\n<title>136218667401952*</title>\n<ellipse fill=\"none\" stroke=\"black\" cx=\"2754\" cy=\"-814.5\" rx=\"27\" ry=\"18\"/>\n<text text-anchor=\"middle\" x=\"2754\" y=\"-810.8\" font-family=\"Times,serif\" font-size=\"14.00\">*</text>\n</g>\n<!-- 136218667401952*&#45;&gt;136218667401952 -->\n<g id=\"edge7\" class=\"edge\">\n<title>136218667401952*&#45;&gt;136218667401952</title>\n<path fill=\"none\" stroke=\"black\" d=\"M2780.51,-810.21C2788.21,-808.91 2797.17,-807.4 2806.73,-805.8\"/>\n<polygon fill=\"black\" stroke=\"black\" points=\"2807.58,-809.2 2816.86,-804.09 2806.42,-802.3 2807.58,-809.2\"/>\n</g>\n<!-- 136218667402144 -->\n<g id=\"node18\" class=\"node\">\n<title>136218667402144</title>\n<polygon fill=\"none\" stroke=\"black\" points=\"2817,-688.5 2817,-724.5 3004,-724.5 3004,-688.5 2817,-688.5\"/>\n<text text-anchor=\"middle\" x=\"2827\" y=\"-702.8\" font-family=\"Times,serif\" font-size=\"14.00\"> </text>\n<polyline fill=\"none\" stroke=\"black\" points=\"2837,-688.5 2837,-724.5 \"/>\n<text text-anchor=\"middle\" x=\"2879.5\" y=\"-702.8\" font-family=\"Times,serif\" font-size=\"14.00\">data &#45;3.1653</text>\n<polyline fill=\"none\" stroke=\"black\" points=\"2922,-688.5 2922,-724.5 \"/>\n<text text-anchor=\"middle\" x=\"2963\" y=\"-702.8\" font-family=\"Times,serif\" font-size=\"14.00\">grad 0.0000</text>\n</g>\n<!-- 136218667402144&#45;&gt;136218667409824+ -->\n<g id=\"edge155\" class=\"edge\">\n<title>136218667402144&#45;&gt;136218667409824+</title>\n<path fill=\"none\" stroke=\"black\" d=\"M3004.05,-708.3C3013.06,-708.47 3021.79,-708.64 3029.7,-708.8\"/>\n<polygon fill=\"black\" stroke=\"black\" points=\"3029.88,-712.3 3039.95,-708.99 3030.02,-705.3 3029.88,-712.3\"/>\n</g>\n<!-- 136218667402144+ -->\n<g id=\"node19\" class=\"node\">\n<title>136218667402144+</title>\n<ellipse fill=\"none\" stroke=\"black\" cx=\"2754\" cy=\"-706.5\" rx=\"27\" ry=\"18\"/>\n<text text-anchor=\"middle\" x=\"2754\" y=\"-702.8\" font-family=\"Times,serif\" font-size=\"14.00\">+</text>\n</g>\n<!-- 136218667402144+&#45;&gt;136218667402144 -->\n<g id=\"edge8\" class=\"edge\">\n<title>136218667402144+&#45;&gt;136218667402144</title>\n<path fill=\"none\" stroke=\"black\" d=\"M2781.21,-706.5C2788.73,-706.5 2797.43,-706.5 2806.67,-706.5\"/>\n<polygon fill=\"black\" stroke=\"black\" points=\"2806.89,-710 2816.89,-706.5 2806.89,-703 2806.89,-710\"/>\n</g>\n<!-- 136218667410448 -->\n<g id=\"node20\" class=\"node\">\n<title>136218667410448</title>\n<polygon fill=\"none\" stroke=\"black\" points=\"5557,-436.5 5557,-472.5 5739,-472.5 5739,-436.5 5557,-436.5\"/>\n<text text-anchor=\"middle\" x=\"5567\" y=\"-450.8\" font-family=\"Times,serif\" font-size=\"14.00\"> </text>\n<polyline fill=\"none\" stroke=\"black\" points=\"5577,-436.5 5577,-472.5 \"/>\n<text text-anchor=\"middle\" x=\"5617\" y=\"-450.8\" font-family=\"Times,serif\" font-size=\"14.00\">data 0.9726</text>\n<polyline fill=\"none\" stroke=\"black\" points=\"5657,-436.5 5657,-472.5 \"/>\n<text text-anchor=\"middle\" x=\"5698\" y=\"-450.8\" font-family=\"Times,serif\" font-size=\"14.00\">grad 0.0000</text>\n</g>\n<!-- 136218667410448tanh -->\n<g id=\"node21\" class=\"node\">\n<title>136218667410448tanh</title>\n<ellipse fill=\"none\" stroke=\"black\" cx=\"5494\" cy=\"-454.5\" rx=\"27\" ry=\"18\"/>\n<text text-anchor=\"middle\" x=\"5494\" y=\"-450.8\" font-family=\"Times,serif\" font-size=\"14.00\">tanh</text>\n</g>\n<!-- 136218667410448tanh&#45;&gt;136218667410448 -->\n<g id=\"edge9\" class=\"edge\">\n<title>136218667410448tanh&#45;&gt;136218667410448</title>\n<path fill=\"none\" stroke=\"black\" d=\"M5521.13,-454.5C5528.67,-454.5 5537.39,-454.5 5546.64,-454.5\"/>\n<polygon fill=\"black\" stroke=\"black\" points=\"5546.87,-458 5556.87,-454.5 5546.87,-451 5546.87,-458\"/>\n</g>\n<!-- 136218667402288 -->\n<g id=\"node22\" class=\"node\">\n<title>136218667402288</title>\n<polygon fill=\"none\" stroke=\"black\" points=\"4941,-462.5 4941,-498.5 5123,-498.5 5123,-462.5 4941,-462.5\"/>\n<text text-anchor=\"middle\" x=\"4951\" y=\"-476.8\" font-family=\"Times,serif\" font-size=\"14.00\"> </text>\n<polyline fill=\"none\" stroke=\"black\" points=\"4961,-462.5 4961,-498.5 \"/>\n<text text-anchor=\"middle\" x=\"5001\" y=\"-476.8\" font-family=\"Times,serif\" font-size=\"14.00\">data 1.6015</text>\n<polyline fill=\"none\" stroke=\"black\" points=\"5041,-462.5 5041,-498.5 \"/>\n<text text-anchor=\"middle\" x=\"5082\" y=\"-476.8\" font-family=\"Times,serif\" font-size=\"14.00\">grad 0.0000</text>\n</g>\n<!-- 136218667409296+ -->\n<g id=\"node194\" class=\"node\">\n<title>136218667409296+</title>\n<ellipse fill=\"none\" stroke=\"black\" cx=\"5186\" cy=\"-454.5\" rx=\"27\" ry=\"18\"/>\n<text text-anchor=\"middle\" x=\"5186\" y=\"-450.8\" font-family=\"Times,serif\" font-size=\"14.00\">+</text>\n</g>\n<!-- 136218667402288&#45;&gt;136218667409296+ -->\n<g id=\"edge121\" class=\"edge\">\n<title>136218667402288&#45;&gt;136218667409296+</title>\n<path fill=\"none\" stroke=\"black\" d=\"M5123.18,-465.08C5132.42,-463.49 5141.38,-461.96 5149.47,-460.58\"/>\n<polygon fill=\"black\" stroke=\"black\" points=\"5150.29,-463.99 5159.56,-458.85 5149.11,-457.09 5150.29,-463.99\"/>\n</g>\n<!-- 136218667402288+ -->\n<g id=\"node23\" class=\"node\">\n<title>136218667402288+</title>\n<ellipse fill=\"none\" stroke=\"black\" cx=\"4878\" cy=\"-496.5\" rx=\"27\" ry=\"18\"/>\n<text text-anchor=\"middle\" x=\"4878\" y=\"-492.8\" font-family=\"Times,serif\" font-size=\"14.00\">+</text>\n</g>\n<!-- 136218667402288+&#45;&gt;136218667402288 -->\n<g id=\"edge10\" class=\"edge\">\n<title>136218667402288+&#45;&gt;136218667402288</title>\n<path fill=\"none\" stroke=\"black\" d=\"M4904.78,-493.79C4912.45,-492.98 4921.36,-492.04 4930.82,-491.05\"/>\n<polygon fill=\"black\" stroke=\"black\" points=\"4931.28,-494.52 4940.86,-489.99 4930.54,-487.56 4931.28,-494.52\"/>\n</g>\n<!-- 136218667361344 -->\n<g id=\"node24\" class=\"node\">\n<title>136218667361344</title>\n<polygon fill=\"none\" stroke=\"black\" points=\"1252,-427.5 1252,-463.5 1439,-463.5 1439,-427.5 1252,-427.5\"/>\n<text text-anchor=\"middle\" x=\"1262\" y=\"-441.8\" font-family=\"Times,serif\" font-size=\"14.00\"> </text>\n<polyline fill=\"none\" stroke=\"black\" points=\"1272,-427.5 1272,-463.5 \"/>\n<text text-anchor=\"middle\" x=\"1314.5\" y=\"-441.8\" font-family=\"Times,serif\" font-size=\"14.00\">data &#45;1.1335</text>\n<polyline fill=\"none\" stroke=\"black\" points=\"1357,-427.5 1357,-463.5 \"/>\n<text text-anchor=\"middle\" x=\"1398\" y=\"-441.8\" font-family=\"Times,serif\" font-size=\"14.00\">grad 0.0000</text>\n</g>\n<!-- 136218667361344&#45;&gt;136218667362112+ -->\n<g id=\"edge123\" class=\"edge\">\n<title>136218667361344&#45;&gt;136218667362112+</title>\n<path fill=\"none\" stroke=\"black\" d=\"M1412.92,-427.44C1431.44,-422.41 1450.8,-417.15 1466.64,-412.84\"/>\n<polygon fill=\"black\" stroke=\"black\" points=\"1467.77,-416.16 1476.5,-410.16 1465.93,-409.41 1467.77,-416.16\"/>\n</g>\n<!-- 136218667361344* -->\n<g id=\"node25\" class=\"node\">\n<title>136218667361344*</title>\n<ellipse fill=\"none\" stroke=\"black\" cx=\"1189\" cy=\"-445.5\" rx=\"27\" ry=\"18\"/>\n<text text-anchor=\"middle\" x=\"1189\" y=\"-441.8\" font-family=\"Times,serif\" font-size=\"14.00\">*</text>\n</g>\n<!-- 136218667361344*&#45;&gt;136218667361344 -->\n<g id=\"edge11\" class=\"edge\">\n<title>136218667361344*&#45;&gt;136218667361344</title>\n<path fill=\"none\" stroke=\"black\" d=\"M1216.21,-445.5C1223.73,-445.5 1232.43,-445.5 1241.67,-445.5\"/>\n<polygon fill=\"black\" stroke=\"black\" points=\"1241.89,-449 1251.89,-445.5 1241.89,-442 1241.89,-449\"/>\n</g>\n<!-- 136218667295808 -->\n<g id=\"node26\" class=\"node\">\n<title>136218667295808</title>\n<polygon fill=\"none\" stroke=\"black\" points=\"1880.5,-330.5 1880.5,-366.5 2062.5,-366.5 2062.5,-330.5 1880.5,-330.5\"/>\n<text text-anchor=\"middle\" x=\"1890.5\" y=\"-344.8\" font-family=\"Times,serif\" font-size=\"14.00\"> </text>\n<polyline fill=\"none\" stroke=\"black\" points=\"1900.5,-330.5 1900.5,-366.5 \"/>\n<text text-anchor=\"middle\" x=\"1940.5\" y=\"-344.8\" font-family=\"Times,serif\" font-size=\"14.00\">data 0.0707</text>\n<polyline fill=\"none\" stroke=\"black\" points=\"1980.5,-330.5 1980.5,-366.5 \"/>\n<text text-anchor=\"middle\" x=\"2021.5\" y=\"-344.8\" font-family=\"Times,serif\" font-size=\"14.00\">grad 0.0000</text>\n</g>\n<!-- 136218667405312+ -->\n<g id=\"node88\" class=\"node\">\n<title>136218667405312+</title>\n<ellipse fill=\"none\" stroke=\"black\" cx=\"2128\" cy=\"-376.5\" rx=\"27\" ry=\"18\"/>\n<text text-anchor=\"middle\" x=\"2128\" y=\"-372.8\" font-family=\"Times,serif\" font-size=\"14.00\">+</text>\n</g>\n<!-- 136218667295808&#45;&gt;136218667405312+ -->\n<g id=\"edge128\" class=\"edge\">\n<title>136218667295808&#45;&gt;136218667405312+</title>\n<path fill=\"none\" stroke=\"black\" d=\"M2062.82,-364.87C2073.07,-366.73 2083.01,-368.53 2091.88,-370.13\"/>\n<polygon fill=\"black\" stroke=\"black\" points=\"2091.29,-373.58 2101.75,-371.92 2092.54,-366.7 2091.29,-373.58\"/>\n</g>\n<!-- 136218667295904 -->\n<g id=\"node27\" class=\"node\">\n<title>136218667295904</title>\n<polygon fill=\"none\" stroke=\"black\" points=\"626,-674.5 626,-710.5 813,-710.5 813,-674.5 626,-674.5\"/>\n<text text-anchor=\"middle\" x=\"636\" y=\"-688.8\" font-family=\"Times,serif\" font-size=\"14.00\"> </text>\n<polyline fill=\"none\" stroke=\"black\" points=\"646,-674.5 646,-710.5 \"/>\n<text text-anchor=\"middle\" x=\"688.5\" y=\"-688.8\" font-family=\"Times,serif\" font-size=\"14.00\">data &#45;0.8457</text>\n<polyline fill=\"none\" stroke=\"black\" points=\"731,-674.5 731,-710.5 \"/>\n<text text-anchor=\"middle\" x=\"772\" y=\"-688.8\" font-family=\"Times,serif\" font-size=\"14.00\">grad 0.0000</text>\n</g>\n<!-- 136218667365712* -->\n<g id=\"node124\" class=\"node\">\n<title>136218667365712*</title>\n<ellipse fill=\"none\" stroke=\"black\" cx=\"876\" cy=\"-665.5\" rx=\"27\" ry=\"18\"/>\n<text text-anchor=\"middle\" x=\"876\" y=\"-661.8\" font-family=\"Times,serif\" font-size=\"14.00\">*</text>\n</g>\n<!-- 136218667295904&#45;&gt;136218667365712* -->\n<g id=\"edge102\" class=\"edge\">\n<title>136218667295904&#45;&gt;136218667365712*</title>\n<path fill=\"none\" stroke=\"black\" d=\"M813.05,-676.33C822.34,-674.7 831.33,-673.13 839.44,-671.71\"/>\n<polygon fill=\"black\" stroke=\"black\" points=\"840.3,-675.12 849.55,-669.95 839.1,-668.22 840.3,-675.12\"/>\n</g>\n<!-- 136218667410736 -->\n<g id=\"node28\" class=\"node\">\n<title>136218667410736</title>\n<polygon fill=\"none\" stroke=\"black\" points=\"1254.5,-853.5 1254.5,-889.5 1436.5,-889.5 1436.5,-853.5 1254.5,-853.5\"/>\n<text text-anchor=\"middle\" x=\"1264.5\" y=\"-867.8\" font-family=\"Times,serif\" font-size=\"14.00\"> </text>\n<polyline fill=\"none\" stroke=\"black\" points=\"1274.5,-853.5 1274.5,-889.5 \"/>\n<text text-anchor=\"middle\" x=\"1314.5\" y=\"-867.8\" font-family=\"Times,serif\" font-size=\"14.00\">data 3.0000</text>\n<polyline fill=\"none\" stroke=\"black\" points=\"1354.5,-853.5 1354.5,-889.5 \"/>\n<text text-anchor=\"middle\" x=\"1395.5\" y=\"-867.8\" font-family=\"Times,serif\" font-size=\"14.00\">grad 0.0000</text>\n</g>\n<!-- 136218667406896* -->\n<g id=\"node131\" class=\"node\">\n<title>136218667406896*</title>\n<ellipse fill=\"none\" stroke=\"black\" cx=\"1502\" cy=\"-871.5\" rx=\"27\" ry=\"18\"/>\n<text text-anchor=\"middle\" x=\"1502\" y=\"-867.8\" font-family=\"Times,serif\" font-size=\"14.00\">*</text>\n</g>\n<!-- 136218667410736&#45;&gt;136218667406896* -->\n<g id=\"edge184\" class=\"edge\">\n<title>136218667410736&#45;&gt;136218667406896*</title>\n<path fill=\"none\" stroke=\"black\" d=\"M1436.82,-871.5C1446.57,-871.5 1456.04,-871.5 1464.57,-871.5\"/>\n<polygon fill=\"black\" stroke=\"black\" points=\"1464.83,-875 1474.83,-871.5 1464.83,-868 1464.83,-875\"/>\n</g>\n<!-- 136218667361584 -->\n<g id=\"node29\" class=\"node\">\n<title>136218667361584</title>\n<polygon fill=\"none\" stroke=\"black\" points=\"1565,-217.5 1565,-253.5 1752,-253.5 1752,-217.5 1565,-217.5\"/>\n<text text-anchor=\"middle\" x=\"1575\" y=\"-231.8\" font-family=\"Times,serif\" font-size=\"14.00\"> </text>\n<polyline fill=\"none\" stroke=\"black\" points=\"1585,-217.5 1585,-253.5 \"/>\n<text text-anchor=\"middle\" x=\"1627.5\" y=\"-231.8\" font-family=\"Times,serif\" font-size=\"14.00\">data &#45;0.8654</text>\n<polyline fill=\"none\" stroke=\"black\" points=\"1670,-217.5 1670,-253.5 \"/>\n<text text-anchor=\"middle\" x=\"1711\" y=\"-231.8\" font-family=\"Times,serif\" font-size=\"14.00\">grad 0.0000</text>\n</g>\n<!-- 136218667405456* -->\n<g id=\"node94\" class=\"node\">\n<title>136218667405456*</title>\n<ellipse fill=\"none\" stroke=\"black\" cx=\"1815\" cy=\"-458.5\" rx=\"27\" ry=\"18\"/>\n<text text-anchor=\"middle\" x=\"1815\" y=\"-454.8\" font-family=\"Times,serif\" font-size=\"14.00\">*</text>\n</g>\n<!-- 136218667361584&#45;&gt;136218667405456* -->\n<g id=\"edge94\" class=\"edge\">\n<title>136218667361584&#45;&gt;136218667405456*</title>\n<path fill=\"none\" stroke=\"black\" d=\"M1671.5,-253.61C1689.16,-280.27 1723.19,-331.69 1752,-375.5 1768.05,-399.91 1770,-407.49 1788,-430.5 1789.4,-432.28 1790.88,-434.09 1792.41,-435.88\"/>\n<polygon fill=\"black\" stroke=\"black\" points=\"1789.94,-438.37 1799.21,-443.51 1795.17,-433.72 1789.94,-438.37\"/>\n</g>\n<!-- 136218667415200* -->\n<g id=\"node141\" class=\"node\">\n<title>136218667415200*</title>\n<ellipse fill=\"none\" stroke=\"black\" cx=\"1815\" cy=\"-70.5\" rx=\"27\" ry=\"18\"/>\n<text text-anchor=\"middle\" x=\"1815\" y=\"-66.8\" font-family=\"Times,serif\" font-size=\"14.00\">*</text>\n</g>\n<!-- 136218667361584&#45;&gt;136218667415200* -->\n<g id=\"edge176\" class=\"edge\">\n<title>136218667361584&#45;&gt;136218667415200*</title>\n<path fill=\"none\" stroke=\"black\" d=\"M1737.86,-217.34C1742.93,-214.52 1747.71,-211.26 1752,-207.5 1769.29,-192.34 1792.13,-133.2 1804.71,-97.77\"/>\n<polygon fill=\"black\" stroke=\"black\" points=\"1808.11,-98.63 1808.11,-88.03 1801.51,-96.31 1808.11,-98.63\"/>\n</g>\n<!-- 136218667416016* -->\n<g id=\"node170\" class=\"node\">\n<title>136218667416016*</title>\n<ellipse fill=\"none\" stroke=\"black\" cx=\"1815\" cy=\"-702.5\" rx=\"27\" ry=\"18\"/>\n<text text-anchor=\"middle\" x=\"1815\" y=\"-698.8\" font-family=\"Times,serif\" font-size=\"14.00\">*</text>\n</g>\n<!-- 136218667361584&#45;&gt;136218667416016* -->\n<g id=\"edge126\" class=\"edge\">\n<title>136218667361584&#45;&gt;136218667416016*</title>\n<path fill=\"none\" stroke=\"black\" d=\"M1675.14,-253.54C1696.21,-278.93 1733.26,-327.46 1752,-375.5 1788.49,-469.03 1767.81,-500.16 1788,-598.5 1793.35,-624.55 1800.82,-653.91 1806.39,-674.78\"/>\n<polygon fill=\"black\" stroke=\"black\" points=\"1803.04,-675.82 1809.02,-684.57 1809.8,-674 1803.04,-675.82\"/>\n</g>\n<!-- 136218667408768* -->\n<g id=\"node188\" class=\"node\">\n<title>136218667408768*</title>\n<ellipse fill=\"none\" stroke=\"black\" cx=\"1815\" cy=\"-183.5\" rx=\"27\" ry=\"18\"/>\n<text text-anchor=\"middle\" x=\"1815\" y=\"-179.8\" font-family=\"Times,serif\" font-size=\"14.00\">*</text>\n</g>\n<!-- 136218667361584&#45;&gt;136218667408768* -->\n<g id=\"edge168\" class=\"edge\">\n<title>136218667361584&#45;&gt;136218667408768*</title>\n<path fill=\"none\" stroke=\"black\" d=\"M1721.41,-217.47C1731.67,-214.28 1742.16,-210.89 1752,-207.5 1761.8,-204.13 1772.35,-200.16 1781.93,-196.44\"/>\n<polygon fill=\"black\" stroke=\"black\" points=\"1783.45,-199.61 1791.48,-192.69 1780.89,-193.09 1783.45,-199.61\"/>\n</g>\n<!-- 136218667361584tanh -->\n<g id=\"node30\" class=\"node\">\n<title>136218667361584tanh</title>\n<ellipse fill=\"none\" stroke=\"black\" cx=\"1502\" cy=\"-231.5\" rx=\"27\" ry=\"18\"/>\n<text text-anchor=\"middle\" x=\"1502\" y=\"-227.8\" font-family=\"Times,serif\" font-size=\"14.00\">tanh</text>\n</g>\n<!-- 136218667361584tanh&#45;&gt;136218667361584 -->\n<g id=\"edge12\" class=\"edge\">\n<title>136218667361584tanh&#45;&gt;136218667361584</title>\n<path fill=\"none\" stroke=\"black\" d=\"M1529.21,-232.18C1536.73,-232.37 1545.43,-232.6 1554.67,-232.84\"/>\n<polygon fill=\"black\" stroke=\"black\" points=\"1554.8,-236.34 1564.89,-233.1 1554.98,-229.34 1554.8,-236.34\"/>\n</g>\n<!-- 136218667410784 -->\n<g id=\"node31\" class=\"node\">\n<title>136218667410784</title>\n<polygon fill=\"none\" stroke=\"black\" points=\"1880.5,-798.5 1880.5,-834.5 2062.5,-834.5 2062.5,-798.5 1880.5,-798.5\"/>\n<text text-anchor=\"middle\" x=\"1890.5\" y=\"-812.8\" font-family=\"Times,serif\" font-size=\"14.00\"> </text>\n<polyline fill=\"none\" stroke=\"black\" points=\"1900.5,-798.5 1900.5,-834.5 \"/>\n<text text-anchor=\"middle\" x=\"1940.5\" y=\"-812.8\" font-family=\"Times,serif\" font-size=\"14.00\">data 0.8829</text>\n<polyline fill=\"none\" stroke=\"black\" points=\"1980.5,-798.5 1980.5,-834.5 \"/>\n<text text-anchor=\"middle\" x=\"2021.5\" y=\"-812.8\" font-family=\"Times,serif\" font-size=\"14.00\">grad 0.0000</text>\n</g>\n<!-- 136218667410832+ -->\n<g id=\"node35\" class=\"node\">\n<title>136218667410832+</title>\n<ellipse fill=\"none\" stroke=\"black\" cx=\"2128\" cy=\"-816.5\" rx=\"27\" ry=\"18\"/>\n<text text-anchor=\"middle\" x=\"2128\" y=\"-812.8\" font-family=\"Times,serif\" font-size=\"14.00\">+</text>\n</g>\n<!-- 136218667410784&#45;&gt;136218667410832+ -->\n<g id=\"edge151\" class=\"edge\">\n<title>136218667410784&#45;&gt;136218667410832+</title>\n<path fill=\"none\" stroke=\"black\" d=\"M2062.82,-816.5C2072.57,-816.5 2082.04,-816.5 2090.57,-816.5\"/>\n<polygon fill=\"black\" stroke=\"black\" points=\"2090.83,-820 2100.83,-816.5 2090.83,-813 2090.83,-820\"/>\n</g>\n<!-- 136218667410784* -->\n<g id=\"node32\" class=\"node\">\n<title>136218667410784*</title>\n<ellipse fill=\"none\" stroke=\"black\" cx=\"1815\" cy=\"-816.5\" rx=\"27\" ry=\"18\"/>\n<text text-anchor=\"middle\" x=\"1815\" y=\"-812.8\" font-family=\"Times,serif\" font-size=\"14.00\">*</text>\n</g>\n<!-- 136218667410784*&#45;&gt;136218667410784 -->\n<g id=\"edge13\" class=\"edge\">\n<title>136218667410784*&#45;&gt;136218667410784</title>\n<path fill=\"none\" stroke=\"black\" d=\"M1842.21,-816.5C1850.34,-816.5 1859.85,-816.5 1869.94,-816.5\"/>\n<polygon fill=\"black\" stroke=\"black\" points=\"1870.19,-820 1880.19,-816.5 1870.19,-813 1870.19,-820\"/>\n</g>\n<!-- 136218667296096 -->\n<g id=\"node33\" class=\"node\">\n<title>136218667296096</title>\n<polygon fill=\"none\" stroke=\"black\" points=\"1565,-162.5 1565,-198.5 1752,-198.5 1752,-162.5 1565,-162.5\"/>\n<text text-anchor=\"middle\" x=\"1575\" y=\"-176.8\" font-family=\"Times,serif\" font-size=\"14.00\"> </text>\n<polyline fill=\"none\" stroke=\"black\" points=\"1585,-162.5 1585,-198.5 \"/>\n<text text-anchor=\"middle\" x=\"1627.5\" y=\"-176.8\" font-family=\"Times,serif\" font-size=\"14.00\">data &#45;0.6725</text>\n<polyline fill=\"none\" stroke=\"black\" points=\"1670,-162.5 1670,-198.5 \"/>\n<text text-anchor=\"middle\" x=\"1711\" y=\"-176.8\" font-family=\"Times,serif\" font-size=\"14.00\">grad 0.0000</text>\n</g>\n<!-- 136218667296096&#45;&gt;136218667408768* -->\n<g id=\"edge153\" class=\"edge\">\n<title>136218667296096&#45;&gt;136218667408768*</title>\n<path fill=\"none\" stroke=\"black\" d=\"M1752.05,-182.3C1761.06,-182.47 1769.79,-182.64 1777.7,-182.8\"/>\n<polygon fill=\"black\" stroke=\"black\" points=\"1777.88,-186.3 1787.95,-182.99 1778.02,-179.3 1777.88,-186.3\"/>\n</g>\n<!-- 136218667410832 -->\n<g id=\"node34\" class=\"node\">\n<title>136218667410832</title>\n<polygon fill=\"none\" stroke=\"black\" points=\"2193.5,-798.5 2193.5,-834.5 2375.5,-834.5 2375.5,-798.5 2193.5,-798.5\"/>\n<text text-anchor=\"middle\" x=\"2203.5\" y=\"-812.8\" font-family=\"Times,serif\" font-size=\"14.00\"> </text>\n<polyline fill=\"none\" stroke=\"black\" points=\"2213.5,-798.5 2213.5,-834.5 \"/>\n<text text-anchor=\"middle\" x=\"2253.5\" y=\"-812.8\" font-family=\"Times,serif\" font-size=\"14.00\">data 6.4856</text>\n<polyline fill=\"none\" stroke=\"black\" points=\"2293.5,-798.5 2293.5,-834.5 \"/>\n<text text-anchor=\"middle\" x=\"2334.5\" y=\"-812.8\" font-family=\"Times,serif\" font-size=\"14.00\">grad 0.0000</text>\n</g>\n<!-- 136218667406944tanh -->\n<g id=\"node134\" class=\"node\">\n<title>136218667406944tanh</title>\n<ellipse fill=\"none\" stroke=\"black\" cx=\"2441\" cy=\"-788.5\" rx=\"27\" ry=\"18\"/>\n<text text-anchor=\"middle\" x=\"2441\" y=\"-784.8\" font-family=\"Times,serif\" font-size=\"14.00\">tanh</text>\n</g>\n<!-- 136218667410832&#45;&gt;136218667406944tanh -->\n<g id=\"edge161\" class=\"edge\">\n<title>136218667410832&#45;&gt;136218667406944tanh</title>\n<path fill=\"none\" stroke=\"black\" d=\"M2375.82,-800.13C2386.07,-798.27 2396.01,-796.47 2404.88,-794.87\"/>\n<polygon fill=\"black\" stroke=\"black\" points=\"2405.54,-798.3 2414.75,-793.08 2404.29,-791.42 2405.54,-798.3\"/>\n</g>\n<!-- 136218667410832+&#45;&gt;136218667410832 -->\n<g id=\"edge14\" class=\"edge\">\n<title>136218667410832+&#45;&gt;136218667410832</title>\n<path fill=\"none\" stroke=\"black\" d=\"M2155.21,-816.5C2163.34,-816.5 2172.85,-816.5 2182.94,-816.5\"/>\n<polygon fill=\"black\" stroke=\"black\" points=\"2183.19,-820 2193.19,-816.5 2183.19,-813 2183.19,-820\"/>\n</g>\n<!-- 136218667402912 -->\n<g id=\"node36\" class=\"node\">\n<title>136218667402912</title>\n<polygon fill=\"none\" stroke=\"black\" points=\"4415,-584.5 4415,-620.5 4597,-620.5 4597,-584.5 4415,-584.5\"/>\n<text text-anchor=\"middle\" x=\"4425\" y=\"-598.8\" font-family=\"Times,serif\" font-size=\"14.00\"> </text>\n<polyline fill=\"none\" stroke=\"black\" points=\"4435,-584.5 4435,-620.5 \"/>\n<text text-anchor=\"middle\" x=\"4475\" y=\"-598.8\" font-family=\"Times,serif\" font-size=\"14.00\">data 0.5469</text>\n<polyline fill=\"none\" stroke=\"black\" points=\"4515,-584.5 4515,-620.5 \"/>\n<text text-anchor=\"middle\" x=\"4556\" y=\"-598.8\" font-family=\"Times,serif\" font-size=\"14.00\">grad 0.0000</text>\n</g>\n<!-- 136218667402912&#45;&gt;136218667402288+ -->\n<g id=\"edge197\" class=\"edge\">\n<title>136218667402912&#45;&gt;136218667402288+</title>\n<path fill=\"none\" stroke=\"black\" d=\"M4592.39,-584.46C4654.82,-570.34 4741.13,-548.88 4815,-523.5 4825.33,-519.95 4836.33,-515.42 4846.16,-511.08\"/>\n<polygon fill=\"black\" stroke=\"black\" points=\"4847.85,-514.16 4855.53,-506.86 4844.97,-507.78 4847.85,-514.16\"/>\n</g>\n<!-- 136218667402912*&#45;&gt;136218667402912 -->\n<g id=\"edge15\" class=\"edge\">\n<title>136218667402912*&#45;&gt;136218667402912</title>\n<path fill=\"none\" stroke=\"black\" d=\"M3720.06,-652.83C3824.69,-646.12 4217.51,-620.93 4404.65,-608.93\"/>\n<polygon fill=\"black\" stroke=\"black\" points=\"4405.02,-612.42 4414.77,-608.29 4404.57,-605.43 4405.02,-612.42\"/>\n</g>\n<!-- 136218667411120 -->\n<g id=\"node38\" class=\"node\">\n<title>136218667411120</title>\n<polygon fill=\"none\" stroke=\"black\" points=\"1565,-743.5 1565,-779.5 1752,-779.5 1752,-743.5 1565,-743.5\"/>\n<text text-anchor=\"middle\" x=\"1575\" y=\"-757.8\" font-family=\"Times,serif\" font-size=\"14.00\"> </text>\n<polyline fill=\"none\" stroke=\"black\" points=\"1585,-743.5 1585,-779.5 \"/>\n<text text-anchor=\"middle\" x=\"1627.5\" y=\"-757.8\" font-family=\"Times,serif\" font-size=\"14.00\">data &#45;1.0000</text>\n<polyline fill=\"none\" stroke=\"black\" points=\"1670,-743.5 1670,-779.5 \"/>\n<text text-anchor=\"middle\" x=\"1711\" y=\"-757.8\" font-family=\"Times,serif\" font-size=\"14.00\">grad 0.0000</text>\n</g>\n<!-- 136218667411120&#45;&gt;136218667410784* -->\n<g id=\"edge164\" class=\"edge\">\n<title>136218667411120&#45;&gt;136218667410784*</title>\n<path fill=\"none\" stroke=\"black\" d=\"M1723.02,-779.65C1732.79,-782.76 1742.71,-786.08 1752,-789.5 1762.25,-793.27 1773.23,-797.86 1783.07,-802.18\"/>\n<polygon fill=\"black\" stroke=\"black\" points=\"1781.89,-805.49 1792.45,-806.37 1784.74,-799.1 1781.89,-805.49\"/>\n</g>\n<!-- 136218667403008 -->\n<g id=\"node39\" class=\"node\">\n<title>136218667403008</title>\n<polygon fill=\"none\" stroke=\"black\" points=\"2504,-248.5 2504,-284.5 2691,-284.5 2691,-248.5 2504,-248.5\"/>\n<text text-anchor=\"middle\" x=\"2514\" y=\"-262.8\" font-family=\"Times,serif\" font-size=\"14.00\"> </text>\n<polyline fill=\"none\" stroke=\"black\" points=\"2524,-248.5 2524,-284.5 \"/>\n<text text-anchor=\"middle\" x=\"2566.5\" y=\"-262.8\" font-family=\"Times,serif\" font-size=\"14.00\">data &#45;0.3642</text>\n<polyline fill=\"none\" stroke=\"black\" points=\"2609,-248.5 2609,-284.5 \"/>\n<text text-anchor=\"middle\" x=\"2650\" y=\"-262.8\" font-family=\"Times,serif\" font-size=\"14.00\">grad 0.0000</text>\n</g>\n<!-- 136218667403584+ -->\n<g id=\"node51\" class=\"node\">\n<title>136218667403584+</title>\n<ellipse fill=\"none\" stroke=\"black\" cx=\"2754\" cy=\"-376.5\" rx=\"27\" ry=\"18\"/>\n<text text-anchor=\"middle\" x=\"2754\" y=\"-372.8\" font-family=\"Times,serif\" font-size=\"14.00\">+</text>\n</g>\n<!-- 136218667403008&#45;&gt;136218667403584+ -->\n<g id=\"edge136\" class=\"edge\">\n<title>136218667403008&#45;&gt;136218667403584+</title>\n<path fill=\"none\" stroke=\"black\" d=\"M2676.23,-284.56C2681.44,-287.15 2686.43,-290.11 2691,-293.5 2714.47,-310.89 2709,-325.49 2727,-348.5 2728.4,-350.28 2729.88,-352.09 2731.41,-353.88\"/>\n<polygon fill=\"black\" stroke=\"black\" points=\"2728.94,-356.37 2738.21,-361.51 2734.17,-351.72 2728.94,-356.37\"/>\n</g>\n<!-- 136218667403008+ -->\n<g id=\"node40\" class=\"node\">\n<title>136218667403008+</title>\n<ellipse fill=\"none\" stroke=\"black\" cx=\"2441\" cy=\"-266.5\" rx=\"27\" ry=\"18\"/>\n<text text-anchor=\"middle\" x=\"2441\" y=\"-262.8\" font-family=\"Times,serif\" font-size=\"14.00\">+</text>\n</g>\n<!-- 136218667403008+&#45;&gt;136218667403008 -->\n<g id=\"edge16\" class=\"edge\">\n<title>136218667403008+&#45;&gt;136218667403008</title>\n<path fill=\"none\" stroke=\"black\" d=\"M2468.21,-266.5C2475.73,-266.5 2484.43,-266.5 2493.67,-266.5\"/>\n<polygon fill=\"black\" stroke=\"black\" points=\"2493.89,-270 2503.89,-266.5 2493.89,-263 2493.89,-270\"/>\n</g>\n<!-- 136218667403056 -->\n<g id=\"node41\" class=\"node\">\n<title>136218667403056</title>\n<polygon fill=\"none\" stroke=\"black\" points=\"4633,-478.5 4633,-514.5 4815,-514.5 4815,-478.5 4633,-478.5\"/>\n<text text-anchor=\"middle\" x=\"4643\" y=\"-492.8\" font-family=\"Times,serif\" font-size=\"14.00\"> </text>\n<polyline fill=\"none\" stroke=\"black\" points=\"4653,-478.5 4653,-514.5 \"/>\n<text text-anchor=\"middle\" x=\"4693\" y=\"-492.8\" font-family=\"Times,serif\" font-size=\"14.00\">data 1.0547</text>\n<polyline fill=\"none\" stroke=\"black\" points=\"4733,-478.5 4733,-514.5 \"/>\n<text text-anchor=\"middle\" x=\"4774\" y=\"-492.8\" font-family=\"Times,serif\" font-size=\"14.00\">grad 0.0000</text>\n</g>\n<!-- 136218667403056&#45;&gt;136218667402288+ -->\n<g id=\"edge100\" class=\"edge\">\n<title>136218667403056&#45;&gt;136218667402288+</title>\n<path fill=\"none\" stroke=\"black\" d=\"M4815.18,-496.5C4824.14,-496.5 4832.83,-496.5 4840.73,-496.5\"/>\n<polygon fill=\"black\" stroke=\"black\" points=\"4840.96,-500 4850.96,-496.5 4840.96,-493 4840.96,-500\"/>\n</g>\n<!-- 136218667403056+&#45;&gt;136218667403056 -->\n<g id=\"edge17\" class=\"edge\">\n<title>136218667403056+&#45;&gt;136218667403056</title>\n<path fill=\"none\" stroke=\"black\" d=\"M4533.05,-496.5C4555.53,-496.5 4589.48,-496.5 4622.5,-496.5\"/>\n<polygon fill=\"black\" stroke=\"black\" points=\"4622.7,-500 4632.7,-496.5 4622.7,-493 4622.7,-500\"/>\n</g>\n<!-- 136218667362112 -->\n<g id=\"node43\" class=\"node\">\n<title>136218667362112</title>\n<polygon fill=\"none\" stroke=\"black\" points=\"1565,-385.5 1565,-421.5 1752,-421.5 1752,-385.5 1565,-385.5\"/>\n<text text-anchor=\"middle\" x=\"1575\" y=\"-399.8\" font-family=\"Times,serif\" font-size=\"14.00\"> </text>\n<polyline fill=\"none\" stroke=\"black\" points=\"1585,-385.5 1585,-421.5 \"/>\n<text text-anchor=\"middle\" x=\"1627.5\" y=\"-399.8\" font-family=\"Times,serif\" font-size=\"14.00\">data &#45;0.9484</text>\n<polyline fill=\"none\" stroke=\"black\" points=\"1670,-385.5 1670,-421.5 \"/>\n<text text-anchor=\"middle\" x=\"1711\" y=\"-399.8\" font-family=\"Times,serif\" font-size=\"14.00\">grad 0.0000</text>\n</g>\n<!-- 136218667363600tanh -->\n<g id=\"node63\" class=\"node\">\n<title>136218667363600tanh</title>\n<ellipse fill=\"none\" stroke=\"black\" cx=\"1815\" cy=\"-403.5\" rx=\"27\" ry=\"18\"/>\n<text text-anchor=\"middle\" x=\"1815\" y=\"-399.8\" font-family=\"Times,serif\" font-size=\"14.00\">tanh</text>\n</g>\n<!-- 136218667362112&#45;&gt;136218667363600tanh -->\n<g id=\"edge112\" class=\"edge\">\n<title>136218667362112&#45;&gt;136218667363600tanh</title>\n<path fill=\"none\" stroke=\"black\" d=\"M1752.05,-403.5C1761.06,-403.5 1769.79,-403.5 1777.7,-403.5\"/>\n<polygon fill=\"black\" stroke=\"black\" points=\"1777.95,-407 1787.95,-403.5 1777.95,-400 1777.95,-407\"/>\n</g>\n<!-- 136218667362112+&#45;&gt;136218667362112 -->\n<g id=\"edge18\" class=\"edge\">\n<title>136218667362112+&#45;&gt;136218667362112</title>\n<path fill=\"none\" stroke=\"black\" d=\"M1529.21,-403.5C1536.73,-403.5 1545.43,-403.5 1554.67,-403.5\"/>\n<polygon fill=\"black\" stroke=\"black\" points=\"1554.89,-407 1564.89,-403.5 1554.89,-400 1554.89,-407\"/>\n</g>\n<!-- 136218667411312 -->\n<g id=\"node45\" class=\"node\">\n<title>136218667411312</title>\n<polygon fill=\"none\" stroke=\"black\" points=\"1880.5,-853.5 1880.5,-889.5 2062.5,-889.5 2062.5,-853.5 1880.5,-853.5\"/>\n<text text-anchor=\"middle\" x=\"1890.5\" y=\"-867.8\" font-family=\"Times,serif\" font-size=\"14.00\"> </text>\n<polyline fill=\"none\" stroke=\"black\" points=\"1900.5,-853.5 1900.5,-889.5 \"/>\n<text text-anchor=\"middle\" x=\"1940.5\" y=\"-867.8\" font-family=\"Times,serif\" font-size=\"14.00\">data 5.6027</text>\n<polyline fill=\"none\" stroke=\"black\" points=\"1980.5,-853.5 1980.5,-889.5 \"/>\n<text text-anchor=\"middle\" x=\"2021.5\" y=\"-867.8\" font-family=\"Times,serif\" font-size=\"14.00\">grad 0.0000</text>\n</g>\n<!-- 136218667411312&#45;&gt;136218667410832+ -->\n<g id=\"edge77\" class=\"edge\">\n<title>136218667411312&#45;&gt;136218667410832+</title>\n<path fill=\"none\" stroke=\"black\" d=\"M2038.56,-853.45C2047.51,-850.64 2056.53,-847.63 2065,-844.5 2075.49,-840.62 2086.71,-835.78 2096.68,-831.22\"/>\n<polygon fill=\"black\" stroke=\"black\" points=\"2098.2,-834.37 2105.79,-826.97 2095.25,-828.02 2098.2,-834.37\"/>\n</g>\n<!-- 136218667411312+ -->\n<g id=\"node46\" class=\"node\">\n<title>136218667411312+</title>\n<ellipse fill=\"none\" stroke=\"black\" cx=\"1815\" cy=\"-871.5\" rx=\"27\" ry=\"18\"/>\n<text text-anchor=\"middle\" x=\"1815\" y=\"-867.8\" font-family=\"Times,serif\" font-size=\"14.00\">+</text>\n</g>\n<!-- 136218667411312+&#45;&gt;136218667411312 -->\n<g id=\"edge19\" class=\"edge\">\n<title>136218667411312+&#45;&gt;136218667411312</title>\n<path fill=\"none\" stroke=\"black\" d=\"M1842.21,-871.5C1850.34,-871.5 1859.85,-871.5 1869.94,-871.5\"/>\n<polygon fill=\"black\" stroke=\"black\" points=\"1870.19,-875 1880.19,-871.5 1870.19,-868 1870.19,-875\"/>\n</g>\n<!-- 136218666903456 -->\n<g id=\"node47\" class=\"node\">\n<title>136218666903456</title>\n<polygon fill=\"none\" stroke=\"black\" points=\"315.5,-142.5 315.5,-178.5 497.5,-178.5 497.5,-142.5 315.5,-142.5\"/>\n<text text-anchor=\"middle\" x=\"325.5\" y=\"-156.8\" font-family=\"Times,serif\" font-size=\"14.00\"> </text>\n<polyline fill=\"none\" stroke=\"black\" points=\"335.5,-142.5 335.5,-178.5 \"/>\n<text text-anchor=\"middle\" x=\"375.5\" y=\"-156.8\" font-family=\"Times,serif\" font-size=\"14.00\">data 0.6815</text>\n<polyline fill=\"none\" stroke=\"black\" points=\"415.5,-142.5 415.5,-178.5 \"/>\n<text text-anchor=\"middle\" x=\"456.5\" y=\"-156.8\" font-family=\"Times,serif\" font-size=\"14.00\">grad 0.0000</text>\n</g>\n<!-- 136218667366624* -->\n<g id=\"node163\" class=\"node\">\n<title>136218667366624*</title>\n<ellipse fill=\"none\" stroke=\"black\" cx=\"563\" cy=\"-160.5\" rx=\"27\" ry=\"18\"/>\n<text text-anchor=\"middle\" x=\"563\" y=\"-156.8\" font-family=\"Times,serif\" font-size=\"14.00\">*</text>\n</g>\n<!-- 136218666903456&#45;&gt;136218667366624* -->\n<g id=\"edge193\" class=\"edge\">\n<title>136218666903456&#45;&gt;136218667366624*</title>\n<path fill=\"none\" stroke=\"black\" d=\"M497.82,-160.5C507.57,-160.5 517.04,-160.5 525.57,-160.5\"/>\n<polygon fill=\"black\" stroke=\"black\" points=\"525.83,-164 535.83,-160.5 525.83,-157 525.83,-164\"/>\n</g>\n<!-- 136218667411648 -->\n<g id=\"node48\" class=\"node\">\n<title>136218667411648</title>\n<polygon fill=\"none\" stroke=\"black\" points=\"2191,-138.5 2191,-174.5 2378,-174.5 2378,-138.5 2191,-138.5\"/>\n<text text-anchor=\"middle\" x=\"2201\" y=\"-152.8\" font-family=\"Times,serif\" font-size=\"14.00\"> </text>\n<polyline fill=\"none\" stroke=\"black\" points=\"2211,-138.5 2211,-174.5 \"/>\n<text text-anchor=\"middle\" x=\"2253.5\" y=\"-152.8\" font-family=\"Times,serif\" font-size=\"14.00\">data &#45;0.2742</text>\n<polyline fill=\"none\" stroke=\"black\" points=\"2296,-138.5 2296,-174.5 \"/>\n<text text-anchor=\"middle\" x=\"2337\" y=\"-152.8\" font-family=\"Times,serif\" font-size=\"14.00\">grad 0.0000</text>\n</g>\n<!-- 136218667411648&#45;&gt;136218667403008+ -->\n<g id=\"edge206\" class=\"edge\">\n<title>136218667411648&#45;&gt;136218667403008+</title>\n<path fill=\"none\" stroke=\"black\" d=\"M2363.23,-174.56C2368.44,-177.15 2373.43,-180.11 2378,-183.5 2401.47,-200.89 2396,-215.49 2414,-238.5 2415.4,-240.28 2416.88,-242.09 2418.41,-243.88\"/>\n<polygon fill=\"black\" stroke=\"black\" points=\"2415.94,-246.37 2425.21,-251.51 2421.17,-241.72 2415.94,-246.37\"/>\n</g>\n<!-- 136218667411648+ -->\n<g id=\"node49\" class=\"node\">\n<title>136218667411648+</title>\n<ellipse fill=\"none\" stroke=\"black\" cx=\"2128\" cy=\"-156.5\" rx=\"27\" ry=\"18\"/>\n<text text-anchor=\"middle\" x=\"2128\" y=\"-152.8\" font-family=\"Times,serif\" font-size=\"14.00\">+</text>\n</g>\n<!-- 136218667411648+&#45;&gt;136218667411648 -->\n<g id=\"edge20\" class=\"edge\">\n<title>136218667411648+&#45;&gt;136218667411648</title>\n<path fill=\"none\" stroke=\"black\" d=\"M2155.21,-156.5C2162.73,-156.5 2171.43,-156.5 2180.67,-156.5\"/>\n<polygon fill=\"black\" stroke=\"black\" points=\"2180.89,-160 2190.89,-156.5 2180.89,-153 2180.89,-160\"/>\n</g>\n<!-- 136218667403584 -->\n<g id=\"node50\" class=\"node\">\n<title>136218667403584</title>\n<polygon fill=\"none\" stroke=\"black\" points=\"2819.5,-464.5 2819.5,-500.5 3001.5,-500.5 3001.5,-464.5 2819.5,-464.5\"/>\n<text text-anchor=\"middle\" x=\"2829.5\" y=\"-478.8\" font-family=\"Times,serif\" font-size=\"14.00\"> </text>\n<polyline fill=\"none\" stroke=\"black\" points=\"2839.5,-464.5 2839.5,-500.5 \"/>\n<text text-anchor=\"middle\" x=\"2879.5\" y=\"-478.8\" font-family=\"Times,serif\" font-size=\"14.00\">data 0.4712</text>\n<polyline fill=\"none\" stroke=\"black\" points=\"2919.5,-464.5 2919.5,-500.5 \"/>\n<text text-anchor=\"middle\" x=\"2960.5\" y=\"-478.8\" font-family=\"Times,serif\" font-size=\"14.00\">grad 0.0000</text>\n</g>\n<!-- 136218667412752+ -->\n<g id=\"node65\" class=\"node\">\n<title>136218667412752+</title>\n<ellipse fill=\"none\" stroke=\"black\" cx=\"3067\" cy=\"-489.5\" rx=\"27\" ry=\"18\"/>\n<text text-anchor=\"middle\" x=\"3067\" y=\"-485.8\" font-family=\"Times,serif\" font-size=\"14.00\">+</text>\n</g>\n<!-- 136218667403584&#45;&gt;136218667412752+ -->\n<g id=\"edge157\" class=\"edge\">\n<title>136218667403584&#45;&gt;136218667412752+</title>\n<path fill=\"none\" stroke=\"black\" d=\"M3001.82,-486.59C3011.57,-487.03 3021.04,-487.46 3029.57,-487.85\"/>\n<polygon fill=\"black\" stroke=\"black\" points=\"3029.68,-491.36 3039.83,-488.31 3030,-484.37 3029.68,-491.36\"/>\n</g>\n<!-- 136218667403584+&#45;&gt;136218667403584 -->\n<g id=\"edge21\" class=\"edge\">\n<title>136218667403584+&#45;&gt;136218667403584</title>\n<path fill=\"none\" stroke=\"black\" d=\"M2767.41,-392.35C2779.04,-406.41 2797.52,-426.78 2817,-440.5 2827.47,-447.87 2839.44,-454.44 2851.21,-460.07\"/>\n<polygon fill=\"black\" stroke=\"black\" points=\"2850.04,-463.38 2860.58,-464.38 2852.96,-457.02 2850.04,-463.38\"/>\n</g>\n<!-- 136218667362640 -->\n<g id=\"node52\" class=\"node\">\n<title>136218667362640</title>\n<polygon fill=\"none\" stroke=\"black\" points=\"315.5,-87.5 315.5,-123.5 497.5,-123.5 497.5,-87.5 315.5,-87.5\"/>\n<text text-anchor=\"middle\" x=\"325.5\" y=\"-101.8\" font-family=\"Times,serif\" font-size=\"14.00\"> </text>\n<polyline fill=\"none\" stroke=\"black\" points=\"335.5,-87.5 335.5,-123.5 \"/>\n<text text-anchor=\"middle\" x=\"375.5\" y=\"-101.8\" font-family=\"Times,serif\" font-size=\"14.00\">data 3.0000</text>\n<polyline fill=\"none\" stroke=\"black\" points=\"415.5,-87.5 415.5,-123.5 \"/>\n<text text-anchor=\"middle\" x=\"456.5\" y=\"-101.8\" font-family=\"Times,serif\" font-size=\"14.00\">grad 0.0000</text>\n</g>\n<!-- 136218667362640&#45;&gt;136218667366624* -->\n<g id=\"edge203\" class=\"edge\">\n<title>136218667362640&#45;&gt;136218667366624*</title>\n<path fill=\"none\" stroke=\"black\" d=\"M473.56,-123.55C482.51,-126.36 491.53,-129.37 500,-132.5 510.49,-136.38 521.71,-141.22 531.68,-145.78\"/>\n<polygon fill=\"black\" stroke=\"black\" points=\"530.25,-148.98 540.79,-150.03 533.2,-142.63 530.25,-148.98\"/>\n</g>\n<!-- 136218667363072 -->\n<g id=\"node53\" class=\"node\">\n<title>136218667363072</title>\n<polygon fill=\"none\" stroke=\"black\" points=\"628.5,-470.5 628.5,-506.5 810.5,-506.5 810.5,-470.5 628.5,-470.5\"/>\n<text text-anchor=\"middle\" x=\"638.5\" y=\"-484.8\" font-family=\"Times,serif\" font-size=\"14.00\"> </text>\n<polyline fill=\"none\" stroke=\"black\" points=\"648.5,-470.5 648.5,-506.5 \"/>\n<text text-anchor=\"middle\" x=\"688.5\" y=\"-484.8\" font-family=\"Times,serif\" font-size=\"14.00\">data 3.0000</text>\n<polyline fill=\"none\" stroke=\"black\" points=\"728.5,-470.5 728.5,-506.5 \"/>\n<text text-anchor=\"middle\" x=\"769.5\" y=\"-484.8\" font-family=\"Times,serif\" font-size=\"14.00\">grad 0.0000</text>\n</g>\n<!-- 136218667365616* -->\n<g id=\"node120\" class=\"node\">\n<title>136218667365616*</title>\n<ellipse fill=\"none\" stroke=\"black\" cx=\"876\" cy=\"-433.5\" rx=\"27\" ry=\"18\"/>\n<text text-anchor=\"middle\" x=\"876\" y=\"-429.8\" font-family=\"Times,serif\" font-size=\"14.00\">*</text>\n</g>\n<!-- 136218667363072&#45;&gt;136218667365616* -->\n<g id=\"edge81\" class=\"edge\">\n<title>136218667363072&#45;&gt;136218667365616*</title>\n<path fill=\"none\" stroke=\"black\" d=\"M784.02,-470.35C793.79,-467.24 803.71,-463.92 813,-460.5 823.25,-456.73 834.23,-452.14 844.07,-447.82\"/>\n<polygon fill=\"black\" stroke=\"black\" points=\"845.74,-450.9 853.45,-443.63 842.89,-444.51 845.74,-450.9\"/>\n</g>\n<!-- 136218667412368 -->\n<g id=\"node54\" class=\"node\">\n<title>136218667412368</title>\n<polygon fill=\"none\" stroke=\"black\" points=\"3445.5,-471.5 3445.5,-507.5 3627.5,-507.5 3627.5,-471.5 3445.5,-471.5\"/>\n<text text-anchor=\"middle\" x=\"3455.5\" y=\"-485.8\" font-family=\"Times,serif\" font-size=\"14.00\"> </text>\n<polyline fill=\"none\" stroke=\"black\" points=\"3465.5,-471.5 3465.5,-507.5 \"/>\n<text text-anchor=\"middle\" x=\"3505.5\" y=\"-485.8\" font-family=\"Times,serif\" font-size=\"14.00\">data 0.8733</text>\n<polyline fill=\"none\" stroke=\"black\" points=\"3545.5,-471.5 3545.5,-507.5 \"/>\n<text text-anchor=\"middle\" x=\"3586.5\" y=\"-485.8\" font-family=\"Times,serif\" font-size=\"14.00\">grad 0.0000</text>\n</g>\n<!-- 136218667412368&#45;&gt;136218667401328* -->\n<g id=\"edge119\" class=\"edge\">\n<title>136218667412368&#45;&gt;136218667401328*</title>\n<path fill=\"none\" stroke=\"black\" d=\"M3627.82,-489.5C3637.57,-489.5 3647.04,-489.5 3655.57,-489.5\"/>\n<polygon fill=\"black\" stroke=\"black\" points=\"3655.83,-493 3665.83,-489.5 3655.83,-486 3655.83,-493\"/>\n</g>\n<!-- 136218667412368tanh -->\n<g id=\"node55\" class=\"node\">\n<title>136218667412368tanh</title>\n<ellipse fill=\"none\" stroke=\"black\" cx=\"3380\" cy=\"-489.5\" rx=\"27\" ry=\"18\"/>\n<text text-anchor=\"middle\" x=\"3380\" y=\"-485.8\" font-family=\"Times,serif\" font-size=\"14.00\">tanh</text>\n</g>\n<!-- 136218667412368tanh&#45;&gt;136218667412368 -->\n<g id=\"edge22\" class=\"edge\">\n<title>136218667412368tanh&#45;&gt;136218667412368</title>\n<path fill=\"none\" stroke=\"black\" d=\"M3407.21,-489.5C3415.34,-489.5 3424.85,-489.5 3434.94,-489.5\"/>\n<polygon fill=\"black\" stroke=\"black\" points=\"3435.19,-493 3445.19,-489.5 3435.19,-486 3435.19,-493\"/>\n</g>\n<!-- 136218667404208 -->\n<g id=\"node56\" class=\"node\">\n<title>136218667404208</title>\n<polygon fill=\"none\" stroke=\"black\" points=\"1878,-551.5 1878,-587.5 2065,-587.5 2065,-551.5 1878,-551.5\"/>\n<text text-anchor=\"middle\" x=\"1888\" y=\"-565.8\" font-family=\"Times,serif\" font-size=\"14.00\"> </text>\n<polyline fill=\"none\" stroke=\"black\" points=\"1898,-551.5 1898,-587.5 \"/>\n<text text-anchor=\"middle\" x=\"1940.5\" y=\"-565.8\" font-family=\"Times,serif\" font-size=\"14.00\">data &#45;2.0590</text>\n<polyline fill=\"none\" stroke=\"black\" points=\"1983,-551.5 1983,-587.5 \"/>\n<text text-anchor=\"middle\" x=\"2024\" y=\"-565.8\" font-family=\"Times,serif\" font-size=\"14.00\">grad 0.0000</text>\n</g>\n<!-- 136218667413232tanh -->\n<g id=\"node81\" class=\"node\">\n<title>136218667413232tanh</title>\n<ellipse fill=\"none\" stroke=\"black\" cx=\"2128\" cy=\"-555.5\" rx=\"27\" ry=\"18\"/>\n<text text-anchor=\"middle\" x=\"2128\" y=\"-551.8\" font-family=\"Times,serif\" font-size=\"14.00\">tanh</text>\n</g>\n<!-- 136218667404208&#45;&gt;136218667413232tanh -->\n<g id=\"edge198\" class=\"edge\">\n<title>136218667404208&#45;&gt;136218667413232tanh</title>\n<path fill=\"none\" stroke=\"black\" d=\"M2065.05,-561.11C2074.16,-560.29 2082.98,-559.49 2090.97,-558.76\"/>\n<polygon fill=\"black\" stroke=\"black\" points=\"2091.31,-562.25 2100.95,-557.86 2090.67,-555.28 2091.31,-562.25\"/>\n</g>\n<!-- 136218667404208+ -->\n<g id=\"node57\" class=\"node\">\n<title>136218667404208+</title>\n<ellipse fill=\"none\" stroke=\"black\" cx=\"1815\" cy=\"-571.5\" rx=\"27\" ry=\"18\"/>\n<text text-anchor=\"middle\" x=\"1815\" y=\"-567.8\" font-family=\"Times,serif\" font-size=\"14.00\">+</text>\n</g>\n<!-- 136218667404208+&#45;&gt;136218667404208 -->\n<g id=\"edge23\" class=\"edge\">\n<title>136218667404208+&#45;&gt;136218667404208</title>\n<path fill=\"none\" stroke=\"black\" d=\"M1842.21,-571.16C1849.73,-571.06 1858.43,-570.95 1867.67,-570.83\"/>\n<polygon fill=\"black\" stroke=\"black\" points=\"1867.93,-574.33 1877.89,-570.7 1867.84,-567.33 1867.93,-574.33\"/>\n</g>\n<!-- 136218667404256 -->\n<g id=\"node58\" class=\"node\">\n<title>136218667404256</title>\n<polygon fill=\"none\" stroke=\"black\" points=\"1565,-553.5 1565,-589.5 1752,-589.5 1752,-553.5 1565,-553.5\"/>\n<text text-anchor=\"middle\" x=\"1575\" y=\"-567.8\" font-family=\"Times,serif\" font-size=\"14.00\"> </text>\n<polyline fill=\"none\" stroke=\"black\" points=\"1585,-553.5 1585,-589.5 \"/>\n<text text-anchor=\"middle\" x=\"1627.5\" y=\"-567.8\" font-family=\"Times,serif\" font-size=\"14.00\">data &#45;1.8460</text>\n<polyline fill=\"none\" stroke=\"black\" points=\"1670,-553.5 1670,-589.5 \"/>\n<text text-anchor=\"middle\" x=\"1711\" y=\"-567.8\" font-family=\"Times,serif\" font-size=\"14.00\">grad 0.0000</text>\n</g>\n<!-- 136218667404256&#45;&gt;136218667404208+ -->\n<g id=\"edge82\" class=\"edge\">\n<title>136218667404256&#45;&gt;136218667404208+</title>\n<path fill=\"none\" stroke=\"black\" d=\"M1752.05,-571.5C1761.06,-571.5 1769.79,-571.5 1777.7,-571.5\"/>\n<polygon fill=\"black\" stroke=\"black\" points=\"1777.95,-575 1787.95,-571.5 1777.95,-568 1777.95,-575\"/>\n</g>\n<!-- 136218667404256+ -->\n<g id=\"node59\" class=\"node\">\n<title>136218667404256+</title>\n<ellipse fill=\"none\" stroke=\"black\" cx=\"1502\" cy=\"-571.5\" rx=\"27\" ry=\"18\"/>\n<text text-anchor=\"middle\" x=\"1502\" y=\"-567.8\" font-family=\"Times,serif\" font-size=\"14.00\">+</text>\n</g>\n<!-- 136218667404256+&#45;&gt;136218667404256 -->\n<g id=\"edge24\" class=\"edge\">\n<title>136218667404256+&#45;&gt;136218667404256</title>\n<path fill=\"none\" stroke=\"black\" d=\"M1529.21,-571.5C1536.73,-571.5 1545.43,-571.5 1554.67,-571.5\"/>\n<polygon fill=\"black\" stroke=\"black\" points=\"1554.89,-575 1564.89,-571.5 1554.89,-568 1554.89,-575\"/>\n</g>\n<!-- 136218667404496 -->\n<g id=\"node60\" class=\"node\">\n<title>136218667404496</title>\n<polygon fill=\"none\" stroke=\"black\" points=\"1254.5,-963.5 1254.5,-999.5 1436.5,-999.5 1436.5,-963.5 1254.5,-963.5\"/>\n<text text-anchor=\"middle\" x=\"1264.5\" y=\"-977.8\" font-family=\"Times,serif\" font-size=\"14.00\"> </text>\n<polyline fill=\"none\" stroke=\"black\" points=\"1274.5,-963.5 1274.5,-999.5 \"/>\n<text text-anchor=\"middle\" x=\"1314.5\" y=\"-977.8\" font-family=\"Times,serif\" font-size=\"14.00\">data 2.2894</text>\n<polyline fill=\"none\" stroke=\"black\" points=\"1354.5,-963.5 1354.5,-999.5 \"/>\n<text text-anchor=\"middle\" x=\"1395.5\" y=\"-977.8\" font-family=\"Times,serif\" font-size=\"14.00\">grad 0.0000</text>\n</g>\n<!-- 136218667415584+ -->\n<g id=\"node155\" class=\"node\">\n<title>136218667415584+</title>\n<ellipse fill=\"none\" stroke=\"black\" cx=\"1502\" cy=\"-926.5\" rx=\"27\" ry=\"18\"/>\n<text text-anchor=\"middle\" x=\"1502\" y=\"-922.8\" font-family=\"Times,serif\" font-size=\"14.00\">+</text>\n</g>\n<!-- 136218667404496&#45;&gt;136218667415584+ -->\n<g id=\"edge87\" class=\"edge\">\n<title>136218667404496&#45;&gt;136218667415584+</title>\n<path fill=\"none\" stroke=\"black\" d=\"M1412.56,-963.45C1421.51,-960.64 1430.53,-957.63 1439,-954.5 1449.49,-950.62 1460.71,-945.78 1470.68,-941.22\"/>\n<polygon fill=\"black\" stroke=\"black\" points=\"1472.2,-944.37 1479.79,-936.97 1469.25,-938.02 1472.2,-944.37\"/>\n</g>\n<!-- 136218667404496* -->\n<g id=\"node61\" class=\"node\">\n<title>136218667404496*</title>\n<ellipse fill=\"none\" stroke=\"black\" cx=\"1189\" cy=\"-981.5\" rx=\"27\" ry=\"18\"/>\n<text text-anchor=\"middle\" x=\"1189\" y=\"-977.8\" font-family=\"Times,serif\" font-size=\"14.00\">*</text>\n</g>\n<!-- 136218667404496*&#45;&gt;136218667404496 -->\n<g id=\"edge25\" class=\"edge\">\n<title>136218667404496*&#45;&gt;136218667404496</title>\n<path fill=\"none\" stroke=\"black\" d=\"M1216.21,-981.5C1224.34,-981.5 1233.85,-981.5 1243.94,-981.5\"/>\n<polygon fill=\"black\" stroke=\"black\" points=\"1244.19,-985 1254.19,-981.5 1244.19,-978 1244.19,-985\"/>\n</g>\n<!-- 136218667363600 -->\n<g id=\"node62\" class=\"node\">\n<title>136218667363600</title>\n<polygon fill=\"none\" stroke=\"black\" points=\"1878,-385.5 1878,-421.5 2065,-421.5 2065,-385.5 1878,-385.5\"/>\n<text text-anchor=\"middle\" x=\"1888\" y=\"-399.8\" font-family=\"Times,serif\" font-size=\"14.00\"> </text>\n<polyline fill=\"none\" stroke=\"black\" points=\"1898,-385.5 1898,-421.5 \"/>\n<text text-anchor=\"middle\" x=\"1940.5\" y=\"-399.8\" font-family=\"Times,serif\" font-size=\"14.00\">data &#45;0.7390</text>\n<polyline fill=\"none\" stroke=\"black\" points=\"1983,-385.5 1983,-421.5 \"/>\n<text text-anchor=\"middle\" x=\"2024\" y=\"-399.8\" font-family=\"Times,serif\" font-size=\"14.00\">grad 0.0000</text>\n</g>\n<!-- 136218667363600&#45;&gt;136218667401376* -->\n<g id=\"edge201\" class=\"edge\">\n<title>136218667363600&#45;&gt;136218667401376*</title>\n<path fill=\"none\" stroke=\"black\" d=\"M2065.05,-420.27C2074.54,-421.99 2083.71,-423.65 2091.95,-425.15\"/>\n<polygon fill=\"black\" stroke=\"black\" points=\"2091.39,-428.6 2101.85,-426.94 2092.64,-421.72 2091.39,-428.6\"/>\n</g>\n<!-- 136218667414672* -->\n<g id=\"node114\" class=\"node\">\n<title>136218667414672*</title>\n<ellipse fill=\"none\" stroke=\"black\" cx=\"2128\" cy=\"-238.5\" rx=\"27\" ry=\"18\"/>\n<text text-anchor=\"middle\" x=\"2128\" y=\"-234.8\" font-family=\"Times,serif\" font-size=\"14.00\">*</text>\n</g>\n<!-- 136218667363600&#45;&gt;136218667414672* -->\n<g id=\"edge133\" class=\"edge\">\n<title>136218667363600&#45;&gt;136218667414672*</title>\n<path fill=\"none\" stroke=\"black\" d=\"M2052.2,-385.31C2056.83,-382.5 2061.16,-379.25 2065,-375.5 2101.52,-339.88 2075.05,-310.42 2101,-266.5 2102.15,-264.55 2103.46,-262.62 2104.86,-260.75\"/>\n<polygon fill=\"black\" stroke=\"black\" points=\"2107.66,-262.85 2111.4,-252.94 2102.3,-258.36 2107.66,-262.85\"/>\n</g>\n<!-- 136218667406656* -->\n<g id=\"node126\" class=\"node\">\n<title>136218667406656*</title>\n<ellipse fill=\"none\" stroke=\"black\" cx=\"2128\" cy=\"-293.5\" rx=\"27\" ry=\"18\"/>\n<text text-anchor=\"middle\" x=\"2128\" y=\"-289.8\" font-family=\"Times,serif\" font-size=\"14.00\">*</text>\n</g>\n<!-- 136218667363600&#45;&gt;136218667406656* -->\n<g id=\"edge169\" class=\"edge\">\n<title>136218667363600&#45;&gt;136218667406656*</title>\n<path fill=\"none\" stroke=\"black\" d=\"M2047.64,-385.32C2053.75,-382.49 2059.63,-379.24 2065,-375.5 2085.7,-361.07 2102.44,-337.58 2113.29,-319.43\"/>\n<polygon fill=\"black\" stroke=\"black\" points=\"2116.47,-320.91 2118.41,-310.5 2110.4,-317.43 2116.47,-320.91\"/>\n</g>\n<!-- 136218667408480* -->\n<g id=\"node185\" class=\"node\">\n<title>136218667408480*</title>\n<ellipse fill=\"none\" stroke=\"black\" cx=\"2128\" cy=\"-638.5\" rx=\"27\" ry=\"18\"/>\n<text text-anchor=\"middle\" x=\"2128\" y=\"-634.8\" font-family=\"Times,serif\" font-size=\"14.00\">*</text>\n</g>\n<!-- 136218667363600&#45;&gt;136218667408480* -->\n<g id=\"edge185\" class=\"edge\">\n<title>136218667363600&#45;&gt;136218667408480*</title>\n<path fill=\"none\" stroke=\"black\" d=\"M2054.25,-421.52C2058.15,-424.13 2061.77,-427.1 2065,-430.5 2112.81,-480.84 2078.27,-516.9 2101,-582.5 2104.49,-592.57 2109.19,-603.27 2113.64,-612.59\"/>\n<polygon fill=\"black\" stroke=\"black\" points=\"2110.57,-614.28 2118.12,-621.71 2116.85,-611.19 2110.57,-614.28\"/>\n</g>\n<!-- 136218667363600tanh&#45;&gt;136218667363600 -->\n<g id=\"edge26\" class=\"edge\">\n<title>136218667363600tanh&#45;&gt;136218667363600</title>\n<path fill=\"none\" stroke=\"black\" d=\"M1842.21,-403.5C1849.73,-403.5 1858.43,-403.5 1867.67,-403.5\"/>\n<polygon fill=\"black\" stroke=\"black\" points=\"1867.89,-407 1877.89,-403.5 1867.89,-400 1867.89,-407\"/>\n</g>\n<!-- 136218667412752 -->\n<g id=\"node64\" class=\"node\">\n<title>136218667412752</title>\n<polygon fill=\"none\" stroke=\"black\" points=\"3132.5,-471.5 3132.5,-507.5 3314.5,-507.5 3314.5,-471.5 3132.5,-471.5\"/>\n<text text-anchor=\"middle\" x=\"3142.5\" y=\"-485.8\" font-family=\"Times,serif\" font-size=\"14.00\"> </text>\n<polyline fill=\"none\" stroke=\"black\" points=\"3152.5,-471.5 3152.5,-507.5 \"/>\n<text text-anchor=\"middle\" x=\"3192.5\" y=\"-485.8\" font-family=\"Times,serif\" font-size=\"14.00\">data 1.3467</text>\n<polyline fill=\"none\" stroke=\"black\" points=\"3232.5,-471.5 3232.5,-507.5 \"/>\n<text text-anchor=\"middle\" x=\"3273.5\" y=\"-485.8\" font-family=\"Times,serif\" font-size=\"14.00\">grad 0.0000</text>\n</g>\n<!-- 136218667412752&#45;&gt;136218667412368tanh -->\n<g id=\"edge143\" class=\"edge\">\n<title>136218667412752&#45;&gt;136218667412368tanh</title>\n<path fill=\"none\" stroke=\"black\" d=\"M3314.82,-489.5C3324.57,-489.5 3334.04,-489.5 3342.57,-489.5\"/>\n<polygon fill=\"black\" stroke=\"black\" points=\"3342.83,-493 3352.83,-489.5 3342.83,-486 3342.83,-493\"/>\n</g>\n<!-- 136218667412752+&#45;&gt;136218667412752 -->\n<g id=\"edge27\" class=\"edge\">\n<title>136218667412752+&#45;&gt;136218667412752</title>\n<path fill=\"none\" stroke=\"black\" d=\"M3094.21,-489.5C3102.34,-489.5 3111.85,-489.5 3121.94,-489.5\"/>\n<polygon fill=\"black\" stroke=\"black\" points=\"3122.19,-493 3132.19,-489.5 3122.19,-486 3122.19,-493\"/>\n</g>\n<!-- 136218667412848 -->\n<g id=\"node66\" class=\"node\">\n<title>136218667412848</title>\n<polygon fill=\"none\" stroke=\"black\" points=\"4197,-523.5 4197,-559.5 4379,-559.5 4379,-523.5 4197,-523.5\"/>\n<text text-anchor=\"middle\" x=\"4207\" y=\"-537.8\" font-family=\"Times,serif\" font-size=\"14.00\"> </text>\n<polyline fill=\"none\" stroke=\"black\" points=\"4217,-523.5 4217,-559.5 \"/>\n<text text-anchor=\"middle\" x=\"4257\" y=\"-537.8\" font-family=\"Times,serif\" font-size=\"14.00\">data 0.6267</text>\n<polyline fill=\"none\" stroke=\"black\" points=\"4297,-523.5 4297,-559.5 \"/>\n<text text-anchor=\"middle\" x=\"4338\" y=\"-537.8\" font-family=\"Times,serif\" font-size=\"14.00\">grad 0.0000</text>\n</g>\n<!-- 136218667412848&#45;&gt;136218667403056+ -->\n<g id=\"edge115\" class=\"edge\">\n<title>136218667412848&#45;&gt;136218667403056+</title>\n<path fill=\"none\" stroke=\"black\" d=\"M4375.61,-523.46C4408.62,-516.58 4444.41,-509.12 4469.96,-503.8\"/>\n<polygon fill=\"black\" stroke=\"black\" points=\"4470.83,-507.19 4479.91,-501.73 4469.4,-500.34 4470.83,-507.19\"/>\n</g>\n<!-- 136218667412848+ -->\n<g id=\"node67\" class=\"node\">\n<title>136218667412848+</title>\n<ellipse fill=\"none\" stroke=\"black\" cx=\"4070\" cy=\"-544.5\" rx=\"27\" ry=\"18\"/>\n<text text-anchor=\"middle\" x=\"4070\" y=\"-540.8\" font-family=\"Times,serif\" font-size=\"14.00\">+</text>\n</g>\n<!-- 136218667412848+&#45;&gt;136218667412848 -->\n<g id=\"edge28\" class=\"edge\">\n<title>136218667412848+&#45;&gt;136218667412848</title>\n<path fill=\"none\" stroke=\"black\" d=\"M4097.05,-544.14C4119.53,-543.83 4153.48,-543.35 4186.5,-542.9\"/>\n<polygon fill=\"black\" stroke=\"black\" points=\"4186.75,-546.39 4196.7,-542.75 4186.66,-539.39 4186.75,-546.39\"/>\n</g>\n<!-- 136218667404688 -->\n<g id=\"node68\" class=\"node\">\n<title>136218667404688</title>\n<polygon fill=\"none\" stroke=\"black\" points=\"1565,-615.5 1565,-651.5 1752,-651.5 1752,-615.5 1565,-615.5\"/>\n<text text-anchor=\"middle\" x=\"1575\" y=\"-629.8\" font-family=\"Times,serif\" font-size=\"14.00\"> </text>\n<polyline fill=\"none\" stroke=\"black\" points=\"1585,-615.5 1585,-651.5 \"/>\n<text text-anchor=\"middle\" x=\"1627.5\" y=\"-629.8\" font-family=\"Times,serif\" font-size=\"14.00\">data &#45;0.2130</text>\n<polyline fill=\"none\" stroke=\"black\" points=\"1670,-615.5 1670,-651.5 \"/>\n<text text-anchor=\"middle\" x=\"1711\" y=\"-629.8\" font-family=\"Times,serif\" font-size=\"14.00\">grad 0.0000</text>\n</g>\n<!-- 136218667404688&#45;&gt;136218667404208+ -->\n<g id=\"edge210\" class=\"edge\">\n<title>136218667404688&#45;&gt;136218667404208+</title>\n<path fill=\"none\" stroke=\"black\" d=\"M1708.64,-615.42C1722.7,-610.11 1738,-604.19 1752,-598.5 1762.11,-594.39 1773.06,-589.7 1782.9,-585.4\"/>\n<polygon fill=\"black\" stroke=\"black\" points=\"1784.56,-588.49 1792.3,-581.26 1781.74,-582.08 1784.56,-588.49\"/>\n</g>\n<!-- 136218667404688*&#45;&gt;136218667404688 -->\n<g id=\"edge29\" class=\"edge\">\n<title>136218667404688*&#45;&gt;136218667404688</title>\n<path fill=\"none\" stroke=\"black\" d=\"M1527.14,-671.47C1543.04,-666.84 1564.75,-660.51 1585.9,-654.36\"/>\n<polygon fill=\"black\" stroke=\"black\" points=\"1586.93,-657.7 1595.55,-651.54 1584.97,-650.98 1586.93,-657.7\"/>\n</g>\n<!-- 136218667298208 -->\n<g id=\"node70\" class=\"node\">\n<title>136218667298208</title>\n<polygon fill=\"none\" stroke=\"black\" points=\"941.5,-482.5 941.5,-518.5 1123.5,-518.5 1123.5,-482.5 941.5,-482.5\"/>\n<text text-anchor=\"middle\" x=\"951.5\" y=\"-496.8\" font-family=\"Times,serif\" font-size=\"14.00\"> </text>\n<polyline fill=\"none\" stroke=\"black\" points=\"961.5,-482.5 961.5,-518.5 \"/>\n<text text-anchor=\"middle\" x=\"1001.5\" y=\"-496.8\" font-family=\"Times,serif\" font-size=\"14.00\">data 1.1335</text>\n<polyline fill=\"none\" stroke=\"black\" points=\"1041.5,-482.5 1041.5,-518.5 \"/>\n<text text-anchor=\"middle\" x=\"1082.5\" y=\"-496.8\" font-family=\"Times,serif\" font-size=\"14.00\">grad 0.0000</text>\n</g>\n<!-- 136218667298208&#45;&gt;136218667361344* -->\n<g id=\"edge104\" class=\"edge\">\n<title>136218667298208&#45;&gt;136218667361344*</title>\n<path fill=\"none\" stroke=\"black\" d=\"M1097.02,-482.35C1106.79,-479.24 1116.71,-475.92 1126,-472.5 1136.25,-468.73 1147.23,-464.14 1157.07,-459.82\"/>\n<polygon fill=\"black\" stroke=\"black\" points=\"1158.74,-462.9 1166.45,-455.63 1155.89,-456.51 1158.74,-462.9\"/>\n</g>\n<!-- 136218667298256 -->\n<g id=\"node71\" class=\"node\">\n<title>136218667298256</title>\n<polygon fill=\"none\" stroke=\"black\" points=\"2506.5,-523.5 2506.5,-559.5 2688.5,-559.5 2688.5,-523.5 2506.5,-523.5\"/>\n<text text-anchor=\"middle\" x=\"2516.5\" y=\"-537.8\" font-family=\"Times,serif\" font-size=\"14.00\"> </text>\n<polyline fill=\"none\" stroke=\"black\" points=\"2526.5,-523.5 2526.5,-559.5 \"/>\n<text text-anchor=\"middle\" x=\"2566.5\" y=\"-537.8\" font-family=\"Times,serif\" font-size=\"14.00\">data 0.1418</text>\n<polyline fill=\"none\" stroke=\"black\" points=\"2606.5,-523.5 2606.5,-559.5 \"/>\n<text text-anchor=\"middle\" x=\"2647.5\" y=\"-537.8\" font-family=\"Times,serif\" font-size=\"14.00\">grad 0.0000</text>\n</g>\n<!-- 136218667364272* -->\n<g id=\"node86\" class=\"node\">\n<title>136218667364272*</title>\n<ellipse fill=\"none\" stroke=\"black\" cx=\"2754\" cy=\"-541.5\" rx=\"27\" ry=\"18\"/>\n<text text-anchor=\"middle\" x=\"2754\" y=\"-537.8\" font-family=\"Times,serif\" font-size=\"14.00\">*</text>\n</g>\n<!-- 136218667298256&#45;&gt;136218667364272* -->\n<g id=\"edge192\" class=\"edge\">\n<title>136218667298256&#45;&gt;136218667364272*</title>\n<path fill=\"none\" stroke=\"black\" d=\"M2688.82,-541.5C2698.57,-541.5 2708.04,-541.5 2716.57,-541.5\"/>\n<polygon fill=\"black\" stroke=\"black\" points=\"2716.83,-545 2726.83,-541.5 2716.83,-538 2716.83,-545\"/>\n</g>\n<!-- 136218667363792 -->\n<g id=\"node72\" class=\"node\">\n<title>136218667363792</title>\n<polygon fill=\"none\" stroke=\"black\" points=\"2.5,-280.5 2.5,-316.5 184.5,-316.5 184.5,-280.5 2.5,-280.5\"/>\n<text text-anchor=\"middle\" x=\"12.5\" y=\"-294.8\" font-family=\"Times,serif\" font-size=\"14.00\"> </text>\n<polyline fill=\"none\" stroke=\"black\" points=\"22.5,-280.5 22.5,-316.5 \"/>\n<text text-anchor=\"middle\" x=\"62.5\" y=\"-294.8\" font-family=\"Times,serif\" font-size=\"14.00\">data 2.0000</text>\n<polyline fill=\"none\" stroke=\"black\" points=\"102.5,-280.5 102.5,-316.5 \"/>\n<text text-anchor=\"middle\" x=\"143.5\" y=\"-294.8\" font-family=\"Times,serif\" font-size=\"14.00\">grad 0.0000</text>\n</g>\n<!-- 136218667364368* -->\n<g id=\"node90\" class=\"node\">\n<title>136218667364368*</title>\n<ellipse fill=\"none\" stroke=\"black\" cx=\"250\" cy=\"-270.5\" rx=\"27\" ry=\"18\"/>\n<text text-anchor=\"middle\" x=\"250\" y=\"-266.8\" font-family=\"Times,serif\" font-size=\"14.00\">*</text>\n</g>\n<!-- 136218667363792&#45;&gt;136218667364368* -->\n<g id=\"edge163\" class=\"edge\">\n<title>136218667363792&#45;&gt;136218667364368*</title>\n<path fill=\"none\" stroke=\"black\" d=\"M184.82,-282.13C195.07,-280.27 205.01,-278.47 213.88,-276.87\"/>\n<polygon fill=\"black\" stroke=\"black\" points=\"214.54,-280.3 223.75,-275.08 213.29,-273.42 214.54,-280.3\"/>\n</g>\n<!-- 136218667298304 -->\n<g id=\"node73\" class=\"node\">\n<title>136218667298304</title>\n<polygon fill=\"none\" stroke=\"black\" points=\"1880.5,-742.5 1880.5,-778.5 2062.5,-778.5 2062.5,-742.5 1880.5,-742.5\"/>\n<text text-anchor=\"middle\" x=\"1890.5\" y=\"-756.8\" font-family=\"Times,serif\" font-size=\"14.00\"> </text>\n<polyline fill=\"none\" stroke=\"black\" points=\"1900.5,-742.5 1900.5,-778.5 \"/>\n<text text-anchor=\"middle\" x=\"1940.5\" y=\"-756.8\" font-family=\"Times,serif\" font-size=\"14.00\">data 0.3614</text>\n<polyline fill=\"none\" stroke=\"black\" points=\"1980.5,-742.5 1980.5,-778.5 \"/>\n<text text-anchor=\"middle\" x=\"2021.5\" y=\"-756.8\" font-family=\"Times,serif\" font-size=\"14.00\">grad 0.0000</text>\n</g>\n<!-- 136218667417504+ -->\n<g id=\"node196\" class=\"node\">\n<title>136218667417504+</title>\n<ellipse fill=\"none\" stroke=\"black\" cx=\"2128\" cy=\"-760.5\" rx=\"27\" ry=\"18\"/>\n<text text-anchor=\"middle\" x=\"2128\" y=\"-756.8\" font-family=\"Times,serif\" font-size=\"14.00\">+</text>\n</g>\n<!-- 136218667298304&#45;&gt;136218667417504+ -->\n<g id=\"edge140\" class=\"edge\">\n<title>136218667298304&#45;&gt;136218667417504+</title>\n<path fill=\"none\" stroke=\"black\" d=\"M2062.82,-760.5C2072.57,-760.5 2082.04,-760.5 2090.57,-760.5\"/>\n<polygon fill=\"black\" stroke=\"black\" points=\"2090.83,-764 2100.83,-760.5 2090.83,-757 2090.83,-764\"/>\n</g>\n<!-- 136218667298352 -->\n<g id=\"node74\" class=\"node\">\n<title>136218667298352</title>\n<polygon fill=\"none\" stroke=\"black\" points=\"2193.5,-633.5 2193.5,-669.5 2375.5,-669.5 2375.5,-633.5 2193.5,-633.5\"/>\n<text text-anchor=\"middle\" x=\"2203.5\" y=\"-647.8\" font-family=\"Times,serif\" font-size=\"14.00\"> </text>\n<polyline fill=\"none\" stroke=\"black\" points=\"2213.5,-633.5 2213.5,-669.5 \"/>\n<text text-anchor=\"middle\" x=\"2253.5\" y=\"-647.8\" font-family=\"Times,serif\" font-size=\"14.00\">data 1.0823</text>\n<polyline fill=\"none\" stroke=\"black\" points=\"2293.5,-633.5 2293.5,-669.5 \"/>\n<text text-anchor=\"middle\" x=\"2334.5\" y=\"-647.8\" font-family=\"Times,serif\" font-size=\"14.00\">grad 0.0000</text>\n</g>\n<!-- 136218667416208* -->\n<g id=\"node176\" class=\"node\">\n<title>136218667416208*</title>\n<ellipse fill=\"none\" stroke=\"black\" cx=\"2441\" cy=\"-651.5\" rx=\"27\" ry=\"18\"/>\n<text text-anchor=\"middle\" x=\"2441\" y=\"-647.8\" font-family=\"Times,serif\" font-size=\"14.00\">*</text>\n</g>\n<!-- 136218667298352&#45;&gt;136218667416208* -->\n<g id=\"edge106\" class=\"edge\">\n<title>136218667298352&#45;&gt;136218667416208*</title>\n<path fill=\"none\" stroke=\"black\" d=\"M2375.82,-651.5C2385.57,-651.5 2395.04,-651.5 2403.57,-651.5\"/>\n<polygon fill=\"black\" stroke=\"black\" points=\"2403.83,-655 2413.83,-651.5 2403.83,-648 2403.83,-655\"/>\n</g>\n<!-- 136218667413040 -->\n<g id=\"node75\" class=\"node\">\n<title>136218667413040</title>\n<polygon fill=\"none\" stroke=\"black\" points=\"3758.5,-526.5 3758.5,-562.5 3940.5,-562.5 3940.5,-526.5 3758.5,-526.5\"/>\n<text text-anchor=\"middle\" x=\"3768.5\" y=\"-540.8\" font-family=\"Times,serif\" font-size=\"14.00\"> </text>\n<polyline fill=\"none\" stroke=\"black\" points=\"3778.5,-526.5 3778.5,-562.5 \"/>\n<text text-anchor=\"middle\" x=\"3818.5\" y=\"-540.8\" font-family=\"Times,serif\" font-size=\"14.00\">data 0.9238</text>\n<polyline fill=\"none\" stroke=\"black\" points=\"3858.5,-526.5 3858.5,-562.5 \"/>\n<text text-anchor=\"middle\" x=\"3899.5\" y=\"-540.8\" font-family=\"Times,serif\" font-size=\"14.00\">grad 0.0000</text>\n</g>\n<!-- 136218667413040&#45;&gt;136218667412848+ -->\n<g id=\"edge110\" class=\"edge\">\n<title>136218667413040&#45;&gt;136218667412848+</title>\n<path fill=\"none\" stroke=\"black\" d=\"M3940.63,-544.5C3972.93,-544.5 4007.53,-544.5 4032.66,-544.5\"/>\n<polygon fill=\"black\" stroke=\"black\" points=\"4032.82,-548 4042.82,-544.5 4032.82,-541 4032.82,-548\"/>\n</g>\n<!-- 136218667413040* -->\n<g id=\"node76\" class=\"node\">\n<title>136218667413040*</title>\n<ellipse fill=\"none\" stroke=\"black\" cx=\"3693\" cy=\"-544.5\" rx=\"27\" ry=\"18\"/>\n<text text-anchor=\"middle\" x=\"3693\" y=\"-540.8\" font-family=\"Times,serif\" font-size=\"14.00\">*</text>\n</g>\n<!-- 136218667413040*&#45;&gt;136218667413040 -->\n<g id=\"edge30\" class=\"edge\">\n<title>136218667413040*&#45;&gt;136218667413040</title>\n<path fill=\"none\" stroke=\"black\" d=\"M3720.21,-544.5C3728.34,-544.5 3737.85,-544.5 3747.94,-544.5\"/>\n<polygon fill=\"black\" stroke=\"black\" points=\"3748.19,-548 3758.19,-544.5 3748.19,-541 3748.19,-548\"/>\n</g>\n<!-- 136218667404928 -->\n<g id=\"node77\" class=\"node\">\n<title>136218667404928</title>\n<polygon fill=\"none\" stroke=\"black\" points=\"2506.5,-358.5 2506.5,-394.5 2688.5,-394.5 2688.5,-358.5 2506.5,-358.5\"/>\n<text text-anchor=\"middle\" x=\"2516.5\" y=\"-372.8\" font-family=\"Times,serif\" font-size=\"14.00\"> </text>\n<polyline fill=\"none\" stroke=\"black\" points=\"2526.5,-358.5 2526.5,-394.5 \"/>\n<text text-anchor=\"middle\" x=\"2566.5\" y=\"-372.8\" font-family=\"Times,serif\" font-size=\"14.00\">data 0.8355</text>\n<polyline fill=\"none\" stroke=\"black\" points=\"2606.5,-358.5 2606.5,-394.5 \"/>\n<text text-anchor=\"middle\" x=\"2647.5\" y=\"-372.8\" font-family=\"Times,serif\" font-size=\"14.00\">grad 0.0000</text>\n</g>\n<!-- 136218667404928&#45;&gt;136218667403584+ -->\n<g id=\"edge205\" class=\"edge\">\n<title>136218667404928&#45;&gt;136218667403584+</title>\n<path fill=\"none\" stroke=\"black\" d=\"M2688.82,-376.5C2698.57,-376.5 2708.04,-376.5 2716.57,-376.5\"/>\n<polygon fill=\"black\" stroke=\"black\" points=\"2716.83,-380 2726.83,-376.5 2716.83,-373 2716.83,-380\"/>\n</g>\n<!-- 136218667404928* -->\n<g id=\"node78\" class=\"node\">\n<title>136218667404928*</title>\n<ellipse fill=\"none\" stroke=\"black\" cx=\"2441\" cy=\"-486.5\" rx=\"27\" ry=\"18\"/>\n<text text-anchor=\"middle\" x=\"2441\" y=\"-482.8\" font-family=\"Times,serif\" font-size=\"14.00\">*</text>\n</g>\n<!-- 136218667404928*&#45;&gt;136218667404928 -->\n<g id=\"edge31\" class=\"edge\">\n<title>136218667404928*&#45;&gt;136218667404928</title>\n<path fill=\"none\" stroke=\"black\" d=\"M2456.79,-471.51C2460.59,-467.41 2464.57,-462.89 2468,-458.5 2486,-435.49 2480.53,-420.89 2504,-403.5 2505.86,-402.12 2507.78,-400.82 2509.76,-399.58\"/>\n<polygon fill=\"black\" stroke=\"black\" points=\"2511.74,-402.48 2518.77,-394.56 2508.33,-396.37 2511.74,-402.48\"/>\n</g>\n<!-- 136218667298448 -->\n<g id=\"node79\" class=\"node\">\n<title>136218667298448</title>\n<polygon fill=\"none\" stroke=\"black\" points=\"939,-592.5 939,-628.5 1126,-628.5 1126,-592.5 939,-592.5\"/>\n<text text-anchor=\"middle\" x=\"949\" y=\"-606.8\" font-family=\"Times,serif\" font-size=\"14.00\"> </text>\n<polyline fill=\"none\" stroke=\"black\" points=\"959,-592.5 959,-628.5 \"/>\n<text text-anchor=\"middle\" x=\"1001.5\" y=\"-606.8\" font-family=\"Times,serif\" font-size=\"14.00\">data &#45;0.0972</text>\n<polyline fill=\"none\" stroke=\"black\" points=\"1044,-592.5 1044,-628.5 \"/>\n<text text-anchor=\"middle\" x=\"1085\" y=\"-606.8\" font-family=\"Times,serif\" font-size=\"14.00\">grad 0.0000</text>\n</g>\n<!-- 136218667417168* -->\n<g id=\"node190\" class=\"node\">\n<title>136218667417168*</title>\n<ellipse fill=\"none\" stroke=\"black\" cx=\"1189\" cy=\"-568.5\" rx=\"27\" ry=\"18\"/>\n<text text-anchor=\"middle\" x=\"1189\" y=\"-564.8\" font-family=\"Times,serif\" font-size=\"14.00\">*</text>\n</g>\n<!-- 136218667298448&#45;&gt;136218667417168* -->\n<g id=\"edge85\" class=\"edge\">\n<title>136218667298448&#45;&gt;136218667417168*</title>\n<path fill=\"none\" stroke=\"black\" d=\"M1099.92,-592.44C1118.44,-587.41 1137.8,-582.15 1153.64,-577.84\"/>\n<polygon fill=\"black\" stroke=\"black\" points=\"1154.77,-581.16 1163.5,-575.16 1152.93,-574.41 1154.77,-581.16\"/>\n</g>\n<!-- 136218667413232 -->\n<g id=\"node80\" class=\"node\">\n<title>136218667413232</title>\n<polygon fill=\"none\" stroke=\"black\" points=\"2191,-523.5 2191,-559.5 2378,-559.5 2378,-523.5 2191,-523.5\"/>\n<text text-anchor=\"middle\" x=\"2201\" y=\"-537.8\" font-family=\"Times,serif\" font-size=\"14.00\"> </text>\n<polyline fill=\"none\" stroke=\"black\" points=\"2211,-523.5 2211,-559.5 \"/>\n<text text-anchor=\"middle\" x=\"2253.5\" y=\"-537.8\" font-family=\"Times,serif\" font-size=\"14.00\">data &#45;0.9680</text>\n<polyline fill=\"none\" stroke=\"black\" points=\"2296,-523.5 2296,-559.5 \"/>\n<text text-anchor=\"middle\" x=\"2337\" y=\"-537.8\" font-family=\"Times,serif\" font-size=\"14.00\">grad 0.0000</text>\n</g>\n<!-- 136218667413232&#45;&gt;136218667404928* -->\n<g id=\"edge139\" class=\"edge\">\n<title>136218667413232&#45;&gt;136218667404928*</title>\n<path fill=\"none\" stroke=\"black\" d=\"M2349.02,-523.35C2358.79,-520.24 2368.71,-516.92 2378,-513.5 2388.25,-509.73 2399.23,-505.14 2409.07,-500.82\"/>\n<polygon fill=\"black\" stroke=\"black\" points=\"2410.74,-503.9 2418.45,-496.63 2407.89,-497.51 2410.74,-503.9\"/>\n</g>\n<!-- 136218667414240* -->\n<g id=\"node107\" class=\"node\">\n<title>136218667414240*</title>\n<ellipse fill=\"none\" stroke=\"black\" cx=\"2441\" cy=\"-321.5\" rx=\"27\" ry=\"18\"/>\n<text text-anchor=\"middle\" x=\"2441\" y=\"-317.8\" font-family=\"Times,serif\" font-size=\"14.00\">*</text>\n</g>\n<!-- 136218667413232&#45;&gt;136218667414240* -->\n<g id=\"edge172\" class=\"edge\">\n<title>136218667413232&#45;&gt;136218667414240*</title>\n<path fill=\"none\" stroke=\"black\" d=\"M2365.23,-523.34C2369.85,-520.52 2374.17,-517.26 2378,-513.5 2379.52,-512 2414.7,-401.39 2431.38,-348.75\"/>\n<polygon fill=\"black\" stroke=\"black\" points=\"2434.77,-349.64 2434.45,-339.05 2428.09,-347.53 2434.77,-349.64\"/>\n</g>\n<!-- 136218667407952* -->\n<g id=\"node174\" class=\"node\">\n<title>136218667407952*</title>\n<ellipse fill=\"none\" stroke=\"black\" cx=\"2441\" cy=\"-541.5\" rx=\"27\" ry=\"18\"/>\n<text text-anchor=\"middle\" x=\"2441\" y=\"-537.8\" font-family=\"Times,serif\" font-size=\"14.00\">*</text>\n</g>\n<!-- 136218667413232&#45;&gt;136218667407952* -->\n<g id=\"edge166\" class=\"edge\">\n<title>136218667413232&#45;&gt;136218667407952*</title>\n<path fill=\"none\" stroke=\"black\" d=\"M2378.05,-541.5C2387.06,-541.5 2395.79,-541.5 2403.7,-541.5\"/>\n<polygon fill=\"black\" stroke=\"black\" points=\"2403.95,-545 2413.95,-541.5 2403.95,-538 2403.95,-545\"/>\n</g>\n<!-- 136218667413232&#45;&gt;136218667416208* -->\n<g id=\"edge195\" class=\"edge\">\n<title>136218667413232&#45;&gt;136218667416208*</title>\n<path fill=\"none\" stroke=\"black\" d=\"M2362.53,-559.66C2367.97,-562.23 2373.19,-565.16 2378,-568.5 2399.11,-583.15 2415.97,-607.3 2426.74,-625.78\"/>\n<polygon fill=\"black\" stroke=\"black\" points=\"2423.74,-627.57 2431.68,-634.59 2429.85,-624.15 2423.74,-627.57\"/>\n</g>\n<!-- 136218667413232tanh&#45;&gt;136218667413232 -->\n<g id=\"edge32\" class=\"edge\">\n<title>136218667413232tanh&#45;&gt;136218667413232</title>\n<path fill=\"none\" stroke=\"black\" d=\"M2154.86,-553.16C2162.51,-552.46 2171.39,-551.66 2180.84,-550.8\"/>\n<polygon fill=\"black\" stroke=\"black\" points=\"2181.23,-554.28 2190.87,-549.89 2180.6,-547.31 2181.23,-554.28\"/>\n</g>\n<!-- 136218667413328 -->\n<g id=\"node82\" class=\"node\">\n<title>136218667413328</title>\n<polygon fill=\"none\" stroke=\"black\" points=\"3445.5,-581.5 3445.5,-617.5 3627.5,-617.5 3627.5,-581.5 3445.5,-581.5\"/>\n<text text-anchor=\"middle\" x=\"3455.5\" y=\"-595.8\" font-family=\"Times,serif\" font-size=\"14.00\"> </text>\n<polyline fill=\"none\" stroke=\"black\" points=\"3465.5,-581.5 3465.5,-617.5 \"/>\n<text text-anchor=\"middle\" x=\"3505.5\" y=\"-595.8\" font-family=\"Times,serif\" font-size=\"14.00\">data 0.9942</text>\n<polyline fill=\"none\" stroke=\"black\" points=\"3545.5,-581.5 3545.5,-617.5 \"/>\n<text text-anchor=\"middle\" x=\"3586.5\" y=\"-595.8\" font-family=\"Times,serif\" font-size=\"14.00\">grad 0.0000</text>\n</g>\n<!-- 136218667413328&#45;&gt;136218667413040* -->\n<g id=\"edge196\" class=\"edge\">\n<title>136218667413328&#45;&gt;136218667413040*</title>\n<path fill=\"none\" stroke=\"black\" d=\"M3601.02,-581.35C3610.79,-578.24 3620.71,-574.92 3630,-571.5 3640.25,-567.73 3651.23,-563.14 3661.07,-558.82\"/>\n<polygon fill=\"black\" stroke=\"black\" points=\"3662.74,-561.9 3670.45,-554.63 3659.89,-555.51 3662.74,-561.9\"/>\n</g>\n<!-- 136218667413328tanh -->\n<g id=\"node83\" class=\"node\">\n<title>136218667413328tanh</title>\n<ellipse fill=\"none\" stroke=\"black\" cx=\"3380\" cy=\"-599.5\" rx=\"27\" ry=\"18\"/>\n<text text-anchor=\"middle\" x=\"3380\" y=\"-595.8\" font-family=\"Times,serif\" font-size=\"14.00\">tanh</text>\n</g>\n<!-- 136218667413328tanh&#45;&gt;136218667413328 -->\n<g id=\"edge33\" class=\"edge\">\n<title>136218667413328tanh&#45;&gt;136218667413328</title>\n<path fill=\"none\" stroke=\"black\" d=\"M3407.21,-599.5C3415.34,-599.5 3424.85,-599.5 3434.94,-599.5\"/>\n<polygon fill=\"black\" stroke=\"black\" points=\"3435.19,-603 3445.19,-599.5 3435.19,-596 3435.19,-603\"/>\n</g>\n<!-- 136218667405168 -->\n<g id=\"node84\" class=\"node\">\n<title>136218667405168</title>\n<polygon fill=\"none\" stroke=\"black\" points=\"941.5,-537.5 941.5,-573.5 1123.5,-573.5 1123.5,-537.5 941.5,-537.5\"/>\n<text text-anchor=\"middle\" x=\"951.5\" y=\"-551.8\" font-family=\"Times,serif\" font-size=\"14.00\"> </text>\n<polyline fill=\"none\" stroke=\"black\" points=\"961.5,-537.5 961.5,-573.5 \"/>\n<text text-anchor=\"middle\" x=\"1001.5\" y=\"-551.8\" font-family=\"Times,serif\" font-size=\"14.00\">data 3.0000</text>\n<polyline fill=\"none\" stroke=\"black\" points=\"1041.5,-537.5 1041.5,-573.5 \"/>\n<text text-anchor=\"middle\" x=\"1082.5\" y=\"-551.8\" font-family=\"Times,serif\" font-size=\"14.00\">grad 0.0000</text>\n</g>\n<!-- 136218667405168&#45;&gt;136218667417168* -->\n<g id=\"edge109\" class=\"edge\">\n<title>136218667405168&#45;&gt;136218667417168*</title>\n<path fill=\"none\" stroke=\"black\" d=\"M1123.82,-563.1C1133.77,-563.94 1143.43,-564.75 1152.1,-565.48\"/>\n<polygon fill=\"black\" stroke=\"black\" points=\"1151.88,-568.97 1162.14,-566.32 1152.47,-562 1151.88,-568.97\"/>\n</g>\n<!-- 136218667364272 -->\n<g id=\"node85\" class=\"node\">\n<title>136218667364272</title>\n<polygon fill=\"none\" stroke=\"black\" points=\"2819.5,-395.5 2819.5,-431.5 3001.5,-431.5 3001.5,-395.5 2819.5,-395.5\"/>\n<text text-anchor=\"middle\" x=\"2829.5\" y=\"-409.8\" font-family=\"Times,serif\" font-size=\"14.00\"> </text>\n<polyline fill=\"none\" stroke=\"black\" points=\"2839.5,-395.5 2839.5,-431.5 \"/>\n<text text-anchor=\"middle\" x=\"2879.5\" y=\"-409.8\" font-family=\"Times,serif\" font-size=\"14.00\">data 0.1418</text>\n<polyline fill=\"none\" stroke=\"black\" points=\"2919.5,-395.5 2919.5,-431.5 \"/>\n<text text-anchor=\"middle\" x=\"2960.5\" y=\"-409.8\" font-family=\"Times,serif\" font-size=\"14.00\">grad 0.0000</text>\n</g>\n<!-- 136218667413856+ -->\n<g id=\"node99\" class=\"node\">\n<title>136218667413856+</title>\n<ellipse fill=\"none\" stroke=\"black\" cx=\"3067\" cy=\"-379.5\" rx=\"27\" ry=\"18\"/>\n<text text-anchor=\"middle\" x=\"3067\" y=\"-375.8\" font-family=\"Times,serif\" font-size=\"14.00\">+</text>\n</g>\n<!-- 136218667364272&#45;&gt;136218667413856+ -->\n<g id=\"edge180\" class=\"edge\">\n<title>136218667364272&#45;&gt;136218667413856+</title>\n<path fill=\"none\" stroke=\"black\" d=\"M2993.73,-395.4C3006.97,-392.49 3020.01,-389.62 3031.3,-387.14\"/>\n<polygon fill=\"black\" stroke=\"black\" points=\"3032.11,-390.54 3041.12,-384.97 3030.6,-383.71 3032.11,-390.54\"/>\n</g>\n<!-- 136218667364272*&#45;&gt;136218667364272 -->\n<g id=\"edge34\" class=\"edge\">\n<title>136218667364272*&#45;&gt;136218667364272</title>\n<path fill=\"none\" stroke=\"black\" d=\"M2769.88,-526.58C2773.68,-522.48 2777.64,-517.94 2781,-513.5 2799.54,-489.01 2793.91,-474.76 2817,-454.5 2825.19,-447.32 2834.84,-441.21 2844.76,-436.07\"/>\n<polygon fill=\"black\" stroke=\"black\" points=\"2846.45,-439.15 2853.92,-431.63 2843.39,-432.85 2846.45,-439.15\"/>\n</g>\n<!-- 136218667405312 -->\n<g id=\"node87\" class=\"node\">\n<title>136218667405312</title>\n<polygon fill=\"none\" stroke=\"black\" points=\"2193.5,-358.5 2193.5,-394.5 2375.5,-394.5 2375.5,-358.5 2193.5,-358.5\"/>\n<text text-anchor=\"middle\" x=\"2203.5\" y=\"-372.8\" font-family=\"Times,serif\" font-size=\"14.00\"> </text>\n<polyline fill=\"none\" stroke=\"black\" points=\"2213.5,-358.5 2213.5,-394.5 \"/>\n<text text-anchor=\"middle\" x=\"2253.5\" y=\"-372.8\" font-family=\"Times,serif\" font-size=\"14.00\">data 0.9349</text>\n<polyline fill=\"none\" stroke=\"black\" points=\"2293.5,-358.5 2293.5,-394.5 \"/>\n<text text-anchor=\"middle\" x=\"2334.5\" y=\"-372.8\" font-family=\"Times,serif\" font-size=\"14.00\">grad 0.0000</text>\n</g>\n<!-- 136218667405312&#45;&gt;136218667407856+ -->\n<g id=\"edge132\" class=\"edge\">\n<title>136218667405312&#45;&gt;136218667407856+</title>\n<path fill=\"none\" stroke=\"black\" d=\"M2351.56,-394.55C2360.51,-397.36 2369.53,-400.37 2378,-403.5 2388.49,-407.38 2399.71,-412.22 2409.68,-416.78\"/>\n<polygon fill=\"black\" stroke=\"black\" points=\"2408.25,-419.98 2418.79,-421.03 2411.2,-413.63 2408.25,-419.98\"/>\n</g>\n<!-- 136218667405312+&#45;&gt;136218667405312 -->\n<g id=\"edge35\" class=\"edge\">\n<title>136218667405312+&#45;&gt;136218667405312</title>\n<path fill=\"none\" stroke=\"black\" d=\"M2155.21,-376.5C2163.34,-376.5 2172.85,-376.5 2182.94,-376.5\"/>\n<polygon fill=\"black\" stroke=\"black\" points=\"2183.19,-380 2193.19,-376.5 2183.19,-373 2183.19,-380\"/>\n</g>\n<!-- 136218667364368 -->\n<g id=\"node89\" class=\"node\">\n<title>136218667364368</title>\n<polygon fill=\"none\" stroke=\"black\" points=\"313,-252.5 313,-288.5 500,-288.5 500,-252.5 313,-252.5\"/>\n<text text-anchor=\"middle\" x=\"323\" y=\"-266.8\" font-family=\"Times,serif\" font-size=\"14.00\"> </text>\n<polyline fill=\"none\" stroke=\"black\" points=\"333,-252.5 333,-288.5 \"/>\n<text text-anchor=\"middle\" x=\"375.5\" y=\"-266.8\" font-family=\"Times,serif\" font-size=\"14.00\">data &#45;1.9752</text>\n<polyline fill=\"none\" stroke=\"black\" points=\"418,-252.5 418,-288.5 \"/>\n<text text-anchor=\"middle\" x=\"459\" y=\"-266.8\" font-family=\"Times,serif\" font-size=\"14.00\">grad 0.0000</text>\n</g>\n<!-- 136218667364368&#45;&gt;136218667360816+ -->\n<g id=\"edge144\" class=\"edge\">\n<title>136218667364368&#45;&gt;136218667360816+</title>\n<path fill=\"none\" stroke=\"black\" d=\"M467.76,-252.43C478.5,-249.16 489.59,-245.75 500,-242.5 509.35,-239.58 519.48,-236.34 528.78,-233.34\"/>\n<polygon fill=\"black\" stroke=\"black\" points=\"530.04,-236.61 538.48,-230.2 527.89,-229.95 530.04,-236.61\"/>\n</g>\n<!-- 136218667364368*&#45;&gt;136218667364368 -->\n<g id=\"edge36\" class=\"edge\">\n<title>136218667364368*&#45;&gt;136218667364368</title>\n<path fill=\"none\" stroke=\"black\" d=\"M277.21,-270.5C284.73,-270.5 293.43,-270.5 302.67,-270.5\"/>\n<polygon fill=\"black\" stroke=\"black\" points=\"302.89,-274 312.89,-270.5 302.89,-267 302.89,-274\"/>\n</g>\n<!-- 136218667364464 -->\n<g id=\"node91\" class=\"node\">\n<title>136218667364464</title>\n<polygon fill=\"none\" stroke=\"black\" points=\"941.5,-192.5 941.5,-228.5 1123.5,-228.5 1123.5,-192.5 941.5,-192.5\"/>\n<text text-anchor=\"middle\" x=\"951.5\" y=\"-206.8\" font-family=\"Times,serif\" font-size=\"14.00\"> </text>\n<polyline fill=\"none\" stroke=\"black\" points=\"961.5,-192.5 961.5,-228.5 \"/>\n<text text-anchor=\"middle\" x=\"1001.5\" y=\"-206.8\" font-family=\"Times,serif\" font-size=\"14.00\">data 0.0935</text>\n<polyline fill=\"none\" stroke=\"black\" points=\"1041.5,-192.5 1041.5,-228.5 \"/>\n<text text-anchor=\"middle\" x=\"1082.5\" y=\"-206.8\" font-family=\"Times,serif\" font-size=\"14.00\">grad 0.0000</text>\n</g>\n<!-- 136218667368400+ -->\n<g id=\"node199\" class=\"node\">\n<title>136218667368400+</title>\n<ellipse fill=\"none\" stroke=\"black\" cx=\"1189\" cy=\"-210.5\" rx=\"27\" ry=\"18\"/>\n<text text-anchor=\"middle\" x=\"1189\" y=\"-206.8\" font-family=\"Times,serif\" font-size=\"14.00\">+</text>\n</g>\n<!-- 136218667364464&#45;&gt;136218667368400+ -->\n<g id=\"edge202\" class=\"edge\">\n<title>136218667364464&#45;&gt;136218667368400+</title>\n<path fill=\"none\" stroke=\"black\" d=\"M1123.82,-210.5C1133.57,-210.5 1143.04,-210.5 1151.57,-210.5\"/>\n<polygon fill=\"black\" stroke=\"black\" points=\"1151.83,-214 1161.83,-210.5 1151.83,-207 1151.83,-214\"/>\n</g>\n<!-- 136218667364464+&#45;&gt;136218667364464 -->\n<g id=\"edge37\" class=\"edge\">\n<title>136218667364464+&#45;&gt;136218667364464</title>\n<path fill=\"none\" stroke=\"black\" d=\"M903.21,-210.5C911.34,-210.5 920.85,-210.5 930.94,-210.5\"/>\n<polygon fill=\"black\" stroke=\"black\" points=\"931.19,-214 941.19,-210.5 931.19,-207 931.19,-214\"/>\n</g>\n<!-- 136218667405456 -->\n<g id=\"node93\" class=\"node\">\n<title>136218667405456</title>\n<polygon fill=\"none\" stroke=\"black\" points=\"1880.5,-440.5 1880.5,-476.5 2062.5,-476.5 2062.5,-440.5 1880.5,-440.5\"/>\n<text text-anchor=\"middle\" x=\"1890.5\" y=\"-454.8\" font-family=\"Times,serif\" font-size=\"14.00\"> </text>\n<polyline fill=\"none\" stroke=\"black\" points=\"1900.5,-440.5 1900.5,-476.5 \"/>\n<text text-anchor=\"middle\" x=\"1940.5\" y=\"-454.8\" font-family=\"Times,serif\" font-size=\"14.00\">data 0.8642</text>\n<polyline fill=\"none\" stroke=\"black\" points=\"1980.5,-440.5 1980.5,-476.5 \"/>\n<text text-anchor=\"middle\" x=\"2021.5\" y=\"-454.8\" font-family=\"Times,serif\" font-size=\"14.00\">grad 0.0000</text>\n</g>\n<!-- 136218667405456&#45;&gt;136218667405312+ -->\n<g id=\"edge91\" class=\"edge\">\n<title>136218667405456&#45;&gt;136218667405312+</title>\n<path fill=\"none\" stroke=\"black\" d=\"M2043.48,-440.43C2050.93,-437.53 2058.25,-434.24 2065,-430.5 2080.02,-422.19 2094.61,-409.77 2105.86,-398.94\"/>\n<polygon fill=\"black\" stroke=\"black\" points=\"2108.45,-401.3 2113.08,-391.76 2103.52,-396.33 2108.45,-401.3\"/>\n</g>\n<!-- 136218667405456*&#45;&gt;136218667405456 -->\n<g id=\"edge38\" class=\"edge\">\n<title>136218667405456*&#45;&gt;136218667405456</title>\n<path fill=\"none\" stroke=\"black\" d=\"M1842.21,-458.5C1850.34,-458.5 1859.85,-458.5 1869.94,-458.5\"/>\n<polygon fill=\"black\" stroke=\"black\" points=\"1870.19,-462 1880.19,-458.5 1870.19,-455 1870.19,-462\"/>\n</g>\n<!-- 136218667413760 -->\n<g id=\"node95\" class=\"node\">\n<title>136218667413760</title>\n<polygon fill=\"none\" stroke=\"black\" points=\"1252,-660.5 1252,-696.5 1439,-696.5 1439,-660.5 1252,-660.5\"/>\n<text text-anchor=\"middle\" x=\"1262\" y=\"-674.8\" font-family=\"Times,serif\" font-size=\"14.00\"> </text>\n<polyline fill=\"none\" stroke=\"black\" points=\"1272,-660.5 1272,-696.5 \"/>\n<text text-anchor=\"middle\" x=\"1314.5\" y=\"-674.8\" font-family=\"Times,serif\" font-size=\"14.00\">data &#45;1.0000</text>\n<polyline fill=\"none\" stroke=\"black\" points=\"1357,-660.5 1357,-696.5 \"/>\n<text text-anchor=\"middle\" x=\"1398\" y=\"-674.8\" font-family=\"Times,serif\" font-size=\"14.00\">grad 0.0000</text>\n</g>\n<!-- 136218667413760&#45;&gt;136218667404688* -->\n<g id=\"edge134\" class=\"edge\">\n<title>136218667413760&#45;&gt;136218667404688*</title>\n<path fill=\"none\" stroke=\"black\" d=\"M1439.05,-678.5C1448.06,-678.5 1456.79,-678.5 1464.7,-678.5\"/>\n<polygon fill=\"black\" stroke=\"black\" points=\"1464.95,-682 1474.95,-678.5 1464.95,-675 1464.95,-682\"/>\n</g>\n<!-- 136218667413808 -->\n<g id=\"node96\" class=\"node\">\n<title>136218667413808</title>\n<polygon fill=\"none\" stroke=\"black\" points=\"2504,-688.5 2504,-724.5 2691,-724.5 2691,-688.5 2504,-688.5\"/>\n<text text-anchor=\"middle\" x=\"2514\" y=\"-702.8\" font-family=\"Times,serif\" font-size=\"14.00\"> </text>\n<polyline fill=\"none\" stroke=\"black\" points=\"2524,-688.5 2524,-724.5 \"/>\n<text text-anchor=\"middle\" x=\"2566.5\" y=\"-702.8\" font-family=\"Times,serif\" font-size=\"14.00\">data &#45;2.1177</text>\n<polyline fill=\"none\" stroke=\"black\" points=\"2609,-688.5 2609,-724.5 \"/>\n<text text-anchor=\"middle\" x=\"2650\" y=\"-702.8\" font-family=\"Times,serif\" font-size=\"14.00\">grad 0.0000</text>\n</g>\n<!-- 136218667413808&#45;&gt;136218667402144+ -->\n<g id=\"edge83\" class=\"edge\">\n<title>136218667413808&#45;&gt;136218667402144+</title>\n<path fill=\"none\" stroke=\"black\" d=\"M2691.05,-706.5C2700.06,-706.5 2708.79,-706.5 2716.7,-706.5\"/>\n<polygon fill=\"black\" stroke=\"black\" points=\"2716.95,-710 2726.95,-706.5 2716.95,-703 2716.95,-710\"/>\n</g>\n<!-- 136218667413808+ -->\n<g id=\"node97\" class=\"node\">\n<title>136218667413808+</title>\n<ellipse fill=\"none\" stroke=\"black\" cx=\"2441\" cy=\"-706.5\" rx=\"27\" ry=\"18\"/>\n<text text-anchor=\"middle\" x=\"2441\" y=\"-702.8\" font-family=\"Times,serif\" font-size=\"14.00\">+</text>\n</g>\n<!-- 136218667413808+&#45;&gt;136218667413808 -->\n<g id=\"edge39\" class=\"edge\">\n<title>136218667413808+&#45;&gt;136218667413808</title>\n<path fill=\"none\" stroke=\"black\" d=\"M2468.21,-706.5C2475.73,-706.5 2484.43,-706.5 2493.67,-706.5\"/>\n<polygon fill=\"black\" stroke=\"black\" points=\"2493.89,-710 2503.89,-706.5 2493.89,-703 2493.89,-710\"/>\n</g>\n<!-- 136218667413856 -->\n<g id=\"node98\" class=\"node\">\n<title>136218667413856</title>\n<polygon fill=\"none\" stroke=\"black\" points=\"3132.5,-361.5 3132.5,-397.5 3314.5,-397.5 3314.5,-361.5 3132.5,-361.5\"/>\n<text text-anchor=\"middle\" x=\"3142.5\" y=\"-375.8\" font-family=\"Times,serif\" font-size=\"14.00\"> </text>\n<polyline fill=\"none\" stroke=\"black\" points=\"3152.5,-361.5 3152.5,-397.5 \"/>\n<text text-anchor=\"middle\" x=\"3192.5\" y=\"-375.8\" font-family=\"Times,serif\" font-size=\"14.00\">data 0.5584</text>\n<polyline fill=\"none\" stroke=\"black\" points=\"3232.5,-361.5 3232.5,-397.5 \"/>\n<text text-anchor=\"middle\" x=\"3273.5\" y=\"-375.8\" font-family=\"Times,serif\" font-size=\"14.00\">grad 0.0000</text>\n</g>\n<!-- 136218667413904tanh -->\n<g id=\"node101\" class=\"node\">\n<title>136218667413904tanh</title>\n<ellipse fill=\"none\" stroke=\"black\" cx=\"3380\" cy=\"-379.5\" rx=\"27\" ry=\"18\"/>\n<text text-anchor=\"middle\" x=\"3380\" y=\"-375.8\" font-family=\"Times,serif\" font-size=\"14.00\">tanh</text>\n</g>\n<!-- 136218667413856&#45;&gt;136218667413904tanh -->\n<g id=\"edge175\" class=\"edge\">\n<title>136218667413856&#45;&gt;136218667413904tanh</title>\n<path fill=\"none\" stroke=\"black\" d=\"M3314.82,-379.5C3324.57,-379.5 3334.04,-379.5 3342.57,-379.5\"/>\n<polygon fill=\"black\" stroke=\"black\" points=\"3342.83,-383 3352.83,-379.5 3342.83,-376 3342.83,-383\"/>\n</g>\n<!-- 136218667413856+&#45;&gt;136218667413856 -->\n<g id=\"edge40\" class=\"edge\">\n<title>136218667413856+&#45;&gt;136218667413856</title>\n<path fill=\"none\" stroke=\"black\" d=\"M3094.21,-379.5C3102.34,-379.5 3111.85,-379.5 3121.94,-379.5\"/>\n<polygon fill=\"black\" stroke=\"black\" points=\"3122.19,-383 3132.19,-379.5 3122.19,-376 3122.19,-383\"/>\n</g>\n<!-- 136218667413904 -->\n<g id=\"node100\" class=\"node\">\n<title>136218667413904</title>\n<polygon fill=\"none\" stroke=\"black\" points=\"3445.5,-361.5 3445.5,-397.5 3627.5,-397.5 3627.5,-361.5 3445.5,-361.5\"/>\n<text text-anchor=\"middle\" x=\"3455.5\" y=\"-375.8\" font-family=\"Times,serif\" font-size=\"14.00\"> </text>\n<polyline fill=\"none\" stroke=\"black\" points=\"3465.5,-361.5 3465.5,-397.5 \"/>\n<text text-anchor=\"middle\" x=\"3505.5\" y=\"-375.8\" font-family=\"Times,serif\" font-size=\"14.00\">data 0.5068</text>\n<polyline fill=\"none\" stroke=\"black\" points=\"3545.5,-361.5 3545.5,-397.5 \"/>\n<text text-anchor=\"middle\" x=\"3586.5\" y=\"-375.8\" font-family=\"Times,serif\" font-size=\"14.00\">grad 0.0000</text>\n</g>\n<!-- 136218667406992* -->\n<g id=\"node139\" class=\"node\">\n<title>136218667406992*</title>\n<ellipse fill=\"none\" stroke=\"black\" cx=\"3693\" cy=\"-379.5\" rx=\"27\" ry=\"18\"/>\n<text text-anchor=\"middle\" x=\"3693\" y=\"-375.8\" font-family=\"Times,serif\" font-size=\"14.00\">*</text>\n</g>\n<!-- 136218667413904&#45;&gt;136218667406992* -->\n<g id=\"edge156\" class=\"edge\">\n<title>136218667413904&#45;&gt;136218667406992*</title>\n<path fill=\"none\" stroke=\"black\" d=\"M3627.82,-379.5C3637.57,-379.5 3647.04,-379.5 3655.57,-379.5\"/>\n<polygon fill=\"black\" stroke=\"black\" points=\"3655.83,-383 3665.83,-379.5 3655.83,-376 3655.83,-383\"/>\n</g>\n<!-- 136218667413904tanh&#45;&gt;136218667413904 -->\n<g id=\"edge41\" class=\"edge\">\n<title>136218667413904tanh&#45;&gt;136218667413904</title>\n<path fill=\"none\" stroke=\"black\" d=\"M3407.21,-379.5C3415.34,-379.5 3424.85,-379.5 3434.94,-379.5\"/>\n<polygon fill=\"black\" stroke=\"black\" points=\"3435.19,-383 3445.19,-379.5 3435.19,-376 3435.19,-383\"/>\n</g>\n<!-- 136218667291056 -->\n<g id=\"node102\" class=\"node\">\n<title>136218667291056</title>\n<polygon fill=\"none\" stroke=\"black\" points=\"941.5,-990.5 941.5,-1026.5 1123.5,-1026.5 1123.5,-990.5 941.5,-990.5\"/>\n<text text-anchor=\"middle\" x=\"951.5\" y=\"-1004.8\" font-family=\"Times,serif\" font-size=\"14.00\"> </text>\n<polyline fill=\"none\" stroke=\"black\" points=\"961.5,-990.5 961.5,-1026.5 \"/>\n<text text-anchor=\"middle\" x=\"1001.5\" y=\"-1004.8\" font-family=\"Times,serif\" font-size=\"14.00\">data 1.1447</text>\n<polyline fill=\"none\" stroke=\"black\" points=\"1041.5,-990.5 1041.5,-1026.5 \"/>\n<text text-anchor=\"middle\" x=\"1082.5\" y=\"-1004.8\" font-family=\"Times,serif\" font-size=\"14.00\">grad 0.0000</text>\n</g>\n<!-- 136218667291056&#45;&gt;136218667404496* -->\n<g id=\"edge108\" class=\"edge\">\n<title>136218667291056&#45;&gt;136218667404496*</title>\n<path fill=\"none\" stroke=\"black\" d=\"M1123.82,-992.72C1134.07,-990.92 1144.01,-989.19 1152.88,-987.64\"/>\n<polygon fill=\"black\" stroke=\"black\" points=\"1153.5,-991.08 1162.75,-985.91 1152.3,-984.19 1153.5,-991.08\"/>\n</g>\n<!-- 136218667291200 -->\n<g id=\"node103\" class=\"node\">\n<title>136218667291200</title>\n<polygon fill=\"none\" stroke=\"black\" points=\"941.5,-702.5 941.5,-738.5 1123.5,-738.5 1123.5,-702.5 941.5,-702.5\"/>\n<text text-anchor=\"middle\" x=\"951.5\" y=\"-716.8\" font-family=\"Times,serif\" font-size=\"14.00\"> </text>\n<polyline fill=\"none\" stroke=\"black\" points=\"961.5,-702.5 961.5,-738.5 \"/>\n<text text-anchor=\"middle\" x=\"1001.5\" y=\"-716.8\" font-family=\"Times,serif\" font-size=\"14.00\">data 0.1371</text>\n<polyline fill=\"none\" stroke=\"black\" points=\"1041.5,-702.5 1041.5,-738.5 \"/>\n<text text-anchor=\"middle\" x=\"1082.5\" y=\"-716.8\" font-family=\"Times,serif\" font-size=\"14.00\">grad 0.0000</text>\n</g>\n<!-- 136218667366288+ -->\n<g id=\"node149\" class=\"node\">\n<title>136218667366288+</title>\n<ellipse fill=\"none\" stroke=\"black\" cx=\"1189\" cy=\"-665.5\" rx=\"27\" ry=\"18\"/>\n<text text-anchor=\"middle\" x=\"1189\" y=\"-661.8\" font-family=\"Times,serif\" font-size=\"14.00\">+</text>\n</g>\n<!-- 136218667291200&#45;&gt;136218667366288+ -->\n<g id=\"edge90\" class=\"edge\">\n<title>136218667291200&#45;&gt;136218667366288+</title>\n<path fill=\"none\" stroke=\"black\" d=\"M1099.56,-702.45C1108.51,-699.64 1117.53,-696.63 1126,-693.5 1136.49,-689.62 1147.71,-684.78 1157.68,-680.22\"/>\n<polygon fill=\"black\" stroke=\"black\" points=\"1159.2,-683.37 1166.79,-675.97 1156.25,-677.02 1159.2,-683.37\"/>\n</g>\n<!-- 136218667405936 -->\n<g id=\"node104\" class=\"node\">\n<title>136218667405936</title>\n<polygon fill=\"none\" stroke=\"black\" points=\"2819.5,-633.5 2819.5,-669.5 3001.5,-669.5 3001.5,-633.5 2819.5,-633.5\"/>\n<text text-anchor=\"middle\" x=\"2829.5\" y=\"-647.8\" font-family=\"Times,serif\" font-size=\"14.00\"> </text>\n<polyline fill=\"none\" stroke=\"black\" points=\"2839.5,-633.5 2839.5,-669.5 \"/>\n<text text-anchor=\"middle\" x=\"2879.5\" y=\"-647.8\" font-family=\"Times,serif\" font-size=\"14.00\">data 1.2034</text>\n<polyline fill=\"none\" stroke=\"black\" points=\"2919.5,-633.5 2919.5,-669.5 \"/>\n<text text-anchor=\"middle\" x=\"2960.5\" y=\"-647.8\" font-family=\"Times,serif\" font-size=\"14.00\">grad 0.0000</text>\n</g>\n<!-- 136218667408192+ -->\n<g id=\"node178\" class=\"node\">\n<title>136218667408192+</title>\n<ellipse fill=\"none\" stroke=\"black\" cx=\"3067\" cy=\"-599.5\" rx=\"27\" ry=\"18\"/>\n<text text-anchor=\"middle\" x=\"3067\" y=\"-595.8\" font-family=\"Times,serif\" font-size=\"14.00\">+</text>\n</g>\n<!-- 136218667405936&#45;&gt;136218667408192+ -->\n<g id=\"edge146\" class=\"edge\">\n<title>136218667405936&#45;&gt;136218667408192+</title>\n<path fill=\"none\" stroke=\"black\" d=\"M2973.41,-633.47C2983.67,-630.28 2994.16,-626.89 3004,-623.5 3013.8,-620.13 3024.35,-616.16 3033.93,-612.44\"/>\n<polygon fill=\"black\" stroke=\"black\" points=\"3035.45,-615.61 3043.48,-608.69 3032.89,-609.09 3035.45,-615.61\"/>\n</g>\n<!-- 136218667405936* -->\n<g id=\"node105\" class=\"node\">\n<title>136218667405936*</title>\n<ellipse fill=\"none\" stroke=\"black\" cx=\"2754\" cy=\"-760.5\" rx=\"27\" ry=\"18\"/>\n<text text-anchor=\"middle\" x=\"2754\" y=\"-756.8\" font-family=\"Times,serif\" font-size=\"14.00\">*</text>\n</g>\n<!-- 136218667405936*&#45;&gt;136218667405936 -->\n<g id=\"edge42\" class=\"edge\">\n<title>136218667405936*&#45;&gt;136218667405936</title>\n<path fill=\"none\" stroke=\"black\" d=\"M2770.07,-745.8C2773.79,-741.92 2777.66,-737.66 2781,-733.5 2799.08,-711.02 2793.84,-696.69 2817,-679.5 2819.48,-677.66 2822.08,-675.94 2824.77,-674.33\"/>\n<polygon fill=\"black\" stroke=\"black\" points=\"2826.49,-677.38 2833.65,-669.57 2823.18,-671.21 2826.49,-677.38\"/>\n</g>\n<!-- 136218667414240 -->\n<g id=\"node106\" class=\"node\">\n<title>136218667414240</title>\n<polygon fill=\"none\" stroke=\"black\" points=\"2506.5,-303.5 2506.5,-339.5 2688.5,-339.5 2688.5,-303.5 2506.5,-303.5\"/>\n<text text-anchor=\"middle\" x=\"2516.5\" y=\"-317.8\" font-family=\"Times,serif\" font-size=\"14.00\"> </text>\n<polyline fill=\"none\" stroke=\"black\" points=\"2526.5,-303.5 2526.5,-339.5 \"/>\n<text text-anchor=\"middle\" x=\"2566.5\" y=\"-317.8\" font-family=\"Times,serif\" font-size=\"14.00\">data 0.8504</text>\n<polyline fill=\"none\" stroke=\"black\" points=\"2606.5,-303.5 2606.5,-339.5 \"/>\n<text text-anchor=\"middle\" x=\"2647.5\" y=\"-317.8\" font-family=\"Times,serif\" font-size=\"14.00\">grad 0.0000</text>\n</g>\n<!-- 136218667414384+ -->\n<g id=\"node111\" class=\"node\">\n<title>136218667414384+</title>\n<ellipse fill=\"none\" stroke=\"black\" cx=\"2754\" cy=\"-321.5\" rx=\"27\" ry=\"18\"/>\n<text text-anchor=\"middle\" x=\"2754\" y=\"-317.8\" font-family=\"Times,serif\" font-size=\"14.00\">+</text>\n</g>\n<!-- 136218667414240&#45;&gt;136218667414384+ -->\n<g id=\"edge130\" class=\"edge\">\n<title>136218667414240&#45;&gt;136218667414384+</title>\n<path fill=\"none\" stroke=\"black\" d=\"M2688.82,-321.5C2698.57,-321.5 2708.04,-321.5 2716.57,-321.5\"/>\n<polygon fill=\"black\" stroke=\"black\" points=\"2716.83,-325 2726.83,-321.5 2716.83,-318 2716.83,-325\"/>\n</g>\n<!-- 136218667414240*&#45;&gt;136218667414240 -->\n<g id=\"edge43\" class=\"edge\">\n<title>136218667414240*&#45;&gt;136218667414240</title>\n<path fill=\"none\" stroke=\"black\" d=\"M2468.21,-321.5C2476.34,-321.5 2485.85,-321.5 2495.94,-321.5\"/>\n<polygon fill=\"black\" stroke=\"black\" points=\"2496.19,-325 2506.19,-321.5 2496.19,-318 2496.19,-325\"/>\n</g>\n<!-- 136218667291440 -->\n<g id=\"node108\" class=\"node\">\n<title>136218667291440</title>\n<polygon fill=\"none\" stroke=\"black\" points=\"1878,-55.5 1878,-91.5 2065,-91.5 2065,-55.5 1878,-55.5\"/>\n<text text-anchor=\"middle\" x=\"1888\" y=\"-69.8\" font-family=\"Times,serif\" font-size=\"14.00\"> </text>\n<polyline fill=\"none\" stroke=\"black\" points=\"1898,-55.5 1898,-91.5 \"/>\n<text text-anchor=\"middle\" x=\"1940.5\" y=\"-69.8\" font-family=\"Times,serif\" font-size=\"14.00\">data &#45;0.0384</text>\n<polyline fill=\"none\" stroke=\"black\" points=\"1983,-55.5 1983,-91.5 \"/>\n<text text-anchor=\"middle\" x=\"2024\" y=\"-69.8\" font-family=\"Times,serif\" font-size=\"14.00\">grad 0.0000</text>\n</g>\n<!-- 136218667415152+ -->\n<g id=\"node137\" class=\"node\">\n<title>136218667415152+</title>\n<ellipse fill=\"none\" stroke=\"black\" cx=\"2128\" cy=\"-73.5\" rx=\"27\" ry=\"18\"/>\n<text text-anchor=\"middle\" x=\"2128\" y=\"-69.8\" font-family=\"Times,serif\" font-size=\"14.00\">+</text>\n</g>\n<!-- 136218667291440&#45;&gt;136218667415152+ -->\n<g id=\"edge111\" class=\"edge\">\n<title>136218667291440&#45;&gt;136218667415152+</title>\n<path fill=\"none\" stroke=\"black\" d=\"M2065.05,-73.5C2074.06,-73.5 2082.79,-73.5 2090.7,-73.5\"/>\n<polygon fill=\"black\" stroke=\"black\" points=\"2090.95,-77 2100.95,-73.5 2090.95,-70 2090.95,-77\"/>\n</g>\n<!-- 136218667291488 -->\n<g id=\"node109\" class=\"node\">\n<title>136218667291488</title>\n<polygon fill=\"none\" stroke=\"black\" points=\"2191,-303.5 2191,-339.5 2378,-339.5 2378,-303.5 2191,-303.5\"/>\n<text text-anchor=\"middle\" x=\"2201\" y=\"-317.8\" font-family=\"Times,serif\" font-size=\"14.00\"> </text>\n<polyline fill=\"none\" stroke=\"black\" points=\"2211,-303.5 2211,-339.5 \"/>\n<text text-anchor=\"middle\" x=\"2253.5\" y=\"-317.8\" font-family=\"Times,serif\" font-size=\"14.00\">data &#45;0.8786</text>\n<polyline fill=\"none\" stroke=\"black\" points=\"2296,-303.5 2296,-339.5 \"/>\n<text text-anchor=\"middle\" x=\"2337\" y=\"-317.8\" font-family=\"Times,serif\" font-size=\"14.00\">grad 0.0000</text>\n</g>\n<!-- 136218667291488&#45;&gt;136218667414240* -->\n<g id=\"edge150\" class=\"edge\">\n<title>136218667291488&#45;&gt;136218667414240*</title>\n<path fill=\"none\" stroke=\"black\" d=\"M2378.05,-321.5C2387.06,-321.5 2395.79,-321.5 2403.7,-321.5\"/>\n<polygon fill=\"black\" stroke=\"black\" points=\"2403.95,-325 2413.95,-321.5 2403.95,-318 2403.95,-325\"/>\n</g>\n<!-- 136218667414384 -->\n<g id=\"node110\" class=\"node\">\n<title>136218667414384</title>\n<polygon fill=\"none\" stroke=\"black\" points=\"2819.5,-313.5 2819.5,-349.5 3001.5,-349.5 3001.5,-313.5 2819.5,-313.5\"/>\n<text text-anchor=\"middle\" x=\"2829.5\" y=\"-327.8\" font-family=\"Times,serif\" font-size=\"14.00\"> </text>\n<polyline fill=\"none\" stroke=\"black\" points=\"2839.5,-313.5 2839.5,-349.5 \"/>\n<text text-anchor=\"middle\" x=\"2879.5\" y=\"-327.8\" font-family=\"Times,serif\" font-size=\"14.00\">data 0.4166</text>\n<polyline fill=\"none\" stroke=\"black\" points=\"2919.5,-313.5 2919.5,-349.5 \"/>\n<text text-anchor=\"middle\" x=\"2960.5\" y=\"-327.8\" font-family=\"Times,serif\" font-size=\"14.00\">grad 0.0000</text>\n</g>\n<!-- 136218667414384&#45;&gt;136218667413856+ -->\n<g id=\"edge74\" class=\"edge\">\n<title>136218667414384&#45;&gt;136218667413856+</title>\n<path fill=\"none\" stroke=\"black\" d=\"M2969.47,-349.51C2990.71,-356.11 3014.03,-363.35 3032.42,-369.07\"/>\n<polygon fill=\"black\" stroke=\"black\" points=\"3031.51,-372.45 3042.09,-372.07 3033.58,-365.76 3031.51,-372.45\"/>\n</g>\n<!-- 136218667414384+&#45;&gt;136218667414384 -->\n<g id=\"edge44\" class=\"edge\">\n<title>136218667414384+&#45;&gt;136218667414384</title>\n<path fill=\"none\" stroke=\"black\" d=\"M2781.21,-323.2C2789.34,-323.72 2798.85,-324.34 2808.94,-324.99\"/>\n<polygon fill=\"black\" stroke=\"black\" points=\"2808.98,-328.5 2819.19,-325.65 2809.44,-321.52 2808.98,-328.5\"/>\n</g>\n<!-- 136218666898560 -->\n<g id=\"node112\" class=\"node\">\n<title>136218666898560</title>\n<polygon fill=\"none\" stroke=\"black\" points=\"0,-225.5 0,-261.5 187,-261.5 187,-225.5 0,-225.5\"/>\n<text text-anchor=\"middle\" x=\"10\" y=\"-239.8\" font-family=\"Times,serif\" font-size=\"14.00\"> </text>\n<polyline fill=\"none\" stroke=\"black\" points=\"20,-225.5 20,-261.5 \"/>\n<text text-anchor=\"middle\" x=\"62.5\" y=\"-239.8\" font-family=\"Times,serif\" font-size=\"14.00\">data &#45;0.9876</text>\n<polyline fill=\"none\" stroke=\"black\" points=\"105,-225.5 105,-261.5 \"/>\n<text text-anchor=\"middle\" x=\"146\" y=\"-239.8\" font-family=\"Times,serif\" font-size=\"14.00\">grad 0.0000</text>\n</g>\n<!-- 136218666898560&#45;&gt;136218667364368* -->\n<g id=\"edge105\" class=\"edge\">\n<title>136218666898560&#45;&gt;136218667364368*</title>\n<path fill=\"none\" stroke=\"black\" d=\"M187.05,-259.67C196.34,-261.3 205.33,-262.87 213.44,-264.29\"/>\n<polygon fill=\"black\" stroke=\"black\" points=\"213.1,-267.78 223.55,-266.05 214.3,-260.88 213.1,-267.78\"/>\n</g>\n<!-- 136218667414672 -->\n<g id=\"node113\" class=\"node\">\n<title>136218667414672</title>\n<polygon fill=\"none\" stroke=\"black\" points=\"2191,-193.5 2191,-229.5 2378,-229.5 2378,-193.5 2191,-193.5\"/>\n<text text-anchor=\"middle\" x=\"2201\" y=\"-207.8\" font-family=\"Times,serif\" font-size=\"14.00\"> </text>\n<polyline fill=\"none\" stroke=\"black\" points=\"2211,-193.5 2211,-229.5 \"/>\n<text text-anchor=\"middle\" x=\"2253.5\" y=\"-207.8\" font-family=\"Times,serif\" font-size=\"14.00\">data &#45;0.3159</text>\n<polyline fill=\"none\" stroke=\"black\" points=\"2296,-193.5 2296,-229.5 \"/>\n<text text-anchor=\"middle\" x=\"2337\" y=\"-207.8\" font-family=\"Times,serif\" font-size=\"14.00\">grad 0.0000</text>\n</g>\n<!-- 136218667414720+ -->\n<g id=\"node117\" class=\"node\">\n<title>136218667414720+</title>\n<ellipse fill=\"none\" stroke=\"black\" cx=\"2441\" cy=\"-211.5\" rx=\"27\" ry=\"18\"/>\n<text text-anchor=\"middle\" x=\"2441\" y=\"-207.8\" font-family=\"Times,serif\" font-size=\"14.00\">+</text>\n</g>\n<!-- 136218667414672&#45;&gt;136218667414720+ -->\n<g id=\"edge179\" class=\"edge\">\n<title>136218667414672&#45;&gt;136218667414720+</title>\n<path fill=\"none\" stroke=\"black\" d=\"M2378.05,-211.5C2387.06,-211.5 2395.79,-211.5 2403.7,-211.5\"/>\n<polygon fill=\"black\" stroke=\"black\" points=\"2403.95,-215 2413.95,-211.5 2403.95,-208 2403.95,-215\"/>\n</g>\n<!-- 136218667414672*&#45;&gt;136218667414672 -->\n<g id=\"edge45\" class=\"edge\">\n<title>136218667414672*&#45;&gt;136218667414672</title>\n<path fill=\"none\" stroke=\"black\" d=\"M2154.51,-234.04C2162.21,-232.7 2171.17,-231.13 2180.73,-229.46\"/>\n<polygon fill=\"black\" stroke=\"black\" points=\"2181.62,-232.86 2190.86,-227.69 2180.41,-225.96 2181.62,-232.86\"/>\n</g>\n<!-- 136218667291824 -->\n<g id=\"node115\" class=\"node\">\n<title>136218667291824</title>\n<polygon fill=\"none\" stroke=\"black\" points=\"3445.5,-526.5 3445.5,-562.5 3627.5,-562.5 3627.5,-526.5 3445.5,-526.5\"/>\n<text text-anchor=\"middle\" x=\"3455.5\" y=\"-540.8\" font-family=\"Times,serif\" font-size=\"14.00\"> </text>\n<polyline fill=\"none\" stroke=\"black\" points=\"3465.5,-526.5 3465.5,-562.5 \"/>\n<text text-anchor=\"middle\" x=\"3505.5\" y=\"-540.8\" font-family=\"Times,serif\" font-size=\"14.00\">data 0.9292</text>\n<polyline fill=\"none\" stroke=\"black\" points=\"3545.5,-526.5 3545.5,-562.5 \"/>\n<text text-anchor=\"middle\" x=\"3586.5\" y=\"-540.8\" font-family=\"Times,serif\" font-size=\"14.00\">grad 0.0000</text>\n</g>\n<!-- 136218667291824&#45;&gt;136218667413040* -->\n<g id=\"edge76\" class=\"edge\">\n<title>136218667291824&#45;&gt;136218667413040*</title>\n<path fill=\"none\" stroke=\"black\" d=\"M3627.82,-544.5C3637.57,-544.5 3647.04,-544.5 3655.57,-544.5\"/>\n<polygon fill=\"black\" stroke=\"black\" points=\"3655.83,-548 3665.83,-544.5 3655.83,-541 3655.83,-548\"/>\n</g>\n<!-- 136218667414720 -->\n<g id=\"node116\" class=\"node\">\n<title>136218667414720</title>\n<polygon fill=\"none\" stroke=\"black\" points=\"2504,-193.5 2504,-229.5 2691,-229.5 2691,-193.5 2504,-193.5\"/>\n<text text-anchor=\"middle\" x=\"2514\" y=\"-207.8\" font-family=\"Times,serif\" font-size=\"14.00\"> </text>\n<polyline fill=\"none\" stroke=\"black\" points=\"2524,-193.5 2524,-229.5 \"/>\n<text text-anchor=\"middle\" x=\"2566.5\" y=\"-207.8\" font-family=\"Times,serif\" font-size=\"14.00\">data &#45;0.4338</text>\n<polyline fill=\"none\" stroke=\"black\" points=\"2609,-193.5 2609,-229.5 \"/>\n<text text-anchor=\"middle\" x=\"2650\" y=\"-207.8\" font-family=\"Times,serif\" font-size=\"14.00\">grad 0.0000</text>\n</g>\n<!-- 136218667414720&#45;&gt;136218667414384+ -->\n<g id=\"edge98\" class=\"edge\">\n<title>136218667414720&#45;&gt;136218667414384+</title>\n<path fill=\"none\" stroke=\"black\" d=\"M2675.53,-229.66C2680.97,-232.23 2686.19,-235.16 2691,-238.5 2712.11,-253.15 2728.97,-277.3 2739.74,-295.78\"/>\n<polygon fill=\"black\" stroke=\"black\" points=\"2736.74,-297.57 2744.68,-304.59 2742.85,-294.15 2736.74,-297.57\"/>\n</g>\n<!-- 136218667414720+&#45;&gt;136218667414720 -->\n<g id=\"edge46\" class=\"edge\">\n<title>136218667414720+&#45;&gt;136218667414720</title>\n<path fill=\"none\" stroke=\"black\" d=\"M2468.21,-211.5C2475.73,-211.5 2484.43,-211.5 2493.67,-211.5\"/>\n<polygon fill=\"black\" stroke=\"black\" points=\"2493.89,-215 2503.89,-211.5 2493.89,-208 2493.89,-215\"/>\n</g>\n<!-- 136218667291872 -->\n<g id=\"node118\" class=\"node\">\n<title>136218667291872</title>\n<polygon fill=\"none\" stroke=\"black\" points=\"1878,-110.5 1878,-146.5 2065,-146.5 2065,-110.5 1878,-110.5\"/>\n<text text-anchor=\"middle\" x=\"1888\" y=\"-124.8\" font-family=\"Times,serif\" font-size=\"14.00\"> </text>\n<polyline fill=\"none\" stroke=\"black\" points=\"1898,-110.5 1898,-146.5 \"/>\n<text text-anchor=\"middle\" x=\"1940.5\" y=\"-124.8\" font-family=\"Times,serif\" font-size=\"14.00\">data &#45;0.8562</text>\n<polyline fill=\"none\" stroke=\"black\" points=\"1983,-110.5 1983,-146.5 \"/>\n<text text-anchor=\"middle\" x=\"2024\" y=\"-124.8\" font-family=\"Times,serif\" font-size=\"14.00\">grad 0.0000</text>\n</g>\n<!-- 136218667291872&#45;&gt;136218667411648+ -->\n<g id=\"edge152\" class=\"edge\">\n<title>136218667291872&#45;&gt;136218667411648+</title>\n<path fill=\"none\" stroke=\"black\" d=\"M2065.05,-145.27C2074.54,-146.99 2083.71,-148.65 2091.95,-150.15\"/>\n<polygon fill=\"black\" stroke=\"black\" points=\"2091.39,-153.6 2101.85,-151.94 2092.64,-146.72 2091.39,-153.6\"/>\n</g>\n<!-- 136218667365616 -->\n<g id=\"node119\" class=\"node\">\n<title>136218667365616</title>\n<polygon fill=\"none\" stroke=\"black\" points=\"939,-372.5 939,-408.5 1126,-408.5 1126,-372.5 939,-372.5\"/>\n<text text-anchor=\"middle\" x=\"949\" y=\"-386.8\" font-family=\"Times,serif\" font-size=\"14.00\"> </text>\n<polyline fill=\"none\" stroke=\"black\" points=\"959,-372.5 959,-408.5 \"/>\n<text text-anchor=\"middle\" x=\"1001.5\" y=\"-386.8\" font-family=\"Times,serif\" font-size=\"14.00\">data &#45;2.4371</text>\n<polyline fill=\"none\" stroke=\"black\" points=\"1044,-372.5 1044,-408.5 \"/>\n<text text-anchor=\"middle\" x=\"1085\" y=\"-386.8\" font-family=\"Times,serif\" font-size=\"14.00\">grad 0.0000</text>\n</g>\n<!-- 136218667365616&#45;&gt;136218667360960+ -->\n<g id=\"edge86\" class=\"edge\">\n<title>136218667365616&#45;&gt;136218667360960+</title>\n<path fill=\"none\" stroke=\"black\" d=\"M1126.05,-390.5C1135.06,-390.5 1143.79,-390.5 1151.7,-390.5\"/>\n<polygon fill=\"black\" stroke=\"black\" points=\"1151.95,-394 1161.95,-390.5 1151.95,-387 1151.95,-394\"/>\n</g>\n<!-- 136218667365616*&#45;&gt;136218667365616 -->\n<g id=\"edge47\" class=\"edge\">\n<title>136218667365616*&#45;&gt;136218667365616</title>\n<path fill=\"none\" stroke=\"black\" d=\"M901.14,-426.78C916.24,-422.58 936.58,-416.92 956.7,-411.32\"/>\n<polygon fill=\"black\" stroke=\"black\" points=\"957.84,-414.63 966.54,-408.58 955.97,-407.89 957.84,-414.63\"/>\n</g>\n<!-- 136218667291968 -->\n<g id=\"node121\" class=\"node\">\n<title>136218667291968</title>\n<polygon fill=\"none\" stroke=\"black\" points=\"1880.5,-220.5 1880.5,-256.5 2062.5,-256.5 2062.5,-220.5 1880.5,-220.5\"/>\n<text text-anchor=\"middle\" x=\"1890.5\" y=\"-234.8\" font-family=\"Times,serif\" font-size=\"14.00\"> </text>\n<polyline fill=\"none\" stroke=\"black\" points=\"1900.5,-220.5 1900.5,-256.5 \"/>\n<text text-anchor=\"middle\" x=\"1940.5\" y=\"-234.8\" font-family=\"Times,serif\" font-size=\"14.00\">data 0.4274</text>\n<polyline fill=\"none\" stroke=\"black\" points=\"1980.5,-220.5 1980.5,-256.5 \"/>\n<text text-anchor=\"middle\" x=\"2021.5\" y=\"-234.8\" font-family=\"Times,serif\" font-size=\"14.00\">grad 0.0000</text>\n</g>\n<!-- 136218667291968&#45;&gt;136218667414672* -->\n<g id=\"edge194\" class=\"edge\">\n<title>136218667291968&#45;&gt;136218667414672*</title>\n<path fill=\"none\" stroke=\"black\" d=\"M2062.82,-238.5C2072.57,-238.5 2082.04,-238.5 2090.57,-238.5\"/>\n<polygon fill=\"black\" stroke=\"black\" points=\"2090.83,-242 2100.83,-238.5 2090.83,-235 2090.83,-242\"/>\n</g>\n<!-- 136218666898752 -->\n<g id=\"node122\" class=\"node\">\n<title>136218666898752</title>\n<polygon fill=\"none\" stroke=\"black\" points=\"628.5,-39.5 628.5,-75.5 810.5,-75.5 810.5,-39.5 628.5,-39.5\"/>\n<text text-anchor=\"middle\" x=\"638.5\" y=\"-53.8\" font-family=\"Times,serif\" font-size=\"14.00\"> </text>\n<polyline fill=\"none\" stroke=\"black\" points=\"648.5,-39.5 648.5,-75.5 \"/>\n<text text-anchor=\"middle\" x=\"688.5\" y=\"-53.8\" font-family=\"Times,serif\" font-size=\"14.00\">data 1.4080</text>\n<polyline fill=\"none\" stroke=\"black\" points=\"728.5,-39.5 728.5,-75.5 \"/>\n<text text-anchor=\"middle\" x=\"769.5\" y=\"-53.8\" font-family=\"Times,serif\" font-size=\"14.00\">grad 0.0000</text>\n</g>\n<!-- 136218666898752&#45;&gt;136218667366816* -->\n<g id=\"edge183\" class=\"edge\">\n<title>136218666898752&#45;&gt;136218667366816*</title>\n<path fill=\"none\" stroke=\"black\" d=\"M786.56,-75.55C795.51,-78.36 804.53,-81.37 813,-84.5 823.49,-88.38 834.71,-93.22 844.68,-97.78\"/>\n<polygon fill=\"black\" stroke=\"black\" points=\"843.25,-100.98 853.79,-102.03 846.2,-94.63 843.25,-100.98\"/>\n</g>\n<!-- 136218667365712 -->\n<g id=\"node123\" class=\"node\">\n<title>136218667365712</title>\n<polygon fill=\"none\" stroke=\"black\" points=\"939,-647.5 939,-683.5 1126,-683.5 1126,-647.5 939,-647.5\"/>\n<text text-anchor=\"middle\" x=\"949\" y=\"-661.8\" font-family=\"Times,serif\" font-size=\"14.00\"> </text>\n<polyline fill=\"none\" stroke=\"black\" points=\"959,-647.5 959,-683.5 \"/>\n<text text-anchor=\"middle\" x=\"1001.5\" y=\"-661.8\" font-family=\"Times,serif\" font-size=\"14.00\">data &#45;1.6915</text>\n<polyline fill=\"none\" stroke=\"black\" points=\"1044,-647.5 1044,-683.5 \"/>\n<text text-anchor=\"middle\" x=\"1085\" y=\"-661.8\" font-family=\"Times,serif\" font-size=\"14.00\">grad 0.0000</text>\n</g>\n<!-- 136218667365712&#45;&gt;136218667366288+ -->\n<g id=\"edge135\" class=\"edge\">\n<title>136218667365712&#45;&gt;136218667366288+</title>\n<path fill=\"none\" stroke=\"black\" d=\"M1126.05,-665.5C1135.06,-665.5 1143.79,-665.5 1151.7,-665.5\"/>\n<polygon fill=\"black\" stroke=\"black\" points=\"1151.95,-669 1161.95,-665.5 1151.95,-662 1151.95,-669\"/>\n</g>\n<!-- 136218667365712*&#45;&gt;136218667365712 -->\n<g id=\"edge48\" class=\"edge\">\n<title>136218667365712*&#45;&gt;136218667365712</title>\n<path fill=\"none\" stroke=\"black\" d=\"M903.21,-665.5C910.73,-665.5 919.43,-665.5 928.67,-665.5\"/>\n<polygon fill=\"black\" stroke=\"black\" points=\"928.89,-669 938.89,-665.5 928.89,-662 928.89,-669\"/>\n</g>\n<!-- 136218667406656 -->\n<g id=\"node125\" class=\"node\">\n<title>136218667406656</title>\n<polygon fill=\"none\" stroke=\"black\" points=\"2191,-248.5 2191,-284.5 2378,-284.5 2378,-248.5 2191,-248.5\"/>\n<text text-anchor=\"middle\" x=\"2201\" y=\"-262.8\" font-family=\"Times,serif\" font-size=\"14.00\"> </text>\n<polyline fill=\"none\" stroke=\"black\" points=\"2211,-248.5 2211,-284.5 \"/>\n<text text-anchor=\"middle\" x=\"2253.5\" y=\"-262.8\" font-family=\"Times,serif\" font-size=\"14.00\">data &#45;0.0900</text>\n<polyline fill=\"none\" stroke=\"black\" points=\"2296,-248.5 2296,-284.5 \"/>\n<text text-anchor=\"middle\" x=\"2337\" y=\"-262.8\" font-family=\"Times,serif\" font-size=\"14.00\">grad 0.0000</text>\n</g>\n<!-- 136218667406656&#45;&gt;136218667403008+ -->\n<g id=\"edge141\" class=\"edge\">\n<title>136218667406656&#45;&gt;136218667403008+</title>\n<path fill=\"none\" stroke=\"black\" d=\"M2378.05,-266.5C2387.06,-266.5 2395.79,-266.5 2403.7,-266.5\"/>\n<polygon fill=\"black\" stroke=\"black\" points=\"2403.95,-270 2413.95,-266.5 2403.95,-263 2403.95,-270\"/>\n</g>\n<!-- 136218667406656*&#45;&gt;136218667406656 -->\n<g id=\"edge49\" class=\"edge\">\n<title>136218667406656*&#45;&gt;136218667406656</title>\n<path fill=\"none\" stroke=\"black\" d=\"M2154.51,-289.04C2162.21,-287.7 2171.17,-286.13 2180.73,-284.46\"/>\n<polygon fill=\"black\" stroke=\"black\" points=\"2181.62,-287.86 2190.86,-282.69 2180.41,-280.96 2181.62,-287.86\"/>\n</g>\n<!-- 136218667292064 -->\n<g id=\"node127\" class=\"node\">\n<title>136218667292064</title>\n<polygon fill=\"none\" stroke=\"black\" points=\"1567.5,-52.5 1567.5,-88.5 1749.5,-88.5 1749.5,-52.5 1567.5,-52.5\"/>\n<text text-anchor=\"middle\" x=\"1577.5\" y=\"-66.8\" font-family=\"Times,serif\" font-size=\"14.00\"> </text>\n<polyline fill=\"none\" stroke=\"black\" points=\"1587.5,-52.5 1587.5,-88.5 \"/>\n<text text-anchor=\"middle\" x=\"1627.5\" y=\"-66.8\" font-family=\"Times,serif\" font-size=\"14.00\">data 0.0919</text>\n<polyline fill=\"none\" stroke=\"black\" points=\"1667.5,-52.5 1667.5,-88.5 \"/>\n<text text-anchor=\"middle\" x=\"1708.5\" y=\"-66.8\" font-family=\"Times,serif\" font-size=\"14.00\">grad 0.0000</text>\n</g>\n<!-- 136218667292064&#45;&gt;136218667415200* -->\n<g id=\"edge207\" class=\"edge\">\n<title>136218667292064&#45;&gt;136218667415200*</title>\n<path fill=\"none\" stroke=\"black\" d=\"M1749.82,-70.5C1759.57,-70.5 1769.04,-70.5 1777.57,-70.5\"/>\n<polygon fill=\"black\" stroke=\"black\" points=\"1777.83,-74 1787.83,-70.5 1777.83,-67 1777.83,-74\"/>\n</g>\n<!-- 136218666907056 -->\n<g id=\"node128\" class=\"node\">\n<title>136218666907056</title>\n<polygon fill=\"none\" stroke=\"black\" points=\"315.5,-197.5 315.5,-233.5 497.5,-233.5 497.5,-197.5 315.5,-197.5\"/>\n<text text-anchor=\"middle\" x=\"325.5\" y=\"-211.8\" font-family=\"Times,serif\" font-size=\"14.00\"> </text>\n<polyline fill=\"none\" stroke=\"black\" points=\"335.5,-197.5 335.5,-233.5 \"/>\n<text text-anchor=\"middle\" x=\"375.5\" y=\"-211.8\" font-family=\"Times,serif\" font-size=\"14.00\">data 0.0240</text>\n<polyline fill=\"none\" stroke=\"black\" points=\"415.5,-197.5 415.5,-233.5 \"/>\n<text text-anchor=\"middle\" x=\"456.5\" y=\"-211.8\" font-family=\"Times,serif\" font-size=\"14.00\">grad 0.0000</text>\n</g>\n<!-- 136218666907056&#45;&gt;136218667360816+ -->\n<g id=\"edge127\" class=\"edge\">\n<title>136218666907056&#45;&gt;136218667360816+</title>\n<path fill=\"none\" stroke=\"black\" d=\"M497.82,-219.59C507.57,-220.03 517.04,-220.46 525.57,-220.85\"/>\n<polygon fill=\"black\" stroke=\"black\" points=\"525.68,-224.36 535.83,-221.31 526,-217.37 525.68,-224.36\"/>\n</g>\n<!-- 136218667292112 -->\n<g id=\"node129\" class=\"node\">\n<title>136218667292112</title>\n<polygon fill=\"none\" stroke=\"black\" points=\"2191,-468.5 2191,-504.5 2378,-504.5 2378,-468.5 2191,-468.5\"/>\n<text text-anchor=\"middle\" x=\"2201\" y=\"-482.8\" font-family=\"Times,serif\" font-size=\"14.00\"> </text>\n<polyline fill=\"none\" stroke=\"black\" points=\"2211,-468.5 2211,-504.5 \"/>\n<text text-anchor=\"middle\" x=\"2253.5\" y=\"-482.8\" font-family=\"Times,serif\" font-size=\"14.00\">data &#45;0.8631</text>\n<polyline fill=\"none\" stroke=\"black\" points=\"2296,-468.5 2296,-504.5 \"/>\n<text text-anchor=\"middle\" x=\"2337\" y=\"-482.8\" font-family=\"Times,serif\" font-size=\"14.00\">grad 0.0000</text>\n</g>\n<!-- 136218667292112&#45;&gt;136218667404928* -->\n<g id=\"edge116\" class=\"edge\">\n<title>136218667292112&#45;&gt;136218667404928*</title>\n<path fill=\"none\" stroke=\"black\" d=\"M2378.05,-486.5C2387.06,-486.5 2395.79,-486.5 2403.7,-486.5\"/>\n<polygon fill=\"black\" stroke=\"black\" points=\"2403.95,-490 2413.95,-486.5 2403.95,-483 2403.95,-490\"/>\n</g>\n<!-- 136218667406896 -->\n<g id=\"node130\" class=\"node\">\n<title>136218667406896</title>\n<polygon fill=\"none\" stroke=\"black\" points=\"1567.5,-853.5 1567.5,-889.5 1749.5,-889.5 1749.5,-853.5 1567.5,-853.5\"/>\n<text text-anchor=\"middle\" x=\"1577.5\" y=\"-867.8\" font-family=\"Times,serif\" font-size=\"14.00\"> </text>\n<polyline fill=\"none\" stroke=\"black\" points=\"1587.5,-853.5 1587.5,-889.5 \"/>\n<text text-anchor=\"middle\" x=\"1627.5\" y=\"-867.8\" font-family=\"Times,serif\" font-size=\"14.00\">data 3.8045</text>\n<polyline fill=\"none\" stroke=\"black\" points=\"1667.5,-853.5 1667.5,-889.5 \"/>\n<text text-anchor=\"middle\" x=\"1708.5\" y=\"-867.8\" font-family=\"Times,serif\" font-size=\"14.00\">grad 0.0000</text>\n</g>\n<!-- 136218667406896&#45;&gt;136218667411312+ -->\n<g id=\"edge171\" class=\"edge\">\n<title>136218667406896&#45;&gt;136218667411312+</title>\n<path fill=\"none\" stroke=\"black\" d=\"M1749.82,-871.5C1759.57,-871.5 1769.04,-871.5 1777.57,-871.5\"/>\n<polygon fill=\"black\" stroke=\"black\" points=\"1777.83,-875 1787.83,-871.5 1777.83,-868 1777.83,-875\"/>\n</g>\n<!-- 136218667406896*&#45;&gt;136218667406896 -->\n<g id=\"edge50\" class=\"edge\">\n<title>136218667406896*&#45;&gt;136218667406896</title>\n<path fill=\"none\" stroke=\"black\" d=\"M1529.21,-871.5C1537.34,-871.5 1546.85,-871.5 1556.94,-871.5\"/>\n<polygon fill=\"black\" stroke=\"black\" points=\"1557.19,-875 1567.19,-871.5 1557.19,-868 1557.19,-875\"/>\n</g>\n<!-- 136218667292208 -->\n<g id=\"node132\" class=\"node\">\n<title>136218667292208</title>\n<polygon fill=\"none\" stroke=\"black\" points=\"2506.5,-578.5 2506.5,-614.5 2688.5,-614.5 2688.5,-578.5 2506.5,-578.5\"/>\n<text text-anchor=\"middle\" x=\"2516.5\" y=\"-592.8\" font-family=\"Times,serif\" font-size=\"14.00\"> </text>\n<polyline fill=\"none\" stroke=\"black\" points=\"2526.5,-578.5 2526.5,-614.5 \"/>\n<text text-anchor=\"middle\" x=\"2566.5\" y=\"-592.8\" font-family=\"Times,serif\" font-size=\"14.00\">data 0.8754</text>\n<polyline fill=\"none\" stroke=\"black\" points=\"2606.5,-578.5 2606.5,-614.5 \"/>\n<text text-anchor=\"middle\" x=\"2647.5\" y=\"-592.8\" font-family=\"Times,serif\" font-size=\"14.00\">grad 0.0000</text>\n</g>\n<!-- 136218667407472* -->\n<g id=\"node159\" class=\"node\">\n<title>136218667407472*</title>\n<ellipse fill=\"none\" stroke=\"black\" cx=\"2754\" cy=\"-596.5\" rx=\"27\" ry=\"18\"/>\n<text text-anchor=\"middle\" x=\"2754\" y=\"-592.8\" font-family=\"Times,serif\" font-size=\"14.00\">*</text>\n</g>\n<!-- 136218667292208&#45;&gt;136218667407472* -->\n<g id=\"edge154\" class=\"edge\">\n<title>136218667292208&#45;&gt;136218667407472*</title>\n<path fill=\"none\" stroke=\"black\" d=\"M2688.82,-596.5C2698.57,-596.5 2708.04,-596.5 2716.57,-596.5\"/>\n<polygon fill=\"black\" stroke=\"black\" points=\"2716.83,-600 2726.83,-596.5 2716.83,-593 2716.83,-600\"/>\n</g>\n<!-- 136218667406944 -->\n<g id=\"node133\" class=\"node\">\n<title>136218667406944</title>\n<polygon fill=\"none\" stroke=\"black\" points=\"2506.5,-743.5 2506.5,-779.5 2688.5,-779.5 2688.5,-743.5 2506.5,-743.5\"/>\n<text text-anchor=\"middle\" x=\"2516.5\" y=\"-757.8\" font-family=\"Times,serif\" font-size=\"14.00\"> </text>\n<polyline fill=\"none\" stroke=\"black\" points=\"2526.5,-743.5 2526.5,-779.5 \"/>\n<text text-anchor=\"middle\" x=\"2566.5\" y=\"-757.8\" font-family=\"Times,serif\" font-size=\"14.00\">data 1.0000</text>\n<polyline fill=\"none\" stroke=\"black\" points=\"2606.5,-743.5 2606.5,-779.5 \"/>\n<text text-anchor=\"middle\" x=\"2647.5\" y=\"-757.8\" font-family=\"Times,serif\" font-size=\"14.00\">grad 0.0000</text>\n</g>\n<!-- 136218667406944&#45;&gt;136218667401952* -->\n<g id=\"edge181\" class=\"edge\">\n<title>136218667406944&#45;&gt;136218667401952*</title>\n<path fill=\"none\" stroke=\"black\" d=\"M2660.94,-779.57C2671.04,-782.73 2681.35,-786.1 2691,-789.5 2701.02,-793.03 2711.79,-797.23 2721.51,-801.17\"/>\n<polygon fill=\"black\" stroke=\"black\" points=\"2720.22,-804.42 2730.8,-804.99 2722.88,-797.95 2720.22,-804.42\"/>\n</g>\n<!-- 136218667406944&#45;&gt;136218667364272* -->\n<g id=\"edge120\" class=\"edge\">\n<title>136218667406944&#45;&gt;136218667364272*</title>\n<path fill=\"none\" stroke=\"black\" d=\"M2680.73,-743.27C2684.46,-740.71 2687.92,-737.8 2691,-734.5 2742.21,-679.62 2692.23,-636.02 2727,-569.5 2728.05,-567.49 2729.28,-565.52 2730.63,-563.62\"/>\n<polygon fill=\"black\" stroke=\"black\" points=\"2733.44,-565.71 2737.06,-555.75 2728.02,-561.28 2733.44,-565.71\"/>\n</g>\n<!-- 136218667406944&#45;&gt;136218667405936* -->\n<g id=\"edge190\" class=\"edge\">\n<title>136218667406944&#45;&gt;136218667405936*</title>\n<path fill=\"none\" stroke=\"black\" d=\"M2688.82,-760.92C2698.57,-760.85 2708.04,-760.79 2716.57,-760.74\"/>\n<polygon fill=\"black\" stroke=\"black\" points=\"2716.85,-764.23 2726.83,-760.67 2716.81,-757.23 2716.85,-764.23\"/>\n</g>\n<!-- 136218667406944&#45;&gt;136218667407472* -->\n<g id=\"edge173\" class=\"edge\">\n<title>136218667406944&#45;&gt;136218667407472*</title>\n<path fill=\"none\" stroke=\"black\" d=\"M2678.19,-743.48C2682.77,-740.88 2687.09,-737.91 2691,-734.5 2708.44,-719.31 2731.23,-659.71 2743.75,-623.99\"/>\n<polygon fill=\"black\" stroke=\"black\" points=\"2747.19,-624.77 2747.15,-614.18 2740.57,-622.48 2747.19,-624.77\"/>\n</g>\n<!-- 136218667406944tanh&#45;&gt;136218667406944 -->\n<g id=\"edge51\" class=\"edge\">\n<title>136218667406944tanh&#45;&gt;136218667406944</title>\n<path fill=\"none\" stroke=\"black\" d=\"M2467.51,-784.04C2475.83,-782.59 2485.62,-780.88 2496.03,-779.06\"/>\n<polygon fill=\"black\" stroke=\"black\" points=\"2496.93,-782.45 2506.18,-777.28 2495.73,-775.56 2496.93,-782.45\"/>\n</g>\n<!-- 136218667366000 -->\n<g id=\"node135\" class=\"node\">\n<title>136218667366000</title>\n<polygon fill=\"none\" stroke=\"black\" points=\"939,-427.5 939,-463.5 1126,-463.5 1126,-427.5 939,-427.5\"/>\n<text text-anchor=\"middle\" x=\"949\" y=\"-441.8\" font-family=\"Times,serif\" font-size=\"14.00\"> </text>\n<polyline fill=\"none\" stroke=\"black\" points=\"959,-427.5 959,-463.5 \"/>\n<text text-anchor=\"middle\" x=\"1001.5\" y=\"-441.8\" font-family=\"Times,serif\" font-size=\"14.00\">data &#45;1.0000</text>\n<polyline fill=\"none\" stroke=\"black\" points=\"1044,-427.5 1044,-463.5 \"/>\n<text text-anchor=\"middle\" x=\"1085\" y=\"-441.8\" font-family=\"Times,serif\" font-size=\"14.00\">grad 0.0000</text>\n</g>\n<!-- 136218667366000&#45;&gt;136218667361344* -->\n<g id=\"edge103\" class=\"edge\">\n<title>136218667366000&#45;&gt;136218667361344*</title>\n<path fill=\"none\" stroke=\"black\" d=\"M1126.05,-445.5C1135.06,-445.5 1143.79,-445.5 1151.7,-445.5\"/>\n<polygon fill=\"black\" stroke=\"black\" points=\"1151.95,-449 1161.95,-445.5 1151.95,-442 1151.95,-449\"/>\n</g>\n<!-- 136218667415152 -->\n<g id=\"node136\" class=\"node\">\n<title>136218667415152</title>\n<polygon fill=\"none\" stroke=\"black\" points=\"2191,-69.5 2191,-105.5 2378,-105.5 2378,-69.5 2191,-69.5\"/>\n<text text-anchor=\"middle\" x=\"2201\" y=\"-83.8\" font-family=\"Times,serif\" font-size=\"14.00\"> </text>\n<polyline fill=\"none\" stroke=\"black\" points=\"2211,-69.5 2211,-105.5 \"/>\n<text text-anchor=\"middle\" x=\"2253.5\" y=\"-83.8\" font-family=\"Times,serif\" font-size=\"14.00\">data &#45;0.1179</text>\n<polyline fill=\"none\" stroke=\"black\" points=\"2296,-69.5 2296,-105.5 \"/>\n<text text-anchor=\"middle\" x=\"2337\" y=\"-83.8\" font-family=\"Times,serif\" font-size=\"14.00\">grad 0.0000</text>\n</g>\n<!-- 136218667415152&#45;&gt;136218667414720+ -->\n<g id=\"edge191\" class=\"edge\">\n<title>136218667415152&#45;&gt;136218667414720+</title>\n<path fill=\"none\" stroke=\"black\" d=\"M2339.04,-105.69C2352.54,-111.72 2366.46,-119.3 2378,-128.5 2397.76,-144.26 2414.5,-167.72 2425.59,-185.68\"/>\n<polygon fill=\"black\" stroke=\"black\" points=\"2422.73,-187.72 2430.86,-194.51 2428.74,-184.13 2422.73,-187.72\"/>\n</g>\n<!-- 136218667415152+&#45;&gt;136218667415152 -->\n<g id=\"edge52\" class=\"edge\">\n<title>136218667415152+&#45;&gt;136218667415152</title>\n<path fill=\"none\" stroke=\"black\" d=\"M2154.86,-75.84C2162.51,-76.54 2171.39,-77.34 2180.84,-78.2\"/>\n<polygon fill=\"black\" stroke=\"black\" points=\"2180.6,-81.69 2190.87,-79.11 2181.23,-74.72 2180.6,-81.69\"/>\n</g>\n<!-- 136218667406992 -->\n<g id=\"node138\" class=\"node\">\n<title>136218667406992</title>\n<polygon fill=\"none\" stroke=\"black\" points=\"4197,-409.5 4197,-445.5 4379,-445.5 4379,-409.5 4197,-409.5\"/>\n<text text-anchor=\"middle\" x=\"4207\" y=\"-423.8\" font-family=\"Times,serif\" font-size=\"14.00\"> </text>\n<polyline fill=\"none\" stroke=\"black\" points=\"4217,-409.5 4217,-445.5 \"/>\n<text text-anchor=\"middle\" x=\"4257\" y=\"-423.8\" font-family=\"Times,serif\" font-size=\"14.00\">data 0.5366</text>\n<polyline fill=\"none\" stroke=\"black\" points=\"4297,-409.5 4297,-445.5 \"/>\n<text text-anchor=\"middle\" x=\"4338\" y=\"-423.8\" font-family=\"Times,serif\" font-size=\"14.00\">grad 0.0000</text>\n</g>\n<!-- 136218667406992&#45;&gt;136218667409296+ -->\n<g id=\"edge131\" class=\"edge\">\n<title>136218667406992&#45;&gt;136218667409296+</title>\n<path fill=\"none\" stroke=\"black\" d=\"M4379.18,-428.82C4466.96,-429.98 4604.13,-431.5 4723,-431.5 4723,-431.5 4723,-431.5 4879,-431.5 4977.05,-431.5 5092.28,-443.39 5149.3,-450.07\"/>\n<polygon fill=\"black\" stroke=\"black\" points=\"5148.91,-453.55 5159.26,-451.25 5149.74,-446.6 5148.91,-453.55\"/>\n</g>\n<!-- 136218667406992*&#45;&gt;136218667406992 -->\n<g id=\"edge53\" class=\"edge\">\n<title>136218667406992*&#45;&gt;136218667406992</title>\n<path fill=\"none\" stroke=\"black\" d=\"M3719.86,-381.59C3799.84,-388.07 4046.21,-408.01 4186.51,-419.37\"/>\n<polygon fill=\"black\" stroke=\"black\" points=\"4186.59,-422.88 4196.84,-420.2 4187.15,-415.91 4186.59,-422.88\"/>\n</g>\n<!-- 136218667415200 -->\n<g id=\"node140\" class=\"node\">\n<title>136218667415200</title>\n<polygon fill=\"none\" stroke=\"black\" points=\"1878,-0.5 1878,-36.5 2065,-36.5 2065,-0.5 1878,-0.5\"/>\n<text text-anchor=\"middle\" x=\"1888\" y=\"-14.8\" font-family=\"Times,serif\" font-size=\"14.00\"> </text>\n<polyline fill=\"none\" stroke=\"black\" points=\"1898,-0.5 1898,-36.5 \"/>\n<text text-anchor=\"middle\" x=\"1940.5\" y=\"-14.8\" font-family=\"Times,serif\" font-size=\"14.00\">data &#45;0.0795</text>\n<polyline fill=\"none\" stroke=\"black\" points=\"1983,-0.5 1983,-36.5 \"/>\n<text text-anchor=\"middle\" x=\"2024\" y=\"-14.8\" font-family=\"Times,serif\" font-size=\"14.00\">grad 0.0000</text>\n</g>\n<!-- 136218667415200&#45;&gt;136218667415152+ -->\n<g id=\"edge124\" class=\"edge\">\n<title>136218667415200&#45;&gt;136218667415152+</title>\n<path fill=\"none\" stroke=\"black\" d=\"M2038.56,-36.55C2047.51,-39.36 2056.53,-42.37 2065,-45.5 2075.49,-49.38 2086.71,-54.22 2096.68,-58.78\"/>\n<polygon fill=\"black\" stroke=\"black\" points=\"2095.25,-61.98 2105.79,-63.03 2098.2,-55.63 2095.25,-61.98\"/>\n</g>\n<!-- 136218667415200*&#45;&gt;136218667415200 -->\n<g id=\"edge54\" class=\"edge\">\n<title>136218667415200*&#45;&gt;136218667415200</title>\n<path fill=\"none\" stroke=\"black\" d=\"M1838.18,-60.93C1849.91,-56.03 1864.62,-50.14 1878,-45.5 1883.81,-43.49 1889.86,-41.49 1895.95,-39.56\"/>\n<polygon fill=\"black\" stroke=\"black\" points=\"1897.04,-42.89 1905.55,-36.57 1894.96,-36.2 1897.04,-42.89\"/>\n</g>\n<!-- 136218667292256 -->\n<g id=\"node142\" class=\"node\">\n<title>136218667292256</title>\n<polygon fill=\"none\" stroke=\"black\" points=\"1567.5,-684.5 1567.5,-720.5 1749.5,-720.5 1749.5,-684.5 1567.5,-684.5\"/>\n<text text-anchor=\"middle\" x=\"1577.5\" y=\"-698.8\" font-family=\"Times,serif\" font-size=\"14.00\"> </text>\n<polyline fill=\"none\" stroke=\"black\" points=\"1587.5,-684.5 1587.5,-720.5 \"/>\n<text text-anchor=\"middle\" x=\"1627.5\" y=\"-698.8\" font-family=\"Times,serif\" font-size=\"14.00\">data 1.1665</text>\n<polyline fill=\"none\" stroke=\"black\" points=\"1667.5,-684.5 1667.5,-720.5 \"/>\n<text text-anchor=\"middle\" x=\"1708.5\" y=\"-698.8\" font-family=\"Times,serif\" font-size=\"14.00\">grad 0.0000</text>\n</g>\n<!-- 136218667292256&#45;&gt;136218667416016* -->\n<g id=\"edge101\" class=\"edge\">\n<title>136218667292256&#45;&gt;136218667416016*</title>\n<path fill=\"none\" stroke=\"black\" d=\"M1749.82,-702.5C1759.57,-702.5 1769.04,-702.5 1777.57,-702.5\"/>\n<polygon fill=\"black\" stroke=\"black\" points=\"1777.83,-706 1787.83,-702.5 1777.83,-699 1777.83,-706\"/>\n</g>\n<!-- 136218667292352 -->\n<g id=\"node143\" class=\"node\">\n<title>136218667292352</title>\n<polygon fill=\"none\" stroke=\"black\" points=\"1880.5,-620.5 1880.5,-656.5 2062.5,-656.5 2062.5,-620.5 1880.5,-620.5\"/>\n<text text-anchor=\"middle\" x=\"1890.5\" y=\"-634.8\" font-family=\"Times,serif\" font-size=\"14.00\"> </text>\n<polyline fill=\"none\" stroke=\"black\" points=\"1900.5,-620.5 1900.5,-656.5 \"/>\n<text text-anchor=\"middle\" x=\"1940.5\" y=\"-634.8\" font-family=\"Times,serif\" font-size=\"14.00\">data 1.9885</text>\n<polyline fill=\"none\" stroke=\"black\" points=\"1980.5,-620.5 1980.5,-656.5 \"/>\n<text text-anchor=\"middle\" x=\"2021.5\" y=\"-634.8\" font-family=\"Times,serif\" font-size=\"14.00\">grad 0.0000</text>\n</g>\n<!-- 136218667292352&#45;&gt;136218667408480* -->\n<g id=\"edge92\" class=\"edge\">\n<title>136218667292352&#45;&gt;136218667408480*</title>\n<path fill=\"none\" stroke=\"black\" d=\"M2062.82,-638.5C2072.57,-638.5 2082.04,-638.5 2090.57,-638.5\"/>\n<polygon fill=\"black\" stroke=\"black\" points=\"2090.83,-642 2100.83,-638.5 2090.83,-635 2090.83,-642\"/>\n</g>\n<!-- 136218667292400 -->\n<g id=\"node144\" class=\"node\">\n<title>136218667292400</title>\n<polygon fill=\"none\" stroke=\"black\" points=\"2504,-853.5 2504,-889.5 2691,-889.5 2691,-853.5 2504,-853.5\"/>\n<text text-anchor=\"middle\" x=\"2514\" y=\"-867.8\" font-family=\"Times,serif\" font-size=\"14.00\"> </text>\n<polyline fill=\"none\" stroke=\"black\" points=\"2524,-853.5 2524,-889.5 \"/>\n<text text-anchor=\"middle\" x=\"2566.5\" y=\"-867.8\" font-family=\"Times,serif\" font-size=\"14.00\">data &#45;0.3229</text>\n<polyline fill=\"none\" stroke=\"black\" points=\"2609,-853.5 2609,-889.5 \"/>\n<text text-anchor=\"middle\" x=\"2650\" y=\"-867.8\" font-family=\"Times,serif\" font-size=\"14.00\">grad 0.0000</text>\n</g>\n<!-- 136218667292400&#45;&gt;136218667401952* -->\n<g id=\"edge114\" class=\"edge\">\n<title>136218667292400&#45;&gt;136218667401952*</title>\n<path fill=\"none\" stroke=\"black\" d=\"M2665.14,-853.5C2673.91,-850.71 2682.73,-847.68 2691,-844.5 2701.74,-840.37 2713.17,-835.1 2723.25,-830.14\"/>\n<polygon fill=\"black\" stroke=\"black\" points=\"2725.07,-833.14 2732.43,-825.52 2721.93,-826.89 2725.07,-833.14\"/>\n</g>\n<!-- 136218667292448 -->\n<g id=\"node145\" class=\"node\">\n<title>136218667292448</title>\n<polygon fill=\"none\" stroke=\"black\" points=\"628.5,-360.5 628.5,-396.5 810.5,-396.5 810.5,-360.5 628.5,-360.5\"/>\n<text text-anchor=\"middle\" x=\"638.5\" y=\"-374.8\" font-family=\"Times,serif\" font-size=\"14.00\"> </text>\n<polyline fill=\"none\" stroke=\"black\" points=\"648.5,-360.5 648.5,-396.5 \"/>\n<text text-anchor=\"middle\" x=\"688.5\" y=\"-374.8\" font-family=\"Times,serif\" font-size=\"14.00\">data 0.9072</text>\n<polyline fill=\"none\" stroke=\"black\" points=\"728.5,-360.5 728.5,-396.5 \"/>\n<text text-anchor=\"middle\" x=\"769.5\" y=\"-374.8\" font-family=\"Times,serif\" font-size=\"14.00\">grad 0.0000</text>\n</g>\n<!-- 136218667366192+ -->\n<g id=\"node147\" class=\"node\">\n<title>136218667366192+</title>\n<ellipse fill=\"none\" stroke=\"black\" cx=\"876\" cy=\"-335.5\" rx=\"27\" ry=\"18\"/>\n<text text-anchor=\"middle\" x=\"876\" y=\"-331.8\" font-family=\"Times,serif\" font-size=\"14.00\">+</text>\n</g>\n<!-- 136218667292448&#45;&gt;136218667366192+ -->\n<g id=\"edge118\" class=\"edge\">\n<title>136218667292448&#45;&gt;136218667366192+</title>\n<path fill=\"none\" stroke=\"black\" d=\"M785.57,-360.39C804.52,-355.12 824.46,-349.57 840.69,-345.05\"/>\n<polygon fill=\"black\" stroke=\"black\" points=\"842.08,-348.29 850.78,-342.24 840.21,-341.55 842.08,-348.29\"/>\n</g>\n<!-- 136218667366192 -->\n<g id=\"node146\" class=\"node\">\n<title>136218667366192</title>\n<polygon fill=\"none\" stroke=\"black\" points=\"941.5,-317.5 941.5,-353.5 1123.5,-353.5 1123.5,-317.5 941.5,-317.5\"/>\n<text text-anchor=\"middle\" x=\"951.5\" y=\"-331.8\" font-family=\"Times,serif\" font-size=\"14.00\"> </text>\n<polyline fill=\"none\" stroke=\"black\" points=\"961.5,-317.5 961.5,-353.5 \"/>\n<text text-anchor=\"middle\" x=\"1001.5\" y=\"-331.8\" font-family=\"Times,serif\" font-size=\"14.00\">data 2.6222</text>\n<polyline fill=\"none\" stroke=\"black\" points=\"1041.5,-317.5 1041.5,-353.5 \"/>\n<text text-anchor=\"middle\" x=\"1082.5\" y=\"-331.8\" font-family=\"Times,serif\" font-size=\"14.00\">grad 0.0000</text>\n</g>\n<!-- 136218667366192&#45;&gt;136218667360960+ -->\n<g id=\"edge122\" class=\"edge\">\n<title>136218667366192&#45;&gt;136218667360960+</title>\n<path fill=\"none\" stroke=\"black\" d=\"M1099.56,-353.55C1108.51,-356.36 1117.53,-359.37 1126,-362.5 1136.49,-366.38 1147.71,-371.22 1157.68,-375.78\"/>\n<polygon fill=\"black\" stroke=\"black\" points=\"1156.25,-378.98 1166.79,-380.03 1159.2,-372.63 1156.25,-378.98\"/>\n</g>\n<!-- 136218667366192+&#45;&gt;136218667366192 -->\n<g id=\"edge55\" class=\"edge\">\n<title>136218667366192+&#45;&gt;136218667366192</title>\n<path fill=\"none\" stroke=\"black\" d=\"M903.21,-335.5C911.34,-335.5 920.85,-335.5 930.94,-335.5\"/>\n<polygon fill=\"black\" stroke=\"black\" points=\"931.19,-339 941.19,-335.5 931.19,-332 931.19,-339\"/>\n</g>\n<!-- 136218667366288 -->\n<g id=\"node148\" class=\"node\">\n<title>136218667366288</title>\n<polygon fill=\"none\" stroke=\"black\" points=\"1252,-605.5 1252,-641.5 1439,-641.5 1439,-605.5 1252,-605.5\"/>\n<text text-anchor=\"middle\" x=\"1262\" y=\"-619.8\" font-family=\"Times,serif\" font-size=\"14.00\"> </text>\n<polyline fill=\"none\" stroke=\"black\" points=\"1272,-605.5 1272,-641.5 \"/>\n<text text-anchor=\"middle\" x=\"1314.5\" y=\"-619.8\" font-family=\"Times,serif\" font-size=\"14.00\">data &#45;1.5544</text>\n<polyline fill=\"none\" stroke=\"black\" points=\"1357,-605.5 1357,-641.5 \"/>\n<text text-anchor=\"middle\" x=\"1398\" y=\"-619.8\" font-family=\"Times,serif\" font-size=\"14.00\">grad 0.0000</text>\n</g>\n<!-- 136218667366288&#45;&gt;136218667404256+ -->\n<g id=\"edge89\" class=\"edge\">\n<title>136218667366288&#45;&gt;136218667404256+</title>\n<path fill=\"none\" stroke=\"black\" d=\"M1408.41,-605.47C1418.67,-602.28 1429.16,-598.89 1439,-595.5 1448.8,-592.13 1459.35,-588.16 1468.93,-584.44\"/>\n<polygon fill=\"black\" stroke=\"black\" points=\"1470.45,-587.61 1478.48,-580.69 1467.89,-581.09 1470.45,-587.61\"/>\n</g>\n<!-- 136218667366288+&#45;&gt;136218667366288 -->\n<g id=\"edge56\" class=\"edge\">\n<title>136218667366288+&#45;&gt;136218667366288</title>\n<path fill=\"none\" stroke=\"black\" d=\"M1214.48,-658.84C1229.18,-654.85 1248.77,-649.52 1268.28,-644.22\"/>\n<polygon fill=\"black\" stroke=\"black\" points=\"1269.4,-647.54 1278.13,-641.54 1267.56,-640.79 1269.4,-647.54\"/>\n</g>\n<!-- 136218667366336 -->\n<g id=\"node150\" class=\"node\">\n<title>136218667366336</title>\n<polygon fill=\"none\" stroke=\"black\" points=\"628.5,-305.5 628.5,-341.5 810.5,-341.5 810.5,-305.5 628.5,-305.5\"/>\n<text text-anchor=\"middle\" x=\"638.5\" y=\"-319.8\" font-family=\"Times,serif\" font-size=\"14.00\"> </text>\n<polyline fill=\"none\" stroke=\"black\" points=\"648.5,-305.5 648.5,-341.5 \"/>\n<text text-anchor=\"middle\" x=\"688.5\" y=\"-319.8\" font-family=\"Times,serif\" font-size=\"14.00\">data 1.7151</text>\n<polyline fill=\"none\" stroke=\"black\" points=\"728.5,-305.5 728.5,-341.5 \"/>\n<text text-anchor=\"middle\" x=\"769.5\" y=\"-319.8\" font-family=\"Times,serif\" font-size=\"14.00\">grad 0.0000</text>\n</g>\n<!-- 136218667366336&#45;&gt;136218667366192+ -->\n<g id=\"edge145\" class=\"edge\">\n<title>136218667366336&#45;&gt;136218667366192+</title>\n<path fill=\"none\" stroke=\"black\" d=\"M810.82,-330.52C820.77,-331.29 830.43,-332.04 839.1,-332.71\"/>\n<polygon fill=\"black\" stroke=\"black\" points=\"838.9,-336.21 849.14,-333.49 839.44,-329.23 838.9,-336.21\"/>\n</g>\n<!-- 136218667366336*&#45;&gt;136218667366336 -->\n<g id=\"edge57\" class=\"edge\">\n<title>136218667366336*&#45;&gt;136218667366336</title>\n<path fill=\"none\" stroke=\"black\" d=\"M590.21,-325.16C598.34,-325.06 607.85,-324.93 617.94,-324.8\"/>\n<polygon fill=\"black\" stroke=\"black\" points=\"618.24,-328.3 628.19,-324.67 618.15,-321.3 618.24,-328.3\"/>\n</g>\n<!-- 136218667292640 -->\n<g id=\"node152\" class=\"node\">\n<title>136218667292640</title>\n<polygon fill=\"none\" stroke=\"black\" points=\"1880.5,-275.5 1880.5,-311.5 2062.5,-311.5 2062.5,-275.5 1880.5,-275.5\"/>\n<text text-anchor=\"middle\" x=\"1890.5\" y=\"-289.8\" font-family=\"Times,serif\" font-size=\"14.00\"> </text>\n<polyline fill=\"none\" stroke=\"black\" points=\"1900.5,-275.5 1900.5,-311.5 \"/>\n<text text-anchor=\"middle\" x=\"1940.5\" y=\"-289.8\" font-family=\"Times,serif\" font-size=\"14.00\">data 0.1218</text>\n<polyline fill=\"none\" stroke=\"black\" points=\"1980.5,-275.5 1980.5,-311.5 \"/>\n<text text-anchor=\"middle\" x=\"2021.5\" y=\"-289.8\" font-family=\"Times,serif\" font-size=\"14.00\">grad 0.0000</text>\n</g>\n<!-- 136218667292640&#45;&gt;136218667406656* -->\n<g id=\"edge167\" class=\"edge\">\n<title>136218667292640&#45;&gt;136218667406656*</title>\n<path fill=\"none\" stroke=\"black\" d=\"M2062.82,-293.5C2072.57,-293.5 2082.04,-293.5 2090.57,-293.5\"/>\n<polygon fill=\"black\" stroke=\"black\" points=\"2090.83,-297 2100.83,-293.5 2090.83,-290 2090.83,-297\"/>\n</g>\n<!-- 136218667292688 -->\n<g id=\"node153\" class=\"node\">\n<title>136218667292688</title>\n<polygon fill=\"none\" stroke=\"black\" points=\"2506.5,-798.5 2506.5,-834.5 2688.5,-834.5 2688.5,-798.5 2506.5,-798.5\"/>\n<text text-anchor=\"middle\" x=\"2516.5\" y=\"-812.8\" font-family=\"Times,serif\" font-size=\"14.00\"> </text>\n<polyline fill=\"none\" stroke=\"black\" points=\"2526.5,-798.5 2526.5,-834.5 \"/>\n<text text-anchor=\"middle\" x=\"2566.5\" y=\"-812.8\" font-family=\"Times,serif\" font-size=\"14.00\">data 1.2034</text>\n<polyline fill=\"none\" stroke=\"black\" points=\"2606.5,-798.5 2606.5,-834.5 \"/>\n<text text-anchor=\"middle\" x=\"2647.5\" y=\"-812.8\" font-family=\"Times,serif\" font-size=\"14.00\">grad 0.0000</text>\n</g>\n<!-- 136218667292688&#45;&gt;136218667405936* -->\n<g id=\"edge178\" class=\"edge\">\n<title>136218667292688&#45;&gt;136218667405936*</title>\n<path fill=\"none\" stroke=\"black\" d=\"M2665.1,-798.4C2673.88,-795.62 2682.7,-792.63 2691,-789.5 2701.62,-785.49 2712.94,-780.44 2722.96,-775.68\"/>\n<polygon fill=\"black\" stroke=\"black\" points=\"2724.64,-778.76 2732.11,-771.25 2721.59,-772.46 2724.64,-778.76\"/>\n</g>\n<!-- 136218667415584 -->\n<g id=\"node154\" class=\"node\">\n<title>136218667415584</title>\n<polygon fill=\"none\" stroke=\"black\" points=\"1567.5,-908.5 1567.5,-944.5 1749.5,-944.5 1749.5,-908.5 1567.5,-908.5\"/>\n<text text-anchor=\"middle\" x=\"1577.5\" y=\"-922.8\" font-family=\"Times,serif\" font-size=\"14.00\"> </text>\n<polyline fill=\"none\" stroke=\"black\" points=\"1587.5,-908.5 1587.5,-944.5 \"/>\n<text text-anchor=\"middle\" x=\"1627.5\" y=\"-922.8\" font-family=\"Times,serif\" font-size=\"14.00\">data 1.7983</text>\n<polyline fill=\"none\" stroke=\"black\" points=\"1667.5,-908.5 1667.5,-944.5 \"/>\n<text text-anchor=\"middle\" x=\"1708.5\" y=\"-922.8\" font-family=\"Times,serif\" font-size=\"14.00\">grad 0.0000</text>\n</g>\n<!-- 136218667415584&#45;&gt;136218667411312+ -->\n<g id=\"edge209\" class=\"edge\">\n<title>136218667415584&#45;&gt;136218667411312+</title>\n<path fill=\"none\" stroke=\"black\" d=\"M1725.56,-908.45C1734.51,-905.64 1743.53,-902.63 1752,-899.5 1762.49,-895.62 1773.71,-890.78 1783.68,-886.22\"/>\n<polygon fill=\"black\" stroke=\"black\" points=\"1785.2,-889.37 1792.79,-881.97 1782.25,-883.02 1785.2,-889.37\"/>\n</g>\n<!-- 136218667415584+&#45;&gt;136218667415584 -->\n<g id=\"edge58\" class=\"edge\">\n<title>136218667415584+&#45;&gt;136218667415584</title>\n<path fill=\"none\" stroke=\"black\" d=\"M1529.21,-926.5C1537.34,-926.5 1546.85,-926.5 1556.94,-926.5\"/>\n<polygon fill=\"black\" stroke=\"black\" points=\"1557.19,-930 1567.19,-926.5 1557.19,-923 1557.19,-930\"/>\n</g>\n<!-- 136218667366432 -->\n<g id=\"node156\" class=\"node\">\n<title>136218667366432</title>\n<polygon fill=\"none\" stroke=\"black\" points=\"628.5,-619.5 628.5,-655.5 810.5,-655.5 810.5,-619.5 628.5,-619.5\"/>\n<text text-anchor=\"middle\" x=\"638.5\" y=\"-633.8\" font-family=\"Times,serif\" font-size=\"14.00\"> </text>\n<polyline fill=\"none\" stroke=\"black\" points=\"648.5,-619.5 648.5,-655.5 \"/>\n<text text-anchor=\"middle\" x=\"688.5\" y=\"-633.8\" font-family=\"Times,serif\" font-size=\"14.00\">data 2.0000</text>\n<polyline fill=\"none\" stroke=\"black\" points=\"728.5,-619.5 728.5,-655.5 \"/>\n<text text-anchor=\"middle\" x=\"769.5\" y=\"-633.8\" font-family=\"Times,serif\" font-size=\"14.00\">grad 0.0000</text>\n</g>\n<!-- 136218667366432&#45;&gt;136218667365712* -->\n<g id=\"edge113\" class=\"edge\">\n<title>136218667366432&#45;&gt;136218667365712*</title>\n<path fill=\"none\" stroke=\"black\" d=\"M810.82,-653.87C821.07,-655.73 831.01,-657.53 839.88,-659.13\"/>\n<polygon fill=\"black\" stroke=\"black\" points=\"839.29,-662.58 849.75,-660.92 840.54,-655.7 839.29,-662.58\"/>\n</g>\n<!-- 136218667292736 -->\n<g id=\"node157\" class=\"node\">\n<title>136218667292736</title>\n<polygon fill=\"none\" stroke=\"black\" points=\"1565,-440.5 1565,-476.5 1752,-476.5 1752,-440.5 1565,-440.5\"/>\n<text text-anchor=\"middle\" x=\"1575\" y=\"-454.8\" font-family=\"Times,serif\" font-size=\"14.00\"> </text>\n<polyline fill=\"none\" stroke=\"black\" points=\"1585,-440.5 1585,-476.5 \"/>\n<text text-anchor=\"middle\" x=\"1627.5\" y=\"-454.8\" font-family=\"Times,serif\" font-size=\"14.00\">data &#45;0.9985</text>\n<polyline fill=\"none\" stroke=\"black\" points=\"1670,-440.5 1670,-476.5 \"/>\n<text text-anchor=\"middle\" x=\"1711\" y=\"-454.8\" font-family=\"Times,serif\" font-size=\"14.00\">grad 0.0000</text>\n</g>\n<!-- 136218667292736&#45;&gt;136218667405456* -->\n<g id=\"edge93\" class=\"edge\">\n<title>136218667292736&#45;&gt;136218667405456*</title>\n<path fill=\"none\" stroke=\"black\" d=\"M1752.05,-458.5C1761.06,-458.5 1769.79,-458.5 1777.7,-458.5\"/>\n<polygon fill=\"black\" stroke=\"black\" points=\"1777.95,-462 1787.95,-458.5 1777.95,-455 1777.95,-462\"/>\n</g>\n<!-- 136218667407472 -->\n<g id=\"node158\" class=\"node\">\n<title>136218667407472</title>\n<polygon fill=\"none\" stroke=\"black\" points=\"2819.5,-578.5 2819.5,-614.5 3001.5,-614.5 3001.5,-578.5 2819.5,-578.5\"/>\n<text text-anchor=\"middle\" x=\"2829.5\" y=\"-592.8\" font-family=\"Times,serif\" font-size=\"14.00\"> </text>\n<polyline fill=\"none\" stroke=\"black\" points=\"2839.5,-578.5 2839.5,-614.5 \"/>\n<text text-anchor=\"middle\" x=\"2879.5\" y=\"-592.8\" font-family=\"Times,serif\" font-size=\"14.00\">data 0.8754</text>\n<polyline fill=\"none\" stroke=\"black\" points=\"2919.5,-578.5 2919.5,-614.5 \"/>\n<text text-anchor=\"middle\" x=\"2960.5\" y=\"-592.8\" font-family=\"Times,serif\" font-size=\"14.00\">grad 0.0000</text>\n</g>\n<!-- 136218667407472&#45;&gt;136218667412752+ -->\n<g id=\"edge200\" class=\"edge\">\n<title>136218667407472&#45;&gt;136218667412752+</title>\n<path fill=\"none\" stroke=\"black\" d=\"M2986.1,-578.43C2992.39,-575.58 2998.46,-572.29 3004,-568.5 3024.1,-554.76 3040.72,-532.5 3051.68,-515.1\"/>\n<polygon fill=\"black\" stroke=\"black\" points=\"3054.69,-516.89 3056.88,-506.52 3048.7,-513.26 3054.69,-516.89\"/>\n</g>\n<!-- 136218667407472*&#45;&gt;136218667407472 -->\n<g id=\"edge59\" class=\"edge\">\n<title>136218667407472*&#45;&gt;136218667407472</title>\n<path fill=\"none\" stroke=\"black\" d=\"M2781.21,-596.5C2789.34,-596.5 2798.85,-596.5 2808.94,-596.5\"/>\n<polygon fill=\"black\" stroke=\"black\" points=\"2809.19,-600 2819.19,-596.5 2809.19,-593 2809.19,-600\"/>\n</g>\n<!-- 136218667292784 -->\n<g id=\"node160\" class=\"node\">\n<title>136218667292784</title>\n<polygon fill=\"none\" stroke=\"black\" points=\"2191,-578.5 2191,-614.5 2378,-614.5 2378,-578.5 2191,-578.5\"/>\n<text text-anchor=\"middle\" x=\"2201\" y=\"-592.8\" font-family=\"Times,serif\" font-size=\"14.00\"> </text>\n<polyline fill=\"none\" stroke=\"black\" points=\"2211,-578.5 2211,-614.5 \"/>\n<text text-anchor=\"middle\" x=\"2253.5\" y=\"-592.8\" font-family=\"Times,serif\" font-size=\"14.00\">data &#45;0.6161</text>\n<polyline fill=\"none\" stroke=\"black\" points=\"2296,-578.5 2296,-614.5 \"/>\n<text text-anchor=\"middle\" x=\"2337\" y=\"-592.8\" font-family=\"Times,serif\" font-size=\"14.00\">grad 0.0000</text>\n</g>\n<!-- 136218667292784&#45;&gt;136218667407952* -->\n<g id=\"edge117\" class=\"edge\">\n<title>136218667292784&#45;&gt;136218667407952*</title>\n<path fill=\"none\" stroke=\"black\" d=\"M2349.02,-578.35C2358.79,-575.24 2368.71,-571.92 2378,-568.5 2388.25,-564.73 2399.23,-560.14 2409.07,-555.82\"/>\n<polygon fill=\"black\" stroke=\"black\" points=\"2410.74,-558.9 2418.45,-551.63 2407.89,-552.51 2410.74,-558.9\"/>\n</g>\n<!-- 136218667292832 -->\n<g id=\"node161\" class=\"node\">\n<title>136218667292832</title>\n<polygon fill=\"none\" stroke=\"black\" points=\"1878,-495.5 1878,-531.5 2065,-531.5 2065,-495.5 1878,-495.5\"/>\n<text text-anchor=\"middle\" x=\"1888\" y=\"-509.8\" font-family=\"Times,serif\" font-size=\"14.00\"> </text>\n<polyline fill=\"none\" stroke=\"black\" points=\"1898,-495.5 1898,-531.5 \"/>\n<text text-anchor=\"middle\" x=\"1940.5\" y=\"-509.8\" font-family=\"Times,serif\" font-size=\"14.00\">data &#45;0.2457</text>\n<polyline fill=\"none\" stroke=\"black\" points=\"1983,-495.5 1983,-531.5 \"/>\n<text text-anchor=\"middle\" x=\"2024\" y=\"-509.8\" font-family=\"Times,serif\" font-size=\"14.00\">grad 0.0000</text>\n</g>\n<!-- 136218667292832&#45;&gt;136218667401376* -->\n<g id=\"edge188\" class=\"edge\">\n<title>136218667292832&#45;&gt;136218667401376*</title>\n<path fill=\"none\" stroke=\"black\" d=\"M2043.48,-495.43C2050.93,-492.53 2058.25,-489.24 2065,-485.5 2080.02,-477.19 2094.61,-464.77 2105.86,-453.94\"/>\n<polygon fill=\"black\" stroke=\"black\" points=\"2108.45,-456.3 2113.08,-446.76 2103.52,-451.33 2108.45,-456.3\"/>\n</g>\n<!-- 136218667366624 -->\n<g id=\"node162\" class=\"node\">\n<title>136218667366624</title>\n<polygon fill=\"none\" stroke=\"black\" points=\"628.5,-149.5 628.5,-185.5 810.5,-185.5 810.5,-149.5 628.5,-149.5\"/>\n<text text-anchor=\"middle\" x=\"638.5\" y=\"-163.8\" font-family=\"Times,serif\" font-size=\"14.00\"> </text>\n<polyline fill=\"none\" stroke=\"black\" points=\"648.5,-149.5 648.5,-185.5 \"/>\n<text text-anchor=\"middle\" x=\"688.5\" y=\"-163.8\" font-family=\"Times,serif\" font-size=\"14.00\">data 2.0446</text>\n<polyline fill=\"none\" stroke=\"black\" points=\"728.5,-149.5 728.5,-185.5 \"/>\n<text text-anchor=\"middle\" x=\"769.5\" y=\"-163.8\" font-family=\"Times,serif\" font-size=\"14.00\">grad 0.0000</text>\n</g>\n<!-- 136218667366624&#45;&gt;136218667364464+ -->\n<g id=\"edge78\" class=\"edge\">\n<title>136218667366624&#45;&gt;136218667364464+</title>\n<path fill=\"none\" stroke=\"black\" d=\"M785.57,-185.61C804.52,-190.88 824.46,-196.43 840.69,-200.95\"/>\n<polygon fill=\"black\" stroke=\"black\" points=\"840.21,-204.45 850.78,-203.76 842.08,-197.71 840.21,-204.45\"/>\n</g>\n<!-- 136218667366624*&#45;&gt;136218667366624 -->\n<g id=\"edge60\" class=\"edge\">\n<title>136218667366624*&#45;&gt;136218667366624</title>\n<path fill=\"none\" stroke=\"black\" d=\"M590.21,-161.69C598.34,-162.06 607.85,-162.49 617.94,-162.94\"/>\n<polygon fill=\"black\" stroke=\"black\" points=\"618.04,-166.45 628.19,-163.41 618.36,-159.46 618.04,-166.45\"/>\n</g>\n<!-- 136218667293024 -->\n<g id=\"node164\" class=\"node\">\n<title>136218667293024</title>\n<polygon fill=\"none\" stroke=\"black\" points=\"1254.5,-798.5 1254.5,-834.5 1436.5,-834.5 1436.5,-798.5 1254.5,-798.5\"/>\n<text text-anchor=\"middle\" x=\"1264.5\" y=\"-812.8\" font-family=\"Times,serif\" font-size=\"14.00\"> </text>\n<polyline fill=\"none\" stroke=\"black\" points=\"1274.5,-798.5 1274.5,-834.5 \"/>\n<text text-anchor=\"middle\" x=\"1314.5\" y=\"-812.8\" font-family=\"Times,serif\" font-size=\"14.00\">data 1.2682</text>\n<polyline fill=\"none\" stroke=\"black\" points=\"1354.5,-798.5 1354.5,-834.5 \"/>\n<text text-anchor=\"middle\" x=\"1395.5\" y=\"-812.8\" font-family=\"Times,serif\" font-size=\"14.00\">grad 0.0000</text>\n</g>\n<!-- 136218667293024&#45;&gt;136218667406896* -->\n<g id=\"edge142\" class=\"edge\">\n<title>136218667293024&#45;&gt;136218667406896*</title>\n<path fill=\"none\" stroke=\"black\" d=\"M1410.02,-834.65C1419.79,-837.76 1429.71,-841.08 1439,-844.5 1449.25,-848.27 1460.23,-852.86 1470.07,-857.18\"/>\n<polygon fill=\"black\" stroke=\"black\" points=\"1468.89,-860.49 1479.45,-861.37 1471.74,-854.1 1468.89,-860.49\"/>\n</g>\n<!-- 136218667366768 -->\n<g id=\"node165\" class=\"node\">\n<title>136218667366768</title>\n<polygon fill=\"none\" stroke=\"black\" points=\"315.5,-307.5 315.5,-343.5 497.5,-343.5 497.5,-307.5 315.5,-307.5\"/>\n<text text-anchor=\"middle\" x=\"325.5\" y=\"-321.8\" font-family=\"Times,serif\" font-size=\"14.00\"> </text>\n<polyline fill=\"none\" stroke=\"black\" points=\"335.5,-307.5 335.5,-343.5 \"/>\n<text text-anchor=\"middle\" x=\"375.5\" y=\"-321.8\" font-family=\"Times,serif\" font-size=\"14.00\">data 2.0000</text>\n<polyline fill=\"none\" stroke=\"black\" points=\"415.5,-307.5 415.5,-343.5 \"/>\n<text text-anchor=\"middle\" x=\"456.5\" y=\"-321.8\" font-family=\"Times,serif\" font-size=\"14.00\">grad 0.0000</text>\n</g>\n<!-- 136218667366768&#45;&gt;136218667366336* -->\n<g id=\"edge96\" class=\"edge\">\n<title>136218667366768&#45;&gt;136218667366336*</title>\n<path fill=\"none\" stroke=\"black\" d=\"M497.82,-325.5C507.57,-325.5 517.04,-325.5 525.57,-325.5\"/>\n<polygon fill=\"black\" stroke=\"black\" points=\"525.83,-329 535.83,-325.5 525.83,-322 525.83,-329\"/>\n</g>\n<!-- 136218667293072 -->\n<g id=\"node166\" class=\"node\">\n<title>136218667293072</title>\n<polygon fill=\"none\" stroke=\"black\" points=\"626,-415.5 626,-451.5 813,-451.5 813,-415.5 626,-415.5\"/>\n<text text-anchor=\"middle\" x=\"636\" y=\"-429.8\" font-family=\"Times,serif\" font-size=\"14.00\"> </text>\n<polyline fill=\"none\" stroke=\"black\" points=\"646,-415.5 646,-451.5 \"/>\n<text text-anchor=\"middle\" x=\"688.5\" y=\"-429.8\" font-family=\"Times,serif\" font-size=\"14.00\">data &#45;0.8124</text>\n<polyline fill=\"none\" stroke=\"black\" points=\"731,-415.5 731,-451.5 \"/>\n<text text-anchor=\"middle\" x=\"772\" y=\"-429.8\" font-family=\"Times,serif\" font-size=\"14.00\">grad 0.0000</text>\n</g>\n<!-- 136218667293072&#45;&gt;136218667365616* -->\n<g id=\"edge125\" class=\"edge\">\n<title>136218667293072&#45;&gt;136218667365616*</title>\n<path fill=\"none\" stroke=\"black\" d=\"M813.05,-433.5C822.06,-433.5 830.79,-433.5 838.7,-433.5\"/>\n<polygon fill=\"black\" stroke=\"black\" points=\"838.95,-437 848.95,-433.5 838.95,-430 838.95,-437\"/>\n</g>\n<!-- 136218667366816 -->\n<g id=\"node167\" class=\"node\">\n<title>136218667366816</title>\n<polygon fill=\"none\" stroke=\"black\" points=\"939,-121.5 939,-157.5 1126,-157.5 1126,-121.5 939,-121.5\"/>\n<text text-anchor=\"middle\" x=\"949\" y=\"-135.8\" font-family=\"Times,serif\" font-size=\"14.00\"> </text>\n<polyline fill=\"none\" stroke=\"black\" points=\"959,-121.5 959,-157.5 \"/>\n<text text-anchor=\"middle\" x=\"1001.5\" y=\"-135.8\" font-family=\"Times,serif\" font-size=\"14.00\">data &#45;1.4080</text>\n<polyline fill=\"none\" stroke=\"black\" points=\"1044,-121.5 1044,-157.5 \"/>\n<text text-anchor=\"middle\" x=\"1085\" y=\"-135.8\" font-family=\"Times,serif\" font-size=\"14.00\">grad 0.0000</text>\n</g>\n<!-- 136218667366816&#45;&gt;136218667368400+ -->\n<g id=\"edge208\" class=\"edge\">\n<title>136218667366816&#45;&gt;136218667368400+</title>\n<path fill=\"none\" stroke=\"black\" d=\"M1072.89,-157.6C1099.09,-169.64 1133.02,-185.23 1157.24,-196.36\"/>\n<polygon fill=\"black\" stroke=\"black\" points=\"1155.78,-199.54 1166.33,-200.54 1158.7,-193.18 1155.78,-199.54\"/>\n</g>\n<!-- 136218667366816*&#45;&gt;136218667366816 -->\n<g id=\"edge61\" class=\"edge\">\n<title>136218667366816*&#45;&gt;136218667366816</title>\n<path fill=\"none\" stroke=\"black\" d=\"M902.51,-116.96C910.21,-118.3 919.17,-119.87 928.73,-121.54\"/>\n<polygon fill=\"black\" stroke=\"black\" points=\"928.41,-125.04 938.86,-123.31 929.62,-118.14 928.41,-125.04\"/>\n</g>\n<!-- 136218667416016 -->\n<g id=\"node169\" class=\"node\">\n<title>136218667416016</title>\n<polygon fill=\"none\" stroke=\"black\" points=\"1878,-685.5 1878,-721.5 2065,-721.5 2065,-685.5 1878,-685.5\"/>\n<text text-anchor=\"middle\" x=\"1888\" y=\"-699.8\" font-family=\"Times,serif\" font-size=\"14.00\"> </text>\n<polyline fill=\"none\" stroke=\"black\" points=\"1898,-685.5 1898,-721.5 \"/>\n<text text-anchor=\"middle\" x=\"1940.5\" y=\"-699.8\" font-family=\"Times,serif\" font-size=\"14.00\">data &#45;1.0095</text>\n<polyline fill=\"none\" stroke=\"black\" points=\"1983,-685.5 1983,-721.5 \"/>\n<text text-anchor=\"middle\" x=\"2024\" y=\"-699.8\" font-family=\"Times,serif\" font-size=\"14.00\">grad 0.0000</text>\n</g>\n<!-- 136218667416016&#45;&gt;136218667417504+ -->\n<g id=\"edge204\" class=\"edge\">\n<title>136218667416016&#45;&gt;136218667417504+</title>\n<path fill=\"none\" stroke=\"black\" d=\"M2031.03,-721.53C2042.37,-725.29 2054.11,-729.37 2065,-733.5 2075.21,-737.37 2086.18,-741.99 2096.02,-746.31\"/>\n<polygon fill=\"black\" stroke=\"black\" points=\"2094.85,-749.61 2105.41,-750.48 2097.69,-743.22 2094.85,-749.61\"/>\n</g>\n<!-- 136218667416016*&#45;&gt;136218667416016 -->\n<g id=\"edge62\" class=\"edge\">\n<title>136218667416016*&#45;&gt;136218667416016</title>\n<path fill=\"none\" stroke=\"black\" d=\"M1842.21,-702.67C1849.73,-702.72 1858.43,-702.77 1867.67,-702.83\"/>\n<polygon fill=\"black\" stroke=\"black\" points=\"1867.86,-706.34 1877.89,-702.9 1867.91,-699.34 1867.86,-706.34\"/>\n</g>\n<!-- 136218667407856 -->\n<g id=\"node171\" class=\"node\">\n<title>136218667407856</title>\n<polygon fill=\"none\" stroke=\"black\" points=\"2506.5,-413.5 2506.5,-449.5 2688.5,-449.5 2688.5,-413.5 2506.5,-413.5\"/>\n<text text-anchor=\"middle\" x=\"2516.5\" y=\"-427.8\" font-family=\"Times,serif\" font-size=\"14.00\"> </text>\n<polyline fill=\"none\" stroke=\"black\" points=\"2526.5,-413.5 2526.5,-449.5 \"/>\n<text text-anchor=\"middle\" x=\"2566.5\" y=\"-427.8\" font-family=\"Times,serif\" font-size=\"14.00\">data 1.1165</text>\n<polyline fill=\"none\" stroke=\"black\" points=\"2606.5,-413.5 2606.5,-449.5 \"/>\n<text text-anchor=\"middle\" x=\"2647.5\" y=\"-427.8\" font-family=\"Times,serif\" font-size=\"14.00\">grad 0.0000</text>\n</g>\n<!-- 136218667408384+ -->\n<g id=\"node182\" class=\"node\">\n<title>136218667408384+</title>\n<ellipse fill=\"none\" stroke=\"black\" cx=\"2754\" cy=\"-486.5\" rx=\"27\" ry=\"18\"/>\n<text text-anchor=\"middle\" x=\"2754\" y=\"-482.8\" font-family=\"Times,serif\" font-size=\"14.00\">+</text>\n</g>\n<!-- 136218667407856&#45;&gt;136218667408384+ -->\n<g id=\"edge162\" class=\"edge\">\n<title>136218667407856&#45;&gt;136218667408384+</title>\n<path fill=\"none\" stroke=\"black\" d=\"M2664.56,-449.55C2673.51,-452.36 2682.53,-455.37 2691,-458.5 2701.49,-462.38 2712.71,-467.22 2722.68,-471.78\"/>\n<polygon fill=\"black\" stroke=\"black\" points=\"2721.25,-474.98 2731.79,-476.03 2724.2,-468.63 2721.25,-474.98\"/>\n</g>\n<!-- 136218667407856+&#45;&gt;136218667407856 -->\n<g id=\"edge63\" class=\"edge\">\n<title>136218667407856+&#45;&gt;136218667407856</title>\n<path fill=\"none\" stroke=\"black\" d=\"M2468.21,-431.5C2476.34,-431.5 2485.85,-431.5 2495.94,-431.5\"/>\n<polygon fill=\"black\" stroke=\"black\" points=\"2496.19,-435 2506.19,-431.5 2496.19,-428 2496.19,-435\"/>\n</g>\n<!-- 136218667407952 -->\n<g id=\"node173\" class=\"node\">\n<title>136218667407952</title>\n<polygon fill=\"none\" stroke=\"black\" points=\"2506.5,-468.5 2506.5,-504.5 2688.5,-504.5 2688.5,-468.5 2506.5,-468.5\"/>\n<text text-anchor=\"middle\" x=\"2516.5\" y=\"-482.8\" font-family=\"Times,serif\" font-size=\"14.00\"> </text>\n<polyline fill=\"none\" stroke=\"black\" points=\"2526.5,-468.5 2526.5,-504.5 \"/>\n<text text-anchor=\"middle\" x=\"2566.5\" y=\"-482.8\" font-family=\"Times,serif\" font-size=\"14.00\">data 0.5963</text>\n<polyline fill=\"none\" stroke=\"black\" points=\"2606.5,-468.5 2606.5,-504.5 \"/>\n<text text-anchor=\"middle\" x=\"2647.5\" y=\"-482.8\" font-family=\"Times,serif\" font-size=\"14.00\">grad 0.0000</text>\n</g>\n<!-- 136218667407952&#45;&gt;136218667408384+ -->\n<g id=\"edge170\" class=\"edge\">\n<title>136218667407952&#45;&gt;136218667408384+</title>\n<path fill=\"none\" stroke=\"black\" d=\"M2688.82,-486.5C2698.57,-486.5 2708.04,-486.5 2716.57,-486.5\"/>\n<polygon fill=\"black\" stroke=\"black\" points=\"2716.83,-490 2726.83,-486.5 2716.83,-483 2716.83,-490\"/>\n</g>\n<!-- 136218667407952*&#45;&gt;136218667407952 -->\n<g id=\"edge64\" class=\"edge\">\n<title>136218667407952*&#45;&gt;136218667407952</title>\n<path fill=\"none\" stroke=\"black\" d=\"M2463.21,-531.03C2475.05,-525.41 2490.15,-518.62 2504,-513.5 2509.43,-511.49 2515.08,-509.54 2520.79,-507.65\"/>\n<polygon fill=\"black\" stroke=\"black\" points=\"2521.99,-510.94 2530.44,-504.55 2519.85,-504.28 2521.99,-510.94\"/>\n</g>\n<!-- 136218667416208 -->\n<g id=\"node175\" class=\"node\">\n<title>136218667416208</title>\n<polygon fill=\"none\" stroke=\"black\" points=\"2504,-633.5 2504,-669.5 2691,-669.5 2691,-633.5 2504,-633.5\"/>\n<text text-anchor=\"middle\" x=\"2514\" y=\"-647.8\" font-family=\"Times,serif\" font-size=\"14.00\"> </text>\n<polyline fill=\"none\" stroke=\"black\" points=\"2524,-633.5 2524,-669.5 \"/>\n<text text-anchor=\"middle\" x=\"2566.5\" y=\"-647.8\" font-family=\"Times,serif\" font-size=\"14.00\">data &#45;1.0476</text>\n<polyline fill=\"none\" stroke=\"black\" points=\"2609,-633.5 2609,-669.5 \"/>\n<text text-anchor=\"middle\" x=\"2650\" y=\"-647.8\" font-family=\"Times,serif\" font-size=\"14.00\">grad 0.0000</text>\n</g>\n<!-- 136218667416208&#45;&gt;136218667402144+ -->\n<g id=\"edge149\" class=\"edge\">\n<title>136218667416208&#45;&gt;136218667402144+</title>\n<path fill=\"none\" stroke=\"black\" d=\"M2662.02,-669.65C2671.79,-672.76 2681.71,-676.08 2691,-679.5 2701.25,-683.27 2712.23,-687.86 2722.07,-692.18\"/>\n<polygon fill=\"black\" stroke=\"black\" points=\"2720.89,-695.49 2731.45,-696.37 2723.74,-689.1 2720.89,-695.49\"/>\n</g>\n<!-- 136218667416208*&#45;&gt;136218667416208 -->\n<g id=\"edge65\" class=\"edge\">\n<title>136218667416208*&#45;&gt;136218667416208</title>\n<path fill=\"none\" stroke=\"black\" d=\"M2468.21,-651.5C2475.73,-651.5 2484.43,-651.5 2493.67,-651.5\"/>\n<polygon fill=\"black\" stroke=\"black\" points=\"2493.89,-655 2503.89,-651.5 2493.89,-648 2493.89,-655\"/>\n</g>\n<!-- 136218667408192 -->\n<g id=\"node177\" class=\"node\">\n<title>136218667408192</title>\n<polygon fill=\"none\" stroke=\"black\" points=\"3132.5,-581.5 3132.5,-617.5 3314.5,-617.5 3314.5,-581.5 3132.5,-581.5\"/>\n<text text-anchor=\"middle\" x=\"3142.5\" y=\"-595.8\" font-family=\"Times,serif\" font-size=\"14.00\"> </text>\n<polyline fill=\"none\" stroke=\"black\" points=\"3152.5,-581.5 3152.5,-617.5 \"/>\n<text text-anchor=\"middle\" x=\"3192.5\" y=\"-595.8\" font-family=\"Times,serif\" font-size=\"14.00\">data 2.9162</text>\n<polyline fill=\"none\" stroke=\"black\" points=\"3232.5,-581.5 3232.5,-617.5 \"/>\n<text text-anchor=\"middle\" x=\"3273.5\" y=\"-595.8\" font-family=\"Times,serif\" font-size=\"14.00\">grad 0.0000</text>\n</g>\n<!-- 136218667408192&#45;&gt;136218667413328tanh -->\n<g id=\"edge137\" class=\"edge\">\n<title>136218667408192&#45;&gt;136218667413328tanh</title>\n<path fill=\"none\" stroke=\"black\" d=\"M3314.82,-599.5C3324.57,-599.5 3334.04,-599.5 3342.57,-599.5\"/>\n<polygon fill=\"black\" stroke=\"black\" points=\"3342.83,-603 3352.83,-599.5 3342.83,-596 3342.83,-603\"/>\n</g>\n<!-- 136218667408192+&#45;&gt;136218667408192 -->\n<g id=\"edge66\" class=\"edge\">\n<title>136218667408192+&#45;&gt;136218667408192</title>\n<path fill=\"none\" stroke=\"black\" d=\"M3094.21,-599.5C3102.34,-599.5 3111.85,-599.5 3121.94,-599.5\"/>\n<polygon fill=\"black\" stroke=\"black\" points=\"3122.19,-603 3132.19,-599.5 3122.19,-596 3122.19,-603\"/>\n</g>\n<!-- 136218667293552 -->\n<g id=\"node179\" class=\"node\">\n<title>136218667293552</title>\n<polygon fill=\"none\" stroke=\"black\" points=\"3443,-636.5 3443,-672.5 3630,-672.5 3630,-636.5 3443,-636.5\"/>\n<text text-anchor=\"middle\" x=\"3453\" y=\"-650.8\" font-family=\"Times,serif\" font-size=\"14.00\"> </text>\n<polyline fill=\"none\" stroke=\"black\" points=\"3463,-636.5 3463,-672.5 \"/>\n<text text-anchor=\"middle\" x=\"3505.5\" y=\"-650.8\" font-family=\"Times,serif\" font-size=\"14.00\">data &#45;0.5479</text>\n<polyline fill=\"none\" stroke=\"black\" points=\"3548,-636.5 3548,-672.5 \"/>\n<text text-anchor=\"middle\" x=\"3589\" y=\"-650.8\" font-family=\"Times,serif\" font-size=\"14.00\">grad 0.0000</text>\n</g>\n<!-- 136218667293552&#45;&gt;136218667402912* -->\n<g id=\"edge189\" class=\"edge\">\n<title>136218667293552&#45;&gt;136218667402912*</title>\n<path fill=\"none\" stroke=\"black\" d=\"M3630.05,-654.5C3639.06,-654.5 3647.79,-654.5 3655.7,-654.5\"/>\n<polygon fill=\"black\" stroke=\"black\" points=\"3655.95,-658 3665.95,-654.5 3655.95,-651 3655.95,-658\"/>\n</g>\n<!-- 136218667293600 -->\n<g id=\"node180\" class=\"node\">\n<title>136218667293600</title>\n<polygon fill=\"none\" stroke=\"black\" points=\"3445.5,-416.5 3445.5,-452.5 3627.5,-452.5 3627.5,-416.5 3445.5,-416.5\"/>\n<text text-anchor=\"middle\" x=\"3455.5\" y=\"-430.8\" font-family=\"Times,serif\" font-size=\"14.00\"> </text>\n<polyline fill=\"none\" stroke=\"black\" points=\"3465.5,-416.5 3465.5,-452.5 \"/>\n<text text-anchor=\"middle\" x=\"3505.5\" y=\"-430.8\" font-family=\"Times,serif\" font-size=\"14.00\">data 0.4901</text>\n<polyline fill=\"none\" stroke=\"black\" points=\"3545.5,-416.5 3545.5,-452.5 \"/>\n<text text-anchor=\"middle\" x=\"3586.5\" y=\"-430.8\" font-family=\"Times,serif\" font-size=\"14.00\">grad 0.0000</text>\n</g>\n<!-- 136218667293600&#45;&gt;136218667401328* -->\n<g id=\"edge138\" class=\"edge\">\n<title>136218667293600&#45;&gt;136218667401328*</title>\n<path fill=\"none\" stroke=\"black\" d=\"M3603.56,-452.55C3612.51,-455.36 3621.53,-458.37 3630,-461.5 3640.49,-465.38 3651.71,-470.22 3661.68,-474.78\"/>\n<polygon fill=\"black\" stroke=\"black\" points=\"3660.25,-477.98 3670.79,-479.03 3663.2,-471.63 3660.25,-477.98\"/>\n</g>\n<!-- 136218667408384 -->\n<g id=\"node181\" class=\"node\">\n<title>136218667408384</title>\n<polygon fill=\"none\" stroke=\"black\" points=\"2819.5,-523.5 2819.5,-559.5 3001.5,-559.5 3001.5,-523.5 2819.5,-523.5\"/>\n<text text-anchor=\"middle\" x=\"2829.5\" y=\"-537.8\" font-family=\"Times,serif\" font-size=\"14.00\"> </text>\n<polyline fill=\"none\" stroke=\"black\" points=\"2839.5,-523.5 2839.5,-559.5 \"/>\n<text text-anchor=\"middle\" x=\"2879.5\" y=\"-537.8\" font-family=\"Times,serif\" font-size=\"14.00\">data 1.7128</text>\n<polyline fill=\"none\" stroke=\"black\" points=\"2919.5,-523.5 2919.5,-559.5 \"/>\n<text text-anchor=\"middle\" x=\"2960.5\" y=\"-537.8\" font-family=\"Times,serif\" font-size=\"14.00\">grad 0.0000</text>\n</g>\n<!-- 136218667408384&#45;&gt;136218667408192+ -->\n<g id=\"edge129\" class=\"edge\">\n<title>136218667408384&#45;&gt;136218667408192+</title>\n<path fill=\"none\" stroke=\"black\" d=\"M2978.67,-559.56C2987.28,-562.32 2995.9,-565.32 3004,-568.5 3014.98,-572.81 3026.64,-578.36 3036.85,-583.57\"/>\n<polygon fill=\"black\" stroke=\"black\" points=\"3035.27,-586.7 3045.76,-588.22 3038.51,-580.49 3035.27,-586.7\"/>\n</g>\n<!-- 136218667408384+&#45;&gt;136218667408384 -->\n<g id=\"edge67\" class=\"edge\">\n<title>136218667408384+&#45;&gt;136218667408384</title>\n<path fill=\"none\" stroke=\"black\" d=\"M2777.92,-495.14C2789.6,-499.51 2804.03,-504.85 2817,-509.5 2826.7,-512.98 2836.99,-516.6 2847.05,-520.11\"/>\n<polygon fill=\"black\" stroke=\"black\" points=\"2846.01,-523.45 2856.6,-523.43 2848.3,-516.84 2846.01,-523.45\"/>\n</g>\n<!-- 136218667293744 -->\n<g id=\"node183\" class=\"node\">\n<title>136218667293744</title>\n<polygon fill=\"none\" stroke=\"black\" points=\"3445.5,-306.5 3445.5,-342.5 3627.5,-342.5 3627.5,-306.5 3445.5,-306.5\"/>\n<text text-anchor=\"middle\" x=\"3455.5\" y=\"-320.8\" font-family=\"Times,serif\" font-size=\"14.00\"> </text>\n<polyline fill=\"none\" stroke=\"black\" points=\"3465.5,-306.5 3465.5,-342.5 \"/>\n<text text-anchor=\"middle\" x=\"3505.5\" y=\"-320.8\" font-family=\"Times,serif\" font-size=\"14.00\">data 1.0588</text>\n<polyline fill=\"none\" stroke=\"black\" points=\"3545.5,-306.5 3545.5,-342.5 \"/>\n<text text-anchor=\"middle\" x=\"3586.5\" y=\"-320.8\" font-family=\"Times,serif\" font-size=\"14.00\">grad 0.0000</text>\n</g>\n<!-- 136218667293744&#45;&gt;136218667406992* -->\n<g id=\"edge186\" class=\"edge\">\n<title>136218667293744&#45;&gt;136218667406992*</title>\n<path fill=\"none\" stroke=\"black\" d=\"M3603.56,-342.55C3612.51,-345.36 3621.53,-348.37 3630,-351.5 3640.49,-355.38 3651.71,-360.22 3661.68,-364.78\"/>\n<polygon fill=\"black\" stroke=\"black\" points=\"3660.25,-367.98 3670.79,-369.03 3663.2,-361.63 3660.25,-367.98\"/>\n</g>\n<!-- 136218667408480 -->\n<g id=\"node184\" class=\"node\">\n<title>136218667408480</title>\n<polygon fill=\"none\" stroke=\"black\" points=\"2191,-688.5 2191,-724.5 2378,-724.5 2378,-688.5 2191,-688.5\"/>\n<text text-anchor=\"middle\" x=\"2201\" y=\"-702.8\" font-family=\"Times,serif\" font-size=\"14.00\"> </text>\n<polyline fill=\"none\" stroke=\"black\" points=\"2211,-688.5 2211,-724.5 \"/>\n<text text-anchor=\"middle\" x=\"2253.5\" y=\"-702.8\" font-family=\"Times,serif\" font-size=\"14.00\">data &#45;1.4696</text>\n<polyline fill=\"none\" stroke=\"black\" points=\"2296,-688.5 2296,-724.5 \"/>\n<text text-anchor=\"middle\" x=\"2337\" y=\"-702.8\" font-family=\"Times,serif\" font-size=\"14.00\">grad 0.0000</text>\n</g>\n<!-- 136218667408480&#45;&gt;136218667413808+ -->\n<g id=\"edge165\" class=\"edge\">\n<title>136218667408480&#45;&gt;136218667413808+</title>\n<path fill=\"none\" stroke=\"black\" d=\"M2378.05,-706.5C2387.06,-706.5 2395.79,-706.5 2403.7,-706.5\"/>\n<polygon fill=\"black\" stroke=\"black\" points=\"2403.95,-710 2413.95,-706.5 2403.95,-703 2403.95,-710\"/>\n</g>\n<!-- 136218667408480*&#45;&gt;136218667408480 -->\n<g id=\"edge68\" class=\"edge\">\n<title>136218667408480*&#45;&gt;136218667408480</title>\n<path fill=\"none\" stroke=\"black\" d=\"M2146.34,-652.02C2158.33,-660.84 2174.96,-672.06 2191,-679.5 2195.04,-681.37 2199.23,-683.15 2203.51,-684.82\"/>\n<polygon fill=\"black\" stroke=\"black\" points=\"2202.39,-688.14 2212.98,-688.34 2204.82,-681.58 2202.39,-688.14\"/>\n</g>\n<!-- 136218667293792 -->\n<g id=\"node186\" class=\"node\">\n<title>136218667293792</title>\n<polygon fill=\"none\" stroke=\"black\" points=\"3756,-581.5 3756,-617.5 3943,-617.5 3943,-581.5 3756,-581.5\"/>\n<text text-anchor=\"middle\" x=\"3766\" y=\"-595.8\" font-family=\"Times,serif\" font-size=\"14.00\"> </text>\n<polyline fill=\"none\" stroke=\"black\" points=\"3776,-581.5 3776,-617.5 \"/>\n<text text-anchor=\"middle\" x=\"3818.5\" y=\"-595.8\" font-family=\"Times,serif\" font-size=\"14.00\">data &#45;0.2971</text>\n<polyline fill=\"none\" stroke=\"black\" points=\"3861,-581.5 3861,-617.5 \"/>\n<text text-anchor=\"middle\" x=\"3902\" y=\"-595.8\" font-family=\"Times,serif\" font-size=\"14.00\">grad 0.0000</text>\n</g>\n<!-- 136218667293792&#45;&gt;136218667412848+ -->\n<g id=\"edge79\" class=\"edge\">\n<title>136218667293792&#45;&gt;136218667412848+</title>\n<path fill=\"none\" stroke=\"black\" d=\"M3922.05,-581.49C3959.79,-571.99 4004.37,-560.77 4034.46,-553.2\"/>\n<polygon fill=\"black\" stroke=\"black\" points=\"4035.61,-556.51 4044.46,-550.68 4033.9,-549.73 4035.61,-556.51\"/>\n</g>\n<!-- 136218667408768 -->\n<g id=\"node187\" class=\"node\">\n<title>136218667408768</title>\n<polygon fill=\"none\" stroke=\"black\" points=\"1880.5,-165.5 1880.5,-201.5 2062.5,-201.5 2062.5,-165.5 1880.5,-165.5\"/>\n<text text-anchor=\"middle\" x=\"1890.5\" y=\"-179.8\" font-family=\"Times,serif\" font-size=\"14.00\"> </text>\n<polyline fill=\"none\" stroke=\"black\" points=\"1900.5,-165.5 1900.5,-201.5 \"/>\n<text text-anchor=\"middle\" x=\"1940.5\" y=\"-179.8\" font-family=\"Times,serif\" font-size=\"14.00\">data 0.5820</text>\n<polyline fill=\"none\" stroke=\"black\" points=\"1980.5,-165.5 1980.5,-201.5 \"/>\n<text text-anchor=\"middle\" x=\"2021.5\" y=\"-179.8\" font-family=\"Times,serif\" font-size=\"14.00\">grad 0.0000</text>\n</g>\n<!-- 136218667408768&#45;&gt;136218667411648+ -->\n<g id=\"edge107\" class=\"edge\">\n<title>136218667408768&#45;&gt;136218667411648+</title>\n<path fill=\"none\" stroke=\"black\" d=\"M2062.82,-167.72C2073.07,-165.92 2083.01,-164.19 2091.88,-162.64\"/>\n<polygon fill=\"black\" stroke=\"black\" points=\"2092.5,-166.08 2101.75,-160.91 2091.3,-159.19 2092.5,-166.08\"/>\n</g>\n<!-- 136218667408768*&#45;&gt;136218667408768 -->\n<g id=\"edge69\" class=\"edge\">\n<title>136218667408768*&#45;&gt;136218667408768</title>\n<path fill=\"none\" stroke=\"black\" d=\"M1842.21,-183.5C1850.34,-183.5 1859.85,-183.5 1869.94,-183.5\"/>\n<polygon fill=\"black\" stroke=\"black\" points=\"1870.19,-187 1880.19,-183.5 1870.19,-180 1870.19,-187\"/>\n</g>\n<!-- 136218667417168 -->\n<g id=\"node189\" class=\"node\">\n<title>136218667417168</title>\n<polygon fill=\"none\" stroke=\"black\" points=\"1252,-550.5 1252,-586.5 1439,-586.5 1439,-550.5 1252,-550.5\"/>\n<text text-anchor=\"middle\" x=\"1262\" y=\"-564.8\" font-family=\"Times,serif\" font-size=\"14.00\"> </text>\n<polyline fill=\"none\" stroke=\"black\" points=\"1272,-550.5 1272,-586.5 \"/>\n<text text-anchor=\"middle\" x=\"1314.5\" y=\"-564.8\" font-family=\"Times,serif\" font-size=\"14.00\">data &#45;0.2917</text>\n<polyline fill=\"none\" stroke=\"black\" points=\"1357,-550.5 1357,-586.5 \"/>\n<text text-anchor=\"middle\" x=\"1398\" y=\"-564.8\" font-family=\"Times,serif\" font-size=\"14.00\">grad 0.0000</text>\n</g>\n<!-- 136218667417168&#45;&gt;136218667404256+ -->\n<g id=\"edge95\" class=\"edge\">\n<title>136218667417168&#45;&gt;136218667404256+</title>\n<path fill=\"none\" stroke=\"black\" d=\"M1439.05,-570.3C1448.06,-570.47 1456.79,-570.64 1464.7,-570.8\"/>\n<polygon fill=\"black\" stroke=\"black\" points=\"1464.88,-574.3 1474.95,-570.99 1465.02,-567.3 1464.88,-574.3\"/>\n</g>\n<!-- 136218667417168*&#45;&gt;136218667417168 -->\n<g id=\"edge70\" class=\"edge\">\n<title>136218667417168*&#45;&gt;136218667417168</title>\n<path fill=\"none\" stroke=\"black\" d=\"M1216.21,-568.5C1223.73,-568.5 1232.43,-568.5 1241.67,-568.5\"/>\n<polygon fill=\"black\" stroke=\"black\" points=\"1241.89,-572 1251.89,-568.5 1241.89,-565 1241.89,-572\"/>\n</g>\n<!-- 136218667409152 -->\n<g id=\"node191\" class=\"node\">\n<title>136218667409152</title>\n<polygon fill=\"none\" stroke=\"black\" points=\"941.5,-935.5 941.5,-971.5 1123.5,-971.5 1123.5,-935.5 941.5,-935.5\"/>\n<text text-anchor=\"middle\" x=\"951.5\" y=\"-949.8\" font-family=\"Times,serif\" font-size=\"14.00\"> </text>\n<polyline fill=\"none\" stroke=\"black\" points=\"961.5,-935.5 961.5,-971.5 \"/>\n<text text-anchor=\"middle\" x=\"1001.5\" y=\"-949.8\" font-family=\"Times,serif\" font-size=\"14.00\">data 2.0000</text>\n<polyline fill=\"none\" stroke=\"black\" points=\"1041.5,-935.5 1041.5,-971.5 \"/>\n<text text-anchor=\"middle\" x=\"1082.5\" y=\"-949.8\" font-family=\"Times,serif\" font-size=\"14.00\">grad 0.0000</text>\n</g>\n<!-- 136218667409152&#45;&gt;136218667404496* -->\n<g id=\"edge84\" class=\"edge\">\n<title>136218667409152&#45;&gt;136218667404496*</title>\n<path fill=\"none\" stroke=\"black\" d=\"M1123.82,-969.87C1134.07,-971.73 1144.01,-973.53 1152.88,-975.13\"/>\n<polygon fill=\"black\" stroke=\"black\" points=\"1152.29,-978.58 1162.75,-976.92 1153.54,-971.7 1152.29,-978.58\"/>\n</g>\n<!-- 136218667294560 -->\n<g id=\"node192\" class=\"node\">\n<title>136218667294560</title>\n<polygon fill=\"none\" stroke=\"black\" points=\"1565,-798.5 1565,-834.5 1752,-834.5 1752,-798.5 1565,-798.5\"/>\n<text text-anchor=\"middle\" x=\"1575\" y=\"-812.8\" font-family=\"Times,serif\" font-size=\"14.00\"> </text>\n<polyline fill=\"none\" stroke=\"black\" points=\"1585,-798.5 1585,-834.5 \"/>\n<text text-anchor=\"middle\" x=\"1627.5\" y=\"-812.8\" font-family=\"Times,serif\" font-size=\"14.00\">data &#45;0.8829</text>\n<polyline fill=\"none\" stroke=\"black\" points=\"1670,-798.5 1670,-834.5 \"/>\n<text text-anchor=\"middle\" x=\"1711\" y=\"-812.8\" font-family=\"Times,serif\" font-size=\"14.00\">grad 0.0000</text>\n</g>\n<!-- 136218667294560&#45;&gt;136218667410784* -->\n<g id=\"edge97\" class=\"edge\">\n<title>136218667294560&#45;&gt;136218667410784*</title>\n<path fill=\"none\" stroke=\"black\" d=\"M1752.05,-816.5C1761.06,-816.5 1769.79,-816.5 1777.7,-816.5\"/>\n<polygon fill=\"black\" stroke=\"black\" points=\"1777.95,-820 1787.95,-816.5 1777.95,-813 1777.95,-820\"/>\n</g>\n<!-- 136218667409296 -->\n<g id=\"node193\" class=\"node\">\n<title>136218667409296</title>\n<polygon fill=\"none\" stroke=\"black\" points=\"5249,-436.5 5249,-472.5 5431,-472.5 5431,-436.5 5249,-436.5\"/>\n<text text-anchor=\"middle\" x=\"5259\" y=\"-450.8\" font-family=\"Times,serif\" font-size=\"14.00\"> </text>\n<polyline fill=\"none\" stroke=\"black\" points=\"5269,-436.5 5269,-472.5 \"/>\n<text text-anchor=\"middle\" x=\"5309\" y=\"-450.8\" font-family=\"Times,serif\" font-size=\"14.00\">data 2.1382</text>\n<polyline fill=\"none\" stroke=\"black\" points=\"5349,-436.5 5349,-472.5 \"/>\n<text text-anchor=\"middle\" x=\"5390\" y=\"-450.8\" font-family=\"Times,serif\" font-size=\"14.00\">grad 0.0000</text>\n</g>\n<!-- 136218667409296&#45;&gt;136218667410448tanh -->\n<g id=\"edge160\" class=\"edge\">\n<title>136218667409296&#45;&gt;136218667410448tanh</title>\n<path fill=\"none\" stroke=\"black\" d=\"M5431.18,-454.5C5440.14,-454.5 5448.83,-454.5 5456.73,-454.5\"/>\n<polygon fill=\"black\" stroke=\"black\" points=\"5456.96,-458 5466.96,-454.5 5456.96,-451 5456.96,-458\"/>\n</g>\n<!-- 136218667409296+&#45;&gt;136218667409296 -->\n<g id=\"edge71\" class=\"edge\">\n<title>136218667409296+&#45;&gt;136218667409296</title>\n<path fill=\"none\" stroke=\"black\" d=\"M5213.13,-454.5C5220.67,-454.5 5229.39,-454.5 5238.64,-454.5\"/>\n<polygon fill=\"black\" stroke=\"black\" points=\"5238.87,-458 5248.87,-454.5 5238.87,-451 5238.87,-458\"/>\n</g>\n<!-- 136218667417504 -->\n<g id=\"node195\" class=\"node\">\n<title>136218667417504</title>\n<polygon fill=\"none\" stroke=\"black\" points=\"2191,-743.5 2191,-779.5 2378,-779.5 2378,-743.5 2191,-743.5\"/>\n<text text-anchor=\"middle\" x=\"2201\" y=\"-757.8\" font-family=\"Times,serif\" font-size=\"14.00\"> </text>\n<polyline fill=\"none\" stroke=\"black\" points=\"2211,-743.5 2211,-779.5 \"/>\n<text text-anchor=\"middle\" x=\"2253.5\" y=\"-757.8\" font-family=\"Times,serif\" font-size=\"14.00\">data &#45;0.6481</text>\n<polyline fill=\"none\" stroke=\"black\" points=\"2296,-743.5 2296,-779.5 \"/>\n<text text-anchor=\"middle\" x=\"2337\" y=\"-757.8\" font-family=\"Times,serif\" font-size=\"14.00\">grad 0.0000</text>\n</g>\n<!-- 136218667417504&#45;&gt;136218667413808+ -->\n<g id=\"edge187\" class=\"edge\">\n<title>136218667417504&#45;&gt;136218667413808+</title>\n<path fill=\"none\" stroke=\"black\" d=\"M2351.56,-743.45C2360.51,-740.64 2369.53,-737.63 2378,-734.5 2388.49,-730.62 2399.71,-725.78 2409.68,-721.22\"/>\n<polygon fill=\"black\" stroke=\"black\" points=\"2411.2,-724.37 2418.79,-716.97 2408.25,-718.02 2411.2,-724.37\"/>\n</g>\n<!-- 136218667417504+&#45;&gt;136218667417504 -->\n<g id=\"edge72\" class=\"edge\">\n<title>136218667417504+&#45;&gt;136218667417504</title>\n<path fill=\"none\" stroke=\"black\" d=\"M2155.21,-760.67C2162.73,-760.72 2171.43,-760.77 2180.67,-760.83\"/>\n<polygon fill=\"black\" stroke=\"black\" points=\"2180.86,-764.34 2190.89,-760.9 2180.91,-757.34 2180.86,-764.34\"/>\n</g>\n<!-- 136218667294656 -->\n<g id=\"node197\" class=\"node\">\n<title>136218667294656</title>\n<polygon fill=\"none\" stroke=\"black\" points=\"1252,-908.5 1252,-944.5 1439,-944.5 1439,-908.5 1252,-908.5\"/>\n<text text-anchor=\"middle\" x=\"1262\" y=\"-922.8\" font-family=\"Times,serif\" font-size=\"14.00\"> </text>\n<polyline fill=\"none\" stroke=\"black\" points=\"1272,-908.5 1272,-944.5 \"/>\n<text text-anchor=\"middle\" x=\"1314.5\" y=\"-922.8\" font-family=\"Times,serif\" font-size=\"14.00\">data &#45;0.4912</text>\n<polyline fill=\"none\" stroke=\"black\" points=\"1357,-908.5 1357,-944.5 \"/>\n<text text-anchor=\"middle\" x=\"1398\" y=\"-922.8\" font-family=\"Times,serif\" font-size=\"14.00\">grad 0.0000</text>\n</g>\n<!-- 136218667294656&#45;&gt;136218667415584+ -->\n<g id=\"edge159\" class=\"edge\">\n<title>136218667294656&#45;&gt;136218667415584+</title>\n<path fill=\"none\" stroke=\"black\" d=\"M1439.05,-926.5C1448.06,-926.5 1456.79,-926.5 1464.7,-926.5\"/>\n<polygon fill=\"black\" stroke=\"black\" points=\"1464.95,-930 1474.95,-926.5 1464.95,-923 1464.95,-930\"/>\n</g>\n<!-- 136218667368400 -->\n<g id=\"node198\" class=\"node\">\n<title>136218667368400</title>\n<polygon fill=\"none\" stroke=\"black\" points=\"1252,-206.5 1252,-242.5 1439,-242.5 1439,-206.5 1252,-206.5\"/>\n<text text-anchor=\"middle\" x=\"1262\" y=\"-220.8\" font-family=\"Times,serif\" font-size=\"14.00\"> </text>\n<polyline fill=\"none\" stroke=\"black\" points=\"1272,-206.5 1272,-242.5 \"/>\n<text text-anchor=\"middle\" x=\"1314.5\" y=\"-220.8\" font-family=\"Times,serif\" font-size=\"14.00\">data &#45;1.3146</text>\n<polyline fill=\"none\" stroke=\"black\" points=\"1357,-206.5 1357,-242.5 \"/>\n<text text-anchor=\"middle\" x=\"1398\" y=\"-220.8\" font-family=\"Times,serif\" font-size=\"14.00\">grad 0.0000</text>\n</g>\n<!-- 136218667368400&#45;&gt;136218667361584tanh -->\n<g id=\"edge99\" class=\"edge\">\n<title>136218667368400&#45;&gt;136218667361584tanh</title>\n<path fill=\"none\" stroke=\"black\" d=\"M1439.05,-228.69C1448.06,-229.1 1456.79,-229.5 1464.7,-229.86\"/>\n<polygon fill=\"black\" stroke=\"black\" points=\"1464.8,-233.36 1474.95,-230.32 1465.12,-226.37 1464.8,-233.36\"/>\n</g>\n<!-- 136218667368400+&#45;&gt;136218667368400 -->\n<g id=\"edge73\" class=\"edge\">\n<title>136218667368400+&#45;&gt;136218667368400</title>\n<path fill=\"none\" stroke=\"black\" d=\"M1215.86,-212.84C1223.51,-213.54 1232.39,-214.34 1241.84,-215.2\"/>\n<polygon fill=\"black\" stroke=\"black\" points=\"1241.6,-218.69 1251.87,-216.11 1242.23,-211.72 1241.6,-218.69\"/>\n</g>\n</g>\n</svg>\n",
            "text/plain": [
              "<graphviz.graphs.Digraph at 0x7be3e147af50>"
            ]
          },
          "metadata": {},
          "execution_count": 128
        }
      ]
    },
    {
      "cell_type": "code",
      "source": [
        "[10] + [4,4]"
      ],
      "metadata": {
        "colab": {
          "base_uri": "https://localhost:8080/"
        },
        "id": "KqyulxpB2pk8",
        "outputId": "16fb54b4-6ded-47ad-cac5-fca03a197b77"
      },
      "execution_count": 98,
      "outputs": [
        {
          "output_type": "execute_result",
          "data": {
            "text/plain": [
              "[10, 4, 4]"
            ]
          },
          "metadata": {},
          "execution_count": 98
        }
      ]
    },
    {
      "cell_type": "code",
      "source": [],
      "metadata": {
        "id": "qknjG4F12s6b"
      },
      "execution_count": null,
      "outputs": []
    }
  ],
  "metadata": {
    "colab": {
      "provenance": []
    },
    "kernelspec": {
      "display_name": "Python 3",
      "name": "python3"
    },
    "language_info": {
      "name": "python"
    }
  },
  "nbformat": 4,
  "nbformat_minor": 0
}