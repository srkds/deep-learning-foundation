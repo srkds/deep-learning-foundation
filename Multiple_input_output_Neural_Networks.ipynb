{
  "nbformat": 4,
  "nbformat_minor": 0,
  "metadata": {
    "colab": {
      "provenance": []
    },
    "kernelspec": {
      "name": "python3",
      "display_name": "Python 3"
    },
    "language_info": {
      "name": "python"
    },
    "widgets": {
      "application/vnd.jupyter.widget-state+json": {
        "a6a2ac3b6e044fa1b5537d70e9a30f77": {
          "model_module": "jupyter-vue",
          "model_name": "HtmlModel",
          "model_module_version": "^1.10.1",
          "state": {
            "_dom_classes": [],
            "_events": [],
            "_jupyter_vue": "IPY_MODEL_e60b8a9699214f80a5a9d00acd21d186",
            "_model_module": "jupyter-vue",
            "_model_module_version": "^1.10.1",
            "_model_name": "HtmlModel",
            "_view_count": null,
            "_view_module": "jupyter-vue",
            "_view_module_version": "^1.10.1",
            "_view_name": "VueView",
            "attributes": {},
            "children": [],
            "class_": null,
            "layout": null,
            "slot": null,
            "style_": "display: none",
            "tag": "span",
            "v_model": "!!disabled!!",
            "v_on": null,
            "v_slots": []
          }
        },
        "35603321b3d04d36821655c6f99e7fdc": {
          "model_module": "jupyter-vuetify",
          "model_name": "VuetifyTemplateModel",
          "model_module_version": "^1.8.10",
          "state": {
            "_component_instances": [],
            "_dom_classes": [],
            "_jupyter_vue": "IPY_MODEL_e60b8a9699214f80a5a9d00acd21d186",
            "_model_module": "jupyter-vuetify",
            "_model_module_version": "^1.8.10",
            "_model_name": "VuetifyTemplateModel",
            "_view_count": null,
            "_view_module": "jupyter-vuetify",
            "_view_module_version": "^1.8.10",
            "_view_name": "VuetifyView",
            "children": [],
            "components": null,
            "css": null,
            "data": null,
            "events": [],
            "figure": "IPY_MODEL_55e383842a57453a8b15da955e76b725",
            "layout": "IPY_MODEL_389c6dfe374745b1bc09899934a21881",
            "legend": "IPY_MODEL_0782802e724d421a9cf5e38d61c25dfc",
            "legend_show": true,
            "methods": null,
            "models": {
              "figure": {
                "show": "render"
              }
            },
            "panels": [
              0,
              1,
              2
            ],
            "template": "IPY_MODEL_713fa5723831498aa64f0a24a8ab24d2"
          }
        },
        "daaca5be31414c6788acab4b47c84244": {
          "model_module": "jupyter-threejs",
          "model_name": "PerspectiveCameraModel",
          "model_module_version": "^2.4.1",
          "state": {
            "_model_module": "jupyter-threejs",
            "_model_module_version": "^2.4.1",
            "_model_name": "PerspectiveCameraModel",
            "_view_count": null,
            "_view_module": null,
            "_view_module_version": "",
            "_view_name": null,
            "aspect": 0.8,
            "castShadow": false,
            "children": [],
            "far": 2000,
            "focus": 10,
            "fov": 45,
            "frustumCulled": true,
            "matrix": [
              0.4826339553077116,
              0.8710921157962459,
              -0.09090099549319425,
              0,
              -0.29777270724365557,
              0.2608119899483299,
              0.918318311218924,
              0,
              0.823647910216992,
              -0.4161437632559356,
              0.3852641798796894,
              0,
              3.5228498406370723,
              -1.7799013047724,
              1.6478252877916868,
              1
            ],
            "matrixAutoUpdate": true,
            "matrixWorld": [
              0.4826339553077116,
              0.8710921157962459,
              -0.09090099549319425,
              0,
              -0.29777270724365557,
              0.2608119899483299,
              0.918318311218924,
              0,
              0.823647910216992,
              -0.4161437632559356,
              0.3852641798796894,
              0,
              3.5228498406370723,
              -1.7799013047724,
              1.6478252877916868,
              1
            ],
            "matrixWorldInverse": [
              0.4826339553077116,
              -0.2977727072436554,
              0.8236479102169919,
              0,
              0.8710921157962457,
              0.26081198994832977,
              -0.4161437632559355,
              0,
              -0.09090099549319419,
              0.9183183112189239,
              0.3852641798796895,
              0,
              2.2204460492503126e-16,
              5.5511151231257815e-17,
              -4.277130794527202,
              1
            ],
            "matrixWorldNeedsUpdate": true,
            "modelViewMatrix": [
              1,
              0,
              0,
              0,
              0,
              1,
              0,
              0,
              0,
              0,
              1,
              0,
              0,
              0,
              0,
              1
            ],
            "name": "",
            "near": 0.1,
            "normalMatrix": [
              1,
              0,
              0,
              0,
              1,
              0,
              0,
              0,
              1
            ],
            "position": [
              3.5228498406370723,
              -1.7799013047724,
              1.6478252877916868
            ],
            "projectionMatrix": [
              3.017766952966369,
              0,
              0,
              0,
              0,
              2.4142135623730954,
              0,
              0,
              0,
              0,
              -1.00010000500025,
              -1,
              0,
              0,
              -0.200010000500025,
              0
            ],
            "quaternion": [
              0.4573176646160993,
              0.3134142046720796,
              0.4005677953304684,
              0.7295049905819239
            ],
            "receiveShadow": false,
            "renderOrder": 0,
            "rotation": [
              0.8239107774089264,
              0.9678138440604771,
              0.5528071382404383,
              "XYZ"
            ],
            "scale": [
              1,
              1,
              1
            ],
            "type": "PerspectiveCamera",
            "up": [
              -0.29777270724365557,
              0.26081198994832994,
              0.9183183112189239
            ],
            "visible": true,
            "zoom": 1
          }
        },
        "adc5f7a58bb847a781c6ad045072dd26": {
          "model_module": "@jupyter-widgets/base",
          "model_name": "LayoutModel",
          "model_module_version": "1.2.0",
          "state": {
            "_model_module": "@jupyter-widgets/base",
            "_model_module_version": "1.2.0",
            "_model_name": "LayoutModel",
            "_view_count": null,
            "_view_module": "@jupyter-widgets/base",
            "_view_module_version": "1.2.0",
            "_view_name": "LayoutView",
            "align_content": null,
            "align_items": null,
            "align_self": null,
            "border": null,
            "bottom": null,
            "display": null,
            "flex": null,
            "flex_flow": null,
            "grid_area": null,
            "grid_auto_columns": null,
            "grid_auto_flow": null,
            "grid_auto_rows": null,
            "grid_column": null,
            "grid_gap": null,
            "grid_row": null,
            "grid_template_areas": null,
            "grid_template_columns": null,
            "grid_template_rows": null,
            "height": null,
            "justify_content": null,
            "justify_items": null,
            "left": null,
            "margin": null,
            "max_height": null,
            "max_width": null,
            "min_height": null,
            "min_width": null,
            "object_fit": null,
            "object_position": null,
            "order": null,
            "overflow": null,
            "overflow_x": null,
            "overflow_y": null,
            "padding": null,
            "right": null,
            "top": null,
            "visibility": null,
            "width": null
          }
        },
        "804a2e9b8f9546819bd585088b2d4254": {
          "model_module": "bqplot",
          "model_name": "LinearScaleModel",
          "model_module_version": "^0.5",
          "state": {
            "_model_module": "bqplot",
            "_model_module_version": "^0.5",
            "_model_name": "LinearScaleModel",
            "_view_count": null,
            "_view_module": "bqplot",
            "_view_module_version": "^0.5",
            "_view_name": "LinearScale",
            "allow_padding": true,
            "max": 1,
            "mid_range": 0.8,
            "min": 0,
            "min_range": 0.6,
            "reverse": false,
            "stabilized": false
          }
        },
        "28b0e87987394e6c9504f00df3f175b4": {
          "model_module": "bqplot",
          "model_name": "LinearScaleModel",
          "model_module_version": "^0.5",
          "state": {
            "_model_module": "bqplot",
            "_model_module_version": "^0.5",
            "_model_name": "LinearScaleModel",
            "_view_count": null,
            "_view_module": "bqplot",
            "_view_module_version": "^0.5",
            "_view_name": "LinearScale",
            "allow_padding": true,
            "max": 1,
            "mid_range": 0.8,
            "min": 0,
            "min_range": 0.6,
            "reverse": false,
            "stabilized": false
          }
        },
        "a9d6050477854eb581a66ef2f93455db": {
          "model_module": "bqplot",
          "model_name": "LinearScaleModel",
          "model_module_version": "^0.5",
          "state": {
            "_model_module": "bqplot",
            "_model_module_version": "^0.5",
            "_model_name": "LinearScaleModel",
            "_view_count": null,
            "_view_module": "bqplot",
            "_view_module_version": "^0.5",
            "_view_name": "LinearScale",
            "allow_padding": true,
            "max": 2.2,
            "mid_range": 0.8,
            "min": 0,
            "min_range": 0.6,
            "reverse": false,
            "stabilized": false
          }
        },
        "c23338a8ae964053abc734eef4ce64f3": {
          "model_module": "jupyter-threejs",
          "model_name": "SceneModel",
          "model_module_version": "^2.4.1",
          "state": {
            "_model_module": "jupyter-threejs",
            "_model_module_version": "^2.4.1",
            "_model_name": "SceneModel",
            "_view_count": null,
            "_view_module": null,
            "_view_module_version": "",
            "_view_name": null,
            "autoUpdate": true,
            "background": null,
            "castShadow": false,
            "children": [],
            "fog": null,
            "frustumCulled": true,
            "matrix": [
              1,
              0,
              0,
              0,
              0,
              1,
              0,
              0,
              0,
              0,
              1,
              0,
              0,
              0,
              0,
              1
            ],
            "matrixAutoUpdate": true,
            "matrixWorld": [
              1,
              0,
              0,
              0,
              0,
              1,
              0,
              0,
              0,
              0,
              1,
              0,
              0,
              0,
              0,
              1
            ],
            "matrixWorldNeedsUpdate": false,
            "modelViewMatrix": [
              1,
              0,
              0,
              0,
              0,
              1,
              0,
              0,
              0,
              0,
              1,
              0,
              0,
              0,
              0,
              1
            ],
            "name": "",
            "normalMatrix": [
              1,
              0,
              0,
              0,
              1,
              0,
              0,
              0,
              1
            ],
            "overrideMaterial": null,
            "position": [
              0,
              0,
              0
            ],
            "quaternion": [
              0,
              0,
              0,
              1
            ],
            "receiveShadow": false,
            "renderOrder": 0,
            "rotation": [
              0,
              0,
              0,
              "XYZ"
            ],
            "scale": [
              1,
              1,
              1
            ],
            "type": "Scene",
            "up": [
              0,
              1,
              0
            ],
            "visible": true
          }
        },
        "ad2d98684b62461e9e6a8640b2083505": {
          "model_module": "ipyvolume",
          "model_name": "ScatterModel",
          "model_module_version": "~0.6.3",
          "state": {
            "_model_module": "ipyvolume",
            "_model_module_version": "~0.6.3",
            "_model_name": "ScatterModel",
            "_view_count": null,
            "_view_module": "ipyvolume",
            "_view_module_version": "~0.6.3",
            "_view_name": "ScatterView",
            "aux": null,
            "aux_scale": null,
            "cast_shadow": true,
            "clicked": false,
            "clicked_index": null,
            "color": "red",
            "color_scale": null,
            "color_selected": "white",
            "connected": false,
            "description": "Scatter 0",
            "description_color": "red",
            "geo": "diamond",
            "geo_matrix": [
              1,
              0,
              0,
              0,
              0,
              1,
              0,
              0,
              0,
              0,
              1,
              0,
              0,
              0,
              0,
              1
            ],
            "hovered": false,
            "hovered_index": null,
            "icon": "mdi-chart-bubble",
            "line_material": "IPY_MODEL_84ee227a55ad40d59a5d858d2d2eb840",
            "material": "IPY_MODEL_a2351c0976eb4abbb308380e76dd0d23",
            "popup": null,
            "receive_shadow": true,
            "selected": null,
            "sequence_index": 0,
            "shader_snippets": {
              "size": "\n"
            },
            "size": 2,
            "size_selected": 2.6,
            "size_x_scale": null,
            "size_y_scale": null,
            "size_z_scale": null,
            "texture": null,
            "visible": true,
            "vx": null,
            "vy": null,
            "vz": null,
            "x": [
              {
                "dtype": "float32",
                "shape": [
                  36
                ]
              }
            ],
            "y": [
              {
                "dtype": "float32",
                "shape": [
                  36
                ]
              }
            ],
            "z": [
              {
                "dtype": "float32",
                "shape": [
                  36
                ]
              }
            ]
          }
        },
        "def6f02fc0b747e39db5c3c5dea86e49": {
          "model_module": "@jupyter-widgets/base",
          "model_name": "LayoutModel",
          "model_module_version": "1.2.0",
          "state": {
            "_model_module": "@jupyter-widgets/base",
            "_model_module_version": "1.2.0",
            "_model_name": "LayoutModel",
            "_view_count": null,
            "_view_module": "@jupyter-widgets/base",
            "_view_module_version": "1.2.0",
            "_view_name": "LayoutView",
            "align_content": null,
            "align_items": null,
            "align_self": null,
            "border": null,
            "bottom": null,
            "display": null,
            "flex": null,
            "flex_flow": null,
            "grid_area": null,
            "grid_auto_columns": null,
            "grid_auto_flow": null,
            "grid_auto_rows": null,
            "grid_column": null,
            "grid_gap": null,
            "grid_row": null,
            "grid_template_areas": null,
            "grid_template_columns": null,
            "grid_template_rows": null,
            "height": null,
            "justify_content": null,
            "justify_items": null,
            "left": null,
            "margin": null,
            "max_height": null,
            "max_width": null,
            "min_height": null,
            "min_width": null,
            "object_fit": null,
            "object_position": null,
            "order": null,
            "overflow": null,
            "overflow_x": null,
            "overflow_y": null,
            "padding": null,
            "right": null,
            "top": null,
            "visibility": null,
            "width": null
          }
        },
        "67256d56ef3143979dad921ae03c130a": {
          "model_module": "jupyter-vue",
          "model_name": "TemplateModel",
          "model_module_version": "^1.10.1",
          "state": {
            "_model_module": "jupyter-vue",
            "_model_module_version": "^1.10.1",
            "_model_name": "TemplateModel",
            "_view_count": null,
            "_view_module": null,
            "_view_module_version": "",
            "_view_name": null,
            "template": "<template>\n    <div style=\"padding: 5px;\">\n        <div v-for=\"(mark, index) in marks\" :key=\"index\">\n            <v-checkbox hide-details dense style=\"margin-top: 0px; padding-top 0px\"\n                v-model=\"mark.visible\"\n                off-icon=\"mdi-eye-off\"\n                :on-icon=\"mark.icon\"\n                :color=\"mark.description_color\"\n                :background-color=\"mark.hovered ? '#ccc' : 'unset'\"\n                :label=\"mark.description\"></v-checkbox>\n        </div>\n    </div>\n</template>\n<style id=\"fruit-selector-style-file\">\n    .fruit-selector-file td {\n        border: 1px solid #999;\n        padding: 5px 10px ;\n    }\n    .fruit-selector-file {\n        border-collapse: collapse;\n    }\n    .fruit-selector-file td.selected {\n        width: 50px;\n    }\n    .ipv-main-container {\n        background-color: white;\n    }\n    .ipv-main-container:fullscreen {\n        display: flex;\n        justify-content: center;\n        align-items: center;\n        align-items: center;\n    }\n</style>\n<script>\n    module.export = {\n        mounted() {\n            (async () => {\n                const figureWidgetModel = await this.viewCtx.getModelById(this.figure.substr(10));\n                console.log('figure', figureWidgetModel);\n                this.$set(this.models, 'figure', this.bbproxy(figureWidgetModel, [\"stereo\"], {\n                    \"scatters\": [\"visible\", \"description\", \"icon\", \"description_color\", \"hovered\"],\n                    \"meshes\": [\"visible\", \"description\", \"icon\", \"description_color\", \"hovered\"],\n                    \"volumes\": [\"visible\", \"description\", \"icon\", \"description_color\", \"hovered\"],\n                }));\n            })();\n        },\n        computed: {\n            marks() {\n                return [...this.models.figure.scatters, ...this.models.figure.meshes, ...this.models.figure.volumes]\n            },\n            // anyhover() {\n            //     if(this.models.scatters) {\n\n            //     }\n            //     return this.models.scatters && !this.models.scatters.every((s) => !s.hovered)\n            // }\n        },\n        methods: {\n            bbproxy(model, attrs, widgetAttrs) {\n                const proxy = {}\n\n                attrs.forEach((attr) => {\n                    console.log('setting', attr)\n                    let valueCopy = model.get(attr);\n                    model.on('change:' + attr, (_widget, value) => {\n                        proxy[attr] = value\n                    })\n                    Object.defineProperty(proxy, attr, {\n                        enumerable: true,\n                        configurable: true,                            \n                        get: () => {\n                            return valueCopy;\n                        },\n                        set: (value) => {\n                            valueCopy = value;\n                            model.set(attr, value);\n                            model.save_changes();\n                        },\n                    });\n                })\n                if(widgetAttrs) {\n                    Object.keys(widgetAttrs).forEach((attr) => {\n                        console.log('setting list', attr)\n                        let listValue = model.get(attr);\n                        let listValueProxy = [];\n                        if(listValue) {\n                            listValueProxy = listValue.map((k) => this.bbproxy(k, widgetAttrs[attr]));\n                        }\n                        model.on('change:' + attr, (_widget, value) => {\n                            console.log('changed list', attr, value)\n                            if(value) {\n                                proxy[attr] = value.map((k) => this.bbproxy(k, widgetAttrs[attr]))\n                            } else {\n                                proxy[attr] = null;\n                            }\n                        });\n\n                        Object.defineProperty(proxy, attr, {\n                            enumerable: true,\n                            configurable: true,                            \n                            get: () => {\n                                return listValueProxy;\n                            },\n                            set: (value) => {\n                                listValueProxy = value;\n                                console.log('ignore propagating set')\n                            },\n                        });\n                    })\n                }\n\n                return proxy;\n            },\n        }\n    }\n\n</script>\n"
          }
        },
        "389c6dfe374745b1bc09899934a21881": {
          "model_module": "@jupyter-widgets/base",
          "model_name": "LayoutModel",
          "model_module_version": "1.2.0",
          "state": {
            "_model_module": "@jupyter-widgets/base",
            "_model_module_version": "1.2.0",
            "_model_name": "LayoutModel",
            "_view_count": null,
            "_view_module": "@jupyter-widgets/base",
            "_view_module_version": "1.2.0",
            "_view_name": "LayoutView",
            "align_content": null,
            "align_items": null,
            "align_self": null,
            "border": null,
            "bottom": null,
            "display": null,
            "flex": null,
            "flex_flow": null,
            "grid_area": null,
            "grid_auto_columns": null,
            "grid_auto_flow": null,
            "grid_auto_rows": null,
            "grid_column": null,
            "grid_gap": null,
            "grid_row": null,
            "grid_template_areas": null,
            "grid_template_columns": null,
            "grid_template_rows": null,
            "height": null,
            "justify_content": null,
            "justify_items": null,
            "left": null,
            "margin": null,
            "max_height": null,
            "max_width": null,
            "min_height": null,
            "min_width": null,
            "object_fit": null,
            "object_position": null,
            "order": null,
            "overflow": null,
            "overflow_x": null,
            "overflow_y": null,
            "padding": null,
            "right": null,
            "top": null,
            "visibility": null,
            "width": null
          }
        },
        "713fa5723831498aa64f0a24a8ab24d2": {
          "model_module": "jupyter-vue",
          "model_name": "TemplateModel",
          "model_module_version": "^1.10.1",
          "state": {
            "_model_module": "jupyter-vue",
            "_model_module_version": "^1.10.1",
            "_model_name": "TemplateModel",
            "_view_count": null,
            "_view_module": null,
            "_view_module_version": "",
            "_view_name": null,
            "template": "<template>\n    <div class=\"ipyvolume-container-root\">\n        <jupyter-widget ref=\"figure\" :widget=\"figure\"></jupyter-widget>\n        <div class=ipyvolume-container-controls>\n            <v-expansion-panels accordion multiple v-model=\"panels\" flat>\n                <v-expansion-panel>\n                    <v-expansion-panel-header>Legend</v-expansion-panel-header>\n                    <v-expansion-panel-content>\n                        <jupyter-widget ref=\"legend\" :widget=\"legend\"></jupyter-widget>\n                    </v-expansion-panel-content>\n                </v-expansion-panel>\n                <v-expansion-panel>\n                    <v-expansion-panel-header>Misc</v-expansion-panel-header>\n                    <v-expansion-panel-content>\n                        <jupyter-widget v-for=\"child in children\" :key=\"child\" :widget=\"child\"></jupyter-widget>\n                    </v-expansion-panel-content>\n                </v-expansion-panel>\n                <v-expansion-panel>\n                    <v-expansion-panel-header>Debug</v-expansion-panel-header>\n                    <v-expansion-panel-content>\n                        <p>Show render pass:</p>\n                        <v-btn-toggle v-model=\"models.figure.show\" tile group>\n                            <v-btn value=\"render\">Render</v-btn>\n                            <v-btn value=\"front\">Front</v-btn>\n                            <v-btn value=\"back\">Back</v-btn>\n                            <v-btn value=\"id\">ID</v-btn>\n                            <v-btn value=\"coordinate\">Coordinate</v-btn>\n                        </v-btn-toggle>\n                    </v-expansion-panel-content>\n                </v-expansion-panel>\n            </v-expansion-panels>\n        </div>\n    </div>\n</template>\n<style id=\"ipyvolume-container\">\n    .ipyvolume-container-root {\n        display: flex;\n    }\n    .ipyvolume-container-controls {\n        display: flex;\n        flex-direction: column;\n    }\n</style>\n\n<script>\n    module.export = {\n        created() {\n            console.log('created', this.$refs)\n        },\n        mounted() {\n            const figureComponent = this.$refs.figure;\n            (async () => {\n                const figure = await this.viewCtx.getModelById(this.figure.substr(10));\n                function bbproxy(model, attrs, widgetAttrs) {\n                    const proxy = {}\n\n                    attrs.forEach((attr) => {\n                        console.log('setting', attr)\n                        let valueCopy = model.get(attr);\n                        model.on('change:' + attr, (_widget, value) => {\n                            proxy[attr] = value\n                        })\n                        Object.defineProperty(proxy, attr, {\n                            enumerable: true,\n                            configurable: true,\n                            get: () => {\n                                return valueCopy;\n                            },\n                            set: (value) => {\n                                valueCopy = value;\n                                model.set(attr, value);\n                                model.save_changes();\n                            },\n                        });\n                    })\n                    if(widgetAttrs) {\n                        Object.keys(widgetAttrs).forEach((attr) => {\n                            console.log('setting list', attr)\n                            let listValue = model.get(attr);\n                            let listValueProxy = [];\n                            if(listValue) {\n                                listValueProxy = listValue.map((k) => bbproxy(k, widgetAttrs[attr]));\n                            }\n                            proxy[attr] = listValueProxy;\n                            model.on('change:' + attr, (_widget, value) => {\n                                console.log('changed list', attr, value)\n                                if(value) {\n                                    proxy[attr] = value.map((k) => bbproxy(k, widgetAttrs[attr]))\n                                } else {\n                                    proxy[attr] = null;\n                                }\n                            });\n                            Object.defineProperty(proxy, attr, {\n                                enumerable: true,\n                                configurable: true,\n                                get: () => {\n                                    return listValueProxy;\n                                },\n                                set: (value) => {\n                                    listValueProxy = value;\n                                    console.log('ignore propagating set')\n                                },\n                            });\n                        })\n                    }\n\n                    return proxy;\n                }\n                this.$set(this.models, 'figure', bbproxy(figure, [\"show\"]));\n            })();\n        },\n        methods: {\n        }\n    }\n\n</script>\n"
          }
        },
        "84ee227a55ad40d59a5d858d2d2eb840": {
          "model_module": "jupyter-threejs",
          "model_name": "ShaderMaterialModel",
          "model_module_version": "^2.4.1",
          "state": {
            "_model_module": "jupyter-threejs",
            "_model_module_version": "^2.4.1",
            "_model_name": "ShaderMaterialModel",
            "_view_count": null,
            "_view_module": null,
            "_view_module_version": "",
            "_view_name": null,
            "alphaTest": 0,
            "blendDst": "OneMinusSrcAlphaFactor",
            "blendDstAlpha": 0,
            "blendEquation": "AddEquation",
            "blendEquationAlpha": 0,
            "blendSrc": "SrcAlphaFactor",
            "blendSrcAlpha": 0,
            "blending": "NormalBlending",
            "clipIntersection": false,
            "clipShadows": false,
            "clipping": false,
            "clippingPlanes": [],
            "colorWrite": true,
            "defines": null,
            "depthFunc": "LessEqualDepth",
            "depthTest": true,
            "depthWrite": true,
            "dithering": false,
            "extensions": {},
            "flatShading": false,
            "fog": false,
            "fragmentShader": "",
            "lights": false,
            "linewidth": 1,
            "morphNormals": false,
            "morphTargets": false,
            "name": "",
            "opacity": 1,
            "overdraw": 0,
            "polygonOffset": false,
            "polygonOffsetFactor": 0,
            "polygonOffsetUnits": 0,
            "precision": null,
            "premultipliedAlpha": false,
            "shadowSide": null,
            "side": "FrontSide",
            "skinning": false,
            "transparent": false,
            "type": "ShaderMaterial",
            "uniforms": {},
            "uniformsNeedUpdate": false,
            "vertexColors": "NoColors",
            "vertexShader": "",
            "visible": true,
            "wireframe": false,
            "wireframeLinewidth": 1
          }
        },
        "a2351c0976eb4abbb308380e76dd0d23": {
          "model_module": "jupyter-threejs",
          "model_name": "ShaderMaterialModel",
          "model_module_version": "^2.4.1",
          "state": {
            "_model_module": "jupyter-threejs",
            "_model_module_version": "^2.4.1",
            "_model_name": "ShaderMaterialModel",
            "_view_count": null,
            "_view_module": null,
            "_view_module_version": "",
            "_view_name": null,
            "alphaTest": 0,
            "blendDst": "OneMinusSrcAlphaFactor",
            "blendDstAlpha": 0,
            "blendEquation": "AddEquation",
            "blendEquationAlpha": 0,
            "blendSrc": "SrcAlphaFactor",
            "blendSrcAlpha": 0,
            "blending": "NormalBlending",
            "clipIntersection": false,
            "clipShadows": false,
            "clipping": false,
            "clippingPlanes": [],
            "colorWrite": true,
            "defines": null,
            "depthFunc": "LessEqualDepth",
            "depthTest": true,
            "depthWrite": true,
            "dithering": false,
            "extensions": {},
            "flatShading": false,
            "fog": false,
            "fragmentShader": "",
            "lights": false,
            "linewidth": 1,
            "morphNormals": false,
            "morphTargets": false,
            "name": "",
            "opacity": 1,
            "overdraw": 0,
            "polygonOffset": false,
            "polygonOffsetFactor": 0,
            "polygonOffsetUnits": 0,
            "precision": null,
            "premultipliedAlpha": false,
            "shadowSide": null,
            "side": "FrontSide",
            "skinning": false,
            "transparent": false,
            "type": "ShaderMaterial",
            "uniforms": {},
            "uniformsNeedUpdate": false,
            "vertexColors": "NoColors",
            "vertexShader": "",
            "visible": true,
            "wireframe": false,
            "wireframeLinewidth": 1
          }
        },
        "55e383842a57453a8b15da955e76b725": {
          "model_module": "ipyvolume",
          "model_name": "FigureModel",
          "model_module_version": "~0.6.3",
          "state": {
            "_dom_classes": [],
            "_model_module": "ipyvolume",
            "_model_module_version": "~0.6.3",
            "_model_name": "FigureModel",
            "_shaders": {},
            "_view_count": null,
            "_view_module": "ipyvolume",
            "_view_module_version": "~0.6.3",
            "_view_name": "FigureView",
            "ambient_coefficient": 0.5,
            "animation": 1000,
            "animation_exponent": 1,
            "box_center": [
              0.5,
              0.5,
              0.5
            ],
            "box_size": [
              1,
              1,
              1
            ],
            "camera": "IPY_MODEL_daaca5be31414c6788acab4b47c84244",
            "camera_center": [
              0,
              0,
              0
            ],
            "camera_control": "trackball",
            "camera_fov": 45,
            "capture_fps": null,
            "controls": null,
            "cube_resolution": 512,
            "diffuse_coefficient": 0.8,
            "displayscale": 1,
            "eye_separation": 6.4,
            "height": 500,
            "layout": "IPY_MODEL_adc5f7a58bb847a781c6ad045072dd26",
            "lights": [],
            "matrix_projection": [
              3.017766952966369,
              0,
              0,
              0,
              0,
              2.4142135623730954,
              0,
              0,
              0,
              0,
              -1.00010000500025,
              -1,
              0,
              0,
              -0.200010000500025,
              0
            ],
            "matrix_world": [
              0.4826339553077116,
              -0.2977727072436554,
              0.823647910216992,
              0,
              0.8710921157962458,
              0.26081198994832977,
              -0.41614376325593555,
              0,
              -0.090900995493194,
              0.9183183112189239,
              0.38526417987968936,
              0,
              -0.6314125378053816,
              -0.4406787969617992,
              -4.673514957947574,
              1
            ],
            "meshes": [],
            "mouse_mode": "normal",
            "orientation_control": false,
            "panorama_mode": "no",
            "pixel_ratio": null,
            "popup_debouce": 100,
            "render_continuous": false,
            "scales": {
              "x": "IPY_MODEL_804a2e9b8f9546819bd585088b2d4254",
              "y": "IPY_MODEL_28b0e87987394e6c9504f00df3f175b4",
              "z": "IPY_MODEL_a9d6050477854eb581a66ef2f93455db"
            },
            "scatters": [
              "IPY_MODEL_ad2d98684b62461e9e6a8640b2083505"
            ],
            "scene": "IPY_MODEL_c23338a8ae964053abc734eef4ce64f3",
            "selection_mode": "replace",
            "selector": "lasso",
            "show": "render",
            "slice_x": 0,
            "slice_y": 0,
            "slice_z": 0,
            "specular_coefficient": 0.5,
            "specular_exponent": 5,
            "stereo": false,
            "style": {
              "axes": {
                "visible": true,
                "label": {
                  "color": "black"
                },
                "ticklabel": {
                  "color": "black"
                },
                "color": "black"
              },
              "box": {
                "visible": true
              },
              "background-color": "white"
            },
            "volumes": [],
            "width": 400,
            "xlabel": "Petal Width",
            "ylabel": "Sepal Width",
            "zlabel": "Satosa"
          }
        },
        "0782802e724d421a9cf5e38d61c25dfc": {
          "model_module": "jupyter-vuetify",
          "model_name": "VuetifyTemplateModel",
          "model_module_version": "^1.8.10",
          "state": {
            "_component_instances": [],
            "_dom_classes": [],
            "_jupyter_vue": "IPY_MODEL_e60b8a9699214f80a5a9d00acd21d186",
            "_model_module": "jupyter-vuetify",
            "_model_module_version": "^1.8.10",
            "_model_name": "VuetifyTemplateModel",
            "_view_count": null,
            "_view_module": "jupyter-vuetify",
            "_view_module_version": "^1.8.10",
            "_view_name": "VuetifyView",
            "components": null,
            "css": null,
            "data": null,
            "events": [],
            "figure": "IPY_MODEL_55e383842a57453a8b15da955e76b725",
            "layout": "IPY_MODEL_def6f02fc0b747e39db5c3c5dea86e49",
            "methods": null,
            "models": {
              "figure": {
                "stereo": false,
                "scatters": [
                  {
                    "visible": true,
                    "description": "Scatter 0",
                    "icon": "mdi-chart-bubble",
                    "description_color": "red",
                    "hovered": false
                  }
                ],
                "meshes": [],
                "volumes": []
              }
            },
            "template": "IPY_MODEL_67256d56ef3143979dad921ae03c130a"
          }
        },
        "7317c4e0acfe4d249d8a07617c687677": {
          "model_module": "jupyter-vue",
          "model_name": "HtmlModel",
          "model_module_version": "^1.10.1",
          "state": {
            "_dom_classes": [],
            "_events": [],
            "_jupyter_vue": "IPY_MODEL_e60b8a9699214f80a5a9d00acd21d186",
            "_model_module": "jupyter-vue",
            "_model_module_version": "^1.10.1",
            "_model_name": "HtmlModel",
            "_view_count": null,
            "_view_module": "jupyter-vue",
            "_view_module_version": "^1.10.1",
            "_view_name": "VueView",
            "attributes": {},
            "children": [],
            "class_": null,
            "layout": null,
            "slot": null,
            "style_": "display: none",
            "tag": "span",
            "v_model": "!!disabled!!",
            "v_on": null,
            "v_slots": []
          }
        },
        "752016d896654a90baf8134e96588a14": {
          "model_module": "jupyter-vuetify",
          "model_name": "VuetifyTemplateModel",
          "model_module_version": "^1.8.10",
          "state": {
            "_component_instances": [],
            "_dom_classes": [],
            "_jupyter_vue": "IPY_MODEL_e60b8a9699214f80a5a9d00acd21d186",
            "_model_module": "jupyter-vuetify",
            "_model_module_version": "^1.8.10",
            "_model_name": "VuetifyTemplateModel",
            "_view_count": null,
            "_view_module": "jupyter-vuetify",
            "_view_module_version": "^1.8.10",
            "_view_name": "VuetifyView",
            "children": [],
            "components": null,
            "css": null,
            "data": null,
            "events": [],
            "figure": "IPY_MODEL_fec7d2e5123e4dea9c04b543c497fc27",
            "layout": "IPY_MODEL_025b818827834453961510b7839f62d5",
            "legend": "IPY_MODEL_70bad693eaef425d925dca929cca3a3e",
            "legend_show": true,
            "methods": null,
            "models": {
              "figure": {
                "show": "render"
              }
            },
            "panels": [
              0,
              1,
              2
            ],
            "template": "IPY_MODEL_713fa5723831498aa64f0a24a8ab24d2"
          }
        },
        "025b818827834453961510b7839f62d5": {
          "model_module": "@jupyter-widgets/base",
          "model_name": "LayoutModel",
          "model_module_version": "1.2.0",
          "state": {
            "_model_module": "@jupyter-widgets/base",
            "_model_module_version": "1.2.0",
            "_model_name": "LayoutModel",
            "_view_count": null,
            "_view_module": "@jupyter-widgets/base",
            "_view_module_version": "1.2.0",
            "_view_name": "LayoutView",
            "align_content": null,
            "align_items": null,
            "align_self": null,
            "border": null,
            "bottom": null,
            "display": null,
            "flex": null,
            "flex_flow": null,
            "grid_area": null,
            "grid_auto_columns": null,
            "grid_auto_flow": null,
            "grid_auto_rows": null,
            "grid_column": null,
            "grid_gap": null,
            "grid_row": null,
            "grid_template_areas": null,
            "grid_template_columns": null,
            "grid_template_rows": null,
            "height": null,
            "justify_content": null,
            "justify_items": null,
            "left": null,
            "margin": null,
            "max_height": null,
            "max_width": null,
            "min_height": null,
            "min_width": null,
            "object_fit": null,
            "object_position": null,
            "order": null,
            "overflow": null,
            "overflow_x": null,
            "overflow_y": null,
            "padding": null,
            "right": null,
            "top": null,
            "visibility": null,
            "width": null
          }
        },
        "fec7d2e5123e4dea9c04b543c497fc27": {
          "model_module": "ipyvolume",
          "model_name": "FigureModel",
          "model_module_version": "~0.6.3",
          "state": {
            "_dom_classes": [],
            "_model_module": "ipyvolume",
            "_model_module_version": "~0.6.3",
            "_model_name": "FigureModel",
            "_shaders": {},
            "_view_count": null,
            "_view_module": "ipyvolume",
            "_view_module_version": "~0.6.3",
            "_view_name": "FigureView",
            "ambient_coefficient": 0.5,
            "animation": 1000,
            "animation_exponent": 1,
            "box_center": [
              0.5,
              0.5,
              0.5
            ],
            "box_size": [
              1,
              1,
              1
            ],
            "camera": "IPY_MODEL_f5179495ad434835b5c33a5a8458d77e",
            "camera_center": [
              0,
              0,
              0
            ],
            "camera_control": "trackball",
            "camera_fov": 45,
            "capture_fps": null,
            "controls": null,
            "cube_resolution": 512,
            "diffuse_coefficient": 0.8,
            "displayscale": 1,
            "eye_separation": 6.4,
            "height": 500,
            "layout": "IPY_MODEL_75ba29aab42c4747b41f1a46353f88f3",
            "lights": [],
            "matrix_projection": [
              3.017766952966369,
              0,
              0,
              0,
              0,
              2.4142135623730954,
              0,
              0,
              0,
              0,
              -1.00010000500025,
              -1,
              0,
              0,
              -0.200010000500025,
              0
            ],
            "matrix_world": [
              1,
              0,
              0,
              0,
              0,
              1,
              6.123233995736766e-17,
              0,
              0,
              -6.123233995736766e-17,
              1,
              0,
              -0.5,
              -0.49999999999999994,
              -2.5,
              1
            ],
            "meshes": [],
            "mouse_mode": "normal",
            "orientation_control": false,
            "panorama_mode": "no",
            "pixel_ratio": null,
            "popup_debouce": 100,
            "render_continuous": false,
            "scales": {
              "x": "IPY_MODEL_f468ced6793b491a91ea90a1d79fb124",
              "y": "IPY_MODEL_1ec27fea182648faa70d81f1da7530be",
              "z": "IPY_MODEL_4d9ad23feb074d43a2ef010b5c978796"
            },
            "scatters": [
              "IPY_MODEL_4d2c392f7be344afa31f00d779344b84"
            ],
            "scene": "IPY_MODEL_aa4246b7533e46d4a60ec56807c7c1cd",
            "selection_mode": "replace",
            "selector": "lasso",
            "show": "render",
            "slice_x": 0,
            "slice_y": 0,
            "slice_z": 0,
            "specular_coefficient": 0.5,
            "specular_exponent": 5,
            "stereo": false,
            "style": {
              "axes": {
                "visible": true,
                "label": {
                  "color": "black"
                },
                "ticklabel": {
                  "color": "black"
                },
                "color": "black"
              },
              "box": {
                "visible": true
              },
              "background-color": "white"
            },
            "volumes": [],
            "width": 400,
            "xlabel": "Petal Width",
            "ylabel": "Sepal Width",
            "zlabel": "Satosa"
          }
        },
        "70bad693eaef425d925dca929cca3a3e": {
          "model_module": "jupyter-vuetify",
          "model_name": "VuetifyTemplateModel",
          "model_module_version": "^1.8.10",
          "state": {
            "_component_instances": [],
            "_dom_classes": [],
            "_jupyter_vue": "IPY_MODEL_e60b8a9699214f80a5a9d00acd21d186",
            "_model_module": "jupyter-vuetify",
            "_model_module_version": "^1.8.10",
            "_model_name": "VuetifyTemplateModel",
            "_view_count": null,
            "_view_module": "jupyter-vuetify",
            "_view_module_version": "^1.8.10",
            "_view_name": "VuetifyView",
            "components": null,
            "css": null,
            "data": null,
            "events": [],
            "figure": "IPY_MODEL_fec7d2e5123e4dea9c04b543c497fc27",
            "layout": "IPY_MODEL_baef85294e6546d29afed6fc990add18",
            "methods": null,
            "models": {
              "figure": {
                "stereo": false,
                "scatters": [
                  {
                    "visible": true,
                    "description": "Scatter 0",
                    "icon": "mdi-chart-bubble",
                    "description_color": "red",
                    "hovered": null
                  }
                ],
                "meshes": [],
                "volumes": []
              }
            },
            "template": "IPY_MODEL_67256d56ef3143979dad921ae03c130a"
          }
        },
        "baef85294e6546d29afed6fc990add18": {
          "model_module": "@jupyter-widgets/base",
          "model_name": "LayoutModel",
          "model_module_version": "1.2.0",
          "state": {
            "_model_module": "@jupyter-widgets/base",
            "_model_module_version": "1.2.0",
            "_model_name": "LayoutModel",
            "_view_count": null,
            "_view_module": "@jupyter-widgets/base",
            "_view_module_version": "1.2.0",
            "_view_name": "LayoutView",
            "align_content": null,
            "align_items": null,
            "align_self": null,
            "border": null,
            "bottom": null,
            "display": null,
            "flex": null,
            "flex_flow": null,
            "grid_area": null,
            "grid_auto_columns": null,
            "grid_auto_flow": null,
            "grid_auto_rows": null,
            "grid_column": null,
            "grid_gap": null,
            "grid_row": null,
            "grid_template_areas": null,
            "grid_template_columns": null,
            "grid_template_rows": null,
            "height": null,
            "justify_content": null,
            "justify_items": null,
            "left": null,
            "margin": null,
            "max_height": null,
            "max_width": null,
            "min_height": null,
            "min_width": null,
            "object_fit": null,
            "object_position": null,
            "order": null,
            "overflow": null,
            "overflow_x": null,
            "overflow_y": null,
            "padding": null,
            "right": null,
            "top": null,
            "visibility": null,
            "width": null
          }
        },
        "f5179495ad434835b5c33a5a8458d77e": {
          "model_module": "jupyter-threejs",
          "model_name": "PerspectiveCameraModel",
          "model_module_version": "^2.4.1",
          "state": {
            "_model_module": "jupyter-threejs",
            "_model_module_version": "^2.4.1",
            "_model_name": "PerspectiveCameraModel",
            "_view_count": null,
            "_view_module": null,
            "_view_module_version": "",
            "_view_name": null,
            "aspect": 0.8,
            "castShadow": false,
            "children": [],
            "far": 2000,
            "focus": 10,
            "fov": 45,
            "frustumCulled": true,
            "matrix": [
              1,
              0,
              0,
              0,
              0,
              1,
              -6.123233995736766e-17,
              0,
              0,
              6.123233995736766e-17,
              1,
              0,
              0,
              1.2246467991473532e-16,
              2,
              1
            ],
            "matrixAutoUpdate": true,
            "matrixWorld": [
              1,
              0,
              0,
              0,
              0,
              1,
              -6.123233995736766e-17,
              0,
              0,
              6.123233995736766e-17,
              1,
              0,
              0,
              1.2246467991473532e-16,
              2,
              1
            ],
            "matrixWorldInverse": [
              1,
              0,
              0,
              0,
              0,
              1,
              6.123233995736766e-17,
              0,
              0,
              -6.123233995736766e-17,
              1,
              0,
              0,
              0,
              -2,
              1
            ],
            "matrixWorldNeedsUpdate": true,
            "modelViewMatrix": [
              1,
              0,
              0,
              0,
              0,
              1,
              0,
              0,
              0,
              0,
              1,
              0,
              0,
              0,
              0,
              1
            ],
            "name": "",
            "near": 0.1,
            "normalMatrix": [
              1,
              0,
              0,
              0,
              1,
              0,
              0,
              0,
              1
            ],
            "position": [
              0,
              1.2246467991473532e-16,
              2
            ],
            "projectionMatrix": [
              3.017766952966369,
              0,
              0,
              0,
              0,
              2.4142135623730954,
              0,
              0,
              0,
              0,
              -1.00010000500025,
              -1,
              0,
              0,
              -0.200010000500025,
              0
            ],
            "quaternion": [
              -3.061616997868383e-17,
              0,
              0,
              1
            ],
            "receiveShadow": false,
            "renderOrder": 0,
            "rotation": [
              -6.123233995736766e-17,
              0,
              0,
              "XYZ"
            ],
            "scale": [
              1,
              1,
              1
            ],
            "type": "PerspectiveCamera",
            "up": [
              0,
              1,
              -6.123233995736766e-17
            ],
            "visible": true,
            "zoom": 1
          }
        },
        "75ba29aab42c4747b41f1a46353f88f3": {
          "model_module": "@jupyter-widgets/base",
          "model_name": "LayoutModel",
          "model_module_version": "1.2.0",
          "state": {
            "_model_module": "@jupyter-widgets/base",
            "_model_module_version": "1.2.0",
            "_model_name": "LayoutModel",
            "_view_count": null,
            "_view_module": "@jupyter-widgets/base",
            "_view_module_version": "1.2.0",
            "_view_name": "LayoutView",
            "align_content": null,
            "align_items": null,
            "align_self": null,
            "border": null,
            "bottom": null,
            "display": null,
            "flex": null,
            "flex_flow": null,
            "grid_area": null,
            "grid_auto_columns": null,
            "grid_auto_flow": null,
            "grid_auto_rows": null,
            "grid_column": null,
            "grid_gap": null,
            "grid_row": null,
            "grid_template_areas": null,
            "grid_template_columns": null,
            "grid_template_rows": null,
            "height": null,
            "justify_content": null,
            "justify_items": null,
            "left": null,
            "margin": null,
            "max_height": null,
            "max_width": null,
            "min_height": null,
            "min_width": null,
            "object_fit": null,
            "object_position": null,
            "order": null,
            "overflow": null,
            "overflow_x": null,
            "overflow_y": null,
            "padding": null,
            "right": null,
            "top": null,
            "visibility": null,
            "width": null
          }
        },
        "f468ced6793b491a91ea90a1d79fb124": {
          "model_module": "bqplot",
          "model_name": "LinearScaleModel",
          "model_module_version": "^0.5",
          "state": {
            "_model_module": "bqplot",
            "_model_module_version": "^0.5",
            "_model_name": "LinearScaleModel",
            "_view_count": null,
            "_view_module": "bqplot",
            "_view_module_version": "^0.5",
            "_view_name": "LinearScale",
            "allow_padding": true,
            "max": 1,
            "mid_range": 0.8,
            "min": 0,
            "min_range": 0.6,
            "reverse": false,
            "stabilized": false
          }
        },
        "1ec27fea182648faa70d81f1da7530be": {
          "model_module": "bqplot",
          "model_name": "LinearScaleModel",
          "model_module_version": "^0.5",
          "state": {
            "_model_module": "bqplot",
            "_model_module_version": "^0.5",
            "_model_name": "LinearScaleModel",
            "_view_count": null,
            "_view_module": "bqplot",
            "_view_module_version": "^0.5",
            "_view_name": "LinearScale",
            "allow_padding": true,
            "max": 1,
            "mid_range": 0.8,
            "min": 0,
            "min_range": 0.6,
            "reverse": false,
            "stabilized": false
          }
        },
        "4d9ad23feb074d43a2ef010b5c978796": {
          "model_module": "bqplot",
          "model_name": "LinearScaleModel",
          "model_module_version": "^0.5",
          "state": {
            "_model_module": "bqplot",
            "_model_module_version": "^0.5",
            "_model_name": "LinearScaleModel",
            "_view_count": null,
            "_view_module": "bqplot",
            "_view_module_version": "^0.5",
            "_view_name": "LinearScale",
            "allow_padding": true,
            "max": 1,
            "mid_range": 0.8,
            "min": -0.22000000000000003,
            "min_range": 0.6,
            "reverse": false,
            "stabilized": false
          }
        },
        "4d2c392f7be344afa31f00d779344b84": {
          "model_module": "ipyvolume",
          "model_name": "ScatterModel",
          "model_module_version": "~0.6.3",
          "state": {
            "_model_module": "ipyvolume",
            "_model_module_version": "~0.6.3",
            "_model_name": "ScatterModel",
            "_view_count": null,
            "_view_module": "ipyvolume",
            "_view_module_version": "~0.6.3",
            "_view_name": "ScatterView",
            "aux": null,
            "aux_scale": null,
            "cast_shadow": true,
            "clicked": null,
            "clicked_index": null,
            "color": "red",
            "color_scale": null,
            "color_selected": "white",
            "connected": false,
            "description": "Scatter 0",
            "description_color": "red",
            "geo": "diamond",
            "geo_matrix": [
              1,
              0,
              0,
              0,
              0,
              1,
              0,
              0,
              0,
              0,
              1,
              0,
              0,
              0,
              0,
              1
            ],
            "hovered": null,
            "hovered_index": null,
            "icon": "mdi-chart-bubble",
            "line_material": "IPY_MODEL_86ffa53854ea4ba2ba5aa918b095ad21",
            "material": "IPY_MODEL_4d41781f6edc49869c17915b5c8c24b6",
            "popup": null,
            "receive_shadow": true,
            "selected": null,
            "sequence_index": 0,
            "shader_snippets": {
              "size": "\n"
            },
            "size": 2,
            "size_selected": 2.6,
            "size_x_scale": null,
            "size_y_scale": null,
            "size_z_scale": null,
            "texture": null,
            "visible": true,
            "vx": null,
            "vy": null,
            "vz": null,
            "x": [
              {
                "dtype": "float32",
                "shape": [
                  36
                ]
              }
            ],
            "y": [
              {
                "dtype": "float32",
                "shape": [
                  36
                ]
              }
            ],
            "z": [
              {
                "dtype": "float32",
                "shape": [
                  36
                ]
              }
            ]
          }
        },
        "aa4246b7533e46d4a60ec56807c7c1cd": {
          "model_module": "jupyter-threejs",
          "model_name": "SceneModel",
          "model_module_version": "^2.4.1",
          "state": {
            "_model_module": "jupyter-threejs",
            "_model_module_version": "^2.4.1",
            "_model_name": "SceneModel",
            "_view_count": null,
            "_view_module": null,
            "_view_module_version": "",
            "_view_name": null,
            "autoUpdate": true,
            "background": null,
            "castShadow": false,
            "children": [],
            "fog": null,
            "frustumCulled": true,
            "matrix": [
              1,
              0,
              0,
              0,
              0,
              1,
              0,
              0,
              0,
              0,
              1,
              0,
              0,
              0,
              0,
              1
            ],
            "matrixAutoUpdate": true,
            "matrixWorld": [
              1,
              0,
              0,
              0,
              0,
              1,
              0,
              0,
              0,
              0,
              1,
              0,
              0,
              0,
              0,
              1
            ],
            "matrixWorldNeedsUpdate": false,
            "modelViewMatrix": [
              1,
              0,
              0,
              0,
              0,
              1,
              0,
              0,
              0,
              0,
              1,
              0,
              0,
              0,
              0,
              1
            ],
            "name": "",
            "normalMatrix": [
              1,
              0,
              0,
              0,
              1,
              0,
              0,
              0,
              1
            ],
            "overrideMaterial": null,
            "position": [
              0,
              0,
              0
            ],
            "quaternion": [
              0,
              0,
              0,
              1
            ],
            "receiveShadow": false,
            "renderOrder": 0,
            "rotation": [
              0,
              0,
              0,
              "XYZ"
            ],
            "scale": [
              1,
              1,
              1
            ],
            "type": "Scene",
            "up": [
              0,
              1,
              0
            ],
            "visible": true
          }
        },
        "86ffa53854ea4ba2ba5aa918b095ad21": {
          "model_module": "jupyter-threejs",
          "model_name": "ShaderMaterialModel",
          "model_module_version": "^2.4.1",
          "state": {
            "_model_module": "jupyter-threejs",
            "_model_module_version": "^2.4.1",
            "_model_name": "ShaderMaterialModel",
            "_view_count": null,
            "_view_module": null,
            "_view_module_version": "",
            "_view_name": null,
            "alphaTest": 0,
            "blendDst": "OneMinusSrcAlphaFactor",
            "blendDstAlpha": 0,
            "blendEquation": "AddEquation",
            "blendEquationAlpha": 0,
            "blendSrc": "SrcAlphaFactor",
            "blendSrcAlpha": 0,
            "blending": "NormalBlending",
            "clipIntersection": false,
            "clipShadows": false,
            "clipping": false,
            "clippingPlanes": [],
            "colorWrite": true,
            "defines": null,
            "depthFunc": "LessEqualDepth",
            "depthTest": true,
            "depthWrite": true,
            "dithering": false,
            "extensions": {},
            "flatShading": false,
            "fog": false,
            "fragmentShader": "",
            "lights": false,
            "linewidth": 1,
            "morphNormals": false,
            "morphTargets": false,
            "name": "",
            "opacity": 1,
            "overdraw": 0,
            "polygonOffset": false,
            "polygonOffsetFactor": 0,
            "polygonOffsetUnits": 0,
            "precision": null,
            "premultipliedAlpha": false,
            "shadowSide": null,
            "side": "FrontSide",
            "skinning": false,
            "transparent": false,
            "type": "ShaderMaterial",
            "uniforms": {},
            "uniformsNeedUpdate": false,
            "vertexColors": "NoColors",
            "vertexShader": "",
            "visible": true,
            "wireframe": false,
            "wireframeLinewidth": 1
          }
        },
        "4d41781f6edc49869c17915b5c8c24b6": {
          "model_module": "jupyter-threejs",
          "model_name": "ShaderMaterialModel",
          "model_module_version": "^2.4.1",
          "state": {
            "_model_module": "jupyter-threejs",
            "_model_module_version": "^2.4.1",
            "_model_name": "ShaderMaterialModel",
            "_view_count": null,
            "_view_module": null,
            "_view_module_version": "",
            "_view_name": null,
            "alphaTest": 0,
            "blendDst": "OneMinusSrcAlphaFactor",
            "blendDstAlpha": 0,
            "blendEquation": "AddEquation",
            "blendEquationAlpha": 0,
            "blendSrc": "SrcAlphaFactor",
            "blendSrcAlpha": 0,
            "blending": "NormalBlending",
            "clipIntersection": false,
            "clipShadows": false,
            "clipping": false,
            "clippingPlanes": [],
            "colorWrite": true,
            "defines": null,
            "depthFunc": "LessEqualDepth",
            "depthTest": true,
            "depthWrite": true,
            "dithering": false,
            "extensions": {},
            "flatShading": false,
            "fog": false,
            "fragmentShader": "",
            "lights": false,
            "linewidth": 1,
            "morphNormals": false,
            "morphTargets": false,
            "name": "",
            "opacity": 1,
            "overdraw": 0,
            "polygonOffset": false,
            "polygonOffsetFactor": 0,
            "polygonOffsetUnits": 0,
            "precision": null,
            "premultipliedAlpha": false,
            "shadowSide": null,
            "side": "FrontSide",
            "skinning": false,
            "transparent": false,
            "type": "ShaderMaterial",
            "uniforms": {},
            "uniformsNeedUpdate": false,
            "vertexColors": "NoColors",
            "vertexShader": "",
            "visible": true,
            "wireframe": false,
            "wireframeLinewidth": 1
          }
        },
        "ce6c73e780ba4dc29792326cae33d0ef": {
          "model_module": "jupyter-vue",
          "model_name": "HtmlModel",
          "model_module_version": "^1.10.1",
          "state": {
            "_dom_classes": [],
            "_events": [],
            "_jupyter_vue": "IPY_MODEL_e60b8a9699214f80a5a9d00acd21d186",
            "_model_module": "jupyter-vue",
            "_model_module_version": "^1.10.1",
            "_model_name": "HtmlModel",
            "_view_count": null,
            "_view_module": "jupyter-vue",
            "_view_module_version": "^1.10.1",
            "_view_name": "VueView",
            "attributes": {},
            "children": [],
            "class_": null,
            "layout": null,
            "slot": null,
            "style_": "display: none",
            "tag": "span",
            "v_model": "!!disabled!!",
            "v_on": null,
            "v_slots": []
          }
        },
        "d0dcf6615f074d6d96d9c3025bfa26e2": {
          "model_module": "jupyter-vuetify",
          "model_name": "VuetifyTemplateModel",
          "model_module_version": "^1.8.10",
          "state": {
            "_component_instances": [],
            "_dom_classes": [],
            "_jupyter_vue": "IPY_MODEL_e60b8a9699214f80a5a9d00acd21d186",
            "_model_module": "jupyter-vuetify",
            "_model_module_version": "^1.8.10",
            "_model_name": "VuetifyTemplateModel",
            "_view_count": null,
            "_view_module": "jupyter-vuetify",
            "_view_module_version": "^1.8.10",
            "_view_name": "VuetifyView",
            "children": [],
            "components": null,
            "css": null,
            "data": null,
            "events": [],
            "figure": "IPY_MODEL_541318e165e6432d8c88cfd3ef23ff63",
            "layout": "IPY_MODEL_d611721736ba4f2b88a31ec741c5246b",
            "legend": "IPY_MODEL_2f530259a0d8473d82f6145a48c06bad",
            "legend_show": true,
            "methods": null,
            "models": {
              "figure": {
                "show": "render"
              }
            },
            "panels": [
              0,
              1,
              2
            ],
            "template": "IPY_MODEL_713fa5723831498aa64f0a24a8ab24d2"
          }
        },
        "d611721736ba4f2b88a31ec741c5246b": {
          "model_module": "@jupyter-widgets/base",
          "model_name": "LayoutModel",
          "model_module_version": "1.2.0",
          "state": {
            "_model_module": "@jupyter-widgets/base",
            "_model_module_version": "1.2.0",
            "_model_name": "LayoutModel",
            "_view_count": null,
            "_view_module": "@jupyter-widgets/base",
            "_view_module_version": "1.2.0",
            "_view_name": "LayoutView",
            "align_content": null,
            "align_items": null,
            "align_self": null,
            "border": null,
            "bottom": null,
            "display": null,
            "flex": null,
            "flex_flow": null,
            "grid_area": null,
            "grid_auto_columns": null,
            "grid_auto_flow": null,
            "grid_auto_rows": null,
            "grid_column": null,
            "grid_gap": null,
            "grid_row": null,
            "grid_template_areas": null,
            "grid_template_columns": null,
            "grid_template_rows": null,
            "height": null,
            "justify_content": null,
            "justify_items": null,
            "left": null,
            "margin": null,
            "max_height": null,
            "max_width": null,
            "min_height": null,
            "min_width": null,
            "object_fit": null,
            "object_position": null,
            "order": null,
            "overflow": null,
            "overflow_x": null,
            "overflow_y": null,
            "padding": null,
            "right": null,
            "top": null,
            "visibility": null,
            "width": null
          }
        },
        "541318e165e6432d8c88cfd3ef23ff63": {
          "model_module": "ipyvolume",
          "model_name": "FigureModel",
          "model_module_version": "~0.6.3",
          "state": {
            "_dom_classes": [],
            "_model_module": "ipyvolume",
            "_model_module_version": "~0.6.3",
            "_model_name": "FigureModel",
            "_shaders": {},
            "_view_count": null,
            "_view_module": "ipyvolume",
            "_view_module_version": "~0.6.3",
            "_view_name": "FigureView",
            "ambient_coefficient": 0.5,
            "animation": 1000,
            "animation_exponent": 1,
            "box_center": [
              0.5,
              0.5,
              0.5
            ],
            "box_size": [
              1,
              1,
              1
            ],
            "camera": "IPY_MODEL_6eeee1bcef9f4cd09283a63e7e930624",
            "camera_center": [
              0,
              0,
              0
            ],
            "camera_control": "trackball",
            "camera_fov": 45,
            "capture_fps": null,
            "controls": null,
            "cube_resolution": 512,
            "diffuse_coefficient": 0.8,
            "displayscale": 1,
            "eye_separation": 6.4,
            "height": 500,
            "layout": "IPY_MODEL_b4bd525f030841edbde5cdb8e6b5075b",
            "lights": [],
            "matrix_projection": [
              3.017766952966369,
              0,
              0,
              0,
              0,
              2.4142135623730954,
              0,
              0,
              0,
              0,
              -1.00010000500025,
              -1,
              0,
              0,
              -0.200010000500025,
              0
            ],
            "matrix_world": [
              1,
              0,
              0,
              0,
              0,
              1,
              6.123233995736766e-17,
              0,
              0,
              -6.123233995736766e-17,
              1,
              0,
              -0.5,
              -0.49999999999999994,
              -2.5,
              1
            ],
            "meshes": [],
            "mouse_mode": "normal",
            "orientation_control": false,
            "panorama_mode": "no",
            "pixel_ratio": null,
            "popup_debouce": 100,
            "render_continuous": false,
            "scales": {
              "x": "IPY_MODEL_7addf53a1a7940beac79793643a6a93d",
              "y": "IPY_MODEL_acb126c8f19247f78503cdce44d7d514",
              "z": "IPY_MODEL_8f70423a1c7c4e1990d9a9492a371780"
            },
            "scatters": [
              "IPY_MODEL_b6dd025c75f240a5ac848424ed891470"
            ],
            "scene": "IPY_MODEL_1d4c6bc3ae0242d3afcb784e104aed90",
            "selection_mode": "replace",
            "selector": "lasso",
            "show": "render",
            "slice_x": 0,
            "slice_y": 0,
            "slice_z": 0,
            "specular_coefficient": 0.5,
            "specular_exponent": 5,
            "stereo": false,
            "style": {
              "axes": {
                "visible": true,
                "label": {
                  "color": "black"
                },
                "ticklabel": {
                  "color": "black"
                },
                "color": "black"
              },
              "box": {
                "visible": true
              },
              "background-color": "white"
            },
            "volumes": [],
            "width": 400,
            "xlabel": "Petal Width",
            "ylabel": "Sepal Width",
            "zlabel": "Satosa"
          }
        },
        "2f530259a0d8473d82f6145a48c06bad": {
          "model_module": "jupyter-vuetify",
          "model_name": "VuetifyTemplateModel",
          "model_module_version": "^1.8.10",
          "state": {
            "_component_instances": [],
            "_dom_classes": [],
            "_jupyter_vue": "IPY_MODEL_e60b8a9699214f80a5a9d00acd21d186",
            "_model_module": "jupyter-vuetify",
            "_model_module_version": "^1.8.10",
            "_model_name": "VuetifyTemplateModel",
            "_view_count": null,
            "_view_module": "jupyter-vuetify",
            "_view_module_version": "^1.8.10",
            "_view_name": "VuetifyView",
            "components": null,
            "css": null,
            "data": null,
            "events": [],
            "figure": "IPY_MODEL_541318e165e6432d8c88cfd3ef23ff63",
            "layout": "IPY_MODEL_7546f079e6a9412f9dfd4e2d899d973a",
            "methods": null,
            "models": {
              "figure": {
                "stereo": false,
                "scatters": [
                  {
                    "visible": true,
                    "description": "Scatter 0",
                    "icon": "mdi-chart-bubble",
                    "description_color": "red",
                    "hovered": null
                  }
                ],
                "meshes": [],
                "volumes": []
              }
            },
            "template": "IPY_MODEL_67256d56ef3143979dad921ae03c130a"
          }
        },
        "7546f079e6a9412f9dfd4e2d899d973a": {
          "model_module": "@jupyter-widgets/base",
          "model_name": "LayoutModel",
          "model_module_version": "1.2.0",
          "state": {
            "_model_module": "@jupyter-widgets/base",
            "_model_module_version": "1.2.0",
            "_model_name": "LayoutModel",
            "_view_count": null,
            "_view_module": "@jupyter-widgets/base",
            "_view_module_version": "1.2.0",
            "_view_name": "LayoutView",
            "align_content": null,
            "align_items": null,
            "align_self": null,
            "border": null,
            "bottom": null,
            "display": null,
            "flex": null,
            "flex_flow": null,
            "grid_area": null,
            "grid_auto_columns": null,
            "grid_auto_flow": null,
            "grid_auto_rows": null,
            "grid_column": null,
            "grid_gap": null,
            "grid_row": null,
            "grid_template_areas": null,
            "grid_template_columns": null,
            "grid_template_rows": null,
            "height": null,
            "justify_content": null,
            "justify_items": null,
            "left": null,
            "margin": null,
            "max_height": null,
            "max_width": null,
            "min_height": null,
            "min_width": null,
            "object_fit": null,
            "object_position": null,
            "order": null,
            "overflow": null,
            "overflow_x": null,
            "overflow_y": null,
            "padding": null,
            "right": null,
            "top": null,
            "visibility": null,
            "width": null
          }
        },
        "6eeee1bcef9f4cd09283a63e7e930624": {
          "model_module": "jupyter-threejs",
          "model_name": "PerspectiveCameraModel",
          "model_module_version": "^2.4.1",
          "state": {
            "_model_module": "jupyter-threejs",
            "_model_module_version": "^2.4.1",
            "_model_name": "PerspectiveCameraModel",
            "_view_count": null,
            "_view_module": null,
            "_view_module_version": "",
            "_view_name": null,
            "aspect": 0.8,
            "castShadow": false,
            "children": [],
            "far": 2000,
            "focus": 10,
            "fov": 45,
            "frustumCulled": true,
            "matrix": [
              1,
              0,
              0,
              0,
              0,
              1,
              -6.123233995736766e-17,
              0,
              0,
              6.123233995736766e-17,
              1,
              0,
              0,
              1.2246467991473532e-16,
              2,
              1
            ],
            "matrixAutoUpdate": true,
            "matrixWorld": [
              1,
              0,
              0,
              0,
              0,
              1,
              -6.123233995736766e-17,
              0,
              0,
              6.123233995736766e-17,
              1,
              0,
              0,
              1.2246467991473532e-16,
              2,
              1
            ],
            "matrixWorldInverse": [
              1,
              0,
              0,
              0,
              0,
              1,
              6.123233995736766e-17,
              0,
              0,
              -6.123233995736766e-17,
              1,
              0,
              0,
              0,
              -2,
              1
            ],
            "matrixWorldNeedsUpdate": true,
            "modelViewMatrix": [
              1,
              0,
              0,
              0,
              0,
              1,
              0,
              0,
              0,
              0,
              1,
              0,
              0,
              0,
              0,
              1
            ],
            "name": "",
            "near": 0.1,
            "normalMatrix": [
              1,
              0,
              0,
              0,
              1,
              0,
              0,
              0,
              1
            ],
            "position": [
              0,
              1.2246467991473532e-16,
              2
            ],
            "projectionMatrix": [
              3.017766952966369,
              0,
              0,
              0,
              0,
              2.4142135623730954,
              0,
              0,
              0,
              0,
              -1.00010000500025,
              -1,
              0,
              0,
              -0.200010000500025,
              0
            ],
            "quaternion": [
              -3.061616997868383e-17,
              0,
              0,
              1
            ],
            "receiveShadow": false,
            "renderOrder": 0,
            "rotation": [
              -6.123233995736766e-17,
              0,
              0,
              "XYZ"
            ],
            "scale": [
              1,
              1,
              1
            ],
            "type": "PerspectiveCamera",
            "up": [
              0,
              1,
              -6.123233995736766e-17
            ],
            "visible": true,
            "zoom": 1
          }
        },
        "b4bd525f030841edbde5cdb8e6b5075b": {
          "model_module": "@jupyter-widgets/base",
          "model_name": "LayoutModel",
          "model_module_version": "1.2.0",
          "state": {
            "_model_module": "@jupyter-widgets/base",
            "_model_module_version": "1.2.0",
            "_model_name": "LayoutModel",
            "_view_count": null,
            "_view_module": "@jupyter-widgets/base",
            "_view_module_version": "1.2.0",
            "_view_name": "LayoutView",
            "align_content": null,
            "align_items": null,
            "align_self": null,
            "border": null,
            "bottom": null,
            "display": null,
            "flex": null,
            "flex_flow": null,
            "grid_area": null,
            "grid_auto_columns": null,
            "grid_auto_flow": null,
            "grid_auto_rows": null,
            "grid_column": null,
            "grid_gap": null,
            "grid_row": null,
            "grid_template_areas": null,
            "grid_template_columns": null,
            "grid_template_rows": null,
            "height": null,
            "justify_content": null,
            "justify_items": null,
            "left": null,
            "margin": null,
            "max_height": null,
            "max_width": null,
            "min_height": null,
            "min_width": null,
            "object_fit": null,
            "object_position": null,
            "order": null,
            "overflow": null,
            "overflow_x": null,
            "overflow_y": null,
            "padding": null,
            "right": null,
            "top": null,
            "visibility": null,
            "width": null
          }
        },
        "7addf53a1a7940beac79793643a6a93d": {
          "model_module": "bqplot",
          "model_name": "LinearScaleModel",
          "model_module_version": "^0.5",
          "state": {
            "_model_module": "bqplot",
            "_model_module_version": "^0.5",
            "_model_name": "LinearScaleModel",
            "_view_count": null,
            "_view_module": "bqplot",
            "_view_module_version": "^0.5",
            "_view_name": "LinearScale",
            "allow_padding": true,
            "max": 1,
            "mid_range": 0.8,
            "min": 0,
            "min_range": 0.6,
            "reverse": false,
            "stabilized": false
          }
        },
        "acb126c8f19247f78503cdce44d7d514": {
          "model_module": "bqplot",
          "model_name": "LinearScaleModel",
          "model_module_version": "^0.5",
          "state": {
            "_model_module": "bqplot",
            "_model_module_version": "^0.5",
            "_model_name": "LinearScaleModel",
            "_view_count": null,
            "_view_module": "bqplot",
            "_view_module_version": "^0.5",
            "_view_name": "LinearScale",
            "allow_padding": true,
            "max": 1,
            "mid_range": 0.8,
            "min": 0,
            "min_range": 0.6,
            "reverse": false,
            "stabilized": false
          }
        },
        "8f70423a1c7c4e1990d9a9492a371780": {
          "model_module": "bqplot",
          "model_name": "LinearScaleModel",
          "model_module_version": "^0.5",
          "state": {
            "_model_module": "bqplot",
            "_model_module_version": "^0.5",
            "_model_name": "LinearScaleModel",
            "_view_count": null,
            "_view_module": "bqplot",
            "_view_module_version": "^0.5",
            "_view_name": "LinearScale",
            "allow_padding": true,
            "max": 1.1,
            "mid_range": 0.8,
            "min": 0,
            "min_range": 0.6,
            "reverse": false,
            "stabilized": false
          }
        },
        "b6dd025c75f240a5ac848424ed891470": {
          "model_module": "ipyvolume",
          "model_name": "ScatterModel",
          "model_module_version": "~0.6.3",
          "state": {
            "_model_module": "ipyvolume",
            "_model_module_version": "~0.6.3",
            "_model_name": "ScatterModel",
            "_view_count": null,
            "_view_module": "ipyvolume",
            "_view_module_version": "~0.6.3",
            "_view_name": "ScatterView",
            "aux": null,
            "aux_scale": null,
            "cast_shadow": true,
            "clicked": null,
            "clicked_index": null,
            "color": "red",
            "color_scale": null,
            "color_selected": "white",
            "connected": false,
            "description": "Scatter 0",
            "description_color": "red",
            "geo": "diamond",
            "geo_matrix": [
              1,
              0,
              0,
              0,
              0,
              1,
              0,
              0,
              0,
              0,
              1,
              0,
              0,
              0,
              0,
              1
            ],
            "hovered": null,
            "hovered_index": null,
            "icon": "mdi-chart-bubble",
            "line_material": "IPY_MODEL_781102db00d942cca75c25f85b8012af",
            "material": "IPY_MODEL_17862f53b42640ee9c1a1bb19adcc248",
            "popup": null,
            "receive_shadow": true,
            "selected": null,
            "sequence_index": 0,
            "shader_snippets": {
              "size": "\n"
            },
            "size": 2,
            "size_selected": 2.6,
            "size_x_scale": null,
            "size_y_scale": null,
            "size_z_scale": null,
            "texture": null,
            "visible": true,
            "vx": null,
            "vy": null,
            "vz": null,
            "x": [
              {
                "dtype": "float32",
                "shape": [
                  36
                ]
              }
            ],
            "y": [
              {
                "dtype": "float32",
                "shape": [
                  36
                ]
              }
            ],
            "z": [
              {
                "dtype": "float32",
                "shape": [
                  36
                ]
              }
            ]
          }
        },
        "1d4c6bc3ae0242d3afcb784e104aed90": {
          "model_module": "jupyter-threejs",
          "model_name": "SceneModel",
          "model_module_version": "^2.4.1",
          "state": {
            "_model_module": "jupyter-threejs",
            "_model_module_version": "^2.4.1",
            "_model_name": "SceneModel",
            "_view_count": null,
            "_view_module": null,
            "_view_module_version": "",
            "_view_name": null,
            "autoUpdate": true,
            "background": null,
            "castShadow": false,
            "children": [],
            "fog": null,
            "frustumCulled": true,
            "matrix": [
              1,
              0,
              0,
              0,
              0,
              1,
              0,
              0,
              0,
              0,
              1,
              0,
              0,
              0,
              0,
              1
            ],
            "matrixAutoUpdate": true,
            "matrixWorld": [
              1,
              0,
              0,
              0,
              0,
              1,
              0,
              0,
              0,
              0,
              1,
              0,
              0,
              0,
              0,
              1
            ],
            "matrixWorldNeedsUpdate": false,
            "modelViewMatrix": [
              1,
              0,
              0,
              0,
              0,
              1,
              0,
              0,
              0,
              0,
              1,
              0,
              0,
              0,
              0,
              1
            ],
            "name": "",
            "normalMatrix": [
              1,
              0,
              0,
              0,
              1,
              0,
              0,
              0,
              1
            ],
            "overrideMaterial": null,
            "position": [
              0,
              0,
              0
            ],
            "quaternion": [
              0,
              0,
              0,
              1
            ],
            "receiveShadow": false,
            "renderOrder": 0,
            "rotation": [
              0,
              0,
              0,
              "XYZ"
            ],
            "scale": [
              1,
              1,
              1
            ],
            "type": "Scene",
            "up": [
              0,
              1,
              0
            ],
            "visible": true
          }
        },
        "781102db00d942cca75c25f85b8012af": {
          "model_module": "jupyter-threejs",
          "model_name": "ShaderMaterialModel",
          "model_module_version": "^2.4.1",
          "state": {
            "_model_module": "jupyter-threejs",
            "_model_module_version": "^2.4.1",
            "_model_name": "ShaderMaterialModel",
            "_view_count": null,
            "_view_module": null,
            "_view_module_version": "",
            "_view_name": null,
            "alphaTest": 0,
            "blendDst": "OneMinusSrcAlphaFactor",
            "blendDstAlpha": 0,
            "blendEquation": "AddEquation",
            "blendEquationAlpha": 0,
            "blendSrc": "SrcAlphaFactor",
            "blendSrcAlpha": 0,
            "blending": "NormalBlending",
            "clipIntersection": false,
            "clipShadows": false,
            "clipping": false,
            "clippingPlanes": [],
            "colorWrite": true,
            "defines": null,
            "depthFunc": "LessEqualDepth",
            "depthTest": true,
            "depthWrite": true,
            "dithering": false,
            "extensions": {},
            "flatShading": false,
            "fog": false,
            "fragmentShader": "",
            "lights": false,
            "linewidth": 1,
            "morphNormals": false,
            "morphTargets": false,
            "name": "",
            "opacity": 1,
            "overdraw": 0,
            "polygonOffset": false,
            "polygonOffsetFactor": 0,
            "polygonOffsetUnits": 0,
            "precision": null,
            "premultipliedAlpha": false,
            "shadowSide": null,
            "side": "FrontSide",
            "skinning": false,
            "transparent": false,
            "type": "ShaderMaterial",
            "uniforms": {},
            "uniformsNeedUpdate": false,
            "vertexColors": "NoColors",
            "vertexShader": "",
            "visible": true,
            "wireframe": false,
            "wireframeLinewidth": 1
          }
        },
        "17862f53b42640ee9c1a1bb19adcc248": {
          "model_module": "jupyter-threejs",
          "model_name": "ShaderMaterialModel",
          "model_module_version": "^2.4.1",
          "state": {
            "_model_module": "jupyter-threejs",
            "_model_module_version": "^2.4.1",
            "_model_name": "ShaderMaterialModel",
            "_view_count": null,
            "_view_module": null,
            "_view_module_version": "",
            "_view_name": null,
            "alphaTest": 0,
            "blendDst": "OneMinusSrcAlphaFactor",
            "blendDstAlpha": 0,
            "blendEquation": "AddEquation",
            "blendEquationAlpha": 0,
            "blendSrc": "SrcAlphaFactor",
            "blendSrcAlpha": 0,
            "blending": "NormalBlending",
            "clipIntersection": false,
            "clipShadows": false,
            "clipping": false,
            "clippingPlanes": [],
            "colorWrite": true,
            "defines": null,
            "depthFunc": "LessEqualDepth",
            "depthTest": true,
            "depthWrite": true,
            "dithering": false,
            "extensions": {},
            "flatShading": false,
            "fog": false,
            "fragmentShader": "",
            "lights": false,
            "linewidth": 1,
            "morphNormals": false,
            "morphTargets": false,
            "name": "",
            "opacity": 1,
            "overdraw": 0,
            "polygonOffset": false,
            "polygonOffsetFactor": 0,
            "polygonOffsetUnits": 0,
            "precision": null,
            "premultipliedAlpha": false,
            "shadowSide": null,
            "side": "FrontSide",
            "skinning": false,
            "transparent": false,
            "type": "ShaderMaterial",
            "uniforms": {},
            "uniformsNeedUpdate": false,
            "vertexColors": "NoColors",
            "vertexShader": "",
            "visible": true,
            "wireframe": false,
            "wireframeLinewidth": 1
          }
        },
        "f8854c78b8384140a2a77a803f811e79": {
          "model_module": "jupyter-vue",
          "model_name": "HtmlModel",
          "model_module_version": "^1.10.1",
          "state": {
            "_dom_classes": [],
            "_events": [],
            "_jupyter_vue": "IPY_MODEL_e60b8a9699214f80a5a9d00acd21d186",
            "_model_module": "jupyter-vue",
            "_model_module_version": "^1.10.1",
            "_model_name": "HtmlModel",
            "_view_count": null,
            "_view_module": "jupyter-vue",
            "_view_module_version": "^1.10.1",
            "_view_name": "VueView",
            "attributes": {},
            "children": [],
            "class_": null,
            "layout": null,
            "slot": null,
            "style_": "display: none",
            "tag": "span",
            "v_model": "!!disabled!!",
            "v_on": null,
            "v_slots": []
          }
        },
        "d3973181100540c090664d21f3094207": {
          "model_module": "jupyter-vuetify",
          "model_name": "VuetifyTemplateModel",
          "model_module_version": "^1.8.10",
          "state": {
            "_component_instances": [],
            "_dom_classes": [],
            "_jupyter_vue": "IPY_MODEL_e60b8a9699214f80a5a9d00acd21d186",
            "_model_module": "jupyter-vuetify",
            "_model_module_version": "^1.8.10",
            "_model_name": "VuetifyTemplateModel",
            "_view_count": null,
            "_view_module": "jupyter-vuetify",
            "_view_module_version": "^1.8.10",
            "_view_name": "VuetifyView",
            "children": [],
            "components": null,
            "css": null,
            "data": null,
            "events": [],
            "figure": "IPY_MODEL_5436f50407b54315a33cdecefa69e065",
            "layout": "IPY_MODEL_e5ecae7cf8b34d65a49e32975f801ad7",
            "legend": "IPY_MODEL_dedccc11f12944898a464368240636e1",
            "legend_show": true,
            "methods": null,
            "models": {
              "figure": {
                "show": "render"
              }
            },
            "panels": [
              0,
              1,
              2
            ],
            "template": "IPY_MODEL_713fa5723831498aa64f0a24a8ab24d2"
          }
        },
        "e5ecae7cf8b34d65a49e32975f801ad7": {
          "model_module": "@jupyter-widgets/base",
          "model_name": "LayoutModel",
          "model_module_version": "1.2.0",
          "state": {
            "_model_module": "@jupyter-widgets/base",
            "_model_module_version": "1.2.0",
            "_model_name": "LayoutModel",
            "_view_count": null,
            "_view_module": "@jupyter-widgets/base",
            "_view_module_version": "1.2.0",
            "_view_name": "LayoutView",
            "align_content": null,
            "align_items": null,
            "align_self": null,
            "border": null,
            "bottom": null,
            "display": null,
            "flex": null,
            "flex_flow": null,
            "grid_area": null,
            "grid_auto_columns": null,
            "grid_auto_flow": null,
            "grid_auto_rows": null,
            "grid_column": null,
            "grid_gap": null,
            "grid_row": null,
            "grid_template_areas": null,
            "grid_template_columns": null,
            "grid_template_rows": null,
            "height": null,
            "justify_content": null,
            "justify_items": null,
            "left": null,
            "margin": null,
            "max_height": null,
            "max_width": null,
            "min_height": null,
            "min_width": null,
            "object_fit": null,
            "object_position": null,
            "order": null,
            "overflow": null,
            "overflow_x": null,
            "overflow_y": null,
            "padding": null,
            "right": null,
            "top": null,
            "visibility": null,
            "width": null
          }
        },
        "5436f50407b54315a33cdecefa69e065": {
          "model_module": "ipyvolume",
          "model_name": "FigureModel",
          "model_module_version": "~0.6.3",
          "state": {
            "_dom_classes": [],
            "_model_module": "ipyvolume",
            "_model_module_version": "~0.6.3",
            "_model_name": "FigureModel",
            "_shaders": {},
            "_view_count": null,
            "_view_module": "ipyvolume",
            "_view_module_version": "~0.6.3",
            "_view_name": "FigureView",
            "ambient_coefficient": 0.5,
            "animation": 1000,
            "animation_exponent": 1,
            "box_center": [
              0.5,
              0.5,
              0.5
            ],
            "box_size": [
              1,
              1,
              1
            ],
            "camera": "IPY_MODEL_2fbadaf29aa848b9bdc3b4ef7b70383f",
            "camera_center": [
              0,
              0,
              0
            ],
            "camera_control": "trackball",
            "camera_fov": 45,
            "capture_fps": null,
            "controls": null,
            "cube_resolution": 512,
            "diffuse_coefficient": 0.8,
            "displayscale": 1,
            "eye_separation": 6.4,
            "height": 500,
            "layout": "IPY_MODEL_9569f8026feb4c6a864e3475c6d51965",
            "lights": [],
            "matrix_projection": [
              3.017766952966369,
              0,
              0,
              0,
              0,
              2.4142135623730954,
              0,
              0,
              0,
              0,
              -1.00010000500025,
              -1,
              0,
              0,
              -0.200010000500025,
              0
            ],
            "matrix_world": [
              1,
              0,
              0,
              0,
              0,
              1,
              6.123233995736766e-17,
              0,
              0,
              -6.123233995736766e-17,
              1,
              0,
              -0.5,
              -0.49999999999999994,
              -2.5,
              1
            ],
            "meshes": [],
            "mouse_mode": "normal",
            "orientation_control": false,
            "panorama_mode": "no",
            "pixel_ratio": null,
            "popup_debouce": 100,
            "render_continuous": false,
            "scales": {
              "x": "IPY_MODEL_b4c7761ebf664c5c9e36623f59e018d0",
              "y": "IPY_MODEL_2aadc94ce8c848ff98c416354789b88c",
              "z": "IPY_MODEL_8b4302974835453b96609d70a844b05c"
            },
            "scatters": [
              "IPY_MODEL_ec88b31364e04e98913605e50b4e2337"
            ],
            "scene": "IPY_MODEL_2a3a053b5e3e403992db2eb8cf5cf06f",
            "selection_mode": "replace",
            "selector": "lasso",
            "show": "render",
            "slice_x": 0,
            "slice_y": 0,
            "slice_z": 0,
            "specular_coefficient": 0.5,
            "specular_exponent": 5,
            "stereo": false,
            "style": {
              "axes": {
                "visible": true,
                "label": {
                  "color": "black"
                },
                "ticklabel": {
                  "color": "black"
                },
                "color": "black"
              },
              "box": {
                "visible": true
              },
              "background-color": "white"
            },
            "volumes": [],
            "width": 400,
            "xlabel": "Petal Width",
            "ylabel": "Sepal Width",
            "zlabel": "Satosa"
          }
        },
        "dedccc11f12944898a464368240636e1": {
          "model_module": "jupyter-vuetify",
          "model_name": "VuetifyTemplateModel",
          "model_module_version": "^1.8.10",
          "state": {
            "_component_instances": [],
            "_dom_classes": [],
            "_jupyter_vue": "IPY_MODEL_e60b8a9699214f80a5a9d00acd21d186",
            "_model_module": "jupyter-vuetify",
            "_model_module_version": "^1.8.10",
            "_model_name": "VuetifyTemplateModel",
            "_view_count": null,
            "_view_module": "jupyter-vuetify",
            "_view_module_version": "^1.8.10",
            "_view_name": "VuetifyView",
            "components": null,
            "css": null,
            "data": null,
            "events": [],
            "figure": "IPY_MODEL_5436f50407b54315a33cdecefa69e065",
            "layout": "IPY_MODEL_1ca2a7d77eb84e6db832b731b94aaf28",
            "methods": null,
            "models": {
              "figure": {
                "stereo": false,
                "scatters": [
                  {
                    "visible": true,
                    "description": "Scatter 0",
                    "icon": "mdi-chart-bubble",
                    "description_color": "red",
                    "hovered": null
                  }
                ],
                "meshes": [],
                "volumes": []
              }
            },
            "template": "IPY_MODEL_67256d56ef3143979dad921ae03c130a"
          }
        },
        "1ca2a7d77eb84e6db832b731b94aaf28": {
          "model_module": "@jupyter-widgets/base",
          "model_name": "LayoutModel",
          "model_module_version": "1.2.0",
          "state": {
            "_model_module": "@jupyter-widgets/base",
            "_model_module_version": "1.2.0",
            "_model_name": "LayoutModel",
            "_view_count": null,
            "_view_module": "@jupyter-widgets/base",
            "_view_module_version": "1.2.0",
            "_view_name": "LayoutView",
            "align_content": null,
            "align_items": null,
            "align_self": null,
            "border": null,
            "bottom": null,
            "display": null,
            "flex": null,
            "flex_flow": null,
            "grid_area": null,
            "grid_auto_columns": null,
            "grid_auto_flow": null,
            "grid_auto_rows": null,
            "grid_column": null,
            "grid_gap": null,
            "grid_row": null,
            "grid_template_areas": null,
            "grid_template_columns": null,
            "grid_template_rows": null,
            "height": null,
            "justify_content": null,
            "justify_items": null,
            "left": null,
            "margin": null,
            "max_height": null,
            "max_width": null,
            "min_height": null,
            "min_width": null,
            "object_fit": null,
            "object_position": null,
            "order": null,
            "overflow": null,
            "overflow_x": null,
            "overflow_y": null,
            "padding": null,
            "right": null,
            "top": null,
            "visibility": null,
            "width": null
          }
        },
        "2fbadaf29aa848b9bdc3b4ef7b70383f": {
          "model_module": "jupyter-threejs",
          "model_name": "PerspectiveCameraModel",
          "model_module_version": "^2.4.1",
          "state": {
            "_model_module": "jupyter-threejs",
            "_model_module_version": "^2.4.1",
            "_model_name": "PerspectiveCameraModel",
            "_view_count": null,
            "_view_module": null,
            "_view_module_version": "",
            "_view_name": null,
            "aspect": 0.8,
            "castShadow": false,
            "children": [],
            "far": 2000,
            "focus": 10,
            "fov": 45,
            "frustumCulled": true,
            "matrix": [
              1,
              0,
              0,
              0,
              0,
              1,
              -6.123233995736766e-17,
              0,
              0,
              6.123233995736766e-17,
              1,
              0,
              0,
              1.2246467991473532e-16,
              2,
              1
            ],
            "matrixAutoUpdate": true,
            "matrixWorld": [
              1,
              0,
              0,
              0,
              0,
              1,
              -6.123233995736766e-17,
              0,
              0,
              6.123233995736766e-17,
              1,
              0,
              0,
              1.2246467991473532e-16,
              2,
              1
            ],
            "matrixWorldInverse": [
              1,
              0,
              0,
              0,
              0,
              1,
              6.123233995736766e-17,
              0,
              0,
              -6.123233995736766e-17,
              1,
              0,
              0,
              0,
              -2,
              1
            ],
            "matrixWorldNeedsUpdate": true,
            "modelViewMatrix": [
              1,
              0,
              0,
              0,
              0,
              1,
              0,
              0,
              0,
              0,
              1,
              0,
              0,
              0,
              0,
              1
            ],
            "name": "",
            "near": 0.1,
            "normalMatrix": [
              1,
              0,
              0,
              0,
              1,
              0,
              0,
              0,
              1
            ],
            "position": [
              0,
              1.2246467991473532e-16,
              2
            ],
            "projectionMatrix": [
              3.017766952966369,
              0,
              0,
              0,
              0,
              2.4142135623730954,
              0,
              0,
              0,
              0,
              -1.00010000500025,
              -1,
              0,
              0,
              -0.200010000500025,
              0
            ],
            "quaternion": [
              -3.061616997868383e-17,
              0,
              0,
              1
            ],
            "receiveShadow": false,
            "renderOrder": 0,
            "rotation": [
              -6.123233995736766e-17,
              0,
              0,
              "XYZ"
            ],
            "scale": [
              1,
              1,
              1
            ],
            "type": "PerspectiveCamera",
            "up": [
              0,
              1,
              -6.123233995736766e-17
            ],
            "visible": true,
            "zoom": 1
          }
        },
        "9569f8026feb4c6a864e3475c6d51965": {
          "model_module": "@jupyter-widgets/base",
          "model_name": "LayoutModel",
          "model_module_version": "1.2.0",
          "state": {
            "_model_module": "@jupyter-widgets/base",
            "_model_module_version": "1.2.0",
            "_model_name": "LayoutModel",
            "_view_count": null,
            "_view_module": "@jupyter-widgets/base",
            "_view_module_version": "1.2.0",
            "_view_name": "LayoutView",
            "align_content": null,
            "align_items": null,
            "align_self": null,
            "border": null,
            "bottom": null,
            "display": null,
            "flex": null,
            "flex_flow": null,
            "grid_area": null,
            "grid_auto_columns": null,
            "grid_auto_flow": null,
            "grid_auto_rows": null,
            "grid_column": null,
            "grid_gap": null,
            "grid_row": null,
            "grid_template_areas": null,
            "grid_template_columns": null,
            "grid_template_rows": null,
            "height": null,
            "justify_content": null,
            "justify_items": null,
            "left": null,
            "margin": null,
            "max_height": null,
            "max_width": null,
            "min_height": null,
            "min_width": null,
            "object_fit": null,
            "object_position": null,
            "order": null,
            "overflow": null,
            "overflow_x": null,
            "overflow_y": null,
            "padding": null,
            "right": null,
            "top": null,
            "visibility": null,
            "width": null
          }
        },
        "b4c7761ebf664c5c9e36623f59e018d0": {
          "model_module": "bqplot",
          "model_name": "LinearScaleModel",
          "model_module_version": "^0.5",
          "state": {
            "_model_module": "bqplot",
            "_model_module_version": "^0.5",
            "_model_name": "LinearScaleModel",
            "_view_count": null,
            "_view_module": "bqplot",
            "_view_module_version": "^0.5",
            "_view_name": "LinearScale",
            "allow_padding": true,
            "max": 1,
            "mid_range": 0.8,
            "min": 0,
            "min_range": 0.6,
            "reverse": false,
            "stabilized": false
          }
        },
        "2aadc94ce8c848ff98c416354789b88c": {
          "model_module": "bqplot",
          "model_name": "LinearScaleModel",
          "model_module_version": "^0.5",
          "state": {
            "_model_module": "bqplot",
            "_model_module_version": "^0.5",
            "_model_name": "LinearScaleModel",
            "_view_count": null,
            "_view_module": "bqplot",
            "_view_module_version": "^0.5",
            "_view_name": "LinearScale",
            "allow_padding": true,
            "max": 1,
            "mid_range": 0.8,
            "min": 0,
            "min_range": 0.6,
            "reverse": false,
            "stabilized": false
          }
        },
        "8b4302974835453b96609d70a844b05c": {
          "model_module": "bqplot",
          "model_name": "LinearScaleModel",
          "model_module_version": "^0.5",
          "state": {
            "_model_module": "bqplot",
            "_model_module_version": "^0.5",
            "_model_name": "LinearScaleModel",
            "_view_count": null,
            "_view_module": "bqplot",
            "_view_module_version": "^0.5",
            "_view_name": "LinearScale",
            "allow_padding": true,
            "max": 1.6500000000000001,
            "mid_range": 0.8,
            "min": 0,
            "min_range": 0.6,
            "reverse": false,
            "stabilized": false
          }
        },
        "ec88b31364e04e98913605e50b4e2337": {
          "model_module": "ipyvolume",
          "model_name": "ScatterModel",
          "model_module_version": "~0.6.3",
          "state": {
            "_model_module": "ipyvolume",
            "_model_module_version": "~0.6.3",
            "_model_name": "ScatterModel",
            "_view_count": null,
            "_view_module": "ipyvolume",
            "_view_module_version": "~0.6.3",
            "_view_name": "ScatterView",
            "aux": null,
            "aux_scale": null,
            "cast_shadow": true,
            "clicked": null,
            "clicked_index": null,
            "color": "red",
            "color_scale": null,
            "color_selected": "white",
            "connected": false,
            "description": "Scatter 0",
            "description_color": "red",
            "geo": "diamond",
            "geo_matrix": [
              1,
              0,
              0,
              0,
              0,
              1,
              0,
              0,
              0,
              0,
              1,
              0,
              0,
              0,
              0,
              1
            ],
            "hovered": null,
            "hovered_index": null,
            "icon": "mdi-chart-bubble",
            "line_material": "IPY_MODEL_06e47bf878bb4ca4b975541664cff1b3",
            "material": "IPY_MODEL_a815e494d78644eda661f43fe6efe08c",
            "popup": null,
            "receive_shadow": true,
            "selected": null,
            "sequence_index": 0,
            "shader_snippets": {
              "size": "\n"
            },
            "size": 2,
            "size_selected": 2.6,
            "size_x_scale": null,
            "size_y_scale": null,
            "size_z_scale": null,
            "texture": null,
            "visible": true,
            "vx": null,
            "vy": null,
            "vz": null,
            "x": [
              {
                "dtype": "float32",
                "shape": [
                  36
                ]
              }
            ],
            "y": [
              {
                "dtype": "float32",
                "shape": [
                  36
                ]
              }
            ],
            "z": [
              {
                "dtype": "float32",
                "shape": [
                  36
                ]
              }
            ]
          }
        },
        "2a3a053b5e3e403992db2eb8cf5cf06f": {
          "model_module": "jupyter-threejs",
          "model_name": "SceneModel",
          "model_module_version": "^2.4.1",
          "state": {
            "_model_module": "jupyter-threejs",
            "_model_module_version": "^2.4.1",
            "_model_name": "SceneModel",
            "_view_count": null,
            "_view_module": null,
            "_view_module_version": "",
            "_view_name": null,
            "autoUpdate": true,
            "background": null,
            "castShadow": false,
            "children": [],
            "fog": null,
            "frustumCulled": true,
            "matrix": [
              1,
              0,
              0,
              0,
              0,
              1,
              0,
              0,
              0,
              0,
              1,
              0,
              0,
              0,
              0,
              1
            ],
            "matrixAutoUpdate": true,
            "matrixWorld": [
              1,
              0,
              0,
              0,
              0,
              1,
              0,
              0,
              0,
              0,
              1,
              0,
              0,
              0,
              0,
              1
            ],
            "matrixWorldNeedsUpdate": false,
            "modelViewMatrix": [
              1,
              0,
              0,
              0,
              0,
              1,
              0,
              0,
              0,
              0,
              1,
              0,
              0,
              0,
              0,
              1
            ],
            "name": "",
            "normalMatrix": [
              1,
              0,
              0,
              0,
              1,
              0,
              0,
              0,
              1
            ],
            "overrideMaterial": null,
            "position": [
              0,
              0,
              0
            ],
            "quaternion": [
              0,
              0,
              0,
              1
            ],
            "receiveShadow": false,
            "renderOrder": 0,
            "rotation": [
              0,
              0,
              0,
              "XYZ"
            ],
            "scale": [
              1,
              1,
              1
            ],
            "type": "Scene",
            "up": [
              0,
              1,
              0
            ],
            "visible": true
          }
        },
        "06e47bf878bb4ca4b975541664cff1b3": {
          "model_module": "jupyter-threejs",
          "model_name": "ShaderMaterialModel",
          "model_module_version": "^2.4.1",
          "state": {
            "_model_module": "jupyter-threejs",
            "_model_module_version": "^2.4.1",
            "_model_name": "ShaderMaterialModel",
            "_view_count": null,
            "_view_module": null,
            "_view_module_version": "",
            "_view_name": null,
            "alphaTest": 0,
            "blendDst": "OneMinusSrcAlphaFactor",
            "blendDstAlpha": 0,
            "blendEquation": "AddEquation",
            "blendEquationAlpha": 0,
            "blendSrc": "SrcAlphaFactor",
            "blendSrcAlpha": 0,
            "blending": "NormalBlending",
            "clipIntersection": false,
            "clipShadows": false,
            "clipping": false,
            "clippingPlanes": [],
            "colorWrite": true,
            "defines": null,
            "depthFunc": "LessEqualDepth",
            "depthTest": true,
            "depthWrite": true,
            "dithering": false,
            "extensions": {},
            "flatShading": false,
            "fog": false,
            "fragmentShader": "",
            "lights": false,
            "linewidth": 1,
            "morphNormals": false,
            "morphTargets": false,
            "name": "",
            "opacity": 1,
            "overdraw": 0,
            "polygonOffset": false,
            "polygonOffsetFactor": 0,
            "polygonOffsetUnits": 0,
            "precision": null,
            "premultipliedAlpha": false,
            "shadowSide": null,
            "side": "FrontSide",
            "skinning": false,
            "transparent": false,
            "type": "ShaderMaterial",
            "uniforms": {},
            "uniformsNeedUpdate": false,
            "vertexColors": "NoColors",
            "vertexShader": "",
            "visible": true,
            "wireframe": false,
            "wireframeLinewidth": 1
          }
        },
        "a815e494d78644eda661f43fe6efe08c": {
          "model_module": "jupyter-threejs",
          "model_name": "ShaderMaterialModel",
          "model_module_version": "^2.4.1",
          "state": {
            "_model_module": "jupyter-threejs",
            "_model_module_version": "^2.4.1",
            "_model_name": "ShaderMaterialModel",
            "_view_count": null,
            "_view_module": null,
            "_view_module_version": "",
            "_view_name": null,
            "alphaTest": 0,
            "blendDst": "OneMinusSrcAlphaFactor",
            "blendDstAlpha": 0,
            "blendEquation": "AddEquation",
            "blendEquationAlpha": 0,
            "blendSrc": "SrcAlphaFactor",
            "blendSrcAlpha": 0,
            "blending": "NormalBlending",
            "clipIntersection": false,
            "clipShadows": false,
            "clipping": false,
            "clippingPlanes": [],
            "colorWrite": true,
            "defines": null,
            "depthFunc": "LessEqualDepth",
            "depthTest": true,
            "depthWrite": true,
            "dithering": false,
            "extensions": {},
            "flatShading": false,
            "fog": false,
            "fragmentShader": "",
            "lights": false,
            "linewidth": 1,
            "morphNormals": false,
            "morphTargets": false,
            "name": "",
            "opacity": 1,
            "overdraw": 0,
            "polygonOffset": false,
            "polygonOffsetFactor": 0,
            "polygonOffsetUnits": 0,
            "precision": null,
            "premultipliedAlpha": false,
            "shadowSide": null,
            "side": "FrontSide",
            "skinning": false,
            "transparent": false,
            "type": "ShaderMaterial",
            "uniforms": {},
            "uniformsNeedUpdate": false,
            "vertexColors": "NoColors",
            "vertexShader": "",
            "visible": true,
            "wireframe": false,
            "wireframeLinewidth": 1
          }
        },
        "24183ecb28794b7f905bcebaa0d450bf": {
          "model_module": "jupyter-vue",
          "model_name": "HtmlModel",
          "model_module_version": "^1.10.1",
          "state": {
            "_dom_classes": [],
            "_events": [],
            "_jupyter_vue": "IPY_MODEL_e60b8a9699214f80a5a9d00acd21d186",
            "_model_module": "jupyter-vue",
            "_model_module_version": "^1.10.1",
            "_model_name": "HtmlModel",
            "_view_count": null,
            "_view_module": "jupyter-vue",
            "_view_module_version": "^1.10.1",
            "_view_name": "VueView",
            "attributes": {},
            "children": [],
            "class_": null,
            "layout": null,
            "slot": null,
            "style_": "display: none",
            "tag": "span",
            "v_model": "!!disabled!!",
            "v_on": null,
            "v_slots": []
          }
        },
        "afd792c3c25a4d0c994ce57735d70a11": {
          "model_module": "jupyter-vuetify",
          "model_name": "VuetifyTemplateModel",
          "model_module_version": "^1.8.10",
          "state": {
            "_component_instances": [],
            "_dom_classes": [],
            "_jupyter_vue": "IPY_MODEL_e60b8a9699214f80a5a9d00acd21d186",
            "_model_module": "jupyter-vuetify",
            "_model_module_version": "^1.8.10",
            "_model_name": "VuetifyTemplateModel",
            "_view_count": null,
            "_view_module": "jupyter-vuetify",
            "_view_module_version": "^1.8.10",
            "_view_name": "VuetifyView",
            "children": [],
            "components": null,
            "css": null,
            "data": null,
            "events": [],
            "figure": "IPY_MODEL_84e848bcd4cd40009ffdd31c3d289787",
            "layout": "IPY_MODEL_363df759f50c4fed8d0b7371ddee0071",
            "legend": "IPY_MODEL_50a1a180461645c9b55f588253ff8c68",
            "legend_show": true,
            "methods": null,
            "models": {
              "figure": {
                "show": "render"
              }
            },
            "panels": [
              0,
              1,
              2
            ],
            "template": "IPY_MODEL_713fa5723831498aa64f0a24a8ab24d2"
          }
        },
        "363df759f50c4fed8d0b7371ddee0071": {
          "model_module": "@jupyter-widgets/base",
          "model_name": "LayoutModel",
          "model_module_version": "1.2.0",
          "state": {
            "_model_module": "@jupyter-widgets/base",
            "_model_module_version": "1.2.0",
            "_model_name": "LayoutModel",
            "_view_count": null,
            "_view_module": "@jupyter-widgets/base",
            "_view_module_version": "1.2.0",
            "_view_name": "LayoutView",
            "align_content": null,
            "align_items": null,
            "align_self": null,
            "border": null,
            "bottom": null,
            "display": null,
            "flex": null,
            "flex_flow": null,
            "grid_area": null,
            "grid_auto_columns": null,
            "grid_auto_flow": null,
            "grid_auto_rows": null,
            "grid_column": null,
            "grid_gap": null,
            "grid_row": null,
            "grid_template_areas": null,
            "grid_template_columns": null,
            "grid_template_rows": null,
            "height": null,
            "justify_content": null,
            "justify_items": null,
            "left": null,
            "margin": null,
            "max_height": null,
            "max_width": null,
            "min_height": null,
            "min_width": null,
            "object_fit": null,
            "object_position": null,
            "order": null,
            "overflow": null,
            "overflow_x": null,
            "overflow_y": null,
            "padding": null,
            "right": null,
            "top": null,
            "visibility": null,
            "width": null
          }
        },
        "84e848bcd4cd40009ffdd31c3d289787": {
          "model_module": "ipyvolume",
          "model_name": "FigureModel",
          "model_module_version": "~0.6.3",
          "state": {
            "_dom_classes": [],
            "_model_module": "ipyvolume",
            "_model_module_version": "~0.6.3",
            "_model_name": "FigureModel",
            "_shaders": {},
            "_view_count": null,
            "_view_module": "ipyvolume",
            "_view_module_version": "~0.6.3",
            "_view_name": "FigureView",
            "ambient_coefficient": 0.5,
            "animation": 1000,
            "animation_exponent": 1,
            "box_center": [
              0.5,
              0.5,
              0.5
            ],
            "box_size": [
              1,
              1,
              1
            ],
            "camera": "IPY_MODEL_d224ba1206bf4293b1b6b81f97a91b7a",
            "camera_center": [
              0,
              0,
              0
            ],
            "camera_control": "trackball",
            "camera_fov": 45,
            "capture_fps": null,
            "controls": null,
            "cube_resolution": 512,
            "diffuse_coefficient": 0.8,
            "displayscale": 1,
            "eye_separation": 6.4,
            "height": 500,
            "layout": "IPY_MODEL_b9048769ddf14c45a2f6188c543bf761",
            "lights": [],
            "matrix_projection": [
              3.017766952966369,
              0,
              0,
              0,
              0,
              2.4142135623730954,
              0,
              0,
              0,
              0,
              -1.00010000500025,
              -1,
              0,
              0,
              -0.200010000500025,
              0
            ],
            "matrix_world": [
              1,
              0,
              0,
              0,
              0,
              1,
              6.123233995736766e-17,
              0,
              0,
              -6.123233995736766e-17,
              1,
              0,
              -0.5,
              -0.49999999999999994,
              -2.5,
              1
            ],
            "meshes": [],
            "mouse_mode": "normal",
            "orientation_control": false,
            "panorama_mode": "no",
            "pixel_ratio": null,
            "popup_debouce": 100,
            "render_continuous": false,
            "scales": {
              "x": "IPY_MODEL_33183e9c80714b69b4947bbca6967229",
              "y": "IPY_MODEL_7dd119903c054c02a26082f4a32c9dd9",
              "z": "IPY_MODEL_c4b3d0d355af4aa2a219c74059442f52"
            },
            "scatters": [
              "IPY_MODEL_bd2e47a03c844e0684e3882970c0f504"
            ],
            "scene": "IPY_MODEL_c82df9f739004b948529860d02a00827",
            "selection_mode": "replace",
            "selector": "lasso",
            "show": "render",
            "slice_x": 0,
            "slice_y": 0,
            "slice_z": 0,
            "specular_coefficient": 0.5,
            "specular_exponent": 5,
            "stereo": false,
            "style": {
              "axes": {
                "visible": true,
                "label": {
                  "color": "black"
                },
                "ticklabel": {
                  "color": "black"
                },
                "color": "black"
              },
              "box": {
                "visible": true
              },
              "background-color": "white"
            },
            "volumes": [],
            "width": 400,
            "xlabel": "Petal Width",
            "ylabel": "Sepal Width",
            "zlabel": "Satosa"
          }
        },
        "50a1a180461645c9b55f588253ff8c68": {
          "model_module": "jupyter-vuetify",
          "model_name": "VuetifyTemplateModel",
          "model_module_version": "^1.8.10",
          "state": {
            "_component_instances": [],
            "_dom_classes": [],
            "_jupyter_vue": "IPY_MODEL_e60b8a9699214f80a5a9d00acd21d186",
            "_model_module": "jupyter-vuetify",
            "_model_module_version": "^1.8.10",
            "_model_name": "VuetifyTemplateModel",
            "_view_count": null,
            "_view_module": "jupyter-vuetify",
            "_view_module_version": "^1.8.10",
            "_view_name": "VuetifyView",
            "components": null,
            "css": null,
            "data": null,
            "events": [],
            "figure": "IPY_MODEL_84e848bcd4cd40009ffdd31c3d289787",
            "layout": "IPY_MODEL_7015b2ba693e4a5091ce542780c10358",
            "methods": null,
            "models": {
              "figure": {
                "stereo": false,
                "scatters": [
                  {
                    "visible": true,
                    "description": "Scatter 0",
                    "icon": "mdi-chart-bubble",
                    "description_color": "red",
                    "hovered": null
                  }
                ],
                "meshes": [],
                "volumes": []
              }
            },
            "template": "IPY_MODEL_67256d56ef3143979dad921ae03c130a"
          }
        },
        "7015b2ba693e4a5091ce542780c10358": {
          "model_module": "@jupyter-widgets/base",
          "model_name": "LayoutModel",
          "model_module_version": "1.2.0",
          "state": {
            "_model_module": "@jupyter-widgets/base",
            "_model_module_version": "1.2.0",
            "_model_name": "LayoutModel",
            "_view_count": null,
            "_view_module": "@jupyter-widgets/base",
            "_view_module_version": "1.2.0",
            "_view_name": "LayoutView",
            "align_content": null,
            "align_items": null,
            "align_self": null,
            "border": null,
            "bottom": null,
            "display": null,
            "flex": null,
            "flex_flow": null,
            "grid_area": null,
            "grid_auto_columns": null,
            "grid_auto_flow": null,
            "grid_auto_rows": null,
            "grid_column": null,
            "grid_gap": null,
            "grid_row": null,
            "grid_template_areas": null,
            "grid_template_columns": null,
            "grid_template_rows": null,
            "height": null,
            "justify_content": null,
            "justify_items": null,
            "left": null,
            "margin": null,
            "max_height": null,
            "max_width": null,
            "min_height": null,
            "min_width": null,
            "object_fit": null,
            "object_position": null,
            "order": null,
            "overflow": null,
            "overflow_x": null,
            "overflow_y": null,
            "padding": null,
            "right": null,
            "top": null,
            "visibility": null,
            "width": null
          }
        },
        "d224ba1206bf4293b1b6b81f97a91b7a": {
          "model_module": "jupyter-threejs",
          "model_name": "PerspectiveCameraModel",
          "model_module_version": "^2.4.1",
          "state": {
            "_model_module": "jupyter-threejs",
            "_model_module_version": "^2.4.1",
            "_model_name": "PerspectiveCameraModel",
            "_view_count": null,
            "_view_module": null,
            "_view_module_version": "",
            "_view_name": null,
            "aspect": 0.8,
            "castShadow": false,
            "children": [],
            "far": 2000,
            "focus": 10,
            "fov": 45,
            "frustumCulled": true,
            "matrix": [
              1,
              0,
              0,
              0,
              0,
              1,
              -6.123233995736766e-17,
              0,
              0,
              6.123233995736766e-17,
              1,
              0,
              0,
              1.2246467991473532e-16,
              2,
              1
            ],
            "matrixAutoUpdate": true,
            "matrixWorld": [
              1,
              0,
              0,
              0,
              0,
              1,
              -6.123233995736766e-17,
              0,
              0,
              6.123233995736766e-17,
              1,
              0,
              0,
              1.2246467991473532e-16,
              2,
              1
            ],
            "matrixWorldInverse": [
              1,
              0,
              0,
              0,
              0,
              1,
              6.123233995736766e-17,
              0,
              0,
              -6.123233995736766e-17,
              1,
              0,
              0,
              0,
              -2,
              1
            ],
            "matrixWorldNeedsUpdate": true,
            "modelViewMatrix": [
              1,
              0,
              0,
              0,
              0,
              1,
              0,
              0,
              0,
              0,
              1,
              0,
              0,
              0,
              0,
              1
            ],
            "name": "",
            "near": 0.1,
            "normalMatrix": [
              1,
              0,
              0,
              0,
              1,
              0,
              0,
              0,
              1
            ],
            "position": [
              0,
              1.2246467991473532e-16,
              2
            ],
            "projectionMatrix": [
              3.017766952966369,
              0,
              0,
              0,
              0,
              2.4142135623730954,
              0,
              0,
              0,
              0,
              -1.00010000500025,
              -1,
              0,
              0,
              -0.200010000500025,
              0
            ],
            "quaternion": [
              -3.061616997868383e-17,
              0,
              0,
              1
            ],
            "receiveShadow": false,
            "renderOrder": 0,
            "rotation": [
              -6.123233995736766e-17,
              0,
              0,
              "XYZ"
            ],
            "scale": [
              1,
              1,
              1
            ],
            "type": "PerspectiveCamera",
            "up": [
              0,
              1,
              -6.123233995736766e-17
            ],
            "visible": true,
            "zoom": 1
          }
        },
        "b9048769ddf14c45a2f6188c543bf761": {
          "model_module": "@jupyter-widgets/base",
          "model_name": "LayoutModel",
          "model_module_version": "1.2.0",
          "state": {
            "_model_module": "@jupyter-widgets/base",
            "_model_module_version": "1.2.0",
            "_model_name": "LayoutModel",
            "_view_count": null,
            "_view_module": "@jupyter-widgets/base",
            "_view_module_version": "1.2.0",
            "_view_name": "LayoutView",
            "align_content": null,
            "align_items": null,
            "align_self": null,
            "border": null,
            "bottom": null,
            "display": null,
            "flex": null,
            "flex_flow": null,
            "grid_area": null,
            "grid_auto_columns": null,
            "grid_auto_flow": null,
            "grid_auto_rows": null,
            "grid_column": null,
            "grid_gap": null,
            "grid_row": null,
            "grid_template_areas": null,
            "grid_template_columns": null,
            "grid_template_rows": null,
            "height": null,
            "justify_content": null,
            "justify_items": null,
            "left": null,
            "margin": null,
            "max_height": null,
            "max_width": null,
            "min_height": null,
            "min_width": null,
            "object_fit": null,
            "object_position": null,
            "order": null,
            "overflow": null,
            "overflow_x": null,
            "overflow_y": null,
            "padding": null,
            "right": null,
            "top": null,
            "visibility": null,
            "width": null
          }
        },
        "33183e9c80714b69b4947bbca6967229": {
          "model_module": "bqplot",
          "model_name": "LinearScaleModel",
          "model_module_version": "^0.5",
          "state": {
            "_model_module": "bqplot",
            "_model_module_version": "^0.5",
            "_model_name": "LinearScaleModel",
            "_view_count": null,
            "_view_module": "bqplot",
            "_view_module_version": "^0.5",
            "_view_name": "LinearScale",
            "allow_padding": true,
            "max": 1,
            "mid_range": 0.8,
            "min": 0,
            "min_range": 0.6,
            "reverse": false,
            "stabilized": false
          }
        },
        "7dd119903c054c02a26082f4a32c9dd9": {
          "model_module": "bqplot",
          "model_name": "LinearScaleModel",
          "model_module_version": "^0.5",
          "state": {
            "_model_module": "bqplot",
            "_model_module_version": "^0.5",
            "_model_name": "LinearScaleModel",
            "_view_count": null,
            "_view_module": "bqplot",
            "_view_module_version": "^0.5",
            "_view_name": "LinearScale",
            "allow_padding": true,
            "max": 1,
            "mid_range": 0.8,
            "min": 0,
            "min_range": 0.6,
            "reverse": false,
            "stabilized": false
          }
        },
        "c4b3d0d355af4aa2a219c74059442f52": {
          "model_module": "bqplot",
          "model_name": "LinearScaleModel",
          "model_module_version": "^0.5",
          "state": {
            "_model_module": "bqplot",
            "_model_module_version": "^0.5",
            "_model_name": "LinearScaleModel",
            "_view_count": null,
            "_view_module": "bqplot",
            "_view_module_version": "^0.5",
            "_view_name": "LinearScale",
            "allow_padding": true,
            "max": 1.4300000000000002,
            "mid_range": 0.8,
            "min": -0.03400000000000001,
            "min_range": 0.6,
            "reverse": false,
            "stabilized": false
          }
        },
        "bd2e47a03c844e0684e3882970c0f504": {
          "model_module": "ipyvolume",
          "model_name": "ScatterModel",
          "model_module_version": "~0.6.3",
          "state": {
            "_model_module": "ipyvolume",
            "_model_module_version": "~0.6.3",
            "_model_name": "ScatterModel",
            "_view_count": null,
            "_view_module": "ipyvolume",
            "_view_module_version": "~0.6.3",
            "_view_name": "ScatterView",
            "aux": null,
            "aux_scale": null,
            "cast_shadow": true,
            "clicked": null,
            "clicked_index": null,
            "color": "red",
            "color_scale": null,
            "color_selected": "white",
            "connected": false,
            "description": "Scatter 0",
            "description_color": "red",
            "geo": "diamond",
            "geo_matrix": [
              1,
              0,
              0,
              0,
              0,
              1,
              0,
              0,
              0,
              0,
              1,
              0,
              0,
              0,
              0,
              1
            ],
            "hovered": null,
            "hovered_index": null,
            "icon": "mdi-chart-bubble",
            "line_material": "IPY_MODEL_0dd42c74f4c64011b2a55a383cc8e6aa",
            "material": "IPY_MODEL_f93e5f788ee948b99d96a08ab1b6dfa2",
            "popup": null,
            "receive_shadow": true,
            "selected": null,
            "sequence_index": 0,
            "shader_snippets": {
              "size": "\n"
            },
            "size": 2,
            "size_selected": 2.6,
            "size_x_scale": null,
            "size_y_scale": null,
            "size_z_scale": null,
            "texture": null,
            "visible": true,
            "vx": null,
            "vy": null,
            "vz": null,
            "x": [
              {
                "dtype": "float32",
                "shape": [
                  36
                ]
              }
            ],
            "y": [
              {
                "dtype": "float32",
                "shape": [
                  36
                ]
              }
            ],
            "z": [
              {
                "dtype": "float32",
                "shape": [
                  36
                ]
              }
            ]
          }
        },
        "c82df9f739004b948529860d02a00827": {
          "model_module": "jupyter-threejs",
          "model_name": "SceneModel",
          "model_module_version": "^2.4.1",
          "state": {
            "_model_module": "jupyter-threejs",
            "_model_module_version": "^2.4.1",
            "_model_name": "SceneModel",
            "_view_count": null,
            "_view_module": null,
            "_view_module_version": "",
            "_view_name": null,
            "autoUpdate": true,
            "background": null,
            "castShadow": false,
            "children": [],
            "fog": null,
            "frustumCulled": true,
            "matrix": [
              1,
              0,
              0,
              0,
              0,
              1,
              0,
              0,
              0,
              0,
              1,
              0,
              0,
              0,
              0,
              1
            ],
            "matrixAutoUpdate": true,
            "matrixWorld": [
              1,
              0,
              0,
              0,
              0,
              1,
              0,
              0,
              0,
              0,
              1,
              0,
              0,
              0,
              0,
              1
            ],
            "matrixWorldNeedsUpdate": false,
            "modelViewMatrix": [
              1,
              0,
              0,
              0,
              0,
              1,
              0,
              0,
              0,
              0,
              1,
              0,
              0,
              0,
              0,
              1
            ],
            "name": "",
            "normalMatrix": [
              1,
              0,
              0,
              0,
              1,
              0,
              0,
              0,
              1
            ],
            "overrideMaterial": null,
            "position": [
              0,
              0,
              0
            ],
            "quaternion": [
              0,
              0,
              0,
              1
            ],
            "receiveShadow": false,
            "renderOrder": 0,
            "rotation": [
              0,
              0,
              0,
              "XYZ"
            ],
            "scale": [
              1,
              1,
              1
            ],
            "type": "Scene",
            "up": [
              0,
              1,
              0
            ],
            "visible": true
          }
        },
        "0dd42c74f4c64011b2a55a383cc8e6aa": {
          "model_module": "jupyter-threejs",
          "model_name": "ShaderMaterialModel",
          "model_module_version": "^2.4.1",
          "state": {
            "_model_module": "jupyter-threejs",
            "_model_module_version": "^2.4.1",
            "_model_name": "ShaderMaterialModel",
            "_view_count": null,
            "_view_module": null,
            "_view_module_version": "",
            "_view_name": null,
            "alphaTest": 0,
            "blendDst": "OneMinusSrcAlphaFactor",
            "blendDstAlpha": 0,
            "blendEquation": "AddEquation",
            "blendEquationAlpha": 0,
            "blendSrc": "SrcAlphaFactor",
            "blendSrcAlpha": 0,
            "blending": "NormalBlending",
            "clipIntersection": false,
            "clipShadows": false,
            "clipping": false,
            "clippingPlanes": [],
            "colorWrite": true,
            "defines": null,
            "depthFunc": "LessEqualDepth",
            "depthTest": true,
            "depthWrite": true,
            "dithering": false,
            "extensions": {},
            "flatShading": false,
            "fog": false,
            "fragmentShader": "",
            "lights": false,
            "linewidth": 1,
            "morphNormals": false,
            "morphTargets": false,
            "name": "",
            "opacity": 1,
            "overdraw": 0,
            "polygonOffset": false,
            "polygonOffsetFactor": 0,
            "polygonOffsetUnits": 0,
            "precision": null,
            "premultipliedAlpha": false,
            "shadowSide": null,
            "side": "FrontSide",
            "skinning": false,
            "transparent": false,
            "type": "ShaderMaterial",
            "uniforms": {},
            "uniformsNeedUpdate": false,
            "vertexColors": "NoColors",
            "vertexShader": "",
            "visible": true,
            "wireframe": false,
            "wireframeLinewidth": 1
          }
        },
        "f93e5f788ee948b99d96a08ab1b6dfa2": {
          "model_module": "jupyter-threejs",
          "model_name": "ShaderMaterialModel",
          "model_module_version": "^2.4.1",
          "state": {
            "_model_module": "jupyter-threejs",
            "_model_module_version": "^2.4.1",
            "_model_name": "ShaderMaterialModel",
            "_view_count": null,
            "_view_module": null,
            "_view_module_version": "",
            "_view_name": null,
            "alphaTest": 0,
            "blendDst": "OneMinusSrcAlphaFactor",
            "blendDstAlpha": 0,
            "blendEquation": "AddEquation",
            "blendEquationAlpha": 0,
            "blendSrc": "SrcAlphaFactor",
            "blendSrcAlpha": 0,
            "blending": "NormalBlending",
            "clipIntersection": false,
            "clipShadows": false,
            "clipping": false,
            "clippingPlanes": [],
            "colorWrite": true,
            "defines": null,
            "depthFunc": "LessEqualDepth",
            "depthTest": true,
            "depthWrite": true,
            "dithering": false,
            "extensions": {},
            "flatShading": false,
            "fog": false,
            "fragmentShader": "",
            "lights": false,
            "linewidth": 1,
            "morphNormals": false,
            "morphTargets": false,
            "name": "",
            "opacity": 1,
            "overdraw": 0,
            "polygonOffset": false,
            "polygonOffsetFactor": 0,
            "polygonOffsetUnits": 0,
            "precision": null,
            "premultipliedAlpha": false,
            "shadowSide": null,
            "side": "FrontSide",
            "skinning": false,
            "transparent": false,
            "type": "ShaderMaterial",
            "uniforms": {},
            "uniformsNeedUpdate": false,
            "vertexColors": "NoColors",
            "vertexShader": "",
            "visible": true,
            "wireframe": false,
            "wireframeLinewidth": 1
          }
        },
        "b27382dd6a694e6da5b9536034e436bc": {
          "model_module": "jupyter-vue",
          "model_name": "HtmlModel",
          "model_module_version": "^1.10.1",
          "state": {
            "_dom_classes": [],
            "_events": [],
            "_jupyter_vue": "IPY_MODEL_e60b8a9699214f80a5a9d00acd21d186",
            "_model_module": "jupyter-vue",
            "_model_module_version": "^1.10.1",
            "_model_name": "HtmlModel",
            "_view_count": null,
            "_view_module": "jupyter-vue",
            "_view_module_version": "^1.10.1",
            "_view_name": "VueView",
            "attributes": {},
            "children": [],
            "class_": null,
            "layout": null,
            "slot": null,
            "style_": "display: none",
            "tag": "span",
            "v_model": "!!disabled!!",
            "v_on": null,
            "v_slots": []
          }
        },
        "8a2d8ff04f6740ffa867ccec2e2bffd5": {
          "model_module": "jupyter-vuetify",
          "model_name": "VuetifyTemplateModel",
          "model_module_version": "^1.8.10",
          "state": {
            "_component_instances": [],
            "_dom_classes": [],
            "_jupyter_vue": "IPY_MODEL_e60b8a9699214f80a5a9d00acd21d186",
            "_model_module": "jupyter-vuetify",
            "_model_module_version": "^1.8.10",
            "_model_name": "VuetifyTemplateModel",
            "_view_count": null,
            "_view_module": "jupyter-vuetify",
            "_view_module_version": "^1.8.10",
            "_view_name": "VuetifyView",
            "children": [],
            "components": null,
            "css": null,
            "data": null,
            "events": [],
            "figure": "IPY_MODEL_5e0ff7d1eb9d4272b9861ef7431e768e",
            "layout": "IPY_MODEL_614f5d2db5604e8daaaa71eb509edcb7",
            "legend": "IPY_MODEL_20b0989adba94183b7b3f4c50e3291c9",
            "legend_show": true,
            "methods": null,
            "models": {
              "figure": {
                "show": "render"
              }
            },
            "panels": [
              0,
              1,
              2
            ],
            "template": "IPY_MODEL_713fa5723831498aa64f0a24a8ab24d2"
          }
        },
        "614f5d2db5604e8daaaa71eb509edcb7": {
          "model_module": "@jupyter-widgets/base",
          "model_name": "LayoutModel",
          "model_module_version": "1.2.0",
          "state": {
            "_model_module": "@jupyter-widgets/base",
            "_model_module_version": "1.2.0",
            "_model_name": "LayoutModel",
            "_view_count": null,
            "_view_module": "@jupyter-widgets/base",
            "_view_module_version": "1.2.0",
            "_view_name": "LayoutView",
            "align_content": null,
            "align_items": null,
            "align_self": null,
            "border": null,
            "bottom": null,
            "display": null,
            "flex": null,
            "flex_flow": null,
            "grid_area": null,
            "grid_auto_columns": null,
            "grid_auto_flow": null,
            "grid_auto_rows": null,
            "grid_column": null,
            "grid_gap": null,
            "grid_row": null,
            "grid_template_areas": null,
            "grid_template_columns": null,
            "grid_template_rows": null,
            "height": null,
            "justify_content": null,
            "justify_items": null,
            "left": null,
            "margin": null,
            "max_height": null,
            "max_width": null,
            "min_height": null,
            "min_width": null,
            "object_fit": null,
            "object_position": null,
            "order": null,
            "overflow": null,
            "overflow_x": null,
            "overflow_y": null,
            "padding": null,
            "right": null,
            "top": null,
            "visibility": null,
            "width": null
          }
        },
        "5e0ff7d1eb9d4272b9861ef7431e768e": {
          "model_module": "ipyvolume",
          "model_name": "FigureModel",
          "model_module_version": "~0.6.3",
          "state": {
            "_dom_classes": [],
            "_model_module": "ipyvolume",
            "_model_module_version": "~0.6.3",
            "_model_name": "FigureModel",
            "_shaders": {},
            "_view_count": null,
            "_view_module": "ipyvolume",
            "_view_module_version": "~0.6.3",
            "_view_name": "FigureView",
            "ambient_coefficient": 0.5,
            "animation": 1000,
            "animation_exponent": 1,
            "box_center": [
              0.5,
              0.5,
              0.5
            ],
            "box_size": [
              1,
              1,
              1
            ],
            "camera": "IPY_MODEL_ef4ec8e580164581bf99816283d1a3a6",
            "camera_center": [
              0,
              0,
              0
            ],
            "camera_control": "trackball",
            "camera_fov": 45,
            "capture_fps": null,
            "controls": null,
            "cube_resolution": 512,
            "diffuse_coefficient": 0.8,
            "displayscale": 1,
            "eye_separation": 6.4,
            "height": 500,
            "layout": "IPY_MODEL_8cbdf744c53a48c48a84442f8c03a7f3",
            "lights": [],
            "matrix_projection": [
              3.017766952966369,
              0,
              0,
              0,
              0,
              2.4142135623730954,
              0,
              0,
              0,
              0,
              -1.00010000500025,
              -1,
              0,
              0,
              -0.200010000500025,
              0
            ],
            "matrix_world": [
              1,
              0,
              0,
              0,
              0,
              1,
              6.123233995736766e-17,
              0,
              0,
              -6.123233995736766e-17,
              1,
              0,
              -0.5,
              -0.49999999999999994,
              -2.5,
              1
            ],
            "meshes": [],
            "mouse_mode": "normal",
            "orientation_control": false,
            "panorama_mode": "no",
            "pixel_ratio": null,
            "popup_debouce": 100,
            "render_continuous": false,
            "scales": {
              "x": "IPY_MODEL_3913138a74c64c758d8fcf8aaba470ac",
              "y": "IPY_MODEL_c86d81750b394a57bb84de2568bbeea9",
              "z": "IPY_MODEL_6f17a2fea35546cc8ad3aeb8ce533aed"
            },
            "scatters": [
              "IPY_MODEL_df366fc4d4f4426cad3a2af0515e1ad4"
            ],
            "scene": "IPY_MODEL_0b86b4f62aba4d37a2164f441fd402af",
            "selection_mode": "replace",
            "selector": "lasso",
            "show": "render",
            "slice_x": 0,
            "slice_y": 0,
            "slice_z": 0,
            "specular_coefficient": 0.5,
            "specular_exponent": 5,
            "stereo": false,
            "style": {
              "axes": {
                "visible": true,
                "label": {
                  "color": "black"
                },
                "ticklabel": {
                  "color": "black"
                },
                "color": "black"
              },
              "box": {
                "visible": true
              },
              "background-color": "white"
            },
            "volumes": [],
            "width": 400,
            "xlabel": "Petal Width",
            "ylabel": "Sepal Width",
            "zlabel": "Versicolor"
          }
        },
        "20b0989adba94183b7b3f4c50e3291c9": {
          "model_module": "jupyter-vuetify",
          "model_name": "VuetifyTemplateModel",
          "model_module_version": "^1.8.10",
          "state": {
            "_component_instances": [],
            "_dom_classes": [],
            "_jupyter_vue": "IPY_MODEL_e60b8a9699214f80a5a9d00acd21d186",
            "_model_module": "jupyter-vuetify",
            "_model_module_version": "^1.8.10",
            "_model_name": "VuetifyTemplateModel",
            "_view_count": null,
            "_view_module": "jupyter-vuetify",
            "_view_module_version": "^1.8.10",
            "_view_name": "VuetifyView",
            "components": null,
            "css": null,
            "data": null,
            "events": [],
            "figure": "IPY_MODEL_5e0ff7d1eb9d4272b9861ef7431e768e",
            "layout": "IPY_MODEL_6d9b668cee0c4f509e30f2b47eb13019",
            "methods": null,
            "models": {
              "figure": {
                "stereo": false,
                "scatters": [
                  {
                    "visible": true,
                    "description": "Scatter 0",
                    "icon": "mdi-chart-bubble",
                    "description_color": "red",
                    "hovered": null
                  }
                ],
                "meshes": [],
                "volumes": []
              }
            },
            "template": "IPY_MODEL_67256d56ef3143979dad921ae03c130a"
          }
        },
        "6d9b668cee0c4f509e30f2b47eb13019": {
          "model_module": "@jupyter-widgets/base",
          "model_name": "LayoutModel",
          "model_module_version": "1.2.0",
          "state": {
            "_model_module": "@jupyter-widgets/base",
            "_model_module_version": "1.2.0",
            "_model_name": "LayoutModel",
            "_view_count": null,
            "_view_module": "@jupyter-widgets/base",
            "_view_module_version": "1.2.0",
            "_view_name": "LayoutView",
            "align_content": null,
            "align_items": null,
            "align_self": null,
            "border": null,
            "bottom": null,
            "display": null,
            "flex": null,
            "flex_flow": null,
            "grid_area": null,
            "grid_auto_columns": null,
            "grid_auto_flow": null,
            "grid_auto_rows": null,
            "grid_column": null,
            "grid_gap": null,
            "grid_row": null,
            "grid_template_areas": null,
            "grid_template_columns": null,
            "grid_template_rows": null,
            "height": null,
            "justify_content": null,
            "justify_items": null,
            "left": null,
            "margin": null,
            "max_height": null,
            "max_width": null,
            "min_height": null,
            "min_width": null,
            "object_fit": null,
            "object_position": null,
            "order": null,
            "overflow": null,
            "overflow_x": null,
            "overflow_y": null,
            "padding": null,
            "right": null,
            "top": null,
            "visibility": null,
            "width": null
          }
        },
        "ef4ec8e580164581bf99816283d1a3a6": {
          "model_module": "jupyter-threejs",
          "model_name": "PerspectiveCameraModel",
          "model_module_version": "^2.4.1",
          "state": {
            "_model_module": "jupyter-threejs",
            "_model_module_version": "^2.4.1",
            "_model_name": "PerspectiveCameraModel",
            "_view_count": null,
            "_view_module": null,
            "_view_module_version": "",
            "_view_name": null,
            "aspect": 0.8,
            "castShadow": false,
            "children": [],
            "far": 2000,
            "focus": 10,
            "fov": 45,
            "frustumCulled": true,
            "matrix": [
              1,
              0,
              0,
              0,
              0,
              1,
              -6.123233995736766e-17,
              0,
              0,
              6.123233995736766e-17,
              1,
              0,
              0,
              1.2246467991473532e-16,
              2,
              1
            ],
            "matrixAutoUpdate": true,
            "matrixWorld": [
              1,
              0,
              0,
              0,
              0,
              1,
              -6.123233995736766e-17,
              0,
              0,
              6.123233995736766e-17,
              1,
              0,
              0,
              1.2246467991473532e-16,
              2,
              1
            ],
            "matrixWorldInverse": [
              1,
              0,
              0,
              0,
              0,
              1,
              6.123233995736766e-17,
              0,
              0,
              -6.123233995736766e-17,
              1,
              0,
              0,
              0,
              -2,
              1
            ],
            "matrixWorldNeedsUpdate": true,
            "modelViewMatrix": [
              1,
              0,
              0,
              0,
              0,
              1,
              0,
              0,
              0,
              0,
              1,
              0,
              0,
              0,
              0,
              1
            ],
            "name": "",
            "near": 0.1,
            "normalMatrix": [
              1,
              0,
              0,
              0,
              1,
              0,
              0,
              0,
              1
            ],
            "position": [
              0,
              1.2246467991473532e-16,
              2
            ],
            "projectionMatrix": [
              3.017766952966369,
              0,
              0,
              0,
              0,
              2.4142135623730954,
              0,
              0,
              0,
              0,
              -1.00010000500025,
              -1,
              0,
              0,
              -0.200010000500025,
              0
            ],
            "quaternion": [
              -3.061616997868383e-17,
              0,
              0,
              1
            ],
            "receiveShadow": false,
            "renderOrder": 0,
            "rotation": [
              -6.123233995736766e-17,
              0,
              0,
              "XYZ"
            ],
            "scale": [
              1,
              1,
              1
            ],
            "type": "PerspectiveCamera",
            "up": [
              0,
              1,
              -6.123233995736766e-17
            ],
            "visible": true,
            "zoom": 1
          }
        },
        "8cbdf744c53a48c48a84442f8c03a7f3": {
          "model_module": "@jupyter-widgets/base",
          "model_name": "LayoutModel",
          "model_module_version": "1.2.0",
          "state": {
            "_model_module": "@jupyter-widgets/base",
            "_model_module_version": "1.2.0",
            "_model_name": "LayoutModel",
            "_view_count": null,
            "_view_module": "@jupyter-widgets/base",
            "_view_module_version": "1.2.0",
            "_view_name": "LayoutView",
            "align_content": null,
            "align_items": null,
            "align_self": null,
            "border": null,
            "bottom": null,
            "display": null,
            "flex": null,
            "flex_flow": null,
            "grid_area": null,
            "grid_auto_columns": null,
            "grid_auto_flow": null,
            "grid_auto_rows": null,
            "grid_column": null,
            "grid_gap": null,
            "grid_row": null,
            "grid_template_areas": null,
            "grid_template_columns": null,
            "grid_template_rows": null,
            "height": null,
            "justify_content": null,
            "justify_items": null,
            "left": null,
            "margin": null,
            "max_height": null,
            "max_width": null,
            "min_height": null,
            "min_width": null,
            "object_fit": null,
            "object_position": null,
            "order": null,
            "overflow": null,
            "overflow_x": null,
            "overflow_y": null,
            "padding": null,
            "right": null,
            "top": null,
            "visibility": null,
            "width": null
          }
        },
        "3913138a74c64c758d8fcf8aaba470ac": {
          "model_module": "bqplot",
          "model_name": "LinearScaleModel",
          "model_module_version": "^0.5",
          "state": {
            "_model_module": "bqplot",
            "_model_module_version": "^0.5",
            "_model_name": "LinearScaleModel",
            "_view_count": null,
            "_view_module": "bqplot",
            "_view_module_version": "^0.5",
            "_view_name": "LinearScale",
            "allow_padding": true,
            "max": 1,
            "mid_range": 0.8,
            "min": 0,
            "min_range": 0.6,
            "reverse": false,
            "stabilized": false
          }
        },
        "c86d81750b394a57bb84de2568bbeea9": {
          "model_module": "bqplot",
          "model_name": "LinearScaleModel",
          "model_module_version": "^0.5",
          "state": {
            "_model_module": "bqplot",
            "_model_module_version": "^0.5",
            "_model_name": "LinearScaleModel",
            "_view_count": null,
            "_view_module": "bqplot",
            "_view_module_version": "^0.5",
            "_view_name": "LinearScale",
            "allow_padding": true,
            "max": 1,
            "mid_range": 0.8,
            "min": 0,
            "min_range": 0.6,
            "reverse": false,
            "stabilized": false
          }
        },
        "6f17a2fea35546cc8ad3aeb8ce533aed": {
          "model_module": "bqplot",
          "model_name": "LinearScaleModel",
          "model_module_version": "^0.5",
          "state": {
            "_model_module": "bqplot",
            "_model_module_version": "^0.5",
            "_model_name": "LinearScaleModel",
            "_view_count": null,
            "_view_module": "bqplot",
            "_view_module_version": "^0.5",
            "_view_name": "LinearScale",
            "allow_padding": true,
            "max": 1,
            "mid_range": 0.8,
            "min": -0.4400000000000004,
            "min_range": 0.6,
            "reverse": false,
            "stabilized": false
          }
        },
        "df366fc4d4f4426cad3a2af0515e1ad4": {
          "model_module": "ipyvolume",
          "model_name": "ScatterModel",
          "model_module_version": "~0.6.3",
          "state": {
            "_model_module": "ipyvolume",
            "_model_module_version": "~0.6.3",
            "_model_name": "ScatterModel",
            "_view_count": null,
            "_view_module": "ipyvolume",
            "_view_module_version": "~0.6.3",
            "_view_name": "ScatterView",
            "aux": null,
            "aux_scale": null,
            "cast_shadow": true,
            "clicked": null,
            "clicked_index": null,
            "color": "red",
            "color_scale": null,
            "color_selected": "white",
            "connected": false,
            "description": "Scatter 0",
            "description_color": "red",
            "geo": "diamond",
            "geo_matrix": [
              1,
              0,
              0,
              0,
              0,
              1,
              0,
              0,
              0,
              0,
              1,
              0,
              0,
              0,
              0,
              1
            ],
            "hovered": null,
            "hovered_index": null,
            "icon": "mdi-chart-bubble",
            "line_material": "IPY_MODEL_8e48bb0e5139421497742853f8473ca9",
            "material": "IPY_MODEL_9535b6df18eb4ef9ba61c48d74357f92",
            "popup": null,
            "receive_shadow": true,
            "selected": null,
            "sequence_index": 0,
            "shader_snippets": {
              "size": "\n"
            },
            "size": 2,
            "size_selected": 2.6,
            "size_x_scale": null,
            "size_y_scale": null,
            "size_z_scale": null,
            "texture": null,
            "visible": true,
            "vx": null,
            "vy": null,
            "vz": null,
            "x": [
              {
                "dtype": "float32",
                "shape": [
                  36
                ]
              }
            ],
            "y": [
              {
                "dtype": "float32",
                "shape": [
                  36
                ]
              }
            ],
            "z": [
              {
                "dtype": "float32",
                "shape": [
                  36
                ]
              }
            ]
          }
        },
        "0b86b4f62aba4d37a2164f441fd402af": {
          "model_module": "jupyter-threejs",
          "model_name": "SceneModel",
          "model_module_version": "^2.4.1",
          "state": {
            "_model_module": "jupyter-threejs",
            "_model_module_version": "^2.4.1",
            "_model_name": "SceneModel",
            "_view_count": null,
            "_view_module": null,
            "_view_module_version": "",
            "_view_name": null,
            "autoUpdate": true,
            "background": null,
            "castShadow": false,
            "children": [],
            "fog": null,
            "frustumCulled": true,
            "matrix": [
              1,
              0,
              0,
              0,
              0,
              1,
              0,
              0,
              0,
              0,
              1,
              0,
              0,
              0,
              0,
              1
            ],
            "matrixAutoUpdate": true,
            "matrixWorld": [
              1,
              0,
              0,
              0,
              0,
              1,
              0,
              0,
              0,
              0,
              1,
              0,
              0,
              0,
              0,
              1
            ],
            "matrixWorldNeedsUpdate": false,
            "modelViewMatrix": [
              1,
              0,
              0,
              0,
              0,
              1,
              0,
              0,
              0,
              0,
              1,
              0,
              0,
              0,
              0,
              1
            ],
            "name": "",
            "normalMatrix": [
              1,
              0,
              0,
              0,
              1,
              0,
              0,
              0,
              1
            ],
            "overrideMaterial": null,
            "position": [
              0,
              0,
              0
            ],
            "quaternion": [
              0,
              0,
              0,
              1
            ],
            "receiveShadow": false,
            "renderOrder": 0,
            "rotation": [
              0,
              0,
              0,
              "XYZ"
            ],
            "scale": [
              1,
              1,
              1
            ],
            "type": "Scene",
            "up": [
              0,
              1,
              0
            ],
            "visible": true
          }
        },
        "8e48bb0e5139421497742853f8473ca9": {
          "model_module": "jupyter-threejs",
          "model_name": "ShaderMaterialModel",
          "model_module_version": "^2.4.1",
          "state": {
            "_model_module": "jupyter-threejs",
            "_model_module_version": "^2.4.1",
            "_model_name": "ShaderMaterialModel",
            "_view_count": null,
            "_view_module": null,
            "_view_module_version": "",
            "_view_name": null,
            "alphaTest": 0,
            "blendDst": "OneMinusSrcAlphaFactor",
            "blendDstAlpha": 0,
            "blendEquation": "AddEquation",
            "blendEquationAlpha": 0,
            "blendSrc": "SrcAlphaFactor",
            "blendSrcAlpha": 0,
            "blending": "NormalBlending",
            "clipIntersection": false,
            "clipShadows": false,
            "clipping": false,
            "clippingPlanes": [],
            "colorWrite": true,
            "defines": null,
            "depthFunc": "LessEqualDepth",
            "depthTest": true,
            "depthWrite": true,
            "dithering": false,
            "extensions": {},
            "flatShading": false,
            "fog": false,
            "fragmentShader": "",
            "lights": false,
            "linewidth": 1,
            "morphNormals": false,
            "morphTargets": false,
            "name": "",
            "opacity": 1,
            "overdraw": 0,
            "polygonOffset": false,
            "polygonOffsetFactor": 0,
            "polygonOffsetUnits": 0,
            "precision": null,
            "premultipliedAlpha": false,
            "shadowSide": null,
            "side": "FrontSide",
            "skinning": false,
            "transparent": false,
            "type": "ShaderMaterial",
            "uniforms": {},
            "uniformsNeedUpdate": false,
            "vertexColors": "NoColors",
            "vertexShader": "",
            "visible": true,
            "wireframe": false,
            "wireframeLinewidth": 1
          }
        },
        "9535b6df18eb4ef9ba61c48d74357f92": {
          "model_module": "jupyter-threejs",
          "model_name": "ShaderMaterialModel",
          "model_module_version": "^2.4.1",
          "state": {
            "_model_module": "jupyter-threejs",
            "_model_module_version": "^2.4.1",
            "_model_name": "ShaderMaterialModel",
            "_view_count": null,
            "_view_module": null,
            "_view_module_version": "",
            "_view_name": null,
            "alphaTest": 0,
            "blendDst": "OneMinusSrcAlphaFactor",
            "blendDstAlpha": 0,
            "blendEquation": "AddEquation",
            "blendEquationAlpha": 0,
            "blendSrc": "SrcAlphaFactor",
            "blendSrcAlpha": 0,
            "blending": "NormalBlending",
            "clipIntersection": false,
            "clipShadows": false,
            "clipping": false,
            "clippingPlanes": [],
            "colorWrite": true,
            "defines": null,
            "depthFunc": "LessEqualDepth",
            "depthTest": true,
            "depthWrite": true,
            "dithering": false,
            "extensions": {},
            "flatShading": false,
            "fog": false,
            "fragmentShader": "",
            "lights": false,
            "linewidth": 1,
            "morphNormals": false,
            "morphTargets": false,
            "name": "",
            "opacity": 1,
            "overdraw": 0,
            "polygonOffset": false,
            "polygonOffsetFactor": 0,
            "polygonOffsetUnits": 0,
            "precision": null,
            "premultipliedAlpha": false,
            "shadowSide": null,
            "side": "FrontSide",
            "skinning": false,
            "transparent": false,
            "type": "ShaderMaterial",
            "uniforms": {},
            "uniformsNeedUpdate": false,
            "vertexColors": "NoColors",
            "vertexShader": "",
            "visible": true,
            "wireframe": false,
            "wireframeLinewidth": 1
          }
        },
        "79f560a2fa0a4c0db9a54f3d77b195b0": {
          "model_module": "jupyter-vue",
          "model_name": "HtmlModel",
          "model_module_version": "^1.10.1",
          "state": {
            "_dom_classes": [],
            "_events": [],
            "_jupyter_vue": "IPY_MODEL_e60b8a9699214f80a5a9d00acd21d186",
            "_model_module": "jupyter-vue",
            "_model_module_version": "^1.10.1",
            "_model_name": "HtmlModel",
            "_view_count": null,
            "_view_module": "jupyter-vue",
            "_view_module_version": "^1.10.1",
            "_view_name": "VueView",
            "attributes": {},
            "children": [],
            "class_": null,
            "layout": null,
            "slot": null,
            "style_": "display: none",
            "tag": "span",
            "v_model": "!!disabled!!",
            "v_on": null,
            "v_slots": []
          }
        },
        "4f5274a2bb6442cca0f165e53c383b07": {
          "model_module": "jupyter-vuetify",
          "model_name": "VuetifyTemplateModel",
          "model_module_version": "^1.8.10",
          "state": {
            "_component_instances": [],
            "_dom_classes": [],
            "_jupyter_vue": "IPY_MODEL_e60b8a9699214f80a5a9d00acd21d186",
            "_model_module": "jupyter-vuetify",
            "_model_module_version": "^1.8.10",
            "_model_name": "VuetifyTemplateModel",
            "_view_count": null,
            "_view_module": "jupyter-vuetify",
            "_view_module_version": "^1.8.10",
            "_view_name": "VuetifyView",
            "children": [],
            "components": null,
            "css": null,
            "data": null,
            "events": [],
            "figure": "IPY_MODEL_35da5abbbc514249820fa08c28738b52",
            "layout": "IPY_MODEL_dda274996c1c4e9c8603e90edceb2129",
            "legend": "IPY_MODEL_4ece11b0950f485881d56c4e5864916e",
            "legend_show": true,
            "methods": null,
            "models": {
              "figure": {
                "show": "render"
              }
            },
            "panels": [
              0,
              1,
              2
            ],
            "template": "IPY_MODEL_713fa5723831498aa64f0a24a8ab24d2"
          }
        },
        "dda274996c1c4e9c8603e90edceb2129": {
          "model_module": "@jupyter-widgets/base",
          "model_name": "LayoutModel",
          "model_module_version": "1.2.0",
          "state": {
            "_model_module": "@jupyter-widgets/base",
            "_model_module_version": "1.2.0",
            "_model_name": "LayoutModel",
            "_view_count": null,
            "_view_module": "@jupyter-widgets/base",
            "_view_module_version": "1.2.0",
            "_view_name": "LayoutView",
            "align_content": null,
            "align_items": null,
            "align_self": null,
            "border": null,
            "bottom": null,
            "display": null,
            "flex": null,
            "flex_flow": null,
            "grid_area": null,
            "grid_auto_columns": null,
            "grid_auto_flow": null,
            "grid_auto_rows": null,
            "grid_column": null,
            "grid_gap": null,
            "grid_row": null,
            "grid_template_areas": null,
            "grid_template_columns": null,
            "grid_template_rows": null,
            "height": null,
            "justify_content": null,
            "justify_items": null,
            "left": null,
            "margin": null,
            "max_height": null,
            "max_width": null,
            "min_height": null,
            "min_width": null,
            "object_fit": null,
            "object_position": null,
            "order": null,
            "overflow": null,
            "overflow_x": null,
            "overflow_y": null,
            "padding": null,
            "right": null,
            "top": null,
            "visibility": null,
            "width": null
          }
        },
        "35da5abbbc514249820fa08c28738b52": {
          "model_module": "ipyvolume",
          "model_name": "FigureModel",
          "model_module_version": "~0.6.3",
          "state": {
            "_dom_classes": [],
            "_model_module": "ipyvolume",
            "_model_module_version": "~0.6.3",
            "_model_name": "FigureModel",
            "_shaders": {},
            "_view_count": null,
            "_view_module": "ipyvolume",
            "_view_module_version": "~0.6.3",
            "_view_name": "FigureView",
            "ambient_coefficient": 0.5,
            "animation": 1000,
            "animation_exponent": 1,
            "box_center": [
              0.5,
              0.5,
              0.5
            ],
            "box_size": [
              1,
              1,
              1
            ],
            "camera": "IPY_MODEL_a76e71afc1874c099f7bc5c63634de22",
            "camera_center": [
              0,
              0,
              0
            ],
            "camera_control": "trackball",
            "camera_fov": 45,
            "capture_fps": null,
            "controls": null,
            "cube_resolution": 512,
            "diffuse_coefficient": 0.8,
            "displayscale": 1,
            "eye_separation": 6.4,
            "height": 500,
            "layout": "IPY_MODEL_babb241c925443728262c451fad461f4",
            "lights": [],
            "matrix_projection": [
              3.017766952966369,
              0,
              0,
              0,
              0,
              2.4142135623730954,
              0,
              0,
              0,
              0,
              -1.00010000500025,
              -1,
              0,
              0,
              -0.200010000500025,
              0
            ],
            "matrix_world": [
              1,
              0,
              0,
              0,
              0,
              1,
              6.123233995736766e-17,
              0,
              0,
              -6.123233995736766e-17,
              1,
              0,
              -0.5,
              -0.49999999999999994,
              -2.5,
              1
            ],
            "meshes": [],
            "mouse_mode": "normal",
            "orientation_control": false,
            "panorama_mode": "no",
            "pixel_ratio": null,
            "popup_debouce": 100,
            "render_continuous": false,
            "scales": {
              "x": "IPY_MODEL_4908816fcd514d7098545544f9b7dd14",
              "y": "IPY_MODEL_fae88d5a2f70442bafe450966721293b",
              "z": "IPY_MODEL_ac8c493196f64ecca787fd128119870c"
            },
            "scatters": [
              "IPY_MODEL_4d4ca6e1324c42d8aa6f59e398bfda0f"
            ],
            "scene": "IPY_MODEL_ada3c7e5f3a84de68650fa02301cf1ae",
            "selection_mode": "replace",
            "selector": "lasso",
            "show": "render",
            "slice_x": 0,
            "slice_y": 0,
            "slice_z": 0,
            "specular_coefficient": 0.5,
            "specular_exponent": 5,
            "stereo": false,
            "style": {
              "axes": {
                "visible": true,
                "label": {
                  "color": "black"
                },
                "ticklabel": {
                  "color": "black"
                },
                "color": "black"
              },
              "box": {
                "visible": true
              },
              "background-color": "white"
            },
            "volumes": [],
            "width": 400,
            "xlabel": "Petal Width",
            "ylabel": "Sepal Width",
            "zlabel": "Virginica"
          }
        },
        "4ece11b0950f485881d56c4e5864916e": {
          "model_module": "jupyter-vuetify",
          "model_name": "VuetifyTemplateModel",
          "model_module_version": "^1.8.10",
          "state": {
            "_component_instances": [],
            "_dom_classes": [],
            "_jupyter_vue": "IPY_MODEL_e60b8a9699214f80a5a9d00acd21d186",
            "_model_module": "jupyter-vuetify",
            "_model_module_version": "^1.8.10",
            "_model_name": "VuetifyTemplateModel",
            "_view_count": null,
            "_view_module": "jupyter-vuetify",
            "_view_module_version": "^1.8.10",
            "_view_name": "VuetifyView",
            "components": null,
            "css": null,
            "data": null,
            "events": [],
            "figure": "IPY_MODEL_35da5abbbc514249820fa08c28738b52",
            "layout": "IPY_MODEL_7e8e529296bb4520982614b26b3ba184",
            "methods": null,
            "models": {
              "figure": {
                "stereo": false,
                "scatters": [
                  {
                    "visible": true,
                    "description": "Scatter 0",
                    "icon": "mdi-chart-bubble",
                    "description_color": "red",
                    "hovered": null
                  }
                ],
                "meshes": [],
                "volumes": []
              }
            },
            "template": "IPY_MODEL_67256d56ef3143979dad921ae03c130a"
          }
        },
        "7e8e529296bb4520982614b26b3ba184": {
          "model_module": "@jupyter-widgets/base",
          "model_name": "LayoutModel",
          "model_module_version": "1.2.0",
          "state": {
            "_model_module": "@jupyter-widgets/base",
            "_model_module_version": "1.2.0",
            "_model_name": "LayoutModel",
            "_view_count": null,
            "_view_module": "@jupyter-widgets/base",
            "_view_module_version": "1.2.0",
            "_view_name": "LayoutView",
            "align_content": null,
            "align_items": null,
            "align_self": null,
            "border": null,
            "bottom": null,
            "display": null,
            "flex": null,
            "flex_flow": null,
            "grid_area": null,
            "grid_auto_columns": null,
            "grid_auto_flow": null,
            "grid_auto_rows": null,
            "grid_column": null,
            "grid_gap": null,
            "grid_row": null,
            "grid_template_areas": null,
            "grid_template_columns": null,
            "grid_template_rows": null,
            "height": null,
            "justify_content": null,
            "justify_items": null,
            "left": null,
            "margin": null,
            "max_height": null,
            "max_width": null,
            "min_height": null,
            "min_width": null,
            "object_fit": null,
            "object_position": null,
            "order": null,
            "overflow": null,
            "overflow_x": null,
            "overflow_y": null,
            "padding": null,
            "right": null,
            "top": null,
            "visibility": null,
            "width": null
          }
        },
        "a76e71afc1874c099f7bc5c63634de22": {
          "model_module": "jupyter-threejs",
          "model_name": "PerspectiveCameraModel",
          "model_module_version": "^2.4.1",
          "state": {
            "_model_module": "jupyter-threejs",
            "_model_module_version": "^2.4.1",
            "_model_name": "PerspectiveCameraModel",
            "_view_count": null,
            "_view_module": null,
            "_view_module_version": "",
            "_view_name": null,
            "aspect": 0.8,
            "castShadow": false,
            "children": [],
            "far": 2000,
            "focus": 10,
            "fov": 45,
            "frustumCulled": true,
            "matrix": [
              1,
              0,
              0,
              0,
              0,
              1,
              -6.123233995736766e-17,
              0,
              0,
              6.123233995736766e-17,
              1,
              0,
              0,
              1.2246467991473532e-16,
              2,
              1
            ],
            "matrixAutoUpdate": true,
            "matrixWorld": [
              1,
              0,
              0,
              0,
              0,
              1,
              -6.123233995736766e-17,
              0,
              0,
              6.123233995736766e-17,
              1,
              0,
              0,
              1.2246467991473532e-16,
              2,
              1
            ],
            "matrixWorldInverse": [
              1,
              0,
              0,
              0,
              0,
              1,
              6.123233995736766e-17,
              0,
              0,
              -6.123233995736766e-17,
              1,
              0,
              0,
              0,
              -2,
              1
            ],
            "matrixWorldNeedsUpdate": true,
            "modelViewMatrix": [
              1,
              0,
              0,
              0,
              0,
              1,
              0,
              0,
              0,
              0,
              1,
              0,
              0,
              0,
              0,
              1
            ],
            "name": "",
            "near": 0.1,
            "normalMatrix": [
              1,
              0,
              0,
              0,
              1,
              0,
              0,
              0,
              1
            ],
            "position": [
              0,
              1.2246467991473532e-16,
              2
            ],
            "projectionMatrix": [
              3.017766952966369,
              0,
              0,
              0,
              0,
              2.4142135623730954,
              0,
              0,
              0,
              0,
              -1.00010000500025,
              -1,
              0,
              0,
              -0.200010000500025,
              0
            ],
            "quaternion": [
              -3.061616997868383e-17,
              0,
              0,
              1
            ],
            "receiveShadow": false,
            "renderOrder": 0,
            "rotation": [
              -6.123233995736766e-17,
              0,
              0,
              "XYZ"
            ],
            "scale": [
              1,
              1,
              1
            ],
            "type": "PerspectiveCamera",
            "up": [
              0,
              1,
              -6.123233995736766e-17
            ],
            "visible": true,
            "zoom": 1
          }
        },
        "babb241c925443728262c451fad461f4": {
          "model_module": "@jupyter-widgets/base",
          "model_name": "LayoutModel",
          "model_module_version": "1.2.0",
          "state": {
            "_model_module": "@jupyter-widgets/base",
            "_model_module_version": "1.2.0",
            "_model_name": "LayoutModel",
            "_view_count": null,
            "_view_module": "@jupyter-widgets/base",
            "_view_module_version": "1.2.0",
            "_view_name": "LayoutView",
            "align_content": null,
            "align_items": null,
            "align_self": null,
            "border": null,
            "bottom": null,
            "display": null,
            "flex": null,
            "flex_flow": null,
            "grid_area": null,
            "grid_auto_columns": null,
            "grid_auto_flow": null,
            "grid_auto_rows": null,
            "grid_column": null,
            "grid_gap": null,
            "grid_row": null,
            "grid_template_areas": null,
            "grid_template_columns": null,
            "grid_template_rows": null,
            "height": null,
            "justify_content": null,
            "justify_items": null,
            "left": null,
            "margin": null,
            "max_height": null,
            "max_width": null,
            "min_height": null,
            "min_width": null,
            "object_fit": null,
            "object_position": null,
            "order": null,
            "overflow": null,
            "overflow_x": null,
            "overflow_y": null,
            "padding": null,
            "right": null,
            "top": null,
            "visibility": null,
            "width": null
          }
        },
        "4908816fcd514d7098545544f9b7dd14": {
          "model_module": "bqplot",
          "model_name": "LinearScaleModel",
          "model_module_version": "^0.5",
          "state": {
            "_model_module": "bqplot",
            "_model_module_version": "^0.5",
            "_model_name": "LinearScaleModel",
            "_view_count": null,
            "_view_module": "bqplot",
            "_view_module_version": "^0.5",
            "_view_name": "LinearScale",
            "allow_padding": true,
            "max": 1,
            "mid_range": 0.8,
            "min": 0,
            "min_range": 0.6,
            "reverse": false,
            "stabilized": false
          }
        },
        "fae88d5a2f70442bafe450966721293b": {
          "model_module": "bqplot",
          "model_name": "LinearScaleModel",
          "model_module_version": "^0.5",
          "state": {
            "_model_module": "bqplot",
            "_model_module_version": "^0.5",
            "_model_name": "LinearScaleModel",
            "_view_count": null,
            "_view_module": "bqplot",
            "_view_module_version": "^0.5",
            "_view_name": "LinearScale",
            "allow_padding": true,
            "max": 1,
            "mid_range": 0.8,
            "min": 0,
            "min_range": 0.6,
            "reverse": false,
            "stabilized": false
          }
        },
        "ac8c493196f64ecca787fd128119870c": {
          "model_module": "bqplot",
          "model_name": "LinearScaleModel",
          "model_module_version": "^0.5",
          "state": {
            "_model_module": "bqplot",
            "_model_module_version": "^0.5",
            "_model_name": "LinearScaleModel",
            "_view_count": null,
            "_view_module": "bqplot",
            "_view_module_version": "^0.5",
            "_view_name": "LinearScale",
            "allow_padding": true,
            "max": 1,
            "mid_range": 0.8,
            "min": 0,
            "min_range": 0.6,
            "reverse": false,
            "stabilized": false
          }
        },
        "4d4ca6e1324c42d8aa6f59e398bfda0f": {
          "model_module": "ipyvolume",
          "model_name": "ScatterModel",
          "model_module_version": "~0.6.3",
          "state": {
            "_model_module": "ipyvolume",
            "_model_module_version": "~0.6.3",
            "_model_name": "ScatterModel",
            "_view_count": null,
            "_view_module": "ipyvolume",
            "_view_module_version": "~0.6.3",
            "_view_name": "ScatterView",
            "aux": null,
            "aux_scale": null,
            "cast_shadow": true,
            "clicked": null,
            "clicked_index": null,
            "color": "red",
            "color_scale": null,
            "color_selected": "white",
            "connected": false,
            "description": "Scatter 0",
            "description_color": "red",
            "geo": "diamond",
            "geo_matrix": [
              1,
              0,
              0,
              0,
              0,
              1,
              0,
              0,
              0,
              0,
              1,
              0,
              0,
              0,
              0,
              1
            ],
            "hovered": null,
            "hovered_index": null,
            "icon": "mdi-chart-bubble",
            "line_material": "IPY_MODEL_0b1b9fe5102546d58fa26c677dc3be91",
            "material": "IPY_MODEL_ad113286dea84f37a63216eee593824a",
            "popup": null,
            "receive_shadow": true,
            "selected": null,
            "sequence_index": 0,
            "shader_snippets": {
              "size": "\n"
            },
            "size": 2,
            "size_selected": 2.6,
            "size_x_scale": null,
            "size_y_scale": null,
            "size_z_scale": null,
            "texture": null,
            "visible": true,
            "vx": null,
            "vy": null,
            "vz": null,
            "x": [
              {
                "dtype": "float32",
                "shape": [
                  36
                ]
              }
            ],
            "y": [
              {
                "dtype": "float32",
                "shape": [
                  36
                ]
              }
            ],
            "z": [
              {
                "dtype": "float32",
                "shape": [
                  36
                ]
              }
            ]
          }
        },
        "ada3c7e5f3a84de68650fa02301cf1ae": {
          "model_module": "jupyter-threejs",
          "model_name": "SceneModel",
          "model_module_version": "^2.4.1",
          "state": {
            "_model_module": "jupyter-threejs",
            "_model_module_version": "^2.4.1",
            "_model_name": "SceneModel",
            "_view_count": null,
            "_view_module": null,
            "_view_module_version": "",
            "_view_name": null,
            "autoUpdate": true,
            "background": null,
            "castShadow": false,
            "children": [],
            "fog": null,
            "frustumCulled": true,
            "matrix": [
              1,
              0,
              0,
              0,
              0,
              1,
              0,
              0,
              0,
              0,
              1,
              0,
              0,
              0,
              0,
              1
            ],
            "matrixAutoUpdate": true,
            "matrixWorld": [
              1,
              0,
              0,
              0,
              0,
              1,
              0,
              0,
              0,
              0,
              1,
              0,
              0,
              0,
              0,
              1
            ],
            "matrixWorldNeedsUpdate": false,
            "modelViewMatrix": [
              1,
              0,
              0,
              0,
              0,
              1,
              0,
              0,
              0,
              0,
              1,
              0,
              0,
              0,
              0,
              1
            ],
            "name": "",
            "normalMatrix": [
              1,
              0,
              0,
              0,
              1,
              0,
              0,
              0,
              1
            ],
            "overrideMaterial": null,
            "position": [
              0,
              0,
              0
            ],
            "quaternion": [
              0,
              0,
              0,
              1
            ],
            "receiveShadow": false,
            "renderOrder": 0,
            "rotation": [
              0,
              0,
              0,
              "XYZ"
            ],
            "scale": [
              1,
              1,
              1
            ],
            "type": "Scene",
            "up": [
              0,
              1,
              0
            ],
            "visible": true
          }
        },
        "0b1b9fe5102546d58fa26c677dc3be91": {
          "model_module": "jupyter-threejs",
          "model_name": "ShaderMaterialModel",
          "model_module_version": "^2.4.1",
          "state": {
            "_model_module": "jupyter-threejs",
            "_model_module_version": "^2.4.1",
            "_model_name": "ShaderMaterialModel",
            "_view_count": null,
            "_view_module": null,
            "_view_module_version": "",
            "_view_name": null,
            "alphaTest": 0,
            "blendDst": "OneMinusSrcAlphaFactor",
            "blendDstAlpha": 0,
            "blendEquation": "AddEquation",
            "blendEquationAlpha": 0,
            "blendSrc": "SrcAlphaFactor",
            "blendSrcAlpha": 0,
            "blending": "NormalBlending",
            "clipIntersection": false,
            "clipShadows": false,
            "clipping": false,
            "clippingPlanes": [],
            "colorWrite": true,
            "defines": null,
            "depthFunc": "LessEqualDepth",
            "depthTest": true,
            "depthWrite": true,
            "dithering": false,
            "extensions": {},
            "flatShading": false,
            "fog": false,
            "fragmentShader": "",
            "lights": false,
            "linewidth": 1,
            "morphNormals": false,
            "morphTargets": false,
            "name": "",
            "opacity": 1,
            "overdraw": 0,
            "polygonOffset": false,
            "polygonOffsetFactor": 0,
            "polygonOffsetUnits": 0,
            "precision": null,
            "premultipliedAlpha": false,
            "shadowSide": null,
            "side": "FrontSide",
            "skinning": false,
            "transparent": false,
            "type": "ShaderMaterial",
            "uniforms": {},
            "uniformsNeedUpdate": false,
            "vertexColors": "NoColors",
            "vertexShader": "",
            "visible": true,
            "wireframe": false,
            "wireframeLinewidth": 1
          }
        },
        "ad113286dea84f37a63216eee593824a": {
          "model_module": "jupyter-threejs",
          "model_name": "ShaderMaterialModel",
          "model_module_version": "^2.4.1",
          "state": {
            "_model_module": "jupyter-threejs",
            "_model_module_version": "^2.4.1",
            "_model_name": "ShaderMaterialModel",
            "_view_count": null,
            "_view_module": null,
            "_view_module_version": "",
            "_view_name": null,
            "alphaTest": 0,
            "blendDst": "OneMinusSrcAlphaFactor",
            "blendDstAlpha": 0,
            "blendEquation": "AddEquation",
            "blendEquationAlpha": 0,
            "blendSrc": "SrcAlphaFactor",
            "blendSrcAlpha": 0,
            "blending": "NormalBlending",
            "clipIntersection": false,
            "clipShadows": false,
            "clipping": false,
            "clippingPlanes": [],
            "colorWrite": true,
            "defines": null,
            "depthFunc": "LessEqualDepth",
            "depthTest": true,
            "depthWrite": true,
            "dithering": false,
            "extensions": {},
            "flatShading": false,
            "fog": false,
            "fragmentShader": "",
            "lights": false,
            "linewidth": 1,
            "morphNormals": false,
            "morphTargets": false,
            "name": "",
            "opacity": 1,
            "overdraw": 0,
            "polygonOffset": false,
            "polygonOffsetFactor": 0,
            "polygonOffsetUnits": 0,
            "precision": null,
            "premultipliedAlpha": false,
            "shadowSide": null,
            "side": "FrontSide",
            "skinning": false,
            "transparent": false,
            "type": "ShaderMaterial",
            "uniforms": {},
            "uniformsNeedUpdate": false,
            "vertexColors": "NoColors",
            "vertexShader": "",
            "visible": true,
            "wireframe": false,
            "wireframeLinewidth": 1
          }
        }
      }
    }
  },
  "cells": [
    {
      "cell_type": "markdown",
      "source": [
        "# Neural Networks with multiple inputs and outputs\n",
        "----\n",
        "\n",
        "prerequisite:\n",
        "- Main idea behind NNs and ReLU activation function\n",
        "\n",
        "Previous work that is simple Neural network\n",
        "---\n",
        "\n",
        "Early Neural network example was very simple and data set was also very simple. it only predicts whether or not dosage of drug will be effective.\n",
        "\n",
        "That NN had just one input node and one output node.\n",
        "\n",
        "when we have only one input node then all input data can fit on x-axis of the graph. in simple words input is 1Dimentional. since it only needs 1 axis on the graph.\n",
        "\n",
        "similarly, single dimention, y-axis, represents the output values.\n",
        "\n",
        "combined we get 2D graph, with the input dosage on x-axis and output effectiveness on y-axis.\n",
        "\n",
        "because input and output combine to form 2D graph we can see how weights and biasis in the NNs slice, flip and stratch the curve or bent activation functinos into new shapes.\n",
        "\n",
        "that are added together to make 2D squiggle or shappe that fits data.\n",
        "\n",
        "Complicated Neural Network\n",
        "---\n",
        "\n",
        "This network has more than one input node and more than one output nodes.\n",
        "\n",
        "This NN may look fancy but all it does is takes two masurement from iris flower. 1) the width of petal and 2) width of sepal. Two width of different part of the flower see again image of flower.\n",
        "\n",
        "and with that information it predicts the species either Setosa, Versicolor, or Virginica."
      ],
      "metadata": {
        "id": "VKjjcEvS9uog"
      }
    },
    {
      "cell_type": "code",
      "source": [
        "import matplotlib.pyplot as plt\n",
        "from mpl_toolkits.mplot3d import Axes3D"
      ],
      "metadata": {
        "id": "uaZ8nmBEay6X"
      },
      "execution_count": 1,
      "outputs": []
    },
    {
      "cell_type": "code",
      "execution_count": 2,
      "metadata": {
        "id": "ktNzXSvI9shj"
      },
      "outputs": [],
      "source": [
        "# Top node input 1\n",
        "x1w1 = -2.5\n",
        "x1w2 = -1.5\n",
        "b1 = 1.6\n",
        "\n",
        "x1w3 = -0.1\n",
        "x1w4 = 2.4\n",
        "x1w5 = -2.2\n",
        "\n",
        "\n",
        "# input 2\n",
        "x2w1 = 0.6\n",
        "x2w2 = 0.4\n",
        "b2 = 0.7\n",
        "\n",
        "x2w3 = 1.5\n",
        "x2w4 = -5.2\n",
        "x2w5 = 3.7\n",
        "\n",
        "b3 = 0\n",
        "b4 = 0\n",
        "b5 = 1"
      ]
    },
    {
      "cell_type": "markdown",
      "source": [
        "1. For simplicity, Starting with both input node and only 1 output node `Setosa`.\n",
        "---\n",
        "\n",
        "later other two o/p nodes.\n",
        "\n",
        "- Let's see what happens when we plug values for petal width and sepal width into simplified neural network.\n",
        "\n",
        "Since we have two inputs and one output to demonstrate whats going on we need the 3D graph.\n",
        "\n",
        "For simplisity input values are scalled to 0 for smallest value and 1 for largest value.\n",
        "\n",
        "\n"
      ],
      "metadata": {
        "id": "qiwEeNFNZY7G"
      }
    },
    {
      "cell_type": "code",
      "source": [
        "def draw(x,y,z):\n",
        "  ax = plt.axes(projection='3d')\n",
        "  # ax = Axes3D(fig)\n",
        "  ax.view_init(elev=10, azim=45) # set camera angle\n",
        "  ax.set_xticks([0,0.2,0.8,1])\n",
        "  ax.set_yticks([0,0.2,0.8,1])\n",
        "\n",
        "  ax.axes.set_xlim3d(left=1.0, right=0.0)\n",
        "  ax.axes.set_ylim3d(bottom=0.0, top=1.0)\n",
        "  ax.axes.set_zlim3d(bottom=0.0, top=2.0)\n",
        "\n",
        "  ax.scatter(x,y,z)\n",
        "\n",
        "  ax.set_xlabel('Petal Width')\n",
        "  ax.set_ylabel('Sepal Width')\n",
        "  ax.set_zlabel('Setosa') # output\n"
      ],
      "metadata": {
        "id": "wABsN4UQZFBb"
      },
      "execution_count": 3,
      "outputs": []
    },
    {
      "cell_type": "code",
      "source": [
        "def ReLU(x):\n",
        "  out = max(0,x)\n",
        "  return out"
      ],
      "metadata": {
        "id": "h1AsS-rdgOm6"
      },
      "execution_count": 4,
      "outputs": []
    },
    {
      "cell_type": "code",
      "source": [
        "def top_node(pw, sw):\n",
        "  x_of_af = (pw * x1w1) + (sw * x2w1) + b1\n",
        "  # print(f\"x-axis value of activation function is: {x_of_af}\")\n",
        "  y = ReLU(x_of_af)\n",
        "  # print(f\"y-axis value corresponding to x-axis is: {y}\")\n",
        "  return y\n",
        "\n",
        "\n",
        "def bottom_node(pw, sw):\n",
        "  x_of_af = (pw * x1w2) + (sw * x2w2) + b2\n",
        "  print(f\"x-axis value of activation function is: {x_of_af}\")\n",
        "  y = ReLU(x_of_af)\n",
        "  print(f\"y-axis value corresponding to x-axis is: {y}\")\n",
        "  return y"
      ],
      "metadata": {
        "id": "a_c0jj5rlYpc"
      },
      "execution_count": 5,
      "outputs": []
    },
    {
      "cell_type": "code",
      "source": [
        "# Determining x-axis cordinate for Top node of hidden layer\n",
        "petal_width = 0\n",
        "sepal_width = 0\n",
        "\n",
        "x_of_af = (petal_width * x1w1) + (sepal_width * x2w1) + b1\n",
        "print(f\"x-axis value of activation function is: {x_of_af}\")"
      ],
      "metadata": {
        "colab": {
          "base_uri": "https://localhost:8080/"
        },
        "id": "DHXJjsdNbpOk",
        "outputId": "1806dc57-a0a4-43dc-aeab-56d2ecea75a9"
      },
      "execution_count": 6,
      "outputs": [
        {
          "output_type": "stream",
          "name": "stdout",
          "text": [
            "x-axis value of activation function is: 1.6\n"
          ]
        }
      ]
    },
    {
      "cell_type": "code",
      "source": [
        "# now get y-axis value corresponds to x-axis\n",
        "y = ReLU(x_of_af)\n",
        "print(f\"y-axis value corresponding to x-axis is: {y}\")\n",
        "\n",
        "# ploting this would give us following o/p\n",
        "draw(petal_width, sepal_width, y)"
      ],
      "metadata": {
        "colab": {
          "base_uri": "https://localhost:8080/",
          "height": 423
        },
        "id": "C4VTvIEagIbW",
        "outputId": "44598412-8001-408b-bef0-9a44976b5168"
      },
      "execution_count": 7,
      "outputs": [
        {
          "output_type": "stream",
          "name": "stdout",
          "text": [
            "y-axis value corresponding to x-axis is: 1.6\n"
          ]
        },
        {
          "output_type": "display_data",
          "data": {
            "text/plain": [
              "<Figure size 640x480 with 1 Axes>"
            ],
            "image/png": "[encoded data removed]"
          },
          "metadata": {}
        }
      ]
    },
    {
      "cell_type": "code",
      "source": [
        "# Now increase petal width by 0.2 and keep sepal width as 0\n",
        "top_node(pw=0.2, sw=0)"
      ],
      "metadata": {
        "colab": {
          "base_uri": "https://localhost:8080/"
        },
        "id": "FqAPyrwLhWmU",
        "outputId": "aaa4e65e-45b6-4072-81ad-5a2da5abd969"
      },
      "execution_count": 8,
      "outputs": [
        {
          "output_type": "execute_result",
          "data": {
            "text/plain": [
              "1.1"
            ]
          },
          "metadata": {},
          "execution_count": 8
        }
      ]
    },
    {
      "cell_type": "code",
      "source": [
        "draw([0.0,0.2],[0.0,0.0],[1.6,1.1])"
      ],
      "metadata": {
        "colab": {
          "base_uri": "https://localhost:8080/",
          "height": 406
        },
        "id": "7r1zMmSPl0Xv",
        "outputId": "7be893a9-8955-44d3-f0ee-d0e2f86b148a"
      },
      "execution_count": 9,
      "outputs": [
        {
          "output_type": "display_data",
          "data": {
            "text/plain": [
              "<Figure size 640x480 with 1 Axes>"
            ],
            "image/png": "[encoded data removed]"
          },
          "metadata": {}
        }
      ]
    },
    {
      "cell_type": "code",
      "source": [
        "pip install ipyvolume"
      ],
      "metadata": {
        "id": "TPluExGTXDdr",
        "colab": {
          "base_uri": "https://localhost:8080/"
        },
        "outputId": "067108a0-b994-4ee0-aaed-7ea4a88fcded"
      },
      "execution_count": 10,
      "outputs": [
        {
          "output_type": "stream",
          "name": "stdout",
          "text": [
            "Collecting ipyvolume\n",
            "  Downloading ipyvolume-0.6.3-py3-none-any.whl (1.6 MB)\n",
            "\u001b[2K     \u001b[90m━━━━━━━━━━━━━━━━━━━━━━━━━━━━━━━━━━━━━━━━\u001b[0m \u001b[32m1.6/1.6 MB\u001b[0m \u001b[31m15.9 MB/s\u001b[0m eta \u001b[36m0:00:00\u001b[0m\n",
            "\u001b[?25hRequirement already satisfied: ipywidgets>=7.0.0 in /usr/local/lib/python3.10/dist-packages (from ipyvolume) (7.7.1)\n",
            "Requirement already satisfied: bqplot in /usr/local/lib/python3.10/dist-packages (from ipyvolume) (0.12.42)\n",
            "Requirement already satisfied: numpy in /usr/local/lib/python3.10/dist-packages (from ipyvolume) (1.23.5)\n",
            "Requirement already satisfied: traittypes in /usr/local/lib/python3.10/dist-packages (from ipyvolume) (0.2.1)\n",
            "Requirement already satisfied: traitlets in /usr/local/lib/python3.10/dist-packages (from ipyvolume) (5.7.1)\n",
            "Requirement already satisfied: Pillow in /usr/local/lib/python3.10/dist-packages (from ipyvolume) (9.4.0)\n",
            "Collecting ipywebrtc (from ipyvolume)\n",
            "  Downloading ipywebrtc-0.6.0-py2.py3-none-any.whl (260 kB)\n",
            "\u001b[2K     \u001b[90m━━━━━━━━━━━━━━━━━━━━━━━━━━━━━━━━━━━━━━━━\u001b[0m \u001b[32m260.7/260.7 kB\u001b[0m \u001b[31m25.0 MB/s\u001b[0m eta \u001b[36m0:00:00\u001b[0m\n",
            "\u001b[?25hRequirement already satisfied: requests in /usr/local/lib/python3.10/dist-packages (from ipyvolume) (2.31.0)\n",
            "Collecting ipyvuetify (from ipyvolume)\n",
            "  Downloading ipyvuetify-1.8.10-py2.py3-none-any.whl (11.7 MB)\n",
            "\u001b[2K     \u001b[90m━━━━━━━━━━━━━━━━━━━━━━━━━━━━━━━━━━━━━━━━\u001b[0m \u001b[32m11.7/11.7 MB\u001b[0m \u001b[31m83.7 MB/s\u001b[0m eta \u001b[36m0:00:00\u001b[0m\n",
            "\u001b[?25hCollecting ipyvue>=1.7.0 (from ipyvolume)\n",
            "  Downloading ipyvue-1.10.1-py2.py3-none-any.whl (2.7 MB)\n",
            "\u001b[2K     \u001b[90m━━━━━━━━━━━━━━━━━━━━━━━━━━━━━━━━━━━━━━━━\u001b[0m \u001b[32m2.7/2.7 MB\u001b[0m \u001b[31m82.3 MB/s\u001b[0m eta \u001b[36m0:00:00\u001b[0m\n",
            "\u001b[?25hCollecting pythreejs>=2.4.0 (from ipyvolume)\n",
            "  Downloading pythreejs-2.4.2-py3-none-any.whl (3.4 MB)\n",
            "\u001b[2K     \u001b[90m━━━━━━━━━━━━━━━━━━━━━━━━━━━━━━━━━━━━━━━━\u001b[0m \u001b[32m3.4/3.4 MB\u001b[0m \u001b[31m92.0 MB/s\u001b[0m eta \u001b[36m0:00:00\u001b[0m\n",
            "\u001b[?25hRequirement already satisfied: matplotlib in /usr/local/lib/python3.10/dist-packages (from ipyvolume) (3.7.1)\n",
            "Requirement already satisfied: ipykernel>=4.5.1 in /usr/local/lib/python3.10/dist-packages (from ipywidgets>=7.0.0->ipyvolume) (5.5.6)\n",
            "Requirement already satisfied: ipython-genutils~=0.2.0 in /usr/local/lib/python3.10/dist-packages (from ipywidgets>=7.0.0->ipyvolume) (0.2.0)\n",
            "Requirement already satisfied: widgetsnbextension~=3.6.0 in /usr/local/lib/python3.10/dist-packages (from ipywidgets>=7.0.0->ipyvolume) (3.6.6)\n",
            "Requirement already satisfied: ipython>=4.0.0 in /usr/local/lib/python3.10/dist-packages (from ipywidgets>=7.0.0->ipyvolume) (7.34.0)\n",
            "Requirement already satisfied: jupyterlab-widgets>=1.0.0 in /usr/local/lib/python3.10/dist-packages (from ipywidgets>=7.0.0->ipyvolume) (3.0.9)\n",
            "Collecting ipydatawidgets>=1.1.1 (from pythreejs>=2.4.0->ipyvolume)\n",
            "  Downloading ipydatawidgets-4.3.5-py2.py3-none-any.whl (271 kB)\n",
            "\u001b[2K     \u001b[90m━━━━━━━━━━━━━━━━━━━━━━━━━━━━━━━━━━━━━━━━\u001b[0m \u001b[32m271.7/271.7 kB\u001b[0m \u001b[31m28.5 MB/s\u001b[0m eta \u001b[36m0:00:00\u001b[0m\n",
            "\u001b[?25hRequirement already satisfied: pandas<3.0.0,>=1.0.0 in /usr/local/lib/python3.10/dist-packages (from bqplot->ipyvolume) (1.5.3)\n",
            "Requirement already satisfied: contourpy>=1.0.1 in /usr/local/lib/python3.10/dist-packages (from matplotlib->ipyvolume) (1.2.0)\n",
            "Requirement already satisfied: cycler>=0.10 in /usr/local/lib/python3.10/dist-packages (from matplotlib->ipyvolume) (0.12.1)\n",
            "Requirement already satisfied: fonttools>=4.22.0 in /usr/local/lib/python3.10/dist-packages (from matplotlib->ipyvolume) (4.44.0)\n",
            "Requirement already satisfied: kiwisolver>=1.0.1 in /usr/local/lib/python3.10/dist-packages (from matplotlib->ipyvolume) (1.4.5)\n",
            "Requirement already satisfied: packaging>=20.0 in /usr/local/lib/python3.10/dist-packages (from matplotlib->ipyvolume) (23.2)\n",
            "Requirement already satisfied: pyparsing>=2.3.1 in /usr/local/lib/python3.10/dist-packages (from matplotlib->ipyvolume) (3.1.1)\n",
            "Requirement already satisfied: python-dateutil>=2.7 in /usr/local/lib/python3.10/dist-packages (from matplotlib->ipyvolume) (2.8.2)\n",
            "Requirement already satisfied: charset-normalizer<4,>=2 in /usr/local/lib/python3.10/dist-packages (from requests->ipyvolume) (3.3.2)\n",
            "Requirement already satisfied: idna<4,>=2.5 in /usr/local/lib/python3.10/dist-packages (from requests->ipyvolume) (3.4)\n",
            "Requirement already satisfied: urllib3<3,>=1.21.1 in /usr/local/lib/python3.10/dist-packages (from requests->ipyvolume) (2.0.7)\n",
            "Requirement already satisfied: certifi>=2017.4.17 in /usr/local/lib/python3.10/dist-packages (from requests->ipyvolume) (2023.7.22)\n",
            "Requirement already satisfied: jupyter-client in /usr/local/lib/python3.10/dist-packages (from ipykernel>=4.5.1->ipywidgets>=7.0.0->ipyvolume) (6.1.12)\n",
            "Requirement already satisfied: tornado>=4.2 in /usr/local/lib/python3.10/dist-packages (from ipykernel>=4.5.1->ipywidgets>=7.0.0->ipyvolume) (6.3.2)\n",
            "Requirement already satisfied: setuptools>=18.5 in /usr/local/lib/python3.10/dist-packages (from ipython>=4.0.0->ipywidgets>=7.0.0->ipyvolume) (67.7.2)\n",
            "Collecting jedi>=0.16 (from ipython>=4.0.0->ipywidgets>=7.0.0->ipyvolume)\n",
            "  Downloading jedi-0.19.1-py2.py3-none-any.whl (1.6 MB)\n",
            "\u001b[2K     \u001b[90m━━━━━━━━━━━━━━━━━━━━━━━━━━━━━━━━━━━━━━━━\u001b[0m \u001b[32m1.6/1.6 MB\u001b[0m \u001b[31m78.6 MB/s\u001b[0m eta \u001b[36m0:00:00\u001b[0m\n",
            "\u001b[?25hRequirement already satisfied: decorator in /usr/local/lib/python3.10/dist-packages (from ipython>=4.0.0->ipywidgets>=7.0.0->ipyvolume) (4.4.2)\n",
            "Requirement already satisfied: pickleshare in /usr/local/lib/python3.10/dist-packages (from ipython>=4.0.0->ipywidgets>=7.0.0->ipyvolume) (0.7.5)\n",
            "Requirement already satisfied: prompt-toolkit!=3.0.0,!=3.0.1,<3.1.0,>=2.0.0 in /usr/local/lib/python3.10/dist-packages (from ipython>=4.0.0->ipywidgets>=7.0.0->ipyvolume) (3.0.39)\n",
            "Requirement already satisfied: pygments in /usr/local/lib/python3.10/dist-packages (from ipython>=4.0.0->ipywidgets>=7.0.0->ipyvolume) (2.16.1)\n",
            "Requirement already satisfied: backcall in /usr/local/lib/python3.10/dist-packages (from ipython>=4.0.0->ipywidgets>=7.0.0->ipyvolume) (0.2.0)\n",
            "Requirement already satisfied: matplotlib-inline in /usr/local/lib/python3.10/dist-packages (from ipython>=4.0.0->ipywidgets>=7.0.0->ipyvolume) (0.1.6)\n",
            "Requirement already satisfied: pexpect>4.3 in /usr/local/lib/python3.10/dist-packages (from ipython>=4.0.0->ipywidgets>=7.0.0->ipyvolume) (4.8.0)\n",
            "Requirement already satisfied: pytz>=2020.1 in /usr/local/lib/python3.10/dist-packages (from pandas<3.0.0,>=1.0.0->bqplot->ipyvolume) (2023.3.post1)\n",
            "Requirement already satisfied: six>=1.5 in /usr/local/lib/python3.10/dist-packages (from python-dateutil>=2.7->matplotlib->ipyvolume) (1.16.0)\n",
            "Requirement already satisfied: notebook>=4.4.1 in /usr/local/lib/python3.10/dist-packages (from widgetsnbextension~=3.6.0->ipywidgets>=7.0.0->ipyvolume) (6.5.5)\n",
            "Requirement already satisfied: parso<0.9.0,>=0.8.3 in /usr/local/lib/python3.10/dist-packages (from jedi>=0.16->ipython>=4.0.0->ipywidgets>=7.0.0->ipyvolume) (0.8.3)\n",
            "Requirement already satisfied: jinja2 in /usr/local/lib/python3.10/dist-packages (from notebook>=4.4.1->widgetsnbextension~=3.6.0->ipywidgets>=7.0.0->ipyvolume) (3.1.2)\n",
            "Requirement already satisfied: pyzmq<25,>=17 in /usr/local/lib/python3.10/dist-packages (from notebook>=4.4.1->widgetsnbextension~=3.6.0->ipywidgets>=7.0.0->ipyvolume) (23.2.1)\n",
            "Requirement already satisfied: argon2-cffi in /usr/local/lib/python3.10/dist-packages (from notebook>=4.4.1->widgetsnbextension~=3.6.0->ipywidgets>=7.0.0->ipyvolume) (23.1.0)\n",
            "Requirement already satisfied: jupyter-core>=4.6.1 in /usr/local/lib/python3.10/dist-packages (from notebook>=4.4.1->widgetsnbextension~=3.6.0->ipywidgets>=7.0.0->ipyvolume) (5.5.0)\n",
            "Requirement already satisfied: nbformat in /usr/local/lib/python3.10/dist-packages (from notebook>=4.4.1->widgetsnbextension~=3.6.0->ipywidgets>=7.0.0->ipyvolume) (5.9.2)\n",
            "Requirement already satisfied: nbconvert>=5 in /usr/local/lib/python3.10/dist-packages (from notebook>=4.4.1->widgetsnbextension~=3.6.0->ipywidgets>=7.0.0->ipyvolume) (6.5.4)\n",
            "Requirement already satisfied: nest-asyncio>=1.5 in /usr/local/lib/python3.10/dist-packages (from notebook>=4.4.1->widgetsnbextension~=3.6.0->ipywidgets>=7.0.0->ipyvolume) (1.5.8)\n",
            "Requirement already satisfied: Send2Trash>=1.8.0 in /usr/local/lib/python3.10/dist-packages (from notebook>=4.4.1->widgetsnbextension~=3.6.0->ipywidgets>=7.0.0->ipyvolume) (1.8.2)\n",
            "Requirement already satisfied: terminado>=0.8.3 in /usr/local/lib/python3.10/dist-packages (from notebook>=4.4.1->widgetsnbextension~=3.6.0->ipywidgets>=7.0.0->ipyvolume) (0.17.1)\n",
            "Requirement already satisfied: prometheus-client in /usr/local/lib/python3.10/dist-packages (from notebook>=4.4.1->widgetsnbextension~=3.6.0->ipywidgets>=7.0.0->ipyvolume) (0.18.0)\n",
            "Requirement already satisfied: nbclassic>=0.4.7 in /usr/local/lib/python3.10/dist-packages (from notebook>=4.4.1->widgetsnbextension~=3.6.0->ipywidgets>=7.0.0->ipyvolume) (1.0.0)\n",
            "Requirement already satisfied: ptyprocess>=0.5 in /usr/local/lib/python3.10/dist-packages (from pexpect>4.3->ipython>=4.0.0->ipywidgets>=7.0.0->ipyvolume) (0.7.0)\n",
            "Requirement already satisfied: wcwidth in /usr/local/lib/python3.10/dist-packages (from prompt-toolkit!=3.0.0,!=3.0.1,<3.1.0,>=2.0.0->ipython>=4.0.0->ipywidgets>=7.0.0->ipyvolume) (0.2.9)\n",
            "Requirement already satisfied: platformdirs>=2.5 in /usr/local/lib/python3.10/dist-packages (from jupyter-core>=4.6.1->notebook>=4.4.1->widgetsnbextension~=3.6.0->ipywidgets>=7.0.0->ipyvolume) (3.11.0)\n",
            "Requirement already satisfied: jupyter-server>=1.8 in /usr/local/lib/python3.10/dist-packages (from nbclassic>=0.4.7->notebook>=4.4.1->widgetsnbextension~=3.6.0->ipywidgets>=7.0.0->ipyvolume) (1.24.0)\n",
            "Requirement already satisfied: notebook-shim>=0.2.3 in /usr/local/lib/python3.10/dist-packages (from nbclassic>=0.4.7->notebook>=4.4.1->widgetsnbextension~=3.6.0->ipywidgets>=7.0.0->ipyvolume) (0.2.3)\n",
            "Requirement already satisfied: lxml in /usr/local/lib/python3.10/dist-packages (from nbconvert>=5->notebook>=4.4.1->widgetsnbextension~=3.6.0->ipywidgets>=7.0.0->ipyvolume) (4.9.3)\n",
            "Requirement already satisfied: beautifulsoup4 in /usr/local/lib/python3.10/dist-packages (from nbconvert>=5->notebook>=4.4.1->widgetsnbextension~=3.6.0->ipywidgets>=7.0.0->ipyvolume) (4.11.2)\n",
            "Requirement already satisfied: bleach in /usr/local/lib/python3.10/dist-packages (from nbconvert>=5->notebook>=4.4.1->widgetsnbextension~=3.6.0->ipywidgets>=7.0.0->ipyvolume) (6.1.0)\n",
            "Requirement already satisfied: defusedxml in /usr/local/lib/python3.10/dist-packages (from nbconvert>=5->notebook>=4.4.1->widgetsnbextension~=3.6.0->ipywidgets>=7.0.0->ipyvolume) (0.7.1)\n",
            "Requirement already satisfied: entrypoints>=0.2.2 in /usr/local/lib/python3.10/dist-packages (from nbconvert>=5->notebook>=4.4.1->widgetsnbextension~=3.6.0->ipywidgets>=7.0.0->ipyvolume) (0.4)\n",
            "Requirement already satisfied: jupyterlab-pygments in /usr/local/lib/python3.10/dist-packages (from nbconvert>=5->notebook>=4.4.1->widgetsnbextension~=3.6.0->ipywidgets>=7.0.0->ipyvolume) (0.2.2)\n",
            "Requirement already satisfied: MarkupSafe>=2.0 in /usr/local/lib/python3.10/dist-packages (from nbconvert>=5->notebook>=4.4.1->widgetsnbextension~=3.6.0->ipywidgets>=7.0.0->ipyvolume) (2.1.3)\n",
            "Requirement already satisfied: mistune<2,>=0.8.1 in /usr/local/lib/python3.10/dist-packages (from nbconvert>=5->notebook>=4.4.1->widgetsnbextension~=3.6.0->ipywidgets>=7.0.0->ipyvolume) (0.8.4)\n",
            "Requirement already satisfied: nbclient>=0.5.0 in /usr/local/lib/python3.10/dist-packages (from nbconvert>=5->notebook>=4.4.1->widgetsnbextension~=3.6.0->ipywidgets>=7.0.0->ipyvolume) (0.9.0)\n",
            "Requirement already satisfied: pandocfilters>=1.4.1 in /usr/local/lib/python3.10/dist-packages (from nbconvert>=5->notebook>=4.4.1->widgetsnbextension~=3.6.0->ipywidgets>=7.0.0->ipyvolume) (1.5.0)\n",
            "Requirement already satisfied: tinycss2 in /usr/local/lib/python3.10/dist-packages (from nbconvert>=5->notebook>=4.4.1->widgetsnbextension~=3.6.0->ipywidgets>=7.0.0->ipyvolume) (1.2.1)\n",
            "Requirement already satisfied: fastjsonschema in /usr/local/lib/python3.10/dist-packages (from nbformat->notebook>=4.4.1->widgetsnbextension~=3.6.0->ipywidgets>=7.0.0->ipyvolume) (2.18.1)\n",
            "Requirement already satisfied: jsonschema>=2.6 in /usr/local/lib/python3.10/dist-packages (from nbformat->notebook>=4.4.1->widgetsnbextension~=3.6.0->ipywidgets>=7.0.0->ipyvolume) (4.19.2)\n",
            "Requirement already satisfied: argon2-cffi-bindings in /usr/local/lib/python3.10/dist-packages (from argon2-cffi->notebook>=4.4.1->widgetsnbextension~=3.6.0->ipywidgets>=7.0.0->ipyvolume) (21.2.0)\n",
            "Requirement already satisfied: attrs>=22.2.0 in /usr/local/lib/python3.10/dist-packages (from jsonschema>=2.6->nbformat->notebook>=4.4.1->widgetsnbextension~=3.6.0->ipywidgets>=7.0.0->ipyvolume) (23.1.0)\n",
            "Requirement already satisfied: jsonschema-specifications>=2023.03.6 in /usr/local/lib/python3.10/dist-packages (from jsonschema>=2.6->nbformat->notebook>=4.4.1->widgetsnbextension~=3.6.0->ipywidgets>=7.0.0->ipyvolume) (2023.7.1)\n",
            "Requirement already satisfied: referencing>=0.28.4 in /usr/local/lib/python3.10/dist-packages (from jsonschema>=2.6->nbformat->notebook>=4.4.1->widgetsnbextension~=3.6.0->ipywidgets>=7.0.0->ipyvolume) (0.30.2)\n",
            "Requirement already satisfied: rpds-py>=0.7.1 in /usr/local/lib/python3.10/dist-packages (from jsonschema>=2.6->nbformat->notebook>=4.4.1->widgetsnbextension~=3.6.0->ipywidgets>=7.0.0->ipyvolume) (0.12.0)\n",
            "Requirement already satisfied: anyio<4,>=3.1.0 in /usr/local/lib/python3.10/dist-packages (from jupyter-server>=1.8->nbclassic>=0.4.7->notebook>=4.4.1->widgetsnbextension~=3.6.0->ipywidgets>=7.0.0->ipyvolume) (3.7.1)\n",
            "Requirement already satisfied: websocket-client in /usr/local/lib/python3.10/dist-packages (from jupyter-server>=1.8->nbclassic>=0.4.7->notebook>=4.4.1->widgetsnbextension~=3.6.0->ipywidgets>=7.0.0->ipyvolume) (1.6.4)\n",
            "Requirement already satisfied: cffi>=1.0.1 in /usr/local/lib/python3.10/dist-packages (from argon2-cffi-bindings->argon2-cffi->notebook>=4.4.1->widgetsnbextension~=3.6.0->ipywidgets>=7.0.0->ipyvolume) (1.16.0)\n",
            "Requirement already satisfied: soupsieve>1.2 in /usr/local/lib/python3.10/dist-packages (from beautifulsoup4->nbconvert>=5->notebook>=4.4.1->widgetsnbextension~=3.6.0->ipywidgets>=7.0.0->ipyvolume) (2.5)\n",
            "Requirement already satisfied: webencodings in /usr/local/lib/python3.10/dist-packages (from bleach->nbconvert>=5->notebook>=4.4.1->widgetsnbextension~=3.6.0->ipywidgets>=7.0.0->ipyvolume) (0.5.1)\n",
            "Requirement already satisfied: sniffio>=1.1 in /usr/local/lib/python3.10/dist-packages (from anyio<4,>=3.1.0->jupyter-server>=1.8->nbclassic>=0.4.7->notebook>=4.4.1->widgetsnbextension~=3.6.0->ipywidgets>=7.0.0->ipyvolume) (1.3.0)\n",
            "Requirement already satisfied: exceptiongroup in /usr/local/lib/python3.10/dist-packages (from anyio<4,>=3.1.0->jupyter-server>=1.8->nbclassic>=0.4.7->notebook>=4.4.1->widgetsnbextension~=3.6.0->ipywidgets>=7.0.0->ipyvolume) (1.1.3)\n",
            "Requirement already satisfied: pycparser in /usr/local/lib/python3.10/dist-packages (from cffi>=1.0.1->argon2-cffi-bindings->argon2-cffi->notebook>=4.4.1->widgetsnbextension~=3.6.0->ipywidgets>=7.0.0->ipyvolume) (2.21)\n",
            "Installing collected packages: ipywebrtc, jedi, ipyvue, ipydatawidgets, pythreejs, ipyvuetify, ipyvolume\n",
            "Successfully installed ipydatawidgets-4.3.5 ipyvolume-0.6.3 ipyvue-1.10.1 ipyvuetify-1.8.10 ipywebrtc-0.6.0 jedi-0.19.1 pythreejs-2.4.2\n"
          ]
        }
      ]
    },
    {
      "cell_type": "markdown",
      "source": [
        "Resource [interactive-python-3d-plot-in-jupyter-notebook-within-vscode](https://copyprogramming.com/howto/interactive-python-3d-plot-in-jupyter-notebook-within-vscode)\n",
        "\n",
        "[ipyvolume](https://pypi.org/project/ipyvolume/)"
      ],
      "metadata": {
        "id": "2bfDEMl7F4ly"
      }
    },
    {
      "cell_type": "code",
      "source": [
        "import ipyvolume as ipv # install it\n",
        "def draw3d(x,y,z, zlabel=\"z\"):\n",
        "  fig = ipv.figure()\n",
        "  scatter = ipv.scatter(x,y,z)\n",
        "  ipv.xyzlabel(\"Petal Width\", \"Sepal Width\", zlabel)\n",
        "  ipv.show()"
      ],
      "metadata": {
        "id": "KqdNki9pxw0S"
      },
      "execution_count": 11,
      "outputs": []
    },
    {
      "cell_type": "markdown",
      "source": [
        "# for Top node"
      ],
      "metadata": {
        "id": "UwBXog3x39Je"
      }
    },
    {
      "cell_type": "code",
      "source": [
        "pw = [0.0,0.2,0.4,0.6,0.8,1.0]\n",
        "sw = [0.0,0.2,0.4,0.6,0.8,1.0]\n",
        "\n",
        "xp = []\n",
        "yp = []\n",
        "zp = []\n",
        "\n",
        "for sw_point in sw:\n",
        "  for pw_point in pw:\n",
        "    y = top_node(pw=pw_point, sw=sw_point)\n",
        "    xp.append(pw_point)\n",
        "    yp.append(sw_point)\n",
        "    zp.append(y)\n",
        "\n"
      ],
      "metadata": {
        "id": "qjva6eR3v6ni"
      },
      "execution_count": 12,
      "outputs": []
    },
    {
      "cell_type": "code",
      "source": [
        "draw3d(xp,yp,zp, \"Satosa\")"
      ],
      "metadata": {
        "colab": {
          "base_uri": "https://localhost:8080/",
          "height": 542,
          "referenced_widgets": [
            "a6a2ac3b6e044fa1b5537d70e9a30f77",
            "35603321b3d04d36821655c6f99e7fdc",
            "daaca5be31414c6788acab4b47c84244",
            "adc5f7a58bb847a781c6ad045072dd26",
            "804a2e9b8f9546819bd585088b2d4254",
            "28b0e87987394e6c9504f00df3f175b4",
            "a9d6050477854eb581a66ef2f93455db",
            "c23338a8ae964053abc734eef4ce64f3",
            "ad2d98684b62461e9e6a8640b2083505",
            "def6f02fc0b747e39db5c3c5dea86e49",
            "67256d56ef3143979dad921ae03c130a",
            "389c6dfe374745b1bc09899934a21881",
            "713fa5723831498aa64f0a24a8ab24d2",
            "84ee227a55ad40d59a5d858d2d2eb840",
            "a2351c0976eb4abbb308380e76dd0d23",
            "55e383842a57453a8b15da955e76b725",
            "0782802e724d421a9cf5e38d61c25dfc"
          ]
        },
        "id": "Pt_obJa2x9qv",
        "outputId": "3a0594ac-01cf-44c1-ee4b-e1f9716bb4bb"
      },
      "execution_count": 13,
      "outputs": [
        {
          "output_type": "display_data",
          "data": {
            "text/plain": [
              "Html(layout=None, style_='display: none', tag='span')"
            ],
            "application/vnd.jupyter.widget-view+json": {
              "version_major": 2,
              "version_minor": 0,
              "model_id": "a6a2ac3b6e044fa1b5537d70e9a30f77"
            }
          },
          "metadata": {
            "application/vnd.jupyter.widget-view+json": {
              "colab": {
                "custom_widget_manager": {
                  "url": "https://ssl.gstatic.com/colaboratory-static/widgets/colab-cdn-widget-manager/b3e629b1971e1542/manager.min.js"
                }
              }
            }
          }
        },
        {
          "output_type": "display_data",
          "data": {
            "text/plain": [
              "Container(figure=Figure(box_center=[0.5, 0.5, 0.5], box_size=[1.0, 1.0, 1.0], camera=PerspectiveCamera(fov=45.…"
            ],
            "application/vnd.jupyter.widget-view+json": {
              "version_major": 2,
              "version_minor": 0,
              "model_id": "35603321b3d04d36821655c6f99e7fdc"
            }
          },
          "metadata": {
            "application/vnd.jupyter.widget-view+json": {
              "colab": {
                "custom_widget_manager": {
                  "url": "https://ssl.gstatic.com/colaboratory-static/widgets/colab-cdn-widget-manager/b3e629b1971e1542/manager.min.js"
                }
              }
            }
          }
        }
      ]
    },
    {
      "cell_type": "code",
      "source": [
        "x1y_scaled = [i*x1w3 for i in zp]"
      ],
      "metadata": {
        "id": "Z6WNzQdX2Zqb"
      },
      "execution_count": 14,
      "outputs": []
    },
    {
      "cell_type": "code",
      "source": [
        "draw3d(xp,yp,x1y_scaled, \"Satosa\")\n"
      ],
      "metadata": {
        "colab": {
          "base_uri": "https://localhost:8080/",
          "height": 552,
          "referenced_widgets": [
            "7317c4e0acfe4d249d8a07617c687677",
            "752016d896654a90baf8134e96588a14",
            "025b818827834453961510b7839f62d5",
            "713fa5723831498aa64f0a24a8ab24d2",
            "fec7d2e5123e4dea9c04b543c497fc27",
            "70bad693eaef425d925dca929cca3a3e",
            "baef85294e6546d29afed6fc990add18",
            "67256d56ef3143979dad921ae03c130a",
            "f5179495ad434835b5c33a5a8458d77e",
            "75ba29aab42c4747b41f1a46353f88f3",
            "f468ced6793b491a91ea90a1d79fb124",
            "1ec27fea182648faa70d81f1da7530be",
            "4d9ad23feb074d43a2ef010b5c978796",
            "4d2c392f7be344afa31f00d779344b84",
            "aa4246b7533e46d4a60ec56807c7c1cd",
            "86ffa53854ea4ba2ba5aa918b095ad21",
            "4d41781f6edc49869c17915b5c8c24b6"
          ]
        },
        "id": "7wx94az13WqW",
        "outputId": "26bc5e09-0e11-47a1-eb3a-1dfcb73091b5"
      },
      "execution_count": 15,
      "outputs": [
        {
          "output_type": "display_data",
          "data": {
            "text/plain": [
              "Html(layout=None, style_='display: none', tag='span')"
            ],
            "application/vnd.jupyter.widget-view+json": {
              "version_major": 2,
              "version_minor": 0,
              "model_id": "7317c4e0acfe4d249d8a07617c687677"
            }
          },
          "metadata": {
            "application/vnd.jupyter.widget-view+json": {
              "colab": {
                "custom_widget_manager": {
                  "url": "https://ssl.gstatic.com/colaboratory-static/widgets/colab-cdn-widget-manager/b3e629b1971e1542/manager.min.js"
                }
              }
            }
          }
        },
        {
          "output_type": "display_data",
          "data": {
            "text/plain": [
              "Container(figure=Figure(box_center=[0.5, 0.5, 0.5], box_size=[1.0, 1.0, 1.0], camera=PerspectiveCamera(fov=45.…"
            ],
            "application/vnd.jupyter.widget-view+json": {
              "version_major": 2,
              "version_minor": 0,
              "model_id": "752016d896654a90baf8134e96588a14"
            }
          },
          "metadata": {
            "application/vnd.jupyter.widget-view+json": {
              "colab": {
                "custom_widget_manager": {
                  "url": "https://ssl.gstatic.com/colaboratory-static/widgets/colab-cdn-widget-manager/b3e629b1971e1542/manager.min.js"
                }
              }
            }
          }
        }
      ]
    },
    {
      "cell_type": "markdown",
      "source": [
        "# Bottom node\n"
      ],
      "metadata": {
        "id": "Vh_YbtiJ7L5U"
      }
    },
    {
      "cell_type": "code",
      "source": [
        "xp_b = []\n",
        "yp_b = []\n",
        "zp_b = []\n",
        "\n",
        "for sw_point in sw:\n",
        "  for pw_point in pw:\n",
        "    y = bottom_node(pw=pw_point, sw=sw_point)\n",
        "    xp_b.append(pw_point)\n",
        "    yp_b.append(sw_point)\n",
        "    zp_b.append(y)\n"
      ],
      "metadata": {
        "colab": {
          "base_uri": "https://localhost:8080/"
        },
        "id": "U1GS7wKY7N7p",
        "outputId": "b8909874-5777-4b8c-898b-3d6adbd67dd4"
      },
      "execution_count": 16,
      "outputs": [
        {
          "output_type": "stream",
          "name": "stdout",
          "text": [
            "x-axis value of activation function is: 0.7\n",
            "y-axis value corresponding to x-axis is: 0.7\n",
            "x-axis value of activation function is: 0.3999999999999999\n",
            "y-axis value corresponding to x-axis is: 0.3999999999999999\n",
            "x-axis value of activation function is: 0.09999999999999987\n",
            "y-axis value corresponding to x-axis is: 0.09999999999999987\n",
            "x-axis value of activation function is: -0.19999999999999996\n",
            "y-axis value corresponding to x-axis is: 0\n",
            "x-axis value of activation function is: -0.5000000000000002\n",
            "y-axis value corresponding to x-axis is: 0\n",
            "x-axis value of activation function is: -0.8\n",
            "y-axis value corresponding to x-axis is: 0\n",
            "x-axis value of activation function is: 0.78\n",
            "y-axis value corresponding to x-axis is: 0.78\n",
            "x-axis value of activation function is: 0.4799999999999999\n",
            "y-axis value corresponding to x-axis is: 0.4799999999999999\n",
            "x-axis value of activation function is: 0.17999999999999994\n",
            "y-axis value corresponding to x-axis is: 0.17999999999999994\n",
            "x-axis value of activation function is: -0.11999999999999988\n",
            "y-axis value corresponding to x-axis is: 0\n",
            "x-axis value of activation function is: -0.42000000000000015\n",
            "y-axis value corresponding to x-axis is: 0\n",
            "x-axis value of activation function is: -0.72\n",
            "y-axis value corresponding to x-axis is: 0\n",
            "x-axis value of activation function is: 0.86\n",
            "y-axis value corresponding to x-axis is: 0.86\n",
            "x-axis value of activation function is: 0.5599999999999999\n",
            "y-axis value corresponding to x-axis is: 0.5599999999999999\n",
            "x-axis value of activation function is: 0.2599999999999999\n",
            "y-axis value corresponding to x-axis is: 0.2599999999999999\n",
            "x-axis value of activation function is: -0.039999999999999925\n",
            "y-axis value corresponding to x-axis is: 0\n",
            "x-axis value of activation function is: -0.3400000000000001\n",
            "y-axis value corresponding to x-axis is: 0\n",
            "x-axis value of activation function is: -0.6399999999999999\n",
            "y-axis value corresponding to x-axis is: 0\n",
            "x-axis value of activation function is: 0.94\n",
            "y-axis value corresponding to x-axis is: 0.94\n",
            "x-axis value of activation function is: 0.6399999999999999\n",
            "y-axis value corresponding to x-axis is: 0.6399999999999999\n",
            "x-axis value of activation function is: 0.33999999999999986\n",
            "y-axis value corresponding to x-axis is: 0.33999999999999986\n",
            "x-axis value of activation function is: 0.040000000000000036\n",
            "y-axis value corresponding to x-axis is: 0.040000000000000036\n",
            "x-axis value of activation function is: -0.26000000000000023\n",
            "y-axis value corresponding to x-axis is: 0\n",
            "x-axis value of activation function is: -0.56\n",
            "y-axis value corresponding to x-axis is: 0\n",
            "x-axis value of activation function is: 1.02\n",
            "y-axis value corresponding to x-axis is: 1.02\n",
            "x-axis value of activation function is: 0.72\n",
            "y-axis value corresponding to x-axis is: 0.72\n",
            "x-axis value of activation function is: 0.41999999999999993\n",
            "y-axis value corresponding to x-axis is: 0.41999999999999993\n",
            "x-axis value of activation function is: 0.1200000000000001\n",
            "y-axis value corresponding to x-axis is: 0.1200000000000001\n",
            "x-axis value of activation function is: -0.18000000000000016\n",
            "y-axis value corresponding to x-axis is: 0\n",
            "x-axis value of activation function is: -0.48\n",
            "y-axis value corresponding to x-axis is: 0\n",
            "x-axis value of activation function is: 1.1\n",
            "y-axis value corresponding to x-axis is: 1.1\n",
            "x-axis value of activation function is: 0.7999999999999999\n",
            "y-axis value corresponding to x-axis is: 0.7999999999999999\n",
            "x-axis value of activation function is: 0.4999999999999999\n",
            "y-axis value corresponding to x-axis is: 0.4999999999999999\n",
            "x-axis value of activation function is: 0.20000000000000007\n",
            "y-axis value corresponding to x-axis is: 0.20000000000000007\n",
            "x-axis value of activation function is: -0.1000000000000002\n",
            "y-axis value corresponding to x-axis is: 0\n",
            "x-axis value of activation function is: -0.40000000000000013\n",
            "y-axis value corresponding to x-axis is: 0\n"
          ]
        }
      ]
    },
    {
      "cell_type": "code",
      "source": [
        "x2y_scaled = [i*x2w3 for i in zp_b]"
      ],
      "metadata": {
        "id": "yh19NRPh7wAm"
      },
      "execution_count": 17,
      "outputs": []
    },
    {
      "cell_type": "code",
      "source": [
        "draw3d(xp,yp,zp_b, \"Satosa\")"
      ],
      "metadata": {
        "colab": {
          "base_uri": "https://localhost:8080/",
          "height": 552,
          "referenced_widgets": [
            "ce6c73e780ba4dc29792326cae33d0ef",
            "d0dcf6615f074d6d96d9c3025bfa26e2",
            "d611721736ba4f2b88a31ec741c5246b",
            "713fa5723831498aa64f0a24a8ab24d2",
            "541318e165e6432d8c88cfd3ef23ff63",
            "2f530259a0d8473d82f6145a48c06bad",
            "7546f079e6a9412f9dfd4e2d899d973a",
            "67256d56ef3143979dad921ae03c130a",
            "6eeee1bcef9f4cd09283a63e7e930624",
            "b4bd525f030841edbde5cdb8e6b5075b",
            "7addf53a1a7940beac79793643a6a93d",
            "acb126c8f19247f78503cdce44d7d514",
            "8f70423a1c7c4e1990d9a9492a371780",
            "b6dd025c75f240a5ac848424ed891470",
            "1d4c6bc3ae0242d3afcb784e104aed90",
            "781102db00d942cca75c25f85b8012af",
            "17862f53b42640ee9c1a1bb19adcc248"
          ]
        },
        "id": "EdyTSqI27dOu",
        "outputId": "3dbc43b2-a164-4f4f-d670-0a89e9777051"
      },
      "execution_count": 18,
      "outputs": [
        {
          "output_type": "display_data",
          "data": {
            "text/plain": [
              "Html(layout=None, style_='display: none', tag='span')"
            ],
            "application/vnd.jupyter.widget-view+json": {
              "version_major": 2,
              "version_minor": 0,
              "model_id": "ce6c73e780ba4dc29792326cae33d0ef"
            }
          },
          "metadata": {
            "application/vnd.jupyter.widget-view+json": {
              "colab": {
                "custom_widget_manager": {
                  "url": "https://ssl.gstatic.com/colaboratory-static/widgets/colab-cdn-widget-manager/b3e629b1971e1542/manager.min.js"
                }
              }
            }
          }
        },
        {
          "output_type": "display_data",
          "data": {
            "text/plain": [
              "Container(figure=Figure(box_center=[0.5, 0.5, 0.5], box_size=[1.0, 1.0, 1.0], camera=PerspectiveCamera(fov=45.…"
            ],
            "application/vnd.jupyter.widget-view+json": {
              "version_major": 2,
              "version_minor": 0,
              "model_id": "d0dcf6615f074d6d96d9c3025bfa26e2"
            }
          },
          "metadata": {
            "application/vnd.jupyter.widget-view+json": {
              "colab": {
                "custom_widget_manager": {
                  "url": "https://ssl.gstatic.com/colaboratory-static/widgets/colab-cdn-widget-manager/b3e629b1971e1542/manager.min.js"
                }
              }
            }
          }
        }
      ]
    },
    {
      "cell_type": "code",
      "source": [
        "draw3d(xp,yp,x2y_scaled, \"Satosa\")"
      ],
      "metadata": {
        "colab": {
          "base_uri": "https://localhost:8080/",
          "height": 552,
          "referenced_widgets": [
            "f8854c78b8384140a2a77a803f811e79",
            "d3973181100540c090664d21f3094207",
            "e5ecae7cf8b34d65a49e32975f801ad7",
            "713fa5723831498aa64f0a24a8ab24d2",
            "5436f50407b54315a33cdecefa69e065",
            "dedccc11f12944898a464368240636e1",
            "1ca2a7d77eb84e6db832b731b94aaf28",
            "67256d56ef3143979dad921ae03c130a",
            "2fbadaf29aa848b9bdc3b4ef7b70383f",
            "9569f8026feb4c6a864e3475c6d51965",
            "b4c7761ebf664c5c9e36623f59e018d0",
            "2aadc94ce8c848ff98c416354789b88c",
            "8b4302974835453b96609d70a844b05c",
            "ec88b31364e04e98913605e50b4e2337",
            "2a3a053b5e3e403992db2eb8cf5cf06f",
            "06e47bf878bb4ca4b975541664cff1b3",
            "a815e494d78644eda661f43fe6efe08c"
          ]
        },
        "id": "r4Kc3fqu7qv7",
        "outputId": "def1e439-4ee7-43bd-f47f-216431a07969"
      },
      "execution_count": 19,
      "outputs": [
        {
          "output_type": "display_data",
          "data": {
            "text/plain": [
              "Html(layout=None, style_='display: none', tag='span')"
            ],
            "application/vnd.jupyter.widget-view+json": {
              "version_major": 2,
              "version_minor": 0,
              "model_id": "f8854c78b8384140a2a77a803f811e79"
            }
          },
          "metadata": {
            "application/vnd.jupyter.widget-view+json": {
              "colab": {
                "custom_widget_manager": {
                  "url": "https://ssl.gstatic.com/colaboratory-static/widgets/colab-cdn-widget-manager/b3e629b1971e1542/manager.min.js"
                }
              }
            }
          }
        },
        {
          "output_type": "display_data",
          "data": {
            "text/plain": [
              "Container(figure=Figure(box_center=[0.5, 0.5, 0.5], box_size=[1.0, 1.0, 1.0], camera=PerspectiveCamera(fov=45.…"
            ],
            "application/vnd.jupyter.widget-view+json": {
              "version_major": 2,
              "version_minor": 0,
              "model_id": "d3973181100540c090664d21f3094207"
            }
          },
          "metadata": {
            "application/vnd.jupyter.widget-view+json": {
              "colab": {
                "custom_widget_manager": {
                  "url": "https://ssl.gstatic.com/colaboratory-static/widgets/colab-cdn-widget-manager/b3e629b1971e1542/manager.min.js"
                }
              }
            }
          }
        }
      ]
    },
    {
      "cell_type": "markdown",
      "source": [
        "# Setosa final curve\n",
        "\n",
        "Looking at surface, we can see value of setosa is highest when petal width is close to  0.\n",
        "\n",
        "and value for setosa is lowest when Petal width is close to 1\n",
        "\n",
        "> NOTE: we have scalled the inputs between 0 and 1. and thus Petal width = 0 doesn't imply that Petal is 0 cm wide. instead 0 refers to smallest width in the training dataset. likewise 1 means the largest widht in the training dataset."
      ],
      "metadata": {
        "id": "-_PNRLlHY7Kb"
      }
    },
    {
      "cell_type": "code",
      "source": [
        "# final o/p by adding both scaled values\n",
        "\n",
        "final_satosa = [x1y_scaled[i] + x2y_scaled[i] for i in range(0,len(x2y_scaled))]\n",
        "# print(final_satosa)\n",
        "draw3d(xp,yp,final_satosa, \"Satosa\")\n"
      ],
      "metadata": {
        "colab": {
          "base_uri": "https://localhost:8080/",
          "height": 552,
          "referenced_widgets": [
            "24183ecb28794b7f905bcebaa0d450bf",
            "afd792c3c25a4d0c994ce57735d70a11",
            "363df759f50c4fed8d0b7371ddee0071",
            "713fa5723831498aa64f0a24a8ab24d2",
            "84e848bcd4cd40009ffdd31c3d289787",
            "50a1a180461645c9b55f588253ff8c68",
            "7015b2ba693e4a5091ce542780c10358",
            "67256d56ef3143979dad921ae03c130a",
            "d224ba1206bf4293b1b6b81f97a91b7a",
            "b9048769ddf14c45a2f6188c543bf761",
            "33183e9c80714b69b4947bbca6967229",
            "7dd119903c054c02a26082f4a32c9dd9",
            "c4b3d0d355af4aa2a219c74059442f52",
            "bd2e47a03c844e0684e3882970c0f504",
            "c82df9f739004b948529860d02a00827",
            "0dd42c74f4c64011b2a55a383cc8e6aa",
            "f93e5f788ee948b99d96a08ab1b6dfa2"
          ]
        },
        "id": "-TWkkqZZmVks",
        "outputId": "0ba5b65a-e5cc-471d-f2fc-d4fa4a081f49"
      },
      "execution_count": 20,
      "outputs": [
        {
          "output_type": "display_data",
          "data": {
            "text/plain": [
              "Html(layout=None, style_='display: none', tag='span')"
            ],
            "application/vnd.jupyter.widget-view+json": {
              "version_major": 2,
              "version_minor": 0,
              "model_id": "24183ecb28794b7f905bcebaa0d450bf"
            }
          },
          "metadata": {
            "application/vnd.jupyter.widget-view+json": {
              "colab": {
                "custom_widget_manager": {
                  "url": "https://ssl.gstatic.com/colaboratory-static/widgets/colab-cdn-widget-manager/b3e629b1971e1542/manager.min.js"
                }
              }
            }
          }
        },
        {
          "output_type": "display_data",
          "data": {
            "text/plain": [
              "Container(figure=Figure(box_center=[0.5, 0.5, 0.5], box_size=[1.0, 1.0, 1.0], camera=PerspectiveCamera(fov=45.…"
            ],
            "application/vnd.jupyter.widget-view+json": {
              "version_major": 2,
              "version_minor": 0,
              "model_id": "afd792c3c25a4d0c994ce57735d70a11"
            }
          },
          "metadata": {
            "application/vnd.jupyter.widget-view+json": {
              "colab": {
                "custom_widget_manager": {
                  "url": "https://ssl.gstatic.com/colaboratory-static/widgets/colab-cdn-widget-manager/b3e629b1971e1542/manager.min.js"
                }
              }
            }
          }
        }
      ]
    },
    {
      "cell_type": "markdown",
      "source": [
        "# Versicolor\n",
        "\n",
        "We can see in graph when Petal width is close to 0.4 we get high value for versicolor."
      ],
      "metadata": {
        "id": "cKNi6ieLfVOS"
      }
    },
    {
      "cell_type": "code",
      "source": [
        "x1y_scaled = [i*x1w4 for i in zp]\n",
        "x2y_scaled = [i*x2w4 for i in zp_b]\n",
        "\n",
        "final_versicolor = [x1y_scaled[i] + x2y_scaled[i] for i in range(0,len(x2y_scaled))]\n",
        "# print(final_satosa)\n",
        "draw3d(xp,yp,final_versicolor, \"Versicolor\")\n"
      ],
      "metadata": {
        "colab": {
          "base_uri": "https://localhost:8080/",
          "height": 552,
          "referenced_widgets": [
            "b27382dd6a694e6da5b9536034e436bc",
            "8a2d8ff04f6740ffa867ccec2e2bffd5",
            "614f5d2db5604e8daaaa71eb509edcb7",
            "713fa5723831498aa64f0a24a8ab24d2",
            "5e0ff7d1eb9d4272b9861ef7431e768e",
            "20b0989adba94183b7b3f4c50e3291c9",
            "6d9b668cee0c4f509e30f2b47eb13019",
            "67256d56ef3143979dad921ae03c130a",
            "ef4ec8e580164581bf99816283d1a3a6",
            "8cbdf744c53a48c48a84442f8c03a7f3",
            "3913138a74c64c758d8fcf8aaba470ac",
            "c86d81750b394a57bb84de2568bbeea9",
            "6f17a2fea35546cc8ad3aeb8ce533aed",
            "df366fc4d4f4426cad3a2af0515e1ad4",
            "0b86b4f62aba4d37a2164f441fd402af",
            "8e48bb0e5139421497742853f8473ca9",
            "9535b6df18eb4ef9ba61c48d74357f92"
          ]
        },
        "id": "yA6uzq4ofUZ6",
        "outputId": "e20302df-7310-4e1b-d678-a15b681dab71"
      },
      "execution_count": 21,
      "outputs": [
        {
          "output_type": "display_data",
          "data": {
            "text/plain": [
              "Html(layout=None, style_='display: none', tag='span')"
            ],
            "application/vnd.jupyter.widget-view+json": {
              "version_major": 2,
              "version_minor": 0,
              "model_id": "b27382dd6a694e6da5b9536034e436bc"
            }
          },
          "metadata": {
            "application/vnd.jupyter.widget-view+json": {
              "colab": {
                "custom_widget_manager": {
                  "url": "https://ssl.gstatic.com/colaboratory-static/widgets/colab-cdn-widget-manager/b3e629b1971e1542/manager.min.js"
                }
              }
            }
          }
        },
        {
          "output_type": "display_data",
          "data": {
            "text/plain": [
              "Container(figure=Figure(box_center=[0.5, 0.5, 0.5], box_size=[1.0, 1.0, 1.0], camera=PerspectiveCamera(fov=45.…"
            ],
            "application/vnd.jupyter.widget-view+json": {
              "version_major": 2,
              "version_minor": 0,
              "model_id": "8a2d8ff04f6740ffa867ccec2e2bffd5"
            }
          },
          "metadata": {
            "application/vnd.jupyter.widget-view+json": {
              "colab": {
                "custom_widget_manager": {
                  "url": "https://ssl.gstatic.com/colaboratory-static/widgets/colab-cdn-widget-manager/b3e629b1971e1542/manager.min.js"
                }
              }
            }
          }
        }
      ]
    },
    {
      "cell_type": "markdown",
      "source": [
        "# Virginica\n",
        "\n",
        "Diagram shows that when petal width is close to 1 (the widest). Then we will get a high score for Virginica."
      ],
      "metadata": {
        "id": "tEdIINPd9a3f"
      }
    },
    {
      "cell_type": "code",
      "source": [
        "x1y_scaled = [i*x1w5 for i in zp]\n",
        "x2y_scaled = [i*x2w5 for i in zp_b]\n",
        "\n",
        "final_virginica = [x1y_scaled[i] + x2y_scaled[i] + 1 for i in range(0,len(x2y_scaled))]\n",
        "# print(final_satosa)\n",
        "draw3d(xp,yp,final_virginica, \"Virginica\")"
      ],
      "metadata": {
        "colab": {
          "base_uri": "https://localhost:8080/",
          "height": 552,
          "referenced_widgets": [
            "79f560a2fa0a4c0db9a54f3d77b195b0",
            "4f5274a2bb6442cca0f165e53c383b07",
            "dda274996c1c4e9c8603e90edceb2129",
            "713fa5723831498aa64f0a24a8ab24d2",
            "35da5abbbc514249820fa08c28738b52",
            "4ece11b0950f485881d56c4e5864916e",
            "7e8e529296bb4520982614b26b3ba184",
            "67256d56ef3143979dad921ae03c130a",
            "a76e71afc1874c099f7bc5c63634de22",
            "babb241c925443728262c451fad461f4",
            "4908816fcd514d7098545544f9b7dd14",
            "fae88d5a2f70442bafe450966721293b",
            "ac8c493196f64ecca787fd128119870c",
            "4d4ca6e1324c42d8aa6f59e398bfda0f",
            "ada3c7e5f3a84de68650fa02301cf1ae",
            "0b1b9fe5102546d58fa26c677dc3be91",
            "ad113286dea84f37a63216eee593824a"
          ]
        },
        "id": "Wm52o2F89ag7",
        "outputId": "d0f95d54-9aa8-4169-c888-884c02ad6503"
      },
      "execution_count": 22,
      "outputs": [
        {
          "output_type": "display_data",
          "data": {
            "text/plain": [
              "Html(layout=None, style_='display: none', tag='span')"
            ],
            "application/vnd.jupyter.widget-view+json": {
              "version_major": 2,
              "version_minor": 0,
              "model_id": "79f560a2fa0a4c0db9a54f3d77b195b0"
            }
          },
          "metadata": {
            "application/vnd.jupyter.widget-view+json": {
              "colab": {
                "custom_widget_manager": {
                  "url": "https://ssl.gstatic.com/colaboratory-static/widgets/colab-cdn-widget-manager/b3e629b1971e1542/manager.min.js"
                }
              }
            }
          }
        },
        {
          "output_type": "display_data",
          "data": {
            "text/plain": [
              "Container(figure=Figure(box_center=[0.5, 0.5, 0.5], box_size=[1.0, 1.0, 1.0], camera=PerspectiveCamera(fov=45.…"
            ],
            "application/vnd.jupyter.widget-view+json": {
              "version_major": 2,
              "version_minor": 0,
              "model_id": "4f5274a2bb6442cca0f165e53c383b07"
            }
          },
          "metadata": {
            "application/vnd.jupyter.widget-view+json": {
              "colab": {
                "custom_widget_manager": {
                  "url": "https://ssl.gstatic.com/colaboratory-static/widgets/colab-cdn-widget-manager/b3e629b1971e1542/manager.min.js"
                }
              }
            }
          }
        }
      ]
    },
    {
      "cell_type": "markdown",
      "source": [
        "# Final neural net for prediction\n"
      ],
      "metadata": {
        "id": "J52Obt9AMDyc"
      }
    },
    {
      "cell_type": "code",
      "source": [],
      "metadata": {
        "id": "OIw1HP_MrMA0"
      },
      "execution_count": 22,
      "outputs": []
    },
    {
      "cell_type": "code",
      "source": [
        "y1 = top_node(pw=0.5, sw=0.37)\n",
        "y2 = bottom_node(pw=0.5, sw=0.37)\n",
        "\n",
        "setosa_val = (y1*x1w3) + (y2*x2w3) + 0\n",
        "versicolor_val = (y1*x1w4) + (y2*x2w4) + 0\n",
        "virginica = (y1*x1w5) + (y2*x2w5) + 1\n",
        "\n",
        "print(f\"Inputs: Petal width = 0.5, Sepal Width = 0.37\")\n",
        "print(f\"Outputs: \\n Setosa = {setosa_val} \\n Versicolor = {versicolor_val} \\n Virginica = {virginica}\")"
      ],
      "metadata": {
        "colab": {
          "base_uri": "https://localhost:8080/"
        },
        "id": "NbQg8cjAskgy",
        "outputId": "5da1c6c7-1cd1-4d33-e437-f3d8a7a1bd12"
      },
      "execution_count": 23,
      "outputs": [
        {
          "output_type": "stream",
          "name": "stdout",
          "text": [
            "x-axis value of activation function is: 0.09799999999999998\n",
            "y-axis value corresponding to x-axis is: 0.09799999999999998\n",
            "Inputs: Petal width = 0.5, Sepal Width = 0.37\n",
            "Outputs: \n",
            " Setosa = 0.08979999999999996 \n",
            " Versicolor = 0.8632000000000001 \n",
            " Virginica = 0.10419999999999974\n"
          ]
        }
      ]
    },
    {
      "cell_type": "markdown",
      "source": [
        "As we can see from results versicolor's value is close to 1 so this sample belongs to class versicolor\n",
        "\n",
        "\n",
        "\n",
        "Usually when two or more output nodes the output values are sent to either something called Argmax or Softmax before a final decision is made\n",
        "\n",
        "# 🔥🎉"
      ],
      "metadata": {
        "id": "K_PpaZTbSwBW"
      }
    },
    {
      "cell_type": "code",
      "source": [],
      "metadata": {
        "id": "sj3Upq_5SrNn"
      },
      "execution_count": 23,
      "outputs": []
    }
  ]
}