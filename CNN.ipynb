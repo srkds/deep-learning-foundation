{
  "nbformat": 4,
  "nbformat_minor": 0,
  "metadata": {
    "colab": {
      "provenance": []
    },
    "kernelspec": {
      "name": "python3",
      "display_name": "Python 3"
    },
    "language_info": {
      "name": "python"
    }
  },
  "cells": [
    {
      "cell_type": "markdown",
      "source": [
        "# Convolutional Neural Networks (CNNs)\n",
        "\n",
        "## Prerequisite\n",
        "\n",
        "Working of NN.\n",
        "\n",
        "## Theory\n",
        "\n",
        "Assume that we are playing Tic-tac-toe. how computer would recognize that we draw latter `o` or `x`."
      ],
      "metadata": {
        "id": "N_fPo1GhjKYC"
      }
    },
    {
      "cell_type": "code",
      "source": [
        "import numpy as np"
      ],
      "metadata": {
        "id": "gPnQ3BMTUDvI"
      },
      "execution_count": null,
      "outputs": []
    },
    {
      "cell_type": "code",
      "execution_count": null,
      "metadata": {
        "id": "JYN8i7PjI-Q3"
      },
      "outputs": [],
      "source": [
        "o = np.array([[0,0,1,1,0,0],\n",
        "     [0,1,0,0,1,0],\n",
        "     [1,0,0,0,0,1],\n",
        "     [1,0,0,0,0,1],\n",
        "     [0,1,0,0,1,0],\n",
        "     [0,0,1,1,0,0],])\n",
        "\n",
        "\n",
        "x = np.array([[1,0,0,0,0,1],\n",
        "     [0,1,0,0,1,0],\n",
        "     [0,0,1,1,0,0],\n",
        "     [0,0,1,1,0,0],\n",
        "     [0,1,0,0,1,0],\n",
        "     [1,0,0,0,0,1],])\n",
        "\n",
        "filter = np.array([[0,0,1],\n",
        "          [0,1,0],\n",
        "          [1,0,0],])\n",
        "\n",
        "featureMap = [[0,0,0,0,],\n",
        "              [0,0,0,0,],\n",
        "              [0,0,0,0,],\n",
        "              [0,0,0,0,],]"
      ]
    },
    {
      "cell_type": "code",
      "source": [
        "o[1:1+3,3:3+3]"
      ],
      "metadata": {
        "colab": {
          "base_uri": "https://localhost:8080/"
        },
        "id": "fkyjlP5HTh3f",
        "outputId": "195f2984-f4b8-4bf9-ef7d-92cdc6d42dcb"
      },
      "execution_count": null,
      "outputs": [
        {
          "output_type": "execute_result",
          "data": {
            "text/plain": [
              "array([[0, 1, 0],\n",
              "       [0, 0, 1],\n",
              "       [0, 0, 1]])"
            ]
          },
          "metadata": {},
          "execution_count": 31
        }
      ]
    },
    {
      "cell_type": "code",
      "source": [],
      "metadata": {
        "id": "M3y_nD-9kh0S"
      },
      "execution_count": null,
      "outputs": []
    },
    {
      "cell_type": "code",
      "source": [
        "kernal_size = 3\n",
        "finalsum = 0\n",
        "for i in range(0,4):\n",
        "  for j in range(0,4):\n",
        "    current = o[i:i+kernal_size,j:j+kernal_size]\n",
        "    finalsum = sum(sum(current*filter))\n",
        "    featureMap[i][j] = finalsum + (-2)"
      ],
      "metadata": {
        "id": "OFBR9bHfNyIA"
      },
      "execution_count": null,
      "outputs": []
    },
    {
      "cell_type": "code",
      "source": [
        "featureMap"
      ],
      "metadata": {
        "colab": {
          "base_uri": "https://localhost:8080/"
        },
        "id": "DIhuzSdvRPGm",
        "outputId": "e286022d-886b-4c58-f63b-a0bb3f13c171"
      },
      "execution_count": null,
      "outputs": [
        {
          "output_type": "execute_result",
          "data": {
            "text/plain": [
              "[[1, -1, -2, -1], [-1, -2, -1, -2], [-2, -1, -2, -1], [-1, -2, -1, 1]]"
            ]
          },
          "metadata": {},
          "execution_count": 33
        }
      ]
    },
    {
      "cell_type": "code",
      "source": [
        "def ReLU(x):\n",
        "  out = np.maximum(0,x)\n",
        "  return out"
      ],
      "metadata": {
        "id": "NTR37W9hWTTg"
      },
      "execution_count": null,
      "outputs": []
    },
    {
      "cell_type": "code",
      "source": [
        "relu_op = ReLU(featureMap)"
      ],
      "metadata": {
        "id": "FuaMNjlQaCIy"
      },
      "execution_count": null,
      "outputs": []
    },
    {
      "cell_type": "code",
      "source": [
        "relu_op"
      ],
      "metadata": {
        "colab": {
          "base_uri": "https://localhost:8080/"
        },
        "id": "2xgFGIdKaIFj",
        "outputId": "3c79289f-48dc-45ae-aa93-c0881bff1ba3"
      },
      "execution_count": null,
      "outputs": [
        {
          "output_type": "execute_result",
          "data": {
            "text/plain": [
              "array([[1, 0, 0, 0],\n",
              "       [0, 0, 0, 0],\n",
              "       [0, 0, 0, 0],\n",
              "       [0, 0, 0, 1]])"
            ]
          },
          "metadata": {},
          "execution_count": 36
        }
      ]
    },
    {
      "cell_type": "code",
      "source": [
        "max_pool = []\n",
        "max_pool"
      ],
      "metadata": {
        "colab": {
          "base_uri": "https://localhost:8080/"
        },
        "id": "BybTQMN0aSVR",
        "outputId": "97b65e31-d1a1-423c-a420-1c24148b003f"
      },
      "execution_count": null,
      "outputs": [
        {
          "output_type": "execute_result",
          "data": {
            "text/plain": [
              "[]"
            ]
          },
          "metadata": {},
          "execution_count": 37
        }
      ]
    },
    {
      "cell_type": "code",
      "source": [
        "max_pool_size = 2\n",
        "for i in range(0,4,2):\n",
        "  for j in range(0,4,2):\n",
        "    current = relu_op[i:i+max_pool_size,j:j+max_pool_size]\n",
        "    max_pool.append(current.max())\n",
        "\n",
        "max_pool"
      ],
      "metadata": {
        "colab": {
          "base_uri": "https://localhost:8080/"
        },
        "id": "ZOKEsR38bFAA",
        "outputId": "e4bdeab4-3367-4f89-c9b7-358a11cb78a5"
      },
      "execution_count": null,
      "outputs": [
        {
          "output_type": "execute_result",
          "data": {
            "text/plain": [
              "[1, 0, 0, 1]"
            ]
          },
          "metadata": {},
          "execution_count": 38
        }
      ]
    },
    {
      "cell_type": "code",
      "source": [
        "max_pool = np.array(max_pool).reshape(2,2)\n",
        "max_pool"
      ],
      "metadata": {
        "colab": {
          "base_uri": "https://localhost:8080/"
        },
        "id": "nZ3ov6-Xd3Gv",
        "outputId": "b05b5a94-b3d9-41a5-d754-d275c89595b0"
      },
      "execution_count": null,
      "outputs": [
        {
          "output_type": "execute_result",
          "data": {
            "text/plain": [
              "array([[1, 0],\n",
              "       [0, 1]])"
            ]
          },
          "metadata": {},
          "execution_count": 39
        }
      ]
    },
    {
      "cell_type": "code",
      "source": [
        "max_pool = np.array(max_pool).reshape(4)"
      ],
      "metadata": {
        "id": "31E0ZHDthKYT"
      },
      "execution_count": null,
      "outputs": []
    },
    {
      "cell_type": "code",
      "source": [
        "max_pool"
      ],
      "metadata": {
        "colab": {
          "base_uri": "https://localhost:8080/"
        },
        "id": "ZEuT6fR1hTi2",
        "outputId": "9a162400-e26b-442c-c9ca-6b3224fcb55c"
      },
      "execution_count": null,
      "outputs": [
        {
          "output_type": "execute_result",
          "data": {
            "text/plain": [
              "array([1, 0, 0, 1])"
            ]
          },
          "metadata": {},
          "execution_count": 41
        }
      ]
    },
    {
      "cell_type": "markdown",
      "source": [
        "# NN"
      ],
      "metadata": {
        "id": "yVA1FiN1fnhM"
      }
    },
    {
      "cell_type": "code",
      "source": [
        "w1 = -0.8\n",
        "w2 = -0.07\n",
        "w3 = 0.2\n",
        "w4 = 0.17\n",
        "b1 = 0.97\n",
        "\n",
        "w5 = -1.33\n",
        "w6 = 1.33\n",
        "b2 = 1.45\n",
        "b3 = -0.45"
      ],
      "metadata": {
        "id": "1yIstOnyd9-z"
      },
      "execution_count": null,
      "outputs": []
    },
    {
      "cell_type": "code",
      "source": [
        "def createFeatureMap(img):\n",
        "  featureMap = [[0,0,0,0,],\n",
        "              [0,0,0,0,],\n",
        "              [0,0,0,0,],\n",
        "              [0,0,0,0,],]\n",
        "  kernal_size = 3\n",
        "  finalsum = 0\n",
        "  for i in range(0,4):\n",
        "    for j in range(0,4):\n",
        "      current = img[i:i+kernal_size,j:j+kernal_size]\n",
        "      finalsum = sum(sum(current*filter))\n",
        "      featureMap[i][j] = finalsum + (-2)\n",
        "  return featureMap\n",
        "\n",
        "def createMaxPool(op_of_relu):\n",
        "  max_pool = []\n",
        "  max_pool_size = 2\n",
        "  for i in range(0,4,2):\n",
        "    for j in range(0,4,2):\n",
        "      current = op_of_relu[i:i+max_pool_size,j:j+max_pool_size]\n",
        "      max_pool.append(current.max())\n",
        "  return max_pool"
      ],
      "metadata": {
        "id": "hfsQA9WAlWBH"
      },
      "execution_count": null,
      "outputs": []
    },
    {
      "cell_type": "code",
      "source": [
        "def nn(ip):\n",
        "  x_af = (ip[0]*w1) + (ip[1]*w2) + (ip[2]*w3) + (ip[3]*w4) + b1\n",
        "  y_af = max(0,x_af) # relu\n",
        "  class_o = (y_af*w5) + b2\n",
        "  class_x = (y_af*w6) + b3\n",
        "  return class_o,class_x\n"
      ],
      "metadata": {
        "id": "6iPyfhn_gcxo"
      },
      "execution_count": null,
      "outputs": []
    },
    {
      "cell_type": "code",
      "source": [
        "nn(max_pool)"
      ],
      "metadata": {
        "colab": {
          "base_uri": "https://localhost:8080/"
        },
        "id": "4ctb8uHhh6Lz",
        "outputId": "fe5abb7a-178f-4705-e180-d6b161774631"
      },
      "execution_count": null,
      "outputs": [
        {
          "output_type": "execute_result",
          "data": {
            "text/plain": [
              "(0.9978, 0.0021999999999999797)"
            ]
          },
          "metadata": {},
          "execution_count": 45
        }
      ]
    },
    {
      "cell_type": "code",
      "source": [
        "x_of_af = createFeatureMap(x)"
      ],
      "metadata": {
        "id": "ELRpKvl4h9Tm"
      },
      "execution_count": null,
      "outputs": []
    },
    {
      "cell_type": "code",
      "source": [
        "y_of_af = ReLU(x_of_af)\n",
        "max_pool = createMaxPool(y_of_af)\n",
        "nn(max_pool)"
      ],
      "metadata": {
        "colab": {
          "base_uri": "https://localhost:8080/"
        },
        "id": "SdzJAs3DmZhr",
        "outputId": "d94d22d6-74d9-4818-ff77-e3f151bd5658"
      },
      "execution_count": null,
      "outputs": [
        {
          "output_type": "execute_result",
          "data": {
            "text/plain": [
              "(-0.013000000000000345, 1.0130000000000003)"
            ]
          },
          "metadata": {},
          "execution_count": 49
        }
      ]
    },
    {
      "cell_type": "code",
      "source": [],
      "metadata": {
        "id": "LlgLP6a5mqKb"
      },
      "execution_count": null,
      "outputs": []
    }
  ]
}